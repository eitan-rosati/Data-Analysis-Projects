{
 "cells": [
  {
   "cell_type": "markdown",
   "metadata": {},
   "source": [
    "# Integrated Project"
   ]
  },
  {
   "cell_type": "markdown",
   "metadata": {},
   "source": [
    "## Games Dataset Analysis <a class=\"anchor\" id=\"chapter1\"></a>"
   ]
  },
  {
   "cell_type": "markdown",
   "metadata": {},
   "source": [
    "1. **Project Description**<br>\n",
    "    \n",
    "    We work for the online store Ice, which sells video games all over the world. User and expert reviews, genres, platforms (e.g. Xbox or PlayStation), and historical data on game sales are available from open sources.<br> \n",
    "    Our goal is to identify patterns that determine whether a game succeeds or not. This will allow us to spot potential big winners and plan advertising campaigns.\n",
    "    In front of us there is data that going back to 2016. Let’s imagine that it’s December 2016 and we planning a campaign for 2017.<br>\n",
    "    The dataset contains the abbreviation ESRB. The Entertainment Software Rating Board evaluates a game's content and assigns an age rating such as Teen or Mature.<br>\n",
    "    In the project we will do those steps to understand our data:\n",
    "    * Read the dataset and check his general information before we start\n",
    "    * Data Preprocessing - Prepare the dataset to the analysis by filling his missing values, convert the types of the columns and fix mistakes.\n",
    "    * Analyze the data - check how some atributes influence other, Get insights about our data and try to predict the future from the past.\n",
    "    * Create a user profile for each region - for each region we will check what is popular and we will check the differnces between them.\n",
    "    * Test 2 hypotheses\n",
    "    \n",
    "\n",
    "\n",
    "2. **Data description**\n",
    "* Name (of the game)\n",
    "* Platform\n",
    "* Year_of_Release\n",
    "* Genre\n",
    "* NA_sales (North American sales in USD million)\n",
    "* EU_sales (sales in Europe in USD million)\n",
    "* JP_sales (sales in Japan in USD million)\n",
    "* Other_sales (sales in other countries in USD million)\n",
    "* Critic_Score (maximum of 100)\n",
    "* User_Score (maximum of 10)\n",
    "* Rating (ESRB)\n",
    "\n Link to the dataset: [games.csv](https://code.s3.yandex.net/datasets/games.csv)"
   ]
  },
  {
   "cell_type": "markdown",
   "metadata": {},
   "source": [
    "## Open the data file and study his general information "
   ]
  },
  {
   "cell_type": "code",
   "execution_count": 46,
   "metadata": {},
   "outputs": [],
   "source": [
    "# Import packages:\n",
    "\n",
    "import pandas as pd\n",
    "import matplotlib.pyplot as plt\n",
    "import math\n",
    "import seaborn as sns\n",
    "import numpy as np\n",
    "from scipy import stats as st\n",
    "import warnings"
   ]
  },
  {
   "cell_type": "code",
   "execution_count": 47,
   "metadata": {},
   "outputs": [
    {
     "name": "stdout",
     "output_type": "stream",
     "text": [
      "<class 'pandas.core.frame.DataFrame'>\n",
      "RangeIndex: 16715 entries, 0 to 16714\n",
      "Data columns (total 11 columns):\n",
      " #   Column           Non-Null Count  Dtype  \n",
      "---  ------           --------------  -----  \n",
      " 0   Name             16713 non-null  object \n",
      " 1   Platform         16715 non-null  object \n",
      " 2   Year_of_Release  16446 non-null  float64\n",
      " 3   Genre            16713 non-null  object \n",
      " 4   NA_sales         16715 non-null  float64\n",
      " 5   EU_sales         16715 non-null  float64\n",
      " 6   JP_sales         16715 non-null  float64\n",
      " 7   Other_sales      16715 non-null  float64\n",
      " 8   Critic_Score     8137 non-null   float64\n",
      " 9   User_Score       10014 non-null  object \n",
      " 10  Rating           9949 non-null   object \n",
      "dtypes: float64(6), object(5)\n",
      "memory usage: 1.4+ MB\n",
      "Check missing values:\n",
      "\n",
      "                 missing_values  % of total\n",
      "Critic_Score               8578       51.32\n",
      "Rating                     6766       40.48\n",
      "User_Score                 6701       40.09\n",
      "Year_of_Release             269        1.61\n",
      "Name                          2        0.01\n",
      "Genre                         2        0.01\n",
      "Platform                      0        0.00\n",
      "NA_sales                      0        0.00\n",
      "EU_sales                      0        0.00\n",
      "JP_sales                      0        0.00\n",
      "Other_sales                   0        0.00 \n",
      "\n",
      "The dataframe don't have duplicated rows.\n",
      "\n"
     ]
    },
    {
     "data": {
      "text/html": [
       "<div>\n",
       "<style scoped>\n",
       "    .dataframe tbody tr th:only-of-type {\n",
       "        vertical-align: middle;\n",
       "    }\n",
       "\n",
       "    .dataframe tbody tr th {\n",
       "        vertical-align: top;\n",
       "    }\n",
       "\n",
       "    .dataframe thead th {\n",
       "        text-align: right;\n",
       "    }\n",
       "</style>\n",
       "<table border=\"1\" class=\"dataframe\">\n",
       "  <thead>\n",
       "    <tr style=\"text-align: right;\">\n",
       "      <th></th>\n",
       "      <th>Name</th>\n",
       "      <th>Platform</th>\n",
       "      <th>Year_of_Release</th>\n",
       "      <th>Genre</th>\n",
       "      <th>NA_sales</th>\n",
       "      <th>EU_sales</th>\n",
       "      <th>JP_sales</th>\n",
       "      <th>Other_sales</th>\n",
       "      <th>Critic_Score</th>\n",
       "      <th>User_Score</th>\n",
       "      <th>Rating</th>\n",
       "    </tr>\n",
       "  </thead>\n",
       "  <tbody>\n",
       "    <tr>\n",
       "      <th>0</th>\n",
       "      <td>Wii Sports</td>\n",
       "      <td>Wii</td>\n",
       "      <td>2006.0</td>\n",
       "      <td>Sports</td>\n",
       "      <td>41.36</td>\n",
       "      <td>28.96</td>\n",
       "      <td>3.77</td>\n",
       "      <td>8.45</td>\n",
       "      <td>76.0</td>\n",
       "      <td>8</td>\n",
       "      <td>E</td>\n",
       "    </tr>\n",
       "    <tr>\n",
       "      <th>1</th>\n",
       "      <td>Super Mario Bros.</td>\n",
       "      <td>NES</td>\n",
       "      <td>1985.0</td>\n",
       "      <td>Platform</td>\n",
       "      <td>29.08</td>\n",
       "      <td>3.58</td>\n",
       "      <td>6.81</td>\n",
       "      <td>0.77</td>\n",
       "      <td>NaN</td>\n",
       "      <td>NaN</td>\n",
       "      <td>NaN</td>\n",
       "    </tr>\n",
       "    <tr>\n",
       "      <th>2</th>\n",
       "      <td>Mario Kart Wii</td>\n",
       "      <td>Wii</td>\n",
       "      <td>2008.0</td>\n",
       "      <td>Racing</td>\n",
       "      <td>15.68</td>\n",
       "      <td>12.76</td>\n",
       "      <td>3.79</td>\n",
       "      <td>3.29</td>\n",
       "      <td>82.0</td>\n",
       "      <td>8.3</td>\n",
       "      <td>E</td>\n",
       "    </tr>\n",
       "    <tr>\n",
       "      <th>3</th>\n",
       "      <td>Wii Sports Resort</td>\n",
       "      <td>Wii</td>\n",
       "      <td>2009.0</td>\n",
       "      <td>Sports</td>\n",
       "      <td>15.61</td>\n",
       "      <td>10.93</td>\n",
       "      <td>3.28</td>\n",
       "      <td>2.95</td>\n",
       "      <td>80.0</td>\n",
       "      <td>8</td>\n",
       "      <td>E</td>\n",
       "    </tr>\n",
       "    <tr>\n",
       "      <th>4</th>\n",
       "      <td>Pokemon Red/Pokemon Blue</td>\n",
       "      <td>GB</td>\n",
       "      <td>1996.0</td>\n",
       "      <td>Role-Playing</td>\n",
       "      <td>11.27</td>\n",
       "      <td>8.89</td>\n",
       "      <td>10.22</td>\n",
       "      <td>1.00</td>\n",
       "      <td>NaN</td>\n",
       "      <td>NaN</td>\n",
       "      <td>NaN</td>\n",
       "    </tr>\n",
       "  </tbody>\n",
       "</table>\n",
       "</div>"
      ],
      "text/plain": [
       "                       Name Platform  Year_of_Release         Genre  NA_sales  \\\n",
       "0                Wii Sports      Wii           2006.0        Sports     41.36   \n",
       "1         Super Mario Bros.      NES           1985.0      Platform     29.08   \n",
       "2            Mario Kart Wii      Wii           2008.0        Racing     15.68   \n",
       "3         Wii Sports Resort      Wii           2009.0        Sports     15.61   \n",
       "4  Pokemon Red/Pokemon Blue       GB           1996.0  Role-Playing     11.27   \n",
       "\n",
       "   EU_sales  JP_sales  Other_sales  Critic_Score User_Score Rating  \n",
       "0     28.96      3.77         8.45          76.0          8      E  \n",
       "1      3.58      6.81         0.77           NaN        NaN    NaN  \n",
       "2     12.76      3.79         3.29          82.0        8.3      E  \n",
       "3     10.93      3.28         2.95          80.0          8      E  \n",
       "4      8.89     10.22         1.00           NaN        NaN    NaN  "
      ]
     },
     "metadata": {},
     "output_type": "display_data"
    }
   ],
   "source": [
    "# Read the csv file:\n",
    "games_data = pd.read_csv('games.csv') \n",
    "\n",
    "# Check dataset info:\n",
    "games_data.info()\n",
    "\n",
    "# Check the missing data propotion:\n",
    "print('Check missing values:\\n') \n",
    "report = games_data.isna().sum().to_frame()\n",
    "report = report.rename(columns = {0: 'missing_values'})\n",
    "report['% of total'] = (report['missing_values'] / games_data.shape[0]).round(4)*100\n",
    "report.sort_values(by = 'missing_values', ascending = False,inplace =True)\n",
    "print(report,'\\n')\n",
    "\n",
    "# Check duplicates:\n",
    "if games_data.duplicated().sum() != 0:\n",
    "    print(\"The dataframe have duplicated rows.\\n\")\n",
    "else:\n",
    "    print(\"The dataframe don't have duplicated rows.\\n\")\n",
    "\n",
    "\n",
    "# Display the game_data dataframe\n",
    "display(games_data.head())\n"
   ]
  },
  {
   "cell_type": "markdown",
   "metadata": {},
   "source": [
    "### Conclusion "
   ]
  },
  {
   "cell_type": "markdown",
   "metadata": {},
   "source": [
    "In this chapter we done the following steps:\n",
    "1. *Read the dataset* - Open the games.csv file and save in a local variable. \n",
    "2. *Check missing values propotion* - For each column we have checked the percentage of the missing values in data. the\n",
    "   columns with missing values are:\n",
    "   * Critic_Score - 8578 missing values that are 51.32% of the column data(high precentage of missing values).\n",
    "   * Rating - 6766 missing values that are 40.48% of the column data(high precentage of missing values).\n",
    "   * User_Score - 6701 missing values that are 40.09% of the column data(high precentage of missing values).\n",
    "   * Year_of_Release - 269 missing values that are 1.61% of the column data(really small precentage of missing values).\n",
    "   * Name - 2 missing values that are 0.01% of the column data(really small precentage of missing values).\n",
    "   * Genre - 2 missing values that are 0.01% of the column data(really small precentage of missing values).\n",
    "   \n",
    "3. *Check for duplicated rows* - We have checked if our dataset have duplicates rows. The result - No duplicated rows.\n",
    "4. *Display the table*"
   ]
  },
  {
   "cell_type": "markdown",
   "metadata": {},
   "source": [
    "## Data Processing"
   ]
  },
  {
   "cell_type": "markdown",
   "metadata": {},
   "source": [
    "### Fill the columns which contain missing values"
   ]
  },
  {
   "cell_type": "code",
   "execution_count": 48,
   "metadata": {},
   "outputs": [],
   "source": [
    "# Functions for the missing values handling:\n",
    "def set_user_score(data):\n",
    "    '''Calculate the user_score missing values with this formulas:\n",
    "       1. user_score = 0.5* (critic_score/10) + formula 2(a=b=c=0.25), use when critic_score!=null \n",
    "       2. user_score = a * (median based platform)  + c * (median based rating), a=c=0.5\n",
    "           and the medians are different than null\n",
    "       data indexes:\n",
    "       0.Name              1.Platform          2.Year_of_Release   \n",
    "       3.Genre             4.NA_sales          5.EU_sales   \n",
    "       6.JP_sales          7.Other_sales       8.Critic_Score\n",
    "                9.User_Score            10.Rating     \n",
    "    '''\n",
    "    # convert tbd to nan:\n",
    "    if data[9]=='tbd':\n",
    "        return math.nan\n",
    "    \n",
    "    # if theres a valid user_score return it.\n",
    "    if data[9]==data[9]:\n",
    "        return data[9]\n",
    "    \n",
    "    # calculate averages:\n",
    "    median_based_platform = user_median_by_platform[data[1]]\n",
    "    median_based_rating = user_median_by_rating[data[10]]\n",
    "    # check that the averges are not nan if they are they not influence\n",
    "    l = []\n",
    "    if median_based_platform == median_based_platform:\n",
    "        l.append(median_based_platform)\n",
    "    if median_based_rating == median_based_rating:\n",
    "        l.append(median_based_rating)\n",
    "    res=0\n",
    "    average_influence = 1\n",
    "    if data[8]==data[8]:\n",
    "        if len(l)==2:\n",
    "            res = 0.5* float(data[8])/10  \n",
    "            average_influence = 0.25\n",
    "        elif len(l)==1:   \n",
    "            res = 0.6* float(data[8])/10  \n",
    "            average_influence = 0.4\n",
    "        else:\n",
    "            return data[8]\n",
    "    \n",
    "    elif len(l)>0:\n",
    "        average_influence = average_influence/len(l)\n",
    "    \n",
    "    # calculate result\n",
    "    for i in l:\n",
    "        res+= average_influence * i\n",
    "    return res\n",
    "\n",
    "\n",
    "\n",
    "def set_critic_score(data):\n",
    "    '''Calculate an estimation of the critic_score missing values with this formulas:\n",
    "       1. critic_score = 0.4* (user_score*10) + formula 2(a=b=c=0.2), use when user_score != null \n",
    "       2. critic_score = a * (median based platform) + b * (median based genre) + c * (median based rating), a=c=b=0.333333\n",
    "           and the medians are different than null\n",
    "       data indexes:\n",
    "       0.Name              1.Platform          2.Year_of_Release   \n",
    "       3.Genre             4.NA_sales          5.EU_sales   \n",
    "       6.JP_sales          7.Other_sales       8.Critic_Score\n",
    "                9.User_Score            10.Rating     \n",
    "    '''\n",
    "    # if theres a valid critic_score return it.\n",
    "    if data[8]==data[8]:\n",
    "        return data[8]\n",
    "    \n",
    "    # calculate averages:\n",
    "    median_based_platform = critic_median_by_platform[data[1]]\n",
    "    median_based_rating = critic_median_by_rating[data[10]]\n",
    "    # check that the averges are not nan if they are they not influence\n",
    "    l = []\n",
    "    if median_based_platform == median_based_platform:\n",
    "        l.append(median_based_platform)\n",
    "    if median_based_rating == median_based_rating:\n",
    "        l.append(median_based_rating)\n",
    "    \n",
    "    res=0\n",
    "    average_influence = 1\n",
    "    \n",
    "    if data[9]==data[9]:\n",
    "        if len(l)==2:\n",
    "            res = 0.5* float(data[9])*10  \n",
    "            average_influence = 0.25\n",
    "        elif len(l)==1:   \n",
    "            res = 0.6* float(data[9])*10\n",
    "            average_influence = 0.4\n",
    "        else:\n",
    "            return float(data[9])\n",
    "    \n",
    "    elif len(l)>0:\n",
    "        average_influence = average_influence/len(l)\n",
    "    \n",
    "    # calculate result\n",
    "    for i in l:\n",
    "        res+= average_influence * i\n",
    "    return res\n"
   ]
  },
  {
   "cell_type": "code",
   "execution_count": 49,
   "metadata": {},
   "outputs": [
    {
     "name": "stdout",
     "output_type": "stream",
     "text": [
      "The rows with missing values at the Name and Genre columns\n"
     ]
    },
    {
     "data": {
      "text/html": [
       "<div>\n",
       "<style scoped>\n",
       "    .dataframe tbody tr th:only-of-type {\n",
       "        vertical-align: middle;\n",
       "    }\n",
       "\n",
       "    .dataframe tbody tr th {\n",
       "        vertical-align: top;\n",
       "    }\n",
       "\n",
       "    .dataframe thead th {\n",
       "        text-align: right;\n",
       "    }\n",
       "</style>\n",
       "<table border=\"1\" class=\"dataframe\">\n",
       "  <thead>\n",
       "    <tr style=\"text-align: right;\">\n",
       "      <th></th>\n",
       "      <th>name</th>\n",
       "      <th>platform</th>\n",
       "      <th>year_of_release</th>\n",
       "      <th>genre</th>\n",
       "      <th>na_sales</th>\n",
       "      <th>eu_sales</th>\n",
       "      <th>jp_sales</th>\n",
       "      <th>other_sales</th>\n",
       "      <th>critic_score</th>\n",
       "      <th>user_score</th>\n",
       "      <th>rating</th>\n",
       "    </tr>\n",
       "  </thead>\n",
       "  <tbody>\n",
       "    <tr>\n",
       "      <th>659</th>\n",
       "      <td>NaN</td>\n",
       "      <td>GEN</td>\n",
       "      <td>1993.0</td>\n",
       "      <td>NaN</td>\n",
       "      <td>1.78</td>\n",
       "      <td>0.53</td>\n",
       "      <td>0.00</td>\n",
       "      <td>0.08</td>\n",
       "      <td>NaN</td>\n",
       "      <td>NaN</td>\n",
       "      <td>NaN</td>\n",
       "    </tr>\n",
       "    <tr>\n",
       "      <th>14244</th>\n",
       "      <td>NaN</td>\n",
       "      <td>GEN</td>\n",
       "      <td>1993.0</td>\n",
       "      <td>NaN</td>\n",
       "      <td>0.00</td>\n",
       "      <td>0.00</td>\n",
       "      <td>0.03</td>\n",
       "      <td>0.00</td>\n",
       "      <td>NaN</td>\n",
       "      <td>NaN</td>\n",
       "      <td>NaN</td>\n",
       "    </tr>\n",
       "  </tbody>\n",
       "</table>\n",
       "</div>"
      ],
      "text/plain": [
       "      name platform  year_of_release genre  na_sales  eu_sales  jp_sales  \\\n",
       "659    NaN      GEN           1993.0   NaN      1.78      0.53      0.00   \n",
       "14244  NaN      GEN           1993.0   NaN      0.00      0.00      0.03   \n",
       "\n",
       "       other_sales  critic_score user_score rating  \n",
       "659           0.08           NaN        NaN    NaN  \n",
       "14244         0.00           NaN        NaN    NaN  "
      ]
     },
     "metadata": {},
     "output_type": "display_data"
    }
   ],
   "source": [
    "# Cast the columns name to lowercase\n",
    "games_data= games_data.rename(columns=str.lower)\n",
    "\n",
    "# we have checked the columns with the missing values:\n",
    "\n",
    "# 1. Check the comptability between the missing values in the 'Name' column and in the 'genre'\n",
    "#    column. because both of them have exactly 2 missing values. \n",
    "print('The rows with missing values at the Name and Genre columns') \n",
    "display(games_data.loc[(games_data['name'].isnull())&(games_data['genre'].isnull())])\n",
    "\n",
    "# As we suspect the 2 missing values are comptabile, we don't have enough information to fill them.\n",
    "# so we will drop this two rows for give us the posbility to relly on this 2 columns to fill other missing values\n",
    "to_drop = games_data.loc[(games_data['name'].isnull())&(games_data['genre'].isnull())].index\n",
    "games_data.drop(to_drop,inplace=True)"
   ]
  },
  {
   "cell_type": "code",
   "execution_count": 50,
   "metadata": {},
   "outputs": [
    {
     "name": "stdout",
     "output_type": "stream",
     "text": [
      "['E' nan 'M' 'T' 'E10+' 'K-A' 'AO' 'EC' 'RP']\n",
      "E       3990\n",
      "T       2961\n",
      "M       1563\n",
      "E10+    1420\n",
      "EC         8\n",
      "RP         3\n",
      "K-A        3\n",
      "AO         1\n",
      "Name: rating, dtype: int64\n",
      "\n",
      "Rating column values distribution after the the filling process:\n",
      "\n",
      "E       5691\n",
      "T       4093\n",
      "M       1867\n",
      "EC      1733\n",
      "E10+    1420\n",
      "AO      1182\n",
      "RP       724\n",
      "K-A        3\n",
      "Name: rating, dtype: int64\n"
     ]
    }
   ],
   "source": [
    "# 2. Fill the missing values in the 'Rating' column\n",
    "print(games_data['rating'].unique())\n",
    "print(games_data['rating'].value_counts())\n",
    "\n",
    "# We see from our print that the values EC,RP,K-A,AO appear really a few times. maybe\n",
    "# the reason that we had so much missing values there was error with those types \n",
    "\n",
    "# Try to fill the missing values with EC,RP,K-A,AO values\n",
    "un_shown_rating = ['EC','RP','K-A','AO']\n",
    "rating_filtered_table = games_data.query('rating in @un_shown_rating')\n",
    "\n",
    "# We see that all the kind of rating is exsisting in our column. so we will fill the missing values with \n",
    "# the most frequent value according to the game genre and his platform in the filtered table.\n",
    "filtered_unique_genres = rating_filtered_table['genre'].unique()\n",
    "unique_platforms = rating_filtered_table['platform'].unique()\n",
    "\n",
    "for platform in unique_platforms:\n",
    "    for genre in filtered_unique_genres:\n",
    "        try:\n",
    "            table = rating_filtered_table.query('platform == @platform and Genre == @genre')\n",
    "            if not table.empty:\n",
    "                most_popular_rating = table['rating'].value_counts().idxmax()\n",
    "                if most_popular_rating != 'NaN':\n",
    "                    games_data.loc[(games_data['genre']==genre) & (games_data['platform']==platform) & (games_data['rating'].isnull()),'rating'] = most_popular_rating\n",
    "        except:\n",
    "            # No such a table - no such rows that have both those specific Genre and Platform \n",
    "            pass\n",
    "\n",
    "# for the remaining missing values we will fill them to the most frequent rating according to the game genre in filtered table\n",
    "for genre in filtered_unique_genres:\n",
    "    table = rating_filtered_table.query('genre == @genre')\n",
    "    if not table.empty:\n",
    "        most_popular_rating = table['rating'].value_counts().idxmax()\n",
    "        # give some preference to 'AO' category that apears only once.\n",
    "        if 'AO' in table['rating'].unique():\n",
    "            most_popular_rating = 'AO'        \n",
    "        if most_popular_rating != 'nan':\n",
    "            games_data.loc[(games_data['genre']==genre) & (games_data['rating'].isnull()),'rating'] = most_popular_rating\n",
    "\n",
    "# After we tried to fill acording to the values that appears less times let do the same with other values:(for sure we didnt fill all)\n",
    "# filled all the missing values) We see that all the kind of rating is exsisting in our column. so we will fill the missing values with \n",
    "# the most frequent value according to the game genre and his platform.\n",
    "unique_genres = games_data['genre'].unique()\n",
    "unique_platforms = games_data['platform'].unique()\n",
    "for platform in unique_platforms:\n",
    "    for genre in unique_genres:\n",
    "        try:\n",
    "            table = games_data.query('platform == @platform and Genre == @genre')\n",
    "            if not table.empty:\n",
    "                most_popular_rating = table['rating'].value_counts().idxmax()\n",
    "                if most_popular_rating != 'NaN':\n",
    "                    games_data.loc[(games_data['genre']==genre) & (games_data['platform']==platform) & (games_data['rating'].isnull()),'rating'] = most_popular_rating\n",
    "        except:\n",
    "            # No such a table - no such rows that have both those specific Genre and Platform \n",
    "            pass\n",
    "\n",
    "# for the remaining missing values we will fill them to the most frequent rating according to the game genre\n",
    "for genre in unique_genres:\n",
    "    table = games_data.query('genre == @genre')\n",
    "    if not table.empty:\n",
    "        most_popular_rating = table['rating'].value_counts().idxmax()\n",
    "        if most_popular_rating != 'NaN':\n",
    "            games_data.loc[(games_data['genre']==genre) & (games_data['rating'].isnull()),'rating'] = most_popular_rating\n",
    "\n",
    "# See values distribution again after the process:\n",
    "print('\\n'+'Rating column values distribution after the the filling process:\\n')\n",
    "print(games_data['rating'].value_counts())"
   ]
  },
  {
   "cell_type": "code",
   "execution_count": 51,
   "metadata": {},
   "outputs": [
    {
     "name": "stdout",
     "output_type": "stream",
     "text": [
      "\n",
      "check unique years of release:\n",
      " [1980.0, 1981.0, 1982.0, 1983.0, 1984.0, 1985.0, 1986.0, 1987.0, 1988.0, 1989.0, 1990.0, 1991.0, 1992.0, 1993.0, 1994.0, 1995.0, 1996.0, 1997.0, 1998.0, 1999.0, 2000.0, 2001.0, 2002.0, 2003.0, 2004.0, 2005.0, 2006.0, 2007.0, 2008.0, 2009.0, 2010.0, 2011.0, 2012.0, 2013.0, 2014.0, 2015.0, 2016.0, nan]\n"
     ]
    }
   ],
   "source": [
    "# 3. check the missing values in the Year_of_Release column\n",
    "# check the unique values in the Year_of_Release column\n",
    "unique_release_years = sorted(games_data['year_of_release'].unique())\n",
    "print('\\n'+'check unique years of release:\\n',unique_release_years)\n",
    "games_data['year_of_release'].fillna(0,inplace=True)\n",
    "# All the years appears in the data. we don't have data that we can fill those columns(the data we have don't influence the release year). "
   ]
  },
  {
   "cell_type": "code",
   "execution_count": 52,
   "metadata": {},
   "outputs": [
    {
     "name": "stdout",
     "output_type": "stream",
     "text": [
      "check the 15 rows with the best user_score:\n"
     ]
    },
    {
     "data": {
      "text/html": [
       "<div>\n",
       "<style scoped>\n",
       "    .dataframe tbody tr th:only-of-type {\n",
       "        vertical-align: middle;\n",
       "    }\n",
       "\n",
       "    .dataframe tbody tr th {\n",
       "        vertical-align: top;\n",
       "    }\n",
       "\n",
       "    .dataframe thead th {\n",
       "        text-align: right;\n",
       "    }\n",
       "</style>\n",
       "<table border=\"1\" class=\"dataframe\">\n",
       "  <thead>\n",
       "    <tr style=\"text-align: right;\">\n",
       "      <th></th>\n",
       "      <th>name</th>\n",
       "      <th>platform</th>\n",
       "      <th>year_of_release</th>\n",
       "      <th>genre</th>\n",
       "      <th>na_sales</th>\n",
       "      <th>eu_sales</th>\n",
       "      <th>jp_sales</th>\n",
       "      <th>other_sales</th>\n",
       "      <th>critic_score</th>\n",
       "      <th>user_score</th>\n",
       "      <th>rating</th>\n",
       "    </tr>\n",
       "  </thead>\n",
       "  <tbody>\n",
       "    <tr>\n",
       "      <th>14412</th>\n",
       "      <td>Breath of Fire III</td>\n",
       "      <td>PSP</td>\n",
       "      <td>2005.0</td>\n",
       "      <td>Role-Playing</td>\n",
       "      <td>0.00</td>\n",
       "      <td>0.02</td>\n",
       "      <td>0.00</td>\n",
       "      <td>0.01</td>\n",
       "      <td>NaN</td>\n",
       "      <td>9.7</td>\n",
       "      <td>T</td>\n",
       "    </tr>\n",
       "    <tr>\n",
       "      <th>8975</th>\n",
       "      <td>Boktai: The Sun is in Your Hand</td>\n",
       "      <td>GBA</td>\n",
       "      <td>2003.0</td>\n",
       "      <td>Role-Playing</td>\n",
       "      <td>0.10</td>\n",
       "      <td>0.04</td>\n",
       "      <td>0.00</td>\n",
       "      <td>0.00</td>\n",
       "      <td>83.0</td>\n",
       "      <td>9.6</td>\n",
       "      <td>E</td>\n",
       "    </tr>\n",
       "    <tr>\n",
       "      <th>3417</th>\n",
       "      <td>Harvest Moon: Friends of Mineral Town</td>\n",
       "      <td>GBA</td>\n",
       "      <td>2003.0</td>\n",
       "      <td>Simulation</td>\n",
       "      <td>0.34</td>\n",
       "      <td>0.13</td>\n",
       "      <td>0.11</td>\n",
       "      <td>0.01</td>\n",
       "      <td>81.0</td>\n",
       "      <td>9.6</td>\n",
       "      <td>E</td>\n",
       "    </tr>\n",
       "    <tr>\n",
       "      <th>16546</th>\n",
       "      <td>Wade Hixton's Counter Punch</td>\n",
       "      <td>GBA</td>\n",
       "      <td>2004.0</td>\n",
       "      <td>Sports</td>\n",
       "      <td>0.01</td>\n",
       "      <td>0.00</td>\n",
       "      <td>0.00</td>\n",
       "      <td>0.00</td>\n",
       "      <td>78.0</td>\n",
       "      <td>9.5</td>\n",
       "      <td>T</td>\n",
       "    </tr>\n",
       "    <tr>\n",
       "      <th>16627</th>\n",
       "      <td>Karnaaj Rally</td>\n",
       "      <td>GBA</td>\n",
       "      <td>2003.0</td>\n",
       "      <td>Racing</td>\n",
       "      <td>0.01</td>\n",
       "      <td>0.00</td>\n",
       "      <td>0.00</td>\n",
       "      <td>0.00</td>\n",
       "      <td>81.0</td>\n",
       "      <td>9.5</td>\n",
       "      <td>E</td>\n",
       "    </tr>\n",
       "    <tr>\n",
       "      <th>10105</th>\n",
       "      <td>Cory in the House</td>\n",
       "      <td>DS</td>\n",
       "      <td>2007.0</td>\n",
       "      <td>Action</td>\n",
       "      <td>0.10</td>\n",
       "      <td>0.00</td>\n",
       "      <td>0.00</td>\n",
       "      <td>0.01</td>\n",
       "      <td>NaN</td>\n",
       "      <td>9.5</td>\n",
       "      <td>E</td>\n",
       "    </tr>\n",
       "    <tr>\n",
       "      <th>11119</th>\n",
       "      <td>Super Puzzle Fighter II</td>\n",
       "      <td>GBA</td>\n",
       "      <td>0.0</td>\n",
       "      <td>Puzzle</td>\n",
       "      <td>0.06</td>\n",
       "      <td>0.02</td>\n",
       "      <td>0.00</td>\n",
       "      <td>0.00</td>\n",
       "      <td>83.0</td>\n",
       "      <td>9.5</td>\n",
       "      <td>E</td>\n",
       "    </tr>\n",
       "    <tr>\n",
       "      <th>1645</th>\n",
       "      <td>Golden Sun: The Lost Age</td>\n",
       "      <td>GBA</td>\n",
       "      <td>2002.0</td>\n",
       "      <td>Role-Playing</td>\n",
       "      <td>0.61</td>\n",
       "      <td>0.27</td>\n",
       "      <td>0.27</td>\n",
       "      <td>0.07</td>\n",
       "      <td>86.0</td>\n",
       "      <td>9.5</td>\n",
       "      <td>E</td>\n",
       "    </tr>\n",
       "    <tr>\n",
       "      <th>5920</th>\n",
       "      <td>MLB SlugFest Loaded</td>\n",
       "      <td>PS2</td>\n",
       "      <td>2004.0</td>\n",
       "      <td>Sports</td>\n",
       "      <td>0.14</td>\n",
       "      <td>0.11</td>\n",
       "      <td>0.00</td>\n",
       "      <td>0.04</td>\n",
       "      <td>77.0</td>\n",
       "      <td>9.5</td>\n",
       "      <td>T</td>\n",
       "    </tr>\n",
       "    <tr>\n",
       "      <th>1068</th>\n",
       "      <td>Resident Evil 4</td>\n",
       "      <td>GC</td>\n",
       "      <td>2005.0</td>\n",
       "      <td>Action</td>\n",
       "      <td>0.98</td>\n",
       "      <td>0.42</td>\n",
       "      <td>0.22</td>\n",
       "      <td>0.06</td>\n",
       "      <td>96.0</td>\n",
       "      <td>9.4</td>\n",
       "      <td>M</td>\n",
       "    </tr>\n",
       "    <tr>\n",
       "      <th>9554</th>\n",
       "      <td>Backyard Baseball</td>\n",
       "      <td>GC</td>\n",
       "      <td>2003.0</td>\n",
       "      <td>Sports</td>\n",
       "      <td>0.10</td>\n",
       "      <td>0.03</td>\n",
       "      <td>0.00</td>\n",
       "      <td>0.00</td>\n",
       "      <td>70.0</td>\n",
       "      <td>9.4</td>\n",
       "      <td>E</td>\n",
       "    </tr>\n",
       "    <tr>\n",
       "      <th>8904</th>\n",
       "      <td>Shenmue II</td>\n",
       "      <td>DC</td>\n",
       "      <td>2001.0</td>\n",
       "      <td>Adventure</td>\n",
       "      <td>0.00</td>\n",
       "      <td>0.00</td>\n",
       "      <td>0.15</td>\n",
       "      <td>0.00</td>\n",
       "      <td>88.0</td>\n",
       "      <td>9.4</td>\n",
       "      <td>T</td>\n",
       "    </tr>\n",
       "    <tr>\n",
       "      <th>10998</th>\n",
       "      <td>Skies of Arcadia</td>\n",
       "      <td>DC</td>\n",
       "      <td>2000.0</td>\n",
       "      <td>Role-Playing</td>\n",
       "      <td>0.00</td>\n",
       "      <td>0.00</td>\n",
       "      <td>0.09</td>\n",
       "      <td>0.00</td>\n",
       "      <td>93.0</td>\n",
       "      <td>9.4</td>\n",
       "      <td>T</td>\n",
       "    </tr>\n",
       "    <tr>\n",
       "      <th>3105</th>\n",
       "      <td>Advance Wars 2: Black Hole Rising</td>\n",
       "      <td>GBA</td>\n",
       "      <td>2003.0</td>\n",
       "      <td>Strategy</td>\n",
       "      <td>0.47</td>\n",
       "      <td>0.17</td>\n",
       "      <td>0.00</td>\n",
       "      <td>0.01</td>\n",
       "      <td>89.0</td>\n",
       "      <td>9.4</td>\n",
       "      <td>E</td>\n",
       "    </tr>\n",
       "    <tr>\n",
       "      <th>1546</th>\n",
       "      <td>Castlevania: Symphony of the Night</td>\n",
       "      <td>PS</td>\n",
       "      <td>1997.0</td>\n",
       "      <td>Platform</td>\n",
       "      <td>0.58</td>\n",
       "      <td>0.40</td>\n",
       "      <td>0.21</td>\n",
       "      <td>0.08</td>\n",
       "      <td>93.0</td>\n",
       "      <td>9.4</td>\n",
       "      <td>T</td>\n",
       "    </tr>\n",
       "  </tbody>\n",
       "</table>\n",
       "</div>"
      ],
      "text/plain": [
       "                                        name platform  year_of_release  \\\n",
       "14412                     Breath of Fire III      PSP           2005.0   \n",
       "8975         Boktai: The Sun is in Your Hand      GBA           2003.0   \n",
       "3417   Harvest Moon: Friends of Mineral Town      GBA           2003.0   \n",
       "16546            Wade Hixton's Counter Punch      GBA           2004.0   \n",
       "16627                          Karnaaj Rally      GBA           2003.0   \n",
       "10105                      Cory in the House       DS           2007.0   \n",
       "11119                Super Puzzle Fighter II      GBA              0.0   \n",
       "1645                Golden Sun: The Lost Age      GBA           2002.0   \n",
       "5920                     MLB SlugFest Loaded      PS2           2004.0   \n",
       "1068                         Resident Evil 4       GC           2005.0   \n",
       "9554                       Backyard Baseball       GC           2003.0   \n",
       "8904                              Shenmue II       DC           2001.0   \n",
       "10998                       Skies of Arcadia       DC           2000.0   \n",
       "3105       Advance Wars 2: Black Hole Rising      GBA           2003.0   \n",
       "1546      Castlevania: Symphony of the Night       PS           1997.0   \n",
       "\n",
       "              genre  na_sales  eu_sales  jp_sales  other_sales  critic_score  \\\n",
       "14412  Role-Playing      0.00      0.02      0.00         0.01           NaN   \n",
       "8975   Role-Playing      0.10      0.04      0.00         0.00          83.0   \n",
       "3417     Simulation      0.34      0.13      0.11         0.01          81.0   \n",
       "16546        Sports      0.01      0.00      0.00         0.00          78.0   \n",
       "16627        Racing      0.01      0.00      0.00         0.00          81.0   \n",
       "10105        Action      0.10      0.00      0.00         0.01           NaN   \n",
       "11119        Puzzle      0.06      0.02      0.00         0.00          83.0   \n",
       "1645   Role-Playing      0.61      0.27      0.27         0.07          86.0   \n",
       "5920         Sports      0.14      0.11      0.00         0.04          77.0   \n",
       "1068         Action      0.98      0.42      0.22         0.06          96.0   \n",
       "9554         Sports      0.10      0.03      0.00         0.00          70.0   \n",
       "8904      Adventure      0.00      0.00      0.15         0.00          88.0   \n",
       "10998  Role-Playing      0.00      0.00      0.09         0.00          93.0   \n",
       "3105       Strategy      0.47      0.17      0.00         0.01          89.0   \n",
       "1546       Platform      0.58      0.40      0.21         0.08          93.0   \n",
       "\n",
       "      user_score rating  \n",
       "14412        9.7      T  \n",
       "8975         9.6      E  \n",
       "3417         9.6      E  \n",
       "16546        9.5      T  \n",
       "16627        9.5      E  \n",
       "10105        9.5      E  \n",
       "11119        9.5      E  \n",
       "1645         9.5      E  \n",
       "5920         9.5      T  \n",
       "1068         9.4      M  \n",
       "9554         9.4      E  \n",
       "8904         9.4      T  \n",
       "10998        9.4      T  \n",
       "3105         9.4      E  \n",
       "1546         9.4      T  "
      ]
     },
     "metadata": {},
     "output_type": "display_data"
    },
    {
     "name": "stdout",
     "output_type": "stream",
     "text": [
      "\n",
      "Correlation between critic_score to user_score: 0.5808778320767239\n",
      "\n",
      "Correlation between na_sales to user_score: 0.08649591810429094\n",
      "\n",
      "Correlation between eu_sales to user_score: 0.05557319125342916\n",
      "\n",
      "Correlation between other_sales to user_score: 0.057359296891873746\n"
     ]
    }
   ],
   "source": [
    "# 4. Fill the missing values in user_score column:\n",
    "sorted_by_score = games_data.query('user_score != \"tbd\" and ~(user_score.isnull())').sort_values(by='user_score',ascending=False)\n",
    "print('check the 15 rows with the best user_score:')\n",
    "display(sorted_by_score.head(15))\n",
    "\n",
    "# from a quick view we saw that the  rating, the platform, and the genre influence the user_score column \n",
    "# check correlation between the critic_score to user_score \n",
    "filtered_score = games_data.query('~(critic_score.isnull()) and ~(user_score.isnull()) and user_score!=\"tbd\"').copy()\n",
    "filtered_score['user_score'] = pd.to_numeric((filtered_score['user_score']), downcast ='integer')\n",
    "print('\\n'+'Correlation between critic_score to user_score:',filtered_score['user_score'].corr(filtered_score['critic_score']))\n",
    "print('\\n'+'Correlation between na_sales to user_score:',filtered_score['user_score'].corr(filtered_score['na_sales']))\n",
    "print('\\n'+'Correlation between eu_sales to user_score:',filtered_score['user_score'].corr(filtered_score['eu_sales']))\n",
    "print('\\n'+'Correlation between other_sales to user_score:',filtered_score['user_score'].corr(filtered_score['other_sales']))\n",
    "\n",
    "restricted_filtered_score = games_data.query('user_score!=\"tbd\"').copy()\n",
    "restricted_filtered_score['user_score'] = pd.to_numeric((restricted_filtered_score['user_score']), downcast ='integer')\n",
    "\n",
    "# calculate user_score median according to the rating and platform ,save results in dict\n",
    "unique_ratings = games_data['rating'].unique()\n",
    "\n",
    "user_median_by_platform = {}\n",
    "for platform in unique_platforms:\n",
    "    user_median_by_platform[platform] = filtered_score[filtered_score['platform']==platform]['user_score'].median() \n",
    "\n",
    "user_median_by_rating = {}\n",
    "for rating in unique_ratings:\n",
    "    user_median_by_rating[rating] = filtered_score[filtered_score['rating']==rating]['user_score'].median() \n",
    "\n",
    "# fill the missing values:    \n",
    "games_data['user_score'] = games_data.apply(set_user_score,axis=1)\n",
    "\n"
   ]
  },
  {
   "cell_type": "code",
   "execution_count": 53,
   "metadata": {},
   "outputs": [
    {
     "name": "stdout",
     "output_type": "stream",
     "text": [
      "check the 15 rows with the best critic_score:\n"
     ]
    },
    {
     "data": {
      "text/html": [
       "<div>\n",
       "<style scoped>\n",
       "    .dataframe tbody tr th:only-of-type {\n",
       "        vertical-align: middle;\n",
       "    }\n",
       "\n",
       "    .dataframe tbody tr th {\n",
       "        vertical-align: top;\n",
       "    }\n",
       "\n",
       "    .dataframe thead th {\n",
       "        text-align: right;\n",
       "    }\n",
       "</style>\n",
       "<table border=\"1\" class=\"dataframe\">\n",
       "  <thead>\n",
       "    <tr style=\"text-align: right;\">\n",
       "      <th></th>\n",
       "      <th>name</th>\n",
       "      <th>platform</th>\n",
       "      <th>year_of_release</th>\n",
       "      <th>genre</th>\n",
       "      <th>na_sales</th>\n",
       "      <th>eu_sales</th>\n",
       "      <th>jp_sales</th>\n",
       "      <th>other_sales</th>\n",
       "      <th>critic_score</th>\n",
       "      <th>user_score</th>\n",
       "      <th>rating</th>\n",
       "    </tr>\n",
       "  </thead>\n",
       "  <tbody>\n",
       "    <tr>\n",
       "      <th>227</th>\n",
       "      <td>Tony Hawk's Pro Skater 2</td>\n",
       "      <td>PS</td>\n",
       "      <td>2000.0</td>\n",
       "      <td>Sports</td>\n",
       "      <td>3.05</td>\n",
       "      <td>1.41</td>\n",
       "      <td>0.02</td>\n",
       "      <td>0.20</td>\n",
       "      <td>98.0</td>\n",
       "      <td>7.7</td>\n",
       "      <td>T</td>\n",
       "    </tr>\n",
       "    <tr>\n",
       "      <th>57</th>\n",
       "      <td>Grand Theft Auto IV</td>\n",
       "      <td>PS3</td>\n",
       "      <td>2008.0</td>\n",
       "      <td>Action</td>\n",
       "      <td>4.76</td>\n",
       "      <td>3.69</td>\n",
       "      <td>0.44</td>\n",
       "      <td>1.61</td>\n",
       "      <td>98.0</td>\n",
       "      <td>7.5</td>\n",
       "      <td>M</td>\n",
       "    </tr>\n",
       "    <tr>\n",
       "      <th>51</th>\n",
       "      <td>Grand Theft Auto IV</td>\n",
       "      <td>X360</td>\n",
       "      <td>2008.0</td>\n",
       "      <td>Action</td>\n",
       "      <td>6.76</td>\n",
       "      <td>3.07</td>\n",
       "      <td>0.14</td>\n",
       "      <td>1.03</td>\n",
       "      <td>98.0</td>\n",
       "      <td>7.9</td>\n",
       "      <td>M</td>\n",
       "    </tr>\n",
       "    <tr>\n",
       "      <th>5350</th>\n",
       "      <td>SoulCalibur</td>\n",
       "      <td>DC</td>\n",
       "      <td>1999.0</td>\n",
       "      <td>Fighting</td>\n",
       "      <td>0.00</td>\n",
       "      <td>0.00</td>\n",
       "      <td>0.34</td>\n",
       "      <td>0.00</td>\n",
       "      <td>98.0</td>\n",
       "      <td>8.8</td>\n",
       "      <td>T</td>\n",
       "    </tr>\n",
       "    <tr>\n",
       "      <th>165</th>\n",
       "      <td>Grand Theft Auto V</td>\n",
       "      <td>XOne</td>\n",
       "      <td>2014.0</td>\n",
       "      <td>Action</td>\n",
       "      <td>2.81</td>\n",
       "      <td>2.19</td>\n",
       "      <td>0.00</td>\n",
       "      <td>0.47</td>\n",
       "      <td>97.0</td>\n",
       "      <td>7.9</td>\n",
       "      <td>M</td>\n",
       "    </tr>\n",
       "    <tr>\n",
       "      <th>23</th>\n",
       "      <td>Grand Theft Auto V</td>\n",
       "      <td>X360</td>\n",
       "      <td>2013.0</td>\n",
       "      <td>Action</td>\n",
       "      <td>9.66</td>\n",
       "      <td>5.14</td>\n",
       "      <td>0.06</td>\n",
       "      <td>1.41</td>\n",
       "      <td>97.0</td>\n",
       "      <td>8.1</td>\n",
       "      <td>M</td>\n",
       "    </tr>\n",
       "    <tr>\n",
       "      <th>1877</th>\n",
       "      <td>NFL 2K1</td>\n",
       "      <td>DC</td>\n",
       "      <td>2000.0</td>\n",
       "      <td>Sports</td>\n",
       "      <td>1.02</td>\n",
       "      <td>0.05</td>\n",
       "      <td>0.00</td>\n",
       "      <td>0.02</td>\n",
       "      <td>97.0</td>\n",
       "      <td>6</td>\n",
       "      <td>E</td>\n",
       "    </tr>\n",
       "    <tr>\n",
       "      <th>42</th>\n",
       "      <td>Grand Theft Auto V</td>\n",
       "      <td>PS4</td>\n",
       "      <td>2014.0</td>\n",
       "      <td>Action</td>\n",
       "      <td>3.96</td>\n",
       "      <td>6.31</td>\n",
       "      <td>0.38</td>\n",
       "      <td>1.97</td>\n",
       "      <td>97.0</td>\n",
       "      <td>8.3</td>\n",
       "      <td>M</td>\n",
       "    </tr>\n",
       "    <tr>\n",
       "      <th>129</th>\n",
       "      <td>Halo: Combat Evolved</td>\n",
       "      <td>XB</td>\n",
       "      <td>2001.0</td>\n",
       "      <td>Shooter</td>\n",
       "      <td>4.98</td>\n",
       "      <td>1.30</td>\n",
       "      <td>0.08</td>\n",
       "      <td>0.07</td>\n",
       "      <td>97.0</td>\n",
       "      <td>8.6</td>\n",
       "      <td>M</td>\n",
       "    </tr>\n",
       "    <tr>\n",
       "      <th>49</th>\n",
       "      <td>Super Mario Galaxy</td>\n",
       "      <td>Wii</td>\n",
       "      <td>2007.0</td>\n",
       "      <td>Platform</td>\n",
       "      <td>6.06</td>\n",
       "      <td>3.35</td>\n",
       "      <td>1.20</td>\n",
       "      <td>0.74</td>\n",
       "      <td>97.0</td>\n",
       "      <td>8.9</td>\n",
       "      <td>E</td>\n",
       "    </tr>\n",
       "    <tr>\n",
       "      <th>38</th>\n",
       "      <td>Grand Theft Auto III</td>\n",
       "      <td>PS2</td>\n",
       "      <td>2001.0</td>\n",
       "      <td>Action</td>\n",
       "      <td>6.99</td>\n",
       "      <td>4.51</td>\n",
       "      <td>0.30</td>\n",
       "      <td>1.30</td>\n",
       "      <td>97.0</td>\n",
       "      <td>8.5</td>\n",
       "      <td>M</td>\n",
       "    </tr>\n",
       "    <tr>\n",
       "      <th>16</th>\n",
       "      <td>Grand Theft Auto V</td>\n",
       "      <td>PS3</td>\n",
       "      <td>2013.0</td>\n",
       "      <td>Action</td>\n",
       "      <td>7.02</td>\n",
       "      <td>9.09</td>\n",
       "      <td>0.98</td>\n",
       "      <td>3.96</td>\n",
       "      <td>97.0</td>\n",
       "      <td>8.2</td>\n",
       "      <td>M</td>\n",
       "    </tr>\n",
       "    <tr>\n",
       "      <th>249</th>\n",
       "      <td>Tony Hawk's Pro Skater 3</td>\n",
       "      <td>PS2</td>\n",
       "      <td>2001.0</td>\n",
       "      <td>Sports</td>\n",
       "      <td>2.66</td>\n",
       "      <td>1.29</td>\n",
       "      <td>0.01</td>\n",
       "      <td>0.46</td>\n",
       "      <td>97.0</td>\n",
       "      <td>7.5</td>\n",
       "      <td>T</td>\n",
       "    </tr>\n",
       "    <tr>\n",
       "      <th>97</th>\n",
       "      <td>Super Mario Galaxy 2</td>\n",
       "      <td>Wii</td>\n",
       "      <td>2010.0</td>\n",
       "      <td>Platform</td>\n",
       "      <td>3.56</td>\n",
       "      <td>2.35</td>\n",
       "      <td>0.98</td>\n",
       "      <td>0.62</td>\n",
       "      <td>97.0</td>\n",
       "      <td>9.1</td>\n",
       "      <td>E</td>\n",
       "    </tr>\n",
       "    <tr>\n",
       "      <th>517</th>\n",
       "      <td>Metroid Prime</td>\n",
       "      <td>GC</td>\n",
       "      <td>2002.0</td>\n",
       "      <td>Shooter</td>\n",
       "      <td>1.96</td>\n",
       "      <td>0.67</td>\n",
       "      <td>0.10</td>\n",
       "      <td>0.09</td>\n",
       "      <td>97.0</td>\n",
       "      <td>9.3</td>\n",
       "      <td>T</td>\n",
       "    </tr>\n",
       "  </tbody>\n",
       "</table>\n",
       "</div>"
      ],
      "text/plain": [
       "                          name platform  year_of_release     genre  na_sales  \\\n",
       "227   Tony Hawk's Pro Skater 2       PS           2000.0    Sports      3.05   \n",
       "57         Grand Theft Auto IV      PS3           2008.0    Action      4.76   \n",
       "51         Grand Theft Auto IV     X360           2008.0    Action      6.76   \n",
       "5350               SoulCalibur       DC           1999.0  Fighting      0.00   \n",
       "165         Grand Theft Auto V     XOne           2014.0    Action      2.81   \n",
       "23          Grand Theft Auto V     X360           2013.0    Action      9.66   \n",
       "1877                   NFL 2K1       DC           2000.0    Sports      1.02   \n",
       "42          Grand Theft Auto V      PS4           2014.0    Action      3.96   \n",
       "129       Halo: Combat Evolved       XB           2001.0   Shooter      4.98   \n",
       "49          Super Mario Galaxy      Wii           2007.0  Platform      6.06   \n",
       "38        Grand Theft Auto III      PS2           2001.0    Action      6.99   \n",
       "16          Grand Theft Auto V      PS3           2013.0    Action      7.02   \n",
       "249   Tony Hawk's Pro Skater 3      PS2           2001.0    Sports      2.66   \n",
       "97        Super Mario Galaxy 2      Wii           2010.0  Platform      3.56   \n",
       "517              Metroid Prime       GC           2002.0   Shooter      1.96   \n",
       "\n",
       "      eu_sales  jp_sales  other_sales  critic_score user_score rating  \n",
       "227       1.41      0.02         0.20          98.0        7.7      T  \n",
       "57        3.69      0.44         1.61          98.0        7.5      M  \n",
       "51        3.07      0.14         1.03          98.0        7.9      M  \n",
       "5350      0.00      0.34         0.00          98.0        8.8      T  \n",
       "165       2.19      0.00         0.47          97.0        7.9      M  \n",
       "23        5.14      0.06         1.41          97.0        8.1      M  \n",
       "1877      0.05      0.00         0.02          97.0          6      E  \n",
       "42        6.31      0.38         1.97          97.0        8.3      M  \n",
       "129       1.30      0.08         0.07          97.0        8.6      M  \n",
       "49        3.35      1.20         0.74          97.0        8.9      E  \n",
       "38        4.51      0.30         1.30          97.0        8.5      M  \n",
       "16        9.09      0.98         3.96          97.0        8.2      M  \n",
       "249       1.29      0.01         0.46          97.0        7.5      T  \n",
       "97        2.35      0.98         0.62          97.0        9.1      E  \n",
       "517       0.67      0.10         0.09          97.0        9.3      T  "
      ]
     },
     "metadata": {},
     "output_type": "display_data"
    }
   ],
   "source": [
    "# 5. Fill the missing values in critic_score column:\n",
    "sorted_by_critic = games_data.query('~critic_score.isnull()').sort_values(by='critic_score',ascending=False)\n",
    "print('check the 15 rows with the best critic_score:')\n",
    "display(sorted_by_critic.head(15))\n",
    "\n",
    "\n",
    "# calculate critic_score median according to the rating, platform and genre, ave results in dict\n",
    "critic_median_by_platform = {}\n",
    "critic_median_by_rating = {}\n",
    "\n",
    "with warnings.catch_warnings():\n",
    "    warnings.simplefilter(\"ignore\", category=RuntimeWarning)\n",
    "    for platform in unique_platforms:\n",
    "        critic_median_by_platform[platform] = games_data[games_data['platform']==platform]['critic_score'].median() \n",
    "        \n",
    "    for rating in unique_ratings:\n",
    "        critic_median_by_rating[rating] = games_data[games_data['rating']==rating]['critic_score'].median() \n",
    "        \n",
    "# fill the missing values:\n",
    "games_data['critic_score'] = games_data.apply(set_critic_score,axis=1)"
   ]
  },
  {
   "cell_type": "code",
   "execution_count": 54,
   "metadata": {},
   "outputs": [
    {
     "name": "stdout",
     "output_type": "stream",
     "text": [
      "\n",
      "Check the table info and display it\n",
      "<class 'pandas.core.frame.DataFrame'>\n",
      "Int64Index: 16713 entries, 0 to 16714\n",
      "Data columns (total 11 columns):\n",
      " #   Column           Non-Null Count  Dtype  \n",
      "---  ------           --------------  -----  \n",
      " 0   name             16713 non-null  object \n",
      " 1   platform         16713 non-null  object \n",
      " 2   year_of_release  16713 non-null  float64\n",
      " 3   genre            16713 non-null  object \n",
      " 4   na_sales         16713 non-null  float64\n",
      " 5   eu_sales         16713 non-null  float64\n",
      " 6   jp_sales         16713 non-null  float64\n",
      " 7   other_sales      16713 non-null  float64\n",
      " 8   critic_score     16713 non-null  float64\n",
      " 9   user_score       14289 non-null  object \n",
      " 10  rating           16713 non-null  object \n",
      "dtypes: float64(6), object(5)\n",
      "memory usage: 1.5+ MB\n"
     ]
    },
    {
     "data": {
      "text/html": [
       "<div>\n",
       "<style scoped>\n",
       "    .dataframe tbody tr th:only-of-type {\n",
       "        vertical-align: middle;\n",
       "    }\n",
       "\n",
       "    .dataframe tbody tr th {\n",
       "        vertical-align: top;\n",
       "    }\n",
       "\n",
       "    .dataframe thead th {\n",
       "        text-align: right;\n",
       "    }\n",
       "</style>\n",
       "<table border=\"1\" class=\"dataframe\">\n",
       "  <thead>\n",
       "    <tr style=\"text-align: right;\">\n",
       "      <th></th>\n",
       "      <th>name</th>\n",
       "      <th>platform</th>\n",
       "      <th>year_of_release</th>\n",
       "      <th>genre</th>\n",
       "      <th>na_sales</th>\n",
       "      <th>eu_sales</th>\n",
       "      <th>jp_sales</th>\n",
       "      <th>other_sales</th>\n",
       "      <th>critic_score</th>\n",
       "      <th>user_score</th>\n",
       "      <th>rating</th>\n",
       "    </tr>\n",
       "  </thead>\n",
       "  <tbody>\n",
       "    <tr>\n",
       "      <th>0</th>\n",
       "      <td>Wii Sports</td>\n",
       "      <td>Wii</td>\n",
       "      <td>2006.0</td>\n",
       "      <td>Sports</td>\n",
       "      <td>41.36</td>\n",
       "      <td>28.96</td>\n",
       "      <td>3.77</td>\n",
       "      <td>8.45</td>\n",
       "      <td>76.0</td>\n",
       "      <td>8</td>\n",
       "      <td>E</td>\n",
       "    </tr>\n",
       "    <tr>\n",
       "      <th>1</th>\n",
       "      <td>Super Mario Bros.</td>\n",
       "      <td>NES</td>\n",
       "      <td>1985.0</td>\n",
       "      <td>Platform</td>\n",
       "      <td>29.08</td>\n",
       "      <td>3.58</td>\n",
       "      <td>6.81</td>\n",
       "      <td>0.77</td>\n",
       "      <td>73.0</td>\n",
       "      <td>7.500000</td>\n",
       "      <td>E</td>\n",
       "    </tr>\n",
       "    <tr>\n",
       "      <th>2</th>\n",
       "      <td>Mario Kart Wii</td>\n",
       "      <td>Wii</td>\n",
       "      <td>2008.0</td>\n",
       "      <td>Racing</td>\n",
       "      <td>15.68</td>\n",
       "      <td>12.76</td>\n",
       "      <td>3.79</td>\n",
       "      <td>3.29</td>\n",
       "      <td>82.0</td>\n",
       "      <td>8.3</td>\n",
       "      <td>E</td>\n",
       "    </tr>\n",
       "    <tr>\n",
       "      <th>3</th>\n",
       "      <td>Wii Sports Resort</td>\n",
       "      <td>Wii</td>\n",
       "      <td>2009.0</td>\n",
       "      <td>Sports</td>\n",
       "      <td>15.61</td>\n",
       "      <td>10.93</td>\n",
       "      <td>3.28</td>\n",
       "      <td>2.95</td>\n",
       "      <td>80.0</td>\n",
       "      <td>8</td>\n",
       "      <td>E</td>\n",
       "    </tr>\n",
       "    <tr>\n",
       "      <th>4</th>\n",
       "      <td>Pokemon Red/Pokemon Blue</td>\n",
       "      <td>GB</td>\n",
       "      <td>1996.0</td>\n",
       "      <td>Role-Playing</td>\n",
       "      <td>11.27</td>\n",
       "      <td>8.89</td>\n",
       "      <td>10.22</td>\n",
       "      <td>1.00</td>\n",
       "      <td>74.0</td>\n",
       "      <td>7.600000</td>\n",
       "      <td>T</td>\n",
       "    </tr>\n",
       "  </tbody>\n",
       "</table>\n",
       "</div>"
      ],
      "text/plain": [
       "                       name platform  year_of_release         genre  na_sales  \\\n",
       "0                Wii Sports      Wii           2006.0        Sports     41.36   \n",
       "1         Super Mario Bros.      NES           1985.0      Platform     29.08   \n",
       "2            Mario Kart Wii      Wii           2008.0        Racing     15.68   \n",
       "3         Wii Sports Resort      Wii           2009.0        Sports     15.61   \n",
       "4  Pokemon Red/Pokemon Blue       GB           1996.0  Role-Playing     11.27   \n",
       "\n",
       "   eu_sales  jp_sales  other_sales  critic_score user_score rating  \n",
       "0     28.96      3.77         8.45          76.0          8      E  \n",
       "1      3.58      6.81         0.77          73.0   7.500000      E  \n",
       "2     12.76      3.79         3.29          82.0        8.3      E  \n",
       "3     10.93      3.28         2.95          80.0          8      E  \n",
       "4      8.89     10.22         1.00          74.0   7.600000      T  "
      ]
     },
     "metadata": {},
     "output_type": "display_data"
    }
   ],
   "source": [
    "# check if we filled the missing values:\n",
    "print('\\n'+'Check the table info and display it')\n",
    "games_data.info()\n",
    "display(games_data.head())"
   ]
  },
  {
   "cell_type": "markdown",
   "metadata": {},
   "source": [
    "**Conclusion - missing values** "
   ]
  },
  {
   "cell_type": "markdown",
   "metadata": {},
   "source": [
    "The stage of the missing values was long because of the big amount of the missing values and the complexity to calculate a decent estimation for the missing values.\n",
    "As a first step we cast the the columns to lowercase.\n",
    "after that we handle the missing values in this way:\n",
    "1. *Name and genre columns*  \n",
    "    \n",
    "    we checked the comptability between the missing values in the 'Name' column and in the 'genre' column. <br>because both of them have exactly 2 missing values. And we suspect the missing values in the both columns in those 2 rows are comptable and those rows have a lot of missing values(we don't have data to work with to estimate those missing values). because 2 rows are 0.01% of data we will drop them.\n",
    "    \n",
    "2. *rating column* <br><br>As first step we checked the values in the rating column(ESRB rating) and we saw that 4 types of apears much less: EC, RP, K-A, AO.<br>So we have tried to find the combination of the platform and genre that give us those ratings - we created a filtered df that include only the combination that gives us those rating and work with this table to give priority to those values and we give a big priority to 'AO' rating because if there a combination of genre with this rating can point that this genre include things that are not approprate to kids/teens like violence and etc...<br><br>\n",
    "    After that with remaining missing values we fill them the missing values with the most frequent value according to the game genre and his platform and after according only to the genre. after this process we haved increase the ratings that wasn't frequent and filled all the missing values in the column. we supose that the missing values are because converstion errors/human error with the specific ESRB ratings we have shown before.\n",
    "    \n",
    "3. *Year_of_Release column*\n",
    "\n",
    "    As a first step we checked the unique values in the Year_of_Release column. we have see that all the years appears so is not a error with specific year is more like that human error(when they insert the data they forget to add the year of release). we don't have data that we can estimate those values and the missing values are a really small part of data(1.61%). so we will just fill the missing values with zero.\n",
    "    \n",
    "4. *user_score column*\n",
    "\n",
    "    As a first step we check the 15 rows that have the best user_score. we saw that the columns genre,platform and rating have a high influence on the result. and we have also checked the correlation between the critic_score column to our column and it result enough high(0.58) to take this column in consideration to aproximate the user_score missing values.\n",
    "    <br>\n",
    "    To fill the missing in the column we will use a equation to aproximate the missing values. lets define:\n",
    "    <br> \n",
    "     $\\mu_p$ - The median of user_score according to his platform.<br>\n",
    "     $\\mu_r$ - The median of user_score according to his rating.<br>\n",
    "     $C$ - The critic_score in the same row of the missing value divided by 10. <br>\n",
    "     We use the following equation when $C \\neq null$:<br>\n",
    "     $value = \\alpha×C + \\beta×\\mu_p + \\delta×\\mu_r $<br> \n",
    "     when: $0 \\leq \\alpha,\\beta,\\delta \\leq 1$<br>\n",
    "     We decide the value of $\\alpha,\\beta,\\delta$ in this way - <br>\n",
    "     when all the madians are different than NaN:  $\\alpha = 0.5,\\beta= 0.25,\\delta= 0.25$<br> \n",
    "     when the 1 median is equal to null we set his coefficient to zero and set the last median coefficient to $\\epsilon$ when: $\\alpha=0.6, \\epsilon=0.4$<br>\n",
    "     if all of them are null we take only $C$ so we will set: $\\alpha = 1, \\gamma= \\delta= 0$<br> \n",
    "    \n",
    "     if the value of the critic_score is null we will use another equation:<br>\n",
    "     $value = \\alpha × \\mu_p + \\gamma × \\mu_r$<br>\n",
    "     The definition of $\\alpha, \\gamma$ is similer to the previous equation.<br>\n",
    "     when no of the one of the median is null: $\\alpha=\\gamma=\\frac{1}{2}$.<br>\n",
    "     when one of them is null like before is coefficient is zero and the other is equal to 1.\n",
    "    \n",
    "    **special cases**: when C is equal to 'btw' we will return NaN to allow us to cast this column to float. \n",
    "    \n",
    "5. *critic_score column*\n",
    "    \n",
    "    As a first step we check the 15 rows that have the best critic_score. we saw that the columns genre,platform and rating have a high influence on the result. and we have also checked preiviously the correlation between the user_score column to our column and it result enough high(0.58) to take this column in consideration to aproximate the user_score missing values.\n",
    "    <br>\n",
    "    To fill the missing in the column we will use a equation to aproximate the missing values. lets define:\n",
    "    <br> \n",
    "    $\\mu_p$ - The median of critic_score according to his platform.<br>\n",
    "    $\\mu_r$ - The median of critic_score according to his rating.<br>\n",
    "    $U$ - The user_score in the same row of the missing value multiply by 10. <br>\n",
    "    We use the following equation when $U \\neq null$:<br>\n",
    "    $critic = \\alpha×U + \\beta×\\mu_p + \\delta×\\mu_r $<br> \n",
    "    when: $0 \\leq \\alpha,\\beta,\\delta \\leq 1$<br>\n",
    "    We decide the value of $\\alpha,\\beta,\\delta$ in this way - <br>\n",
    "    when all the madians are different than NaN:  $\\alpha = 0.5,\\beta= 0.25,\\delta= 0.25$<br> \n",
    "    when the one median is equal to null his coefficient is equal to zero and the other coefficient is equal to $\\epsilon$ when: $\\alpha=0.6, \\epsilon=0.4$<br>\n",
    "     if all of them are null we take only $U$ so we will set: $\\alpha = 1,\\beta= \\delta= 0$<br> \n",
    "     \n",
    "     if the value of the critic_score is null we will use another equation:<br>\n",
    "     $critic = \\alpha × \\mu_p + \\gamma × \\mu_r$<br>\n",
    "     The definition of $\\alpha, \\gamma$ is similer to the previous equation.<br>\n",
    "     when no of the one of the median is null: $\\alpha=\\gamma=\\frac{1}{2}$.<br>\n",
    "     when one of them is null like before is coefficient is zero and the other is equal to 1.\n",
    "         "
   ]
  },
  {
   "cell_type": "markdown",
   "metadata": {},
   "source": [
    "### Convert the data types and create new column"
   ]
  },
  {
   "cell_type": "code",
   "execution_count": 55,
   "metadata": {},
   "outputs": [
    {
     "name": "stdout",
     "output_type": "stream",
     "text": [
      "Check data after the data type conversation and adding the new column:\n",
      "\n",
      "<class 'pandas.core.frame.DataFrame'>\n",
      "Int64Index: 16713 entries, 0 to 16714\n",
      "Data columns (total 12 columns):\n",
      " #   Column           Non-Null Count  Dtype  \n",
      "---  ------           --------------  -----  \n",
      " 0   name             16713 non-null  object \n",
      " 1   platform         16713 non-null  object \n",
      " 2   year_of_release  16713 non-null  int16  \n",
      " 3   genre            16713 non-null  object \n",
      " 4   na_sales         16713 non-null  float32\n",
      " 5   eu_sales         16713 non-null  float32\n",
      " 6   jp_sales         16713 non-null  float32\n",
      " 7   other_sales      16713 non-null  float32\n",
      " 8   critic_score     16713 non-null  float32\n",
      " 9   user_score       14289 non-null  float32\n",
      " 10  rating           16713 non-null  object \n",
      " 11  total_sales      16713 non-null  float32\n",
      "dtypes: float32(7), int16(1), object(4)\n",
      "memory usage: 1.1+ MB\n"
     ]
    },
    {
     "data": {
      "text/html": [
       "<div>\n",
       "<style scoped>\n",
       "    .dataframe tbody tr th:only-of-type {\n",
       "        vertical-align: middle;\n",
       "    }\n",
       "\n",
       "    .dataframe tbody tr th {\n",
       "        vertical-align: top;\n",
       "    }\n",
       "\n",
       "    .dataframe thead th {\n",
       "        text-align: right;\n",
       "    }\n",
       "</style>\n",
       "<table border=\"1\" class=\"dataframe\">\n",
       "  <thead>\n",
       "    <tr style=\"text-align: right;\">\n",
       "      <th></th>\n",
       "      <th>name</th>\n",
       "      <th>platform</th>\n",
       "      <th>year_of_release</th>\n",
       "      <th>genre</th>\n",
       "      <th>na_sales</th>\n",
       "      <th>eu_sales</th>\n",
       "      <th>jp_sales</th>\n",
       "      <th>other_sales</th>\n",
       "      <th>critic_score</th>\n",
       "      <th>user_score</th>\n",
       "      <th>rating</th>\n",
       "      <th>total_sales</th>\n",
       "    </tr>\n",
       "  </thead>\n",
       "  <tbody>\n",
       "    <tr>\n",
       "      <th>0</th>\n",
       "      <td>Wii Sports</td>\n",
       "      <td>Wii</td>\n",
       "      <td>2006</td>\n",
       "      <td>Sports</td>\n",
       "      <td>41.360001</td>\n",
       "      <td>28.959999</td>\n",
       "      <td>3.77</td>\n",
       "      <td>8.45</td>\n",
       "      <td>76.0</td>\n",
       "      <td>8.0</td>\n",
       "      <td>E</td>\n",
       "      <td>82.539993</td>\n",
       "    </tr>\n",
       "    <tr>\n",
       "      <th>1</th>\n",
       "      <td>Super Mario Bros.</td>\n",
       "      <td>NES</td>\n",
       "      <td>1985</td>\n",
       "      <td>Platform</td>\n",
       "      <td>29.080000</td>\n",
       "      <td>3.580000</td>\n",
       "      <td>6.81</td>\n",
       "      <td>0.77</td>\n",
       "      <td>73.0</td>\n",
       "      <td>7.5</td>\n",
       "      <td>E</td>\n",
       "      <td>40.240002</td>\n",
       "    </tr>\n",
       "    <tr>\n",
       "      <th>2</th>\n",
       "      <td>Mario Kart Wii</td>\n",
       "      <td>Wii</td>\n",
       "      <td>2008</td>\n",
       "      <td>Racing</td>\n",
       "      <td>15.680000</td>\n",
       "      <td>12.760000</td>\n",
       "      <td>3.79</td>\n",
       "      <td>3.29</td>\n",
       "      <td>82.0</td>\n",
       "      <td>8.3</td>\n",
       "      <td>E</td>\n",
       "      <td>35.520000</td>\n",
       "    </tr>\n",
       "    <tr>\n",
       "      <th>3</th>\n",
       "      <td>Wii Sports Resort</td>\n",
       "      <td>Wii</td>\n",
       "      <td>2009</td>\n",
       "      <td>Sports</td>\n",
       "      <td>15.610000</td>\n",
       "      <td>10.930000</td>\n",
       "      <td>3.28</td>\n",
       "      <td>2.95</td>\n",
       "      <td>80.0</td>\n",
       "      <td>8.0</td>\n",
       "      <td>E</td>\n",
       "      <td>32.770000</td>\n",
       "    </tr>\n",
       "    <tr>\n",
       "      <th>4</th>\n",
       "      <td>Pokemon Red/Pokemon Blue</td>\n",
       "      <td>GB</td>\n",
       "      <td>1996</td>\n",
       "      <td>Role-Playing</td>\n",
       "      <td>11.270000</td>\n",
       "      <td>8.890000</td>\n",
       "      <td>10.22</td>\n",
       "      <td>1.00</td>\n",
       "      <td>74.0</td>\n",
       "      <td>7.6</td>\n",
       "      <td>T</td>\n",
       "      <td>31.380001</td>\n",
       "    </tr>\n",
       "  </tbody>\n",
       "</table>\n",
       "</div>"
      ],
      "text/plain": [
       "                       name platform  year_of_release         genre  \\\n",
       "0                Wii Sports      Wii             2006        Sports   \n",
       "1         Super Mario Bros.      NES             1985      Platform   \n",
       "2            Mario Kart Wii      Wii             2008        Racing   \n",
       "3         Wii Sports Resort      Wii             2009        Sports   \n",
       "4  Pokemon Red/Pokemon Blue       GB             1996  Role-Playing   \n",
       "\n",
       "    na_sales   eu_sales  jp_sales  other_sales  critic_score  user_score  \\\n",
       "0  41.360001  28.959999      3.77         8.45          76.0         8.0   \n",
       "1  29.080000   3.580000      6.81         0.77          73.0         7.5   \n",
       "2  15.680000  12.760000      3.79         3.29          82.0         8.3   \n",
       "3  15.610000  10.930000      3.28         2.95          80.0         8.0   \n",
       "4  11.270000   8.890000     10.22         1.00          74.0         7.6   \n",
       "\n",
       "  rating  total_sales  \n",
       "0      E    82.539993  \n",
       "1      E    40.240002  \n",
       "2      E    35.520000  \n",
       "3      E    32.770000  \n",
       "4      T    31.380001  "
      ]
     },
     "metadata": {},
     "output_type": "display_data"
    }
   ],
   "source": [
    "# convert numeric columns to float/integers:\n",
    "games_data['year_of_release'] = pd.to_numeric((games_data['year_of_release']), downcast ='integer')\n",
    "games_data['na_sales'] = pd.to_numeric((games_data['na_sales']), downcast ='float')\n",
    "games_data['eu_sales'] = pd.to_numeric((games_data['eu_sales']), downcast ='float')\n",
    "games_data['jp_sales'] = pd.to_numeric((games_data['jp_sales']), downcast ='float')\n",
    "games_data['other_sales'] = pd.to_numeric((games_data['other_sales']), downcast ='float')\n",
    "games_data['critic_score'] = pd.to_numeric((games_data['critic_score']), downcast ='float')\n",
    "games_data['user_score'] = pd.to_numeric((games_data['user_score']), downcast ='float',errors='ignore')\n",
    "\n",
    "# Create new column - total_sales  \n",
    "games_data['total_sales'] = games_data['na_sales'] + games_data['eu_sales'] + games_data['jp_sales'] + games_data['other_sales']\n",
    "\n",
    "# check info after the changes:\n",
    "print('Check data after the data type conversation and adding the new column:\\n')\n",
    "games_data.info()\n",
    "# display table after adding the new column    \n",
    "display(games_data.head())"
   ]
  },
  {
   "cell_type": "markdown",
   "metadata": {},
   "source": [
    "**Conclusion - Convert the data types and create new column** "
   ]
  },
  {
   "cell_type": "markdown",
   "metadata": {},
   "source": [
    "In this part we did those steps \n",
    "1. downcast all the numeric columns - because we have cast the 'tbd' values in user_score column to nan it wasn't a problem also to cast this column (nan is a float type). we downcast all the columns with the method to_numeric. the year we will cast into integer since it is not a float. the sales will stay float because they define the sales in milions. In this process we have saved around 0.5 MB. \n",
    "2. we created a new column - total_sales that are total sales from all the markets which is equal to na_sales + eu_sales + jp_sales + other_sales"
   ]
  },
  {
   "cell_type": "markdown",
   "metadata": {},
   "source": [
    "## Analyze the data "
   ]
  },
  {
   "cell_type": "markdown",
   "metadata": {},
   "source": [
    "**1. check how many games were released in different years and select the relevent years**"
   ]
  },
  {
   "cell_type": "code",
   "execution_count": 56,
   "metadata": {},
   "outputs": [
    {
     "data": {
      "image/png": "[encoded data removed]",
      "text/plain": [
       "<Figure size 1440x720 with 1 Axes>"
      ]
     },
     "metadata": {
      "needs_background": "light"
     },
     "output_type": "display_data"
    }
   ],
   "source": [
    "# Analyze the data\n",
    "# 1. check how many games were released in different years and select the relevent years:\n",
    "games_by_year = games_data.groupby(['year_of_release'])['name'].count().reset_index().sort_values(by=['year_of_release'])\n",
    "games_by_year = games_by_year[games_by_year['year_of_release']!=0]\n",
    "\n",
    "# display it with a plot:\n",
    "fig,ax = plt.subplots(figsize=(20,10))\n",
    "ax.vlines(x = games_by_year.year_of_release,ymin=0,ymax=games_by_year.name, color='blue',alpha=0.6,linewidth=3)\n",
    "ax.scatter(x = games_by_year.year_of_release,y=games_by_year.name, color='purple',alpha=1,s=50)\n",
    "ax.set_title('The number of games released in year',fontdict={'size':20})\n",
    "ax.set_ylabel('Number of games')\n",
    "ax.set_xlabel('Release year')\n",
    "ax.set_xticks(games_by_year.year_of_release)\n",
    "ax.set_xticklabels(games_by_year.year_of_release,rotation=90)\n",
    "\n",
    "for row in games_by_year.itertuples():\n",
    "    ax.text(row.year_of_release,row.name+30,s=round(row.name,2))"
   ]
  },
  {
   "cell_type": "markdown",
   "metadata": {},
   "source": [
    "**2. Decide which years and platforms we need to predict 2017 results** "
   ]
  },
  {
   "cell_type": "code",
   "execution_count": 57,
   "metadata": {},
   "outputs": [
    {
     "name": "stdout",
     "output_type": "stream",
     "text": [
      "active platforms in 2016: PS4, 3DS, XOne, WiiU, PS3, PC, X360, PSV, Wii\n",
      "the years we will use to predict 2017 data are: 2013 to 2016\n",
      "[2002, 2003, 2004, 2005, 2006, 2007, 2008, 2009, 2010, 2011, 2012]\n"
     ]
    }
   ],
   "source": [
    "# 2. lets check the platform that are still active in 2016(to predict 2017 results)\n",
    "active_platforms = games_data[games_data['year_of_release']==2016]['platform'].unique()\n",
    "print('active platforms in 2016:',', '.join(active_platforms))\n",
    "\n",
    "# we will base on those platforms(we supose they will stay also in 2017) to determine the years\n",
    "start_year = 0\n",
    "for platform in active_platforms:\n",
    "    min_year = games_data[games_data['platform']==platform]['year_of_release'].min()\n",
    "    if min_year > start_year:\n",
    "        start_year = min_year\n",
    "\n",
    "print('the years we will use to predict 2017 data are:',start_year,'to',2016)\n",
    "\n",
    "# We want to see also to set a dataset to the past year(since 2002) to check which platforms was popular in the past\n",
    "analysis_data = games_data[games_data['year_of_release']>=start_year]\n",
    "past_years = [x for x in range(2002,start_year)]\n",
    "print(past_years)"
   ]
  },
  {
   "cell_type": "markdown",
   "metadata": {},
   "source": [
    "**3. Check how sales varied from platform to platform - check the past and take look at the relevent data** "
   ]
  },
  {
   "cell_type": "markdown",
   "metadata": {},
   "source": [
    "Before we jump to 2013-2016 and predict what will happen in 2017. we will check the past years(2002-2012) to see which platforms used to be popular and how they fall.   "
   ]
  },
  {
   "cell_type": "code",
   "execution_count": 58,
   "metadata": {},
   "outputs": [
    {
     "data": {
      "image/png": "[encoded data removed]",
      "text/plain": [
       "<Figure size 1080x576 with 1 Axes>"
      ]
     },
     "metadata": {
      "needs_background": "light"
     },
     "output_type": "display_data"
    },
    {
     "data": {
      "image/png": "[encoded data removed]",
      "text/plain": [
       "<Figure size 1080x576 with 1 Axes>"
      ]
     },
     "metadata": {
      "needs_background": "light"
     },
     "output_type": "display_data"
    },
    {
     "data": {
      "text/plain": [
       "Text(0, 0.5, 'Mean sales(in milions)')"
      ]
     },
     "execution_count": 58,
     "metadata": {},
     "output_type": "execute_result"
    },
    {
     "data": {
      "image/png": "[encoded data removed]",
      "text/plain": [
       "<Figure size 1080x576 with 1 Axes>"
      ]
     },
     "metadata": {
      "needs_background": "light"
     },
     "output_type": "display_data"
    }
   ],
   "source": [
    "# 3. Check how sales varied from platform to platform. we will pick the platforms with the greatest total sales and \n",
    "#    build a distribution based on data for each year from 2013. we will see which platforms used to be popular in \n",
    "#    the past but now have zero sales.\n",
    "\n",
    "# check the total sales for each platform:\n",
    "past_data = games_data.query('year_of_release >=2002 and year_of_release <=2012')\n",
    "platform_sales = past_data[['platform','total_sales']].groupby(['platform']).sum().sort_values(by='total_sales',ascending=False).reset_index()\n",
    "platform_sales['sales_z'] = (platform_sales['total_sales'] - platform_sales['total_sales'].mean()) / platform_sales['total_sales'].std()\n",
    "platform_sales['colors'] = ['red' if x<0 else 'green' for x in platform_sales['sales_z']]\n",
    "plt.figure(figsize=(15,8))\n",
    "plt.hlines(y=platform_sales.platform,xmin=0,xmax=platform_sales.sales_z,color=platform_sales.colors,linewidth=8)\n",
    "plt.xlabel('Z-test value')\n",
    "plt.ylabel('Platform')\n",
    "plt.title(\"Z test value for any type of platform\")\n",
    "\n",
    "# In green we can see the platform with z test value above zero and in red below zero\n",
    "# we will check only the platforms which have z test result above 1.5:\n",
    "past_sucessful_platforms = platform_sales[platform_sales['sales_z']>1]['platform'].unique()\n",
    "\n",
    "grouped1=past_data.groupby(['platform','year_of_release'])['total_sales'].mean().reset_index()\n",
    "ordered=grouped1.groupby(['platform'])['total_sales'].sum().sort_values().reset_index()['platform']\n",
    "\n",
    "# plot box plot table\n",
    "plt.figure(figsize=(15,8))\n",
    "sns.boxplot(x='platform',y='total_sales',data=grouped1,order=ordered).set_title('box plot of the 4 popular platforms in 2013-2016')\n",
    "plt.show()\n",
    "\n",
    "# create bar chart of the sales of the 4 best platforms during the years:\n",
    "data_past = past_data.query('platform in @past_sucessful_platforms ')\n",
    "grouped=data_past.groupby(['platform','year_of_release'])['total_sales'].sum().reset_index()\n",
    "\n",
    "ps3 = [0] * 11\n",
    "ps2= [0] * 11\n",
    "wii = [0] * 11\n",
    "ds = [0] * 11\n",
    "x360 = [0] * 11\n",
    "\n",
    "for index,row in grouped.iterrows():\n",
    "    index = row.year_of_release - 2002\n",
    "    # Check the platform\n",
    "    if row.platform == 'PS2':\n",
    "        ps2[index] = row.total_sales\n",
    "    if row.platform == 'PS3':\n",
    "        ps3[index] = row.total_sales\n",
    "    if row.platform == 'Wii':\n",
    "        wii[index] = row.total_sales\n",
    "    if row.platform == 'X360':\n",
    "        x360[index] = row.total_sales\n",
    "    if row.platform == 'DS':\n",
    "        ds[index] = row.total_sales\n",
    "\n",
    "df = pd.DataFrame()\n",
    "df['PS2'] = ps2\n",
    "df['PS3']= ps3\n",
    "df['Wii'] = wii\n",
    "df['X360'] = x360\n",
    "df['DS'] = ds\n",
    "df['year'] = past_years\n",
    "\n",
    "df.set_index('year',drop =True,inplace=True)\n",
    "ax = df.plot.bar(rot=0,figsize=(15,8),title='5 best platform total sales in 2002 to 2012')  \n",
    "plt.ylabel(\"Mean sales(in milions)\")\n",
    "        "
   ]
  },
  {
   "cell_type": "markdown",
   "metadata": {},
   "source": [
    "**4. Check platform sales during the year and determine potentially profitable platforms**"
   ]
  },
  {
   "cell_type": "markdown",
   "metadata": {},
   "source": [
    "In this analysis and the next ones we will see anaylsis to predict what will happen 2017 we will relay on data from 2013 to 2016"
   ]
  },
  {
   "cell_type": "code",
   "execution_count": 59,
   "metadata": {},
   "outputs": [
    {
     "data": {
      "image/png": "[encoded data removed]",
      "text/plain": [
       "<Figure size 1080x432 with 1 Axes>"
      ]
     },
     "metadata": {
      "needs_background": "light"
     },
     "output_type": "display_data"
    },
    {
     "name": "stdout",
     "output_type": "stream",
     "text": [
      "PS3 mean sales in 2016 is 41% compare to 2015.\n",
      "X360 mean sales in 2016 is 34% compare to 2015.\n",
      "PS4 mean sales in 2016 is 49% compare to 2015.\n",
      "3DS mean sales in 2016 is 102% compare to 2015.\n",
      "XOne mean sales in 2016 is 40% compare to 2015.\n",
      "WiiU mean sales in 2016 is 56% compare to 2015.\n",
      "Wii mean sales in 2016 is 63% compare to 2015.\n",
      "PC mean sales in 2016 is 57% compare to 2015.\n",
      "PSV mean sales in 2016 is 88% compare to 2015.\n",
      "DS mean sales in 2016 is 0% compare to 2015.\n",
      "PSP mean sales in 2016 is 0% compare to 2015.\n"
     ]
    },
    {
     "data": {
      "image/png": "[encoded data removed]",
      "text/plain": [
       "<Figure size 1080x576 with 1 Axes>"
      ]
     },
     "metadata": {
      "needs_background": "light"
     },
     "output_type": "display_data"
    }
   ],
   "source": [
    "# 4. We will check which platforms are leading in sales,Which ones are growing or shrinking \n",
    "# and we will select several potentially profitable platforms in 2017\n",
    "\n",
    "# plot in bar chart the mean of the total sales of the different compaines in the period: 2002-2016\n",
    "unique_platforms = analysis_data['platform'].unique()\n",
    "plot_platforms = []\n",
    "platforms_mean_sales = []\n",
    "for platform in unique_platforms:\n",
    "    mean_sales = analysis_data[analysis_data['platform']==platform]['total_sales'].mean()\n",
    "    plot_platforms.append(platform)\n",
    "    platforms_mean_sales.append(mean_sales)\n",
    "\n",
    "fig = plt.figure(figsize = (15,6))\n",
    " \n",
    "# creating the bar plot\n",
    "plt.bar(plot_platforms, platforms_mean_sales, color ='orange', width = 0.4)\n",
    " \n",
    "plt.xlabel(\"platforms\")\n",
    "plt.ylabel(\"Mean sales(in milions)\")\n",
    "plt.title(\"Platforms mean sales(in their active years) between 2013-2016\")\n",
    "plt.show()\n",
    "\n",
    "# Now lets check the platform mean total_income in 2013-2016 \n",
    "df = pd.DataFrame()\n",
    "for platform in unique_platforms:\n",
    "    mean_sales = []\n",
    "    for year in range(start_year,2017):\n",
    "        year_mean_sale = analysis_data.query('year_of_release == @year and platform ==@platform')['total_sales'].mean()\n",
    "        mean_sales.append(year_mean_sale)   \n",
    "    df[platform] = mean_sales\n",
    "# plot the bar chart     \n",
    "df['year']= [x for x in range(start_year,2017)]    \n",
    "df.set_index('year',drop =True,inplace=True)\n",
    "ax = df.plot.bar(rot=0,figsize=(15,8),title='platform mean income in 2013 to 2016')\n",
    "plt.ylabel(\"Mean sales(in milions)\")\n",
    "\n",
    "# Check the mean change during 2015-2016:\n",
    "for platform in unique_platforms:\n",
    "    mean_sale15 = analysis_data.query('year_of_release == 2015 and platform ==@platform')['total_sales'].mean()\n",
    "    mean_sale16 = analysis_data.query('year_of_release == 2016 and platform ==@platform')['total_sales'].mean()\n",
    "    percent = 0\n",
    "    if mean_sale15 == mean_sale15 and mean_sale16 == mean_sale16:    \n",
    "        percent = mean_sale16 / mean_sale15\n",
    "    print(platform,'mean sales in 2016 is {:.0%}'.format(percent),\"compare to 2015.\")"
   ]
  },
  {
   "cell_type": "markdown",
   "metadata": {},
   "source": [
    "**5. Display a box plot for the global sales of all games in 2002 to 2016** "
   ]
  },
  {
   "cell_type": "code",
   "execution_count": 60,
   "metadata": {},
   "outputs": [
    {
     "data": {
      "image/png": "[encoded data removed]",
      "text/plain": [
       "<Figure size 1080x576 with 1 Axes>"
      ]
     },
     "metadata": {
      "needs_background": "light"
     },
     "output_type": "display_data"
    },
    {
     "data": {
      "image/png": "[encoded data removed]",
      "text/plain": [
       "<Figure size 1080x576 with 1 Axes>"
      ]
     },
     "metadata": {
      "needs_background": "light"
     },
     "output_type": "display_data"
    }
   ],
   "source": [
    "# 5. create boxplot of the total_income for all the game for each year(2013-2016) and for all platforms  \n",
    "\n",
    "years_grouped=analysis_data.groupby(['platform','year_of_release'])['total_sales'].mean().reset_index().sort_values(['year_of_release'],ascending=False)\n",
    "years_ordered=years_grouped.groupby(['year_of_release'])['total_sales'].sum().reset_index()['year_of_release']\n",
    "\n",
    "# plot box plot table\n",
    "plt.figure(figsize=(15,8))\n",
    "sns.boxplot(x='year_of_release',y='total_sales',data=years_grouped,order=years_ordered).set_title('All games sales during each year from 2013 to 2016')\n",
    "plt.show()\n",
    "\n",
    "platforms_grouped=analysis_data.groupby(['platform','year_of_release'])['total_sales'].mean().reset_index()\n",
    "platforms_ordered=platforms_grouped.groupby(['platform'])['total_sales'].sum().sort_values().reset_index()['platform']\n",
    "\n",
    "# plot box plot table\n",
    "plt.figure(figsize=(15,8))\n",
    "sns.boxplot(x='platform',y='total_sales',data=platforms_grouped,order=platforms_ordered).set_title('box plot of the platforms total_sales in 2013-2016')\n",
    "plt.show()\n"
   ]
  },
  {
   "cell_type": "markdown",
   "metadata": {},
   "source": [
    "**6. Check out how professional reviews affect sales in the 3DS Platform**"
   ]
  },
  {
   "cell_type": "code",
   "execution_count": 61,
   "metadata": {},
   "outputs": [
    {
     "name": "stdout",
     "output_type": "stream",
     "text": [
      "Correlation between user_score to total_income: 0.06182271823593487.\n",
      "Correlation between critic_score to total_income: 0.09947347876737328.\n"
     ]
    },
    {
     "data": {
      "image/png": "[encoded data removed]",
      "text/plain": [
       "<Figure size 1080x432 with 1 Axes>"
      ]
     },
     "metadata": {
      "needs_background": "light"
     },
     "output_type": "display_data"
    },
    {
     "data": {
      "image/png": "[encoded data removed]",
      "text/plain": [
       "<Figure size 1080x432 with 1 Axes>"
      ]
     },
     "metadata": {
      "needs_background": "light"
     },
     "output_type": "display_data"
    }
   ],
   "source": [
    "# 6. Check out how professional reviews affect sales in the X360 Platform\n",
    "# take only the relevent data(from 3DS platform)\n",
    "filter_data = analysis_data.query('platform==\"3DS\"').copy()\n",
    "\n",
    "# show scatter plots how the user_score and critic_score influence the total_sales:\n",
    "filter_data.plot.scatter(x='user_score',y='total_sales',title='user_score vs total_sales',color='green',figsize=(15,6));\n",
    "filter_data.plot.scatter(x='critic_score',y='total_sales',title='critic_score vs total_sales',color='maroon',figsize=(15,6));\n",
    "\n",
    "# check the correlation between the user_score and critic_score to the total_sales:\n",
    "print('Correlation between user_score to total_income: {}.'.format(filter_data['total_sales'].corr(filter_data['user_score'])))\n",
    "print('Correlation between critic_score to total_income: {}.'.format(filter_data['total_sales'].corr(filter_data['critic_score'])))\n"
   ]
  },
  {
   "cell_type": "markdown",
   "metadata": {},
   "source": [
    "**7. Compare the sales of the same game on different platforms**"
   ]
  },
  {
   "cell_type": "code",
   "execution_count": 62,
   "metadata": {},
   "outputs": [
    {
     "name": "stdout",
     "output_type": "stream",
     "text": [
      "LEGO Marvel Super Heroes          9\n",
      "FIFA 14                           9\n",
      "LEGO The Hobbit                   8\n",
      "Lego Batman 3: Beyond Gotham      8\n",
      "The LEGO Movie Videogame          8\n",
      "                                 ..\n",
      "Kenka Banchou 6: Soul & Blood     1\n",
      "Darkstalkers Resurrection         1\n",
      "RIGS: Mechanized Combat League    1\n",
      "Storm Lover 2nd                   1\n",
      "Rhythm Heaven: The Best+          1\n",
      "Name: name, Length: 1263, dtype: int64\n"
     ]
    },
    {
     "data": {
      "text/plain": [
       "Text(0, 0.5, 'Mean sales(in milions)')"
      ]
     },
     "execution_count": 62,
     "metadata": {},
     "output_type": "execute_result"
    },
    {
     "data": {
      "image/png": "[encoded data removed]",
      "text/plain": [
       "<Figure size 1080x576 with 1 Axes>"
      ]
     },
     "metadata": {
      "needs_background": "light"
     },
     "output_type": "display_data"
    }
   ],
   "source": [
    "# 7. Compare the sales of the same game on different platforms\n",
    "# functions:\n",
    "def intersection(lst1, lst2):\n",
    "    lst3 = [value for value in lst1 if value in lst2]\n",
    "    return lst3\n",
    "\n",
    "\n",
    "# we will take the 3 most popular games that apears on the different platforms\n",
    "games_apperance = analysis_data['name'].value_counts(ascending=False)\n",
    "print(games_apperance)\n",
    "games_selected =['FIFA 14','LEGO Marvel Super Heroes','Angry Birds Star Wars']\n",
    "# check all the platforms that those games appears\n",
    "platforms1 = list(analysis_data[analysis_data['name']==games_selected[0]]['platform'])\n",
    "platforms2 = list(analysis_data[analysis_data['name']==games_selected[1]]['platform'])\n",
    "platforms3 = list(analysis_data[analysis_data['name']==games_selected[2]]['platform'])\n",
    "intersection1 = intersection(platforms1,platforms2)\n",
    "platform_intersection = intersection(intersection1,platforms3)\n",
    "\n",
    "# prepere df for the ploting\n",
    "df = pd.DataFrame()\n",
    "for platform in platform_intersection:\n",
    "    mean_sales = []\n",
    "    for game in games_selected:\n",
    "        game_mean_sale = analysis_data.query('name== @game and platform ==@platform')['total_sales'].sum()\n",
    "        mean_sales.append(game_mean_sale)   \n",
    "    df[platform] = mean_sales\n",
    "\n",
    "# plot the bar chart     \n",
    "df['game_name']= [x for x in games_selected] \n",
    "df.set_index('game_name',drop =True,inplace=True)\n",
    "ax = df.plot.bar(rot=0,figsize=(15,8),title='platform means sales for 3 different games')\n",
    "plt.ylabel(\"Mean sales(in milions)\")\n"
   ]
  },
  {
   "cell_type": "markdown",
   "metadata": {},
   "source": [
    "**8. Check general distribution of games by genre**"
   ]
  },
  {
   "cell_type": "code",
   "execution_count": 63,
   "metadata": {},
   "outputs": [
    {
     "data": {
      "image/png": "[encoded data removed]",
      "text/plain": [
       "<Figure size 1080x432 with 1 Axes>"
      ]
     },
     "metadata": {
      "needs_background": "light"
     },
     "output_type": "display_data"
    },
    {
     "data": {
      "image/png": "[encoded data removed]",
      "text/plain": [
       "<Figure size 1080x432 with 1 Axes>"
      ]
     },
     "metadata": {
      "needs_background": "light"
     },
     "output_type": "display_data"
    }
   ],
   "source": [
    "# 8. check general distribution of games by genre\n",
    "# check unique genre in our data:\n",
    "unique_generes = analysis_data['genre'].unique()\n",
    "\n",
    "# plot in bar chart the number games of the different genres in the period: 2013-2016\n",
    "generes_games = []\n",
    "for genre in unique_generes:\n",
    "    games = analysis_data[analysis_data['genre']==genre]['name'].count()\n",
    "    generes_games.append(games)\n",
    "\n",
    "fig = plt.figure(figsize = (15,6))\n",
    " \n",
    "# creating the bar plot\n",
    "plt.bar(unique_generes, generes_games, color ='blue', width = 0.4)\n",
    " \n",
    "plt.xlabel(\"genres\")\n",
    "plt.ylabel(\"Number of games\")\n",
    "plt.title(\"number of games according to the genre between the years 2013-2016\")\n",
    "plt.show()\n",
    "\n",
    "\n",
    "# plot in bar chart the mean of the total sales of the different genres in the period: 2002-2016\n",
    "generes_mean_sales = []\n",
    "for genre in unique_generes:\n",
    "    mean_sales = analysis_data[analysis_data['genre']==genre]['total_sales'].mean()\n",
    "    generes_mean_sales.append(mean_sales)\n",
    "\n",
    "fig = plt.figure(figsize = (15,6))\n",
    " \n",
    "# creating the bar plot\n",
    "plt.bar(unique_generes, generes_mean_sales, color ='purple', width = 0.4)\n",
    " \n",
    "plt.xlabel(\"genres\")\n",
    "plt.ylabel(\"Mean sales(in milions)\")\n",
    "plt.title(\"Genre mean sales(in their active years) between the years 2013-2016\")\n",
    "plt.show()\n",
    "\n"
   ]
  },
  {
   "cell_type": "markdown",
   "metadata": {},
   "source": [
    "### Conclusion "
   ]
  },
  {
   "cell_type": "markdown",
   "metadata": {},
   "source": [
    "In this part we have made an analysis on the data of the years 2002 to 2016, and we use the data of the years 2013 to 2016 to predict what will happen in 2017.<br>\n",
    "We did the following analysis:\n",
    "1. **check how many games were released in different years and select the relevent years**<br>\n",
    "    After checking our scatter plot that show how many games was released in those years we made following conclusions:\n",
    "    * In the years 1980-1993 the number of games released in each year was less than 100.\n",
    "    * 2002 was the first year that the number of games released was bigger than 500.\n",
    "    * In 2008 was the year with the largest number of games released.\n",
    "    * We have choose to analyze the data from the years of the years 2013-2016 to predict the results in 2017.\n",
    "\n",
    "2. **Check how sales varied from platform to platform**<br>\n",
    "    In this section we have started by check the mean sales of game in the past(2002-2012) of any platform and we calculate to z test for each of them to see what was the most profitable platforms over the years, we got the following findings:\n",
    "    * We have choose the platform with z value of 1 or above(their mean sales are bigger than the general mean by 1 standard deviation or more). we got the following platforms: PS2, PS3, Wii, DS and X360. when PS2 have the largest mean sales.\n",
    "    * The platforms that had the less sales mean over the years is: N64.\n",
    "    \n",
    "   After selecting the most successful platforms we check their bloxplot of the mean sales over the years and their sales on the years that had the largest number of games released: 2002-2012 <br>\n",
    "   The finding from our results:\n",
    "   * Wii mean sale per game in 200 was the highest and was above 3 milion when all the other mean sales was less the 1 million dolars.\n",
    "   * Apart Wii that after 2006 her mean sales decreased a lot the other platforms mean sales was stable during 2006-2011.\n",
    "   * PS was a really dominant platform but in 2012 he had 0 sales. his sales satrt to decreased in 2005.  \n",
    "\n",
    "3. **Decide which years and platforms we need to predict 2017 results**<br>\n",
    "    To estimate the platforms sales in 2017. we will choose all the platform that are still active on 2016. and we will take the years that all those platform was active before. we got those results:\n",
    "    * Active platforms in 2016: PS4, 3DS, XOne, WiiU, PS3, PC, X360, PSV, Wii \n",
    "    * Years that those platforms was active: 2013-2016\n",
    "\n",
    "4. **Check platform sales during the year and determine potentially profitable platforms**<br>\n",
    "    In this chapter we start by checking the platforms mean sales on 2013 to 2016 and we got those results:\n",
    "    * PS4 had largest mean sales on 2013-2016 and X360 was right after him.\n",
    "    * PSP had the smallest mean sales in this period.\n",
    "    * The mean sales per game in the different platforms was around 4 milion dolars.\n",
    "    \n",
    "    To determine potentially profitable platforms firstly we have checked the difference between the mean sales in 2015 to 2016:\n",
    "    * Except 3DS that increased a little bit their sales. all the other platform decreased the mean sales in 2016.\n",
    "    * The platforms that was the most stable on the their profit on those year was 3DS and PSV. when the less stable was X360.\n",
    "   \n",
    "   We have also created a bar chart about the mean sales of the active platforms on 2013 to 2016. We got those results:\n",
    "   * In those years the platforms that their mean sales decreased the most was PS4 and X360.\n",
    "   * PSV and 3DS had the most stable mean sales.\n",
    "   \n",
    "   I estimate according to the mean sales value and differnces between over the years 2013-2016 that the platforms that will have the largest mean_sales in 2017 are:\n",
    "   * 3DS - because of the stability of their mean sales over those years.\n",
    "   * PS4, Xone, WiiU - because of their largest mean sales in 2016(almost double than the other platforms)\n",
    "   \n",
    "5. **Display a boxplot for the global sales of all games in 2013 to 2016**<br>\n",
    "    In this step we shown two boxplots:\n",
    "    * Boxplot for income of all the games on each year from 2013 to 2016 - From this boxplot we see that in 2013 the mean sales per game was the bigger and in 2016 was the smallest.\n",
    "    * Boxplot for the mean sales of each active platform from 2013 to 2016 - The platforms that had the largest mean_sales are PS4(That have also the largest varience). when the platforms that had smallest mean sales are PSV and PSP when their mean sales is almost equal to zero(almost no sales) and they had the smallest varience.\n",
    "\n",
    "\n",
    "6. **Check out how professional reviews affect sales in the 3DS Platform**<br>\n",
    "    In this part we have checked how the user_score and critic score affect sales on x360 platforms, wegot from the scatterplot and correlation the following results:\n",
    "    * In the two scatterplot we don't see a consistentency between the reviews to to the total sales so we supost there's not a strong connection between the reviews to the total sales\n",
    "    * The correlation has proved what we suposed - the user score correlation to the total sales is really small- 0.07 so the user review doesn't affect the total sales in the X360 platform.<br> The correlation between the critic score to the total sales was a little bit higher ~ 0.108 but still we can't say that critic has a big affect on the the sales in the X360 platform.  \n",
    "\n",
    "7. **Compare the sales of the same game on different platforms**<br>\n",
    "    We have checked the 3 games that apear most on the different platforms on 2013-206(because the number of games that appear is huge) and we have checked his mean sales in each platform.\n",
    "    We saw that on 2 games PS3 and X360 have much bigger mean sales than the other platforms.\n",
    "    \n",
    "8. **Check general distribution of games by genre**<br>\n",
    "    In this last analysis we have checked how the genre influence the mean sales.<br>\n",
    "    We did the following steps:\n",
    "    * Check the number of games of each genre during 2013-2016 - The genre that have the bigger total number of games is Action(almost 3000 games). when the puzzle had the smallest total number of games(around 500 games).\n",
    "    * Check the mean sales of each genre during 2013-2016 - Although that their number of games are not high the genres shooter and platform had the biggest mean sales(Over 6 milion dolars), when the adventure genre had the smallest one.  "
   ]
  },
  {
   "cell_type": "markdown",
   "metadata": {},
   "source": [
    "## Create a user profile for each region "
   ]
  },
  {
   "cell_type": "markdown",
   "metadata": {},
   "source": [
    "**1. Check the top five platforms from region to region**"
   ]
  },
  {
   "cell_type": "code",
   "execution_count": 64,
   "metadata": {},
   "outputs": [
    {
     "name": "stdout",
     "output_type": "stream",
     "text": [
      "Top five platform in NA:\n"
     ]
    },
    {
     "data": {
      "text/html": [
       "<div>\n",
       "<style scoped>\n",
       "    .dataframe tbody tr th:only-of-type {\n",
       "        vertical-align: middle;\n",
       "    }\n",
       "\n",
       "    .dataframe tbody tr th {\n",
       "        vertical-align: top;\n",
       "    }\n",
       "\n",
       "    .dataframe thead th {\n",
       "        text-align: right;\n",
       "    }\n",
       "</style>\n",
       "<table border=\"1\" class=\"dataframe\">\n",
       "  <thead>\n",
       "    <tr style=\"text-align: right;\">\n",
       "      <th></th>\n",
       "      <th>na_sales</th>\n",
       "    </tr>\n",
       "    <tr>\n",
       "      <th>platform</th>\n",
       "      <th></th>\n",
       "    </tr>\n",
       "  </thead>\n",
       "  <tbody>\n",
       "    <tr>\n",
       "      <th>PS4</th>\n",
       "      <td>108.739998</td>\n",
       "    </tr>\n",
       "    <tr>\n",
       "      <th>XOne</th>\n",
       "      <td>93.120003</td>\n",
       "    </tr>\n",
       "    <tr>\n",
       "      <th>X360</th>\n",
       "      <td>81.659996</td>\n",
       "    </tr>\n",
       "    <tr>\n",
       "      <th>PS3</th>\n",
       "      <td>63.500000</td>\n",
       "    </tr>\n",
       "    <tr>\n",
       "      <th>3DS</th>\n",
       "      <td>38.200001</td>\n",
       "    </tr>\n",
       "  </tbody>\n",
       "</table>\n",
       "</div>"
      ],
      "text/plain": [
       "            na_sales\n",
       "platform            \n",
       "PS4       108.739998\n",
       "XOne       93.120003\n",
       "X360       81.659996\n",
       "PS3        63.500000\n",
       "3DS        38.200001"
      ]
     },
     "metadata": {},
     "output_type": "display_data"
    },
    {
     "name": "stdout",
     "output_type": "stream",
     "text": [
      "\n",
      "Top five platform in EU:\n"
     ]
    },
    {
     "data": {
      "text/html": [
       "<div>\n",
       "<style scoped>\n",
       "    .dataframe tbody tr th:only-of-type {\n",
       "        vertical-align: middle;\n",
       "    }\n",
       "\n",
       "    .dataframe tbody tr th {\n",
       "        vertical-align: top;\n",
       "    }\n",
       "\n",
       "    .dataframe thead th {\n",
       "        text-align: right;\n",
       "    }\n",
       "</style>\n",
       "<table border=\"1\" class=\"dataframe\">\n",
       "  <thead>\n",
       "    <tr style=\"text-align: right;\">\n",
       "      <th></th>\n",
       "      <th>eu_sales</th>\n",
       "    </tr>\n",
       "    <tr>\n",
       "      <th>platform</th>\n",
       "      <th></th>\n",
       "    </tr>\n",
       "  </thead>\n",
       "  <tbody>\n",
       "    <tr>\n",
       "      <th>PS4</th>\n",
       "      <td>141.089996</td>\n",
       "    </tr>\n",
       "    <tr>\n",
       "      <th>PS3</th>\n",
       "      <td>67.809998</td>\n",
       "    </tr>\n",
       "    <tr>\n",
       "      <th>XOne</th>\n",
       "      <td>51.590000</td>\n",
       "    </tr>\n",
       "    <tr>\n",
       "      <th>X360</th>\n",
       "      <td>42.520000</td>\n",
       "    </tr>\n",
       "    <tr>\n",
       "      <th>3DS</th>\n",
       "      <td>30.959999</td>\n",
       "    </tr>\n",
       "  </tbody>\n",
       "</table>\n",
       "</div>"
      ],
      "text/plain": [
       "            eu_sales\n",
       "platform            \n",
       "PS4       141.089996\n",
       "PS3        67.809998\n",
       "XOne       51.590000\n",
       "X360       42.520000\n",
       "3DS        30.959999"
      ]
     },
     "metadata": {},
     "output_type": "display_data"
    },
    {
     "name": "stdout",
     "output_type": "stream",
     "text": [
      "\n",
      "Top five platform in JP:\n"
     ]
    },
    {
     "data": {
      "text/html": [
       "<div>\n",
       "<style scoped>\n",
       "    .dataframe tbody tr th:only-of-type {\n",
       "        vertical-align: middle;\n",
       "    }\n",
       "\n",
       "    .dataframe tbody tr th {\n",
       "        vertical-align: top;\n",
       "    }\n",
       "\n",
       "    .dataframe thead th {\n",
       "        text-align: right;\n",
       "    }\n",
       "</style>\n",
       "<table border=\"1\" class=\"dataframe\">\n",
       "  <thead>\n",
       "    <tr style=\"text-align: right;\">\n",
       "      <th></th>\n",
       "      <th>jp_sales</th>\n",
       "    </tr>\n",
       "    <tr>\n",
       "      <th>platform</th>\n",
       "      <th></th>\n",
       "    </tr>\n",
       "  </thead>\n",
       "  <tbody>\n",
       "    <tr>\n",
       "      <th>3DS</th>\n",
       "      <td>67.809998</td>\n",
       "    </tr>\n",
       "    <tr>\n",
       "      <th>PS3</th>\n",
       "      <td>23.350000</td>\n",
       "    </tr>\n",
       "    <tr>\n",
       "      <th>PSV</th>\n",
       "      <td>18.590000</td>\n",
       "    </tr>\n",
       "    <tr>\n",
       "      <th>PS4</th>\n",
       "      <td>15.960000</td>\n",
       "    </tr>\n",
       "    <tr>\n",
       "      <th>WiiU</th>\n",
       "      <td>10.880000</td>\n",
       "    </tr>\n",
       "  </tbody>\n",
       "</table>\n",
       "</div>"
      ],
      "text/plain": [
       "           jp_sales\n",
       "platform           \n",
       "3DS       67.809998\n",
       "PS3       23.350000\n",
       "PSV       18.590000\n",
       "PS4       15.960000\n",
       "WiiU      10.880000"
      ]
     },
     "metadata": {},
     "output_type": "display_data"
    }
   ],
   "source": [
    "# 1. Check the top five platforms from region to region.\n",
    "# Top five platform in NA:\n",
    "na_pivot = analysis_data.pivot_table(index='platform', values='na_sales', aggfunc='sum').sort_values(['na_sales'],ascending=False)\n",
    "print('Top five platform in NA:')\n",
    "display(na_pivot.head(5))\n",
    "\n",
    "# Top five platform in EU:\n",
    "eu_pivot = analysis_data.pivot_table(index='platform', values='eu_sales', aggfunc='sum').sort_values(['eu_sales'],ascending=False)\n",
    "print('\\n'+'Top five platform in EU:')\n",
    "display(eu_pivot.head(5))\n",
    "\n",
    "# Top five platform in JP:\n",
    "jp_pivot = analysis_data.pivot_table(index='platform', values='jp_sales', aggfunc='sum').sort_values(['jp_sales'],ascending=False)\n",
    "print('\\n'+'Top five platform in JP:')\n",
    "display(jp_pivot.head(5))"
   ]
  },
  {
   "cell_type": "markdown",
   "metadata": {},
   "source": [
    "**2. Check the top five genres from region to region**"
   ]
  },
  {
   "cell_type": "code",
   "execution_count": 65,
   "metadata": {},
   "outputs": [
    {
     "name": "stdout",
     "output_type": "stream",
     "text": [
      "Top five genres in NA:\n"
     ]
    },
    {
     "data": {
      "text/html": [
       "<div>\n",
       "<style scoped>\n",
       "    .dataframe tbody tr th:only-of-type {\n",
       "        vertical-align: middle;\n",
       "    }\n",
       "\n",
       "    .dataframe tbody tr th {\n",
       "        vertical-align: top;\n",
       "    }\n",
       "\n",
       "    .dataframe thead th {\n",
       "        text-align: right;\n",
       "    }\n",
       "</style>\n",
       "<table border=\"1\" class=\"dataframe\">\n",
       "  <thead>\n",
       "    <tr style=\"text-align: right;\">\n",
       "      <th></th>\n",
       "      <th>na_sales</th>\n",
       "    </tr>\n",
       "    <tr>\n",
       "      <th>genre</th>\n",
       "      <th></th>\n",
       "    </tr>\n",
       "  </thead>\n",
       "  <tbody>\n",
       "    <tr>\n",
       "      <th>Action</th>\n",
       "      <td>126.050003</td>\n",
       "    </tr>\n",
       "    <tr>\n",
       "      <th>Shooter</th>\n",
       "      <td>109.739998</td>\n",
       "    </tr>\n",
       "    <tr>\n",
       "      <th>Sports</th>\n",
       "      <td>65.269997</td>\n",
       "    </tr>\n",
       "    <tr>\n",
       "      <th>Role-Playing</th>\n",
       "      <td>46.400002</td>\n",
       "    </tr>\n",
       "    <tr>\n",
       "      <th>Misc</th>\n",
       "      <td>27.490000</td>\n",
       "    </tr>\n",
       "  </tbody>\n",
       "</table>\n",
       "</div>"
      ],
      "text/plain": [
       "                na_sales\n",
       "genre                   \n",
       "Action        126.050003\n",
       "Shooter       109.739998\n",
       "Sports         65.269997\n",
       "Role-Playing   46.400002\n",
       "Misc           27.490000"
      ]
     },
     "metadata": {},
     "output_type": "display_data"
    },
    {
     "name": "stdout",
     "output_type": "stream",
     "text": [
      "\n",
      "Top five genres in EU:\n"
     ]
    },
    {
     "data": {
      "text/html": [
       "<div>\n",
       "<style scoped>\n",
       "    .dataframe tbody tr th:only-of-type {\n",
       "        vertical-align: middle;\n",
       "    }\n",
       "\n",
       "    .dataframe tbody tr th {\n",
       "        vertical-align: top;\n",
       "    }\n",
       "\n",
       "    .dataframe thead th {\n",
       "        text-align: right;\n",
       "    }\n",
       "</style>\n",
       "<table border=\"1\" class=\"dataframe\">\n",
       "  <thead>\n",
       "    <tr style=\"text-align: right;\">\n",
       "      <th></th>\n",
       "      <th>eu_sales</th>\n",
       "    </tr>\n",
       "    <tr>\n",
       "      <th>genre</th>\n",
       "      <th></th>\n",
       "    </tr>\n",
       "  </thead>\n",
       "  <tbody>\n",
       "    <tr>\n",
       "      <th>Action</th>\n",
       "      <td>118.129997</td>\n",
       "    </tr>\n",
       "    <tr>\n",
       "      <th>Shooter</th>\n",
       "      <td>87.860001</td>\n",
       "    </tr>\n",
       "    <tr>\n",
       "      <th>Sports</th>\n",
       "      <td>60.520000</td>\n",
       "    </tr>\n",
       "    <tr>\n",
       "      <th>Role-Playing</th>\n",
       "      <td>36.970001</td>\n",
       "    </tr>\n",
       "    <tr>\n",
       "      <th>Racing</th>\n",
       "      <td>20.190001</td>\n",
       "    </tr>\n",
       "  </tbody>\n",
       "</table>\n",
       "</div>"
      ],
      "text/plain": [
       "                eu_sales\n",
       "genre                   \n",
       "Action        118.129997\n",
       "Shooter        87.860001\n",
       "Sports         60.520000\n",
       "Role-Playing   36.970001\n",
       "Racing         20.190001"
      ]
     },
     "metadata": {},
     "output_type": "display_data"
    },
    {
     "name": "stdout",
     "output_type": "stream",
     "text": [
      "\n",
      "Top five genres in JP:\n"
     ]
    },
    {
     "data": {
      "text/html": [
       "<div>\n",
       "<style scoped>\n",
       "    .dataframe tbody tr th:only-of-type {\n",
       "        vertical-align: middle;\n",
       "    }\n",
       "\n",
       "    .dataframe tbody tr th {\n",
       "        vertical-align: top;\n",
       "    }\n",
       "\n",
       "    .dataframe thead th {\n",
       "        text-align: right;\n",
       "    }\n",
       "</style>\n",
       "<table border=\"1\" class=\"dataframe\">\n",
       "  <thead>\n",
       "    <tr style=\"text-align: right;\">\n",
       "      <th></th>\n",
       "      <th>jp_sales</th>\n",
       "    </tr>\n",
       "    <tr>\n",
       "      <th>genre</th>\n",
       "      <th></th>\n",
       "    </tr>\n",
       "  </thead>\n",
       "  <tbody>\n",
       "    <tr>\n",
       "      <th>Role-Playing</th>\n",
       "      <td>51.040001</td>\n",
       "    </tr>\n",
       "    <tr>\n",
       "      <th>Action</th>\n",
       "      <td>40.490002</td>\n",
       "    </tr>\n",
       "    <tr>\n",
       "      <th>Misc</th>\n",
       "      <td>9.200000</td>\n",
       "    </tr>\n",
       "    <tr>\n",
       "      <th>Fighting</th>\n",
       "      <td>7.650000</td>\n",
       "    </tr>\n",
       "    <tr>\n",
       "      <th>Shooter</th>\n",
       "      <td>6.610000</td>\n",
       "    </tr>\n",
       "  </tbody>\n",
       "</table>\n",
       "</div>"
      ],
      "text/plain": [
       "               jp_sales\n",
       "genre                  \n",
       "Role-Playing  51.040001\n",
       "Action        40.490002\n",
       "Misc           9.200000\n",
       "Fighting       7.650000\n",
       "Shooter        6.610000"
      ]
     },
     "metadata": {},
     "output_type": "display_data"
    }
   ],
   "source": [
    "# 2. Check the top five genres from region to region.\n",
    "# Top five generes in NA:\n",
    "na_pivot_genre = analysis_data.pivot_table(index='genre', values='na_sales', aggfunc='sum').sort_values(['na_sales'],ascending=False)\n",
    "print('Top five genres in NA:')\n",
    "display(na_pivot_genre.head(5))\n",
    "\n",
    "# Top five generes in EU:\n",
    "eu_pivot_genre = analysis_data.pivot_table(index='genre', values='eu_sales', aggfunc='sum').sort_values(['eu_sales'],ascending=False)\n",
    "print('\\n'+'Top five genres in EU:')\n",
    "display(eu_pivot_genre.head(5))\n",
    "\n",
    "# Top five generes in JP:\n",
    "jp_pivot_genre = analysis_data.pivot_table(index='genre', values='jp_sales', aggfunc='sum').sort_values(['jp_sales'],ascending=False)\n",
    "print('\\n'+'Top five genres in JP:')\n",
    "display(jp_pivot_genre.head(5))"
   ]
  },
  {
   "cell_type": "markdown",
   "metadata": {},
   "source": [
    "**3. Check if ESRB ratings affect sales in individual regions**"
   ]
  },
  {
   "cell_type": "code",
   "execution_count": 66,
   "metadata": {},
   "outputs": [
    {
     "name": "stdout",
     "output_type": "stream",
     "text": [
      "Rating influence in NA:\n"
     ]
    },
    {
     "data": {
      "text/html": [
       "<div>\n",
       "<style scoped>\n",
       "    .dataframe tbody tr th:only-of-type {\n",
       "        vertical-align: middle;\n",
       "    }\n",
       "\n",
       "    .dataframe tbody tr th {\n",
       "        vertical-align: top;\n",
       "    }\n",
       "\n",
       "    .dataframe thead th {\n",
       "        text-align: right;\n",
       "    }\n",
       "</style>\n",
       "<table border=\"1\" class=\"dataframe\">\n",
       "  <thead>\n",
       "    <tr style=\"text-align: right;\">\n",
       "      <th></th>\n",
       "      <th>na_sales</th>\n",
       "    </tr>\n",
       "    <tr>\n",
       "      <th>rating</th>\n",
       "      <th></th>\n",
       "    </tr>\n",
       "  </thead>\n",
       "  <tbody>\n",
       "    <tr>\n",
       "      <th>M</th>\n",
       "      <td>184.770004</td>\n",
       "    </tr>\n",
       "    <tr>\n",
       "      <th>E</th>\n",
       "      <td>84.459999</td>\n",
       "    </tr>\n",
       "    <tr>\n",
       "      <th>T</th>\n",
       "      <td>79.089996</td>\n",
       "    </tr>\n",
       "    <tr>\n",
       "      <th>E10+</th>\n",
       "      <td>54.240002</td>\n",
       "    </tr>\n",
       "    <tr>\n",
       "      <th>AO</th>\n",
       "      <td>17.360001</td>\n",
       "    </tr>\n",
       "    <tr>\n",
       "      <th>EC</th>\n",
       "      <td>16.590000</td>\n",
       "    </tr>\n",
       "    <tr>\n",
       "      <th>RP</th>\n",
       "      <td>1.200000</td>\n",
       "    </tr>\n",
       "  </tbody>\n",
       "</table>\n",
       "</div>"
      ],
      "text/plain": [
       "          na_sales\n",
       "rating            \n",
       "M       184.770004\n",
       "E        84.459999\n",
       "T        79.089996\n",
       "E10+     54.240002\n",
       "AO       17.360001\n",
       "EC       16.590000\n",
       "RP        1.200000"
      ]
     },
     "metadata": {},
     "output_type": "display_data"
    },
    {
     "name": "stdout",
     "output_type": "stream",
     "text": [
      "\n",
      "Rating influence in EU:\n"
     ]
    },
    {
     "data": {
      "text/html": [
       "<div>\n",
       "<style scoped>\n",
       "    .dataframe tbody tr th:only-of-type {\n",
       "        vertical-align: middle;\n",
       "    }\n",
       "\n",
       "    .dataframe tbody tr th {\n",
       "        vertical-align: top;\n",
       "    }\n",
       "\n",
       "    .dataframe thead th {\n",
       "        text-align: right;\n",
       "    }\n",
       "</style>\n",
       "<table border=\"1\" class=\"dataframe\">\n",
       "  <thead>\n",
       "    <tr style=\"text-align: right;\">\n",
       "      <th></th>\n",
       "      <th>eu_sales</th>\n",
       "    </tr>\n",
       "    <tr>\n",
       "      <th>rating</th>\n",
       "      <th></th>\n",
       "    </tr>\n",
       "  </thead>\n",
       "  <tbody>\n",
       "    <tr>\n",
       "      <th>M</th>\n",
       "      <td>162.210007</td>\n",
       "    </tr>\n",
       "    <tr>\n",
       "      <th>E</th>\n",
       "      <td>91.720001</td>\n",
       "    </tr>\n",
       "    <tr>\n",
       "      <th>T</th>\n",
       "      <td>61.470001</td>\n",
       "    </tr>\n",
       "    <tr>\n",
       "      <th>E10+</th>\n",
       "      <td>42.689999</td>\n",
       "    </tr>\n",
       "    <tr>\n",
       "      <th>AO</th>\n",
       "      <td>17.180000</td>\n",
       "    </tr>\n",
       "    <tr>\n",
       "      <th>EC</th>\n",
       "      <td>13.990000</td>\n",
       "    </tr>\n",
       "    <tr>\n",
       "      <th>RP</th>\n",
       "      <td>2.970000</td>\n",
       "    </tr>\n",
       "  </tbody>\n",
       "</table>\n",
       "</div>"
      ],
      "text/plain": [
       "          eu_sales\n",
       "rating            \n",
       "M       162.210007\n",
       "E        91.720001\n",
       "T        61.470001\n",
       "E10+     42.689999\n",
       "AO       17.180000\n",
       "EC       13.990000\n",
       "RP        2.970000"
      ]
     },
     "metadata": {},
     "output_type": "display_data"
    },
    {
     "name": "stdout",
     "output_type": "stream",
     "text": [
      "\n",
      "Rating influence in JP:\n"
     ]
    },
    {
     "data": {
      "text/html": [
       "<div>\n",
       "<style scoped>\n",
       "    .dataframe tbody tr th:only-of-type {\n",
       "        vertical-align: middle;\n",
       "    }\n",
       "\n",
       "    .dataframe tbody tr th {\n",
       "        vertical-align: top;\n",
       "    }\n",
       "\n",
       "    .dataframe thead th {\n",
       "        text-align: right;\n",
       "    }\n",
       "</style>\n",
       "<table border=\"1\" class=\"dataframe\">\n",
       "  <thead>\n",
       "    <tr style=\"text-align: right;\">\n",
       "      <th></th>\n",
       "      <th>jp_sales</th>\n",
       "    </tr>\n",
       "    <tr>\n",
       "      <th>rating</th>\n",
       "      <th></th>\n",
       "    </tr>\n",
       "  </thead>\n",
       "  <tbody>\n",
       "    <tr>\n",
       "      <th>T</th>\n",
       "      <td>61.759998</td>\n",
       "    </tr>\n",
       "    <tr>\n",
       "      <th>AO</th>\n",
       "      <td>23.410000</td>\n",
       "    </tr>\n",
       "    <tr>\n",
       "      <th>E</th>\n",
       "      <td>22.190001</td>\n",
       "    </tr>\n",
       "    <tr>\n",
       "      <th>M</th>\n",
       "      <td>14.920000</td>\n",
       "    </tr>\n",
       "    <tr>\n",
       "      <th>EC</th>\n",
       "      <td>10.920000</td>\n",
       "    </tr>\n",
       "    <tr>\n",
       "      <th>E10+</th>\n",
       "      <td>5.890000</td>\n",
       "    </tr>\n",
       "    <tr>\n",
       "      <th>RP</th>\n",
       "      <td>1.690000</td>\n",
       "    </tr>\n",
       "  </tbody>\n",
       "</table>\n",
       "</div>"
      ],
      "text/plain": [
       "         jp_sales\n",
       "rating           \n",
       "T       61.759998\n",
       "AO      23.410000\n",
       "E       22.190001\n",
       "M       14.920000\n",
       "EC      10.920000\n",
       "E10+     5.890000\n",
       "RP       1.690000"
      ]
     },
     "metadata": {},
     "output_type": "display_data"
    }
   ],
   "source": [
    "# 3. Check if ESRB ratings affect sales in individual regions.\n",
    "# rating influence in NA:\n",
    "na_pivot_esrb = analysis_data.pivot_table(index='rating', values='na_sales', aggfunc='sum').sort_values(['na_sales'],ascending=False)\n",
    "print('Rating influence in NA:')\n",
    "display(na_pivot_esrb)\n",
    "\n",
    "# rating influence in EU:\n",
    "eu_pivot_esrb = analysis_data.pivot_table(index='rating', values='eu_sales', aggfunc='sum').sort_values(['eu_sales'],ascending=False)\n",
    "print('\\n'+'Rating influence in EU:')\n",
    "display(eu_pivot_esrb)\n",
    "\n",
    "# rating influence in JP:\n",
    "jp_pivot_esrb = analysis_data.pivot_table(index='rating', values='jp_sales', aggfunc='sum').sort_values(['jp_sales'],ascending=False)\n",
    "print('\\n'+'Rating influence in JP:')\n",
    "display(jp_pivot_esrb)"
   ]
  },
  {
   "cell_type": "markdown",
   "metadata": {},
   "source": [
    "### Conclusion"
   ]
  },
  {
   "cell_type": "markdown",
   "metadata": {},
   "source": [
    "In this chapter we did this steps:\n",
    "1. Check the top five platforms from region to region (In 2013 to 2016) - We got the following results:\n",
    "    * In North America the 5 platform that had the most sales are: PS4, XOne, X360, PS3, 3DS\n",
    "    * In Europe the 5 platform that had the most sales are: PS4, PS3, XOne, X360, 3DS\n",
    "    * In Japan the 5 platform that had the most sales are: 3DS, PS3, PSV, PS4, WiiU\n",
    "    \n",
    "   From our results we got the following findings:\n",
    "    * PS(Play Satation) platforms are really popular in all the three regions.\n",
    "    * The most popular platform in North America is PS4\n",
    "    * The most popular platform in Europe is PS4\n",
    "    * The most popular platform in Japan is 3DS\n",
    "    * In Japan the 3DS(Nintendo) platform are more popular than XOne(which in other regions is the oposite). and also the X360 that is really popular in the the other regions is not so popular in Japan. \n",
    "\n",
    "2. Check the top five genres from region to region (In 2013 to 2016) - We got the following results:\n",
    "    * In North America the 5 genres that had the most sales are: Action, Shooter, Sports, Role-Playing, Misc.\n",
    "    * In Europe the 5 genres that had the most sales are: Action, Shooter, Sports, Role-Playing, Racing.\n",
    "    * In Japan the 5 genres that had the most sales are: Role-Playing, Action, Misc, Fighting, Shooter\n",
    "    \n",
    "   From our results we got the following findings:\n",
    "    * The Action genre is really popular in all the three regions(In North America and Europe is the most popular).\n",
    "    * The most popular genre in Japan is Role-Playing(In the other regions is Action).\n",
    "    * In Japan the Sports and Shooter genres are less popular than Misc genre(which in other regions is the oposite). \n",
    "    * In Europe is the only region that the Misc genre is not in the top 5 genres\n",
    "\n",
    "3. Check if ESRB ratings affect sales in individual regions - after checking the results we the following findings:\n",
    "    * The E rating(Everyone) have the large affect on the sales in all the regions.\n",
    "    * The T rating(Teen) have a big affect on the sales only in japan.\n",
    "    * The M rating(Mature 17+) have a big affect on the sales in Europe and North america.\n",
    "    \n",
    "   we can conclude that the the rating affect sales almost at the same way in every region, only in japan the rating affects differently. \n",
    "\n",
    "\n"
   ]
  },
  {
   "cell_type": "markdown",
   "metadata": {},
   "source": [
    "## Test Hypotheses "
   ]
  },
  {
   "cell_type": "code",
   "execution_count": 67,
   "metadata": {},
   "outputs": [
    {
     "name": "stdout",
     "output_type": "stream",
     "text": [
      "____________TEST1:____________\n",
      "\n",
      "Null hypothesis: Average user ratings of the Xbox One and PC platforms are the same.\n",
      "Alternative hypothesis: Average user ratings of the Xbox One and PC platforms are different.\n",
      "Xbox mean user_rating: 6.505522\n",
      "pc total user_rating: 6.4639945\n",
      "p-value of the alternative hypothesis: 0.753261688415556\n",
      "We can't reject the null hypothesis\n",
      "\n",
      "____________TEST2:____________\n",
      "\n",
      "Null hypothesis: Average user ratings for the Action and Sports genres are the same.\n",
      "Alternative hypothesis: Average user ratings for the Action and Sports genres are different.\n",
      "Action genre games mean user_score: 7.1997576\n",
      "Sports genre games mean user_score: 5.6738806\n",
      "p-value of the alternative hypothesis: 2.1059037853187464e-24\n",
      "We reject the null hypothesis\n",
      "\n"
     ]
    }
   ],
   "source": [
    "# Test hypotheses:\n",
    "# 1.Average user ratings of the Xbox One and PC platforms are the same\n",
    "# 2.Average user ratings for the Action and Sports genres are different\n",
    "\n",
    "# set a critical statistical significance level for both tests:\n",
    "alpha = 0.05\n",
    "\n",
    "#______________________First test:______________________\n",
    "\n",
    "print('____________TEST1:____________\\n')\n",
    "print('Null hypothesis: Average user ratings of the Xbox One and PC platforms are the same.')\n",
    "print('Alternative hypothesis: Average user ratings of the Xbox One and PC platforms are different.')\n",
    "\n",
    "# select only xbox and pc data\n",
    "df = analysis_data.dropna(subset = [\"user_score\"])\n",
    "xbox_data = df.loc[analysis_data['platform'].str.contains('X')]\n",
    "pc_data = df.loc[analysis_data['platform'].str.contains('PC')]\n",
    "\n",
    "# check the mean before we go\n",
    "xbox_mean = xbox_data['user_score'].mean()\n",
    "pc_mean = pc_data['user_score'].mean()\n",
    "print('Xbox mean user_rating:',xbox_mean)\n",
    "print('pc total user_rating:',pc_mean)\n",
    "\n",
    "results_test1 = st.ttest_ind(xbox_data['user_score'], pc_data['user_score'],nan_policy='omit')\n",
    "print('p-value of the alternative hypothesis:', results_test1.pvalue)\n",
    "\n",
    "if (results_test1.pvalue<alpha):\n",
    "    print(\"We reject the null hypothesis\\n\")\n",
    "else:\n",
    "    print(\"We can't reject the null hypothesis\\n\")\n",
    "\n",
    "# #______________________Second test:______________________\n",
    "\n",
    "print('____________TEST2:____________\\n')\n",
    "print('Null hypothesis: Average user ratings for the Action and Sports genres are the same.')\n",
    "print('Alternative hypothesis: Average user ratings for the Action and Sports genres are different.')\n",
    "    \n",
    "action_sales_mean = df[df['genre']=='Action']['user_score'].mean()\n",
    "sports_sales_mean = df[df['genre']=='Sports']['user_score'].mean()\n",
    "print('Action genre games mean user_score:',action_sales_mean)\n",
    "print('Sports genre games mean user_score:',sports_sales_mean)\n",
    "\n",
    "results_test2 = st.ttest_ind(df[df['genre']=='Action']['user_score'], df[df['genre']=='Sports']['user_score'], nan_policy='omit', equal_var=False)\n",
    "print('p-value of the alternative hypothesis:', results_test2.pvalue)\n",
    "\n",
    "if (results_test2.pvalue<alpha):\n",
    "    print(\"We reject the null hypothesis\\n\")\n",
    "else:\n",
    "    print(\"We can't reject the null hypothesis\\n\")\n",
    "    "
   ]
  },
  {
   "cell_type": "markdown",
   "metadata": {},
   "source": [
    "### Conclusion "
   ]
  },
  {
   "cell_type": "markdown",
   "metadata": {},
   "source": [
    "We have checked 2 test hypotheses, we set a critical statistical significance level for both tests $\\alpha = 0.05$ for make sure that this really happen(that anomalies in data will not give us false results):\n",
    "1. The Average user ratings of the Xbox One and PC platforms are the same\n",
    "\n",
    "   We formulated the test in this way:\n",
    "   * Null hypothesis: Average user ratings of the Xbox One and PC platforms are the same.\n",
    "   * Alternative hypothesis: Average user ratings of the Xbox One and PC platforms are different.\n",
    "   \n",
    "   We have calculated the p-value and get: $p = 0.75 $. the p_value is much bigger $\\alpha = 0.05$ so we can't reject the null hypothesis. So the average user ratings of the Xbox One and PC platforms are the same.\n",
    "    \n",
    "2. Average user ratings for the Action and Sports genres are different\n",
    "    \n",
    "    We formulated the test in this way:\n",
    "   * Null hypothesis: Average user ratings of the Xbox One and PC platforms are the same.\n",
    "   * Alternative hypothesis: Average user ratings of the Xbox One and PC platforms are different.\n",
    "\n",
    "   We have calculated the p-value and get a really small one that is under the p_value $\\alpha = 0.05$ so we reject the null hypothesis. So the average user ratings for the Action and Sports genres are different(because we reject the the hypothesis they are the same).\n"
   ]
  },
  {
   "cell_type": "markdown",
   "metadata": {},
   "source": [
    "## Overall Conclusion "
   ]
  },
  {
   "cell_type": "markdown",
   "metadata": {},
   "source": [
    "**Summary**\n",
    "\n",
    "In the project we did the following steps:\n",
    "* Read the dataset and check his general information\n",
    "* Data Preprocessing - Prepare the dataset to the analysis \n",
    "* Analyze the data \n",
    "* Create a user profile for each region \n",
    "* Test 2 hypotheses\n",
    "\n",
    "After we did all the steps lets all conclusions we had in the 2 frist steps:\n",
    "* There's no duplicated rows in our data\n",
    "* Theres a high correlation between the user score to the critic score and the platform kind and the rating really influence them too.\n",
    "* cast variables can help us in future analysis and downcast help us save unused bits.\n",
    "\n",
    "From our analysis we can make the following conclusions(Most of them are for the years 2002 to 2016):\n",
    "* 2002 to 2016 are the main data because before 2002 the number of games released in every year is less than 500 and in the years 1980-1993 the number of games released in each year was less than 100.\n",
    "* 2008 was the year with the largest number of games released.\n",
    "* PS2 is the platform with the largest mean sales all over the years.\n",
    "* the mean sale per game in 2006 was the highest of all times and was above 3 milion dolars.\n",
    "* our estimation the 4 most popular platform in 2017 will be: 3DS, PS4, Xone and WiiU. \n",
    "* The professional reviews does not affect sales in the X360 Platform.\n",
    "* The most frequent genre game is Action but the shooter genre had the biggest mean sales.\n",
    "\n",
    "We have also compare between regions and got the following conclusions:\n",
    "* Playstation platforms are popular in all regions\n",
    "* The popular platforms in Japan is diffrence since Nintendo platforms are more popular there.\n",
    "* The Action genre is really popular in all regions.\n",
    "* games with E and M have influence on rating  sales.\n",
    "* Japan's users most of the cases prefer other genres and platforms than North America and Europe users that have similer prefrences.\n",
    "\n",
    "From our test hypothses we can conclude that:\n",
    "* The Average user ratings of the Xbox One and PC platforms are different.\n",
    "* The average user ratings for the Action and Sports genres are the same.\n",
    "\n",
    "***What we learn form our data?***\n",
    "\n",
    "* The genre of games that was the most sucessful in 2013-2016 and most probably will be also the most popular in 2017 are: Action, Shooter and Role-Playing.\n",
    "* PS4, X360 was a really popular platforms but in the years 2013-2016 their sales decreased drastly so invest or buy this console is not a good choice. a better idea is to invest on more stable platform like 3DS.\n",
    "* If you plan to relase a game choose wiely also the profit of the genre. The genre Shooter is the ideal because the mean sale per game on this genre is much higher from the other genres.\n",
    "* The region matters espeically if you want that a game will sucsses in Japan that have different trends from the other regions.\n",
    "* In North America and Europe the games with ESRB rating: M(Mature - above 17) are the most popular so we can infer that invest on games for matures and not for younger ages. In Japan is better to invest on games that are intended for teens.   \n",
    "* Invest on new platform! the platforms like X360 is about to extinct so is better to invest on new platforms like Xone for example.\n",
    "* When you custumize a game for users from North America good chance that he will also be custumed for Europe and vice versa.\n",
    "\n",
    "\n",
    "**Thanks for view my project 🙂**"
   ]
  }
 ],
 "metadata": {
  "ExecuteTimeLog": [
   {
    "duration": 604,
    "start_time": "2021-07-05T08:07:46.890Z"
   },
   {
    "duration": 423,
    "start_time": "2021-07-05T08:07:48.760Z"
   },
   {
    "duration": 44,
    "start_time": "2021-07-05T08:07:55.350Z"
   },
   {
    "duration": 290,
    "start_time": "2021-07-05T08:12:33.678Z"
   },
   {
    "duration": 62,
    "start_time": "2021-07-05T08:12:56.065Z"
   },
   {
    "duration": 52,
    "start_time": "2021-07-05T08:13:30.016Z"
   },
   {
    "duration": 48,
    "start_time": "2021-07-05T08:14:05.578Z"
   },
   {
    "duration": 309,
    "start_time": "2021-07-05T08:24:20.524Z"
   },
   {
    "duration": 88,
    "start_time": "2021-07-05T08:24:39.585Z"
   },
   {
    "duration": 107,
    "start_time": "2021-07-05T08:25:17.447Z"
   },
   {
    "duration": 58,
    "start_time": "2021-07-05T08:34:32.257Z"
   },
   {
    "duration": 65,
    "start_time": "2021-07-05T08:36:54.209Z"
   },
   {
    "duration": 3,
    "start_time": "2021-07-05T08:37:02.206Z"
   },
   {
    "duration": 63,
    "start_time": "2021-07-05T08:37:03.198Z"
   },
   {
    "duration": 62,
    "start_time": "2021-07-05T08:45:26.848Z"
   },
   {
    "duration": 69,
    "start_time": "2021-07-05T08:46:26.768Z"
   },
   {
    "duration": 91,
    "start_time": "2021-07-05T09:00:48.702Z"
   },
   {
    "duration": 74,
    "start_time": "2021-07-05T09:01:23.380Z"
   },
   {
    "duration": 307,
    "start_time": "2021-07-05T10:04:00.041Z"
   },
   {
    "duration": 398,
    "start_time": "2021-07-05T10:04:18.350Z"
   },
   {
    "duration": 349,
    "start_time": "2021-07-05T10:04:47.732Z"
   },
   {
    "duration": 73,
    "start_time": "2021-07-05T10:05:56.194Z"
   },
   {
    "duration": 72,
    "start_time": "2021-07-05T10:06:38.032Z"
   },
   {
    "duration": 330,
    "start_time": "2021-07-05T12:32:25.631Z"
   },
   {
    "duration": 894,
    "start_time": "2021-07-05T12:32:32.289Z"
   },
   {
    "duration": 155,
    "start_time": "2021-07-05T12:32:34.230Z"
   },
   {
    "duration": 112,
    "start_time": "2021-07-05T12:32:34.931Z"
   },
   {
    "duration": 132,
    "start_time": "2021-07-05T12:33:01.830Z"
   },
   {
    "duration": 8,
    "start_time": "2021-07-05T13:00:35.329Z"
   },
   {
    "duration": 7116,
    "start_time": "2021-07-05T13:02:26.004Z"
   },
   {
    "duration": 8,
    "start_time": "2021-07-05T13:02:39.790Z"
   },
   {
    "duration": 8,
    "start_time": "2021-07-05T13:02:55.390Z"
   },
   {
    "duration": 7,
    "start_time": "2021-07-05T13:03:12.289Z"
   },
   {
    "duration": 13,
    "start_time": "2021-07-05T13:03:26.420Z"
   },
   {
    "duration": 24,
    "start_time": "2021-07-05T13:15:40.305Z"
   },
   {
    "duration": 5,
    "start_time": "2021-07-05T13:24:16.718Z"
   },
   {
    "duration": 4,
    "start_time": "2021-07-05T14:44:44.115Z"
   },
   {
    "duration": 103,
    "start_time": "2021-07-05T14:44:45.914Z"
   },
   {
    "duration": 95,
    "start_time": "2021-07-05T15:34:53.595Z"
   },
   {
    "duration": 27,
    "start_time": "2021-07-05T15:35:12.468Z"
   },
   {
    "duration": 259,
    "start_time": "2021-07-06T06:01:09.780Z"
   },
   {
    "duration": 660,
    "start_time": "2021-07-06T06:01:22.675Z"
   },
   {
    "duration": 71,
    "start_time": "2021-07-06T06:01:23.788Z"
   },
   {
    "duration": 5796,
    "start_time": "2021-07-06T06:01:27.608Z"
   },
   {
    "duration": 257,
    "start_time": "2021-07-06T06:02:12.366Z"
   },
   {
    "duration": 16,
    "start_time": "2021-07-06T06:05:38.679Z"
   },
   {
    "duration": 251,
    "start_time": "2021-07-06T06:12:08.396Z"
   },
   {
    "duration": 2132,
    "start_time": "2021-07-06T06:12:36.003Z"
   },
   {
    "duration": 1001,
    "start_time": "2021-07-06T06:14:38.392Z"
   },
   {
    "duration": 309,
    "start_time": "2021-07-06T06:15:21.737Z"
   },
   {
    "duration": 1735,
    "start_time": "2021-07-06T06:22:12.490Z"
   },
   {
    "duration": 249,
    "start_time": "2021-07-06T06:22:46.292Z"
   },
   {
    "duration": 276,
    "start_time": "2021-07-06T06:55:55.817Z"
   },
   {
    "duration": 1164,
    "start_time": "2021-07-06T06:56:41.957Z"
   },
   {
    "duration": 1113,
    "start_time": "2021-07-06T06:58:44.375Z"
   },
   {
    "duration": 2749,
    "start_time": "2021-07-06T07:02:45.186Z"
   },
   {
    "duration": 2555,
    "start_time": "2021-07-06T07:05:00.194Z"
   },
   {
    "duration": 77,
    "start_time": "2021-07-06T07:06:58.085Z"
   },
   {
    "duration": 5107,
    "start_time": "2021-07-06T07:07:08.465Z"
   },
   {
    "duration": 4761,
    "start_time": "2021-07-06T07:15:15.212Z"
   },
   {
    "duration": 88,
    "start_time": "2021-07-06T07:19:31.638Z"
   },
   {
    "duration": 4292,
    "start_time": "2021-07-06T07:19:39.274Z"
   },
   {
    "duration": 76,
    "start_time": "2021-07-06T07:20:55.886Z"
   },
   {
    "duration": 68,
    "start_time": "2021-07-06T07:21:04.622Z"
   },
   {
    "duration": 2564,
    "start_time": "2021-07-06T07:37:39.996Z"
   },
   {
    "duration": 372,
    "start_time": "2021-07-06T07:38:09.654Z"
   },
   {
    "duration": 2555,
    "start_time": "2021-07-06T07:41:55.849Z"
   },
   {
    "duration": 2644,
    "start_time": "2021-07-06T07:42:41.261Z"
   },
   {
    "duration": 784,
    "start_time": "2021-07-06T07:42:52.361Z"
   },
   {
    "duration": 760,
    "start_time": "2021-07-06T07:44:20.638Z"
   },
   {
    "duration": 761,
    "start_time": "2021-07-06T07:44:47.606Z"
   },
   {
    "duration": 789,
    "start_time": "2021-07-06T07:46:44.123Z"
   },
   {
    "duration": 747,
    "start_time": "2021-07-06T07:48:36.332Z"
   },
   {
    "duration": 2,
    "start_time": "2021-07-06T07:49:21.473Z"
   },
   {
    "duration": 66,
    "start_time": "2021-07-06T07:49:22.325Z"
   },
   {
    "duration": 748,
    "start_time": "2021-07-06T07:49:25.463Z"
   },
   {
    "duration": 5306,
    "start_time": "2021-07-06T07:50:54.992Z"
   },
   {
    "duration": 1278,
    "start_time": "2021-07-06T07:53:35.695Z"
   },
   {
    "duration": 1369,
    "start_time": "2021-07-06T07:56:57.284Z"
   },
   {
    "duration": 1262,
    "start_time": "2021-07-06T07:57:38.249Z"
   },
   {
    "duration": 1507,
    "start_time": "2021-07-06T07:57:43.624Z"
   },
   {
    "duration": 1262,
    "start_time": "2021-07-06T07:58:25.129Z"
   },
   {
    "duration": 1312,
    "start_time": "2021-07-06T07:59:13.757Z"
   },
   {
    "duration": 128,
    "start_time": "2021-07-06T08:06:04.291Z"
   },
   {
    "duration": 77,
    "start_time": "2021-07-06T08:06:19.232Z"
   },
   {
    "duration": 92,
    "start_time": "2021-07-06T08:06:37.477Z"
   },
   {
    "duration": 1527,
    "start_time": "2021-07-06T08:06:58.006Z"
   },
   {
    "duration": 1627,
    "start_time": "2021-07-06T08:07:35.631Z"
   },
   {
    "duration": 1894,
    "start_time": "2021-07-06T09:04:59.351Z"
   },
   {
    "duration": 1495,
    "start_time": "2021-07-06T09:08:18.758Z"
   },
   {
    "duration": 1944,
    "start_time": "2021-07-06T09:10:02.756Z"
   },
   {
    "duration": 75,
    "start_time": "2021-07-06T10:12:33.164Z"
   },
   {
    "duration": 2023,
    "start_time": "2021-07-06T10:13:17.335Z"
   },
   {
    "duration": 2358,
    "start_time": "2021-07-06T10:40:32.072Z"
   },
   {
    "duration": 2341,
    "start_time": "2021-07-06T10:41:01.451Z"
   },
   {
    "duration": 2351,
    "start_time": "2021-07-06T10:41:28.945Z"
   },
   {
    "duration": 2386,
    "start_time": "2021-07-06T10:41:40.138Z"
   },
   {
    "duration": 2391,
    "start_time": "2021-07-06T10:41:57.118Z"
   },
   {
    "duration": 4001,
    "start_time": "2021-07-06T11:33:53.147Z"
   },
   {
    "duration": 2508,
    "start_time": "2021-07-06T13:10:10.764Z"
   },
   {
    "duration": 2350,
    "start_time": "2021-07-06T13:10:58.643Z"
   },
   {
    "duration": 337,
    "start_time": "2021-07-06T16:19:47.486Z"
   },
   {
    "duration": 831,
    "start_time": "2021-07-06T16:19:53.355Z"
   },
   {
    "duration": 189,
    "start_time": "2021-07-06T16:19:54.798Z"
   },
   {
    "duration": 4237,
    "start_time": "2021-07-06T16:20:00.801Z"
   },
   {
    "duration": 4226,
    "start_time": "2021-07-06T16:22:19.041Z"
   },
   {
    "duration": 4309,
    "start_time": "2021-07-06T16:22:50.947Z"
   },
   {
    "duration": 4528,
    "start_time": "2021-07-06T16:23:16.132Z"
   },
   {
    "duration": 4109,
    "start_time": "2021-07-06T16:46:34.232Z"
   },
   {
    "duration": 6525,
    "start_time": "2021-07-06T17:02:51.969Z"
   },
   {
    "duration": 4774,
    "start_time": "2021-07-06T17:04:49.269Z"
   },
   {
    "duration": 4344,
    "start_time": "2021-07-06T17:05:32.018Z"
   },
   {
    "duration": 4100,
    "start_time": "2021-07-06T17:06:19.279Z"
   },
   {
    "duration": 212,
    "start_time": "2021-07-06T22:46:53.615Z"
   },
   {
    "duration": 589,
    "start_time": "2021-07-06T22:47:02.320Z"
   },
   {
    "duration": 76,
    "start_time": "2021-07-06T22:47:04.593Z"
   },
   {
    "duration": 2167,
    "start_time": "2021-07-06T22:47:08.519Z"
   },
   {
    "duration": 2638,
    "start_time": "2021-07-06T22:55:13.376Z"
   },
   {
    "duration": 2524,
    "start_time": "2021-07-06T22:57:26.183Z"
   },
   {
    "duration": 1054,
    "start_time": "2021-07-07T07:07:09.837Z"
   },
   {
    "duration": 114,
    "start_time": "2021-07-07T07:07:11.000Z"
   },
   {
    "duration": 37,
    "start_time": "2021-07-07T07:07:14.837Z"
   },
   {
    "duration": 3,
    "start_time": "2021-07-07T07:32:03.531Z"
   },
   {
    "duration": 107,
    "start_time": "2021-07-07T07:32:05.392Z"
   },
   {
    "duration": 34,
    "start_time": "2021-07-07T07:32:11.605Z"
   },
   {
    "duration": 371,
    "start_time": "2021-07-07T07:32:14.351Z"
   },
   {
    "duration": 1017,
    "start_time": "2021-07-07T07:32:46.138Z"
   },
   {
    "duration": 1218,
    "start_time": "2021-07-07T07:40:22.396Z"
   },
   {
    "duration": 1214,
    "start_time": "2021-07-07T07:46:12.463Z"
   },
   {
    "duration": 4,
    "start_time": "2021-07-07T07:46:41.607Z"
   },
   {
    "duration": 112,
    "start_time": "2021-07-07T07:46:42.733Z"
   },
   {
    "duration": 34,
    "start_time": "2021-07-07T07:46:46.179Z"
   },
   {
    "duration": 1077,
    "start_time": "2021-07-07T07:46:50.280Z"
   },
   {
    "duration": 4,
    "start_time": "2021-07-07T07:47:40.123Z"
   },
   {
    "duration": 104,
    "start_time": "2021-07-07T07:47:41.090Z"
   },
   {
    "duration": 4,
    "start_time": "2021-07-07T07:54:58.782Z"
   },
   {
    "duration": 102,
    "start_time": "2021-07-07T07:55:00.375Z"
   },
   {
    "duration": 34,
    "start_time": "2021-07-07T07:55:04.835Z"
   },
   {
    "duration": 1111,
    "start_time": "2021-07-07T07:55:07.080Z"
   },
   {
    "duration": 3,
    "start_time": "2021-07-07T07:56:25.371Z"
   },
   {
    "duration": 105,
    "start_time": "2021-07-07T07:56:26.089Z"
   },
   {
    "duration": 34,
    "start_time": "2021-07-07T07:56:30.973Z"
   },
   {
    "duration": 1032,
    "start_time": "2021-07-07T07:56:34.058Z"
   },
   {
    "duration": 8649,
    "start_time": "2021-07-07T08:03:01.667Z"
   },
   {
    "duration": 9404,
    "start_time": "2021-07-07T08:03:36.555Z"
   },
   {
    "duration": 81,
    "start_time": "2021-07-07T08:05:01.322Z"
   },
   {
    "duration": 79,
    "start_time": "2021-07-07T08:05:23.505Z"
   },
   {
    "duration": 1173,
    "start_time": "2021-07-07T08:25:49.121Z"
   },
   {
    "duration": 1097,
    "start_time": "2021-07-07T08:36:09.703Z"
   },
   {
    "duration": 1087,
    "start_time": "2021-07-07T08:37:25.215Z"
   },
   {
    "duration": 400,
    "start_time": "2021-07-07T08:41:04.178Z"
   },
   {
    "duration": 104,
    "start_time": "2021-07-07T08:41:38.964Z"
   },
   {
    "duration": 3,
    "start_time": "2021-07-07T08:43:36.900Z"
   },
   {
    "duration": 105,
    "start_time": "2021-07-07T08:43:37.654Z"
   },
   {
    "duration": 34,
    "start_time": "2021-07-07T08:43:40.898Z"
   },
   {
    "duration": 1053,
    "start_time": "2021-07-07T08:43:42.767Z"
   },
   {
    "duration": 102,
    "start_time": "2021-07-07T08:43:45.917Z"
   },
   {
    "duration": 1209,
    "start_time": "2021-07-07T08:45:43.607Z"
   },
   {
    "duration": 4,
    "start_time": "2021-07-07T09:27:50.233Z"
   },
   {
    "duration": 103,
    "start_time": "2021-07-07T09:27:50.929Z"
   },
   {
    "duration": 8,
    "start_time": "2021-07-07T09:27:53.666Z"
   },
   {
    "duration": 35,
    "start_time": "2021-07-07T09:27:56.651Z"
   },
   {
    "duration": 1011,
    "start_time": "2021-07-07T09:27:58.731Z"
   },
   {
    "duration": 860,
    "start_time": "2021-07-07T09:28:04.099Z"
   },
   {
    "duration": 753,
    "start_time": "2021-07-07T09:31:18.678Z"
   },
   {
    "duration": 9,
    "start_time": "2021-07-07T09:31:35.046Z"
   },
   {
    "duration": 810,
    "start_time": "2021-07-07T09:31:42.756Z"
   },
   {
    "duration": 8,
    "start_time": "2021-07-07T09:33:19.093Z"
   },
   {
    "duration": 124,
    "start_time": "2021-07-07T09:33:28.756Z"
   },
   {
    "duration": 4,
    "start_time": "2021-07-07T09:35:20.457Z"
   },
   {
    "duration": 9,
    "start_time": "2021-07-07T09:36:39.557Z"
   },
   {
    "duration": 4,
    "start_time": "2021-07-07T09:36:48.187Z"
   },
   {
    "duration": 99,
    "start_time": "2021-07-07T09:36:48.847Z"
   },
   {
    "duration": 8,
    "start_time": "2021-07-07T09:36:52.533Z"
   },
   {
    "duration": 32,
    "start_time": "2021-07-07T09:36:54.149Z"
   },
   {
    "duration": 1035,
    "start_time": "2021-07-07T09:36:55.685Z"
   },
   {
    "duration": 945,
    "start_time": "2021-07-07T09:37:00.297Z"
   },
   {
    "duration": 9,
    "start_time": "2021-07-07T09:38:11.902Z"
   },
   {
    "duration": 4,
    "start_time": "2021-07-07T09:38:14.258Z"
   },
   {
    "duration": 102,
    "start_time": "2021-07-07T09:38:14.911Z"
   },
   {
    "duration": 9,
    "start_time": "2021-07-07T09:38:17.976Z"
   },
   {
    "duration": 35,
    "start_time": "2021-07-07T09:38:19.963Z"
   },
   {
    "duration": 1103,
    "start_time": "2021-07-07T09:38:21.547Z"
   },
   {
    "duration": 823,
    "start_time": "2021-07-07T09:38:24.467Z"
   },
   {
    "duration": 9,
    "start_time": "2021-07-07T09:38:51.106Z"
   },
   {
    "duration": 653,
    "start_time": "2021-07-07T09:39:03.504Z"
   },
   {
    "duration": 8,
    "start_time": "2021-07-07T09:39:54.858Z"
   },
   {
    "duration": 688,
    "start_time": "2021-07-07T09:40:00.506Z"
   },
   {
    "duration": 14,
    "start_time": "2021-07-07T09:40:49.155Z"
   },
   {
    "duration": 805,
    "start_time": "2021-07-07T09:40:52.682Z"
   },
   {
    "duration": -533,
    "start_time": "2021-07-07T09:46:28.251Z"
   },
   {
    "duration": 5,
    "start_time": "2021-07-07T09:46:30.349Z"
   },
   {
    "duration": 104,
    "start_time": "2021-07-07T09:46:34.412Z"
   },
   {
    "duration": 9,
    "start_time": "2021-07-07T09:46:39.461Z"
   },
   {
    "duration": 39,
    "start_time": "2021-07-07T09:46:50.849Z"
   },
   {
    "duration": 1587,
    "start_time": "2021-07-07T09:46:52.814Z"
   },
   {
    "duration": 157892,
    "start_time": "2021-07-07T09:46:58.956Z"
   },
   {
    "duration": 440,
    "start_time": "2021-07-07T09:51:53.012Z"
   },
   {
    "duration": 4,
    "start_time": "2021-07-07T09:53:04.300Z"
   },
   {
    "duration": 102,
    "start_time": "2021-07-07T09:53:05.328Z"
   },
   {
    "duration": 8,
    "start_time": "2021-07-07T09:53:08.961Z"
   },
   {
    "duration": 35,
    "start_time": "2021-07-07T09:53:11.004Z"
   },
   {
    "duration": 1052,
    "start_time": "2021-07-07T09:53:12.974Z"
   },
   {
    "duration": 156531,
    "start_time": "2021-07-07T09:53:18.438Z"
   },
   {
    "duration": 4,
    "start_time": "2021-07-07T10:02:12.280Z"
   },
   {
    "duration": 111,
    "start_time": "2021-07-07T10:02:12.318Z"
   },
   {
    "duration": 6,
    "start_time": "2021-07-07T10:02:15.986Z"
   },
   {
    "duration": 33,
    "start_time": "2021-07-07T10:02:18.348Z"
   },
   {
    "duration": 1086,
    "start_time": "2021-07-07T10:02:20.456Z"
   },
   {
    "duration": 409,
    "start_time": "2021-07-07T10:02:24.240Z"
   },
   {
    "duration": 4,
    "start_time": "2021-07-07T10:08:34.860Z"
   },
   {
    "duration": 101,
    "start_time": "2021-07-07T10:08:35.608Z"
   },
   {
    "duration": 6,
    "start_time": "2021-07-07T10:08:39.188Z"
   },
   {
    "duration": 35,
    "start_time": "2021-07-07T10:08:41.261Z"
   },
   {
    "duration": 1022,
    "start_time": "2021-07-07T10:08:42.915Z"
   },
   {
    "duration": 935,
    "start_time": "2021-07-07T10:08:46.205Z"
   },
   {
    "duration": 7,
    "start_time": "2021-07-07T10:09:38.169Z"
   },
   {
    "duration": 39760,
    "start_time": "2021-07-07T10:09:43.419Z"
   },
   {
    "duration": 652,
    "start_time": "2021-07-07T10:17:58.881Z"
   },
   {
    "duration": 4,
    "start_time": "2021-07-07T10:18:11.104Z"
   },
   {
    "duration": 102,
    "start_time": "2021-07-07T10:18:11.649Z"
   },
   {
    "duration": 7,
    "start_time": "2021-07-07T10:18:16.168Z"
   },
   {
    "duration": 33,
    "start_time": "2021-07-07T10:18:17.965Z"
   },
   {
    "duration": 1022,
    "start_time": "2021-07-07T10:18:19.644Z"
   },
   {
    "duration": 109,
    "start_time": "2021-07-07T10:18:24.533Z"
   },
   {
    "duration": 123,
    "start_time": "2021-07-07T10:46:39.560Z"
   },
   {
    "duration": 11,
    "start_time": "2021-07-07T10:46:59.449Z"
   },
   {
    "duration": 3,
    "start_time": "2021-07-07T10:47:04.840Z"
   },
   {
    "duration": 103,
    "start_time": "2021-07-07T10:47:05.487Z"
   },
   {
    "duration": 16,
    "start_time": "2021-07-07T10:47:08.938Z"
   },
   {
    "duration": 36,
    "start_time": "2021-07-07T10:47:12.365Z"
   },
   {
    "duration": 1033,
    "start_time": "2021-07-07T10:47:13.789Z"
   },
   {
    "duration": 107,
    "start_time": "2021-07-07T10:47:19.468Z"
   },
   {
    "duration": 3,
    "start_time": "2021-07-07T10:50:01.198Z"
   },
   {
    "duration": 106,
    "start_time": "2021-07-07T10:50:01.813Z"
   },
   {
    "duration": 10,
    "start_time": "2021-07-07T10:50:05.297Z"
   },
   {
    "duration": 46,
    "start_time": "2021-07-07T10:50:07.817Z"
   },
   {
    "duration": 1033,
    "start_time": "2021-07-07T10:50:10.385Z"
   },
   {
    "duration": 118,
    "start_time": "2021-07-07T10:50:12.909Z"
   },
   {
    "duration": 10,
    "start_time": "2021-07-07T10:51:59.737Z"
   },
   {
    "duration": 4,
    "start_time": "2021-07-07T10:52:02.006Z"
   },
   {
    "duration": 103,
    "start_time": "2021-07-07T10:52:02.554Z"
   },
   {
    "duration": 10,
    "start_time": "2021-07-07T10:52:06.365Z"
   },
   {
    "duration": 38,
    "start_time": "2021-07-07T10:52:10.472Z"
   },
   {
    "duration": 1048,
    "start_time": "2021-07-07T10:52:11.831Z"
   },
   {
    "duration": 108,
    "start_time": "2021-07-07T10:52:15.773Z"
   },
   {
    "duration": 4,
    "start_time": "2021-07-07T10:52:44.268Z"
   },
   {
    "duration": 102,
    "start_time": "2021-07-07T10:52:44.820Z"
   },
   {
    "duration": 10,
    "start_time": "2021-07-07T10:52:47.606Z"
   },
   {
    "duration": 38,
    "start_time": "2021-07-07T10:52:49.908Z"
   },
   {
    "duration": 1035,
    "start_time": "2021-07-07T10:52:50.915Z"
   },
   {
    "duration": 782,
    "start_time": "2021-07-07T10:52:54.700Z"
   },
   {
    "duration": 10,
    "start_time": "2021-07-07T10:53:55.711Z"
   },
   {
    "duration": 39941,
    "start_time": "2021-07-07T10:54:00.547Z"
   },
   {
    "duration": 4,
    "start_time": "2021-07-07T10:55:44.667Z"
   },
   {
    "duration": 99,
    "start_time": "2021-07-07T10:55:45.351Z"
   },
   {
    "duration": 9,
    "start_time": "2021-07-07T10:55:48.961Z"
   },
   {
    "duration": 35,
    "start_time": "2021-07-07T10:55:50.932Z"
   },
   {
    "duration": 1103,
    "start_time": "2021-07-07T10:55:52.909Z"
   },
   {
    "duration": 40595,
    "start_time": "2021-07-07T10:55:56.538Z"
   },
   {
    "duration": 18,
    "start_time": "2021-07-07T11:02:13.903Z"
   },
   {
    "duration": 4,
    "start_time": "2021-07-07T11:02:16.712Z"
   },
   {
    "duration": 108,
    "start_time": "2021-07-07T11:02:17.386Z"
   },
   {
    "duration": 17,
    "start_time": "2021-07-07T11:02:20.836Z"
   },
   {
    "duration": 36,
    "start_time": "2021-07-07T11:02:24.278Z"
   },
   {
    "duration": 1057,
    "start_time": "2021-07-07T11:02:25.911Z"
   },
   {
    "duration": 39350,
    "start_time": "2021-07-07T11:02:30.179Z"
   },
   {
    "duration": 4,
    "start_time": "2021-07-07T11:05:09.556Z"
   },
   {
    "duration": 105,
    "start_time": "2021-07-07T11:05:10.333Z"
   },
   {
    "duration": 17,
    "start_time": "2021-07-07T11:05:13.822Z"
   },
   {
    "duration": 36,
    "start_time": "2021-07-07T11:05:17.061Z"
   },
   {
    "duration": 1065,
    "start_time": "2021-07-07T11:05:19.624Z"
   },
   {
    "duration": 41230,
    "start_time": "2021-07-07T11:05:25.838Z"
   },
   {
    "duration": 18,
    "start_time": "2021-07-07T11:07:48.085Z"
   },
   {
    "duration": 491,
    "start_time": "2021-07-07T11:07:53.156Z"
   },
   {
    "duration": 444,
    "start_time": "2021-07-07T11:07:58.486Z"
   },
   {
    "duration": 4,
    "start_time": "2021-07-07T11:08:11.211Z"
   },
   {
    "duration": 106,
    "start_time": "2021-07-07T11:08:11.956Z"
   },
   {
    "duration": 18,
    "start_time": "2021-07-07T11:08:15.242Z"
   },
   {
    "duration": 36,
    "start_time": "2021-07-07T11:08:18.810Z"
   },
   {
    "duration": 1041,
    "start_time": "2021-07-07T11:08:20.442Z"
   },
   {
    "duration": 41269,
    "start_time": "2021-07-07T11:08:24.887Z"
   },
   {
    "duration": 4,
    "start_time": "2021-07-07T11:12:34.887Z"
   },
   {
    "duration": 108,
    "start_time": "2021-07-07T11:12:35.185Z"
   },
   {
    "duration": 18,
    "start_time": "2021-07-07T11:12:38.445Z"
   },
   {
    "duration": 3,
    "start_time": "2021-07-07T11:13:19.643Z"
   },
   {
    "duration": 105,
    "start_time": "2021-07-07T11:13:20.334Z"
   },
   {
    "duration": 20,
    "start_time": "2021-07-07T11:13:24.210Z"
   },
   {
    "duration": 37,
    "start_time": "2021-07-07T11:13:27.629Z"
   },
   {
    "duration": 1085,
    "start_time": "2021-07-07T11:13:29.190Z"
   },
   {
    "duration": 95545,
    "start_time": "2021-07-07T11:13:32.324Z"
   },
   {
    "duration": 4,
    "start_time": "2021-07-07T13:17:04.706Z"
   },
   {
    "duration": 104,
    "start_time": "2021-07-07T13:17:05.443Z"
   },
   {
    "duration": 18,
    "start_time": "2021-07-07T13:17:09.575Z"
   },
   {
    "duration": 34,
    "start_time": "2021-07-07T13:17:13.287Z"
   },
   {
    "duration": 1031,
    "start_time": "2021-07-07T13:17:14.916Z"
   },
   {
    "duration": 92614,
    "start_time": "2021-07-07T13:17:18.186Z"
   },
   {
    "duration": 1069,
    "start_time": "2021-07-07T21:32:44.307Z"
   },
   {
    "duration": 131,
    "start_time": "2021-07-07T21:32:46.233Z"
   },
   {
    "duration": 18,
    "start_time": "2021-07-07T21:32:49.181Z"
   },
   {
    "duration": 35,
    "start_time": "2021-07-07T21:32:52.777Z"
   },
   {
    "duration": 1020,
    "start_time": "2021-07-07T21:32:54.754Z"
   },
   {
    "duration": 87426,
    "start_time": "2021-07-07T21:32:57.994Z"
   },
   {
    "duration": 4,
    "start_time": "2021-07-08T06:15:26.967Z"
   },
   {
    "duration": 105,
    "start_time": "2021-07-08T06:15:32.491Z"
   },
   {
    "duration": 3,
    "start_time": "2021-07-08T06:35:03.985Z"
   },
   {
    "duration": 102,
    "start_time": "2021-07-08T06:35:04.685Z"
   },
   {
    "duration": 16,
    "start_time": "2021-07-08T06:35:07.817Z"
   },
   {
    "duration": 37,
    "start_time": "2021-07-08T06:35:12.035Z"
   },
   {
    "duration": 1033,
    "start_time": "2021-07-08T06:35:13.890Z"
   },
   {
    "duration": 632,
    "start_time": "2021-07-08T06:35:18.257Z"
   },
   {
    "duration": 987,
    "start_time": "2021-07-08T06:37:35.361Z"
   },
   {
    "duration": 1019,
    "start_time": "2021-07-08T06:41:35.635Z"
   },
   {
    "duration": 15,
    "start_time": "2021-07-08T06:42:53.548Z"
   },
   {
    "duration": 978,
    "start_time": "2021-07-08T06:43:02.394Z"
   },
   {
    "duration": 898,
    "start_time": "2021-07-08T06:49:09.311Z"
   },
   {
    "duration": 949,
    "start_time": "2021-07-08T06:51:06.424Z"
   },
   {
    "duration": 957,
    "start_time": "2021-07-08T06:52:06.985Z"
   },
   {
    "duration": 967,
    "start_time": "2021-07-08T06:54:21.089Z"
   },
   {
    "duration": 966,
    "start_time": "2021-07-08T06:58:00.203Z"
   },
   {
    "duration": 827,
    "start_time": "2021-07-08T07:01:18.424Z"
   },
   {
    "duration": 2582,
    "start_time": "2021-07-08T07:02:27.235Z"
   },
   {
    "duration": 1022,
    "start_time": "2021-07-08T07:03:18.474Z"
   },
   {
    "duration": 853,
    "start_time": "2021-07-08T07:04:31.111Z"
   },
   {
    "duration": 3,
    "start_time": "2021-07-08T07:05:01.164Z"
   },
   {
    "duration": 108,
    "start_time": "2021-07-08T07:05:01.836Z"
   },
   {
    "duration": 16,
    "start_time": "2021-07-08T07:05:05.451Z"
   },
   {
    "duration": 35,
    "start_time": "2021-07-08T07:05:09.189Z"
   },
   {
    "duration": 1010,
    "start_time": "2021-07-08T07:05:10.573Z"
   },
   {
    "duration": 869,
    "start_time": "2021-07-08T07:05:13.994Z"
   },
   {
    "duration": 4,
    "start_time": "2021-07-08T07:07:37.882Z"
   },
   {
    "duration": 102,
    "start_time": "2021-07-08T07:07:38.540Z"
   },
   {
    "duration": 25,
    "start_time": "2021-07-08T07:07:42.308Z"
   },
   {
    "duration": 34,
    "start_time": "2021-07-08T07:07:45.582Z"
   },
   {
    "duration": 1004,
    "start_time": "2021-07-08T07:07:47.169Z"
   },
   {
    "duration": 932,
    "start_time": "2021-07-08T07:08:13.964Z"
   },
   {
    "duration": 4,
    "start_time": "2021-07-08T07:09:24.490Z"
   },
   {
    "duration": 98,
    "start_time": "2021-07-08T07:09:26.190Z"
   },
   {
    "duration": 16,
    "start_time": "2021-07-08T07:09:36.696Z"
   },
   {
    "duration": 32,
    "start_time": "2021-07-08T07:09:39.840Z"
   },
   {
    "duration": 1030,
    "start_time": "2021-07-08T07:09:43.514Z"
   },
   {
    "duration": 2427,
    "start_time": "2021-07-08T07:10:02.286Z"
   },
   {
    "duration": 366,
    "start_time": "2021-07-08T07:11:29.109Z"
   },
   {
    "duration": 4,
    "start_time": "2021-07-08T07:12:08.918Z"
   },
   {
    "duration": 103,
    "start_time": "2021-07-08T07:12:09.529Z"
   },
   {
    "duration": 14,
    "start_time": "2021-07-08T07:12:12.566Z"
   },
   {
    "duration": 34,
    "start_time": "2021-07-08T07:12:15.287Z"
   },
   {
    "duration": 1016,
    "start_time": "2021-07-08T07:12:16.895Z"
   },
   {
    "duration": 2866,
    "start_time": "2021-07-08T07:12:20.782Z"
   },
   {
    "duration": 29,
    "start_time": "2021-07-08T07:35:44.850Z"
   },
   {
    "duration": 22,
    "start_time": "2021-07-08T07:36:46.488Z"
   },
   {
    "duration": 20,
    "start_time": "2021-07-08T07:37:07.731Z"
   },
   {
    "duration": 21,
    "start_time": "2021-07-08T07:41:18.027Z"
   },
   {
    "duration": 39,
    "start_time": "2021-07-08T07:45:06.560Z"
   },
   {
    "duration": 40,
    "start_time": "2021-07-08T07:47:05.508Z"
   },
   {
    "duration": 379,
    "start_time": "2021-07-08T08:29:40.650Z"
   },
   {
    "duration": 379,
    "start_time": "2021-07-08T08:30:02.748Z"
   },
   {
    "duration": 365,
    "start_time": "2021-07-08T08:30:25.003Z"
   },
   {
    "duration": 324,
    "start_time": "2021-07-08T08:30:56.626Z"
   },
   {
    "duration": 384,
    "start_time": "2021-07-08T08:31:32.594Z"
   },
   {
    "duration": 1785,
    "start_time": "2021-07-08T08:32:03.176Z"
   },
   {
    "duration": 375,
    "start_time": "2021-07-08T08:32:39.405Z"
   },
   {
    "duration": 19,
    "start_time": "2021-07-08T08:35:25.492Z"
   },
   {
    "duration": 709,
    "start_time": "2021-07-08T08:46:03.076Z"
   },
   {
    "duration": 1183,
    "start_time": "2021-07-08T08:46:27.089Z"
   },
   {
    "duration": 663,
    "start_time": "2021-07-08T08:46:42.960Z"
   },
   {
    "duration": 691,
    "start_time": "2021-07-08T08:46:48.998Z"
   },
   {
    "duration": 765,
    "start_time": "2021-07-08T08:47:32.340Z"
   },
   {
    "duration": 1040,
    "start_time": "2021-07-08T08:51:07.723Z"
   },
   {
    "duration": 708,
    "start_time": "2021-07-08T08:51:26.801Z"
   },
   {
    "duration": 712,
    "start_time": "2021-07-08T08:52:36.897Z"
   },
   {
    "duration": 133,
    "start_time": "2021-07-08T09:06:23.728Z"
   },
   {
    "duration": 122,
    "start_time": "2021-07-08T09:06:29.257Z"
   },
   {
    "duration": 1119,
    "start_time": "2021-07-08T09:06:39.727Z"
   },
   {
    "duration": 1129,
    "start_time": "2021-07-08T09:07:03.868Z"
   },
   {
    "duration": 905,
    "start_time": "2021-07-08T09:07:29.275Z"
   },
   {
    "duration": 1086,
    "start_time": "2021-07-08T09:11:58.132Z"
   },
   {
    "duration": 1123,
    "start_time": "2021-07-08T09:14:37.685Z"
   },
   {
    "duration": 3,
    "start_time": "2021-07-08T09:18:14.453Z"
   },
   {
    "duration": 102,
    "start_time": "2021-07-08T09:18:15.060Z"
   },
   {
    "duration": 13,
    "start_time": "2021-07-08T09:18:18.404Z"
   },
   {
    "duration": 8914,
    "start_time": "2021-07-08T09:18:23.441Z"
   },
   {
    "duration": -445,
    "start_time": "2021-07-08T09:18:32.804Z"
   },
   {
    "duration": 4,
    "start_time": "2021-07-08T09:18:51.306Z"
   },
   {
    "duration": 103,
    "start_time": "2021-07-08T09:18:52.233Z"
   },
   {
    "duration": 13,
    "start_time": "2021-07-08T09:18:55.925Z"
   },
   {
    "duration": 35,
    "start_time": "2021-07-08T09:18:58.705Z"
   },
   {
    "duration": 1046,
    "start_time": "2021-07-08T09:19:01.176Z"
   },
   {
    "duration": 2914,
    "start_time": "2021-07-08T09:19:05.447Z"
   },
   {
    "duration": 68,
    "start_time": "2021-07-08T09:19:52.651Z"
   },
   {
    "duration": 1270,
    "start_time": "2021-07-08T09:19:59.902Z"
   },
   {
    "duration": 1120,
    "start_time": "2021-07-08T09:22:01.773Z"
   },
   {
    "duration": 21,
    "start_time": "2021-07-08T09:57:47.385Z"
   },
   {
    "duration": 323,
    "start_time": "2021-07-08T09:58:20.708Z"
   },
   {
    "duration": 341,
    "start_time": "2021-07-08T09:58:35.506Z"
   },
   {
    "duration": 21,
    "start_time": "2021-07-08T09:58:49.871Z"
   },
   {
    "duration": 25,
    "start_time": "2021-07-08T10:04:06.965Z"
   },
   {
    "duration": 839,
    "start_time": "2021-07-08T10:18:20.993Z"
   },
   {
    "duration": 606,
    "start_time": "2021-07-08T10:19:03.033Z"
   },
   {
    "duration": 599,
    "start_time": "2021-07-08T10:37:59.870Z"
   },
   {
    "duration": 554,
    "start_time": "2021-07-08T10:50:12.287Z"
   },
   {
    "duration": 122,
    "start_time": "2021-07-08T10:50:35.067Z"
   },
   {
    "duration": 967,
    "start_time": "2021-07-08T10:51:06.075Z"
   },
   {
    "duration": 1105,
    "start_time": "2021-07-08T10:51:24.551Z"
   },
   {
    "duration": 1365,
    "start_time": "2021-07-08T11:11:13.602Z"
   },
   {
    "duration": 1126,
    "start_time": "2021-07-08T11:13:03.323Z"
   },
   {
    "duration": 1827,
    "start_time": "2021-07-08T11:14:16.515Z"
   },
   {
    "duration": 1139,
    "start_time": "2021-07-08T11:15:09.144Z"
   },
   {
    "duration": 127,
    "start_time": "2021-07-08T12:06:50.125Z"
   },
   {
    "duration": 2300,
    "start_time": "2021-07-08T12:06:58.603Z"
   },
   {
    "duration": 4,
    "start_time": "2021-07-08T12:07:19.915Z"
   },
   {
    "duration": 1366,
    "start_time": "2021-07-08T12:07:31.933Z"
   },
   {
    "duration": 5,
    "start_time": "2021-07-08T12:10:27.605Z"
   },
   {
    "duration": 1412,
    "start_time": "2021-07-08T12:10:32.526Z"
   },
   {
    "duration": 1323,
    "start_time": "2021-07-08T12:13:32.215Z"
   },
   {
    "duration": 4,
    "start_time": "2021-07-08T12:14:06.366Z"
   },
   {
    "duration": 109,
    "start_time": "2021-07-08T12:14:07.222Z"
   },
   {
    "duration": 14,
    "start_time": "2021-07-08T12:14:10.555Z"
   },
   {
    "duration": 38,
    "start_time": "2021-07-08T12:14:13.832Z"
   },
   {
    "duration": 1068,
    "start_time": "2021-07-08T12:14:15.593Z"
   },
   {
    "duration": 2844,
    "start_time": "2021-07-08T12:14:21.138Z"
   },
   {
    "duration": 50,
    "start_time": "2021-07-08T12:14:34.431Z"
   },
   {
    "duration": 1094,
    "start_time": "2021-07-08T12:14:40.349Z"
   },
   {
    "duration": 1349,
    "start_time": "2021-07-08T12:15:12.642Z"
   },
   {
    "duration": 1122,
    "start_time": "2021-07-08T12:16:28.313Z"
   },
   {
    "duration": 912,
    "start_time": "2021-07-08T12:22:06.478Z"
   },
   {
    "duration": 827,
    "start_time": "2021-07-08T12:22:32.459Z"
   },
   {
    "duration": 856,
    "start_time": "2021-07-08T12:22:57.324Z"
   },
   {
    "duration": 1126,
    "start_time": "2021-07-08T12:25:42.954Z"
   },
   {
    "duration": 1476,
    "start_time": "2021-07-08T12:26:30.201Z"
   },
   {
    "duration": 1221,
    "start_time": "2021-07-08T12:26:56.326Z"
   },
   {
    "duration": 1196,
    "start_time": "2021-07-08T12:30:27.436Z"
   },
   {
    "duration": 1494,
    "start_time": "2021-07-08T12:31:04.407Z"
   },
   {
    "duration": 1132,
    "start_time": "2021-07-08T12:32:02.214Z"
   },
   {
    "duration": 1125,
    "start_time": "2021-07-08T12:34:59.025Z"
   },
   {
    "duration": 1143,
    "start_time": "2021-07-08T12:35:42.851Z"
   },
   {
    "duration": 2413,
    "start_time": "2021-07-08T12:54:16.211Z"
   },
   {
    "duration": 1152,
    "start_time": "2021-07-08T12:55:16.646Z"
   },
   {
    "duration": 1294,
    "start_time": "2021-07-08T12:55:36.485Z"
   },
   {
    "duration": 1844,
    "start_time": "2021-07-08T12:57:39.586Z"
   },
   {
    "duration": 1170,
    "start_time": "2021-07-08T12:58:42.450Z"
   },
   {
    "duration": 1550,
    "start_time": "2021-07-08T13:00:24.872Z"
   },
   {
    "duration": 1528,
    "start_time": "2021-07-08T13:01:42.113Z"
   },
   {
    "duration": 1439,
    "start_time": "2021-07-08T13:02:07.344Z"
   },
   {
    "duration": 1791,
    "start_time": "2021-07-08T13:03:34.433Z"
   },
   {
    "duration": 1462,
    "start_time": "2021-07-08T13:04:54.723Z"
   },
   {
    "duration": 1731,
    "start_time": "2021-07-08T13:05:20.181Z"
   },
   {
    "duration": 1266,
    "start_time": "2021-07-08T13:08:56.764Z"
   },
   {
    "duration": 1153,
    "start_time": "2021-07-08T13:12:47.187Z"
   },
   {
    "duration": 1143,
    "start_time": "2021-07-08T13:13:15.192Z"
   },
   {
    "duration": 1670,
    "start_time": "2021-07-08T13:13:36.398Z"
   },
   {
    "duration": 1168,
    "start_time": "2021-07-08T13:17:03.786Z"
   },
   {
    "duration": 149,
    "start_time": "2021-07-08T13:19:49.794Z"
   },
   {
    "duration": 11055,
    "start_time": "2021-07-08T13:19:59.989Z"
   },
   {
    "duration": 1114,
    "start_time": "2021-07-08T13:20:28.985Z"
   },
   {
    "duration": 1490,
    "start_time": "2021-07-08T13:28:27.587Z"
   },
   {
    "duration": 2414,
    "start_time": "2021-07-08T13:28:44.735Z"
   },
   {
    "duration": 1402,
    "start_time": "2021-07-08T13:32:26.841Z"
   },
   {
    "duration": 1112,
    "start_time": "2021-07-08T13:32:53.919Z"
   },
   {
    "duration": 128,
    "start_time": "2021-07-08T13:36:01.583Z"
   },
   {
    "duration": 1660,
    "start_time": "2021-07-08T13:37:12.005Z"
   },
   {
    "duration": 1712,
    "start_time": "2021-07-08T13:37:41.410Z"
   },
   {
    "duration": 2103,
    "start_time": "2021-07-08T13:41:28.006Z"
   },
   {
    "duration": 1556,
    "start_time": "2021-07-08T13:43:38.201Z"
   },
   {
    "duration": 1499,
    "start_time": "2021-07-08T13:45:05.805Z"
   },
   {
    "duration": 1589,
    "start_time": "2021-07-08T13:49:05.795Z"
   },
   {
    "duration": 1549,
    "start_time": "2021-07-08T13:49:53.887Z"
   },
   {
    "duration": 2644,
    "start_time": "2021-07-08T13:53:08.652Z"
   },
   {
    "duration": 1802,
    "start_time": "2021-07-08T13:54:35.375Z"
   },
   {
    "duration": 1948,
    "start_time": "2021-07-08T13:59:23.264Z"
   },
   {
    "duration": 2038,
    "start_time": "2021-07-08T14:02:49.243Z"
   },
   {
    "duration": 1789,
    "start_time": "2021-07-08T14:04:30.730Z"
   },
   {
    "duration": 1740,
    "start_time": "2021-07-08T14:05:11.342Z"
   },
   {
    "duration": 335,
    "start_time": "2021-07-08T14:21:32.506Z"
   },
   {
    "duration": 7,
    "start_time": "2021-07-08T14:21:47.400Z"
   },
   {
    "duration": 1672,
    "start_time": "2021-07-08T14:29:00.227Z"
   },
   {
    "duration": 388,
    "start_time": "2021-07-08T14:36:06.515Z"
   },
   {
    "duration": 35,
    "start_time": "2021-07-08T14:36:18.766Z"
   },
   {
    "duration": 35,
    "start_time": "2021-07-08T14:37:26.540Z"
   },
   {
    "duration": 170,
    "start_time": "2021-07-08T15:40:38.760Z"
   },
   {
    "duration": 533,
    "start_time": "2021-07-08T15:40:47.465Z"
   },
   {
    "duration": 526,
    "start_time": "2021-07-08T15:42:29.208Z"
   },
   {
    "duration": 521,
    "start_time": "2021-07-08T15:43:25.921Z"
   },
   {
    "duration": 1606,
    "start_time": "2021-07-08T16:09:06.806Z"
   },
   {
    "duration": 1083,
    "start_time": "2021-07-08T16:09:59.077Z"
   },
   {
    "duration": 1101,
    "start_time": "2021-07-08T16:12:08.736Z"
   },
   {
    "duration": 1323,
    "start_time": "2021-07-08T16:15:12.034Z"
   },
   {
    "duration": 1443,
    "start_time": "2021-07-08T16:44:17.223Z"
   },
   {
    "duration": 36,
    "start_time": "2021-07-08T16:48:13.399Z"
   },
   {
    "duration": 1670,
    "start_time": "2021-07-08T17:30:17.699Z"
   },
   {
    "duration": 1611,
    "start_time": "2021-07-08T17:32:54.130Z"
   },
   {
    "duration": 1641,
    "start_time": "2021-07-08T17:34:07.722Z"
   },
   {
    "duration": 1636,
    "start_time": "2021-07-08T17:35:32.440Z"
   },
   {
    "duration": 399,
    "start_time": "2021-07-08T17:44:09.561Z"
   },
   {
    "duration": 1238,
    "start_time": "2021-07-08T17:44:43.396Z"
   },
   {
    "duration": 372,
    "start_time": "2021-07-08T17:45:16.717Z"
   },
   {
    "duration": 412,
    "start_time": "2021-07-08T17:45:29.132Z"
   },
   {
    "duration": 397,
    "start_time": "2021-07-08T17:45:52.625Z"
   },
   {
    "duration": 835,
    "start_time": "2021-07-08T17:46:25.811Z"
   },
   {
    "duration": 823,
    "start_time": "2021-07-08T17:46:56.369Z"
   },
   {
    "duration": 873,
    "start_time": "2021-07-08T17:47:08.999Z"
   },
   {
    "duration": 836,
    "start_time": "2021-07-08T17:47:34.093Z"
   },
   {
    "duration": 1107,
    "start_time": "2021-07-08T17:47:54.182Z"
   },
   {
    "duration": 1742,
    "start_time": "2021-07-08T17:52:43.082Z"
   },
   {
    "duration": 1788,
    "start_time": "2021-07-08T18:05:23.347Z"
   },
   {
    "duration": 547,
    "start_time": "2021-07-08T18:17:10.095Z"
   },
   {
    "duration": 374,
    "start_time": "2021-07-08T18:17:20.364Z"
   },
   {
    "duration": 356,
    "start_time": "2021-07-08T18:17:58.430Z"
   },
   {
    "duration": 9070,
    "start_time": "2021-07-08T18:18:05.769Z"
   },
   {
    "duration": 1205,
    "start_time": "2021-07-08T18:19:52.953Z"
   },
   {
    "duration": 1051,
    "start_time": "2021-07-08T18:20:21.175Z"
   },
   {
    "duration": 1883,
    "start_time": "2021-07-08T18:26:36.284Z"
   },
   {
    "duration": 160,
    "start_time": "2021-07-08T20:09:36.909Z"
   },
   {
    "duration": 347,
    "start_time": "2021-07-08T20:09:56.297Z"
   },
   {
    "duration": 103,
    "start_time": "2021-07-08T20:10:09.306Z"
   },
   {
    "duration": 125,
    "start_time": "2021-07-08T20:26:00.362Z"
   },
   {
    "duration": 119,
    "start_time": "2021-07-08T20:27:56.482Z"
   },
   {
    "duration": 1787,
    "start_time": "2021-07-08T20:28:12.127Z"
   },
   {
    "duration": 1119,
    "start_time": "2021-07-08T20:28:36.792Z"
   },
   {
    "duration": 1706,
    "start_time": "2021-07-08T20:30:33.168Z"
   },
   {
    "duration": 106,
    "start_time": "2021-07-08T20:35:05.282Z"
   },
   {
    "duration": 20,
    "start_time": "2021-07-08T20:36:28.147Z"
   },
   {
    "duration": 24,
    "start_time": "2021-07-08T20:36:44.509Z"
   },
   {
    "duration": 18,
    "start_time": "2021-07-08T20:43:02.985Z"
   },
   {
    "duration": 8991,
    "start_time": "2021-07-08T20:53:01.383Z"
   },
   {
    "duration": 41,
    "start_time": "2021-07-08T20:54:32.257Z"
   },
   {
    "duration": 137,
    "start_time": "2021-07-08T20:56:25.366Z"
   },
   {
    "duration": 895,
    "start_time": "2021-07-08T20:56:38.396Z"
   },
   {
    "duration": 711,
    "start_time": "2021-07-08T20:57:06.289Z"
   },
   {
    "duration": 641,
    "start_time": "2021-07-08T20:58:00.304Z"
   },
   {
    "duration": 608,
    "start_time": "2021-07-08T20:59:38.969Z"
   },
   {
    "duration": 614,
    "start_time": "2021-07-08T21:00:17.582Z"
   },
   {
    "duration": 746,
    "start_time": "2021-07-08T21:01:02.136Z"
   },
   {
    "duration": 6,
    "start_time": "2021-07-08T21:18:44.756Z"
   },
   {
    "duration": 519,
    "start_time": "2021-07-08T21:23:25.812Z"
   },
   {
    "duration": 1003,
    "start_time": "2021-07-08T21:27:37.945Z"
   },
   {
    "duration": 1645,
    "start_time": "2021-07-08T21:29:20.253Z"
   },
   {
    "duration": 988,
    "start_time": "2021-07-08T21:30:02.937Z"
   },
   {
    "duration": 1424,
    "start_time": "2021-07-09T05:57:38.542Z"
   },
   {
    "duration": 109,
    "start_time": "2021-07-09T05:57:39.969Z"
   },
   {
    "duration": 20,
    "start_time": "2021-07-09T05:57:40.081Z"
   },
   {
    "duration": 43,
    "start_time": "2021-07-09T05:57:40.104Z"
   },
   {
    "duration": 998,
    "start_time": "2021-07-09T05:57:40.150Z"
   },
   {
    "duration": 2793,
    "start_time": "2021-07-09T05:57:41.151Z"
   },
   {
    "duration": 68,
    "start_time": "2021-07-09T05:57:43.947Z"
   },
   {
    "duration": 1079,
    "start_time": "2021-07-09T05:57:44.021Z"
   },
   {
    "duration": 1590,
    "start_time": "2021-07-09T05:57:45.103Z"
   },
   {
    "duration": 36,
    "start_time": "2021-07-09T05:57:46.695Z"
   },
   {
    "duration": 1333,
    "start_time": "2021-07-09T05:57:46.733Z"
   },
   {
    "duration": 1665,
    "start_time": "2021-07-09T05:57:48.069Z"
   },
   {
    "duration": 1005,
    "start_time": "2021-07-09T05:57:49.737Z"
   },
   {
    "duration": 564,
    "start_time": "2021-07-09T05:57:50.744Z"
   },
   {
    "duration": 881,
    "start_time": "2021-07-09T05:57:51.310Z"
   },
   {
    "duration": 1115,
    "start_time": "2021-07-09T06:31:34.638Z"
   },
   {
    "duration": 21,
    "start_time": "2021-07-09T09:15:42.466Z"
   },
   {
    "duration": 20,
    "start_time": "2021-07-09T09:15:54.568Z"
   },
   {
    "duration": 429,
    "start_time": "2021-07-09T09:16:46.827Z"
   },
   {
    "duration": 20,
    "start_time": "2021-07-09T09:16:53.968Z"
   },
   {
    "duration": 65,
    "start_time": "2021-07-09T09:19:42.007Z"
   },
   {
    "duration": 59,
    "start_time": "2021-07-09T09:19:58.456Z"
   },
   {
    "duration": 60,
    "start_time": "2021-07-09T09:20:38.261Z"
   },
   {
    "duration": 297,
    "start_time": "2021-07-09T09:22:14.264Z"
   },
   {
    "duration": 50,
    "start_time": "2021-07-09T09:22:52.656Z"
   },
   {
    "duration": 51,
    "start_time": "2021-07-09T09:23:36.858Z"
   },
   {
    "duration": 92,
    "start_time": "2021-07-09T09:24:08.757Z"
   },
   {
    "duration": 50,
    "start_time": "2021-07-09T09:24:18.593Z"
   },
   {
    "duration": 291,
    "start_time": "2021-07-09T09:24:53.135Z"
   },
   {
    "duration": 291,
    "start_time": "2021-07-09T09:26:13.029Z"
   },
   {
    "duration": 46,
    "start_time": "2021-07-09T09:26:23.919Z"
   },
   {
    "duration": 45,
    "start_time": "2021-07-09T09:26:52.215Z"
   },
   {
    "duration": 47,
    "start_time": "2021-07-09T09:27:09.583Z"
   },
   {
    "duration": 285,
    "start_time": "2021-07-09T09:28:21.625Z"
   },
   {
    "duration": 53,
    "start_time": "2021-07-09T09:28:31.734Z"
   },
   {
    "duration": 52,
    "start_time": "2021-07-09T09:33:06.606Z"
   },
   {
    "duration": 127,
    "start_time": "2021-07-09T09:35:15.463Z"
   },
   {
    "duration": 53,
    "start_time": "2021-07-09T09:35:33.144Z"
   },
   {
    "duration": 55,
    "start_time": "2021-07-09T09:36:23.372Z"
   },
   {
    "duration": 61,
    "start_time": "2021-07-09T09:36:27.174Z"
   },
   {
    "duration": 56,
    "start_time": "2021-07-09T09:37:08.308Z"
   },
   {
    "duration": 55,
    "start_time": "2021-07-09T09:37:14.210Z"
   },
   {
    "duration": 56,
    "start_time": "2021-07-09T09:47:26.130Z"
   },
   {
    "duration": 56,
    "start_time": "2021-07-09T09:48:26.005Z"
   },
   {
    "duration": 55,
    "start_time": "2021-07-09T09:48:39.354Z"
   },
   {
    "duration": 14,
    "start_time": "2021-07-09T11:01:02.426Z"
   },
   {
    "duration": 7,
    "start_time": "2021-07-09T11:01:20.857Z"
   },
   {
    "duration": 538,
    "start_time": "2021-07-09T11:05:17.312Z"
   },
   {
    "duration": 287,
    "start_time": "2021-07-09T11:05:37.589Z"
   },
   {
    "duration": 289,
    "start_time": "2021-07-09T11:06:03.598Z"
   },
   {
    "duration": 6886,
    "start_time": "2021-07-09T11:12:15.624Z"
   },
   {
    "duration": 41,
    "start_time": "2021-07-09T11:12:30.915Z"
   },
   {
    "duration": 50,
    "start_time": "2021-07-09T11:13:35.798Z"
   },
   {
    "duration": 3,
    "start_time": "2021-07-09T11:21:11.761Z"
   },
   {
    "duration": 312,
    "start_time": "2021-07-09T11:22:09.510Z"
   },
   {
    "duration": 30,
    "start_time": "2021-07-09T11:22:32.406Z"
   },
   {
    "duration": 46,
    "start_time": "2021-07-09T11:29:58.915Z"
   },
   {
    "duration": 46,
    "start_time": "2021-07-09T11:33:55.644Z"
   },
   {
    "duration": 47,
    "start_time": "2021-07-09T11:34:16.296Z"
   },
   {
    "duration": 433,
    "start_time": "2021-07-09T11:37:02.033Z"
   },
   {
    "duration": 48,
    "start_time": "2021-07-09T11:37:31.851Z"
   },
   {
    "duration": 4,
    "start_time": "2021-07-09T11:37:59.343Z"
   },
   {
    "duration": 102,
    "start_time": "2021-07-09T11:37:59.349Z"
   },
   {
    "duration": 12,
    "start_time": "2021-07-09T11:37:59.458Z"
   },
   {
    "duration": 53,
    "start_time": "2021-07-09T11:37:59.473Z"
   },
   {
    "duration": 1026,
    "start_time": "2021-07-09T11:37:59.578Z"
   },
   {
    "duration": 2796,
    "start_time": "2021-07-09T11:38:00.606Z"
   },
   {
    "duration": 47,
    "start_time": "2021-07-09T11:38:03.405Z"
   },
   {
    "duration": 1114,
    "start_time": "2021-07-09T11:38:03.455Z"
   },
   {
    "duration": 1558,
    "start_time": "2021-07-09T11:38:04.572Z"
   },
   {
    "duration": 34,
    "start_time": "2021-07-09T11:38:06.132Z"
   },
   {
    "duration": 1399,
    "start_time": "2021-07-09T11:38:06.169Z"
   },
   {
    "duration": 1817,
    "start_time": "2021-07-09T11:38:07.572Z"
   },
   {
    "duration": 1014,
    "start_time": "2021-07-09T11:38:09.391Z"
   },
   {
    "duration": 603,
    "start_time": "2021-07-09T11:38:10.408Z"
   },
   {
    "duration": 919,
    "start_time": "2021-07-09T11:38:11.013Z"
   },
   {
    "duration": 80,
    "start_time": "2021-07-09T11:38:11.934Z"
   },
   {
    "duration": 56,
    "start_time": "2021-07-09T11:38:12.016Z"
   },
   {
    "duration": 99,
    "start_time": "2021-07-09T11:38:12.102Z"
   },
   {
    "duration": 61,
    "start_time": "2021-07-09T11:38:12.203Z"
   },
   {
    "duration": 56,
    "start_time": "2021-07-09T11:41:40.760Z"
   },
   {
    "duration": 52,
    "start_time": "2021-07-09T11:59:46.997Z"
   },
   {
    "duration": 51,
    "start_time": "2021-07-09T12:00:09.877Z"
   },
   {
    "duration": 52,
    "start_time": "2021-07-09T12:00:22.332Z"
   },
   {
    "duration": 1474,
    "start_time": "2021-07-09T16:35:27.972Z"
   },
   {
    "duration": 122,
    "start_time": "2021-07-09T16:35:29.448Z"
   },
   {
    "duration": 16,
    "start_time": "2021-07-09T16:35:29.579Z"
   },
   {
    "duration": 38,
    "start_time": "2021-07-09T16:35:29.597Z"
   },
   {
    "duration": 1110,
    "start_time": "2021-07-09T16:35:29.637Z"
   },
   {
    "duration": 3277,
    "start_time": "2021-07-09T16:35:30.749Z"
   },
   {
    "duration": 67,
    "start_time": "2021-07-09T16:35:34.030Z"
   },
   {
    "duration": 1169,
    "start_time": "2021-07-09T16:35:34.100Z"
   },
   {
    "duration": 1751,
    "start_time": "2021-07-09T16:35:35.273Z"
   },
   {
    "duration": 51,
    "start_time": "2021-07-09T16:35:37.027Z"
   },
   {
    "duration": 1486,
    "start_time": "2021-07-09T16:35:37.081Z"
   },
   {
    "duration": 1959,
    "start_time": "2021-07-09T16:35:38.569Z"
   },
   {
    "duration": 1164,
    "start_time": "2021-07-09T16:35:40.530Z"
   },
   {
    "duration": 621,
    "start_time": "2021-07-09T16:35:41.696Z"
   },
   {
    "duration": 970,
    "start_time": "2021-07-09T16:35:42.319Z"
   },
   {
    "duration": 82,
    "start_time": "2021-07-09T16:35:43.291Z"
   },
   {
    "duration": 60,
    "start_time": "2021-07-09T16:35:43.376Z"
   },
   {
    "duration": 90,
    "start_time": "2021-07-09T16:35:43.437Z"
   },
   {
    "duration": 96,
    "start_time": "2021-07-09T16:35:43.529Z"
   },
   {
    "duration": 1649,
    "start_time": "2021-07-09T18:12:20.094Z"
   },
   {
    "duration": 114,
    "start_time": "2021-07-09T18:12:21.746Z"
   },
   {
    "duration": 16,
    "start_time": "2021-07-09T18:12:25.724Z"
   },
   {
    "duration": 33,
    "start_time": "2021-07-09T18:12:30.022Z"
   },
   {
    "duration": 1030,
    "start_time": "2021-07-09T18:12:33.259Z"
   },
   {
    "duration": 7,
    "start_time": "2021-07-09T18:12:44.297Z"
   },
   {
    "duration": 7,
    "start_time": "2021-07-09T18:13:13.785Z"
   },
   {
    "duration": 1531,
    "start_time": "2021-07-09T18:13:25.749Z"
   },
   {
    "duration": 476,
    "start_time": "2021-07-09T18:14:02.539Z"
   },
   {
    "duration": 4,
    "start_time": "2021-07-09T18:14:12.044Z"
   },
   {
    "duration": 102,
    "start_time": "2021-07-09T18:14:12.708Z"
   },
   {
    "duration": 14,
    "start_time": "2021-07-09T18:14:16.656Z"
   },
   {
    "duration": 33,
    "start_time": "2021-07-09T18:14:20.001Z"
   },
   {
    "duration": 1064,
    "start_time": "2021-07-09T18:14:22.598Z"
   },
   {
    "duration": 7,
    "start_time": "2021-07-09T18:14:28.282Z"
   },
   {
    "duration": 1979,
    "start_time": "2021-07-09T18:14:32.483Z"
   },
   {
    "duration": 1485,
    "start_time": "2021-07-09T18:14:40.986Z"
   },
   {
    "duration": 31,
    "start_time": "2021-07-09T18:15:14.593Z"
   },
   {
    "duration": 4,
    "start_time": "2021-07-09T18:53:47.328Z"
   },
   {
    "duration": 131,
    "start_time": "2021-07-09T18:53:48.245Z"
   },
   {
    "duration": 21,
    "start_time": "2021-07-09T18:53:53.611Z"
   },
   {
    "duration": 37,
    "start_time": "2021-07-09T18:53:58.269Z"
   },
   {
    "duration": 1033,
    "start_time": "2021-07-09T18:54:00.065Z"
   },
   {
    "duration": 7,
    "start_time": "2021-07-09T18:54:08.256Z"
   },
   {
    "duration": 1391,
    "start_time": "2021-07-09T18:54:10.144Z"
   },
   {
    "duration": 1445,
    "start_time": "2021-07-09T18:54:14.165Z"
   },
   {
    "duration": 32,
    "start_time": "2021-07-09T18:54:18.045Z"
   },
   {
    "duration": 48,
    "start_time": "2021-07-09T18:54:24.575Z"
   },
   {
    "duration": 1086,
    "start_time": "2021-07-09T18:54:28.403Z"
   },
   {
    "duration": 34,
    "start_time": "2021-07-09T18:54:33.148Z"
   },
   {
    "duration": 1362,
    "start_time": "2021-07-09T18:54:34.929Z"
   },
   {
    "duration": 1876,
    "start_time": "2021-07-09T18:59:53.157Z"
   },
   {
    "duration": 1396,
    "start_time": "2021-07-09T19:08:01.720Z"
   },
   {
    "duration": 24,
    "start_time": "2021-07-09T19:08:47.390Z"
   },
   {
    "duration": 1170,
    "start_time": "2021-07-09T19:08:50.661Z"
   },
   {
    "duration": 158,
    "start_time": "2021-07-09T19:36:32.607Z"
   },
   {
    "duration": 26,
    "start_time": "2021-07-09T19:36:46.066Z"
   },
   {
    "duration": 36,
    "start_time": "2021-07-09T19:39:48.763Z"
   },
   {
    "duration": 405,
    "start_time": "2021-07-09T19:45:37.990Z"
   },
   {
    "duration": 330,
    "start_time": "2021-07-09T19:46:00.503Z"
   },
   {
    "duration": 319,
    "start_time": "2021-07-09T19:46:15.285Z"
   },
   {
    "duration": 793,
    "start_time": "2021-07-09T19:46:30.432Z"
   },
   {
    "duration": 1230,
    "start_time": "2021-07-09T19:47:43.969Z"
   },
   {
    "duration": 333,
    "start_time": "2021-07-09T19:48:46.020Z"
   },
   {
    "duration": 1128,
    "start_time": "2021-07-09T19:50:16.182Z"
   },
   {
    "duration": 339,
    "start_time": "2021-07-09T19:52:29.839Z"
   },
   {
    "duration": 119,
    "start_time": "2021-07-09T19:53:48.620Z"
   },
   {
    "duration": 399,
    "start_time": "2021-07-09T19:54:10.933Z"
   },
   {
    "duration": 360,
    "start_time": "2021-07-09T19:54:52.870Z"
   },
   {
    "duration": 1261,
    "start_time": "2021-07-09T19:55:20.139Z"
   },
   {
    "duration": 1344,
    "start_time": "2021-07-09T19:56:17.095Z"
   },
   {
    "duration": 1465,
    "start_time": "2021-07-09T20:12:49.670Z"
   },
   {
    "duration": 1414,
    "start_time": "2021-07-09T20:16:13.916Z"
   },
   {
    "duration": 1750,
    "start_time": "2021-07-09T20:22:33.406Z"
   },
   {
    "duration": 1306,
    "start_time": "2021-07-09T20:22:54.040Z"
   },
   {
    "duration": 1848,
    "start_time": "2021-07-09T20:31:15.847Z"
   },
   {
    "duration": 2028,
    "start_time": "2021-07-09T20:32:34.967Z"
   },
   {
    "duration": 2089,
    "start_time": "2021-07-09T20:33:17.461Z"
   },
   {
    "duration": 2059,
    "start_time": "2021-07-09T20:34:29.119Z"
   },
   {
    "duration": 2632,
    "start_time": "2021-07-09T20:34:59.088Z"
   },
   {
    "duration": 2826,
    "start_time": "2021-07-09T20:36:30.568Z"
   },
   {
    "duration": 660,
    "start_time": "2021-07-09T20:53:11.411Z"
   },
   {
    "duration": 4,
    "start_time": "2021-07-09T20:53:14.807Z"
   },
   {
    "duration": 105,
    "start_time": "2021-07-09T20:53:19.282Z"
   },
   {
    "duration": 17,
    "start_time": "2021-07-09T20:53:24.153Z"
   },
   {
    "duration": 38,
    "start_time": "2021-07-09T20:53:27.017Z"
   },
   {
    "duration": 7,
    "start_time": "2021-07-09T20:53:31.709Z"
   },
   {
    "duration": 1446,
    "start_time": "2021-07-09T20:53:33.446Z"
   },
   {
    "duration": 1494,
    "start_time": "2021-07-09T20:53:37.173Z"
   },
   {
    "duration": 50,
    "start_time": "2021-07-09T20:53:46.509Z"
   },
   {
    "duration": 1588,
    "start_time": "2021-07-09T20:53:49.431Z"
   },
   {
    "duration": 37,
    "start_time": "2021-07-09T20:53:54.102Z"
   },
   {
    "duration": 1792,
    "start_time": "2021-07-09T20:54:11.281Z"
   },
   {
    "duration": 1739,
    "start_time": "2021-07-09T20:55:01.405Z"
   },
   {
    "duration": 1712,
    "start_time": "2021-07-09T20:57:07.024Z"
   },
   {
    "duration": 1970,
    "start_time": "2021-07-09T20:57:30.576Z"
   },
   {
    "duration": 39,
    "start_time": "2021-07-09T20:58:34.356Z"
   },
   {
    "duration": 1786,
    "start_time": "2021-07-09T21:00:11.719Z"
   },
   {
    "duration": 9622,
    "start_time": "2021-07-09T21:04:36.176Z"
   },
   {
    "duration": 38,
    "start_time": "2021-07-09T21:07:13.751Z"
   },
   {
    "duration": 1382,
    "start_time": "2021-07-09T21:07:15.646Z"
   },
   {
    "duration": 2073,
    "start_time": "2021-07-09T21:08:22.044Z"
   },
   {
    "duration": 1341,
    "start_time": "2021-07-09T21:25:26.643Z"
   },
   {
    "duration": 1417,
    "start_time": "2021-07-09T21:27:02.456Z"
   },
   {
    "duration": 1422,
    "start_time": "2021-07-09T21:28:46.912Z"
   },
   {
    "duration": 1509,
    "start_time": "2021-07-09T21:33:00.427Z"
   },
   {
    "duration": 1425,
    "start_time": "2021-07-09T21:33:24.496Z"
   },
   {
    "duration": 1165,
    "start_time": "2021-07-09T21:33:59.191Z"
   },
   {
    "duration": 1652,
    "start_time": "2021-07-09T21:37:01.523Z"
   },
   {
    "duration": 1315,
    "start_time": "2021-07-09T21:38:30.777Z"
   },
   {
    "duration": 1254,
    "start_time": "2021-07-09T21:39:25.539Z"
   },
   {
    "duration": 1032,
    "start_time": "2021-07-09T21:41:13.800Z"
   },
   {
    "duration": 1176,
    "start_time": "2021-07-09T21:43:36.059Z"
   },
   {
    "duration": 1095,
    "start_time": "2021-07-09T21:45:06.601Z"
   },
   {
    "duration": 12,
    "start_time": "2021-07-09T21:46:14.175Z"
   },
   {
    "duration": 688,
    "start_time": "2021-07-09T21:51:46.487Z"
   },
   {
    "duration": 903,
    "start_time": "2021-07-09T21:52:53.788Z"
   },
   {
    "duration": 39,
    "start_time": "2021-07-09T22:02:35.852Z"
   },
   {
    "duration": 2082,
    "start_time": "2021-07-09T22:02:37.416Z"
   },
   {
    "duration": 1438,
    "start_time": "2021-07-09T22:03:00.034Z"
   },
   {
    "duration": 1099,
    "start_time": "2021-07-09T22:03:07.991Z"
   },
   {
    "duration": 625,
    "start_time": "2021-07-09T22:03:12.047Z"
   },
   {
    "duration": 906,
    "start_time": "2021-07-09T22:03:16.149Z"
   },
   {
    "duration": 65,
    "start_time": "2021-07-09T22:16:43.229Z"
   },
   {
    "duration": 63,
    "start_time": "2021-07-09T22:20:01.002Z"
   },
   {
    "duration": 63,
    "start_time": "2021-07-09T22:20:22.755Z"
   },
   {
    "duration": 40,
    "start_time": "2021-07-09T22:38:02.462Z"
   },
   {
    "duration": 62,
    "start_time": "2021-07-09T23:18:47.753Z"
   },
   {
    "duration": 1526,
    "start_time": "2021-07-10T16:59:20.740Z"
   },
   {
    "duration": 113,
    "start_time": "2021-07-10T16:59:22.269Z"
   },
   {
    "duration": 15,
    "start_time": "2021-07-10T16:59:22.385Z"
   },
   {
    "duration": 63,
    "start_time": "2021-07-10T16:59:22.404Z"
   },
   {
    "duration": 1248,
    "start_time": "2021-07-10T16:59:22.470Z"
   },
   {
    "duration": 6,
    "start_time": "2021-07-10T16:59:23.720Z"
   },
   {
    "duration": 1446,
    "start_time": "2021-07-10T16:59:23.729Z"
   },
   {
    "duration": 1414,
    "start_time": "2021-07-10T16:59:25.179Z"
   },
   {
    "duration": 28,
    "start_time": "2021-07-10T16:59:26.596Z"
   },
   {
    "duration": 70,
    "start_time": "2021-07-10T16:59:26.627Z"
   },
   {
    "duration": 1198,
    "start_time": "2021-07-10T16:59:26.700Z"
   },
   {
    "duration": 36,
    "start_time": "2021-07-10T16:59:27.901Z"
   },
   {
    "duration": 2053,
    "start_time": "2021-07-10T16:59:27.940Z"
   },
   {
    "duration": 1510,
    "start_time": "2021-07-10T16:59:29.995Z"
   },
   {
    "duration": 1246,
    "start_time": "2021-07-10T16:59:31.507Z"
   },
   {
    "duration": 1038,
    "start_time": "2021-07-10T16:59:32.756Z"
   },
   {
    "duration": 640,
    "start_time": "2021-07-10T16:59:33.797Z"
   },
   {
    "duration": 922,
    "start_time": "2021-07-10T16:59:34.439Z"
   },
   {
    "duration": 56,
    "start_time": "2021-07-10T16:59:35.369Z"
   },
   {
    "duration": 84,
    "start_time": "2021-07-10T16:59:35.427Z"
   },
   {
    "duration": 92,
    "start_time": "2021-07-10T16:59:35.514Z"
   },
   {
    "duration": 66,
    "start_time": "2021-07-10T16:59:35.608Z"
   }
  ],
  "kernelspec": {
   "display_name": "Python 3",
   "language": "python",
   "name": "python3"
  },
  "language_info": {
   "codemirror_mode": {
    "name": "ipython",
    "version": 3
   },
   "file_extension": ".py",
   "mimetype": "text/x-python",
   "name": "python",
   "nbconvert_exporter": "python",
   "pygments_lexer": "ipython3",
   "version": "3.8.5"
  },
  "toc": {
   "base_numbering": 1,
   "nav_menu": {},
   "number_sections": true,
   "sideBar": true,
   "skip_h1_title": true,
   "title_cell": "Table of Contents",
   "title_sidebar": "Contents",
   "toc_cell": false,
   "toc_position": {},
   "toc_section_display": true,
   "toc_window_display": false
  }
 },
 "nbformat": 4,
 "nbformat_minor": 2
}
