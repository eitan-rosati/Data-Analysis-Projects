{
 "cells": [
  {
   "cell_type": "markdown",
   "id": "6f4308de",
   "metadata": {},
   "source": [
    "#  Project - How to Tell a Story Using Data"
   ]
  },
  {
   "cell_type": "markdown",
   "id": "78b482ce",
   "metadata": {},
   "source": [
    "## Project Description"
   ]
  },
  {
   "cell_type": "markdown",
   "id": "68c67a21",
   "metadata": {},
   "source": [
    "A company decided to open a small robot-run cafe in Los Angeles. The project is\n",
    "promising but expensive, so the company decided to try to attract\n",
    "investors.<br>\n",
    "They’re interested to check the current market conditions to answer the question — what are \n",
    "the ideal conditions to open a new cafe?<br>\n",
    "As data analytics, our partners have asked as to prepare some\n",
    "market research. We have access to an open-source data on restaurants in LA."
   ]
  },
  {
   "cell_type": "markdown",
   "id": "0140827b",
   "metadata": {},
   "source": [
    "### Data Description"
   ]
  },
  {
   "cell_type": "markdown",
   "id": "92e4a67b",
   "metadata": {},
   "source": [
    "rest_data dataframe - [Link to csv file](https://code.s3.yandex.net/datasets/rest_data_us.csv)<br>\n",
    "columns:\n",
    "* `id` — restaurant identifier\n",
    "* `object_name` — establishment name\n",
    "* `chain` — chain establishment (True/False)\n",
    "* `object_type` — establishment type\n",
    "* `address` — restaurant address\n",
    "* `number` — number of seats"
   ]
  },
  {
   "cell_type": "markdown",
   "id": "18729143",
   "metadata": {},
   "source": [
    "### For the users"
   ]
  },
  {
   "cell_type": "markdown",
   "id": "254dc5bf",
   "metadata": {},
   "source": [
    "I used sidetable package that are not installed in the platform and a really high version of Plotly. I have also used the package usaddress to parse the address column<br>\n",
    "If you have problem to run the code(errors appears) try to run those commands.I add them as comments<br> "
   ]
  },
  {
   "cell_type": "code",
   "execution_count": 1,
   "id": "63deea53",
   "metadata": {},
   "outputs": [],
   "source": [
    "# !pip install plotly -qU\n",
    "# !pip install -q usaddress\n",
    "# !pip install -q sidetable"
   ]
  },
  {
   "cell_type": "markdown",
   "id": "79280d96",
   "metadata": {},
   "source": [
    "### Import packages"
   ]
  },
  {
   "cell_type": "code",
   "execution_count": 2,
   "id": "e5218af9",
   "metadata": {
    "ExecuteTime": {
     "end_time": "2021-12-09T16:15:29.334778Z",
     "start_time": "2021-12-09T16:15:28.586487Z"
    }
   },
   "outputs": [],
   "source": [
    "import pandas as pd\n",
    "import plotly.express as px\n",
    "import matplotlib.pyplot as plt\n",
    "import usaddress\n",
    "import sidetable\n",
    "\n",
    "# overide display basic size to get a better view for our datasets:\n",
    "pd.set_option('display.max_columns', 500)\n",
    "pd.set_option('display.width', 5000)\n",
    "pd.set_option(\"max_colwidth\", 1000)\n",
    "pd.set_option('display.max_rows', 5000)"
   ]
  },
  {
   "cell_type": "markdown",
   "id": "84f0bd52",
   "metadata": {},
   "source": [
    "## Read the dataset and prepare it for analysis "
   ]
  },
  {
   "cell_type": "markdown",
   "id": "b8924ca5",
   "metadata": {},
   "source": [
    "**Function for dataset exploration**"
   ]
  },
  {
   "cell_type": "code",
   "execution_count": 3,
   "id": "57a3a20e",
   "metadata": {
    "ExecuteTime": {
     "end_time": "2021-12-09T16:15:31.052331Z",
     "start_time": "2021-12-09T16:15:31.034337Z"
    }
   },
   "outputs": [],
   "source": [
    "# Functions area:\n",
    "def check_dataset(df_name,df):\n",
    "    # Check dataset info\n",
    "    print(df_name,'dataset info:')\n",
    "    df.info()\n",
    "    \n",
    "    # Display dataset first lines\n",
    "    print('\\n'+'Display the head of the', df_name ,'dataset:')\n",
    "    display(df.head(15))\n",
    "    \n",
    "    # Check missing values in the dataset\n",
    "    check_missing_values(df)\n",
    "    \n",
    "    # Check duplicates in the dataset    \n",
    "    check_duplicates(df_name,df)\n",
    "    \n",
    "\n",
    "def check_missing_values(df):\n",
    "    print('\\n'+'Check missing values:\\n') \n",
    "    display(df.stb.missing(style=True))\n",
    "    \n",
    "    \n",
    "def check_duplicates(df_name,df):\n",
    "    if df.duplicated().sum() != 0:\n",
    "        print(\"\\n\"+\"The\", df_name, \"dataframe have duplicated rows.\\n\")\n",
    "    else:\n",
    "        print(\"\\n\"+\"The\", df_name, \"dataframe don't have duplicated rows.\\n\")"
   ]
  },
  {
   "cell_type": "markdown",
   "id": "bc193d12",
   "metadata": {},
   "source": [
    "### Read the dataset and check his general information"
   ]
  },
  {
   "cell_type": "code",
   "execution_count": 4,
   "id": "13718781",
   "metadata": {
    "ExecuteTime": {
     "end_time": "2021-12-09T16:15:35.710784Z",
     "start_time": "2021-12-09T16:15:34.050130Z"
    }
   },
   "outputs": [
    {
     "name": "stdout",
     "output_type": "stream",
     "text": [
      "rest_data dataset info:\n",
      "<class 'pandas.core.frame.DataFrame'>\n",
      "RangeIndex: 9651 entries, 0 to 9650\n",
      "Data columns (total 6 columns):\n",
      " #   Column       Non-Null Count  Dtype \n",
      "---  ------       --------------  ----- \n",
      " 0   id           9651 non-null   int64 \n",
      " 1   object_name  9651 non-null   object\n",
      " 2   address      9651 non-null   object\n",
      " 3   chain        9648 non-null   object\n",
      " 4   object_type  9651 non-null   object\n",
      " 5   number       9651 non-null   int64 \n",
      "dtypes: int64(2), object(4)\n",
      "memory usage: 452.5+ KB\n",
      "\n",
      "Display the head of the rest_data dataset:\n"
     ]
    },
    {
     "data": {
      "text/html": [
       "<div>\n",
       "<style scoped>\n",
       "    .dataframe tbody tr th:only-of-type {\n",
       "        vertical-align: middle;\n",
       "    }\n",
       "\n",
       "    .dataframe tbody tr th {\n",
       "        vertical-align: top;\n",
       "    }\n",
       "\n",
       "    .dataframe thead th {\n",
       "        text-align: right;\n",
       "    }\n",
       "</style>\n",
       "<table border=\"1\" class=\"dataframe\">\n",
       "  <thead>\n",
       "    <tr style=\"text-align: right;\">\n",
       "      <th></th>\n",
       "      <th>id</th>\n",
       "      <th>object_name</th>\n",
       "      <th>address</th>\n",
       "      <th>chain</th>\n",
       "      <th>object_type</th>\n",
       "      <th>number</th>\n",
       "    </tr>\n",
       "  </thead>\n",
       "  <tbody>\n",
       "    <tr>\n",
       "      <th>0</th>\n",
       "      <td>11786</td>\n",
       "      <td>HABITAT COFFEE SHOP</td>\n",
       "      <td>3708 N EAGLE ROCK BLVD</td>\n",
       "      <td>False</td>\n",
       "      <td>Cafe</td>\n",
       "      <td>26</td>\n",
       "    </tr>\n",
       "    <tr>\n",
       "      <th>1</th>\n",
       "      <td>11787</td>\n",
       "      <td>REILLY'S</td>\n",
       "      <td>100 WORLD WAY # 120</td>\n",
       "      <td>False</td>\n",
       "      <td>Restaurant</td>\n",
       "      <td>9</td>\n",
       "    </tr>\n",
       "    <tr>\n",
       "      <th>2</th>\n",
       "      <td>11788</td>\n",
       "      <td>STREET CHURROS</td>\n",
       "      <td>6801 HOLLYWOOD BLVD # 253</td>\n",
       "      <td>False</td>\n",
       "      <td>Fast Food</td>\n",
       "      <td>20</td>\n",
       "    </tr>\n",
       "    <tr>\n",
       "      <th>3</th>\n",
       "      <td>11789</td>\n",
       "      <td>TRINITI ECHO PARK</td>\n",
       "      <td>1814 W SUNSET BLVD</td>\n",
       "      <td>False</td>\n",
       "      <td>Restaurant</td>\n",
       "      <td>22</td>\n",
       "    </tr>\n",
       "    <tr>\n",
       "      <th>4</th>\n",
       "      <td>11790</td>\n",
       "      <td>POLLEN</td>\n",
       "      <td>2100 ECHO PARK AVE</td>\n",
       "      <td>False</td>\n",
       "      <td>Restaurant</td>\n",
       "      <td>20</td>\n",
       "    </tr>\n",
       "    <tr>\n",
       "      <th>5</th>\n",
       "      <td>11791</td>\n",
       "      <td>THE SPOT GRILL</td>\n",
       "      <td>10004 NATIONAL BLVD</td>\n",
       "      <td>False</td>\n",
       "      <td>Restaurant</td>\n",
       "      <td>14</td>\n",
       "    </tr>\n",
       "    <tr>\n",
       "      <th>6</th>\n",
       "      <td>11792</td>\n",
       "      <td>CPK</td>\n",
       "      <td>100 WORLD WAY # 126</td>\n",
       "      <td>False</td>\n",
       "      <td>Restaurant</td>\n",
       "      <td>100</td>\n",
       "    </tr>\n",
       "    <tr>\n",
       "      <th>7</th>\n",
       "      <td>11793</td>\n",
       "      <td>PHO LALA</td>\n",
       "      <td>3500 W 6TH ST STE 226</td>\n",
       "      <td>False</td>\n",
       "      <td>Restaurant</td>\n",
       "      <td>7</td>\n",
       "    </tr>\n",
       "    <tr>\n",
       "      <th>8</th>\n",
       "      <td>11794</td>\n",
       "      <td>ABC DONUTS</td>\n",
       "      <td>3027 N SAN FERNANDO RD UNIT 103</td>\n",
       "      <td>True</td>\n",
       "      <td>Fast Food</td>\n",
       "      <td>1</td>\n",
       "    </tr>\n",
       "    <tr>\n",
       "      <th>9</th>\n",
       "      <td>11795</td>\n",
       "      <td>UPSTAIRS</td>\n",
       "      <td>3707 N CAHUENGA BLVD</td>\n",
       "      <td>False</td>\n",
       "      <td>Restaurant</td>\n",
       "      <td>35</td>\n",
       "    </tr>\n",
       "    <tr>\n",
       "      <th>10</th>\n",
       "      <td>11796</td>\n",
       "      <td>EL POLLO LOCO</td>\n",
       "      <td>5319 W SUNSET BLVD</td>\n",
       "      <td>True</td>\n",
       "      <td>Restaurant</td>\n",
       "      <td>38</td>\n",
       "    </tr>\n",
       "    <tr>\n",
       "      <th>11</th>\n",
       "      <td>11797</td>\n",
       "      <td>POONG NYUN BAKERY</td>\n",
       "      <td>928 S WESTERN AVE STE 109</td>\n",
       "      <td>True</td>\n",
       "      <td>Bakery</td>\n",
       "      <td>17</td>\n",
       "    </tr>\n",
       "    <tr>\n",
       "      <th>12</th>\n",
       "      <td>11798</td>\n",
       "      <td>EMC RESTAURANT GROUP LLC</td>\n",
       "      <td>3500 W 6TH ST STE 101</td>\n",
       "      <td>True</td>\n",
       "      <td>Restaurant</td>\n",
       "      <td>133</td>\n",
       "    </tr>\n",
       "    <tr>\n",
       "      <th>13</th>\n",
       "      <td>11799</td>\n",
       "      <td>POPULAR DONUTS</td>\n",
       "      <td>3614 W SLAUSON AVE</td>\n",
       "      <td>False</td>\n",
       "      <td>Fast Food</td>\n",
       "      <td>18</td>\n",
       "    </tr>\n",
       "    <tr>\n",
       "      <th>14</th>\n",
       "      <td>11800</td>\n",
       "      <td>CUSCATLECA BAKERY</td>\n",
       "      <td>2501 W SUNSET BLVD #A</td>\n",
       "      <td>True</td>\n",
       "      <td>Bakery</td>\n",
       "      <td>26</td>\n",
       "    </tr>\n",
       "  </tbody>\n",
       "</table>\n",
       "</div>"
      ],
      "text/plain": [
       "       id               object_name                          address  chain object_type  number\n",
       "0   11786       HABITAT COFFEE SHOP           3708 N EAGLE ROCK BLVD  False        Cafe      26\n",
       "1   11787                  REILLY'S              100 WORLD WAY # 120  False  Restaurant       9\n",
       "2   11788            STREET CHURROS        6801 HOLLYWOOD BLVD # 253  False   Fast Food      20\n",
       "3   11789         TRINITI ECHO PARK               1814 W SUNSET BLVD  False  Restaurant      22\n",
       "4   11790                    POLLEN               2100 ECHO PARK AVE  False  Restaurant      20\n",
       "5   11791            THE SPOT GRILL              10004 NATIONAL BLVD  False  Restaurant      14\n",
       "6   11792                       CPK              100 WORLD WAY # 126  False  Restaurant     100\n",
       "7   11793                  PHO LALA            3500 W 6TH ST STE 226  False  Restaurant       7\n",
       "8   11794                ABC DONUTS  3027 N SAN FERNANDO RD UNIT 103   True   Fast Food       1\n",
       "9   11795                  UPSTAIRS             3707 N CAHUENGA BLVD  False  Restaurant      35\n",
       "10  11796             EL POLLO LOCO               5319 W SUNSET BLVD   True  Restaurant      38\n",
       "11  11797         POONG NYUN BAKERY        928 S WESTERN AVE STE 109   True      Bakery      17\n",
       "12  11798  EMC RESTAURANT GROUP LLC            3500 W 6TH ST STE 101   True  Restaurant     133\n",
       "13  11799            POPULAR DONUTS               3614 W SLAUSON AVE  False   Fast Food      18\n",
       "14  11800         CUSCATLECA BAKERY            2501 W SUNSET BLVD #A   True      Bakery      26"
      ]
     },
     "metadata": {},
     "output_type": "display_data"
    },
    {
     "name": "stdout",
     "output_type": "stream",
     "text": [
      "\n",
      "Check missing values:\n",
      "\n"
     ]
    },
    {
     "data": {
      "text/html": [
       "<style type=\"text/css\">\n",
       "</style>\n",
       "<table id=\"T_7fc84_\">\n",
       "  <thead>\n",
       "    <tr>\n",
       "      <th class=\"blank level0\" >&nbsp;</th>\n",
       "      <th class=\"col_heading level0 col0\" >missing</th>\n",
       "      <th class=\"col_heading level0 col1\" >total</th>\n",
       "      <th class=\"col_heading level0 col2\" >percent</th>\n",
       "    </tr>\n",
       "  </thead>\n",
       "  <tbody>\n",
       "    <tr>\n",
       "      <th id=\"T_7fc84_level0_row0\" class=\"row_heading level0 row0\" >chain</th>\n",
       "      <td id=\"T_7fc84_row0_col0\" class=\"data row0 col0\" >3</td>\n",
       "      <td id=\"T_7fc84_row0_col1\" class=\"data row0 col1\" >9,651</td>\n",
       "      <td id=\"T_7fc84_row0_col2\" class=\"data row0 col2\" >0.03%</td>\n",
       "    </tr>\n",
       "    <tr>\n",
       "      <th id=\"T_7fc84_level0_row1\" class=\"row_heading level0 row1\" >id</th>\n",
       "      <td id=\"T_7fc84_row1_col0\" class=\"data row1 col0\" >0</td>\n",
       "      <td id=\"T_7fc84_row1_col1\" class=\"data row1 col1\" >9,651</td>\n",
       "      <td id=\"T_7fc84_row1_col2\" class=\"data row1 col2\" >0.00%</td>\n",
       "    </tr>\n",
       "    <tr>\n",
       "      <th id=\"T_7fc84_level0_row2\" class=\"row_heading level0 row2\" >object_name</th>\n",
       "      <td id=\"T_7fc84_row2_col0\" class=\"data row2 col0\" >0</td>\n",
       "      <td id=\"T_7fc84_row2_col1\" class=\"data row2 col1\" >9,651</td>\n",
       "      <td id=\"T_7fc84_row2_col2\" class=\"data row2 col2\" >0.00%</td>\n",
       "    </tr>\n",
       "    <tr>\n",
       "      <th id=\"T_7fc84_level0_row3\" class=\"row_heading level0 row3\" >address</th>\n",
       "      <td id=\"T_7fc84_row3_col0\" class=\"data row3 col0\" >0</td>\n",
       "      <td id=\"T_7fc84_row3_col1\" class=\"data row3 col1\" >9,651</td>\n",
       "      <td id=\"T_7fc84_row3_col2\" class=\"data row3 col2\" >0.00%</td>\n",
       "    </tr>\n",
       "    <tr>\n",
       "      <th id=\"T_7fc84_level0_row4\" class=\"row_heading level0 row4\" >object_type</th>\n",
       "      <td id=\"T_7fc84_row4_col0\" class=\"data row4 col0\" >0</td>\n",
       "      <td id=\"T_7fc84_row4_col1\" class=\"data row4 col1\" >9,651</td>\n",
       "      <td id=\"T_7fc84_row4_col2\" class=\"data row4 col2\" >0.00%</td>\n",
       "    </tr>\n",
       "    <tr>\n",
       "      <th id=\"T_7fc84_level0_row5\" class=\"row_heading level0 row5\" >number</th>\n",
       "      <td id=\"T_7fc84_row5_col0\" class=\"data row5 col0\" >0</td>\n",
       "      <td id=\"T_7fc84_row5_col1\" class=\"data row5 col1\" >9,651</td>\n",
       "      <td id=\"T_7fc84_row5_col2\" class=\"data row5 col2\" >0.00%</td>\n",
       "    </tr>\n",
       "  </tbody>\n",
       "</table>\n"
      ],
      "text/plain": [
       "<pandas.io.formats.style.Styler at 0x18a1884ae20>"
      ]
     },
     "metadata": {},
     "output_type": "display_data"
    },
    {
     "name": "stdout",
     "output_type": "stream",
     "text": [
      "\n",
      "The rest_data dataframe don't have duplicated rows.\n",
      "\n"
     ]
    }
   ],
   "source": [
    "try:\n",
    "    rest_data = pd.read_csv('/datasets/rest_data_us.csv')\n",
    "except:\n",
    "    rest_data = pd.read_csv('https://code.s3.yandex.net/datasets/rest_data_us.csv')\n",
    "check_dataset(\"rest_data\",rest_data)    "
   ]
  },
  {
   "cell_type": "markdown",
   "id": "ed3d308f",
   "metadata": {},
   "source": [
    "### Prepare the data to the analysis"
   ]
  },
  {
   "cell_type": "code",
   "execution_count": 5,
   "id": "28eedfbc",
   "metadata": {
    "ExecuteTime": {
     "end_time": "2021-12-09T16:15:43.287182Z",
     "start_time": "2021-12-09T16:15:43.265217Z"
    }
   },
   "outputs": [],
   "source": [
    "# functions area:\n",
    "# one for clean the street, second to extract the street name\n",
    "\n",
    "def clean_address(raw):\n",
    "    # check specific cases the parse don't work\n",
    "    if raw.startswith('OLVERA'):\n",
    "        clean_adress='OLVERA,Los Angeles,USA'\n",
    "    elif raw.startswith('1033 1/2 LOS ANGELES'):\n",
    "        clean_adress='1033 1/2 LOS ANGELES ST,Los Angeles,USA'\n",
    "    # parse the adress with usaddress\n",
    "    else:\n",
    "        raw_address=usaddress.parse(raw)\n",
    "        dict_address={}\n",
    "        for i in raw_address:\n",
    "            if i[1] in dict_address.keys():\n",
    "                #creates a list of all names that are relevant to this key\n",
    "                all_names=[el[0] for el in list(filter(lambda x:x[1]==i[1],raw_address))]\n",
    "                #join the names into strings\n",
    "                clean_full=' '.join(all_names)\n",
    "                dict_address[i[1]]=clean_full\n",
    "            else:\n",
    "                dict_address[i[1]]=i[0]\n",
    "        clean_adress=dict_address['AddressNumber']+\" \"+str(dict_address['StreetName'])+str(', Los Angeles,USA')\n",
    "    return clean_adress\n",
    "\n",
    "\n",
    "\n",
    "def extract_street(raw):\n",
    "    data = raw.split(',')\n",
    "    if len(data)>=2 and data[0]!='':\n",
    "        splited = data[0].split(\" \")\n",
    "        res = ''\n",
    "        for i in range(1,len(splited)):\n",
    "            res+= splited[i]+\" \" \n",
    "        return res    \n",
    "    return \"no street\""
   ]
  },
  {
   "cell_type": "code",
   "execution_count": 6,
   "id": "d305fb60",
   "metadata": {
    "ExecuteTime": {
     "end_time": "2021-12-09T16:15:47.279216Z",
     "start_time": "2021-12-09T16:15:46.052671Z"
    }
   },
   "outputs": [
    {
     "data": {
      "text/html": [
       "<div>\n",
       "<style scoped>\n",
       "    .dataframe tbody tr th:only-of-type {\n",
       "        vertical-align: middle;\n",
       "    }\n",
       "\n",
       "    .dataframe tbody tr th {\n",
       "        vertical-align: top;\n",
       "    }\n",
       "\n",
       "    .dataframe thead th {\n",
       "        text-align: right;\n",
       "    }\n",
       "</style>\n",
       "<table border=\"1\" class=\"dataframe\">\n",
       "  <thead>\n",
       "    <tr style=\"text-align: right;\">\n",
       "      <th></th>\n",
       "      <th>id</th>\n",
       "      <th>object_name</th>\n",
       "      <th>address</th>\n",
       "      <th>chain</th>\n",
       "      <th>object_type</th>\n",
       "      <th>number</th>\n",
       "      <th>clean_adress</th>\n",
       "      <th>street</th>\n",
       "    </tr>\n",
       "  </thead>\n",
       "  <tbody>\n",
       "    <tr>\n",
       "      <th>0</th>\n",
       "      <td>11786</td>\n",
       "      <td>HABITAT COFFEE SHOP</td>\n",
       "      <td>3708 N EAGLE ROCK BLVD</td>\n",
       "      <td>False</td>\n",
       "      <td>Cafe</td>\n",
       "      <td>26</td>\n",
       "      <td>3708 EAGLE ROCK, Los Angeles,USA</td>\n",
       "      <td>EAGLE ROCK</td>\n",
       "    </tr>\n",
       "    <tr>\n",
       "      <th>1</th>\n",
       "      <td>11787</td>\n",
       "      <td>REILLY'S</td>\n",
       "      <td>100 WORLD WAY # 120</td>\n",
       "      <td>False</td>\n",
       "      <td>Restaurant</td>\n",
       "      <td>9</td>\n",
       "      <td>100 WORLD, Los Angeles,USA</td>\n",
       "      <td>WORLD</td>\n",
       "    </tr>\n",
       "    <tr>\n",
       "      <th>2</th>\n",
       "      <td>11788</td>\n",
       "      <td>STREET CHURROS</td>\n",
       "      <td>6801 HOLLYWOOD BLVD # 253</td>\n",
       "      <td>False</td>\n",
       "      <td>Fast Food</td>\n",
       "      <td>20</td>\n",
       "      <td>6801 HOLLYWOOD, Los Angeles,USA</td>\n",
       "      <td>HOLLYWOOD</td>\n",
       "    </tr>\n",
       "    <tr>\n",
       "      <th>3</th>\n",
       "      <td>11789</td>\n",
       "      <td>TRINITI ECHO PARK</td>\n",
       "      <td>1814 W SUNSET BLVD</td>\n",
       "      <td>False</td>\n",
       "      <td>Restaurant</td>\n",
       "      <td>22</td>\n",
       "      <td>1814 SUNSET, Los Angeles,USA</td>\n",
       "      <td>SUNSET</td>\n",
       "    </tr>\n",
       "    <tr>\n",
       "      <th>4</th>\n",
       "      <td>11790</td>\n",
       "      <td>POLLEN</td>\n",
       "      <td>2100 ECHO PARK AVE</td>\n",
       "      <td>False</td>\n",
       "      <td>Restaurant</td>\n",
       "      <td>20</td>\n",
       "      <td>2100 ECHO PARK, Los Angeles,USA</td>\n",
       "      <td>ECHO PARK</td>\n",
       "    </tr>\n",
       "    <tr>\n",
       "      <th>5</th>\n",
       "      <td>11791</td>\n",
       "      <td>THE SPOT GRILL</td>\n",
       "      <td>10004 NATIONAL BLVD</td>\n",
       "      <td>False</td>\n",
       "      <td>Restaurant</td>\n",
       "      <td>14</td>\n",
       "      <td>10004 NATIONAL, Los Angeles,USA</td>\n",
       "      <td>NATIONAL</td>\n",
       "    </tr>\n",
       "    <tr>\n",
       "      <th>6</th>\n",
       "      <td>11792</td>\n",
       "      <td>CPK</td>\n",
       "      <td>100 WORLD WAY # 126</td>\n",
       "      <td>False</td>\n",
       "      <td>Restaurant</td>\n",
       "      <td>100</td>\n",
       "      <td>100 WORLD, Los Angeles,USA</td>\n",
       "      <td>WORLD</td>\n",
       "    </tr>\n",
       "    <tr>\n",
       "      <th>7</th>\n",
       "      <td>11793</td>\n",
       "      <td>PHO LALA</td>\n",
       "      <td>3500 W 6TH ST STE 226</td>\n",
       "      <td>False</td>\n",
       "      <td>Restaurant</td>\n",
       "      <td>7</td>\n",
       "      <td>3500 6TH, Los Angeles,USA</td>\n",
       "      <td>6TH</td>\n",
       "    </tr>\n",
       "    <tr>\n",
       "      <th>8</th>\n",
       "      <td>11794</td>\n",
       "      <td>ABC DONUTS</td>\n",
       "      <td>3027 N SAN FERNANDO RD UNIT 103</td>\n",
       "      <td>True</td>\n",
       "      <td>Fast Food</td>\n",
       "      <td>1</td>\n",
       "      <td>3027 SAN FERNANDO, Los Angeles,USA</td>\n",
       "      <td>SAN FERNANDO</td>\n",
       "    </tr>\n",
       "    <tr>\n",
       "      <th>9</th>\n",
       "      <td>11795</td>\n",
       "      <td>UPSTAIRS</td>\n",
       "      <td>3707 N CAHUENGA BLVD</td>\n",
       "      <td>False</td>\n",
       "      <td>Restaurant</td>\n",
       "      <td>35</td>\n",
       "      <td>3707 CAHUENGA, Los Angeles,USA</td>\n",
       "      <td>CAHUENGA</td>\n",
       "    </tr>\n",
       "    <tr>\n",
       "      <th>10</th>\n",
       "      <td>11796</td>\n",
       "      <td>EL POLLO LOCO</td>\n",
       "      <td>5319 W SUNSET BLVD</td>\n",
       "      <td>True</td>\n",
       "      <td>Restaurant</td>\n",
       "      <td>38</td>\n",
       "      <td>5319 SUNSET, Los Angeles,USA</td>\n",
       "      <td>SUNSET</td>\n",
       "    </tr>\n",
       "    <tr>\n",
       "      <th>11</th>\n",
       "      <td>11797</td>\n",
       "      <td>POONG NYUN BAKERY</td>\n",
       "      <td>928 S WESTERN AVE STE 109</td>\n",
       "      <td>True</td>\n",
       "      <td>Bakery</td>\n",
       "      <td>17</td>\n",
       "      <td>928 WESTERN, Los Angeles,USA</td>\n",
       "      <td>WESTERN</td>\n",
       "    </tr>\n",
       "    <tr>\n",
       "      <th>12</th>\n",
       "      <td>11798</td>\n",
       "      <td>EMC RESTAURANT GROUP LLC</td>\n",
       "      <td>3500 W 6TH ST STE 101</td>\n",
       "      <td>True</td>\n",
       "      <td>Restaurant</td>\n",
       "      <td>133</td>\n",
       "      <td>3500 6TH, Los Angeles,USA</td>\n",
       "      <td>6TH</td>\n",
       "    </tr>\n",
       "    <tr>\n",
       "      <th>13</th>\n",
       "      <td>11799</td>\n",
       "      <td>POPULAR DONUTS</td>\n",
       "      <td>3614 W SLAUSON AVE</td>\n",
       "      <td>False</td>\n",
       "      <td>Fast Food</td>\n",
       "      <td>18</td>\n",
       "      <td>3614 SLAUSON, Los Angeles,USA</td>\n",
       "      <td>SLAUSON</td>\n",
       "    </tr>\n",
       "    <tr>\n",
       "      <th>14</th>\n",
       "      <td>11800</td>\n",
       "      <td>CUSCATLECA BAKERY</td>\n",
       "      <td>2501 W SUNSET BLVD #A</td>\n",
       "      <td>True</td>\n",
       "      <td>Bakery</td>\n",
       "      <td>26</td>\n",
       "      <td>2501 SUNSET, Los Angeles,USA</td>\n",
       "      <td>SUNSET</td>\n",
       "    </tr>\n",
       "  </tbody>\n",
       "</table>\n",
       "</div>"
      ],
      "text/plain": [
       "       id               object_name                          address  chain object_type  number                        clean_adress         street\n",
       "0   11786       HABITAT COFFEE SHOP           3708 N EAGLE ROCK BLVD  False        Cafe      26    3708 EAGLE ROCK, Los Angeles,USA    EAGLE ROCK \n",
       "1   11787                  REILLY'S              100 WORLD WAY # 120  False  Restaurant       9          100 WORLD, Los Angeles,USA         WORLD \n",
       "2   11788            STREET CHURROS        6801 HOLLYWOOD BLVD # 253  False   Fast Food      20     6801 HOLLYWOOD, Los Angeles,USA     HOLLYWOOD \n",
       "3   11789         TRINITI ECHO PARK               1814 W SUNSET BLVD  False  Restaurant      22        1814 SUNSET, Los Angeles,USA        SUNSET \n",
       "4   11790                    POLLEN               2100 ECHO PARK AVE  False  Restaurant      20     2100 ECHO PARK, Los Angeles,USA     ECHO PARK \n",
       "5   11791            THE SPOT GRILL              10004 NATIONAL BLVD  False  Restaurant      14     10004 NATIONAL, Los Angeles,USA      NATIONAL \n",
       "6   11792                       CPK              100 WORLD WAY # 126  False  Restaurant     100          100 WORLD, Los Angeles,USA         WORLD \n",
       "7   11793                  PHO LALA            3500 W 6TH ST STE 226  False  Restaurant       7           3500 6TH, Los Angeles,USA           6TH \n",
       "8   11794                ABC DONUTS  3027 N SAN FERNANDO RD UNIT 103   True   Fast Food       1  3027 SAN FERNANDO, Los Angeles,USA  SAN FERNANDO \n",
       "9   11795                  UPSTAIRS             3707 N CAHUENGA BLVD  False  Restaurant      35      3707 CAHUENGA, Los Angeles,USA      CAHUENGA \n",
       "10  11796             EL POLLO LOCO               5319 W SUNSET BLVD   True  Restaurant      38        5319 SUNSET, Los Angeles,USA        SUNSET \n",
       "11  11797         POONG NYUN BAKERY        928 S WESTERN AVE STE 109   True      Bakery      17        928 WESTERN, Los Angeles,USA       WESTERN \n",
       "12  11798  EMC RESTAURANT GROUP LLC            3500 W 6TH ST STE 101   True  Restaurant     133           3500 6TH, Los Angeles,USA           6TH \n",
       "13  11799            POPULAR DONUTS               3614 W SLAUSON AVE  False   Fast Food      18       3614 SLAUSON, Los Angeles,USA       SLAUSON \n",
       "14  11800         CUSCATLECA BAKERY            2501 W SUNSET BLVD #A   True      Bakery      26        2501 SUNSET, Los Angeles,USA        SUNSET "
      ]
     },
     "metadata": {},
     "output_type": "display_data"
    }
   ],
   "source": [
    "# 1.lets drop the rows with the missing values: 0.03% of data \n",
    "rest_data.dropna(inplace=True)\n",
    "\n",
    "# 2. downcast numeric columns\n",
    "rest_data['id'] = pd.to_numeric((rest_data['id']), downcast ='integer')\n",
    "rest_data['number'] = pd.to_numeric((rest_data['number']), downcast ='integer')\n",
    "\n",
    "# 3. clean the address and save it and seperate street and city - save them in different columns \n",
    "rest_data['clean_adress']=rest_data[\"address\"].apply(clean_address)\n",
    "rest_data['street']=rest_data['clean_adress'].apply(extract_street)\n",
    "\n",
    "# check the dataset after parsing\n",
    "display(rest_data.head(15))"
   ]
  },
  {
   "cell_type": "markdown",
   "id": "bedbf1b5",
   "metadata": {},
   "source": [
    "### Conclusion "
   ]
  },
  {
   "cell_type": "markdown",
   "id": "507467e3",
   "metadata": {},
   "source": [
    "We have read the dataset that contain different establishments. There's no duplicates but there's a missing value on the chain column.<br>because is a really small amount of data(0.03% of data) we will drop those rows.<br>\n",
    "After that we did those actions to prepere our dataset for the analysis:<br>\n",
    "1. **Drop the missing values** \n",
    "2. **Downcast the numeric columns** - downcast number and id columns to save bits\n",
    "3. **Clean the adress and extract the street names** - we used the usaddress package to clean the adress and extract the street name so we will figure out which street are more popular."
   ]
  },
  {
   "cell_type": "markdown",
   "id": "98d6c0e8",
   "metadata": {},
   "source": [
    "## Data analysis"
   ]
  },
  {
   "cell_type": "markdown",
   "id": "b01c7034",
   "metadata": {},
   "source": [
    "**Investigate the proportions of the various types of establishments**"
   ]
  },
  {
   "cell_type": "code",
   "execution_count": 23,
   "id": "ef33c6a5",
   "metadata": {
    "ExecuteTime": {
     "end_time": "2021-12-09T16:35:51.913721Z",
     "start_time": "2021-12-09T16:35:51.855156Z"
    }
   },
   "outputs": [
    {
     "data": {
      "application/vnd.plotly.v1+json": {
       "config": {
        "plotlyServerURL": "https://plot.ly"
       },
       "data": [
        {
         "domain": {
          "x": [
           0,
           1
          ],
          "y": [
           0,
           1
          ]
         },
         "hole": 0.5,
         "hovertemplate": "type=%{label}<br>count=%{value}<extra></extra>",
         "labels": [
          "Restaurant",
          "Fast Food",
          "Cafe",
          "Pizza",
          "Bar",
          "Bakery"
         ],
         "legendgroup": "",
         "name": "",
         "showlegend": true,
         "type": "pie",
         "values": [
          7253,
          1066,
          435,
          319,
          292,
          283
         ]
        }
       ],
       "layout": {
        "legend": {
         "font": {
          "size": 16
         },
         "itemwidth": 50,
         "tracegroupgap": 0
        },
        "template": {
         "data": {
          "bar": [
           {
            "error_x": {
             "color": "#2a3f5f"
            },
            "error_y": {
             "color": "#2a3f5f"
            },
            "marker": {
             "line": {
              "color": "#E5ECF6",
              "width": 0.5
             },
             "pattern": {
              "fillmode": "overlay",
              "size": 10,
              "solidity": 0.2
             }
            },
            "type": "bar"
           }
          ],
          "barpolar": [
           {
            "marker": {
             "line": {
              "color": "#E5ECF6",
              "width": 0.5
             },
             "pattern": {
              "fillmode": "overlay",
              "size": 10,
              "solidity": 0.2
             }
            },
            "type": "barpolar"
           }
          ],
          "carpet": [
           {
            "aaxis": {
             "endlinecolor": "#2a3f5f",
             "gridcolor": "white",
             "linecolor": "white",
             "minorgridcolor": "white",
             "startlinecolor": "#2a3f5f"
            },
            "baxis": {
             "endlinecolor": "#2a3f5f",
             "gridcolor": "white",
             "linecolor": "white",
             "minorgridcolor": "white",
             "startlinecolor": "#2a3f5f"
            },
            "type": "carpet"
           }
          ],
          "choropleth": [
           {
            "colorbar": {
             "outlinewidth": 0,
             "ticks": ""
            },
            "type": "choropleth"
           }
          ],
          "contour": [
           {
            "colorbar": {
             "outlinewidth": 0,
             "ticks": ""
            },
            "colorscale": [
             [
              0,
              "#0d0887"
             ],
             [
              0.1111111111111111,
              "#46039f"
             ],
             [
              0.2222222222222222,
              "#7201a8"
             ],
             [
              0.3333333333333333,
              "#9c179e"
             ],
             [
              0.4444444444444444,
              "#bd3786"
             ],
             [
              0.5555555555555556,
              "#d8576b"
             ],
             [
              0.6666666666666666,
              "#ed7953"
             ],
             [
              0.7777777777777778,
              "#fb9f3a"
             ],
             [
              0.8888888888888888,
              "#fdca26"
             ],
             [
              1,
              "#f0f921"
             ]
            ],
            "type": "contour"
           }
          ],
          "contourcarpet": [
           {
            "colorbar": {
             "outlinewidth": 0,
             "ticks": ""
            },
            "type": "contourcarpet"
           }
          ],
          "heatmap": [
           {
            "colorbar": {
             "outlinewidth": 0,
             "ticks": ""
            },
            "colorscale": [
             [
              0,
              "#0d0887"
             ],
             [
              0.1111111111111111,
              "#46039f"
             ],
             [
              0.2222222222222222,
              "#7201a8"
             ],
             [
              0.3333333333333333,
              "#9c179e"
             ],
             [
              0.4444444444444444,
              "#bd3786"
             ],
             [
              0.5555555555555556,
              "#d8576b"
             ],
             [
              0.6666666666666666,
              "#ed7953"
             ],
             [
              0.7777777777777778,
              "#fb9f3a"
             ],
             [
              0.8888888888888888,
              "#fdca26"
             ],
             [
              1,
              "#f0f921"
             ]
            ],
            "type": "heatmap"
           }
          ],
          "heatmapgl": [
           {
            "colorbar": {
             "outlinewidth": 0,
             "ticks": ""
            },
            "colorscale": [
             [
              0,
              "#0d0887"
             ],
             [
              0.1111111111111111,
              "#46039f"
             ],
             [
              0.2222222222222222,
              "#7201a8"
             ],
             [
              0.3333333333333333,
              "#9c179e"
             ],
             [
              0.4444444444444444,
              "#bd3786"
             ],
             [
              0.5555555555555556,
              "#d8576b"
             ],
             [
              0.6666666666666666,
              "#ed7953"
             ],
             [
              0.7777777777777778,
              "#fb9f3a"
             ],
             [
              0.8888888888888888,
              "#fdca26"
             ],
             [
              1,
              "#f0f921"
             ]
            ],
            "type": "heatmapgl"
           }
          ],
          "histogram": [
           {
            "marker": {
             "pattern": {
              "fillmode": "overlay",
              "size": 10,
              "solidity": 0.2
             }
            },
            "type": "histogram"
           }
          ],
          "histogram2d": [
           {
            "colorbar": {
             "outlinewidth": 0,
             "ticks": ""
            },
            "colorscale": [
             [
              0,
              "#0d0887"
             ],
             [
              0.1111111111111111,
              "#46039f"
             ],
             [
              0.2222222222222222,
              "#7201a8"
             ],
             [
              0.3333333333333333,
              "#9c179e"
             ],
             [
              0.4444444444444444,
              "#bd3786"
             ],
             [
              0.5555555555555556,
              "#d8576b"
             ],
             [
              0.6666666666666666,
              "#ed7953"
             ],
             [
              0.7777777777777778,
              "#fb9f3a"
             ],
             [
              0.8888888888888888,
              "#fdca26"
             ],
             [
              1,
              "#f0f921"
             ]
            ],
            "type": "histogram2d"
           }
          ],
          "histogram2dcontour": [
           {
            "colorbar": {
             "outlinewidth": 0,
             "ticks": ""
            },
            "colorscale": [
             [
              0,
              "#0d0887"
             ],
             [
              0.1111111111111111,
              "#46039f"
             ],
             [
              0.2222222222222222,
              "#7201a8"
             ],
             [
              0.3333333333333333,
              "#9c179e"
             ],
             [
              0.4444444444444444,
              "#bd3786"
             ],
             [
              0.5555555555555556,
              "#d8576b"
             ],
             [
              0.6666666666666666,
              "#ed7953"
             ],
             [
              0.7777777777777778,
              "#fb9f3a"
             ],
             [
              0.8888888888888888,
              "#fdca26"
             ],
             [
              1,
              "#f0f921"
             ]
            ],
            "type": "histogram2dcontour"
           }
          ],
          "mesh3d": [
           {
            "colorbar": {
             "outlinewidth": 0,
             "ticks": ""
            },
            "type": "mesh3d"
           }
          ],
          "parcoords": [
           {
            "line": {
             "colorbar": {
              "outlinewidth": 0,
              "ticks": ""
             }
            },
            "type": "parcoords"
           }
          ],
          "pie": [
           {
            "automargin": true,
            "type": "pie"
           }
          ],
          "scatter": [
           {
            "marker": {
             "colorbar": {
              "outlinewidth": 0,
              "ticks": ""
             }
            },
            "type": "scatter"
           }
          ],
          "scatter3d": [
           {
            "line": {
             "colorbar": {
              "outlinewidth": 0,
              "ticks": ""
             }
            },
            "marker": {
             "colorbar": {
              "outlinewidth": 0,
              "ticks": ""
             }
            },
            "type": "scatter3d"
           }
          ],
          "scattercarpet": [
           {
            "marker": {
             "colorbar": {
              "outlinewidth": 0,
              "ticks": ""
             }
            },
            "type": "scattercarpet"
           }
          ],
          "scattergeo": [
           {
            "marker": {
             "colorbar": {
              "outlinewidth": 0,
              "ticks": ""
             }
            },
            "type": "scattergeo"
           }
          ],
          "scattergl": [
           {
            "marker": {
             "colorbar": {
              "outlinewidth": 0,
              "ticks": ""
             }
            },
            "type": "scattergl"
           }
          ],
          "scattermapbox": [
           {
            "marker": {
             "colorbar": {
              "outlinewidth": 0,
              "ticks": ""
             }
            },
            "type": "scattermapbox"
           }
          ],
          "scatterpolar": [
           {
            "marker": {
             "colorbar": {
              "outlinewidth": 0,
              "ticks": ""
             }
            },
            "type": "scatterpolar"
           }
          ],
          "scatterpolargl": [
           {
            "marker": {
             "colorbar": {
              "outlinewidth": 0,
              "ticks": ""
             }
            },
            "type": "scatterpolargl"
           }
          ],
          "scatterternary": [
           {
            "marker": {
             "colorbar": {
              "outlinewidth": 0,
              "ticks": ""
             }
            },
            "type": "scatterternary"
           }
          ],
          "surface": [
           {
            "colorbar": {
             "outlinewidth": 0,
             "ticks": ""
            },
            "colorscale": [
             [
              0,
              "#0d0887"
             ],
             [
              0.1111111111111111,
              "#46039f"
             ],
             [
              0.2222222222222222,
              "#7201a8"
             ],
             [
              0.3333333333333333,
              "#9c179e"
             ],
             [
              0.4444444444444444,
              "#bd3786"
             ],
             [
              0.5555555555555556,
              "#d8576b"
             ],
             [
              0.6666666666666666,
              "#ed7953"
             ],
             [
              0.7777777777777778,
              "#fb9f3a"
             ],
             [
              0.8888888888888888,
              "#fdca26"
             ],
             [
              1,
              "#f0f921"
             ]
            ],
            "type": "surface"
           }
          ],
          "table": [
           {
            "cells": {
             "fill": {
              "color": "#EBF0F8"
             },
             "line": {
              "color": "white"
             }
            },
            "header": {
             "fill": {
              "color": "#C8D4E3"
             },
             "line": {
              "color": "white"
             }
            },
            "type": "table"
           }
          ]
         },
         "layout": {
          "annotationdefaults": {
           "arrowcolor": "#2a3f5f",
           "arrowhead": 0,
           "arrowwidth": 1
          },
          "autotypenumbers": "strict",
          "coloraxis": {
           "colorbar": {
            "outlinewidth": 0,
            "ticks": ""
           }
          },
          "colorscale": {
           "diverging": [
            [
             0,
             "#8e0152"
            ],
            [
             0.1,
             "#c51b7d"
            ],
            [
             0.2,
             "#de77ae"
            ],
            [
             0.3,
             "#f1b6da"
            ],
            [
             0.4,
             "#fde0ef"
            ],
            [
             0.5,
             "#f7f7f7"
            ],
            [
             0.6,
             "#e6f5d0"
            ],
            [
             0.7,
             "#b8e186"
            ],
            [
             0.8,
             "#7fbc41"
            ],
            [
             0.9,
             "#4d9221"
            ],
            [
             1,
             "#276419"
            ]
           ],
           "sequential": [
            [
             0,
             "#0d0887"
            ],
            [
             0.1111111111111111,
             "#46039f"
            ],
            [
             0.2222222222222222,
             "#7201a8"
            ],
            [
             0.3333333333333333,
             "#9c179e"
            ],
            [
             0.4444444444444444,
             "#bd3786"
            ],
            [
             0.5555555555555556,
             "#d8576b"
            ],
            [
             0.6666666666666666,
             "#ed7953"
            ],
            [
             0.7777777777777778,
             "#fb9f3a"
            ],
            [
             0.8888888888888888,
             "#fdca26"
            ],
            [
             1,
             "#f0f921"
            ]
           ],
           "sequentialminus": [
            [
             0,
             "#0d0887"
            ],
            [
             0.1111111111111111,
             "#46039f"
            ],
            [
             0.2222222222222222,
             "#7201a8"
            ],
            [
             0.3333333333333333,
             "#9c179e"
            ],
            [
             0.4444444444444444,
             "#bd3786"
            ],
            [
             0.5555555555555556,
             "#d8576b"
            ],
            [
             0.6666666666666666,
             "#ed7953"
            ],
            [
             0.7777777777777778,
             "#fb9f3a"
            ],
            [
             0.8888888888888888,
             "#fdca26"
            ],
            [
             1,
             "#f0f921"
            ]
           ]
          },
          "colorway": [
           "#636efa",
           "#EF553B",
           "#00cc96",
           "#ab63fa",
           "#FFA15A",
           "#19d3f3",
           "#FF6692",
           "#B6E880",
           "#FF97FF",
           "#FECB52"
          ],
          "font": {
           "color": "#2a3f5f"
          },
          "geo": {
           "bgcolor": "white",
           "lakecolor": "white",
           "landcolor": "#E5ECF6",
           "showlakes": true,
           "showland": true,
           "subunitcolor": "white"
          },
          "hoverlabel": {
           "align": "left"
          },
          "hovermode": "closest",
          "mapbox": {
           "style": "light"
          },
          "paper_bgcolor": "white",
          "plot_bgcolor": "#E5ECF6",
          "polar": {
           "angularaxis": {
            "gridcolor": "white",
            "linecolor": "white",
            "ticks": ""
           },
           "bgcolor": "#E5ECF6",
           "radialaxis": {
            "gridcolor": "white",
            "linecolor": "white",
            "ticks": ""
           }
          },
          "scene": {
           "xaxis": {
            "backgroundcolor": "#E5ECF6",
            "gridcolor": "white",
            "gridwidth": 2,
            "linecolor": "white",
            "showbackground": true,
            "ticks": "",
            "zerolinecolor": "white"
           },
           "yaxis": {
            "backgroundcolor": "#E5ECF6",
            "gridcolor": "white",
            "gridwidth": 2,
            "linecolor": "white",
            "showbackground": true,
            "ticks": "",
            "zerolinecolor": "white"
           },
           "zaxis": {
            "backgroundcolor": "#E5ECF6",
            "gridcolor": "white",
            "gridwidth": 2,
            "linecolor": "white",
            "showbackground": true,
            "ticks": "",
            "zerolinecolor": "white"
           }
          },
          "shapedefaults": {
           "line": {
            "color": "#2a3f5f"
           }
          },
          "ternary": {
           "aaxis": {
            "gridcolor": "white",
            "linecolor": "white",
            "ticks": ""
           },
           "baxis": {
            "gridcolor": "white",
            "linecolor": "white",
            "ticks": ""
           },
           "bgcolor": "#E5ECF6",
           "caxis": {
            "gridcolor": "white",
            "linecolor": "white",
            "ticks": ""
           }
          },
          "title": {
           "x": 0.05
          },
          "xaxis": {
           "automargin": true,
           "gridcolor": "white",
           "linecolor": "white",
           "ticks": "",
           "title": {
            "standoff": 15
           },
           "zerolinecolor": "white",
           "zerolinewidth": 2
          },
          "yaxis": {
           "automargin": true,
           "gridcolor": "white",
           "linecolor": "white",
           "ticks": "",
           "title": {
            "standoff": 15
           },
           "zerolinecolor": "white",
           "zerolinewidth": 2
          }
         }
        },
        "title": {
         "text": "proportions of the various types of establishments"
        }
       }
      },
      "text/html": [
       "<div>                            <div id=\"5a98c53d-3c3b-4898-aa1e-0494316f20e1\" class=\"plotly-graph-div\" style=\"height:525px; width:100%;\"></div>            <script type=\"text/javascript\">                require([\"plotly\"], function(Plotly) {                    window.PLOTLYENV=window.PLOTLYENV || {};                                    if (document.getElementById(\"5a98c53d-3c3b-4898-aa1e-0494316f20e1\")) {                    Plotly.newPlot(                        \"5a98c53d-3c3b-4898-aa1e-0494316f20e1\",                        [{\"domain\":{\"x\":[0.0,1.0],\"y\":[0.0,1.0]},\"hole\":0.5,\"hovertemplate\":\"type=%{label}<br>count=%{value}<extra></extra>\",\"labels\":[\"Restaurant\",\"Fast Food\",\"Cafe\",\"Pizza\",\"Bar\",\"Bakery\"],\"legendgroup\":\"\",\"name\":\"\",\"showlegend\":true,\"type\":\"pie\",\"values\":[7253,1066,435,319,292,283]}],                        {\"legend\":{\"font\":{\"size\":16},\"itemwidth\":50,\"tracegroupgap\":0},\"template\":{\"data\":{\"bar\":[{\"error_x\":{\"color\":\"#2a3f5f\"},\"error_y\":{\"color\":\"#2a3f5f\"},\"marker\":{\"line\":{\"color\":\"#E5ECF6\",\"width\":0.5},\"pattern\":{\"fillmode\":\"overlay\",\"size\":10,\"solidity\":0.2}},\"type\":\"bar\"}],\"barpolar\":[{\"marker\":{\"line\":{\"color\":\"#E5ECF6\",\"width\":0.5},\"pattern\":{\"fillmode\":\"overlay\",\"size\":10,\"solidity\":0.2}},\"type\":\"barpolar\"}],\"carpet\":[{\"aaxis\":{\"endlinecolor\":\"#2a3f5f\",\"gridcolor\":\"white\",\"linecolor\":\"white\",\"minorgridcolor\":\"white\",\"startlinecolor\":\"#2a3f5f\"},\"baxis\":{\"endlinecolor\":\"#2a3f5f\",\"gridcolor\":\"white\",\"linecolor\":\"white\",\"minorgridcolor\":\"white\",\"startlinecolor\":\"#2a3f5f\"},\"type\":\"carpet\"}],\"choropleth\":[{\"colorbar\":{\"outlinewidth\":0,\"ticks\":\"\"},\"type\":\"choropleth\"}],\"contour\":[{\"colorbar\":{\"outlinewidth\":0,\"ticks\":\"\"},\"colorscale\":[[0.0,\"#0d0887\"],[0.1111111111111111,\"#46039f\"],[0.2222222222222222,\"#7201a8\"],[0.3333333333333333,\"#9c179e\"],[0.4444444444444444,\"#bd3786\"],[0.5555555555555556,\"#d8576b\"],[0.6666666666666666,\"#ed7953\"],[0.7777777777777778,\"#fb9f3a\"],[0.8888888888888888,\"#fdca26\"],[1.0,\"#f0f921\"]],\"type\":\"contour\"}],\"contourcarpet\":[{\"colorbar\":{\"outlinewidth\":0,\"ticks\":\"\"},\"type\":\"contourcarpet\"}],\"heatmap\":[{\"colorbar\":{\"outlinewidth\":0,\"ticks\":\"\"},\"colorscale\":[[0.0,\"#0d0887\"],[0.1111111111111111,\"#46039f\"],[0.2222222222222222,\"#7201a8\"],[0.3333333333333333,\"#9c179e\"],[0.4444444444444444,\"#bd3786\"],[0.5555555555555556,\"#d8576b\"],[0.6666666666666666,\"#ed7953\"],[0.7777777777777778,\"#fb9f3a\"],[0.8888888888888888,\"#fdca26\"],[1.0,\"#f0f921\"]],\"type\":\"heatmap\"}],\"heatmapgl\":[{\"colorbar\":{\"outlinewidth\":0,\"ticks\":\"\"},\"colorscale\":[[0.0,\"#0d0887\"],[0.1111111111111111,\"#46039f\"],[0.2222222222222222,\"#7201a8\"],[0.3333333333333333,\"#9c179e\"],[0.4444444444444444,\"#bd3786\"],[0.5555555555555556,\"#d8576b\"],[0.6666666666666666,\"#ed7953\"],[0.7777777777777778,\"#fb9f3a\"],[0.8888888888888888,\"#fdca26\"],[1.0,\"#f0f921\"]],\"type\":\"heatmapgl\"}],\"histogram\":[{\"marker\":{\"pattern\":{\"fillmode\":\"overlay\",\"size\":10,\"solidity\":0.2}},\"type\":\"histogram\"}],\"histogram2d\":[{\"colorbar\":{\"outlinewidth\":0,\"ticks\":\"\"},\"colorscale\":[[0.0,\"#0d0887\"],[0.1111111111111111,\"#46039f\"],[0.2222222222222222,\"#7201a8\"],[0.3333333333333333,\"#9c179e\"],[0.4444444444444444,\"#bd3786\"],[0.5555555555555556,\"#d8576b\"],[0.6666666666666666,\"#ed7953\"],[0.7777777777777778,\"#fb9f3a\"],[0.8888888888888888,\"#fdca26\"],[1.0,\"#f0f921\"]],\"type\":\"histogram2d\"}],\"histogram2dcontour\":[{\"colorbar\":{\"outlinewidth\":0,\"ticks\":\"\"},\"colorscale\":[[0.0,\"#0d0887\"],[0.1111111111111111,\"#46039f\"],[0.2222222222222222,\"#7201a8\"],[0.3333333333333333,\"#9c179e\"],[0.4444444444444444,\"#bd3786\"],[0.5555555555555556,\"#d8576b\"],[0.6666666666666666,\"#ed7953\"],[0.7777777777777778,\"#fb9f3a\"],[0.8888888888888888,\"#fdca26\"],[1.0,\"#f0f921\"]],\"type\":\"histogram2dcontour\"}],\"mesh3d\":[{\"colorbar\":{\"outlinewidth\":0,\"ticks\":\"\"},\"type\":\"mesh3d\"}],\"parcoords\":[{\"line\":{\"colorbar\":{\"outlinewidth\":0,\"ticks\":\"\"}},\"type\":\"parcoords\"}],\"pie\":[{\"automargin\":true,\"type\":\"pie\"}],\"scatter\":[{\"marker\":{\"colorbar\":{\"outlinewidth\":0,\"ticks\":\"\"}},\"type\":\"scatter\"}],\"scatter3d\":[{\"line\":{\"colorbar\":{\"outlinewidth\":0,\"ticks\":\"\"}},\"marker\":{\"colorbar\":{\"outlinewidth\":0,\"ticks\":\"\"}},\"type\":\"scatter3d\"}],\"scattercarpet\":[{\"marker\":{\"colorbar\":{\"outlinewidth\":0,\"ticks\":\"\"}},\"type\":\"scattercarpet\"}],\"scattergeo\":[{\"marker\":{\"colorbar\":{\"outlinewidth\":0,\"ticks\":\"\"}},\"type\":\"scattergeo\"}],\"scattergl\":[{\"marker\":{\"colorbar\":{\"outlinewidth\":0,\"ticks\":\"\"}},\"type\":\"scattergl\"}],\"scattermapbox\":[{\"marker\":{\"colorbar\":{\"outlinewidth\":0,\"ticks\":\"\"}},\"type\":\"scattermapbox\"}],\"scatterpolar\":[{\"marker\":{\"colorbar\":{\"outlinewidth\":0,\"ticks\":\"\"}},\"type\":\"scatterpolar\"}],\"scatterpolargl\":[{\"marker\":{\"colorbar\":{\"outlinewidth\":0,\"ticks\":\"\"}},\"type\":\"scatterpolargl\"}],\"scatterternary\":[{\"marker\":{\"colorbar\":{\"outlinewidth\":0,\"ticks\":\"\"}},\"type\":\"scatterternary\"}],\"surface\":[{\"colorbar\":{\"outlinewidth\":0,\"ticks\":\"\"},\"colorscale\":[[0.0,\"#0d0887\"],[0.1111111111111111,\"#46039f\"],[0.2222222222222222,\"#7201a8\"],[0.3333333333333333,\"#9c179e\"],[0.4444444444444444,\"#bd3786\"],[0.5555555555555556,\"#d8576b\"],[0.6666666666666666,\"#ed7953\"],[0.7777777777777778,\"#fb9f3a\"],[0.8888888888888888,\"#fdca26\"],[1.0,\"#f0f921\"]],\"type\":\"surface\"}],\"table\":[{\"cells\":{\"fill\":{\"color\":\"#EBF0F8\"},\"line\":{\"color\":\"white\"}},\"header\":{\"fill\":{\"color\":\"#C8D4E3\"},\"line\":{\"color\":\"white\"}},\"type\":\"table\"}]},\"layout\":{\"annotationdefaults\":{\"arrowcolor\":\"#2a3f5f\",\"arrowhead\":0,\"arrowwidth\":1},\"autotypenumbers\":\"strict\",\"coloraxis\":{\"colorbar\":{\"outlinewidth\":0,\"ticks\":\"\"}},\"colorscale\":{\"diverging\":[[0,\"#8e0152\"],[0.1,\"#c51b7d\"],[0.2,\"#de77ae\"],[0.3,\"#f1b6da\"],[0.4,\"#fde0ef\"],[0.5,\"#f7f7f7\"],[0.6,\"#e6f5d0\"],[0.7,\"#b8e186\"],[0.8,\"#7fbc41\"],[0.9,\"#4d9221\"],[1,\"#276419\"]],\"sequential\":[[0.0,\"#0d0887\"],[0.1111111111111111,\"#46039f\"],[0.2222222222222222,\"#7201a8\"],[0.3333333333333333,\"#9c179e\"],[0.4444444444444444,\"#bd3786\"],[0.5555555555555556,\"#d8576b\"],[0.6666666666666666,\"#ed7953\"],[0.7777777777777778,\"#fb9f3a\"],[0.8888888888888888,\"#fdca26\"],[1.0,\"#f0f921\"]],\"sequentialminus\":[[0.0,\"#0d0887\"],[0.1111111111111111,\"#46039f\"],[0.2222222222222222,\"#7201a8\"],[0.3333333333333333,\"#9c179e\"],[0.4444444444444444,\"#bd3786\"],[0.5555555555555556,\"#d8576b\"],[0.6666666666666666,\"#ed7953\"],[0.7777777777777778,\"#fb9f3a\"],[0.8888888888888888,\"#fdca26\"],[1.0,\"#f0f921\"]]},\"colorway\":[\"#636efa\",\"#EF553B\",\"#00cc96\",\"#ab63fa\",\"#FFA15A\",\"#19d3f3\",\"#FF6692\",\"#B6E880\",\"#FF97FF\",\"#FECB52\"],\"font\":{\"color\":\"#2a3f5f\"},\"geo\":{\"bgcolor\":\"white\",\"lakecolor\":\"white\",\"landcolor\":\"#E5ECF6\",\"showlakes\":true,\"showland\":true,\"subunitcolor\":\"white\"},\"hoverlabel\":{\"align\":\"left\"},\"hovermode\":\"closest\",\"mapbox\":{\"style\":\"light\"},\"paper_bgcolor\":\"white\",\"plot_bgcolor\":\"#E5ECF6\",\"polar\":{\"angularaxis\":{\"gridcolor\":\"white\",\"linecolor\":\"white\",\"ticks\":\"\"},\"bgcolor\":\"#E5ECF6\",\"radialaxis\":{\"gridcolor\":\"white\",\"linecolor\":\"white\",\"ticks\":\"\"}},\"scene\":{\"xaxis\":{\"backgroundcolor\":\"#E5ECF6\",\"gridcolor\":\"white\",\"gridwidth\":2,\"linecolor\":\"white\",\"showbackground\":true,\"ticks\":\"\",\"zerolinecolor\":\"white\"},\"yaxis\":{\"backgroundcolor\":\"#E5ECF6\",\"gridcolor\":\"white\",\"gridwidth\":2,\"linecolor\":\"white\",\"showbackground\":true,\"ticks\":\"\",\"zerolinecolor\":\"white\"},\"zaxis\":{\"backgroundcolor\":\"#E5ECF6\",\"gridcolor\":\"white\",\"gridwidth\":2,\"linecolor\":\"white\",\"showbackground\":true,\"ticks\":\"\",\"zerolinecolor\":\"white\"}},\"shapedefaults\":{\"line\":{\"color\":\"#2a3f5f\"}},\"ternary\":{\"aaxis\":{\"gridcolor\":\"white\",\"linecolor\":\"white\",\"ticks\":\"\"},\"baxis\":{\"gridcolor\":\"white\",\"linecolor\":\"white\",\"ticks\":\"\"},\"bgcolor\":\"#E5ECF6\",\"caxis\":{\"gridcolor\":\"white\",\"linecolor\":\"white\",\"ticks\":\"\"}},\"title\":{\"x\":0.05},\"xaxis\":{\"automargin\":true,\"gridcolor\":\"white\",\"linecolor\":\"white\",\"ticks\":\"\",\"title\":{\"standoff\":15},\"zerolinecolor\":\"white\",\"zerolinewidth\":2},\"yaxis\":{\"automargin\":true,\"gridcolor\":\"white\",\"linecolor\":\"white\",\"ticks\":\"\",\"title\":{\"standoff\":15},\"zerolinecolor\":\"white\",\"zerolinewidth\":2}}},\"title\":{\"text\":\"proportions of the various types of establishments\"}},                        {\"responsive\": true}                    ).then(function(){\n",
       "                            \n",
       "var gd = document.getElementById('5a98c53d-3c3b-4898-aa1e-0494316f20e1');\n",
       "var x = new MutationObserver(function (mutations, observer) {{\n",
       "        var display = window.getComputedStyle(gd).display;\n",
       "        if (!display || display === 'none') {{\n",
       "            console.log([gd, 'removed!']);\n",
       "            Plotly.purge(gd);\n",
       "            observer.disconnect();\n",
       "        }}\n",
       "}});\n",
       "\n",
       "// Listen for the removal of the full notebook cells\n",
       "var notebookContainer = gd.closest('#notebook-container');\n",
       "if (notebookContainer) {{\n",
       "    x.observe(notebookContainer, {childList: true});\n",
       "}}\n",
       "\n",
       "// Listen for the clearing of the current output cell\n",
       "var outputEl = gd.closest('.output');\n",
       "if (outputEl) {{\n",
       "    x.observe(outputEl, {childList: true});\n",
       "}}\n",
       "\n",
       "                        })                };                });            </script>        </div>"
      ]
     },
     "metadata": {},
     "output_type": "display_data"
    }
   ],
   "source": [
    "count_establishments = rest_data.value_counts(\"object_type\").reset_index()\n",
    "count_establishments.columns = [\"type\",\"count\"]\n",
    "figure = px.pie(count_establishments,values=\"count\",\n",
    "                names=\"type\", hole=0.5,\n",
    "                title=\"proportions of the various types of establishments\")\n",
    "figure.update_layout(legend_itemwidth=50,legend_font_size=16)\n",
    "figure.show()"
   ]
  },
  {
   "cell_type": "markdown",
   "id": "308ef1a5",
   "metadata": {},
   "source": [
    "We can see that most of the establishments are resturants: 75.2%. Only 4.51 pecent of the establishments are Cafes. "
   ]
  },
  {
   "cell_type": "markdown",
   "id": "7267b616",
   "metadata": {},
   "source": [
    "**Investigate the proportions of chain and nonchain establishments**"
   ]
  },
  {
   "cell_type": "code",
   "execution_count": 25,
   "id": "20125586",
   "metadata": {
    "ExecuteTime": {
     "end_time": "2021-12-09T16:36:31.002304Z",
     "start_time": "2021-12-09T16:36:30.947406Z"
    }
   },
   "outputs": [
    {
     "data": {
      "application/vnd.plotly.v1+json": {
       "config": {
        "plotlyServerURL": "https://plot.ly"
       },
       "data": [
        {
         "domain": {
          "x": [
           0,
           1
          ],
          "y": [
           0,
           1
          ]
         },
         "hovertemplate": "option=%{label}<br>count=%{value}<extra></extra>",
         "labels": [
          "non chain",
          "chain"
         ],
         "legendgroup": "",
         "name": "",
         "showlegend": true,
         "type": "pie",
         "values": [
          5972,
          3676
         ]
        }
       ],
       "layout": {
        "legend": {
         "font": {
          "size": 16
         },
         "itemwidth": 50,
         "tracegroupgap": 0
        },
        "template": {
         "data": {
          "bar": [
           {
            "error_x": {
             "color": "#2a3f5f"
            },
            "error_y": {
             "color": "#2a3f5f"
            },
            "marker": {
             "line": {
              "color": "#E5ECF6",
              "width": 0.5
             },
             "pattern": {
              "fillmode": "overlay",
              "size": 10,
              "solidity": 0.2
             }
            },
            "type": "bar"
           }
          ],
          "barpolar": [
           {
            "marker": {
             "line": {
              "color": "#E5ECF6",
              "width": 0.5
             },
             "pattern": {
              "fillmode": "overlay",
              "size": 10,
              "solidity": 0.2
             }
            },
            "type": "barpolar"
           }
          ],
          "carpet": [
           {
            "aaxis": {
             "endlinecolor": "#2a3f5f",
             "gridcolor": "white",
             "linecolor": "white",
             "minorgridcolor": "white",
             "startlinecolor": "#2a3f5f"
            },
            "baxis": {
             "endlinecolor": "#2a3f5f",
             "gridcolor": "white",
             "linecolor": "white",
             "minorgridcolor": "white",
             "startlinecolor": "#2a3f5f"
            },
            "type": "carpet"
           }
          ],
          "choropleth": [
           {
            "colorbar": {
             "outlinewidth": 0,
             "ticks": ""
            },
            "type": "choropleth"
           }
          ],
          "contour": [
           {
            "colorbar": {
             "outlinewidth": 0,
             "ticks": ""
            },
            "colorscale": [
             [
              0,
              "#0d0887"
             ],
             [
              0.1111111111111111,
              "#46039f"
             ],
             [
              0.2222222222222222,
              "#7201a8"
             ],
             [
              0.3333333333333333,
              "#9c179e"
             ],
             [
              0.4444444444444444,
              "#bd3786"
             ],
             [
              0.5555555555555556,
              "#d8576b"
             ],
             [
              0.6666666666666666,
              "#ed7953"
             ],
             [
              0.7777777777777778,
              "#fb9f3a"
             ],
             [
              0.8888888888888888,
              "#fdca26"
             ],
             [
              1,
              "#f0f921"
             ]
            ],
            "type": "contour"
           }
          ],
          "contourcarpet": [
           {
            "colorbar": {
             "outlinewidth": 0,
             "ticks": ""
            },
            "type": "contourcarpet"
           }
          ],
          "heatmap": [
           {
            "colorbar": {
             "outlinewidth": 0,
             "ticks": ""
            },
            "colorscale": [
             [
              0,
              "#0d0887"
             ],
             [
              0.1111111111111111,
              "#46039f"
             ],
             [
              0.2222222222222222,
              "#7201a8"
             ],
             [
              0.3333333333333333,
              "#9c179e"
             ],
             [
              0.4444444444444444,
              "#bd3786"
             ],
             [
              0.5555555555555556,
              "#d8576b"
             ],
             [
              0.6666666666666666,
              "#ed7953"
             ],
             [
              0.7777777777777778,
              "#fb9f3a"
             ],
             [
              0.8888888888888888,
              "#fdca26"
             ],
             [
              1,
              "#f0f921"
             ]
            ],
            "type": "heatmap"
           }
          ],
          "heatmapgl": [
           {
            "colorbar": {
             "outlinewidth": 0,
             "ticks": ""
            },
            "colorscale": [
             [
              0,
              "#0d0887"
             ],
             [
              0.1111111111111111,
              "#46039f"
             ],
             [
              0.2222222222222222,
              "#7201a8"
             ],
             [
              0.3333333333333333,
              "#9c179e"
             ],
             [
              0.4444444444444444,
              "#bd3786"
             ],
             [
              0.5555555555555556,
              "#d8576b"
             ],
             [
              0.6666666666666666,
              "#ed7953"
             ],
             [
              0.7777777777777778,
              "#fb9f3a"
             ],
             [
              0.8888888888888888,
              "#fdca26"
             ],
             [
              1,
              "#f0f921"
             ]
            ],
            "type": "heatmapgl"
           }
          ],
          "histogram": [
           {
            "marker": {
             "pattern": {
              "fillmode": "overlay",
              "size": 10,
              "solidity": 0.2
             }
            },
            "type": "histogram"
           }
          ],
          "histogram2d": [
           {
            "colorbar": {
             "outlinewidth": 0,
             "ticks": ""
            },
            "colorscale": [
             [
              0,
              "#0d0887"
             ],
             [
              0.1111111111111111,
              "#46039f"
             ],
             [
              0.2222222222222222,
              "#7201a8"
             ],
             [
              0.3333333333333333,
              "#9c179e"
             ],
             [
              0.4444444444444444,
              "#bd3786"
             ],
             [
              0.5555555555555556,
              "#d8576b"
             ],
             [
              0.6666666666666666,
              "#ed7953"
             ],
             [
              0.7777777777777778,
              "#fb9f3a"
             ],
             [
              0.8888888888888888,
              "#fdca26"
             ],
             [
              1,
              "#f0f921"
             ]
            ],
            "type": "histogram2d"
           }
          ],
          "histogram2dcontour": [
           {
            "colorbar": {
             "outlinewidth": 0,
             "ticks": ""
            },
            "colorscale": [
             [
              0,
              "#0d0887"
             ],
             [
              0.1111111111111111,
              "#46039f"
             ],
             [
              0.2222222222222222,
              "#7201a8"
             ],
             [
              0.3333333333333333,
              "#9c179e"
             ],
             [
              0.4444444444444444,
              "#bd3786"
             ],
             [
              0.5555555555555556,
              "#d8576b"
             ],
             [
              0.6666666666666666,
              "#ed7953"
             ],
             [
              0.7777777777777778,
              "#fb9f3a"
             ],
             [
              0.8888888888888888,
              "#fdca26"
             ],
             [
              1,
              "#f0f921"
             ]
            ],
            "type": "histogram2dcontour"
           }
          ],
          "mesh3d": [
           {
            "colorbar": {
             "outlinewidth": 0,
             "ticks": ""
            },
            "type": "mesh3d"
           }
          ],
          "parcoords": [
           {
            "line": {
             "colorbar": {
              "outlinewidth": 0,
              "ticks": ""
             }
            },
            "type": "parcoords"
           }
          ],
          "pie": [
           {
            "automargin": true,
            "type": "pie"
           }
          ],
          "scatter": [
           {
            "marker": {
             "colorbar": {
              "outlinewidth": 0,
              "ticks": ""
             }
            },
            "type": "scatter"
           }
          ],
          "scatter3d": [
           {
            "line": {
             "colorbar": {
              "outlinewidth": 0,
              "ticks": ""
             }
            },
            "marker": {
             "colorbar": {
              "outlinewidth": 0,
              "ticks": ""
             }
            },
            "type": "scatter3d"
           }
          ],
          "scattercarpet": [
           {
            "marker": {
             "colorbar": {
              "outlinewidth": 0,
              "ticks": ""
             }
            },
            "type": "scattercarpet"
           }
          ],
          "scattergeo": [
           {
            "marker": {
             "colorbar": {
              "outlinewidth": 0,
              "ticks": ""
             }
            },
            "type": "scattergeo"
           }
          ],
          "scattergl": [
           {
            "marker": {
             "colorbar": {
              "outlinewidth": 0,
              "ticks": ""
             }
            },
            "type": "scattergl"
           }
          ],
          "scattermapbox": [
           {
            "marker": {
             "colorbar": {
              "outlinewidth": 0,
              "ticks": ""
             }
            },
            "type": "scattermapbox"
           }
          ],
          "scatterpolar": [
           {
            "marker": {
             "colorbar": {
              "outlinewidth": 0,
              "ticks": ""
             }
            },
            "type": "scatterpolar"
           }
          ],
          "scatterpolargl": [
           {
            "marker": {
             "colorbar": {
              "outlinewidth": 0,
              "ticks": ""
             }
            },
            "type": "scatterpolargl"
           }
          ],
          "scatterternary": [
           {
            "marker": {
             "colorbar": {
              "outlinewidth": 0,
              "ticks": ""
             }
            },
            "type": "scatterternary"
           }
          ],
          "surface": [
           {
            "colorbar": {
             "outlinewidth": 0,
             "ticks": ""
            },
            "colorscale": [
             [
              0,
              "#0d0887"
             ],
             [
              0.1111111111111111,
              "#46039f"
             ],
             [
              0.2222222222222222,
              "#7201a8"
             ],
             [
              0.3333333333333333,
              "#9c179e"
             ],
             [
              0.4444444444444444,
              "#bd3786"
             ],
             [
              0.5555555555555556,
              "#d8576b"
             ],
             [
              0.6666666666666666,
              "#ed7953"
             ],
             [
              0.7777777777777778,
              "#fb9f3a"
             ],
             [
              0.8888888888888888,
              "#fdca26"
             ],
             [
              1,
              "#f0f921"
             ]
            ],
            "type": "surface"
           }
          ],
          "table": [
           {
            "cells": {
             "fill": {
              "color": "#EBF0F8"
             },
             "line": {
              "color": "white"
             }
            },
            "header": {
             "fill": {
              "color": "#C8D4E3"
             },
             "line": {
              "color": "white"
             }
            },
            "type": "table"
           }
          ]
         },
         "layout": {
          "annotationdefaults": {
           "arrowcolor": "#2a3f5f",
           "arrowhead": 0,
           "arrowwidth": 1
          },
          "autotypenumbers": "strict",
          "coloraxis": {
           "colorbar": {
            "outlinewidth": 0,
            "ticks": ""
           }
          },
          "colorscale": {
           "diverging": [
            [
             0,
             "#8e0152"
            ],
            [
             0.1,
             "#c51b7d"
            ],
            [
             0.2,
             "#de77ae"
            ],
            [
             0.3,
             "#f1b6da"
            ],
            [
             0.4,
             "#fde0ef"
            ],
            [
             0.5,
             "#f7f7f7"
            ],
            [
             0.6,
             "#e6f5d0"
            ],
            [
             0.7,
             "#b8e186"
            ],
            [
             0.8,
             "#7fbc41"
            ],
            [
             0.9,
             "#4d9221"
            ],
            [
             1,
             "#276419"
            ]
           ],
           "sequential": [
            [
             0,
             "#0d0887"
            ],
            [
             0.1111111111111111,
             "#46039f"
            ],
            [
             0.2222222222222222,
             "#7201a8"
            ],
            [
             0.3333333333333333,
             "#9c179e"
            ],
            [
             0.4444444444444444,
             "#bd3786"
            ],
            [
             0.5555555555555556,
             "#d8576b"
            ],
            [
             0.6666666666666666,
             "#ed7953"
            ],
            [
             0.7777777777777778,
             "#fb9f3a"
            ],
            [
             0.8888888888888888,
             "#fdca26"
            ],
            [
             1,
             "#f0f921"
            ]
           ],
           "sequentialminus": [
            [
             0,
             "#0d0887"
            ],
            [
             0.1111111111111111,
             "#46039f"
            ],
            [
             0.2222222222222222,
             "#7201a8"
            ],
            [
             0.3333333333333333,
             "#9c179e"
            ],
            [
             0.4444444444444444,
             "#bd3786"
            ],
            [
             0.5555555555555556,
             "#d8576b"
            ],
            [
             0.6666666666666666,
             "#ed7953"
            ],
            [
             0.7777777777777778,
             "#fb9f3a"
            ],
            [
             0.8888888888888888,
             "#fdca26"
            ],
            [
             1,
             "#f0f921"
            ]
           ]
          },
          "colorway": [
           "#636efa",
           "#EF553B",
           "#00cc96",
           "#ab63fa",
           "#FFA15A",
           "#19d3f3",
           "#FF6692",
           "#B6E880",
           "#FF97FF",
           "#FECB52"
          ],
          "font": {
           "color": "#2a3f5f"
          },
          "geo": {
           "bgcolor": "white",
           "lakecolor": "white",
           "landcolor": "#E5ECF6",
           "showlakes": true,
           "showland": true,
           "subunitcolor": "white"
          },
          "hoverlabel": {
           "align": "left"
          },
          "hovermode": "closest",
          "mapbox": {
           "style": "light"
          },
          "paper_bgcolor": "white",
          "plot_bgcolor": "#E5ECF6",
          "polar": {
           "angularaxis": {
            "gridcolor": "white",
            "linecolor": "white",
            "ticks": ""
           },
           "bgcolor": "#E5ECF6",
           "radialaxis": {
            "gridcolor": "white",
            "linecolor": "white",
            "ticks": ""
           }
          },
          "scene": {
           "xaxis": {
            "backgroundcolor": "#E5ECF6",
            "gridcolor": "white",
            "gridwidth": 2,
            "linecolor": "white",
            "showbackground": true,
            "ticks": "",
            "zerolinecolor": "white"
           },
           "yaxis": {
            "backgroundcolor": "#E5ECF6",
            "gridcolor": "white",
            "gridwidth": 2,
            "linecolor": "white",
            "showbackground": true,
            "ticks": "",
            "zerolinecolor": "white"
           },
           "zaxis": {
            "backgroundcolor": "#E5ECF6",
            "gridcolor": "white",
            "gridwidth": 2,
            "linecolor": "white",
            "showbackground": true,
            "ticks": "",
            "zerolinecolor": "white"
           }
          },
          "shapedefaults": {
           "line": {
            "color": "#2a3f5f"
           }
          },
          "ternary": {
           "aaxis": {
            "gridcolor": "white",
            "linecolor": "white",
            "ticks": ""
           },
           "baxis": {
            "gridcolor": "white",
            "linecolor": "white",
            "ticks": ""
           },
           "bgcolor": "#E5ECF6",
           "caxis": {
            "gridcolor": "white",
            "linecolor": "white",
            "ticks": ""
           }
          },
          "title": {
           "x": 0.05
          },
          "xaxis": {
           "automargin": true,
           "gridcolor": "white",
           "linecolor": "white",
           "ticks": "",
           "title": {
            "standoff": 15
           },
           "zerolinecolor": "white",
           "zerolinewidth": 2
          },
          "yaxis": {
           "automargin": true,
           "gridcolor": "white",
           "linecolor": "white",
           "ticks": "",
           "title": {
            "standoff": 15
           },
           "zerolinecolor": "white",
           "zerolinewidth": 2
          }
         }
        },
        "title": {
         "text": " proportions of chain and nonchain establishments"
        }
       }
      },
      "text/html": [
       "<div>                            <div id=\"47586bef-e4dc-4544-9504-954faab5b1e2\" class=\"plotly-graph-div\" style=\"height:525px; width:100%;\"></div>            <script type=\"text/javascript\">                require([\"plotly\"], function(Plotly) {                    window.PLOTLYENV=window.PLOTLYENV || {};                                    if (document.getElementById(\"47586bef-e4dc-4544-9504-954faab5b1e2\")) {                    Plotly.newPlot(                        \"47586bef-e4dc-4544-9504-954faab5b1e2\",                        [{\"domain\":{\"x\":[0.0,1.0],\"y\":[0.0,1.0]},\"hovertemplate\":\"option=%{label}<br>count=%{value}<extra></extra>\",\"labels\":[\"non chain\",\"chain\"],\"legendgroup\":\"\",\"name\":\"\",\"showlegend\":true,\"type\":\"pie\",\"values\":[5972,3676]}],                        {\"legend\":{\"font\":{\"size\":16},\"itemwidth\":50,\"tracegroupgap\":0},\"template\":{\"data\":{\"bar\":[{\"error_x\":{\"color\":\"#2a3f5f\"},\"error_y\":{\"color\":\"#2a3f5f\"},\"marker\":{\"line\":{\"color\":\"#E5ECF6\",\"width\":0.5},\"pattern\":{\"fillmode\":\"overlay\",\"size\":10,\"solidity\":0.2}},\"type\":\"bar\"}],\"barpolar\":[{\"marker\":{\"line\":{\"color\":\"#E5ECF6\",\"width\":0.5},\"pattern\":{\"fillmode\":\"overlay\",\"size\":10,\"solidity\":0.2}},\"type\":\"barpolar\"}],\"carpet\":[{\"aaxis\":{\"endlinecolor\":\"#2a3f5f\",\"gridcolor\":\"white\",\"linecolor\":\"white\",\"minorgridcolor\":\"white\",\"startlinecolor\":\"#2a3f5f\"},\"baxis\":{\"endlinecolor\":\"#2a3f5f\",\"gridcolor\":\"white\",\"linecolor\":\"white\",\"minorgridcolor\":\"white\",\"startlinecolor\":\"#2a3f5f\"},\"type\":\"carpet\"}],\"choropleth\":[{\"colorbar\":{\"outlinewidth\":0,\"ticks\":\"\"},\"type\":\"choropleth\"}],\"contour\":[{\"colorbar\":{\"outlinewidth\":0,\"ticks\":\"\"},\"colorscale\":[[0.0,\"#0d0887\"],[0.1111111111111111,\"#46039f\"],[0.2222222222222222,\"#7201a8\"],[0.3333333333333333,\"#9c179e\"],[0.4444444444444444,\"#bd3786\"],[0.5555555555555556,\"#d8576b\"],[0.6666666666666666,\"#ed7953\"],[0.7777777777777778,\"#fb9f3a\"],[0.8888888888888888,\"#fdca26\"],[1.0,\"#f0f921\"]],\"type\":\"contour\"}],\"contourcarpet\":[{\"colorbar\":{\"outlinewidth\":0,\"ticks\":\"\"},\"type\":\"contourcarpet\"}],\"heatmap\":[{\"colorbar\":{\"outlinewidth\":0,\"ticks\":\"\"},\"colorscale\":[[0.0,\"#0d0887\"],[0.1111111111111111,\"#46039f\"],[0.2222222222222222,\"#7201a8\"],[0.3333333333333333,\"#9c179e\"],[0.4444444444444444,\"#bd3786\"],[0.5555555555555556,\"#d8576b\"],[0.6666666666666666,\"#ed7953\"],[0.7777777777777778,\"#fb9f3a\"],[0.8888888888888888,\"#fdca26\"],[1.0,\"#f0f921\"]],\"type\":\"heatmap\"}],\"heatmapgl\":[{\"colorbar\":{\"outlinewidth\":0,\"ticks\":\"\"},\"colorscale\":[[0.0,\"#0d0887\"],[0.1111111111111111,\"#46039f\"],[0.2222222222222222,\"#7201a8\"],[0.3333333333333333,\"#9c179e\"],[0.4444444444444444,\"#bd3786\"],[0.5555555555555556,\"#d8576b\"],[0.6666666666666666,\"#ed7953\"],[0.7777777777777778,\"#fb9f3a\"],[0.8888888888888888,\"#fdca26\"],[1.0,\"#f0f921\"]],\"type\":\"heatmapgl\"}],\"histogram\":[{\"marker\":{\"pattern\":{\"fillmode\":\"overlay\",\"size\":10,\"solidity\":0.2}},\"type\":\"histogram\"}],\"histogram2d\":[{\"colorbar\":{\"outlinewidth\":0,\"ticks\":\"\"},\"colorscale\":[[0.0,\"#0d0887\"],[0.1111111111111111,\"#46039f\"],[0.2222222222222222,\"#7201a8\"],[0.3333333333333333,\"#9c179e\"],[0.4444444444444444,\"#bd3786\"],[0.5555555555555556,\"#d8576b\"],[0.6666666666666666,\"#ed7953\"],[0.7777777777777778,\"#fb9f3a\"],[0.8888888888888888,\"#fdca26\"],[1.0,\"#f0f921\"]],\"type\":\"histogram2d\"}],\"histogram2dcontour\":[{\"colorbar\":{\"outlinewidth\":0,\"ticks\":\"\"},\"colorscale\":[[0.0,\"#0d0887\"],[0.1111111111111111,\"#46039f\"],[0.2222222222222222,\"#7201a8\"],[0.3333333333333333,\"#9c179e\"],[0.4444444444444444,\"#bd3786\"],[0.5555555555555556,\"#d8576b\"],[0.6666666666666666,\"#ed7953\"],[0.7777777777777778,\"#fb9f3a\"],[0.8888888888888888,\"#fdca26\"],[1.0,\"#f0f921\"]],\"type\":\"histogram2dcontour\"}],\"mesh3d\":[{\"colorbar\":{\"outlinewidth\":0,\"ticks\":\"\"},\"type\":\"mesh3d\"}],\"parcoords\":[{\"line\":{\"colorbar\":{\"outlinewidth\":0,\"ticks\":\"\"}},\"type\":\"parcoords\"}],\"pie\":[{\"automargin\":true,\"type\":\"pie\"}],\"scatter\":[{\"marker\":{\"colorbar\":{\"outlinewidth\":0,\"ticks\":\"\"}},\"type\":\"scatter\"}],\"scatter3d\":[{\"line\":{\"colorbar\":{\"outlinewidth\":0,\"ticks\":\"\"}},\"marker\":{\"colorbar\":{\"outlinewidth\":0,\"ticks\":\"\"}},\"type\":\"scatter3d\"}],\"scattercarpet\":[{\"marker\":{\"colorbar\":{\"outlinewidth\":0,\"ticks\":\"\"}},\"type\":\"scattercarpet\"}],\"scattergeo\":[{\"marker\":{\"colorbar\":{\"outlinewidth\":0,\"ticks\":\"\"}},\"type\":\"scattergeo\"}],\"scattergl\":[{\"marker\":{\"colorbar\":{\"outlinewidth\":0,\"ticks\":\"\"}},\"type\":\"scattergl\"}],\"scattermapbox\":[{\"marker\":{\"colorbar\":{\"outlinewidth\":0,\"ticks\":\"\"}},\"type\":\"scattermapbox\"}],\"scatterpolar\":[{\"marker\":{\"colorbar\":{\"outlinewidth\":0,\"ticks\":\"\"}},\"type\":\"scatterpolar\"}],\"scatterpolargl\":[{\"marker\":{\"colorbar\":{\"outlinewidth\":0,\"ticks\":\"\"}},\"type\":\"scatterpolargl\"}],\"scatterternary\":[{\"marker\":{\"colorbar\":{\"outlinewidth\":0,\"ticks\":\"\"}},\"type\":\"scatterternary\"}],\"surface\":[{\"colorbar\":{\"outlinewidth\":0,\"ticks\":\"\"},\"colorscale\":[[0.0,\"#0d0887\"],[0.1111111111111111,\"#46039f\"],[0.2222222222222222,\"#7201a8\"],[0.3333333333333333,\"#9c179e\"],[0.4444444444444444,\"#bd3786\"],[0.5555555555555556,\"#d8576b\"],[0.6666666666666666,\"#ed7953\"],[0.7777777777777778,\"#fb9f3a\"],[0.8888888888888888,\"#fdca26\"],[1.0,\"#f0f921\"]],\"type\":\"surface\"}],\"table\":[{\"cells\":{\"fill\":{\"color\":\"#EBF0F8\"},\"line\":{\"color\":\"white\"}},\"header\":{\"fill\":{\"color\":\"#C8D4E3\"},\"line\":{\"color\":\"white\"}},\"type\":\"table\"}]},\"layout\":{\"annotationdefaults\":{\"arrowcolor\":\"#2a3f5f\",\"arrowhead\":0,\"arrowwidth\":1},\"autotypenumbers\":\"strict\",\"coloraxis\":{\"colorbar\":{\"outlinewidth\":0,\"ticks\":\"\"}},\"colorscale\":{\"diverging\":[[0,\"#8e0152\"],[0.1,\"#c51b7d\"],[0.2,\"#de77ae\"],[0.3,\"#f1b6da\"],[0.4,\"#fde0ef\"],[0.5,\"#f7f7f7\"],[0.6,\"#e6f5d0\"],[0.7,\"#b8e186\"],[0.8,\"#7fbc41\"],[0.9,\"#4d9221\"],[1,\"#276419\"]],\"sequential\":[[0.0,\"#0d0887\"],[0.1111111111111111,\"#46039f\"],[0.2222222222222222,\"#7201a8\"],[0.3333333333333333,\"#9c179e\"],[0.4444444444444444,\"#bd3786\"],[0.5555555555555556,\"#d8576b\"],[0.6666666666666666,\"#ed7953\"],[0.7777777777777778,\"#fb9f3a\"],[0.8888888888888888,\"#fdca26\"],[1.0,\"#f0f921\"]],\"sequentialminus\":[[0.0,\"#0d0887\"],[0.1111111111111111,\"#46039f\"],[0.2222222222222222,\"#7201a8\"],[0.3333333333333333,\"#9c179e\"],[0.4444444444444444,\"#bd3786\"],[0.5555555555555556,\"#d8576b\"],[0.6666666666666666,\"#ed7953\"],[0.7777777777777778,\"#fb9f3a\"],[0.8888888888888888,\"#fdca26\"],[1.0,\"#f0f921\"]]},\"colorway\":[\"#636efa\",\"#EF553B\",\"#00cc96\",\"#ab63fa\",\"#FFA15A\",\"#19d3f3\",\"#FF6692\",\"#B6E880\",\"#FF97FF\",\"#FECB52\"],\"font\":{\"color\":\"#2a3f5f\"},\"geo\":{\"bgcolor\":\"white\",\"lakecolor\":\"white\",\"landcolor\":\"#E5ECF6\",\"showlakes\":true,\"showland\":true,\"subunitcolor\":\"white\"},\"hoverlabel\":{\"align\":\"left\"},\"hovermode\":\"closest\",\"mapbox\":{\"style\":\"light\"},\"paper_bgcolor\":\"white\",\"plot_bgcolor\":\"#E5ECF6\",\"polar\":{\"angularaxis\":{\"gridcolor\":\"white\",\"linecolor\":\"white\",\"ticks\":\"\"},\"bgcolor\":\"#E5ECF6\",\"radialaxis\":{\"gridcolor\":\"white\",\"linecolor\":\"white\",\"ticks\":\"\"}},\"scene\":{\"xaxis\":{\"backgroundcolor\":\"#E5ECF6\",\"gridcolor\":\"white\",\"gridwidth\":2,\"linecolor\":\"white\",\"showbackground\":true,\"ticks\":\"\",\"zerolinecolor\":\"white\"},\"yaxis\":{\"backgroundcolor\":\"#E5ECF6\",\"gridcolor\":\"white\",\"gridwidth\":2,\"linecolor\":\"white\",\"showbackground\":true,\"ticks\":\"\",\"zerolinecolor\":\"white\"},\"zaxis\":{\"backgroundcolor\":\"#E5ECF6\",\"gridcolor\":\"white\",\"gridwidth\":2,\"linecolor\":\"white\",\"showbackground\":true,\"ticks\":\"\",\"zerolinecolor\":\"white\"}},\"shapedefaults\":{\"line\":{\"color\":\"#2a3f5f\"}},\"ternary\":{\"aaxis\":{\"gridcolor\":\"white\",\"linecolor\":\"white\",\"ticks\":\"\"},\"baxis\":{\"gridcolor\":\"white\",\"linecolor\":\"white\",\"ticks\":\"\"},\"bgcolor\":\"#E5ECF6\",\"caxis\":{\"gridcolor\":\"white\",\"linecolor\":\"white\",\"ticks\":\"\"}},\"title\":{\"x\":0.05},\"xaxis\":{\"automargin\":true,\"gridcolor\":\"white\",\"linecolor\":\"white\",\"ticks\":\"\",\"title\":{\"standoff\":15},\"zerolinecolor\":\"white\",\"zerolinewidth\":2},\"yaxis\":{\"automargin\":true,\"gridcolor\":\"white\",\"linecolor\":\"white\",\"ticks\":\"\",\"title\":{\"standoff\":15},\"zerolinecolor\":\"white\",\"zerolinewidth\":2}}},\"title\":{\"text\":\" proportions of chain and nonchain establishments\"}},                        {\"responsive\": true}                    ).then(function(){\n",
       "                            \n",
       "var gd = document.getElementById('47586bef-e4dc-4544-9504-954faab5b1e2');\n",
       "var x = new MutationObserver(function (mutations, observer) {{\n",
       "        var display = window.getComputedStyle(gd).display;\n",
       "        if (!display || display === 'none') {{\n",
       "            console.log([gd, 'removed!']);\n",
       "            Plotly.purge(gd);\n",
       "            observer.disconnect();\n",
       "        }}\n",
       "}});\n",
       "\n",
       "// Listen for the removal of the full notebook cells\n",
       "var notebookContainer = gd.closest('#notebook-container');\n",
       "if (notebookContainer) {{\n",
       "    x.observe(notebookContainer, {childList: true});\n",
       "}}\n",
       "\n",
       "// Listen for the clearing of the current output cell\n",
       "var outputEl = gd.closest('.output');\n",
       "if (outputEl) {{\n",
       "    x.observe(outputEl, {childList: true});\n",
       "}}\n",
       "\n",
       "                        })                };                });            </script>        </div>"
      ]
     },
     "metadata": {},
     "output_type": "display_data"
    }
   ],
   "source": [
    "chain_options = [\"non chain\",\"chain\"]\n",
    "chain_option_count =[len(rest_data[rest_data[\"chain\"]==False]),len(rest_data[rest_data[\"chain\"]==True])]\n",
    "chain_option_df = pd.DataFrame({\"option\":chain_options,\"count\":chain_option_count})\n",
    "figure = px.pie(chain_option_df,values=\"count\",names=\"option\",title=\" proportions of chain and nonchain establishments\")\n",
    "figure.update_layout(legend_itemwidth=50,legend_font_size=16)\n",
    "figure.show()"
   ]
  },
  {
   "cell_type": "markdown",
   "id": "9b69325f",
   "metadata": {},
   "source": [
    "When we see the general image we notice that 61.9% of the resturants are not part of a chain."
   ]
  },
  {
   "cell_type": "markdown",
   "id": "517107ca",
   "metadata": {},
   "source": [
    "**Check which type of establishment is typically a chain**"
   ]
  },
  {
   "cell_type": "code",
   "execution_count": 29,
   "id": "fe14e5eb",
   "metadata": {
    "ExecuteTime": {
     "end_time": "2021-12-09T16:43:48.502194Z",
     "start_time": "2021-12-09T16:43:48.422807Z"
    }
   },
   "outputs": [
    {
     "data": {
      "application/vnd.plotly.v1+json": {
       "config": {
        "plotlyServerURL": "https://plot.ly"
       },
       "data": [
        {
         "alignmentgroup": "True",
         "hovertemplate": "variable=chained ratio<br>establishment_type=%{x}<br>value=%{y}<extra></extra>",
         "legendgroup": "chained ratio",
         "marker": {
          "color": "#636efa",
          "pattern": {
           "shape": ""
          }
         },
         "name": "chained ratio",
         "offsetgroup": "chained ratio",
         "orientation": "v",
         "showlegend": true,
         "textposition": "auto",
         "type": "bar",
         "x": [
          "Restaurant",
          "Fast Food",
          "Bakery",
          "Cafe",
          "Pizza",
          "Bar"
         ],
         "xaxis": "x",
         "y": [
          31.600716944712534,
          56.75422138836773,
          56.82730923694779,
          61.14942528735632,
          47.96238244514107,
          100
         ],
         "yaxis": "y"
        },
        {
         "alignmentgroup": "True",
         "hovertemplate": "variable=not chained ratio<br>establishment_type=%{x}<br>value=%{y}<extra></extra>",
         "legendgroup": "not chained ratio",
         "marker": {
          "color": "#EF553B",
          "pattern": {
           "shape": ""
          }
         },
         "name": "not chained ratio",
         "offsetgroup": "not chained ratio",
         "orientation": "v",
         "showlegend": true,
         "textposition": "auto",
         "type": "bar",
         "x": [
          "Restaurant",
          "Fast Food",
          "Bakery",
          "Cafe",
          "Pizza",
          "Bar"
         ],
         "xaxis": "x",
         "y": [
          68.39928305528747,
          43.24577861163227,
          43.17269076305221,
          38.85057471264368,
          52.03761755485893,
          0
         ],
         "yaxis": "y"
        }
       ],
       "layout": {
        "barmode": "relative",
        "legend": {
         "font": {
          "size": 15
         },
         "title": {
          "text": "variable"
         },
         "tracegroupgap": 0
        },
        "template": {
         "data": {
          "bar": [
           {
            "error_x": {
             "color": "#2a3f5f"
            },
            "error_y": {
             "color": "#2a3f5f"
            },
            "marker": {
             "line": {
              "color": "#E5ECF6",
              "width": 0.5
             },
             "pattern": {
              "fillmode": "overlay",
              "size": 10,
              "solidity": 0.2
             }
            },
            "type": "bar"
           }
          ],
          "barpolar": [
           {
            "marker": {
             "line": {
              "color": "#E5ECF6",
              "width": 0.5
             },
             "pattern": {
              "fillmode": "overlay",
              "size": 10,
              "solidity": 0.2
             }
            },
            "type": "barpolar"
           }
          ],
          "carpet": [
           {
            "aaxis": {
             "endlinecolor": "#2a3f5f",
             "gridcolor": "white",
             "linecolor": "white",
             "minorgridcolor": "white",
             "startlinecolor": "#2a3f5f"
            },
            "baxis": {
             "endlinecolor": "#2a3f5f",
             "gridcolor": "white",
             "linecolor": "white",
             "minorgridcolor": "white",
             "startlinecolor": "#2a3f5f"
            },
            "type": "carpet"
           }
          ],
          "choropleth": [
           {
            "colorbar": {
             "outlinewidth": 0,
             "ticks": ""
            },
            "type": "choropleth"
           }
          ],
          "contour": [
           {
            "colorbar": {
             "outlinewidth": 0,
             "ticks": ""
            },
            "colorscale": [
             [
              0,
              "#0d0887"
             ],
             [
              0.1111111111111111,
              "#46039f"
             ],
             [
              0.2222222222222222,
              "#7201a8"
             ],
             [
              0.3333333333333333,
              "#9c179e"
             ],
             [
              0.4444444444444444,
              "#bd3786"
             ],
             [
              0.5555555555555556,
              "#d8576b"
             ],
             [
              0.6666666666666666,
              "#ed7953"
             ],
             [
              0.7777777777777778,
              "#fb9f3a"
             ],
             [
              0.8888888888888888,
              "#fdca26"
             ],
             [
              1,
              "#f0f921"
             ]
            ],
            "type": "contour"
           }
          ],
          "contourcarpet": [
           {
            "colorbar": {
             "outlinewidth": 0,
             "ticks": ""
            },
            "type": "contourcarpet"
           }
          ],
          "heatmap": [
           {
            "colorbar": {
             "outlinewidth": 0,
             "ticks": ""
            },
            "colorscale": [
             [
              0,
              "#0d0887"
             ],
             [
              0.1111111111111111,
              "#46039f"
             ],
             [
              0.2222222222222222,
              "#7201a8"
             ],
             [
              0.3333333333333333,
              "#9c179e"
             ],
             [
              0.4444444444444444,
              "#bd3786"
             ],
             [
              0.5555555555555556,
              "#d8576b"
             ],
             [
              0.6666666666666666,
              "#ed7953"
             ],
             [
              0.7777777777777778,
              "#fb9f3a"
             ],
             [
              0.8888888888888888,
              "#fdca26"
             ],
             [
              1,
              "#f0f921"
             ]
            ],
            "type": "heatmap"
           }
          ],
          "heatmapgl": [
           {
            "colorbar": {
             "outlinewidth": 0,
             "ticks": ""
            },
            "colorscale": [
             [
              0,
              "#0d0887"
             ],
             [
              0.1111111111111111,
              "#46039f"
             ],
             [
              0.2222222222222222,
              "#7201a8"
             ],
             [
              0.3333333333333333,
              "#9c179e"
             ],
             [
              0.4444444444444444,
              "#bd3786"
             ],
             [
              0.5555555555555556,
              "#d8576b"
             ],
             [
              0.6666666666666666,
              "#ed7953"
             ],
             [
              0.7777777777777778,
              "#fb9f3a"
             ],
             [
              0.8888888888888888,
              "#fdca26"
             ],
             [
              1,
              "#f0f921"
             ]
            ],
            "type": "heatmapgl"
           }
          ],
          "histogram": [
           {
            "marker": {
             "pattern": {
              "fillmode": "overlay",
              "size": 10,
              "solidity": 0.2
             }
            },
            "type": "histogram"
           }
          ],
          "histogram2d": [
           {
            "colorbar": {
             "outlinewidth": 0,
             "ticks": ""
            },
            "colorscale": [
             [
              0,
              "#0d0887"
             ],
             [
              0.1111111111111111,
              "#46039f"
             ],
             [
              0.2222222222222222,
              "#7201a8"
             ],
             [
              0.3333333333333333,
              "#9c179e"
             ],
             [
              0.4444444444444444,
              "#bd3786"
             ],
             [
              0.5555555555555556,
              "#d8576b"
             ],
             [
              0.6666666666666666,
              "#ed7953"
             ],
             [
              0.7777777777777778,
              "#fb9f3a"
             ],
             [
              0.8888888888888888,
              "#fdca26"
             ],
             [
              1,
              "#f0f921"
             ]
            ],
            "type": "histogram2d"
           }
          ],
          "histogram2dcontour": [
           {
            "colorbar": {
             "outlinewidth": 0,
             "ticks": ""
            },
            "colorscale": [
             [
              0,
              "#0d0887"
             ],
             [
              0.1111111111111111,
              "#46039f"
             ],
             [
              0.2222222222222222,
              "#7201a8"
             ],
             [
              0.3333333333333333,
              "#9c179e"
             ],
             [
              0.4444444444444444,
              "#bd3786"
             ],
             [
              0.5555555555555556,
              "#d8576b"
             ],
             [
              0.6666666666666666,
              "#ed7953"
             ],
             [
              0.7777777777777778,
              "#fb9f3a"
             ],
             [
              0.8888888888888888,
              "#fdca26"
             ],
             [
              1,
              "#f0f921"
             ]
            ],
            "type": "histogram2dcontour"
           }
          ],
          "mesh3d": [
           {
            "colorbar": {
             "outlinewidth": 0,
             "ticks": ""
            },
            "type": "mesh3d"
           }
          ],
          "parcoords": [
           {
            "line": {
             "colorbar": {
              "outlinewidth": 0,
              "ticks": ""
             }
            },
            "type": "parcoords"
           }
          ],
          "pie": [
           {
            "automargin": true,
            "type": "pie"
           }
          ],
          "scatter": [
           {
            "marker": {
             "colorbar": {
              "outlinewidth": 0,
              "ticks": ""
             }
            },
            "type": "scatter"
           }
          ],
          "scatter3d": [
           {
            "line": {
             "colorbar": {
              "outlinewidth": 0,
              "ticks": ""
             }
            },
            "marker": {
             "colorbar": {
              "outlinewidth": 0,
              "ticks": ""
             }
            },
            "type": "scatter3d"
           }
          ],
          "scattercarpet": [
           {
            "marker": {
             "colorbar": {
              "outlinewidth": 0,
              "ticks": ""
             }
            },
            "type": "scattercarpet"
           }
          ],
          "scattergeo": [
           {
            "marker": {
             "colorbar": {
              "outlinewidth": 0,
              "ticks": ""
             }
            },
            "type": "scattergeo"
           }
          ],
          "scattergl": [
           {
            "marker": {
             "colorbar": {
              "outlinewidth": 0,
              "ticks": ""
             }
            },
            "type": "scattergl"
           }
          ],
          "scattermapbox": [
           {
            "marker": {
             "colorbar": {
              "outlinewidth": 0,
              "ticks": ""
             }
            },
            "type": "scattermapbox"
           }
          ],
          "scatterpolar": [
           {
            "marker": {
             "colorbar": {
              "outlinewidth": 0,
              "ticks": ""
             }
            },
            "type": "scatterpolar"
           }
          ],
          "scatterpolargl": [
           {
            "marker": {
             "colorbar": {
              "outlinewidth": 0,
              "ticks": ""
             }
            },
            "type": "scatterpolargl"
           }
          ],
          "scatterternary": [
           {
            "marker": {
             "colorbar": {
              "outlinewidth": 0,
              "ticks": ""
             }
            },
            "type": "scatterternary"
           }
          ],
          "surface": [
           {
            "colorbar": {
             "outlinewidth": 0,
             "ticks": ""
            },
            "colorscale": [
             [
              0,
              "#0d0887"
             ],
             [
              0.1111111111111111,
              "#46039f"
             ],
             [
              0.2222222222222222,
              "#7201a8"
             ],
             [
              0.3333333333333333,
              "#9c179e"
             ],
             [
              0.4444444444444444,
              "#bd3786"
             ],
             [
              0.5555555555555556,
              "#d8576b"
             ],
             [
              0.6666666666666666,
              "#ed7953"
             ],
             [
              0.7777777777777778,
              "#fb9f3a"
             ],
             [
              0.8888888888888888,
              "#fdca26"
             ],
             [
              1,
              "#f0f921"
             ]
            ],
            "type": "surface"
           }
          ],
          "table": [
           {
            "cells": {
             "fill": {
              "color": "#EBF0F8"
             },
             "line": {
              "color": "white"
             }
            },
            "header": {
             "fill": {
              "color": "#C8D4E3"
             },
             "line": {
              "color": "white"
             }
            },
            "type": "table"
           }
          ]
         },
         "layout": {
          "annotationdefaults": {
           "arrowcolor": "#2a3f5f",
           "arrowhead": 0,
           "arrowwidth": 1
          },
          "autotypenumbers": "strict",
          "coloraxis": {
           "colorbar": {
            "outlinewidth": 0,
            "ticks": ""
           }
          },
          "colorscale": {
           "diverging": [
            [
             0,
             "#8e0152"
            ],
            [
             0.1,
             "#c51b7d"
            ],
            [
             0.2,
             "#de77ae"
            ],
            [
             0.3,
             "#f1b6da"
            ],
            [
             0.4,
             "#fde0ef"
            ],
            [
             0.5,
             "#f7f7f7"
            ],
            [
             0.6,
             "#e6f5d0"
            ],
            [
             0.7,
             "#b8e186"
            ],
            [
             0.8,
             "#7fbc41"
            ],
            [
             0.9,
             "#4d9221"
            ],
            [
             1,
             "#276419"
            ]
           ],
           "sequential": [
            [
             0,
             "#0d0887"
            ],
            [
             0.1111111111111111,
             "#46039f"
            ],
            [
             0.2222222222222222,
             "#7201a8"
            ],
            [
             0.3333333333333333,
             "#9c179e"
            ],
            [
             0.4444444444444444,
             "#bd3786"
            ],
            [
             0.5555555555555556,
             "#d8576b"
            ],
            [
             0.6666666666666666,
             "#ed7953"
            ],
            [
             0.7777777777777778,
             "#fb9f3a"
            ],
            [
             0.8888888888888888,
             "#fdca26"
            ],
            [
             1,
             "#f0f921"
            ]
           ],
           "sequentialminus": [
            [
             0,
             "#0d0887"
            ],
            [
             0.1111111111111111,
             "#46039f"
            ],
            [
             0.2222222222222222,
             "#7201a8"
            ],
            [
             0.3333333333333333,
             "#9c179e"
            ],
            [
             0.4444444444444444,
             "#bd3786"
            ],
            [
             0.5555555555555556,
             "#d8576b"
            ],
            [
             0.6666666666666666,
             "#ed7953"
            ],
            [
             0.7777777777777778,
             "#fb9f3a"
            ],
            [
             0.8888888888888888,
             "#fdca26"
            ],
            [
             1,
             "#f0f921"
            ]
           ]
          },
          "colorway": [
           "#636efa",
           "#EF553B",
           "#00cc96",
           "#ab63fa",
           "#FFA15A",
           "#19d3f3",
           "#FF6692",
           "#B6E880",
           "#FF97FF",
           "#FECB52"
          ],
          "font": {
           "color": "#2a3f5f"
          },
          "geo": {
           "bgcolor": "white",
           "lakecolor": "white",
           "landcolor": "#E5ECF6",
           "showlakes": true,
           "showland": true,
           "subunitcolor": "white"
          },
          "hoverlabel": {
           "align": "left"
          },
          "hovermode": "closest",
          "mapbox": {
           "style": "light"
          },
          "paper_bgcolor": "white",
          "plot_bgcolor": "#E5ECF6",
          "polar": {
           "angularaxis": {
            "gridcolor": "white",
            "linecolor": "white",
            "ticks": ""
           },
           "bgcolor": "#E5ECF6",
           "radialaxis": {
            "gridcolor": "white",
            "linecolor": "white",
            "ticks": ""
           }
          },
          "scene": {
           "xaxis": {
            "backgroundcolor": "#E5ECF6",
            "gridcolor": "white",
            "gridwidth": 2,
            "linecolor": "white",
            "showbackground": true,
            "ticks": "",
            "zerolinecolor": "white"
           },
           "yaxis": {
            "backgroundcolor": "#E5ECF6",
            "gridcolor": "white",
            "gridwidth": 2,
            "linecolor": "white",
            "showbackground": true,
            "ticks": "",
            "zerolinecolor": "white"
           },
           "zaxis": {
            "backgroundcolor": "#E5ECF6",
            "gridcolor": "white",
            "gridwidth": 2,
            "linecolor": "white",
            "showbackground": true,
            "ticks": "",
            "zerolinecolor": "white"
           }
          },
          "shapedefaults": {
           "line": {
            "color": "#2a3f5f"
           }
          },
          "ternary": {
           "aaxis": {
            "gridcolor": "white",
            "linecolor": "white",
            "ticks": ""
           },
           "baxis": {
            "gridcolor": "white",
            "linecolor": "white",
            "ticks": ""
           },
           "bgcolor": "#E5ECF6",
           "caxis": {
            "gridcolor": "white",
            "linecolor": "white",
            "ticks": ""
           }
          },
          "title": {
           "x": 0.05
          },
          "xaxis": {
           "automargin": true,
           "gridcolor": "white",
           "linecolor": "white",
           "ticks": "",
           "title": {
            "standoff": 15
           },
           "zerolinecolor": "white",
           "zerolinewidth": 2
          },
          "yaxis": {
           "automargin": true,
           "gridcolor": "white",
           "linecolor": "white",
           "ticks": "",
           "title": {
            "standoff": 15
           },
           "zerolinecolor": "white",
           "zerolinewidth": 2
          }
         }
        },
        "title": {
         "text": "proportion types of chained/not chained establishments"
        },
        "xaxis": {
         "anchor": "y",
         "domain": [
          0,
          1
         ],
         "title": {
          "text": "establishment_type"
         }
        },
        "yaxis": {
         "anchor": "x",
         "domain": [
          0,
          1
         ],
         "title": {
          "text": "Perecentage"
         }
        }
       }
      },
      "text/html": [
       "<div>                            <div id=\"1810f983-de4c-4d9a-a623-74543ea51f01\" class=\"plotly-graph-div\" style=\"height:525px; width:100%;\"></div>            <script type=\"text/javascript\">                require([\"plotly\"], function(Plotly) {                    window.PLOTLYENV=window.PLOTLYENV || {};                                    if (document.getElementById(\"1810f983-de4c-4d9a-a623-74543ea51f01\")) {                    Plotly.newPlot(                        \"1810f983-de4c-4d9a-a623-74543ea51f01\",                        [{\"alignmentgroup\":\"True\",\"hovertemplate\":\"variable=chained ratio<br>establishment_type=%{x}<br>value=%{y}<extra></extra>\",\"legendgroup\":\"chained ratio\",\"marker\":{\"color\":\"#636efa\",\"pattern\":{\"shape\":\"\"}},\"name\":\"chained ratio\",\"offsetgroup\":\"chained ratio\",\"orientation\":\"v\",\"showlegend\":true,\"textposition\":\"auto\",\"type\":\"bar\",\"x\":[\"Restaurant\",\"Fast Food\",\"Bakery\",\"Cafe\",\"Pizza\",\"Bar\"],\"xaxis\":\"x\",\"y\":[31.600716944712534,56.75422138836773,56.82730923694779,61.14942528735632,47.96238244514107,100.0],\"yaxis\":\"y\"},{\"alignmentgroup\":\"True\",\"hovertemplate\":\"variable=not chained ratio<br>establishment_type=%{x}<br>value=%{y}<extra></extra>\",\"legendgroup\":\"not chained ratio\",\"marker\":{\"color\":\"#EF553B\",\"pattern\":{\"shape\":\"\"}},\"name\":\"not chained ratio\",\"offsetgroup\":\"not chained ratio\",\"orientation\":\"v\",\"showlegend\":true,\"textposition\":\"auto\",\"type\":\"bar\",\"x\":[\"Restaurant\",\"Fast Food\",\"Bakery\",\"Cafe\",\"Pizza\",\"Bar\"],\"xaxis\":\"x\",\"y\":[68.39928305528747,43.24577861163227,43.17269076305221,38.85057471264368,52.03761755485893,0.0],\"yaxis\":\"y\"}],                        {\"barmode\":\"relative\",\"legend\":{\"font\":{\"size\":15},\"title\":{\"text\":\"variable\"},\"tracegroupgap\":0},\"template\":{\"data\":{\"bar\":[{\"error_x\":{\"color\":\"#2a3f5f\"},\"error_y\":{\"color\":\"#2a3f5f\"},\"marker\":{\"line\":{\"color\":\"#E5ECF6\",\"width\":0.5},\"pattern\":{\"fillmode\":\"overlay\",\"size\":10,\"solidity\":0.2}},\"type\":\"bar\"}],\"barpolar\":[{\"marker\":{\"line\":{\"color\":\"#E5ECF6\",\"width\":0.5},\"pattern\":{\"fillmode\":\"overlay\",\"size\":10,\"solidity\":0.2}},\"type\":\"barpolar\"}],\"carpet\":[{\"aaxis\":{\"endlinecolor\":\"#2a3f5f\",\"gridcolor\":\"white\",\"linecolor\":\"white\",\"minorgridcolor\":\"white\",\"startlinecolor\":\"#2a3f5f\"},\"baxis\":{\"endlinecolor\":\"#2a3f5f\",\"gridcolor\":\"white\",\"linecolor\":\"white\",\"minorgridcolor\":\"white\",\"startlinecolor\":\"#2a3f5f\"},\"type\":\"carpet\"}],\"choropleth\":[{\"colorbar\":{\"outlinewidth\":0,\"ticks\":\"\"},\"type\":\"choropleth\"}],\"contour\":[{\"colorbar\":{\"outlinewidth\":0,\"ticks\":\"\"},\"colorscale\":[[0.0,\"#0d0887\"],[0.1111111111111111,\"#46039f\"],[0.2222222222222222,\"#7201a8\"],[0.3333333333333333,\"#9c179e\"],[0.4444444444444444,\"#bd3786\"],[0.5555555555555556,\"#d8576b\"],[0.6666666666666666,\"#ed7953\"],[0.7777777777777778,\"#fb9f3a\"],[0.8888888888888888,\"#fdca26\"],[1.0,\"#f0f921\"]],\"type\":\"contour\"}],\"contourcarpet\":[{\"colorbar\":{\"outlinewidth\":0,\"ticks\":\"\"},\"type\":\"contourcarpet\"}],\"heatmap\":[{\"colorbar\":{\"outlinewidth\":0,\"ticks\":\"\"},\"colorscale\":[[0.0,\"#0d0887\"],[0.1111111111111111,\"#46039f\"],[0.2222222222222222,\"#7201a8\"],[0.3333333333333333,\"#9c179e\"],[0.4444444444444444,\"#bd3786\"],[0.5555555555555556,\"#d8576b\"],[0.6666666666666666,\"#ed7953\"],[0.7777777777777778,\"#fb9f3a\"],[0.8888888888888888,\"#fdca26\"],[1.0,\"#f0f921\"]],\"type\":\"heatmap\"}],\"heatmapgl\":[{\"colorbar\":{\"outlinewidth\":0,\"ticks\":\"\"},\"colorscale\":[[0.0,\"#0d0887\"],[0.1111111111111111,\"#46039f\"],[0.2222222222222222,\"#7201a8\"],[0.3333333333333333,\"#9c179e\"],[0.4444444444444444,\"#bd3786\"],[0.5555555555555556,\"#d8576b\"],[0.6666666666666666,\"#ed7953\"],[0.7777777777777778,\"#fb9f3a\"],[0.8888888888888888,\"#fdca26\"],[1.0,\"#f0f921\"]],\"type\":\"heatmapgl\"}],\"histogram\":[{\"marker\":{\"pattern\":{\"fillmode\":\"overlay\",\"size\":10,\"solidity\":0.2}},\"type\":\"histogram\"}],\"histogram2d\":[{\"colorbar\":{\"outlinewidth\":0,\"ticks\":\"\"},\"colorscale\":[[0.0,\"#0d0887\"],[0.1111111111111111,\"#46039f\"],[0.2222222222222222,\"#7201a8\"],[0.3333333333333333,\"#9c179e\"],[0.4444444444444444,\"#bd3786\"],[0.5555555555555556,\"#d8576b\"],[0.6666666666666666,\"#ed7953\"],[0.7777777777777778,\"#fb9f3a\"],[0.8888888888888888,\"#fdca26\"],[1.0,\"#f0f921\"]],\"type\":\"histogram2d\"}],\"histogram2dcontour\":[{\"colorbar\":{\"outlinewidth\":0,\"ticks\":\"\"},\"colorscale\":[[0.0,\"#0d0887\"],[0.1111111111111111,\"#46039f\"],[0.2222222222222222,\"#7201a8\"],[0.3333333333333333,\"#9c179e\"],[0.4444444444444444,\"#bd3786\"],[0.5555555555555556,\"#d8576b\"],[0.6666666666666666,\"#ed7953\"],[0.7777777777777778,\"#fb9f3a\"],[0.8888888888888888,\"#fdca26\"],[1.0,\"#f0f921\"]],\"type\":\"histogram2dcontour\"}],\"mesh3d\":[{\"colorbar\":{\"outlinewidth\":0,\"ticks\":\"\"},\"type\":\"mesh3d\"}],\"parcoords\":[{\"line\":{\"colorbar\":{\"outlinewidth\":0,\"ticks\":\"\"}},\"type\":\"parcoords\"}],\"pie\":[{\"automargin\":true,\"type\":\"pie\"}],\"scatter\":[{\"marker\":{\"colorbar\":{\"outlinewidth\":0,\"ticks\":\"\"}},\"type\":\"scatter\"}],\"scatter3d\":[{\"line\":{\"colorbar\":{\"outlinewidth\":0,\"ticks\":\"\"}},\"marker\":{\"colorbar\":{\"outlinewidth\":0,\"ticks\":\"\"}},\"type\":\"scatter3d\"}],\"scattercarpet\":[{\"marker\":{\"colorbar\":{\"outlinewidth\":0,\"ticks\":\"\"}},\"type\":\"scattercarpet\"}],\"scattergeo\":[{\"marker\":{\"colorbar\":{\"outlinewidth\":0,\"ticks\":\"\"}},\"type\":\"scattergeo\"}],\"scattergl\":[{\"marker\":{\"colorbar\":{\"outlinewidth\":0,\"ticks\":\"\"}},\"type\":\"scattergl\"}],\"scattermapbox\":[{\"marker\":{\"colorbar\":{\"outlinewidth\":0,\"ticks\":\"\"}},\"type\":\"scattermapbox\"}],\"scatterpolar\":[{\"marker\":{\"colorbar\":{\"outlinewidth\":0,\"ticks\":\"\"}},\"type\":\"scatterpolar\"}],\"scatterpolargl\":[{\"marker\":{\"colorbar\":{\"outlinewidth\":0,\"ticks\":\"\"}},\"type\":\"scatterpolargl\"}],\"scatterternary\":[{\"marker\":{\"colorbar\":{\"outlinewidth\":0,\"ticks\":\"\"}},\"type\":\"scatterternary\"}],\"surface\":[{\"colorbar\":{\"outlinewidth\":0,\"ticks\":\"\"},\"colorscale\":[[0.0,\"#0d0887\"],[0.1111111111111111,\"#46039f\"],[0.2222222222222222,\"#7201a8\"],[0.3333333333333333,\"#9c179e\"],[0.4444444444444444,\"#bd3786\"],[0.5555555555555556,\"#d8576b\"],[0.6666666666666666,\"#ed7953\"],[0.7777777777777778,\"#fb9f3a\"],[0.8888888888888888,\"#fdca26\"],[1.0,\"#f0f921\"]],\"type\":\"surface\"}],\"table\":[{\"cells\":{\"fill\":{\"color\":\"#EBF0F8\"},\"line\":{\"color\":\"white\"}},\"header\":{\"fill\":{\"color\":\"#C8D4E3\"},\"line\":{\"color\":\"white\"}},\"type\":\"table\"}]},\"layout\":{\"annotationdefaults\":{\"arrowcolor\":\"#2a3f5f\",\"arrowhead\":0,\"arrowwidth\":1},\"autotypenumbers\":\"strict\",\"coloraxis\":{\"colorbar\":{\"outlinewidth\":0,\"ticks\":\"\"}},\"colorscale\":{\"diverging\":[[0,\"#8e0152\"],[0.1,\"#c51b7d\"],[0.2,\"#de77ae\"],[0.3,\"#f1b6da\"],[0.4,\"#fde0ef\"],[0.5,\"#f7f7f7\"],[0.6,\"#e6f5d0\"],[0.7,\"#b8e186\"],[0.8,\"#7fbc41\"],[0.9,\"#4d9221\"],[1,\"#276419\"]],\"sequential\":[[0.0,\"#0d0887\"],[0.1111111111111111,\"#46039f\"],[0.2222222222222222,\"#7201a8\"],[0.3333333333333333,\"#9c179e\"],[0.4444444444444444,\"#bd3786\"],[0.5555555555555556,\"#d8576b\"],[0.6666666666666666,\"#ed7953\"],[0.7777777777777778,\"#fb9f3a\"],[0.8888888888888888,\"#fdca26\"],[1.0,\"#f0f921\"]],\"sequentialminus\":[[0.0,\"#0d0887\"],[0.1111111111111111,\"#46039f\"],[0.2222222222222222,\"#7201a8\"],[0.3333333333333333,\"#9c179e\"],[0.4444444444444444,\"#bd3786\"],[0.5555555555555556,\"#d8576b\"],[0.6666666666666666,\"#ed7953\"],[0.7777777777777778,\"#fb9f3a\"],[0.8888888888888888,\"#fdca26\"],[1.0,\"#f0f921\"]]},\"colorway\":[\"#636efa\",\"#EF553B\",\"#00cc96\",\"#ab63fa\",\"#FFA15A\",\"#19d3f3\",\"#FF6692\",\"#B6E880\",\"#FF97FF\",\"#FECB52\"],\"font\":{\"color\":\"#2a3f5f\"},\"geo\":{\"bgcolor\":\"white\",\"lakecolor\":\"white\",\"landcolor\":\"#E5ECF6\",\"showlakes\":true,\"showland\":true,\"subunitcolor\":\"white\"},\"hoverlabel\":{\"align\":\"left\"},\"hovermode\":\"closest\",\"mapbox\":{\"style\":\"light\"},\"paper_bgcolor\":\"white\",\"plot_bgcolor\":\"#E5ECF6\",\"polar\":{\"angularaxis\":{\"gridcolor\":\"white\",\"linecolor\":\"white\",\"ticks\":\"\"},\"bgcolor\":\"#E5ECF6\",\"radialaxis\":{\"gridcolor\":\"white\",\"linecolor\":\"white\",\"ticks\":\"\"}},\"scene\":{\"xaxis\":{\"backgroundcolor\":\"#E5ECF6\",\"gridcolor\":\"white\",\"gridwidth\":2,\"linecolor\":\"white\",\"showbackground\":true,\"ticks\":\"\",\"zerolinecolor\":\"white\"},\"yaxis\":{\"backgroundcolor\":\"#E5ECF6\",\"gridcolor\":\"white\",\"gridwidth\":2,\"linecolor\":\"white\",\"showbackground\":true,\"ticks\":\"\",\"zerolinecolor\":\"white\"},\"zaxis\":{\"backgroundcolor\":\"#E5ECF6\",\"gridcolor\":\"white\",\"gridwidth\":2,\"linecolor\":\"white\",\"showbackground\":true,\"ticks\":\"\",\"zerolinecolor\":\"white\"}},\"shapedefaults\":{\"line\":{\"color\":\"#2a3f5f\"}},\"ternary\":{\"aaxis\":{\"gridcolor\":\"white\",\"linecolor\":\"white\",\"ticks\":\"\"},\"baxis\":{\"gridcolor\":\"white\",\"linecolor\":\"white\",\"ticks\":\"\"},\"bgcolor\":\"#E5ECF6\",\"caxis\":{\"gridcolor\":\"white\",\"linecolor\":\"white\",\"ticks\":\"\"}},\"title\":{\"x\":0.05},\"xaxis\":{\"automargin\":true,\"gridcolor\":\"white\",\"linecolor\":\"white\",\"ticks\":\"\",\"title\":{\"standoff\":15},\"zerolinecolor\":\"white\",\"zerolinewidth\":2},\"yaxis\":{\"automargin\":true,\"gridcolor\":\"white\",\"linecolor\":\"white\",\"ticks\":\"\",\"title\":{\"standoff\":15},\"zerolinecolor\":\"white\",\"zerolinewidth\":2}}},\"title\":{\"text\":\"proportion types of chained/not chained establishments\"},\"xaxis\":{\"anchor\":\"y\",\"domain\":[0.0,1.0],\"title\":{\"text\":\"establishment_type\"}},\"yaxis\":{\"anchor\":\"x\",\"domain\":[0.0,1.0],\"title\":{\"text\":\"Perecentage\"}}},                        {\"responsive\": true}                    ).then(function(){\n",
       "                            \n",
       "var gd = document.getElementById('1810f983-de4c-4d9a-a623-74543ea51f01');\n",
       "var x = new MutationObserver(function (mutations, observer) {{\n",
       "        var display = window.getComputedStyle(gd).display;\n",
       "        if (!display || display === 'none') {{\n",
       "            console.log([gd, 'removed!']);\n",
       "            Plotly.purge(gd);\n",
       "            observer.disconnect();\n",
       "        }}\n",
       "}});\n",
       "\n",
       "// Listen for the removal of the full notebook cells\n",
       "var notebookContainer = gd.closest('#notebook-container');\n",
       "if (notebookContainer) {{\n",
       "    x.observe(notebookContainer, {childList: true});\n",
       "}}\n",
       "\n",
       "// Listen for the clearing of the current output cell\n",
       "var outputEl = gd.closest('.output');\n",
       "if (outputEl) {{\n",
       "    x.observe(outputEl, {childList: true});\n",
       "}}\n",
       "\n",
       "                        })                };                });            </script>        </div>"
      ]
     },
     "metadata": {},
     "output_type": "display_data"
    }
   ],
   "source": [
    "count_chain_establishments = rest_data[rest_data['chain']==True].value_counts(\"object_type\").reset_index()\n",
    "count_not_chain_establishments = rest_data[rest_data['chain']==False].value_counts(\"object_type\").reset_index()\n",
    "count_chain_establishments['not chained'] = count_not_chain_establishments[0]\n",
    "count_chain_establishments.columns = ['establishment_type','chained','not chained']\n",
    "count_chain_establishments.fillna(int(0),inplace=True)\n",
    "\n",
    "count_chain_establishments['chained ratio'] = 100 * count_chain_establishments['chained'] /(count_chain_establishments['not chained']+count_chain_establishments['chained'])\n",
    "count_chain_establishments['not chained ratio'] = 100* count_chain_establishments['not chained'] /(count_chain_establishments['not chained']+count_chain_establishments['chained'])\n",
    "\n",
    "fig = px.bar(count_chain_establishments,\n",
    "             x=\"establishment_type\",\n",
    "             y=[\"chained ratio\",\"not chained ratio\"],\n",
    "             title=\"proportion types of chained/not chained establishments\")\n",
    "fig.update_layout(legend_font_size=15)\n",
    "fig.update_yaxes(title=\"Perecentage\")\n",
    "fig.show()"
   ]
  },
  {
   "cell_type": "markdown",
   "id": "46f12256",
   "metadata": {},
   "source": [
    "We see that cafes and bars, fast food and bakries are mostly part of a chain when restaurants and pizza most of time are not."
   ]
  },
  {
   "cell_type": "markdown",
   "id": "8fab22d2",
   "metadata": {},
   "source": [
    "**Check what characterizes chains** "
   ]
  },
  {
   "cell_type": "markdown",
   "id": "f1503da2",
   "metadata": {},
   "source": [
    "many establishments with a small number of seats or a few establishments with a lot of seats<br>\n",
    "\n",
    "Before analyze - lets define what is the amount of chairs that we consider it small or big:\n",
    "* small number of seats - 15 seats or less\n",
    "* normal number of seats - less than 40 seats and more than 10\n",
    "* big number of seats - 40 seats or more"
   ]
  },
  {
   "cell_type": "code",
   "execution_count": 30,
   "id": "43cdbedf",
   "metadata": {
    "ExecuteTime": {
     "end_time": "2021-12-09T16:44:14.404584Z",
     "start_time": "2021-12-09T16:44:14.374639Z"
    }
   },
   "outputs": [
    {
     "name": "stdout",
     "output_type": "stream",
     "text": [
      "count    3676.000000\n",
      "mean       39.694233\n",
      "std        43.437212\n",
      "min         1.000000\n",
      "25%        13.000000\n",
      "50%        25.000000\n",
      "75%        44.000000\n",
      "max       229.000000\n",
      "Name: number, dtype: float64\n"
     ]
    },
    {
     "data": {
      "text/html": [
       "<div>\n",
       "<style scoped>\n",
       "    .dataframe tbody tr th:only-of-type {\n",
       "        vertical-align: middle;\n",
       "    }\n",
       "\n",
       "    .dataframe tbody tr th {\n",
       "        vertical-align: top;\n",
       "    }\n",
       "\n",
       "    .dataframe thead th {\n",
       "        text-align: right;\n",
       "    }\n",
       "</style>\n",
       "<table border=\"1\" class=\"dataframe\">\n",
       "  <thead>\n",
       "    <tr style=\"text-align: right;\">\n",
       "      <th></th>\n",
       "      <th>id</th>\n",
       "      <th>object_name</th>\n",
       "      <th>address</th>\n",
       "      <th>chain</th>\n",
       "      <th>object_type</th>\n",
       "      <th>number</th>\n",
       "      <th>clean_adress</th>\n",
       "      <th>street</th>\n",
       "      <th>seats_propertion</th>\n",
       "    </tr>\n",
       "  </thead>\n",
       "  <tbody>\n",
       "    <tr>\n",
       "      <th>0</th>\n",
       "      <td>11786</td>\n",
       "      <td>HABITAT COFFEE SHOP</td>\n",
       "      <td>3708 N EAGLE ROCK BLVD</td>\n",
       "      <td>False</td>\n",
       "      <td>Cafe</td>\n",
       "      <td>26</td>\n",
       "      <td>3708 EAGLE ROCK, Los Angeles,USA</td>\n",
       "      <td>EAGLE ROCK</td>\n",
       "      <td>medium</td>\n",
       "    </tr>\n",
       "    <tr>\n",
       "      <th>1</th>\n",
       "      <td>11787</td>\n",
       "      <td>REILLY'S</td>\n",
       "      <td>100 WORLD WAY # 120</td>\n",
       "      <td>False</td>\n",
       "      <td>Restaurant</td>\n",
       "      <td>9</td>\n",
       "      <td>100 WORLD, Los Angeles,USA</td>\n",
       "      <td>WORLD</td>\n",
       "      <td>small</td>\n",
       "    </tr>\n",
       "    <tr>\n",
       "      <th>2</th>\n",
       "      <td>11788</td>\n",
       "      <td>STREET CHURROS</td>\n",
       "      <td>6801 HOLLYWOOD BLVD # 253</td>\n",
       "      <td>False</td>\n",
       "      <td>Fast Food</td>\n",
       "      <td>20</td>\n",
       "      <td>6801 HOLLYWOOD, Los Angeles,USA</td>\n",
       "      <td>HOLLYWOOD</td>\n",
       "      <td>medium</td>\n",
       "    </tr>\n",
       "    <tr>\n",
       "      <th>3</th>\n",
       "      <td>11789</td>\n",
       "      <td>TRINITI ECHO PARK</td>\n",
       "      <td>1814 W SUNSET BLVD</td>\n",
       "      <td>False</td>\n",
       "      <td>Restaurant</td>\n",
       "      <td>22</td>\n",
       "      <td>1814 SUNSET, Los Angeles,USA</td>\n",
       "      <td>SUNSET</td>\n",
       "      <td>medium</td>\n",
       "    </tr>\n",
       "    <tr>\n",
       "      <th>4</th>\n",
       "      <td>11790</td>\n",
       "      <td>POLLEN</td>\n",
       "      <td>2100 ECHO PARK AVE</td>\n",
       "      <td>False</td>\n",
       "      <td>Restaurant</td>\n",
       "      <td>20</td>\n",
       "      <td>2100 ECHO PARK, Los Angeles,USA</td>\n",
       "      <td>ECHO PARK</td>\n",
       "      <td>medium</td>\n",
       "    </tr>\n",
       "    <tr>\n",
       "      <th>5</th>\n",
       "      <td>11791</td>\n",
       "      <td>THE SPOT GRILL</td>\n",
       "      <td>10004 NATIONAL BLVD</td>\n",
       "      <td>False</td>\n",
       "      <td>Restaurant</td>\n",
       "      <td>14</td>\n",
       "      <td>10004 NATIONAL, Los Angeles,USA</td>\n",
       "      <td>NATIONAL</td>\n",
       "      <td>small</td>\n",
       "    </tr>\n",
       "    <tr>\n",
       "      <th>6</th>\n",
       "      <td>11792</td>\n",
       "      <td>CPK</td>\n",
       "      <td>100 WORLD WAY # 126</td>\n",
       "      <td>False</td>\n",
       "      <td>Restaurant</td>\n",
       "      <td>100</td>\n",
       "      <td>100 WORLD, Los Angeles,USA</td>\n",
       "      <td>WORLD</td>\n",
       "      <td>big</td>\n",
       "    </tr>\n",
       "    <tr>\n",
       "      <th>7</th>\n",
       "      <td>11793</td>\n",
       "      <td>PHO LALA</td>\n",
       "      <td>3500 W 6TH ST STE 226</td>\n",
       "      <td>False</td>\n",
       "      <td>Restaurant</td>\n",
       "      <td>7</td>\n",
       "      <td>3500 6TH, Los Angeles,USA</td>\n",
       "      <td>6TH</td>\n",
       "      <td>small</td>\n",
       "    </tr>\n",
       "    <tr>\n",
       "      <th>8</th>\n",
       "      <td>11794</td>\n",
       "      <td>ABC DONUTS</td>\n",
       "      <td>3027 N SAN FERNANDO RD UNIT 103</td>\n",
       "      <td>True</td>\n",
       "      <td>Fast Food</td>\n",
       "      <td>1</td>\n",
       "      <td>3027 SAN FERNANDO, Los Angeles,USA</td>\n",
       "      <td>SAN FERNANDO</td>\n",
       "      <td>small</td>\n",
       "    </tr>\n",
       "    <tr>\n",
       "      <th>9</th>\n",
       "      <td>11795</td>\n",
       "      <td>UPSTAIRS</td>\n",
       "      <td>3707 N CAHUENGA BLVD</td>\n",
       "      <td>False</td>\n",
       "      <td>Restaurant</td>\n",
       "      <td>35</td>\n",
       "      <td>3707 CAHUENGA, Los Angeles,USA</td>\n",
       "      <td>CAHUENGA</td>\n",
       "      <td>medium</td>\n",
       "    </tr>\n",
       "  </tbody>\n",
       "</table>\n",
       "</div>"
      ],
      "text/plain": [
       "      id          object_name                          address  chain object_type  number                        clean_adress         street seats_propertion\n",
       "0  11786  HABITAT COFFEE SHOP           3708 N EAGLE ROCK BLVD  False        Cafe      26    3708 EAGLE ROCK, Los Angeles,USA    EAGLE ROCK            medium\n",
       "1  11787             REILLY'S              100 WORLD WAY # 120  False  Restaurant       9          100 WORLD, Los Angeles,USA         WORLD             small\n",
       "2  11788       STREET CHURROS        6801 HOLLYWOOD BLVD # 253  False   Fast Food      20     6801 HOLLYWOOD, Los Angeles,USA     HOLLYWOOD            medium\n",
       "3  11789    TRINITI ECHO PARK               1814 W SUNSET BLVD  False  Restaurant      22        1814 SUNSET, Los Angeles,USA        SUNSET            medium\n",
       "4  11790               POLLEN               2100 ECHO PARK AVE  False  Restaurant      20     2100 ECHO PARK, Los Angeles,USA     ECHO PARK            medium\n",
       "5  11791       THE SPOT GRILL              10004 NATIONAL BLVD  False  Restaurant      14     10004 NATIONAL, Los Angeles,USA      NATIONAL             small\n",
       "6  11792                  CPK              100 WORLD WAY # 126  False  Restaurant     100          100 WORLD, Los Angeles,USA         WORLD               big\n",
       "7  11793             PHO LALA            3500 W 6TH ST STE 226  False  Restaurant       7           3500 6TH, Los Angeles,USA           6TH             small\n",
       "8  11794           ABC DONUTS  3027 N SAN FERNANDO RD UNIT 103   True   Fast Food       1  3027 SAN FERNANDO, Los Angeles,USA  SAN FERNANDO             small\n",
       "9  11795             UPSTAIRS             3707 N CAHUENGA BLVD  False  Restaurant      35      3707 CAHUENGA, Los Angeles,USA      CAHUENGA            medium"
      ]
     },
     "metadata": {},
     "output_type": "display_data"
    }
   ],
   "source": [
    "def number_of_seats(seats):\n",
    "    if seats<=15:\n",
    "        return \"small\"\n",
    "    elif seats<40:\n",
    "        return \"medium\"\n",
    "    else:\n",
    "        return \"big\"\n",
    "    \n",
    "    \n",
    "# check the propertion of the seats\n",
    "print(rest_data[rest_data['chain']==True]['number'].describe())\n",
    "\n",
    "# apply the funcion\n",
    "rest_data['seats_propertion'] = rest_data['number'].apply(number_of_seats)\n",
    "\n",
    "# check our dataset after the changes\n",
    "display(rest_data.head(10))"
   ]
  },
  {
   "cell_type": "markdown",
   "id": "8089b0e5",
   "metadata": {},
   "source": [
    "Lets analyze and find the proportion of seat amount of non-chained establishments"
   ]
  },
  {
   "cell_type": "code",
   "execution_count": 32,
   "id": "374580eb",
   "metadata": {
    "ExecuteTime": {
     "end_time": "2021-12-09T16:45:11.097024Z",
     "start_time": "2021-12-09T16:45:11.032198Z"
    }
   },
   "outputs": [
    {
     "data": {
      "application/vnd.plotly.v1+json": {
       "config": {
        "plotlyServerURL": "https://plot.ly"
       },
       "data": [
        {
         "domain": {
          "x": [
           0,
           1
          ],
          "y": [
           0,
           1
          ]
         },
         "hovertemplate": "type=%{label}<br>count=%{value}<extra></extra>",
         "labels": [
          "medium",
          "big",
          "small"
         ],
         "legendgroup": "",
         "name": "",
         "showlegend": true,
         "type": "pie",
         "values": [
          2201,
          2110,
          1661
         ]
        }
       ],
       "layout": {
        "legend": {
         "font": {
          "size": 16
         },
         "itemwidth": 50,
         "tracegroupgap": 0
        },
        "template": {
         "data": {
          "bar": [
           {
            "error_x": {
             "color": "#2a3f5f"
            },
            "error_y": {
             "color": "#2a3f5f"
            },
            "marker": {
             "line": {
              "color": "#E5ECF6",
              "width": 0.5
             },
             "pattern": {
              "fillmode": "overlay",
              "size": 10,
              "solidity": 0.2
             }
            },
            "type": "bar"
           }
          ],
          "barpolar": [
           {
            "marker": {
             "line": {
              "color": "#E5ECF6",
              "width": 0.5
             },
             "pattern": {
              "fillmode": "overlay",
              "size": 10,
              "solidity": 0.2
             }
            },
            "type": "barpolar"
           }
          ],
          "carpet": [
           {
            "aaxis": {
             "endlinecolor": "#2a3f5f",
             "gridcolor": "white",
             "linecolor": "white",
             "minorgridcolor": "white",
             "startlinecolor": "#2a3f5f"
            },
            "baxis": {
             "endlinecolor": "#2a3f5f",
             "gridcolor": "white",
             "linecolor": "white",
             "minorgridcolor": "white",
             "startlinecolor": "#2a3f5f"
            },
            "type": "carpet"
           }
          ],
          "choropleth": [
           {
            "colorbar": {
             "outlinewidth": 0,
             "ticks": ""
            },
            "type": "choropleth"
           }
          ],
          "contour": [
           {
            "colorbar": {
             "outlinewidth": 0,
             "ticks": ""
            },
            "colorscale": [
             [
              0,
              "#0d0887"
             ],
             [
              0.1111111111111111,
              "#46039f"
             ],
             [
              0.2222222222222222,
              "#7201a8"
             ],
             [
              0.3333333333333333,
              "#9c179e"
             ],
             [
              0.4444444444444444,
              "#bd3786"
             ],
             [
              0.5555555555555556,
              "#d8576b"
             ],
             [
              0.6666666666666666,
              "#ed7953"
             ],
             [
              0.7777777777777778,
              "#fb9f3a"
             ],
             [
              0.8888888888888888,
              "#fdca26"
             ],
             [
              1,
              "#f0f921"
             ]
            ],
            "type": "contour"
           }
          ],
          "contourcarpet": [
           {
            "colorbar": {
             "outlinewidth": 0,
             "ticks": ""
            },
            "type": "contourcarpet"
           }
          ],
          "heatmap": [
           {
            "colorbar": {
             "outlinewidth": 0,
             "ticks": ""
            },
            "colorscale": [
             [
              0,
              "#0d0887"
             ],
             [
              0.1111111111111111,
              "#46039f"
             ],
             [
              0.2222222222222222,
              "#7201a8"
             ],
             [
              0.3333333333333333,
              "#9c179e"
             ],
             [
              0.4444444444444444,
              "#bd3786"
             ],
             [
              0.5555555555555556,
              "#d8576b"
             ],
             [
              0.6666666666666666,
              "#ed7953"
             ],
             [
              0.7777777777777778,
              "#fb9f3a"
             ],
             [
              0.8888888888888888,
              "#fdca26"
             ],
             [
              1,
              "#f0f921"
             ]
            ],
            "type": "heatmap"
           }
          ],
          "heatmapgl": [
           {
            "colorbar": {
             "outlinewidth": 0,
             "ticks": ""
            },
            "colorscale": [
             [
              0,
              "#0d0887"
             ],
             [
              0.1111111111111111,
              "#46039f"
             ],
             [
              0.2222222222222222,
              "#7201a8"
             ],
             [
              0.3333333333333333,
              "#9c179e"
             ],
             [
              0.4444444444444444,
              "#bd3786"
             ],
             [
              0.5555555555555556,
              "#d8576b"
             ],
             [
              0.6666666666666666,
              "#ed7953"
             ],
             [
              0.7777777777777778,
              "#fb9f3a"
             ],
             [
              0.8888888888888888,
              "#fdca26"
             ],
             [
              1,
              "#f0f921"
             ]
            ],
            "type": "heatmapgl"
           }
          ],
          "histogram": [
           {
            "marker": {
             "pattern": {
              "fillmode": "overlay",
              "size": 10,
              "solidity": 0.2
             }
            },
            "type": "histogram"
           }
          ],
          "histogram2d": [
           {
            "colorbar": {
             "outlinewidth": 0,
             "ticks": ""
            },
            "colorscale": [
             [
              0,
              "#0d0887"
             ],
             [
              0.1111111111111111,
              "#46039f"
             ],
             [
              0.2222222222222222,
              "#7201a8"
             ],
             [
              0.3333333333333333,
              "#9c179e"
             ],
             [
              0.4444444444444444,
              "#bd3786"
             ],
             [
              0.5555555555555556,
              "#d8576b"
             ],
             [
              0.6666666666666666,
              "#ed7953"
             ],
             [
              0.7777777777777778,
              "#fb9f3a"
             ],
             [
              0.8888888888888888,
              "#fdca26"
             ],
             [
              1,
              "#f0f921"
             ]
            ],
            "type": "histogram2d"
           }
          ],
          "histogram2dcontour": [
           {
            "colorbar": {
             "outlinewidth": 0,
             "ticks": ""
            },
            "colorscale": [
             [
              0,
              "#0d0887"
             ],
             [
              0.1111111111111111,
              "#46039f"
             ],
             [
              0.2222222222222222,
              "#7201a8"
             ],
             [
              0.3333333333333333,
              "#9c179e"
             ],
             [
              0.4444444444444444,
              "#bd3786"
             ],
             [
              0.5555555555555556,
              "#d8576b"
             ],
             [
              0.6666666666666666,
              "#ed7953"
             ],
             [
              0.7777777777777778,
              "#fb9f3a"
             ],
             [
              0.8888888888888888,
              "#fdca26"
             ],
             [
              1,
              "#f0f921"
             ]
            ],
            "type": "histogram2dcontour"
           }
          ],
          "mesh3d": [
           {
            "colorbar": {
             "outlinewidth": 0,
             "ticks": ""
            },
            "type": "mesh3d"
           }
          ],
          "parcoords": [
           {
            "line": {
             "colorbar": {
              "outlinewidth": 0,
              "ticks": ""
             }
            },
            "type": "parcoords"
           }
          ],
          "pie": [
           {
            "automargin": true,
            "type": "pie"
           }
          ],
          "scatter": [
           {
            "marker": {
             "colorbar": {
              "outlinewidth": 0,
              "ticks": ""
             }
            },
            "type": "scatter"
           }
          ],
          "scatter3d": [
           {
            "line": {
             "colorbar": {
              "outlinewidth": 0,
              "ticks": ""
             }
            },
            "marker": {
             "colorbar": {
              "outlinewidth": 0,
              "ticks": ""
             }
            },
            "type": "scatter3d"
           }
          ],
          "scattercarpet": [
           {
            "marker": {
             "colorbar": {
              "outlinewidth": 0,
              "ticks": ""
             }
            },
            "type": "scattercarpet"
           }
          ],
          "scattergeo": [
           {
            "marker": {
             "colorbar": {
              "outlinewidth": 0,
              "ticks": ""
             }
            },
            "type": "scattergeo"
           }
          ],
          "scattergl": [
           {
            "marker": {
             "colorbar": {
              "outlinewidth": 0,
              "ticks": ""
             }
            },
            "type": "scattergl"
           }
          ],
          "scattermapbox": [
           {
            "marker": {
             "colorbar": {
              "outlinewidth": 0,
              "ticks": ""
             }
            },
            "type": "scattermapbox"
           }
          ],
          "scatterpolar": [
           {
            "marker": {
             "colorbar": {
              "outlinewidth": 0,
              "ticks": ""
             }
            },
            "type": "scatterpolar"
           }
          ],
          "scatterpolargl": [
           {
            "marker": {
             "colorbar": {
              "outlinewidth": 0,
              "ticks": ""
             }
            },
            "type": "scatterpolargl"
           }
          ],
          "scatterternary": [
           {
            "marker": {
             "colorbar": {
              "outlinewidth": 0,
              "ticks": ""
             }
            },
            "type": "scatterternary"
           }
          ],
          "surface": [
           {
            "colorbar": {
             "outlinewidth": 0,
             "ticks": ""
            },
            "colorscale": [
             [
              0,
              "#0d0887"
             ],
             [
              0.1111111111111111,
              "#46039f"
             ],
             [
              0.2222222222222222,
              "#7201a8"
             ],
             [
              0.3333333333333333,
              "#9c179e"
             ],
             [
              0.4444444444444444,
              "#bd3786"
             ],
             [
              0.5555555555555556,
              "#d8576b"
             ],
             [
              0.6666666666666666,
              "#ed7953"
             ],
             [
              0.7777777777777778,
              "#fb9f3a"
             ],
             [
              0.8888888888888888,
              "#fdca26"
             ],
             [
              1,
              "#f0f921"
             ]
            ],
            "type": "surface"
           }
          ],
          "table": [
           {
            "cells": {
             "fill": {
              "color": "#EBF0F8"
             },
             "line": {
              "color": "white"
             }
            },
            "header": {
             "fill": {
              "color": "#C8D4E3"
             },
             "line": {
              "color": "white"
             }
            },
            "type": "table"
           }
          ]
         },
         "layout": {
          "annotationdefaults": {
           "arrowcolor": "#2a3f5f",
           "arrowhead": 0,
           "arrowwidth": 1
          },
          "autotypenumbers": "strict",
          "coloraxis": {
           "colorbar": {
            "outlinewidth": 0,
            "ticks": ""
           }
          },
          "colorscale": {
           "diverging": [
            [
             0,
             "#8e0152"
            ],
            [
             0.1,
             "#c51b7d"
            ],
            [
             0.2,
             "#de77ae"
            ],
            [
             0.3,
             "#f1b6da"
            ],
            [
             0.4,
             "#fde0ef"
            ],
            [
             0.5,
             "#f7f7f7"
            ],
            [
             0.6,
             "#e6f5d0"
            ],
            [
             0.7,
             "#b8e186"
            ],
            [
             0.8,
             "#7fbc41"
            ],
            [
             0.9,
             "#4d9221"
            ],
            [
             1,
             "#276419"
            ]
           ],
           "sequential": [
            [
             0,
             "#0d0887"
            ],
            [
             0.1111111111111111,
             "#46039f"
            ],
            [
             0.2222222222222222,
             "#7201a8"
            ],
            [
             0.3333333333333333,
             "#9c179e"
            ],
            [
             0.4444444444444444,
             "#bd3786"
            ],
            [
             0.5555555555555556,
             "#d8576b"
            ],
            [
             0.6666666666666666,
             "#ed7953"
            ],
            [
             0.7777777777777778,
             "#fb9f3a"
            ],
            [
             0.8888888888888888,
             "#fdca26"
            ],
            [
             1,
             "#f0f921"
            ]
           ],
           "sequentialminus": [
            [
             0,
             "#0d0887"
            ],
            [
             0.1111111111111111,
             "#46039f"
            ],
            [
             0.2222222222222222,
             "#7201a8"
            ],
            [
             0.3333333333333333,
             "#9c179e"
            ],
            [
             0.4444444444444444,
             "#bd3786"
            ],
            [
             0.5555555555555556,
             "#d8576b"
            ],
            [
             0.6666666666666666,
             "#ed7953"
            ],
            [
             0.7777777777777778,
             "#fb9f3a"
            ],
            [
             0.8888888888888888,
             "#fdca26"
            ],
            [
             1,
             "#f0f921"
            ]
           ]
          },
          "colorway": [
           "#636efa",
           "#EF553B",
           "#00cc96",
           "#ab63fa",
           "#FFA15A",
           "#19d3f3",
           "#FF6692",
           "#B6E880",
           "#FF97FF",
           "#FECB52"
          ],
          "font": {
           "color": "#2a3f5f"
          },
          "geo": {
           "bgcolor": "white",
           "lakecolor": "white",
           "landcolor": "#E5ECF6",
           "showlakes": true,
           "showland": true,
           "subunitcolor": "white"
          },
          "hoverlabel": {
           "align": "left"
          },
          "hovermode": "closest",
          "mapbox": {
           "style": "light"
          },
          "paper_bgcolor": "white",
          "plot_bgcolor": "#E5ECF6",
          "polar": {
           "angularaxis": {
            "gridcolor": "white",
            "linecolor": "white",
            "ticks": ""
           },
           "bgcolor": "#E5ECF6",
           "radialaxis": {
            "gridcolor": "white",
            "linecolor": "white",
            "ticks": ""
           }
          },
          "scene": {
           "xaxis": {
            "backgroundcolor": "#E5ECF6",
            "gridcolor": "white",
            "gridwidth": 2,
            "linecolor": "white",
            "showbackground": true,
            "ticks": "",
            "zerolinecolor": "white"
           },
           "yaxis": {
            "backgroundcolor": "#E5ECF6",
            "gridcolor": "white",
            "gridwidth": 2,
            "linecolor": "white",
            "showbackground": true,
            "ticks": "",
            "zerolinecolor": "white"
           },
           "zaxis": {
            "backgroundcolor": "#E5ECF6",
            "gridcolor": "white",
            "gridwidth": 2,
            "linecolor": "white",
            "showbackground": true,
            "ticks": "",
            "zerolinecolor": "white"
           }
          },
          "shapedefaults": {
           "line": {
            "color": "#2a3f5f"
           }
          },
          "ternary": {
           "aaxis": {
            "gridcolor": "white",
            "linecolor": "white",
            "ticks": ""
           },
           "baxis": {
            "gridcolor": "white",
            "linecolor": "white",
            "ticks": ""
           },
           "bgcolor": "#E5ECF6",
           "caxis": {
            "gridcolor": "white",
            "linecolor": "white",
            "ticks": ""
           }
          },
          "title": {
           "x": 0.05
          },
          "xaxis": {
           "automargin": true,
           "gridcolor": "white",
           "linecolor": "white",
           "ticks": "",
           "title": {
            "standoff": 15
           },
           "zerolinecolor": "white",
           "zerolinewidth": 2
          },
          "yaxis": {
           "automargin": true,
           "gridcolor": "white",
           "linecolor": "white",
           "ticks": "",
           "title": {
            "standoff": 15
           },
           "zerolinecolor": "white",
           "zerolinewidth": 2
          }
         }
        },
        "title": {
         "text": "proportion of seat amount of non-chained establishments"
        }
       }
      },
      "text/html": [
       "<div>                            <div id=\"7a269544-2d87-4cb1-a167-fb46b768105b\" class=\"plotly-graph-div\" style=\"height:525px; width:100%;\"></div>            <script type=\"text/javascript\">                require([\"plotly\"], function(Plotly) {                    window.PLOTLYENV=window.PLOTLYENV || {};                                    if (document.getElementById(\"7a269544-2d87-4cb1-a167-fb46b768105b\")) {                    Plotly.newPlot(                        \"7a269544-2d87-4cb1-a167-fb46b768105b\",                        [{\"domain\":{\"x\":[0.0,1.0],\"y\":[0.0,1.0]},\"hovertemplate\":\"type=%{label}<br>count=%{value}<extra></extra>\",\"labels\":[\"medium\",\"big\",\"small\"],\"legendgroup\":\"\",\"name\":\"\",\"showlegend\":true,\"type\":\"pie\",\"values\":[2201,2110,1661]}],                        {\"legend\":{\"font\":{\"size\":16},\"itemwidth\":50,\"tracegroupgap\":0},\"template\":{\"data\":{\"bar\":[{\"error_x\":{\"color\":\"#2a3f5f\"},\"error_y\":{\"color\":\"#2a3f5f\"},\"marker\":{\"line\":{\"color\":\"#E5ECF6\",\"width\":0.5},\"pattern\":{\"fillmode\":\"overlay\",\"size\":10,\"solidity\":0.2}},\"type\":\"bar\"}],\"barpolar\":[{\"marker\":{\"line\":{\"color\":\"#E5ECF6\",\"width\":0.5},\"pattern\":{\"fillmode\":\"overlay\",\"size\":10,\"solidity\":0.2}},\"type\":\"barpolar\"}],\"carpet\":[{\"aaxis\":{\"endlinecolor\":\"#2a3f5f\",\"gridcolor\":\"white\",\"linecolor\":\"white\",\"minorgridcolor\":\"white\",\"startlinecolor\":\"#2a3f5f\"},\"baxis\":{\"endlinecolor\":\"#2a3f5f\",\"gridcolor\":\"white\",\"linecolor\":\"white\",\"minorgridcolor\":\"white\",\"startlinecolor\":\"#2a3f5f\"},\"type\":\"carpet\"}],\"choropleth\":[{\"colorbar\":{\"outlinewidth\":0,\"ticks\":\"\"},\"type\":\"choropleth\"}],\"contour\":[{\"colorbar\":{\"outlinewidth\":0,\"ticks\":\"\"},\"colorscale\":[[0.0,\"#0d0887\"],[0.1111111111111111,\"#46039f\"],[0.2222222222222222,\"#7201a8\"],[0.3333333333333333,\"#9c179e\"],[0.4444444444444444,\"#bd3786\"],[0.5555555555555556,\"#d8576b\"],[0.6666666666666666,\"#ed7953\"],[0.7777777777777778,\"#fb9f3a\"],[0.8888888888888888,\"#fdca26\"],[1.0,\"#f0f921\"]],\"type\":\"contour\"}],\"contourcarpet\":[{\"colorbar\":{\"outlinewidth\":0,\"ticks\":\"\"},\"type\":\"contourcarpet\"}],\"heatmap\":[{\"colorbar\":{\"outlinewidth\":0,\"ticks\":\"\"},\"colorscale\":[[0.0,\"#0d0887\"],[0.1111111111111111,\"#46039f\"],[0.2222222222222222,\"#7201a8\"],[0.3333333333333333,\"#9c179e\"],[0.4444444444444444,\"#bd3786\"],[0.5555555555555556,\"#d8576b\"],[0.6666666666666666,\"#ed7953\"],[0.7777777777777778,\"#fb9f3a\"],[0.8888888888888888,\"#fdca26\"],[1.0,\"#f0f921\"]],\"type\":\"heatmap\"}],\"heatmapgl\":[{\"colorbar\":{\"outlinewidth\":0,\"ticks\":\"\"},\"colorscale\":[[0.0,\"#0d0887\"],[0.1111111111111111,\"#46039f\"],[0.2222222222222222,\"#7201a8\"],[0.3333333333333333,\"#9c179e\"],[0.4444444444444444,\"#bd3786\"],[0.5555555555555556,\"#d8576b\"],[0.6666666666666666,\"#ed7953\"],[0.7777777777777778,\"#fb9f3a\"],[0.8888888888888888,\"#fdca26\"],[1.0,\"#f0f921\"]],\"type\":\"heatmapgl\"}],\"histogram\":[{\"marker\":{\"pattern\":{\"fillmode\":\"overlay\",\"size\":10,\"solidity\":0.2}},\"type\":\"histogram\"}],\"histogram2d\":[{\"colorbar\":{\"outlinewidth\":0,\"ticks\":\"\"},\"colorscale\":[[0.0,\"#0d0887\"],[0.1111111111111111,\"#46039f\"],[0.2222222222222222,\"#7201a8\"],[0.3333333333333333,\"#9c179e\"],[0.4444444444444444,\"#bd3786\"],[0.5555555555555556,\"#d8576b\"],[0.6666666666666666,\"#ed7953\"],[0.7777777777777778,\"#fb9f3a\"],[0.8888888888888888,\"#fdca26\"],[1.0,\"#f0f921\"]],\"type\":\"histogram2d\"}],\"histogram2dcontour\":[{\"colorbar\":{\"outlinewidth\":0,\"ticks\":\"\"},\"colorscale\":[[0.0,\"#0d0887\"],[0.1111111111111111,\"#46039f\"],[0.2222222222222222,\"#7201a8\"],[0.3333333333333333,\"#9c179e\"],[0.4444444444444444,\"#bd3786\"],[0.5555555555555556,\"#d8576b\"],[0.6666666666666666,\"#ed7953\"],[0.7777777777777778,\"#fb9f3a\"],[0.8888888888888888,\"#fdca26\"],[1.0,\"#f0f921\"]],\"type\":\"histogram2dcontour\"}],\"mesh3d\":[{\"colorbar\":{\"outlinewidth\":0,\"ticks\":\"\"},\"type\":\"mesh3d\"}],\"parcoords\":[{\"line\":{\"colorbar\":{\"outlinewidth\":0,\"ticks\":\"\"}},\"type\":\"parcoords\"}],\"pie\":[{\"automargin\":true,\"type\":\"pie\"}],\"scatter\":[{\"marker\":{\"colorbar\":{\"outlinewidth\":0,\"ticks\":\"\"}},\"type\":\"scatter\"}],\"scatter3d\":[{\"line\":{\"colorbar\":{\"outlinewidth\":0,\"ticks\":\"\"}},\"marker\":{\"colorbar\":{\"outlinewidth\":0,\"ticks\":\"\"}},\"type\":\"scatter3d\"}],\"scattercarpet\":[{\"marker\":{\"colorbar\":{\"outlinewidth\":0,\"ticks\":\"\"}},\"type\":\"scattercarpet\"}],\"scattergeo\":[{\"marker\":{\"colorbar\":{\"outlinewidth\":0,\"ticks\":\"\"}},\"type\":\"scattergeo\"}],\"scattergl\":[{\"marker\":{\"colorbar\":{\"outlinewidth\":0,\"ticks\":\"\"}},\"type\":\"scattergl\"}],\"scattermapbox\":[{\"marker\":{\"colorbar\":{\"outlinewidth\":0,\"ticks\":\"\"}},\"type\":\"scattermapbox\"}],\"scatterpolar\":[{\"marker\":{\"colorbar\":{\"outlinewidth\":0,\"ticks\":\"\"}},\"type\":\"scatterpolar\"}],\"scatterpolargl\":[{\"marker\":{\"colorbar\":{\"outlinewidth\":0,\"ticks\":\"\"}},\"type\":\"scatterpolargl\"}],\"scatterternary\":[{\"marker\":{\"colorbar\":{\"outlinewidth\":0,\"ticks\":\"\"}},\"type\":\"scatterternary\"}],\"surface\":[{\"colorbar\":{\"outlinewidth\":0,\"ticks\":\"\"},\"colorscale\":[[0.0,\"#0d0887\"],[0.1111111111111111,\"#46039f\"],[0.2222222222222222,\"#7201a8\"],[0.3333333333333333,\"#9c179e\"],[0.4444444444444444,\"#bd3786\"],[0.5555555555555556,\"#d8576b\"],[0.6666666666666666,\"#ed7953\"],[0.7777777777777778,\"#fb9f3a\"],[0.8888888888888888,\"#fdca26\"],[1.0,\"#f0f921\"]],\"type\":\"surface\"}],\"table\":[{\"cells\":{\"fill\":{\"color\":\"#EBF0F8\"},\"line\":{\"color\":\"white\"}},\"header\":{\"fill\":{\"color\":\"#C8D4E3\"},\"line\":{\"color\":\"white\"}},\"type\":\"table\"}]},\"layout\":{\"annotationdefaults\":{\"arrowcolor\":\"#2a3f5f\",\"arrowhead\":0,\"arrowwidth\":1},\"autotypenumbers\":\"strict\",\"coloraxis\":{\"colorbar\":{\"outlinewidth\":0,\"ticks\":\"\"}},\"colorscale\":{\"diverging\":[[0,\"#8e0152\"],[0.1,\"#c51b7d\"],[0.2,\"#de77ae\"],[0.3,\"#f1b6da\"],[0.4,\"#fde0ef\"],[0.5,\"#f7f7f7\"],[0.6,\"#e6f5d0\"],[0.7,\"#b8e186\"],[0.8,\"#7fbc41\"],[0.9,\"#4d9221\"],[1,\"#276419\"]],\"sequential\":[[0.0,\"#0d0887\"],[0.1111111111111111,\"#46039f\"],[0.2222222222222222,\"#7201a8\"],[0.3333333333333333,\"#9c179e\"],[0.4444444444444444,\"#bd3786\"],[0.5555555555555556,\"#d8576b\"],[0.6666666666666666,\"#ed7953\"],[0.7777777777777778,\"#fb9f3a\"],[0.8888888888888888,\"#fdca26\"],[1.0,\"#f0f921\"]],\"sequentialminus\":[[0.0,\"#0d0887\"],[0.1111111111111111,\"#46039f\"],[0.2222222222222222,\"#7201a8\"],[0.3333333333333333,\"#9c179e\"],[0.4444444444444444,\"#bd3786\"],[0.5555555555555556,\"#d8576b\"],[0.6666666666666666,\"#ed7953\"],[0.7777777777777778,\"#fb9f3a\"],[0.8888888888888888,\"#fdca26\"],[1.0,\"#f0f921\"]]},\"colorway\":[\"#636efa\",\"#EF553B\",\"#00cc96\",\"#ab63fa\",\"#FFA15A\",\"#19d3f3\",\"#FF6692\",\"#B6E880\",\"#FF97FF\",\"#FECB52\"],\"font\":{\"color\":\"#2a3f5f\"},\"geo\":{\"bgcolor\":\"white\",\"lakecolor\":\"white\",\"landcolor\":\"#E5ECF6\",\"showlakes\":true,\"showland\":true,\"subunitcolor\":\"white\"},\"hoverlabel\":{\"align\":\"left\"},\"hovermode\":\"closest\",\"mapbox\":{\"style\":\"light\"},\"paper_bgcolor\":\"white\",\"plot_bgcolor\":\"#E5ECF6\",\"polar\":{\"angularaxis\":{\"gridcolor\":\"white\",\"linecolor\":\"white\",\"ticks\":\"\"},\"bgcolor\":\"#E5ECF6\",\"radialaxis\":{\"gridcolor\":\"white\",\"linecolor\":\"white\",\"ticks\":\"\"}},\"scene\":{\"xaxis\":{\"backgroundcolor\":\"#E5ECF6\",\"gridcolor\":\"white\",\"gridwidth\":2,\"linecolor\":\"white\",\"showbackground\":true,\"ticks\":\"\",\"zerolinecolor\":\"white\"},\"yaxis\":{\"backgroundcolor\":\"#E5ECF6\",\"gridcolor\":\"white\",\"gridwidth\":2,\"linecolor\":\"white\",\"showbackground\":true,\"ticks\":\"\",\"zerolinecolor\":\"white\"},\"zaxis\":{\"backgroundcolor\":\"#E5ECF6\",\"gridcolor\":\"white\",\"gridwidth\":2,\"linecolor\":\"white\",\"showbackground\":true,\"ticks\":\"\",\"zerolinecolor\":\"white\"}},\"shapedefaults\":{\"line\":{\"color\":\"#2a3f5f\"}},\"ternary\":{\"aaxis\":{\"gridcolor\":\"white\",\"linecolor\":\"white\",\"ticks\":\"\"},\"baxis\":{\"gridcolor\":\"white\",\"linecolor\":\"white\",\"ticks\":\"\"},\"bgcolor\":\"#E5ECF6\",\"caxis\":{\"gridcolor\":\"white\",\"linecolor\":\"white\",\"ticks\":\"\"}},\"title\":{\"x\":0.05},\"xaxis\":{\"automargin\":true,\"gridcolor\":\"white\",\"linecolor\":\"white\",\"ticks\":\"\",\"title\":{\"standoff\":15},\"zerolinecolor\":\"white\",\"zerolinewidth\":2},\"yaxis\":{\"automargin\":true,\"gridcolor\":\"white\",\"linecolor\":\"white\",\"ticks\":\"\",\"title\":{\"standoff\":15},\"zerolinecolor\":\"white\",\"zerolinewidth\":2}}},\"title\":{\"text\":\"proportion of seat amount of non-chained establishments\"}},                        {\"responsive\": true}                    ).then(function(){\n",
       "                            \n",
       "var gd = document.getElementById('7a269544-2d87-4cb1-a167-fb46b768105b');\n",
       "var x = new MutationObserver(function (mutations, observer) {{\n",
       "        var display = window.getComputedStyle(gd).display;\n",
       "        if (!display || display === 'none') {{\n",
       "            console.log([gd, 'removed!']);\n",
       "            Plotly.purge(gd);\n",
       "            observer.disconnect();\n",
       "        }}\n",
       "}});\n",
       "\n",
       "// Listen for the removal of the full notebook cells\n",
       "var notebookContainer = gd.closest('#notebook-container');\n",
       "if (notebookContainer) {{\n",
       "    x.observe(notebookContainer, {childList: true});\n",
       "}}\n",
       "\n",
       "// Listen for the clearing of the current output cell\n",
       "var outputEl = gd.closest('.output');\n",
       "if (outputEl) {{\n",
       "    x.observe(outputEl, {childList: true});\n",
       "}}\n",
       "\n",
       "                        })                };                });            </script>        </div>"
      ]
     },
     "metadata": {},
     "output_type": "display_data"
    }
   ],
   "source": [
    "# lets check the proportion of the seat number in the chain establishments and lets compare it to the general.\n",
    "count_seats = rest_data[rest_data['chain']==False].value_counts('seats_propertion').reset_index()\n",
    "count_seats.columns = [\"type\",\"count\"]\n",
    "figure = px.pie(count_seats,values=\"count\",names=\"type\",title=\"proportion of seat amount of non-chained establishments\")\n",
    "figure.update_layout(legend_itemwidth=50,legend_font_size=16)\n",
    "figure.show()"
   ]
  },
  {
   "cell_type": "code",
   "execution_count": 34,
   "id": "7146b3e1",
   "metadata": {
    "ExecuteTime": {
     "end_time": "2021-12-09T16:45:40.505648Z",
     "start_time": "2021-12-09T16:45:40.446833Z"
    }
   },
   "outputs": [
    {
     "data": {
      "application/vnd.plotly.v1+json": {
       "config": {
        "plotlyServerURL": "https://plot.ly"
       },
       "data": [
        {
         "domain": {
          "x": [
           0,
           1
          ],
          "y": [
           0,
           1
          ]
         },
         "hovertemplate": "type=%{label}<br>count=%{value}<extra></extra>",
         "labels": [
          "medium",
          "big",
          "small"
         ],
         "legendgroup": "",
         "name": "",
         "showlegend": true,
         "type": "pie",
         "values": [
          1445,
          1131,
          1100
         ]
        }
       ],
       "layout": {
        "legend": {
         "font": {
          "size": 16
         },
         "itemwidth": 50,
         "tracegroupgap": 0
        },
        "template": {
         "data": {
          "bar": [
           {
            "error_x": {
             "color": "#2a3f5f"
            },
            "error_y": {
             "color": "#2a3f5f"
            },
            "marker": {
             "line": {
              "color": "#E5ECF6",
              "width": 0.5
             },
             "pattern": {
              "fillmode": "overlay",
              "size": 10,
              "solidity": 0.2
             }
            },
            "type": "bar"
           }
          ],
          "barpolar": [
           {
            "marker": {
             "line": {
              "color": "#E5ECF6",
              "width": 0.5
             },
             "pattern": {
              "fillmode": "overlay",
              "size": 10,
              "solidity": 0.2
             }
            },
            "type": "barpolar"
           }
          ],
          "carpet": [
           {
            "aaxis": {
             "endlinecolor": "#2a3f5f",
             "gridcolor": "white",
             "linecolor": "white",
             "minorgridcolor": "white",
             "startlinecolor": "#2a3f5f"
            },
            "baxis": {
             "endlinecolor": "#2a3f5f",
             "gridcolor": "white",
             "linecolor": "white",
             "minorgridcolor": "white",
             "startlinecolor": "#2a3f5f"
            },
            "type": "carpet"
           }
          ],
          "choropleth": [
           {
            "colorbar": {
             "outlinewidth": 0,
             "ticks": ""
            },
            "type": "choropleth"
           }
          ],
          "contour": [
           {
            "colorbar": {
             "outlinewidth": 0,
             "ticks": ""
            },
            "colorscale": [
             [
              0,
              "#0d0887"
             ],
             [
              0.1111111111111111,
              "#46039f"
             ],
             [
              0.2222222222222222,
              "#7201a8"
             ],
             [
              0.3333333333333333,
              "#9c179e"
             ],
             [
              0.4444444444444444,
              "#bd3786"
             ],
             [
              0.5555555555555556,
              "#d8576b"
             ],
             [
              0.6666666666666666,
              "#ed7953"
             ],
             [
              0.7777777777777778,
              "#fb9f3a"
             ],
             [
              0.8888888888888888,
              "#fdca26"
             ],
             [
              1,
              "#f0f921"
             ]
            ],
            "type": "contour"
           }
          ],
          "contourcarpet": [
           {
            "colorbar": {
             "outlinewidth": 0,
             "ticks": ""
            },
            "type": "contourcarpet"
           }
          ],
          "heatmap": [
           {
            "colorbar": {
             "outlinewidth": 0,
             "ticks": ""
            },
            "colorscale": [
             [
              0,
              "#0d0887"
             ],
             [
              0.1111111111111111,
              "#46039f"
             ],
             [
              0.2222222222222222,
              "#7201a8"
             ],
             [
              0.3333333333333333,
              "#9c179e"
             ],
             [
              0.4444444444444444,
              "#bd3786"
             ],
             [
              0.5555555555555556,
              "#d8576b"
             ],
             [
              0.6666666666666666,
              "#ed7953"
             ],
             [
              0.7777777777777778,
              "#fb9f3a"
             ],
             [
              0.8888888888888888,
              "#fdca26"
             ],
             [
              1,
              "#f0f921"
             ]
            ],
            "type": "heatmap"
           }
          ],
          "heatmapgl": [
           {
            "colorbar": {
             "outlinewidth": 0,
             "ticks": ""
            },
            "colorscale": [
             [
              0,
              "#0d0887"
             ],
             [
              0.1111111111111111,
              "#46039f"
             ],
             [
              0.2222222222222222,
              "#7201a8"
             ],
             [
              0.3333333333333333,
              "#9c179e"
             ],
             [
              0.4444444444444444,
              "#bd3786"
             ],
             [
              0.5555555555555556,
              "#d8576b"
             ],
             [
              0.6666666666666666,
              "#ed7953"
             ],
             [
              0.7777777777777778,
              "#fb9f3a"
             ],
             [
              0.8888888888888888,
              "#fdca26"
             ],
             [
              1,
              "#f0f921"
             ]
            ],
            "type": "heatmapgl"
           }
          ],
          "histogram": [
           {
            "marker": {
             "pattern": {
              "fillmode": "overlay",
              "size": 10,
              "solidity": 0.2
             }
            },
            "type": "histogram"
           }
          ],
          "histogram2d": [
           {
            "colorbar": {
             "outlinewidth": 0,
             "ticks": ""
            },
            "colorscale": [
             [
              0,
              "#0d0887"
             ],
             [
              0.1111111111111111,
              "#46039f"
             ],
             [
              0.2222222222222222,
              "#7201a8"
             ],
             [
              0.3333333333333333,
              "#9c179e"
             ],
             [
              0.4444444444444444,
              "#bd3786"
             ],
             [
              0.5555555555555556,
              "#d8576b"
             ],
             [
              0.6666666666666666,
              "#ed7953"
             ],
             [
              0.7777777777777778,
              "#fb9f3a"
             ],
             [
              0.8888888888888888,
              "#fdca26"
             ],
             [
              1,
              "#f0f921"
             ]
            ],
            "type": "histogram2d"
           }
          ],
          "histogram2dcontour": [
           {
            "colorbar": {
             "outlinewidth": 0,
             "ticks": ""
            },
            "colorscale": [
             [
              0,
              "#0d0887"
             ],
             [
              0.1111111111111111,
              "#46039f"
             ],
             [
              0.2222222222222222,
              "#7201a8"
             ],
             [
              0.3333333333333333,
              "#9c179e"
             ],
             [
              0.4444444444444444,
              "#bd3786"
             ],
             [
              0.5555555555555556,
              "#d8576b"
             ],
             [
              0.6666666666666666,
              "#ed7953"
             ],
             [
              0.7777777777777778,
              "#fb9f3a"
             ],
             [
              0.8888888888888888,
              "#fdca26"
             ],
             [
              1,
              "#f0f921"
             ]
            ],
            "type": "histogram2dcontour"
           }
          ],
          "mesh3d": [
           {
            "colorbar": {
             "outlinewidth": 0,
             "ticks": ""
            },
            "type": "mesh3d"
           }
          ],
          "parcoords": [
           {
            "line": {
             "colorbar": {
              "outlinewidth": 0,
              "ticks": ""
             }
            },
            "type": "parcoords"
           }
          ],
          "pie": [
           {
            "automargin": true,
            "type": "pie"
           }
          ],
          "scatter": [
           {
            "marker": {
             "colorbar": {
              "outlinewidth": 0,
              "ticks": ""
             }
            },
            "type": "scatter"
           }
          ],
          "scatter3d": [
           {
            "line": {
             "colorbar": {
              "outlinewidth": 0,
              "ticks": ""
             }
            },
            "marker": {
             "colorbar": {
              "outlinewidth": 0,
              "ticks": ""
             }
            },
            "type": "scatter3d"
           }
          ],
          "scattercarpet": [
           {
            "marker": {
             "colorbar": {
              "outlinewidth": 0,
              "ticks": ""
             }
            },
            "type": "scattercarpet"
           }
          ],
          "scattergeo": [
           {
            "marker": {
             "colorbar": {
              "outlinewidth": 0,
              "ticks": ""
             }
            },
            "type": "scattergeo"
           }
          ],
          "scattergl": [
           {
            "marker": {
             "colorbar": {
              "outlinewidth": 0,
              "ticks": ""
             }
            },
            "type": "scattergl"
           }
          ],
          "scattermapbox": [
           {
            "marker": {
             "colorbar": {
              "outlinewidth": 0,
              "ticks": ""
             }
            },
            "type": "scattermapbox"
           }
          ],
          "scatterpolar": [
           {
            "marker": {
             "colorbar": {
              "outlinewidth": 0,
              "ticks": ""
             }
            },
            "type": "scatterpolar"
           }
          ],
          "scatterpolargl": [
           {
            "marker": {
             "colorbar": {
              "outlinewidth": 0,
              "ticks": ""
             }
            },
            "type": "scatterpolargl"
           }
          ],
          "scatterternary": [
           {
            "marker": {
             "colorbar": {
              "outlinewidth": 0,
              "ticks": ""
             }
            },
            "type": "scatterternary"
           }
          ],
          "surface": [
           {
            "colorbar": {
             "outlinewidth": 0,
             "ticks": ""
            },
            "colorscale": [
             [
              0,
              "#0d0887"
             ],
             [
              0.1111111111111111,
              "#46039f"
             ],
             [
              0.2222222222222222,
              "#7201a8"
             ],
             [
              0.3333333333333333,
              "#9c179e"
             ],
             [
              0.4444444444444444,
              "#bd3786"
             ],
             [
              0.5555555555555556,
              "#d8576b"
             ],
             [
              0.6666666666666666,
              "#ed7953"
             ],
             [
              0.7777777777777778,
              "#fb9f3a"
             ],
             [
              0.8888888888888888,
              "#fdca26"
             ],
             [
              1,
              "#f0f921"
             ]
            ],
            "type": "surface"
           }
          ],
          "table": [
           {
            "cells": {
             "fill": {
              "color": "#EBF0F8"
             },
             "line": {
              "color": "white"
             }
            },
            "header": {
             "fill": {
              "color": "#C8D4E3"
             },
             "line": {
              "color": "white"
             }
            },
            "type": "table"
           }
          ]
         },
         "layout": {
          "annotationdefaults": {
           "arrowcolor": "#2a3f5f",
           "arrowhead": 0,
           "arrowwidth": 1
          },
          "autotypenumbers": "strict",
          "coloraxis": {
           "colorbar": {
            "outlinewidth": 0,
            "ticks": ""
           }
          },
          "colorscale": {
           "diverging": [
            [
             0,
             "#8e0152"
            ],
            [
             0.1,
             "#c51b7d"
            ],
            [
             0.2,
             "#de77ae"
            ],
            [
             0.3,
             "#f1b6da"
            ],
            [
             0.4,
             "#fde0ef"
            ],
            [
             0.5,
             "#f7f7f7"
            ],
            [
             0.6,
             "#e6f5d0"
            ],
            [
             0.7,
             "#b8e186"
            ],
            [
             0.8,
             "#7fbc41"
            ],
            [
             0.9,
             "#4d9221"
            ],
            [
             1,
             "#276419"
            ]
           ],
           "sequential": [
            [
             0,
             "#0d0887"
            ],
            [
             0.1111111111111111,
             "#46039f"
            ],
            [
             0.2222222222222222,
             "#7201a8"
            ],
            [
             0.3333333333333333,
             "#9c179e"
            ],
            [
             0.4444444444444444,
             "#bd3786"
            ],
            [
             0.5555555555555556,
             "#d8576b"
            ],
            [
             0.6666666666666666,
             "#ed7953"
            ],
            [
             0.7777777777777778,
             "#fb9f3a"
            ],
            [
             0.8888888888888888,
             "#fdca26"
            ],
            [
             1,
             "#f0f921"
            ]
           ],
           "sequentialminus": [
            [
             0,
             "#0d0887"
            ],
            [
             0.1111111111111111,
             "#46039f"
            ],
            [
             0.2222222222222222,
             "#7201a8"
            ],
            [
             0.3333333333333333,
             "#9c179e"
            ],
            [
             0.4444444444444444,
             "#bd3786"
            ],
            [
             0.5555555555555556,
             "#d8576b"
            ],
            [
             0.6666666666666666,
             "#ed7953"
            ],
            [
             0.7777777777777778,
             "#fb9f3a"
            ],
            [
             0.8888888888888888,
             "#fdca26"
            ],
            [
             1,
             "#f0f921"
            ]
           ]
          },
          "colorway": [
           "#636efa",
           "#EF553B",
           "#00cc96",
           "#ab63fa",
           "#FFA15A",
           "#19d3f3",
           "#FF6692",
           "#B6E880",
           "#FF97FF",
           "#FECB52"
          ],
          "font": {
           "color": "#2a3f5f"
          },
          "geo": {
           "bgcolor": "white",
           "lakecolor": "white",
           "landcolor": "#E5ECF6",
           "showlakes": true,
           "showland": true,
           "subunitcolor": "white"
          },
          "hoverlabel": {
           "align": "left"
          },
          "hovermode": "closest",
          "mapbox": {
           "style": "light"
          },
          "paper_bgcolor": "white",
          "plot_bgcolor": "#E5ECF6",
          "polar": {
           "angularaxis": {
            "gridcolor": "white",
            "linecolor": "white",
            "ticks": ""
           },
           "bgcolor": "#E5ECF6",
           "radialaxis": {
            "gridcolor": "white",
            "linecolor": "white",
            "ticks": ""
           }
          },
          "scene": {
           "xaxis": {
            "backgroundcolor": "#E5ECF6",
            "gridcolor": "white",
            "gridwidth": 2,
            "linecolor": "white",
            "showbackground": true,
            "ticks": "",
            "zerolinecolor": "white"
           },
           "yaxis": {
            "backgroundcolor": "#E5ECF6",
            "gridcolor": "white",
            "gridwidth": 2,
            "linecolor": "white",
            "showbackground": true,
            "ticks": "",
            "zerolinecolor": "white"
           },
           "zaxis": {
            "backgroundcolor": "#E5ECF6",
            "gridcolor": "white",
            "gridwidth": 2,
            "linecolor": "white",
            "showbackground": true,
            "ticks": "",
            "zerolinecolor": "white"
           }
          },
          "shapedefaults": {
           "line": {
            "color": "#2a3f5f"
           }
          },
          "ternary": {
           "aaxis": {
            "gridcolor": "white",
            "linecolor": "white",
            "ticks": ""
           },
           "baxis": {
            "gridcolor": "white",
            "linecolor": "white",
            "ticks": ""
           },
           "bgcolor": "#E5ECF6",
           "caxis": {
            "gridcolor": "white",
            "linecolor": "white",
            "ticks": ""
           }
          },
          "title": {
           "x": 0.05
          },
          "xaxis": {
           "automargin": true,
           "gridcolor": "white",
           "linecolor": "white",
           "ticks": "",
           "title": {
            "standoff": 15
           },
           "zerolinecolor": "white",
           "zerolinewidth": 2
          },
          "yaxis": {
           "automargin": true,
           "gridcolor": "white",
           "linecolor": "white",
           "ticks": "",
           "title": {
            "standoff": 15
           },
           "zerolinecolor": "white",
           "zerolinewidth": 2
          }
         }
        },
        "title": {
         "text": "proportion of seat amount of chain establishments"
        }
       }
      },
      "text/html": [
       "<div>                            <div id=\"d08452bd-808d-4311-a4c5-449f933a3c3a\" class=\"plotly-graph-div\" style=\"height:525px; width:100%;\"></div>            <script type=\"text/javascript\">                require([\"plotly\"], function(Plotly) {                    window.PLOTLYENV=window.PLOTLYENV || {};                                    if (document.getElementById(\"d08452bd-808d-4311-a4c5-449f933a3c3a\")) {                    Plotly.newPlot(                        \"d08452bd-808d-4311-a4c5-449f933a3c3a\",                        [{\"domain\":{\"x\":[0.0,1.0],\"y\":[0.0,1.0]},\"hovertemplate\":\"type=%{label}<br>count=%{value}<extra></extra>\",\"labels\":[\"medium\",\"big\",\"small\"],\"legendgroup\":\"\",\"name\":\"\",\"showlegend\":true,\"type\":\"pie\",\"values\":[1445,1131,1100]}],                        {\"legend\":{\"font\":{\"size\":16},\"itemwidth\":50,\"tracegroupgap\":0},\"template\":{\"data\":{\"bar\":[{\"error_x\":{\"color\":\"#2a3f5f\"},\"error_y\":{\"color\":\"#2a3f5f\"},\"marker\":{\"line\":{\"color\":\"#E5ECF6\",\"width\":0.5},\"pattern\":{\"fillmode\":\"overlay\",\"size\":10,\"solidity\":0.2}},\"type\":\"bar\"}],\"barpolar\":[{\"marker\":{\"line\":{\"color\":\"#E5ECF6\",\"width\":0.5},\"pattern\":{\"fillmode\":\"overlay\",\"size\":10,\"solidity\":0.2}},\"type\":\"barpolar\"}],\"carpet\":[{\"aaxis\":{\"endlinecolor\":\"#2a3f5f\",\"gridcolor\":\"white\",\"linecolor\":\"white\",\"minorgridcolor\":\"white\",\"startlinecolor\":\"#2a3f5f\"},\"baxis\":{\"endlinecolor\":\"#2a3f5f\",\"gridcolor\":\"white\",\"linecolor\":\"white\",\"minorgridcolor\":\"white\",\"startlinecolor\":\"#2a3f5f\"},\"type\":\"carpet\"}],\"choropleth\":[{\"colorbar\":{\"outlinewidth\":0,\"ticks\":\"\"},\"type\":\"choropleth\"}],\"contour\":[{\"colorbar\":{\"outlinewidth\":0,\"ticks\":\"\"},\"colorscale\":[[0.0,\"#0d0887\"],[0.1111111111111111,\"#46039f\"],[0.2222222222222222,\"#7201a8\"],[0.3333333333333333,\"#9c179e\"],[0.4444444444444444,\"#bd3786\"],[0.5555555555555556,\"#d8576b\"],[0.6666666666666666,\"#ed7953\"],[0.7777777777777778,\"#fb9f3a\"],[0.8888888888888888,\"#fdca26\"],[1.0,\"#f0f921\"]],\"type\":\"contour\"}],\"contourcarpet\":[{\"colorbar\":{\"outlinewidth\":0,\"ticks\":\"\"},\"type\":\"contourcarpet\"}],\"heatmap\":[{\"colorbar\":{\"outlinewidth\":0,\"ticks\":\"\"},\"colorscale\":[[0.0,\"#0d0887\"],[0.1111111111111111,\"#46039f\"],[0.2222222222222222,\"#7201a8\"],[0.3333333333333333,\"#9c179e\"],[0.4444444444444444,\"#bd3786\"],[0.5555555555555556,\"#d8576b\"],[0.6666666666666666,\"#ed7953\"],[0.7777777777777778,\"#fb9f3a\"],[0.8888888888888888,\"#fdca26\"],[1.0,\"#f0f921\"]],\"type\":\"heatmap\"}],\"heatmapgl\":[{\"colorbar\":{\"outlinewidth\":0,\"ticks\":\"\"},\"colorscale\":[[0.0,\"#0d0887\"],[0.1111111111111111,\"#46039f\"],[0.2222222222222222,\"#7201a8\"],[0.3333333333333333,\"#9c179e\"],[0.4444444444444444,\"#bd3786\"],[0.5555555555555556,\"#d8576b\"],[0.6666666666666666,\"#ed7953\"],[0.7777777777777778,\"#fb9f3a\"],[0.8888888888888888,\"#fdca26\"],[1.0,\"#f0f921\"]],\"type\":\"heatmapgl\"}],\"histogram\":[{\"marker\":{\"pattern\":{\"fillmode\":\"overlay\",\"size\":10,\"solidity\":0.2}},\"type\":\"histogram\"}],\"histogram2d\":[{\"colorbar\":{\"outlinewidth\":0,\"ticks\":\"\"},\"colorscale\":[[0.0,\"#0d0887\"],[0.1111111111111111,\"#46039f\"],[0.2222222222222222,\"#7201a8\"],[0.3333333333333333,\"#9c179e\"],[0.4444444444444444,\"#bd3786\"],[0.5555555555555556,\"#d8576b\"],[0.6666666666666666,\"#ed7953\"],[0.7777777777777778,\"#fb9f3a\"],[0.8888888888888888,\"#fdca26\"],[1.0,\"#f0f921\"]],\"type\":\"histogram2d\"}],\"histogram2dcontour\":[{\"colorbar\":{\"outlinewidth\":0,\"ticks\":\"\"},\"colorscale\":[[0.0,\"#0d0887\"],[0.1111111111111111,\"#46039f\"],[0.2222222222222222,\"#7201a8\"],[0.3333333333333333,\"#9c179e\"],[0.4444444444444444,\"#bd3786\"],[0.5555555555555556,\"#d8576b\"],[0.6666666666666666,\"#ed7953\"],[0.7777777777777778,\"#fb9f3a\"],[0.8888888888888888,\"#fdca26\"],[1.0,\"#f0f921\"]],\"type\":\"histogram2dcontour\"}],\"mesh3d\":[{\"colorbar\":{\"outlinewidth\":0,\"ticks\":\"\"},\"type\":\"mesh3d\"}],\"parcoords\":[{\"line\":{\"colorbar\":{\"outlinewidth\":0,\"ticks\":\"\"}},\"type\":\"parcoords\"}],\"pie\":[{\"automargin\":true,\"type\":\"pie\"}],\"scatter\":[{\"marker\":{\"colorbar\":{\"outlinewidth\":0,\"ticks\":\"\"}},\"type\":\"scatter\"}],\"scatter3d\":[{\"line\":{\"colorbar\":{\"outlinewidth\":0,\"ticks\":\"\"}},\"marker\":{\"colorbar\":{\"outlinewidth\":0,\"ticks\":\"\"}},\"type\":\"scatter3d\"}],\"scattercarpet\":[{\"marker\":{\"colorbar\":{\"outlinewidth\":0,\"ticks\":\"\"}},\"type\":\"scattercarpet\"}],\"scattergeo\":[{\"marker\":{\"colorbar\":{\"outlinewidth\":0,\"ticks\":\"\"}},\"type\":\"scattergeo\"}],\"scattergl\":[{\"marker\":{\"colorbar\":{\"outlinewidth\":0,\"ticks\":\"\"}},\"type\":\"scattergl\"}],\"scattermapbox\":[{\"marker\":{\"colorbar\":{\"outlinewidth\":0,\"ticks\":\"\"}},\"type\":\"scattermapbox\"}],\"scatterpolar\":[{\"marker\":{\"colorbar\":{\"outlinewidth\":0,\"ticks\":\"\"}},\"type\":\"scatterpolar\"}],\"scatterpolargl\":[{\"marker\":{\"colorbar\":{\"outlinewidth\":0,\"ticks\":\"\"}},\"type\":\"scatterpolargl\"}],\"scatterternary\":[{\"marker\":{\"colorbar\":{\"outlinewidth\":0,\"ticks\":\"\"}},\"type\":\"scatterternary\"}],\"surface\":[{\"colorbar\":{\"outlinewidth\":0,\"ticks\":\"\"},\"colorscale\":[[0.0,\"#0d0887\"],[0.1111111111111111,\"#46039f\"],[0.2222222222222222,\"#7201a8\"],[0.3333333333333333,\"#9c179e\"],[0.4444444444444444,\"#bd3786\"],[0.5555555555555556,\"#d8576b\"],[0.6666666666666666,\"#ed7953\"],[0.7777777777777778,\"#fb9f3a\"],[0.8888888888888888,\"#fdca26\"],[1.0,\"#f0f921\"]],\"type\":\"surface\"}],\"table\":[{\"cells\":{\"fill\":{\"color\":\"#EBF0F8\"},\"line\":{\"color\":\"white\"}},\"header\":{\"fill\":{\"color\":\"#C8D4E3\"},\"line\":{\"color\":\"white\"}},\"type\":\"table\"}]},\"layout\":{\"annotationdefaults\":{\"arrowcolor\":\"#2a3f5f\",\"arrowhead\":0,\"arrowwidth\":1},\"autotypenumbers\":\"strict\",\"coloraxis\":{\"colorbar\":{\"outlinewidth\":0,\"ticks\":\"\"}},\"colorscale\":{\"diverging\":[[0,\"#8e0152\"],[0.1,\"#c51b7d\"],[0.2,\"#de77ae\"],[0.3,\"#f1b6da\"],[0.4,\"#fde0ef\"],[0.5,\"#f7f7f7\"],[0.6,\"#e6f5d0\"],[0.7,\"#b8e186\"],[0.8,\"#7fbc41\"],[0.9,\"#4d9221\"],[1,\"#276419\"]],\"sequential\":[[0.0,\"#0d0887\"],[0.1111111111111111,\"#46039f\"],[0.2222222222222222,\"#7201a8\"],[0.3333333333333333,\"#9c179e\"],[0.4444444444444444,\"#bd3786\"],[0.5555555555555556,\"#d8576b\"],[0.6666666666666666,\"#ed7953\"],[0.7777777777777778,\"#fb9f3a\"],[0.8888888888888888,\"#fdca26\"],[1.0,\"#f0f921\"]],\"sequentialminus\":[[0.0,\"#0d0887\"],[0.1111111111111111,\"#46039f\"],[0.2222222222222222,\"#7201a8\"],[0.3333333333333333,\"#9c179e\"],[0.4444444444444444,\"#bd3786\"],[0.5555555555555556,\"#d8576b\"],[0.6666666666666666,\"#ed7953\"],[0.7777777777777778,\"#fb9f3a\"],[0.8888888888888888,\"#fdca26\"],[1.0,\"#f0f921\"]]},\"colorway\":[\"#636efa\",\"#EF553B\",\"#00cc96\",\"#ab63fa\",\"#FFA15A\",\"#19d3f3\",\"#FF6692\",\"#B6E880\",\"#FF97FF\",\"#FECB52\"],\"font\":{\"color\":\"#2a3f5f\"},\"geo\":{\"bgcolor\":\"white\",\"lakecolor\":\"white\",\"landcolor\":\"#E5ECF6\",\"showlakes\":true,\"showland\":true,\"subunitcolor\":\"white\"},\"hoverlabel\":{\"align\":\"left\"},\"hovermode\":\"closest\",\"mapbox\":{\"style\":\"light\"},\"paper_bgcolor\":\"white\",\"plot_bgcolor\":\"#E5ECF6\",\"polar\":{\"angularaxis\":{\"gridcolor\":\"white\",\"linecolor\":\"white\",\"ticks\":\"\"},\"bgcolor\":\"#E5ECF6\",\"radialaxis\":{\"gridcolor\":\"white\",\"linecolor\":\"white\",\"ticks\":\"\"}},\"scene\":{\"xaxis\":{\"backgroundcolor\":\"#E5ECF6\",\"gridcolor\":\"white\",\"gridwidth\":2,\"linecolor\":\"white\",\"showbackground\":true,\"ticks\":\"\",\"zerolinecolor\":\"white\"},\"yaxis\":{\"backgroundcolor\":\"#E5ECF6\",\"gridcolor\":\"white\",\"gridwidth\":2,\"linecolor\":\"white\",\"showbackground\":true,\"ticks\":\"\",\"zerolinecolor\":\"white\"},\"zaxis\":{\"backgroundcolor\":\"#E5ECF6\",\"gridcolor\":\"white\",\"gridwidth\":2,\"linecolor\":\"white\",\"showbackground\":true,\"ticks\":\"\",\"zerolinecolor\":\"white\"}},\"shapedefaults\":{\"line\":{\"color\":\"#2a3f5f\"}},\"ternary\":{\"aaxis\":{\"gridcolor\":\"white\",\"linecolor\":\"white\",\"ticks\":\"\"},\"baxis\":{\"gridcolor\":\"white\",\"linecolor\":\"white\",\"ticks\":\"\"},\"bgcolor\":\"#E5ECF6\",\"caxis\":{\"gridcolor\":\"white\",\"linecolor\":\"white\",\"ticks\":\"\"}},\"title\":{\"x\":0.05},\"xaxis\":{\"automargin\":true,\"gridcolor\":\"white\",\"linecolor\":\"white\",\"ticks\":\"\",\"title\":{\"standoff\":15},\"zerolinecolor\":\"white\",\"zerolinewidth\":2},\"yaxis\":{\"automargin\":true,\"gridcolor\":\"white\",\"linecolor\":\"white\",\"ticks\":\"\",\"title\":{\"standoff\":15},\"zerolinecolor\":\"white\",\"zerolinewidth\":2}}},\"title\":{\"text\":\"proportion of seat amount of chain establishments\"}},                        {\"responsive\": true}                    ).then(function(){\n",
       "                            \n",
       "var gd = document.getElementById('d08452bd-808d-4311-a4c5-449f933a3c3a');\n",
       "var x = new MutationObserver(function (mutations, observer) {{\n",
       "        var display = window.getComputedStyle(gd).display;\n",
       "        if (!display || display === 'none') {{\n",
       "            console.log([gd, 'removed!']);\n",
       "            Plotly.purge(gd);\n",
       "            observer.disconnect();\n",
       "        }}\n",
       "}});\n",
       "\n",
       "// Listen for the removal of the full notebook cells\n",
       "var notebookContainer = gd.closest('#notebook-container');\n",
       "if (notebookContainer) {{\n",
       "    x.observe(notebookContainer, {childList: true});\n",
       "}}\n",
       "\n",
       "// Listen for the clearing of the current output cell\n",
       "var outputEl = gd.closest('.output');\n",
       "if (outputEl) {{\n",
       "    x.observe(outputEl, {childList: true});\n",
       "}}\n",
       "\n",
       "                        })                };                });            </script>        </div>"
      ]
     },
     "metadata": {},
     "output_type": "display_data"
    }
   ],
   "source": [
    "count_chain_seats = rest_data[rest_data['chain']==True].value_counts('seats_propertion').reset_index()\n",
    "count_chain_seats.columns = [\"type\",\"count\"]\n",
    "figure = px.pie(count_chain_seats,values=\"count\",names=\"type\",title=\"proportion of seat amount of chain establishments\")\n",
    "figure.update_layout(legend_itemwidth=50,legend_font_size=16)\n",
    "figure.show()"
   ]
  },
  {
   "cell_type": "markdown",
   "id": "1a644c3a",
   "metadata": {},
   "source": [
    "We see that in chained establishments most of the time we will have less seats than not chained ones."
   ]
  },
  {
   "cell_type": "markdown",
   "id": "167c0baf",
   "metadata": {},
   "source": [
    "**Check what characterizes chained establishment**"
   ]
  },
  {
   "cell_type": "code",
   "execution_count": 35,
   "id": "ba9585b7",
   "metadata": {
    "ExecuteTime": {
     "end_time": "2021-12-09T16:45:47.412196Z",
     "start_time": "2021-12-09T16:45:47.290494Z"
    }
   },
   "outputs": [
    {
     "data": {
      "application/vnd.plotly.v1+json": {
       "config": {
        "plotlyServerURL": "https://plot.ly"
       },
       "data": [
        {
         "hovertemplate": "object_name=%{x}<br>seats amount=%{y}<extra></extra>",
         "legendgroup": "",
         "marker": {
          "color": "#636efa",
          "symbol": "circle"
         },
         "mode": "markers",
         "name": "",
         "showlegend": false,
         "type": "scattergl",
         "x": [
          1,
          1,
          1,
          1,
          1,
          1,
          1,
          1,
          1,
          1,
          1,
          1,
          1,
          1,
          1,
          2,
          1,
          1,
          2,
          1,
          1,
          1,
          1,
          1,
          1,
          1,
          1,
          1,
          1,
          1,
          1,
          1,
          1,
          1,
          1,
          1,
          1,
          1,
          1,
          1,
          1,
          1,
          1,
          1,
          1,
          1,
          1,
          1,
          1,
          1,
          1,
          1,
          1,
          2,
          1,
          2,
          1,
          1,
          1,
          2,
          1,
          1,
          1,
          2,
          1,
          1,
          1,
          1,
          1,
          1,
          1,
          1,
          1,
          1,
          1,
          1,
          1,
          1,
          2,
          1,
          1,
          1,
          2,
          1,
          1,
          1,
          2,
          2,
          2,
          1,
          1,
          1,
          1,
          1,
          2,
          1,
          1,
          1,
          2,
          5,
          1,
          1,
          1,
          1,
          1,
          2,
          1,
          1,
          1,
          1,
          3,
          1,
          1,
          1,
          3,
          1,
          1,
          8,
          1,
          1,
          1,
          1,
          1,
          3,
          1,
          1,
          2,
          1,
          1,
          1,
          1,
          1,
          1,
          2,
          2,
          1,
          1,
          2,
          1,
          1,
          1,
          1,
          1,
          1,
          1,
          1,
          1,
          3,
          1,
          2,
          2,
          1,
          2,
          2,
          1,
          1,
          3,
          1,
          1,
          1,
          1,
          2,
          1,
          9,
          1,
          2,
          1,
          2,
          2,
          4,
          1,
          1,
          1,
          1,
          2,
          1,
          1,
          1,
          1,
          1,
          1,
          2,
          1,
          1,
          2,
          1,
          1,
          1,
          1,
          1,
          1,
          1,
          1,
          1,
          3,
          1,
          1,
          1,
          1,
          2,
          1,
          1,
          1,
          1,
          1,
          1,
          1,
          1,
          1,
          1,
          1,
          1,
          1,
          1,
          1,
          1,
          1,
          1,
          1,
          1,
          1,
          1,
          1,
          1,
          1,
          1,
          1,
          1,
          1,
          1,
          1,
          1,
          1,
          1,
          1,
          1,
          1,
          1,
          2,
          2,
          1,
          3,
          1,
          2,
          2,
          1,
          1,
          1,
          2,
          2,
          1,
          1,
          1,
          1,
          2,
          1,
          1,
          2,
          1,
          2,
          2,
          1,
          3,
          1,
          1,
          2,
          1,
          1,
          2,
          1,
          3,
          1,
          1,
          2,
          2,
          1,
          2,
          1,
          1,
          2,
          1,
          1,
          1,
          1,
          1,
          1,
          1,
          1,
          8,
          1,
          1,
          1,
          1,
          1,
          1,
          1,
          1,
          1,
          1,
          1,
          1,
          1,
          1,
          1,
          1,
          1,
          2,
          1,
          1,
          1,
          1,
          2,
          1,
          1,
          1,
          1,
          2,
          1,
          1,
          1,
          3,
          1,
          1,
          1,
          1,
          1,
          2,
          2,
          1,
          1,
          1,
          1,
          2,
          1,
          1,
          3,
          2,
          1,
          1,
          1,
          1,
          1,
          1,
          3,
          1,
          2,
          1,
          1,
          7,
          1,
          1,
          1,
          2,
          1,
          1,
          1,
          1,
          6,
          1,
          1,
          1,
          1,
          1,
          1,
          2,
          2,
          1,
          1,
          1,
          1,
          1,
          1,
          1,
          1,
          1,
          10,
          1,
          1,
          1,
          1,
          1,
          1,
          1,
          1,
          1,
          1,
          1,
          1,
          2,
          1,
          1,
          1,
          1,
          1,
          1,
          1,
          1,
          1,
          5,
          1,
          1,
          1,
          1,
          1,
          1,
          1,
          1,
          1,
          4,
          1,
          3,
          3,
          1,
          1,
          1,
          3,
          1,
          1,
          5,
          1,
          3,
          1,
          1,
          2,
          1,
          1,
          1,
          2,
          1,
          1,
          1,
          1,
          1,
          2,
          1,
          1,
          1,
          2,
          1,
          1,
          1,
          1,
          1,
          1,
          1,
          3,
          1,
          1,
          1,
          1,
          2,
          1,
          1,
          1,
          1,
          1,
          1,
          1,
          2,
          1,
          1,
          1,
          1,
          1,
          1,
          1,
          1,
          3,
          1,
          3,
          1,
          2,
          1,
          2,
          1,
          1,
          1,
          1,
          1,
          1,
          1,
          1,
          1,
          1,
          1,
          1,
          1,
          1,
          1,
          1,
          1,
          1,
          1,
          1,
          1,
          1,
          2,
          1,
          1,
          1,
          1,
          1,
          2,
          1,
          3,
          1,
          1,
          1,
          1,
          2,
          1,
          1,
          1,
          1,
          1,
          1,
          1,
          1,
          1,
          15,
          1,
          1,
          1,
          1,
          1,
          1,
          1,
          1,
          1,
          1,
          1,
          1,
          1,
          1,
          1,
          2,
          1,
          1,
          1,
          1,
          1,
          1,
          1,
          2,
          1,
          4,
          3,
          1,
          1,
          1,
          2,
          1,
          1,
          1,
          1,
          1,
          1,
          1,
          1,
          1,
          1,
          1,
          1,
          1,
          2,
          4,
          1,
          1,
          1,
          1,
          1,
          1,
          1,
          1,
          1,
          1,
          1,
          1,
          1,
          4,
          1,
          2,
          5,
          1,
          2,
          1,
          2,
          1,
          2,
          1,
          1,
          1,
          1,
          1,
          1,
          2,
          1,
          1,
          1,
          1,
          2,
          2,
          2,
          1,
          1,
          1,
          1,
          2,
          2,
          1,
          1,
          2,
          2,
          1,
          1,
          1,
          2,
          1,
          1,
          2,
          1,
          1,
          1,
          1,
          1,
          1,
          1,
          1,
          2,
          2,
          1,
          1,
          1,
          10,
          1,
          1,
          1,
          1,
          1,
          1,
          1,
          1,
          1,
          1,
          1,
          1,
          1,
          1,
          1,
          1,
          1,
          1,
          1,
          1,
          1,
          1,
          1,
          1,
          1,
          1,
          1,
          1,
          1,
          1,
          2,
          1,
          2,
          1,
          1,
          2,
          1,
          1,
          1,
          1,
          1,
          2,
          1,
          1,
          2,
          1,
          2,
          1,
          2,
          1,
          1,
          1,
          1,
          1,
          1,
          1,
          1,
          1,
          2,
          1,
          1,
          1,
          1,
          1,
          1,
          1,
          1,
          1,
          1,
          1,
          1,
          1,
          1,
          1,
          1,
          1,
          1,
          2,
          1,
          6,
          1,
          1,
          1,
          1,
          2,
          1,
          1,
          1,
          1,
          2,
          1,
          2,
          1,
          1,
          1,
          1,
          1,
          1,
          1,
          1,
          1,
          1,
          2,
          1,
          1,
          1,
          1,
          1,
          1,
          1,
          1,
          1,
          2,
          1,
          1,
          1,
          1,
          1,
          1,
          1,
          1,
          1,
          2,
          2,
          1,
          1,
          1,
          1,
          1,
          1,
          1,
          2,
          1,
          1,
          1,
          1,
          1,
          1,
          1,
          1,
          1,
          1,
          1,
          2,
          2,
          1,
          2,
          1,
          2,
          1,
          1,
          1,
          1,
          3,
          1,
          1,
          1,
          1,
          1,
          1,
          2,
          1,
          1,
          2,
          1,
          2,
          1,
          1,
          1,
          1,
          1,
          1,
          1,
          1,
          1,
          1,
          1,
          2,
          1,
          1,
          1,
          2,
          1,
          1,
          2,
          1,
          1,
          1,
          1,
          1,
          1,
          2,
          1,
          1,
          1,
          1,
          1,
          1,
          3,
          2,
          1,
          1,
          1,
          1,
          1,
          1,
          1,
          1,
          2,
          1,
          1,
          3,
          1,
          1,
          1,
          1,
          1,
          2,
          1,
          1,
          1,
          1,
          1,
          2,
          1,
          1,
          1,
          2,
          1,
          1,
          1,
          1,
          1,
          1,
          1,
          1,
          1,
          2,
          1,
          2,
          3,
          2,
          1,
          5,
          12,
          1,
          1,
          1,
          1,
          1,
          1,
          2,
          1,
          1,
          1,
          1,
          1,
          3,
          1,
          1,
          1,
          1,
          1,
          2,
          1,
          1,
          1,
          1,
          2,
          5,
          1,
          1,
          1,
          3,
          1,
          1,
          2,
          1,
          1,
          1,
          1,
          1,
          1,
          1,
          1,
          1,
          1,
          1,
          1,
          2,
          1,
          1,
          2,
          1,
          1,
          1,
          2,
          1,
          1,
          1,
          1,
          2,
          3,
          1,
          1,
          1,
          1,
          1,
          1,
          1,
          1,
          1,
          1,
          1,
          1,
          1,
          1,
          1,
          1,
          1,
          1,
          1,
          1,
          1,
          1,
          1,
          1,
          1,
          1,
          1,
          1,
          1,
          1,
          1,
          1,
          1,
          1,
          1,
          1,
          1,
          1,
          1,
          1,
          1,
          1,
          1,
          1,
          2,
          1,
          1,
          1,
          1,
          1,
          1,
          1,
          1,
          1,
          1,
          1,
          1,
          1,
          1,
          1,
          1,
          1,
          1,
          2,
          1,
          1,
          2,
          1,
          1,
          1,
          1,
          1,
          1,
          2,
          1,
          1,
          2,
          1,
          1,
          1,
          1,
          1,
          1,
          1,
          2,
          1,
          1,
          8,
          1,
          1,
          1,
          1,
          1,
          4,
          1,
          5,
          1,
          1,
          1,
          1,
          1,
          1,
          1,
          1,
          1,
          1,
          1,
          2,
          1,
          1,
          2,
          1,
          1,
          2,
          1,
          1,
          2,
          1,
          1,
          1,
          1,
          1,
          1,
          1,
          1,
          1,
          1,
          4,
          4,
          2,
          2,
          1,
          1,
          1,
          1,
          1,
          2,
          1,
          1,
          1,
          1,
          1,
          1,
          1,
          1,
          2,
          1,
          1,
          1,
          2,
          2,
          1,
          14,
          1,
          1,
          1,
          1,
          1,
          9,
          1,
          1,
          1,
          1,
          1,
          1,
          1,
          1,
          1,
          1,
          1,
          1,
          1,
          1,
          1,
          1,
          2,
          1,
          1,
          1,
          1,
          1,
          1,
          2,
          1,
          1,
          1,
          1,
          1,
          2,
          1,
          1,
          2,
          2,
          1,
          1,
          1,
          2,
          1,
          3,
          1,
          1,
          1,
          2,
          1,
          1,
          1,
          1,
          1,
          1,
          1,
          3,
          1,
          2,
          1,
          2,
          1,
          1,
          1,
          1,
          1,
          1,
          2,
          3,
          1,
          1,
          1,
          1,
          1,
          1,
          1,
          1,
          1,
          1,
          1,
          1,
          1,
          1,
          1,
          1,
          1,
          1,
          1,
          1,
          1,
          1,
          1,
          1,
          1,
          1,
          1,
          1,
          1,
          1,
          1,
          1,
          1,
          1,
          6,
          1,
          1,
          1,
          1,
          2,
          1,
          1,
          1,
          1,
          2,
          1,
          1,
          1,
          1,
          2,
          1,
          1,
          2,
          1,
          1,
          1,
          1,
          1,
          1,
          1,
          1,
          1,
          1,
          1,
          1,
          1,
          1,
          1,
          1,
          1,
          3,
          1,
          1,
          1,
          1,
          1,
          1,
          1,
          1,
          1,
          1,
          1,
          1,
          1,
          1,
          1,
          1,
          1,
          1,
          1,
          2,
          2,
          2,
          5,
          1,
          2,
          1,
          1,
          4,
          1,
          2,
          1,
          1,
          1,
          1,
          2,
          2,
          1,
          1,
          1,
          3,
          3,
          1,
          1,
          1,
          1,
          1,
          1,
          1,
          1,
          2,
          1,
          1,
          1,
          1,
          1,
          1,
          1,
          1,
          1,
          6,
          1,
          1,
          1,
          1,
          1,
          1,
          1,
          1,
          2,
          2,
          1,
          1,
          1,
          1,
          2,
          1,
          1,
          1,
          2,
          1,
          1,
          2,
          1,
          1,
          1,
          1,
          1,
          1,
          1,
          1,
          2,
          1,
          1,
          1,
          1,
          1,
          2,
          1,
          1,
          2,
          1,
          1,
          1,
          2,
          1,
          1,
          1,
          1,
          1,
          1,
          1,
          1,
          1,
          2,
          1,
          2,
          10,
          1,
          1,
          3,
          1,
          1,
          1,
          1,
          1,
          2,
          1,
          1,
          1,
          1,
          1,
          1,
          1,
          2,
          1,
          1,
          1,
          1,
          1,
          2,
          1,
          1,
          1,
          1,
          1,
          1,
          1,
          1,
          1,
          1,
          2,
          1,
          1,
          1,
          1,
          1,
          2,
          1,
          1,
          1,
          2,
          1,
          1,
          1,
          2,
          1,
          1,
          1,
          1,
          1,
          1,
          1,
          1,
          1,
          1,
          1,
          1,
          1,
          1,
          1,
          1,
          1,
          2,
          1,
          2,
          1,
          1,
          1,
          1,
          2,
          1,
          4,
          1,
          1,
          1,
          1,
          1,
          1,
          1,
          1,
          2,
          1,
          13,
          1,
          1,
          1,
          1,
          1,
          1,
          1,
          1,
          2,
          1,
          1,
          1,
          1,
          1,
          1,
          1,
          1,
          1,
          1,
          1,
          1,
          1,
          1,
          1,
          1,
          1,
          1,
          1,
          1,
          1,
          1,
          1,
          1,
          1,
          1,
          1,
          1,
          1,
          1,
          1,
          1,
          1,
          1,
          1,
          1,
          1,
          1,
          1,
          1,
          1,
          1,
          1,
          1,
          1,
          1,
          1,
          1,
          1,
          1,
          1,
          1,
          1,
          1,
          1,
          1,
          1,
          1,
          1,
          1,
          1,
          1,
          2,
          1,
          1,
          1,
          1,
          1,
          1,
          1,
          1,
          2,
          1,
          5,
          1,
          2,
          1,
          1,
          1,
          1,
          1,
          1,
          1,
          1,
          1,
          1,
          1,
          1,
          1,
          1,
          3,
          1,
          1,
          2,
          1,
          1,
          2,
          1,
          1,
          1,
          1,
          2,
          1,
          1,
          1,
          1,
          1,
          1,
          1,
          1,
          1,
          1,
          1,
          2,
          1,
          2,
          2,
          1,
          1,
          1,
          2,
          2,
          1,
          1,
          2,
          2,
          1,
          1,
          1,
          1,
          2,
          1,
          1,
          2,
          1,
          1,
          1,
          1,
          1,
          1,
          1,
          2,
          2,
          1,
          1,
          1,
          1,
          1,
          1,
          1,
          1,
          1,
          1,
          1,
          2,
          1,
          1,
          1,
          1,
          1,
          1,
          1,
          1,
          1,
          1,
          1,
          1,
          3,
          1,
          1,
          1,
          1,
          1,
          1,
          1,
          2,
          2,
          1,
          1,
          1,
          1,
          1,
          1,
          2,
          2,
          2,
          2,
          4,
          1,
          2,
          1,
          2,
          1,
          1,
          1,
          1,
          1,
          1,
          1,
          1,
          1,
          1,
          1,
          1,
          1,
          1,
          1,
          1,
          1,
          1,
          1,
          1,
          2,
          1,
          1,
          1,
          2,
          1,
          2,
          1,
          1,
          1,
          1,
          2,
          5,
          1,
          1,
          1,
          2,
          1,
          1,
          1,
          1,
          1,
          3,
          1,
          1,
          1,
          2,
          1,
          1,
          1,
          1,
          1,
          1,
          1,
          1,
          2,
          1,
          3,
          1,
          1,
          1,
          1,
          3,
          2,
          1,
          1,
          1,
          1,
          1,
          1,
          1,
          6,
          1,
          1,
          1,
          1,
          1,
          1,
          1,
          1,
          1,
          1,
          1,
          1,
          1,
          1,
          1,
          1,
          1,
          1,
          3,
          1,
          3,
          1,
          1,
          2,
          2,
          1,
          1,
          1,
          12,
          1,
          1,
          2,
          1,
          1,
          5,
          1,
          1,
          1,
          1,
          1,
          1,
          2,
          1,
          1,
          1,
          1,
          1,
          2,
          1,
          1,
          3,
          1,
          1,
          1,
          1,
          1,
          2,
          1,
          1,
          2,
          2,
          1,
          1,
          1,
          1,
          1,
          1,
          1,
          1,
          2,
          1,
          1,
          1,
          1,
          1,
          3,
          3,
          1,
          1,
          1,
          1,
          1,
          1,
          7,
          1,
          1,
          1,
          1,
          1,
          1,
          1,
          2,
          2,
          3,
          1,
          1,
          1,
          1,
          1,
          1,
          1,
          1,
          1,
          1,
          1,
          1,
          1,
          1,
          1,
          1,
          1,
          1,
          1,
          1,
          1,
          1,
          1,
          1,
          1,
          1,
          1,
          1,
          1,
          1,
          1,
          3,
          3,
          1,
          1,
          1,
          1,
          2,
          2,
          2,
          1,
          1,
          1,
          1,
          2,
          1,
          2,
          2,
          1,
          4,
          2,
          1,
          1,
          6,
          1,
          1,
          1,
          1,
          1,
          2,
          5,
          1,
          1,
          1,
          1,
          1,
          1,
          1,
          4,
          1,
          1,
          1,
          1,
          2,
          1,
          1,
          2,
          1,
          1,
          1,
          1,
          1,
          1,
          1,
          1,
          2,
          1,
          2,
          2,
          1,
          1,
          2,
          1,
          1,
          1,
          1,
          1,
          1,
          2,
          2,
          1,
          1,
          1,
          1,
          1,
          1,
          1,
          1,
          1,
          3,
          1,
          1,
          1,
          1,
          1,
          1,
          1,
          1,
          1,
          1,
          1,
          1,
          1,
          1,
          1,
          1,
          1,
          1,
          1,
          1,
          1,
          1,
          1,
          1,
          1,
          1,
          1,
          1,
          1,
          1,
          1,
          1,
          1,
          1,
          1,
          1,
          2,
          1,
          1,
          1,
          2,
          1,
          1,
          2,
          1,
          1,
          3,
          1,
          1,
          1,
          1,
          1,
          1,
          1,
          1,
          2,
          1,
          1,
          1,
          1,
          1,
          1,
          1,
          1,
          1,
          1,
          1,
          1,
          2,
          1,
          1,
          1,
          1,
          2,
          1,
          1,
          1,
          1,
          1,
          1,
          2,
          1,
          1,
          1,
          1,
          1,
          1,
          1,
          2,
          1,
          1,
          1,
          2,
          2,
          1,
          1,
          2,
          1,
          1,
          1,
          1,
          1,
          1,
          1,
          1,
          1,
          2,
          1,
          1,
          2,
          1,
          1,
          3,
          1,
          1,
          1,
          1,
          1,
          2,
          1,
          1,
          1,
          2,
          1,
          2,
          1,
          1,
          2,
          1,
          1,
          4,
          1,
          1,
          1,
          1,
          1,
          2,
          1,
          1,
          1,
          2,
          1,
          1,
          1,
          1,
          1,
          1,
          1,
          1,
          1,
          3,
          2,
          1,
          1,
          1,
          1,
          1,
          1,
          1,
          1,
          2,
          2,
          1,
          1,
          1,
          2,
          1,
          3,
          1,
          1,
          1,
          1,
          1,
          1,
          2,
          1,
          1,
          2,
          3,
          1,
          2,
          1,
          1,
          1,
          2,
          1,
          1,
          2,
          1,
          1,
          1,
          2,
          12,
          1,
          1,
          1,
          1,
          1,
          1,
          1,
          1,
          1,
          1,
          1,
          1,
          1,
          1,
          1,
          1,
          1,
          1,
          1,
          1,
          1,
          1,
          1,
          1,
          2,
          1,
          1,
          1,
          1,
          1,
          1,
          1,
          1,
          1,
          1,
          1,
          1,
          1,
          1,
          1,
          1,
          1,
          1,
          1,
          1,
          1,
          1,
          1,
          1,
          1,
          1,
          1,
          1,
          1,
          1,
          1,
          1,
          2,
          1,
          1,
          1,
          1,
          1,
          1,
          1,
          1,
          1,
          1,
          1,
          1,
          1,
          1,
          1,
          1,
          1,
          1,
          1,
          1,
          1,
          1,
          1,
          1,
          1,
          1,
          1,
          1,
          1,
          1,
          1,
          1,
          1,
          1,
          1,
          1,
          1,
          1,
          1,
          1,
          1,
          1,
          1,
          1,
          1,
          1,
          1,
          1,
          1,
          1,
          1,
          1,
          2,
          1,
          1,
          1,
          2,
          1,
          2,
          1,
          1,
          1,
          1,
          1,
          31,
          1,
          1,
          1,
          1,
          1,
          1,
          1,
          1,
          1,
          1,
          1,
          1,
          1,
          1,
          1,
          1,
          1,
          1,
          1,
          1,
          1,
          1,
          1,
          1,
          1,
          1,
          1,
          1,
          2,
          1,
          1,
          1,
          1,
          1,
          1,
          1,
          1,
          1,
          1,
          1,
          1,
          1,
          2,
          1,
          1,
          1,
          1,
          1,
          1,
          1,
          1,
          1,
          1,
          1,
          1,
          1,
          1,
          1,
          1,
          1,
          1,
          1,
          1,
          1,
          1,
          1,
          1,
          1,
          1,
          1,
          1,
          1,
          1,
          1,
          1,
          1,
          1,
          1,
          1,
          1,
          1,
          1,
          1,
          1,
          1,
          1,
          1,
          1,
          3,
          1,
          1,
          1,
          1,
          11,
          1,
          1,
          1,
          3,
          1,
          1,
          2,
          1,
          1,
          1,
          3,
          1,
          1,
          1,
          2,
          1,
          1,
          2,
          1,
          2,
          2,
          1,
          1,
          1,
          1,
          3,
          1,
          1,
          2,
          1,
          2,
          2,
          3,
          2,
          2,
          1,
          2,
          1,
          1,
          5,
          3,
          1,
          1,
          6,
          1,
          1,
          1,
          1,
          1,
          1,
          1,
          1,
          1,
          1,
          1,
          1,
          1,
          1,
          1,
          1,
          1,
          1,
          1,
          1,
          1,
          1,
          1,
          1,
          1,
          2,
          2,
          1,
          1,
          4,
          1,
          3,
          1,
          3,
          2,
          1,
          1,
          1,
          1,
          1,
          2,
          1,
          1,
          1,
          1,
          2,
          1,
          1,
          1,
          1,
          1,
          1,
          1,
          1,
          1,
          1,
          1,
          1,
          2,
          1,
          1,
          2,
          2,
          1,
          2,
          1,
          1,
          5,
          2,
          2,
          2,
          1,
          1,
          1,
          1,
          1,
          1,
          1,
          1,
          1,
          1,
          1,
          1,
          1,
          1,
          1,
          1,
          1,
          1,
          2,
          2,
          1,
          2,
          2,
          47,
          1,
          1,
          1,
          1,
          1,
          1,
          1,
          1,
          2,
          1,
          4,
          1,
          1,
          1,
          1,
          5,
          1,
          1,
          2,
          1,
          1,
          1,
          1,
          1,
          2,
          1,
          1,
          2,
          1,
          1,
          1,
          1,
          1,
          2,
          1,
          1,
          2,
          1,
          1,
          1,
          2,
          1,
          1,
          3,
          2,
          1,
          1,
          2,
          1,
          1,
          1,
          1,
          3,
          1,
          1,
          1,
          1,
          1,
          1,
          1,
          3,
          1,
          1,
          1,
          1,
          1,
          2,
          4,
          1,
          1,
          1,
          1,
          1,
          2,
          3,
          1,
          1,
          1,
          1,
          2,
          1,
          1,
          1,
          2,
          13,
          1,
          1,
          1,
          1,
          2,
          2,
          1,
          1,
          1,
          1,
          1,
          1,
          1,
          1,
          1,
          1,
          1,
          3,
          3,
          1,
          1,
          1,
          1,
          3,
          1,
          1,
          1,
          2,
          1,
          1,
          1,
          2,
          1,
          2,
          1,
          2,
          4,
          2,
          1,
          1,
          1,
          1,
          1,
          1,
          2,
          1,
          1,
          1,
          1,
          1,
          2,
          1,
          1,
          1,
          1,
          1,
          3,
          1,
          2,
          1,
          1,
          1,
          1,
          14,
          1,
          1,
          2,
          1,
          1,
          1,
          1,
          1,
          6,
          1,
          4,
          2,
          1,
          1,
          2,
          2,
          1,
          6,
          1,
          1,
          1,
          1,
          1,
          2,
          1,
          1,
          10,
          1,
          1,
          1,
          1,
          1,
          1,
          1,
          2,
          1,
          1,
          1,
          1,
          1,
          1,
          1,
          1,
          1,
          2,
          3,
          1,
          1,
          1,
          1,
          1,
          1,
          1,
          1,
          1,
          1,
          2,
          1,
          12,
          1,
          1,
          1,
          1,
          1,
          1,
          1,
          2,
          1,
          1,
          4,
          2,
          1,
          1,
          1,
          1,
          1,
          1,
          1,
          1,
          1,
          1,
          1,
          1,
          1,
          1,
          1,
          1,
          1,
          1,
          1,
          1,
          1,
          1,
          1,
          1,
          1,
          1,
          1,
          2,
          1,
          3,
          1,
          1,
          1,
          1,
          1,
          1,
          1,
          1,
          1,
          1,
          1,
          1,
          1,
          1,
          1,
          3,
          1,
          1,
          2,
          1,
          1,
          1,
          1
         ],
         "xaxis": "x",
         "y": [
          6,
          45,
          180,
          7,
          18,
          41,
          115,
          45,
          37,
          204,
          105,
          97,
          3,
          15,
          13,
          11,
          15,
          159,
          71.5,
          211,
          12,
          35,
          11,
          5,
          2,
          122,
          15,
          12,
          115,
          41,
          42,
          16,
          3,
          64,
          105,
          21,
          14,
          12,
          46,
          1,
          7,
          29,
          36,
          13,
          4,
          24,
          16,
          2,
          25,
          28,
          26,
          24,
          10,
          17,
          1,
          20,
          3,
          20,
          21,
          23.5,
          21,
          23,
          4,
          7,
          49,
          181,
          6,
          13,
          4,
          42,
          32,
          32,
          218,
          5,
          46,
          118,
          3,
          25,
          25,
          23,
          65,
          36,
          12.5,
          21,
          8,
          26,
          182,
          13.5,
          20,
          29,
          1,
          42,
          40,
          26,
          20,
          46,
          118,
          24,
          37,
          66,
          43,
          21,
          20,
          46,
          102,
          47.5,
          2,
          39,
          132,
          16,
          17.666666666666668,
          11,
          12,
          12,
          20.333333333333332,
          87,
          2,
          18.375,
          23,
          7,
          29,
          6,
          10,
          17.333333333333332,
          16,
          1,
          40.5,
          4,
          69,
          17,
          24,
          43,
          23,
          14,
          13,
          9,
          20,
          13,
          13,
          45,
          160,
          27,
          90,
          3,
          62,
          26,
          8,
          59,
          24,
          17,
          26.5,
          12,
          155.5,
          194.5,
          165,
          5,
          47.333333333333336,
          19,
          12,
          38,
          37,
          35,
          31,
          21.88888888888889,
          43,
          46.5,
          20,
          13,
          7.5,
          16.5,
          7,
          1,
          35,
          44,
          25.5,
          18,
          43,
          13,
          13,
          64,
          19,
          7.5,
          4,
          31,
          7,
          25,
          12,
          5,
          141,
          19,
          113,
          18,
          111,
          23,
          164.33333333333334,
          216,
          3,
          1,
          107,
          11,
          92,
          103,
          28,
          42,
          118,
          43,
          46,
          41,
          140,
          64,
          137,
          125,
          86,
          84,
          81,
          40,
          67,
          124,
          109,
          31,
          72,
          142,
          87,
          48,
          137,
          63,
          49,
          89,
          109,
          118,
          70,
          47,
          77,
          67,
          149,
          105,
          48,
          144,
          21,
          27,
          96,
          23.333333333333332,
          42,
          65.5,
          120,
          27,
          12,
          37,
          69.5,
          13,
          13,
          1,
          13,
          23,
          16,
          39,
          19,
          117,
          24,
          14.5,
          6,
          136,
          26,
          4,
          3,
          181,
          162,
          62,
          39.5,
          225,
          12.666666666666666,
          33,
          20,
          53.5,
          161,
          145,
          30.5,
          18,
          31,
          24.5,
          47,
          3,
          15,
          17,
          16,
          47,
          10,
          70,
          65.875,
          117,
          119,
          106,
          146,
          161,
          127,
          89,
          219,
          45,
          45,
          100,
          123,
          134,
          70,
          31,
          69,
          17,
          92,
          38,
          22,
          10,
          22,
          33,
          26,
          44,
          112,
          23,
          122.5,
          170,
          12,
          177,
          20,
          99,
          43,
          34,
          6,
          95,
          20.5,
          7.5,
          133,
          89,
          7,
          20,
          32,
          21,
          64,
          18,
          28.5,
          146,
          46,
          33,
          161,
          18,
          25,
          28,
          13,
          14,
          27,
          11,
          20,
          26,
          143,
          39,
          24.5,
          5,
          13,
          45,
          33,
          14.5,
          29,
          24,
          12,
          2,
          29,
          7,
          8,
          24.5,
          36,
          39,
          13,
          12,
          13,
          10,
          29,
          39,
          47,
          37.9,
          107,
          32,
          36,
          74,
          42,
          6,
          23,
          19,
          98,
          112,
          135,
          226,
          61.5,
          167,
          228,
          200,
          66,
          78,
          42,
          21,
          194,
          22,
          14,
          34,
          20,
          36,
          208,
          37,
          24,
          22,
          31,
          22,
          108.25,
          124,
          16.333333333333332,
          18,
          6,
          35,
          8,
          29,
          5,
          2,
          18.2,
          21,
          32.333333333333336,
          44,
          21,
          27,
          19,
          36,
          16,
          36,
          14,
          84,
          19,
          31,
          96,
          18,
          12,
          117,
          8,
          16.5,
          19,
          35,
          161,
          77,
          16,
          32,
          19,
          51.666666666666664,
          202,
          177,
          25,
          185,
          41,
          6,
          49,
          18,
          17,
          5,
          68,
          21,
          73,
          44,
          40,
          26,
          12,
          114,
          4,
          125,
          17,
          16.666666666666668,
          29,
          10.666666666666666,
          28,
          11.5,
          111,
          197.5,
          31,
          13,
          36,
          1,
          40,
          31,
          49,
          62,
          43,
          25,
          19,
          46,
          13,
          36,
          6,
          1,
          33,
          31,
          5,
          45,
          18,
          8,
          20.5,
          18,
          2,
          14,
          14,
          2,
          17.5,
          7,
          26.333333333333332,
          70,
          190,
          157,
          95,
          11.5,
          19,
          130,
          20,
          69,
          16,
          20,
          203,
          95,
          40,
          12.333333333333334,
          3,
          11,
          22,
          5,
          29,
          7,
          24,
          4,
          12,
          25,
          28,
          14,
          14,
          20,
          13,
          7,
          22,
          68,
          28,
          33,
          42,
          23,
          6,
          26,
          13,
          21.5,
          22.333333333333332,
          2,
          19,
          25,
          27.5,
          34,
          15,
          23,
          42,
          24,
          19,
          24,
          28,
          13,
          126,
          7,
          16,
          118,
          15.5,
          16.5,
          83,
          7,
          20,
          16,
          19,
          6,
          24,
          41,
          40,
          17,
          10,
          6,
          18,
          22.5,
          3,
          33,
          15.6,
          10,
          11,
          23,
          19,
          39,
          109.5,
          24,
          48,
          20,
          11,
          41,
          2,
          2,
          44,
          43,
          136,
          67,
          44,
          8,
          15.5,
          21,
          86,
          38,
          75,
          81.5,
          103.5,
          84,
          13,
          27,
          18.5,
          1,
          14,
          25,
          12.5,
          39,
          23,
          16,
          36,
          29,
          11,
          39,
          14,
          15,
          45,
          33,
          22.5,
          17,
          1,
          22,
          77,
          63.6,
          47,
          142,
          48,
          76,
          31,
          37,
          49,
          43,
          98,
          95,
          109,
          48,
          87,
          148,
          47,
          49,
          49,
          42,
          36,
          102,
          117,
          91,
          44,
          40,
          31,
          100,
          29,
          11,
          21,
          8,
          25.5,
          14,
          8.5,
          16,
          139,
          37.5,
          33,
          9,
          26,
          29,
          46,
          15,
          15,
          26,
          126.5,
          4,
          24.5,
          101,
          28.5,
          49,
          27,
          99,
          33,
          133,
          28,
          16,
          33,
          17,
          106.5,
          4,
          24,
          21,
          32,
          5,
          15,
          205,
          33,
          9,
          80,
          205,
          190,
          142,
          12,
          34,
          9,
          38,
          122,
          20.5,
          4,
          21.666666666666668,
          9,
          45,
          42,
          8,
          88.5,
          4,
          29,
          13,
          2,
          78,
          9,
          15.5,
          18,
          82,
          6,
          3,
          22,
          38,
          35,
          49,
          12,
          107,
          25,
          27,
          21,
          21,
          17,
          25,
          9,
          16,
          16,
          15,
          29.5,
          21,
          27,
          28,
          47,
          20,
          20,
          191,
          6,
          49,
          160.5,
          36,
          7,
          18,
          33,
          22,
          1,
          22,
          28,
          7.5,
          37,
          26,
          1,
          4,
          22,
          36,
          93,
          8,
          9,
          118,
          85,
          44,
          26.5,
          103,
          19,
          10,
          44,
          46,
          16,
          40,
          21,
          65.33333333333333,
          80,
          41,
          11,
          14,
          44,
          23,
          92.5,
          15,
          3,
          11,
          15,
          11.5,
          45,
          10,
          117,
          35,
          28,
          5,
          24,
          6,
          2,
          48,
          35,
          27.5,
          27,
          39,
          27,
          38,
          28,
          26,
          13.5,
          35,
          49,
          37,
          32,
          10,
          3,
          17,
          10,
          3,
          41,
          45,
          84,
          22,
          51.333333333333336,
          49.5,
          42,
          145,
          106,
          39,
          38,
          43,
          36,
          45,
          16.5,
          155,
          18,
          21.666666666666668,
          9,
          13,
          47,
          164,
          194,
          19.5,
          6,
          11,
          1,
          1,
          35,
          41.5,
          18,
          3,
          32,
          55.5,
          23,
          105,
          46,
          99,
          4,
          4,
          18,
          37,
          20,
          100.5,
          20,
          29.5,
          13.666666666666666,
          21.5,
          92,
          11.6,
          18.583333333333332,
          2,
          1,
          44,
          167,
          127,
          130,
          39,
          32,
          89,
          3,
          19,
          192,
          11.333333333333334,
          117,
          6,
          40,
          48,
          10,
          17,
          19,
          31,
          3,
          16,
          20,
          17.4,
          18,
          18,
          11,
          113.66666666666667,
          133,
          194,
          94,
          18,
          144,
          2,
          25,
          7,
          27,
          22,
          12,
          13,
          73,
          119,
          142,
          108.5,
          21,
          65,
          114,
          20,
          19,
          122,
          36.5,
          42,
          35,
          9,
          48,
          145.5,
          33,
          32,
          24,
          10,
          46,
          13,
          19,
          15,
          48,
          45,
          26,
          10,
          42,
          28,
          32,
          139,
          138,
          42,
          95,
          104,
          24,
          128,
          121,
          126,
          91,
          38,
          74,
          37,
          38,
          44,
          88,
          25,
          115,
          38,
          47,
          44,
          29,
          38,
          11,
          5,
          31,
          140,
          130,
          71,
          80,
          76.5,
          109,
          44,
          92,
          33,
          106,
          83,
          34,
          45,
          35,
          93,
          113,
          48,
          42,
          35,
          118,
          2,
          27,
          48,
          7,
          27,
          16,
          27,
          43,
          1,
          1,
          25,
          19,
          29,
          13,
          12,
          23,
          34,
          12,
          1,
          4,
          23,
          1,
          8,
          102,
          8.5,
          7,
          41,
          25.375,
          9,
          19,
          2,
          29,
          18,
          47.25,
          43,
          22.4,
          29,
          37,
          17,
          10,
          171,
          77,
          15,
          23,
          21,
          80,
          12,
          32,
          26,
          11,
          16.5,
          67,
          88,
          36,
          112,
          46,
          12.5,
          17,
          1,
          16,
          18,
          10,
          19,
          49,
          6,
          3,
          19,
          20.75,
          21.75,
          64,
          12.5,
          33,
          6,
          152,
          9,
          6,
          184,
          45,
          34,
          25,
          39,
          199,
          119,
          27,
          19,
          172,
          178,
          8,
          12,
          18.5,
          24,
          10,
          33.357142857142854,
          26,
          121,
          44,
          108,
          145,
          42.55555555555556,
          48,
          28,
          36,
          40,
          44,
          23,
          21,
          24,
          1,
          9,
          4,
          10,
          102,
          16,
          47,
          12,
          18.5,
          22,
          32,
          13,
          23,
          22,
          217,
          11,
          125,
          14,
          17,
          182,
          49,
          42.5,
          85,
          20,
          72.5,
          35.5,
          96,
          49,
          12,
          12,
          38,
          25.666666666666668,
          15,
          15,
          12,
          17.5,
          4,
          32,
          6,
          24,
          26,
          23,
          12,
          59,
          41,
          19.5,
          22,
          72.5,
          37,
          43,
          12,
          17,
          25,
          26,
          8.5,
          14.333333333333334,
          4,
          17,
          46,
          4,
          42,
          25,
          16,
          8,
          10,
          10,
          1,
          1,
          29,
          16,
          23,
          4,
          6,
          225,
          14,
          10,
          24,
          23,
          38,
          45,
          12,
          15,
          8,
          4,
          37,
          2,
          27,
          3,
          15,
          18,
          24,
          8,
          5,
          4,
          28,
          52,
          7,
          20,
          1,
          18,
          60,
          47,
          39,
          48,
          34,
          88,
          103,
          63,
          2.5,
          27,
          4,
          8,
          29,
          29,
          42,
          23,
          25,
          80,
          16,
          45,
          15,
          3,
          78,
          21,
          39,
          36,
          19.666666666666668,
          46,
          18,
          176,
          3,
          46,
          45,
          34,
          20,
          24,
          11,
          65,
          22,
          129,
          42,
          39,
          21,
          6,
          19,
          37,
          8,
          11.5,
          20.5,
          65.4,
          39,
          41,
          19,
          21,
          77.5,
          24,
          35,
          111,
          16,
          17,
          24,
          203,
          19.5,
          181,
          212,
          29,
          11.333333333333334,
          85,
          49,
          27,
          12,
          10,
          47,
          5,
          27,
          24,
          17.5,
          13,
          9,
          24,
          7,
          4,
          7,
          14,
          13,
          27,
          13.666666666666666,
          18,
          14,
          18,
          15,
          19,
          4,
          14,
          23,
          15,
          10.5,
          99,
          44,
          25,
          37,
          27,
          11,
          3,
          25,
          25.5,
          21,
          27,
          16.5,
          13,
          28,
          7,
          23,
          41,
          182,
          91,
          125,
          58.5,
          72,
          48,
          26,
          22,
          22,
          5,
          29,
          29,
          88,
          38,
          41,
          32,
          21.5,
          19,
          47,
          4,
          4,
          16,
          15,
          21,
          34,
          26,
          22,
          20,
          7,
          9.9,
          27,
          25,
          9.666666666666666,
          2,
          6,
          9,
          124,
          42,
          31,
          20,
          4,
          112,
          6,
          24,
          42,
          3,
          15.5,
          21,
          2,
          22,
          22,
          141,
          27.5,
          43,
          26,
          22,
          26,
          162,
          10,
          37,
          23,
          36,
          9,
          71.5,
          31,
          10,
          158,
          22,
          91,
          41.5,
          33,
          38,
          6,
          223.5,
          11,
          18,
          26,
          35.5,
          48,
          21,
          12,
          42,
          20,
          17,
          18,
          19,
          82,
          36,
          34,
          15,
          40,
          46,
          62,
          20,
          19,
          137,
          1,
          10.5,
          175,
          18,
          22,
          14,
          9,
          48,
          14,
          27,
          137,
          3,
          87,
          16,
          22,
          153,
          13,
          104,
          147,
          96.84615384615384,
          78,
          88,
          77,
          138,
          67,
          47,
          98,
          35,
          16.5,
          71,
          31,
          36,
          124,
          141,
          43,
          145,
          66,
          63,
          110,
          80,
          104,
          105,
          135,
          91,
          95,
          139,
          113,
          103,
          38,
          67,
          37,
          113,
          107,
          67,
          14,
          115,
          112,
          147,
          108,
          112,
          123,
          64,
          93,
          99,
          33,
          44,
          89,
          81,
          140,
          79,
          67,
          140,
          86,
          144,
          85,
          61,
          112,
          87,
          177,
          91,
          195,
          227,
          196,
          142,
          144,
          21,
          67,
          43,
          123,
          7,
          67,
          13.5,
          49,
          32,
          27,
          33,
          35,
          18,
          14,
          2,
          17.5,
          13,
          32.8,
          13,
          148.5,
          27,
          1,
          8,
          142,
          8,
          66,
          222,
          42,
          4,
          40,
          22,
          32,
          17,
          12,
          57,
          26,
          18,
          23,
          14,
          9,
          18,
          15,
          14,
          25,
          8,
          8.5,
          28,
          1,
          7,
          45,
          19,
          43,
          103,
          35,
          15,
          18,
          41,
          28.5,
          47,
          27,
          11.5,
          10,
          16,
          9,
          36,
          45,
          42,
          39,
          10,
          12.5,
          107,
          1,
          25,
          229,
          24.5,
          21,
          109,
          26.5,
          26,
          158,
          29,
          15,
          10,
          28,
          17,
          29,
          13.5,
          46,
          147,
          9,
          38,
          16,
          42,
          3,
          41,
          110,
          1,
          18,
          101,
          45,
          126,
          29,
          49,
          29,
          14,
          16,
          4,
          16,
          26,
          45,
          7,
          15,
          14,
          28,
          143,
          43,
          15,
          109,
          28,
          26,
          44.5,
          45,
          25,
          2,
          15,
          177,
          16,
          7,
          29,
          83.5,
          27.5,
          49.5,
          36,
          78,
          28,
          21.5,
          38,
          25,
          45,
          25,
          20,
          109,
          19,
          195,
          216,
          125,
          118,
          35,
          44,
          34,
          102,
          32,
          18,
          84,
          41,
          102,
          18.5,
          4,
          16,
          21,
          23,
          21,
          19.5,
          20,
          8,
          4,
          45,
          10,
          35.8,
          18,
          23,
          6,
          27,
          7,
          23,
          2,
          44,
          23,
          18.333333333333332,
          1,
          99,
          49,
          25.5,
          18,
          24,
          13,
          18,
          117,
          9,
          25,
          140,
          111,
          43,
          12.333333333333334,
          79,
          29,
          4,
          9,
          9.666666666666666,
          13,
          40,
          29,
          1,
          36,
          23,
          5,
          29,
          41.666666666666664,
          49,
          111,
          43,
          7,
          45,
          31,
          5,
          6,
          32,
          22,
          36,
          48,
          49,
          7,
          33,
          40,
          15,
          160,
          25.333333333333332,
          3,
          37.666666666666664,
          22,
          12,
          62,
          67.5,
          91,
          29,
          9,
          14.5,
          6,
          27,
          17.5,
          12,
          14,
          12.8,
          23,
          23,
          20,
          9,
          1,
          17,
          28,
          24,
          22,
          47,
          49,
          5,
          23.5,
          24,
          19,
          22,
          33,
          32,
          69,
          23,
          23,
          15,
          94,
          14,
          30,
          41.5,
          82,
          48,
          42,
          11,
          28,
          3,
          42,
          28,
          20,
          10,
          40,
          21,
          19,
          25,
          39.333333333333336,
          27.666666666666668,
          21,
          28,
          21,
          45,
          199,
          138,
          23.428571428571427,
          29,
          3,
          13,
          17,
          28,
          12,
          5,
          14,
          18.5,
          24.666666666666668,
          19,
          22,
          6,
          27,
          15,
          41,
          6,
          5,
          19,
          16,
          24,
          14,
          15,
          19,
          27,
          24,
          11,
          7,
          17,
          20,
          12,
          10,
          12,
          4,
          6,
          18,
          5,
          14,
          3,
          14,
          6,
          11,
          11.333333333333334,
          17,
          25,
          13,
          3,
          40,
          24.5,
          94,
          168,
          11,
          118,
          20,
          39.5,
          90,
          5,
          16.5,
          25,
          12.75,
          17.5,
          48,
          26,
          106,
          117,
          12,
          15,
          22,
          17,
          41,
          36.4,
          37,
          47,
          84,
          42,
          8,
          48,
          119,
          11.5,
          7,
          22,
          28,
          158,
          5.5,
          9,
          12,
          9.5,
          16,
          24,
          25,
          23,
          16,
          22,
          4,
          46,
          18.5,
          36,
          17,
          42.5,
          17,
          14,
          25.5,
          28,
          49,
          20,
          22,
          47,
          46,
          14,
          34.5,
          29,
          12,
          27,
          13,
          39,
          27,
          27,
          11,
          19,
          5.333333333333333,
          142,
          74,
          24,
          41,
          11,
          1,
          32,
          48,
          29,
          25,
          11,
          34,
          48,
          21,
          24,
          23,
          25,
          32,
          46,
          12,
          17,
          13,
          39,
          33,
          3,
          18,
          17,
          43,
          20,
          13,
          4,
          28,
          17,
          11,
          27,
          2,
          86.5,
          16,
          40,
          42,
          27,
          29,
          22,
          20,
          26,
          15,
          60.666666666666664,
          40,
          17,
          134,
          84,
          69,
          88,
          19,
          182,
          96,
          46,
          205,
          18,
          9,
          76,
          12,
          27,
          48,
          4,
          9,
          48,
          66,
          11.5,
          16,
          70,
          26,
          16,
          17.5,
          17,
          15,
          29,
          13,
          3,
          181,
          20,
          1,
          44,
          5,
          17,
          20,
          13,
          22,
          22.5,
          2,
          35,
          23,
          37,
          11.5,
          39,
          8,
          21,
          32,
          34,
          21,
          2,
          2,
          22,
          3,
          62,
          17,
          28.5,
          25,
          33,
          17.5,
          91,
          35,
          17,
          48,
          3,
          13,
          24,
          27,
          130,
          106,
          65,
          28,
          95,
          148,
          22.5,
          12,
          109,
          18.5,
          111,
          120,
          43.5,
          27,
          46,
          26,
          126,
          10,
          36,
          33,
          3,
          35,
          24,
          40,
          45,
          26,
          47,
          18,
          10,
          37,
          21,
          11,
          24.333333333333332,
          13,
          222,
          209,
          170,
          151,
          6,
          20,
          45,
          49,
          22.5,
          23.5,
          33,
          44,
          24,
          12.5,
          31,
          203,
          187,
          199,
          218,
          189,
          16,
          31,
          202,
          206,
          90,
          42.5,
          46.666666666666664,
          45,
          9.5,
          13,
          3,
          16,
          7.5,
          15,
          2,
          13.5,
          17,
          31,
          17,
          88,
          18,
          17,
          44,
          24,
          49,
          12,
          3,
          35,
          39,
          43,
          11,
          35,
          105,
          142,
          80,
          25,
          32,
          31,
          44,
          39,
          36,
          16,
          4,
          36,
          20,
          26,
          15,
          11,
          38,
          3,
          11,
          32,
          7,
          39,
          36,
          12,
          18,
          7,
          19,
          3,
          36,
          47,
          45,
          17,
          3,
          7,
          45,
          25,
          22,
          34,
          4,
          29,
          40,
          43,
          10,
          13,
          2,
          31,
          9,
          19,
          42,
          19,
          8,
          17,
          21,
          18,
          42,
          28,
          27,
          32,
          108,
          13,
          7,
          14,
          27,
          11,
          3,
          17,
          40,
          28,
          17,
          41,
          46,
          45,
          7,
          29,
          49,
          45,
          4,
          14,
          46,
          43,
          2,
          32,
          27,
          37,
          44,
          26,
          6,
          10,
          4,
          44,
          29,
          15,
          13,
          27,
          38,
          46,
          12,
          49,
          39,
          29.5,
          26,
          31,
          44,
          36,
          10,
          25.5,
          44,
          18,
          8,
          22,
          2,
          16.419354838709676,
          14,
          25,
          39,
          14,
          19,
          23,
          12,
          9,
          24,
          23,
          1,
          16,
          21,
          26,
          21,
          4,
          16,
          18,
          9,
          17,
          28,
          16,
          5,
          20,
          7,
          24,
          5,
          27,
          17,
          29,
          19,
          12,
          7,
          20,
          9,
          7,
          16,
          15,
          24,
          10,
          10,
          7,
          22.5,
          10,
          3,
          24,
          12,
          23,
          37,
          29,
          4,
          23,
          10,
          1,
          7,
          25,
          13,
          7,
          8,
          6,
          5,
          24,
          5,
          11,
          12,
          13,
          3,
          38,
          21,
          35,
          6,
          49,
          10,
          48,
          15,
          6,
          27,
          9,
          5,
          2,
          47,
          18,
          45,
          37,
          23,
          15,
          4,
          5,
          7.666666666666667,
          9,
          31,
          4,
          29,
          22.545454545454547,
          37,
          28,
          19,
          11.666666666666666,
          13,
          32,
          7.5,
          1,
          17,
          48,
          40.333333333333336,
          31,
          5,
          24,
          5.5,
          21,
          24,
          19.5,
          3,
          9,
          6,
          18,
          11,
          2,
          102,
          14.333333333333334,
          3,
          45,
          19,
          8,
          10,
          69.5,
          13.666666666666666,
          16.5,
          17,
          42,
          33,
          19,
          29,
          16,
          14.333333333333334,
          21,
          18,
          45.333333333333336,
          110,
          47,
          15,
          31,
          13,
          34,
          13,
          32,
          44,
          38,
          17,
          119,
          42,
          24,
          5,
          36,
          36,
          141,
          48,
          33,
          39,
          18,
          122,
          127,
          44,
          76.5,
          35.5,
          18,
          5,
          103.25,
          28,
          16.333333333333332,
          21,
          13.666666666666666,
          22,
          19,
          14,
          1,
          120,
          211,
          39.5,
          22,
          7,
          137,
          31,
          23,
          40,
          9,
          4,
          43,
          27,
          186,
          45,
          177,
          14,
          16,
          20,
          38,
          21,
          8,
          67,
          22.5,
          27.5,
          17,
          11,
          74,
          178,
          110.6,
          67.5,
          26.5,
          8,
          78,
          195,
          77,
          21,
          107,
          27,
          16,
          19,
          45,
          39,
          25,
          33,
          136,
          41,
          7,
          191,
          36,
          39,
          30.5,
          8.5,
          14,
          29,
          44,
          26.72340425531915,
          41,
          27,
          4,
          10,
          5,
          7,
          17,
          7,
          59,
          14,
          134,
          20,
          164,
          18,
          25,
          29.4,
          26,
          23,
          10.5,
          8,
          18,
          31,
          140,
          3,
          19,
          11,
          45,
          24,
          18,
          36,
          9,
          159,
          119,
          82,
          35,
          194,
          29,
          5,
          25,
          155,
          8.5,
          9,
          10,
          35,
          101.5,
          107,
          43,
          18,
          17,
          28,
          28,
          40,
          28.333333333333332,
          23,
          38,
          18,
          88,
          66,
          11,
          19,
          13,
          29,
          41,
          16,
          49,
          27,
          14.5,
          67,
          9,
          78,
          9,
          36,
          21,
          10.5,
          16.333333333333332,
          9,
          48,
          17,
          114,
          10.5,
          1,
          224,
          113,
          44.5,
          43.46153846153846,
          34,
          5,
          9,
          49,
          7,
          25,
          41,
          12,
          37,
          15,
          203,
          110,
          29,
          4,
          2,
          123,
          43,
          11,
          17.666666666666668,
          28,
          28,
          11,
          145,
          96,
          145,
          69,
          2,
          32.5,
          22,
          9,
          5,
          21,
          227,
          12.5,
          10,
          18.5,
          29.25,
          33.5,
          38,
          2,
          168,
          15,
          18,
          22,
          103.5,
          44,
          5,
          8,
          1,
          26,
          13.5,
          68,
          3,
          44,
          10,
          143,
          57,
          79,
          13.5,
          6,
          39,
          10,
          3,
          42.857142857142854,
          45,
          12,
          64,
          41,
          29,
          216,
          23,
          7,
          14.666666666666666,
          4,
          14,
          21,
          20,
          2,
          39.5,
          18,
          11,
          24.166666666666668,
          26,
          31,
          23,
          2,
          27,
          20.5,
          37,
          36,
          20.2,
          48,
          2,
          41,
          8,
          35,
          9,
          28,
          160,
          129,
          9,
          14,
          27,
          29,
          43,
          43,
          33,
          22,
          10,
          12.333333333333334,
          177,
          72,
          23,
          46,
          10,
          17,
          48,
          135,
          114,
          38,
          18,
          9,
          16.416666666666668,
          10,
          26,
          4,
          23,
          20,
          11,
          7,
          10.5,
          19,
          14,
          37.25,
          39.5,
          49,
          44,
          42,
          33,
          42,
          122,
          35,
          37,
          49,
          49,
          45,
          111,
          49,
          40,
          39,
          36,
          42,
          135,
          3,
          5,
          32,
          45,
          40,
          64,
          43,
          74,
          36,
          21,
          28,
          16.666666666666668,
          2,
          24,
          22,
          11,
          26,
          25,
          16,
          29,
          5,
          3,
          18,
          6,
          28,
          2,
          29,
          41,
          94,
          61,
          53.5,
          19,
          10,
          16,
          98
         ],
         "yaxis": "y"
        }
       ],
       "layout": {
        "legend": {
         "tracegroupgap": 0
        },
        "template": {
         "data": {
          "bar": [
           {
            "error_x": {
             "color": "#2a3f5f"
            },
            "error_y": {
             "color": "#2a3f5f"
            },
            "marker": {
             "line": {
              "color": "#E5ECF6",
              "width": 0.5
             },
             "pattern": {
              "fillmode": "overlay",
              "size": 10,
              "solidity": 0.2
             }
            },
            "type": "bar"
           }
          ],
          "barpolar": [
           {
            "marker": {
             "line": {
              "color": "#E5ECF6",
              "width": 0.5
             },
             "pattern": {
              "fillmode": "overlay",
              "size": 10,
              "solidity": 0.2
             }
            },
            "type": "barpolar"
           }
          ],
          "carpet": [
           {
            "aaxis": {
             "endlinecolor": "#2a3f5f",
             "gridcolor": "white",
             "linecolor": "white",
             "minorgridcolor": "white",
             "startlinecolor": "#2a3f5f"
            },
            "baxis": {
             "endlinecolor": "#2a3f5f",
             "gridcolor": "white",
             "linecolor": "white",
             "minorgridcolor": "white",
             "startlinecolor": "#2a3f5f"
            },
            "type": "carpet"
           }
          ],
          "choropleth": [
           {
            "colorbar": {
             "outlinewidth": 0,
             "ticks": ""
            },
            "type": "choropleth"
           }
          ],
          "contour": [
           {
            "colorbar": {
             "outlinewidth": 0,
             "ticks": ""
            },
            "colorscale": [
             [
              0,
              "#0d0887"
             ],
             [
              0.1111111111111111,
              "#46039f"
             ],
             [
              0.2222222222222222,
              "#7201a8"
             ],
             [
              0.3333333333333333,
              "#9c179e"
             ],
             [
              0.4444444444444444,
              "#bd3786"
             ],
             [
              0.5555555555555556,
              "#d8576b"
             ],
             [
              0.6666666666666666,
              "#ed7953"
             ],
             [
              0.7777777777777778,
              "#fb9f3a"
             ],
             [
              0.8888888888888888,
              "#fdca26"
             ],
             [
              1,
              "#f0f921"
             ]
            ],
            "type": "contour"
           }
          ],
          "contourcarpet": [
           {
            "colorbar": {
             "outlinewidth": 0,
             "ticks": ""
            },
            "type": "contourcarpet"
           }
          ],
          "heatmap": [
           {
            "colorbar": {
             "outlinewidth": 0,
             "ticks": ""
            },
            "colorscale": [
             [
              0,
              "#0d0887"
             ],
             [
              0.1111111111111111,
              "#46039f"
             ],
             [
              0.2222222222222222,
              "#7201a8"
             ],
             [
              0.3333333333333333,
              "#9c179e"
             ],
             [
              0.4444444444444444,
              "#bd3786"
             ],
             [
              0.5555555555555556,
              "#d8576b"
             ],
             [
              0.6666666666666666,
              "#ed7953"
             ],
             [
              0.7777777777777778,
              "#fb9f3a"
             ],
             [
              0.8888888888888888,
              "#fdca26"
             ],
             [
              1,
              "#f0f921"
             ]
            ],
            "type": "heatmap"
           }
          ],
          "heatmapgl": [
           {
            "colorbar": {
             "outlinewidth": 0,
             "ticks": ""
            },
            "colorscale": [
             [
              0,
              "#0d0887"
             ],
             [
              0.1111111111111111,
              "#46039f"
             ],
             [
              0.2222222222222222,
              "#7201a8"
             ],
             [
              0.3333333333333333,
              "#9c179e"
             ],
             [
              0.4444444444444444,
              "#bd3786"
             ],
             [
              0.5555555555555556,
              "#d8576b"
             ],
             [
              0.6666666666666666,
              "#ed7953"
             ],
             [
              0.7777777777777778,
              "#fb9f3a"
             ],
             [
              0.8888888888888888,
              "#fdca26"
             ],
             [
              1,
              "#f0f921"
             ]
            ],
            "type": "heatmapgl"
           }
          ],
          "histogram": [
           {
            "marker": {
             "pattern": {
              "fillmode": "overlay",
              "size": 10,
              "solidity": 0.2
             }
            },
            "type": "histogram"
           }
          ],
          "histogram2d": [
           {
            "colorbar": {
             "outlinewidth": 0,
             "ticks": ""
            },
            "colorscale": [
             [
              0,
              "#0d0887"
             ],
             [
              0.1111111111111111,
              "#46039f"
             ],
             [
              0.2222222222222222,
              "#7201a8"
             ],
             [
              0.3333333333333333,
              "#9c179e"
             ],
             [
              0.4444444444444444,
              "#bd3786"
             ],
             [
              0.5555555555555556,
              "#d8576b"
             ],
             [
              0.6666666666666666,
              "#ed7953"
             ],
             [
              0.7777777777777778,
              "#fb9f3a"
             ],
             [
              0.8888888888888888,
              "#fdca26"
             ],
             [
              1,
              "#f0f921"
             ]
            ],
            "type": "histogram2d"
           }
          ],
          "histogram2dcontour": [
           {
            "colorbar": {
             "outlinewidth": 0,
             "ticks": ""
            },
            "colorscale": [
             [
              0,
              "#0d0887"
             ],
             [
              0.1111111111111111,
              "#46039f"
             ],
             [
              0.2222222222222222,
              "#7201a8"
             ],
             [
              0.3333333333333333,
              "#9c179e"
             ],
             [
              0.4444444444444444,
              "#bd3786"
             ],
             [
              0.5555555555555556,
              "#d8576b"
             ],
             [
              0.6666666666666666,
              "#ed7953"
             ],
             [
              0.7777777777777778,
              "#fb9f3a"
             ],
             [
              0.8888888888888888,
              "#fdca26"
             ],
             [
              1,
              "#f0f921"
             ]
            ],
            "type": "histogram2dcontour"
           }
          ],
          "mesh3d": [
           {
            "colorbar": {
             "outlinewidth": 0,
             "ticks": ""
            },
            "type": "mesh3d"
           }
          ],
          "parcoords": [
           {
            "line": {
             "colorbar": {
              "outlinewidth": 0,
              "ticks": ""
             }
            },
            "type": "parcoords"
           }
          ],
          "pie": [
           {
            "automargin": true,
            "type": "pie"
           }
          ],
          "scatter": [
           {
            "marker": {
             "colorbar": {
              "outlinewidth": 0,
              "ticks": ""
             }
            },
            "type": "scatter"
           }
          ],
          "scatter3d": [
           {
            "line": {
             "colorbar": {
              "outlinewidth": 0,
              "ticks": ""
             }
            },
            "marker": {
             "colorbar": {
              "outlinewidth": 0,
              "ticks": ""
             }
            },
            "type": "scatter3d"
           }
          ],
          "scattercarpet": [
           {
            "marker": {
             "colorbar": {
              "outlinewidth": 0,
              "ticks": ""
             }
            },
            "type": "scattercarpet"
           }
          ],
          "scattergeo": [
           {
            "marker": {
             "colorbar": {
              "outlinewidth": 0,
              "ticks": ""
             }
            },
            "type": "scattergeo"
           }
          ],
          "scattergl": [
           {
            "marker": {
             "colorbar": {
              "outlinewidth": 0,
              "ticks": ""
             }
            },
            "type": "scattergl"
           }
          ],
          "scattermapbox": [
           {
            "marker": {
             "colorbar": {
              "outlinewidth": 0,
              "ticks": ""
             }
            },
            "type": "scattermapbox"
           }
          ],
          "scatterpolar": [
           {
            "marker": {
             "colorbar": {
              "outlinewidth": 0,
              "ticks": ""
             }
            },
            "type": "scatterpolar"
           }
          ],
          "scatterpolargl": [
           {
            "marker": {
             "colorbar": {
              "outlinewidth": 0,
              "ticks": ""
             }
            },
            "type": "scatterpolargl"
           }
          ],
          "scatterternary": [
           {
            "marker": {
             "colorbar": {
              "outlinewidth": 0,
              "ticks": ""
             }
            },
            "type": "scatterternary"
           }
          ],
          "surface": [
           {
            "colorbar": {
             "outlinewidth": 0,
             "ticks": ""
            },
            "colorscale": [
             [
              0,
              "#0d0887"
             ],
             [
              0.1111111111111111,
              "#46039f"
             ],
             [
              0.2222222222222222,
              "#7201a8"
             ],
             [
              0.3333333333333333,
              "#9c179e"
             ],
             [
              0.4444444444444444,
              "#bd3786"
             ],
             [
              0.5555555555555556,
              "#d8576b"
             ],
             [
              0.6666666666666666,
              "#ed7953"
             ],
             [
              0.7777777777777778,
              "#fb9f3a"
             ],
             [
              0.8888888888888888,
              "#fdca26"
             ],
             [
              1,
              "#f0f921"
             ]
            ],
            "type": "surface"
           }
          ],
          "table": [
           {
            "cells": {
             "fill": {
              "color": "#EBF0F8"
             },
             "line": {
              "color": "white"
             }
            },
            "header": {
             "fill": {
              "color": "#C8D4E3"
             },
             "line": {
              "color": "white"
             }
            },
            "type": "table"
           }
          ]
         },
         "layout": {
          "annotationdefaults": {
           "arrowcolor": "#2a3f5f",
           "arrowhead": 0,
           "arrowwidth": 1
          },
          "autotypenumbers": "strict",
          "coloraxis": {
           "colorbar": {
            "outlinewidth": 0,
            "ticks": ""
           }
          },
          "colorscale": {
           "diverging": [
            [
             0,
             "#8e0152"
            ],
            [
             0.1,
             "#c51b7d"
            ],
            [
             0.2,
             "#de77ae"
            ],
            [
             0.3,
             "#f1b6da"
            ],
            [
             0.4,
             "#fde0ef"
            ],
            [
             0.5,
             "#f7f7f7"
            ],
            [
             0.6,
             "#e6f5d0"
            ],
            [
             0.7,
             "#b8e186"
            ],
            [
             0.8,
             "#7fbc41"
            ],
            [
             0.9,
             "#4d9221"
            ],
            [
             1,
             "#276419"
            ]
           ],
           "sequential": [
            [
             0,
             "#0d0887"
            ],
            [
             0.1111111111111111,
             "#46039f"
            ],
            [
             0.2222222222222222,
             "#7201a8"
            ],
            [
             0.3333333333333333,
             "#9c179e"
            ],
            [
             0.4444444444444444,
             "#bd3786"
            ],
            [
             0.5555555555555556,
             "#d8576b"
            ],
            [
             0.6666666666666666,
             "#ed7953"
            ],
            [
             0.7777777777777778,
             "#fb9f3a"
            ],
            [
             0.8888888888888888,
             "#fdca26"
            ],
            [
             1,
             "#f0f921"
            ]
           ],
           "sequentialminus": [
            [
             0,
             "#0d0887"
            ],
            [
             0.1111111111111111,
             "#46039f"
            ],
            [
             0.2222222222222222,
             "#7201a8"
            ],
            [
             0.3333333333333333,
             "#9c179e"
            ],
            [
             0.4444444444444444,
             "#bd3786"
            ],
            [
             0.5555555555555556,
             "#d8576b"
            ],
            [
             0.6666666666666666,
             "#ed7953"
            ],
            [
             0.7777777777777778,
             "#fb9f3a"
            ],
            [
             0.8888888888888888,
             "#fdca26"
            ],
            [
             1,
             "#f0f921"
            ]
           ]
          },
          "colorway": [
           "#636efa",
           "#EF553B",
           "#00cc96",
           "#ab63fa",
           "#FFA15A",
           "#19d3f3",
           "#FF6692",
           "#B6E880",
           "#FF97FF",
           "#FECB52"
          ],
          "font": {
           "color": "#2a3f5f"
          },
          "geo": {
           "bgcolor": "white",
           "lakecolor": "white",
           "landcolor": "#E5ECF6",
           "showlakes": true,
           "showland": true,
           "subunitcolor": "white"
          },
          "hoverlabel": {
           "align": "left"
          },
          "hovermode": "closest",
          "mapbox": {
           "style": "light"
          },
          "paper_bgcolor": "white",
          "plot_bgcolor": "#E5ECF6",
          "polar": {
           "angularaxis": {
            "gridcolor": "white",
            "linecolor": "white",
            "ticks": ""
           },
           "bgcolor": "#E5ECF6",
           "radialaxis": {
            "gridcolor": "white",
            "linecolor": "white",
            "ticks": ""
           }
          },
          "scene": {
           "xaxis": {
            "backgroundcolor": "#E5ECF6",
            "gridcolor": "white",
            "gridwidth": 2,
            "linecolor": "white",
            "showbackground": true,
            "ticks": "",
            "zerolinecolor": "white"
           },
           "yaxis": {
            "backgroundcolor": "#E5ECF6",
            "gridcolor": "white",
            "gridwidth": 2,
            "linecolor": "white",
            "showbackground": true,
            "ticks": "",
            "zerolinecolor": "white"
           },
           "zaxis": {
            "backgroundcolor": "#E5ECF6",
            "gridcolor": "white",
            "gridwidth": 2,
            "linecolor": "white",
            "showbackground": true,
            "ticks": "",
            "zerolinecolor": "white"
           }
          },
          "shapedefaults": {
           "line": {
            "color": "#2a3f5f"
           }
          },
          "ternary": {
           "aaxis": {
            "gridcolor": "white",
            "linecolor": "white",
            "ticks": ""
           },
           "baxis": {
            "gridcolor": "white",
            "linecolor": "white",
            "ticks": ""
           },
           "bgcolor": "#E5ECF6",
           "caxis": {
            "gridcolor": "white",
            "linecolor": "white",
            "ticks": ""
           }
          },
          "title": {
           "x": 0.05
          },
          "xaxis": {
           "automargin": true,
           "gridcolor": "white",
           "linecolor": "white",
           "ticks": "",
           "title": {
            "standoff": 15
           },
           "zerolinecolor": "white",
           "zerolinewidth": 2
          },
          "yaxis": {
           "automargin": true,
           "gridcolor": "white",
           "linecolor": "white",
           "ticks": "",
           "title": {
            "standoff": 15
           },
           "zerolinecolor": "white",
           "zerolinewidth": 2
          }
         }
        },
        "title": {
         "text": "Check what characterizes chained establishment"
        },
        "xaxis": {
         "anchor": "y",
         "domain": [
          0,
          1
         ],
         "title": {
          "text": "object_name"
         }
        },
        "yaxis": {
         "anchor": "x",
         "domain": [
          0,
          1
         ],
         "title": {
          "text": "seats amount"
         }
        }
       }
      },
      "text/html": [
       "<div>                            <div id=\"c7f9c101-2bf1-44a0-9857-472929c45c58\" class=\"plotly-graph-div\" style=\"height:525px; width:100%;\"></div>            <script type=\"text/javascript\">                require([\"plotly\"], function(Plotly) {                    window.PLOTLYENV=window.PLOTLYENV || {};                                    if (document.getElementById(\"c7f9c101-2bf1-44a0-9857-472929c45c58\")) {                    Plotly.newPlot(                        \"c7f9c101-2bf1-44a0-9857-472929c45c58\",                        [{\"hovertemplate\":\"object_name=%{x}<br>seats amount=%{y}<extra></extra>\",\"legendgroup\":\"\",\"marker\":{\"color\":\"#636efa\",\"symbol\":\"circle\"},\"mode\":\"markers\",\"name\":\"\",\"showlegend\":false,\"type\":\"scattergl\",\"x\":[1,1,1,1,1,1,1,1,1,1,1,1,1,1,1,2,1,1,2,1,1,1,1,1,1,1,1,1,1,1,1,1,1,1,1,1,1,1,1,1,1,1,1,1,1,1,1,1,1,1,1,1,1,2,1,2,1,1,1,2,1,1,1,2,1,1,1,1,1,1,1,1,1,1,1,1,1,1,2,1,1,1,2,1,1,1,2,2,2,1,1,1,1,1,2,1,1,1,2,5,1,1,1,1,1,2,1,1,1,1,3,1,1,1,3,1,1,8,1,1,1,1,1,3,1,1,2,1,1,1,1,1,1,2,2,1,1,2,1,1,1,1,1,1,1,1,1,3,1,2,2,1,2,2,1,1,3,1,1,1,1,2,1,9,1,2,1,2,2,4,1,1,1,1,2,1,1,1,1,1,1,2,1,1,2,1,1,1,1,1,1,1,1,1,3,1,1,1,1,2,1,1,1,1,1,1,1,1,1,1,1,1,1,1,1,1,1,1,1,1,1,1,1,1,1,1,1,1,1,1,1,1,1,1,1,1,1,1,2,2,1,3,1,2,2,1,1,1,2,2,1,1,1,1,2,1,1,2,1,2,2,1,3,1,1,2,1,1,2,1,3,1,1,2,2,1,2,1,1,2,1,1,1,1,1,1,1,1,8,1,1,1,1,1,1,1,1,1,1,1,1,1,1,1,1,1,2,1,1,1,1,2,1,1,1,1,2,1,1,1,3,1,1,1,1,1,2,2,1,1,1,1,2,1,1,3,2,1,1,1,1,1,1,3,1,2,1,1,7,1,1,1,2,1,1,1,1,6,1,1,1,1,1,1,2,2,1,1,1,1,1,1,1,1,1,10,1,1,1,1,1,1,1,1,1,1,1,1,2,1,1,1,1,1,1,1,1,1,5,1,1,1,1,1,1,1,1,1,4,1,3,3,1,1,1,3,1,1,5,1,3,1,1,2,1,1,1,2,1,1,1,1,1,2,1,1,1,2,1,1,1,1,1,1,1,3,1,1,1,1,2,1,1,1,1,1,1,1,2,1,1,1,1,1,1,1,1,3,1,3,1,2,1,2,1,1,1,1,1,1,1,1,1,1,1,1,1,1,1,1,1,1,1,1,1,1,2,1,1,1,1,1,2,1,3,1,1,1,1,2,1,1,1,1,1,1,1,1,1,15,1,1,1,1,1,1,1,1,1,1,1,1,1,1,1,2,1,1,1,1,1,1,1,2,1,4,3,1,1,1,2,1,1,1,1,1,1,1,1,1,1,1,1,1,2,4,1,1,1,1,1,1,1,1,1,1,1,1,1,4,1,2,5,1,2,1,2,1,2,1,1,1,1,1,1,2,1,1,1,1,2,2,2,1,1,1,1,2,2,1,1,2,2,1,1,1,2,1,1,2,1,1,1,1,1,1,1,1,2,2,1,1,1,10,1,1,1,1,1,1,1,1,1,1,1,1,1,1,1,1,1,1,1,1,1,1,1,1,1,1,1,1,1,1,2,1,2,1,1,2,1,1,1,1,1,2,1,1,2,1,2,1,2,1,1,1,1,1,1,1,1,1,2,1,1,1,1,1,1,1,1,1,1,1,1,1,1,1,1,1,1,2,1,6,1,1,1,1,2,1,1,1,1,2,1,2,1,1,1,1,1,1,1,1,1,1,2,1,1,1,1,1,1,1,1,1,2,1,1,1,1,1,1,1,1,1,2,2,1,1,1,1,1,1,1,2,1,1,1,1,1,1,1,1,1,1,1,2,2,1,2,1,2,1,1,1,1,3,1,1,1,1,1,1,2,1,1,2,1,2,1,1,1,1,1,1,1,1,1,1,1,2,1,1,1,2,1,1,2,1,1,1,1,1,1,2,1,1,1,1,1,1,3,2,1,1,1,1,1,1,1,1,2,1,1,3,1,1,1,1,1,2,1,1,1,1,1,2,1,1,1,2,1,1,1,1,1,1,1,1,1,2,1,2,3,2,1,5,12,1,1,1,1,1,1,2,1,1,1,1,1,3,1,1,1,1,1,2,1,1,1,1,2,5,1,1,1,3,1,1,2,1,1,1,1,1,1,1,1,1,1,1,1,2,1,1,2,1,1,1,2,1,1,1,1,2,3,1,1,1,1,1,1,1,1,1,1,1,1,1,1,1,1,1,1,1,1,1,1,1,1,1,1,1,1,1,1,1,1,1,1,1,1,1,1,1,1,1,1,1,1,2,1,1,1,1,1,1,1,1,1,1,1,1,1,1,1,1,1,1,2,1,1,2,1,1,1,1,1,1,2,1,1,2,1,1,1,1,1,1,1,2,1,1,8,1,1,1,1,1,4,1,5,1,1,1,1,1,1,1,1,1,1,1,2,1,1,2,1,1,2,1,1,2,1,1,1,1,1,1,1,1,1,1,4,4,2,2,1,1,1,1,1,2,1,1,1,1,1,1,1,1,2,1,1,1,2,2,1,14,1,1,1,1,1,9,1,1,1,1,1,1,1,1,1,1,1,1,1,1,1,1,2,1,1,1,1,1,1,2,1,1,1,1,1,2,1,1,2,2,1,1,1,2,1,3,1,1,1,2,1,1,1,1,1,1,1,3,1,2,1,2,1,1,1,1,1,1,2,3,1,1,1,1,1,1,1,1,1,1,1,1,1,1,1,1,1,1,1,1,1,1,1,1,1,1,1,1,1,1,1,1,1,1,6,1,1,1,1,2,1,1,1,1,2,1,1,1,1,2,1,1,2,1,1,1,1,1,1,1,1,1,1,1,1,1,1,1,1,1,3,1,1,1,1,1,1,1,1,1,1,1,1,1,1,1,1,1,1,1,2,2,2,5,1,2,1,1,4,1,2,1,1,1,1,2,2,1,1,1,3,3,1,1,1,1,1,1,1,1,2,1,1,1,1,1,1,1,1,1,6,1,1,1,1,1,1,1,1,2,2,1,1,1,1,2,1,1,1,2,1,1,2,1,1,1,1,1,1,1,1,2,1,1,1,1,1,2,1,1,2,1,1,1,2,1,1,1,1,1,1,1,1,1,2,1,2,10,1,1,3,1,1,1,1,1,2,1,1,1,1,1,1,1,2,1,1,1,1,1,2,1,1,1,1,1,1,1,1,1,1,2,1,1,1,1,1,2,1,1,1,2,1,1,1,2,1,1,1,1,1,1,1,1,1,1,1,1,1,1,1,1,1,2,1,2,1,1,1,1,2,1,4,1,1,1,1,1,1,1,1,2,1,13,1,1,1,1,1,1,1,1,2,1,1,1,1,1,1,1,1,1,1,1,1,1,1,1,1,1,1,1,1,1,1,1,1,1,1,1,1,1,1,1,1,1,1,1,1,1,1,1,1,1,1,1,1,1,1,1,1,1,1,1,1,1,1,1,1,1,1,1,1,1,1,2,1,1,1,1,1,1,1,1,2,1,5,1,2,1,1,1,1,1,1,1,1,1,1,1,1,1,1,3,1,1,2,1,1,2,1,1,1,1,2,1,1,1,1,1,1,1,1,1,1,1,2,1,2,2,1,1,1,2,2,1,1,2,2,1,1,1,1,2,1,1,2,1,1,1,1,1,1,1,2,2,1,1,1,1,1,1,1,1,1,1,1,2,1,1,1,1,1,1,1,1,1,1,1,1,3,1,1,1,1,1,1,1,2,2,1,1,1,1,1,1,2,2,2,2,4,1,2,1,2,1,1,1,1,1,1,1,1,1,1,1,1,1,1,1,1,1,1,1,1,2,1,1,1,2,1,2,1,1,1,1,2,5,1,1,1,2,1,1,1,1,1,3,1,1,1,2,1,1,1,1,1,1,1,1,2,1,3,1,1,1,1,3,2,1,1,1,1,1,1,1,6,1,1,1,1,1,1,1,1,1,1,1,1,1,1,1,1,1,1,3,1,3,1,1,2,2,1,1,1,12,1,1,2,1,1,5,1,1,1,1,1,1,2,1,1,1,1,1,2,1,1,3,1,1,1,1,1,2,1,1,2,2,1,1,1,1,1,1,1,1,2,1,1,1,1,1,3,3,1,1,1,1,1,1,7,1,1,1,1,1,1,1,2,2,3,1,1,1,1,1,1,1,1,1,1,1,1,1,1,1,1,1,1,1,1,1,1,1,1,1,1,1,1,1,1,1,3,3,1,1,1,1,2,2,2,1,1,1,1,2,1,2,2,1,4,2,1,1,6,1,1,1,1,1,2,5,1,1,1,1,1,1,1,4,1,1,1,1,2,1,1,2,1,1,1,1,1,1,1,1,2,1,2,2,1,1,2,1,1,1,1,1,1,2,2,1,1,1,1,1,1,1,1,1,3,1,1,1,1,1,1,1,1,1,1,1,1,1,1,1,1,1,1,1,1,1,1,1,1,1,1,1,1,1,1,1,1,1,1,1,1,2,1,1,1,2,1,1,2,1,1,3,1,1,1,1,1,1,1,1,2,1,1,1,1,1,1,1,1,1,1,1,1,2,1,1,1,1,2,1,1,1,1,1,1,2,1,1,1,1,1,1,1,2,1,1,1,2,2,1,1,2,1,1,1,1,1,1,1,1,1,2,1,1,2,1,1,3,1,1,1,1,1,2,1,1,1,2,1,2,1,1,2,1,1,4,1,1,1,1,1,2,1,1,1,2,1,1,1,1,1,1,1,1,1,3,2,1,1,1,1,1,1,1,1,2,2,1,1,1,2,1,3,1,1,1,1,1,1,2,1,1,2,3,1,2,1,1,1,2,1,1,2,1,1,1,2,12,1,1,1,1,1,1,1,1,1,1,1,1,1,1,1,1,1,1,1,1,1,1,1,1,2,1,1,1,1,1,1,1,1,1,1,1,1,1,1,1,1,1,1,1,1,1,1,1,1,1,1,1,1,1,1,1,1,2,1,1,1,1,1,1,1,1,1,1,1,1,1,1,1,1,1,1,1,1,1,1,1,1,1,1,1,1,1,1,1,1,1,1,1,1,1,1,1,1,1,1,1,1,1,1,1,1,1,1,1,1,2,1,1,1,2,1,2,1,1,1,1,1,31,1,1,1,1,1,1,1,1,1,1,1,1,1,1,1,1,1,1,1,1,1,1,1,1,1,1,1,1,2,1,1,1,1,1,1,1,1,1,1,1,1,1,2,1,1,1,1,1,1,1,1,1,1,1,1,1,1,1,1,1,1,1,1,1,1,1,1,1,1,1,1,1,1,1,1,1,1,1,1,1,1,1,1,1,1,1,1,1,3,1,1,1,1,11,1,1,1,3,1,1,2,1,1,1,3,1,1,1,2,1,1,2,1,2,2,1,1,1,1,3,1,1,2,1,2,2,3,2,2,1,2,1,1,5,3,1,1,6,1,1,1,1,1,1,1,1,1,1,1,1,1,1,1,1,1,1,1,1,1,1,1,1,1,2,2,1,1,4,1,3,1,3,2,1,1,1,1,1,2,1,1,1,1,2,1,1,1,1,1,1,1,1,1,1,1,1,2,1,1,2,2,1,2,1,1,5,2,2,2,1,1,1,1,1,1,1,1,1,1,1,1,1,1,1,1,1,1,2,2,1,2,2,47,1,1,1,1,1,1,1,1,2,1,4,1,1,1,1,5,1,1,2,1,1,1,1,1,2,1,1,2,1,1,1,1,1,2,1,1,2,1,1,1,2,1,1,3,2,1,1,2,1,1,1,1,3,1,1,1,1,1,1,1,3,1,1,1,1,1,2,4,1,1,1,1,1,2,3,1,1,1,1,2,1,1,1,2,13,1,1,1,1,2,2,1,1,1,1,1,1,1,1,1,1,1,3,3,1,1,1,1,3,1,1,1,2,1,1,1,2,1,2,1,2,4,2,1,1,1,1,1,1,2,1,1,1,1,1,2,1,1,1,1,1,3,1,2,1,1,1,1,14,1,1,2,1,1,1,1,1,6,1,4,2,1,1,2,2,1,6,1,1,1,1,1,2,1,1,10,1,1,1,1,1,1,1,2,1,1,1,1,1,1,1,1,1,2,3,1,1,1,1,1,1,1,1,1,1,2,1,12,1,1,1,1,1,1,1,2,1,1,4,2,1,1,1,1,1,1,1,1,1,1,1,1,1,1,1,1,1,1,1,1,1,1,1,1,1,1,1,2,1,3,1,1,1,1,1,1,1,1,1,1,1,1,1,1,1,3,1,1,2,1,1,1,1],\"xaxis\":\"x\",\"y\":[6.0,45.0,180.0,7.0,18.0,41.0,115.0,45.0,37.0,204.0,105.0,97.0,3.0,15.0,13.0,11.0,15.0,159.0,71.5,211.0,12.0,35.0,11.0,5.0,2.0,122.0,15.0,12.0,115.0,41.0,42.0,16.0,3.0,64.0,105.0,21.0,14.0,12.0,46.0,1.0,7.0,29.0,36.0,13.0,4.0,24.0,16.0,2.0,25.0,28.0,26.0,24.0,10.0,17.0,1.0,20.0,3.0,20.0,21.0,23.5,21.0,23.0,4.0,7.0,49.0,181.0,6.0,13.0,4.0,42.0,32.0,32.0,218.0,5.0,46.0,118.0,3.0,25.0,25.0,23.0,65.0,36.0,12.5,21.0,8.0,26.0,182.0,13.5,20.0,29.0,1.0,42.0,40.0,26.0,20.0,46.0,118.0,24.0,37.0,66.0,43.0,21.0,20.0,46.0,102.0,47.5,2.0,39.0,132.0,16.0,17.666666666666668,11.0,12.0,12.0,20.333333333333332,87.0,2.0,18.375,23.0,7.0,29.0,6.0,10.0,17.333333333333332,16.0,1.0,40.5,4.0,69.0,17.0,24.0,43.0,23.0,14.0,13.0,9.0,20.0,13.0,13.0,45.0,160.0,27.0,90.0,3.0,62.0,26.0,8.0,59.0,24.0,17.0,26.5,12.0,155.5,194.5,165.0,5.0,47.333333333333336,19.0,12.0,38.0,37.0,35.0,31.0,21.88888888888889,43.0,46.5,20.0,13.0,7.5,16.5,7.0,1.0,35.0,44.0,25.5,18.0,43.0,13.0,13.0,64.0,19.0,7.5,4.0,31.0,7.0,25.0,12.0,5.0,141.0,19.0,113.0,18.0,111.0,23.0,164.33333333333334,216.0,3.0,1.0,107.0,11.0,92.0,103.0,28.0,42.0,118.0,43.0,46.0,41.0,140.0,64.0,137.0,125.0,86.0,84.0,81.0,40.0,67.0,124.0,109.0,31.0,72.0,142.0,87.0,48.0,137.0,63.0,49.0,89.0,109.0,118.0,70.0,47.0,77.0,67.0,149.0,105.0,48.0,144.0,21.0,27.0,96.0,23.333333333333332,42.0,65.5,120.0,27.0,12.0,37.0,69.5,13.0,13.0,1.0,13.0,23.0,16.0,39.0,19.0,117.0,24.0,14.5,6.0,136.0,26.0,4.0,3.0,181.0,162.0,62.0,39.5,225.0,12.666666666666666,33.0,20.0,53.5,161.0,145.0,30.5,18.0,31.0,24.5,47.0,3.0,15.0,17.0,16.0,47.0,10.0,70.0,65.875,117.0,119.0,106.0,146.0,161.0,127.0,89.0,219.0,45.0,45.0,100.0,123.0,134.0,70.0,31.0,69.0,17.0,92.0,38.0,22.0,10.0,22.0,33.0,26.0,44.0,112.0,23.0,122.5,170.0,12.0,177.0,20.0,99.0,43.0,34.0,6.0,95.0,20.5,7.5,133.0,89.0,7.0,20.0,32.0,21.0,64.0,18.0,28.5,146.0,46.0,33.0,161.0,18.0,25.0,28.0,13.0,14.0,27.0,11.0,20.0,26.0,143.0,39.0,24.5,5.0,13.0,45.0,33.0,14.5,29.0,24.0,12.0,2.0,29.0,7.0,8.0,24.5,36.0,39.0,13.0,12.0,13.0,10.0,29.0,39.0,47.0,37.9,107.0,32.0,36.0,74.0,42.0,6.0,23.0,19.0,98.0,112.0,135.0,226.0,61.5,167.0,228.0,200.0,66.0,78.0,42.0,21.0,194.0,22.0,14.0,34.0,20.0,36.0,208.0,37.0,24.0,22.0,31.0,22.0,108.25,124.0,16.333333333333332,18.0,6.0,35.0,8.0,29.0,5.0,2.0,18.2,21.0,32.333333333333336,44.0,21.0,27.0,19.0,36.0,16.0,36.0,14.0,84.0,19.0,31.0,96.0,18.0,12.0,117.0,8.0,16.5,19.0,35.0,161.0,77.0,16.0,32.0,19.0,51.666666666666664,202.0,177.0,25.0,185.0,41.0,6.0,49.0,18.0,17.0,5.0,68.0,21.0,73.0,44.0,40.0,26.0,12.0,114.0,4.0,125.0,17.0,16.666666666666668,29.0,10.666666666666666,28.0,11.5,111.0,197.5,31.0,13.0,36.0,1.0,40.0,31.0,49.0,62.0,43.0,25.0,19.0,46.0,13.0,36.0,6.0,1.0,33.0,31.0,5.0,45.0,18.0,8.0,20.5,18.0,2.0,14.0,14.0,2.0,17.5,7.0,26.333333333333332,70.0,190.0,157.0,95.0,11.5,19.0,130.0,20.0,69.0,16.0,20.0,203.0,95.0,40.0,12.333333333333334,3.0,11.0,22.0,5.0,29.0,7.0,24.0,4.0,12.0,25.0,28.0,14.0,14.0,20.0,13.0,7.0,22.0,68.0,28.0,33.0,42.0,23.0,6.0,26.0,13.0,21.5,22.333333333333332,2.0,19.0,25.0,27.5,34.0,15.0,23.0,42.0,24.0,19.0,24.0,28.0,13.0,126.0,7.0,16.0,118.0,15.5,16.5,83.0,7.0,20.0,16.0,19.0,6.0,24.0,41.0,40.0,17.0,10.0,6.0,18.0,22.5,3.0,33.0,15.6,10.0,11.0,23.0,19.0,39.0,109.5,24.0,48.0,20.0,11.0,41.0,2.0,2.0,44.0,43.0,136.0,67.0,44.0,8.0,15.5,21.0,86.0,38.0,75.0,81.5,103.5,84.0,13.0,27.0,18.5,1.0,14.0,25.0,12.5,39.0,23.0,16.0,36.0,29.0,11.0,39.0,14.0,15.0,45.0,33.0,22.5,17.0,1.0,22.0,77.0,63.6,47.0,142.0,48.0,76.0,31.0,37.0,49.0,43.0,98.0,95.0,109.0,48.0,87.0,148.0,47.0,49.0,49.0,42.0,36.0,102.0,117.0,91.0,44.0,40.0,31.0,100.0,29.0,11.0,21.0,8.0,25.5,14.0,8.5,16.0,139.0,37.5,33.0,9.0,26.0,29.0,46.0,15.0,15.0,26.0,126.5,4.0,24.5,101.0,28.5,49.0,27.0,99.0,33.0,133.0,28.0,16.0,33.0,17.0,106.5,4.0,24.0,21.0,32.0,5.0,15.0,205.0,33.0,9.0,80.0,205.0,190.0,142.0,12.0,34.0,9.0,38.0,122.0,20.5,4.0,21.666666666666668,9.0,45.0,42.0,8.0,88.5,4.0,29.0,13.0,2.0,78.0,9.0,15.5,18.0,82.0,6.0,3.0,22.0,38.0,35.0,49.0,12.0,107.0,25.0,27.0,21.0,21.0,17.0,25.0,9.0,16.0,16.0,15.0,29.5,21.0,27.0,28.0,47.0,20.0,20.0,191.0,6.0,49.0,160.5,36.0,7.0,18.0,33.0,22.0,1.0,22.0,28.0,7.5,37.0,26.0,1.0,4.0,22.0,36.0,93.0,8.0,9.0,118.0,85.0,44.0,26.5,103.0,19.0,10.0,44.0,46.0,16.0,40.0,21.0,65.33333333333333,80.0,41.0,11.0,14.0,44.0,23.0,92.5,15.0,3.0,11.0,15.0,11.5,45.0,10.0,117.0,35.0,28.0,5.0,24.0,6.0,2.0,48.0,35.0,27.5,27.0,39.0,27.0,38.0,28.0,26.0,13.5,35.0,49.0,37.0,32.0,10.0,3.0,17.0,10.0,3.0,41.0,45.0,84.0,22.0,51.333333333333336,49.5,42.0,145.0,106.0,39.0,38.0,43.0,36.0,45.0,16.5,155.0,18.0,21.666666666666668,9.0,13.0,47.0,164.0,194.0,19.5,6.0,11.0,1.0,1.0,35.0,41.5,18.0,3.0,32.0,55.5,23.0,105.0,46.0,99.0,4.0,4.0,18.0,37.0,20.0,100.5,20.0,29.5,13.666666666666666,21.5,92.0,11.6,18.583333333333332,2.0,1.0,44.0,167.0,127.0,130.0,39.0,32.0,89.0,3.0,19.0,192.0,11.333333333333334,117.0,6.0,40.0,48.0,10.0,17.0,19.0,31.0,3.0,16.0,20.0,17.4,18.0,18.0,11.0,113.66666666666667,133.0,194.0,94.0,18.0,144.0,2.0,25.0,7.0,27.0,22.0,12.0,13.0,73.0,119.0,142.0,108.5,21.0,65.0,114.0,20.0,19.0,122.0,36.5,42.0,35.0,9.0,48.0,145.5,33.0,32.0,24.0,10.0,46.0,13.0,19.0,15.0,48.0,45.0,26.0,10.0,42.0,28.0,32.0,139.0,138.0,42.0,95.0,104.0,24.0,128.0,121.0,126.0,91.0,38.0,74.0,37.0,38.0,44.0,88.0,25.0,115.0,38.0,47.0,44.0,29.0,38.0,11.0,5.0,31.0,140.0,130.0,71.0,80.0,76.5,109.0,44.0,92.0,33.0,106.0,83.0,34.0,45.0,35.0,93.0,113.0,48.0,42.0,35.0,118.0,2.0,27.0,48.0,7.0,27.0,16.0,27.0,43.0,1.0,1.0,25.0,19.0,29.0,13.0,12.0,23.0,34.0,12.0,1.0,4.0,23.0,1.0,8.0,102.0,8.5,7.0,41.0,25.375,9.0,19.0,2.0,29.0,18.0,47.25,43.0,22.4,29.0,37.0,17.0,10.0,171.0,77.0,15.0,23.0,21.0,80.0,12.0,32.0,26.0,11.0,16.5,67.0,88.0,36.0,112.0,46.0,12.5,17.0,1.0,16.0,18.0,10.0,19.0,49.0,6.0,3.0,19.0,20.75,21.75,64.0,12.5,33.0,6.0,152.0,9.0,6.0,184.0,45.0,34.0,25.0,39.0,199.0,119.0,27.0,19.0,172.0,178.0,8.0,12.0,18.5,24.0,10.0,33.357142857142854,26.0,121.0,44.0,108.0,145.0,42.55555555555556,48.0,28.0,36.0,40.0,44.0,23.0,21.0,24.0,1.0,9.0,4.0,10.0,102.0,16.0,47.0,12.0,18.5,22.0,32.0,13.0,23.0,22.0,217.0,11.0,125.0,14.0,17.0,182.0,49.0,42.5,85.0,20.0,72.5,35.5,96.0,49.0,12.0,12.0,38.0,25.666666666666668,15.0,15.0,12.0,17.5,4.0,32.0,6.0,24.0,26.0,23.0,12.0,59.0,41.0,19.5,22.0,72.5,37.0,43.0,12.0,17.0,25.0,26.0,8.5,14.333333333333334,4.0,17.0,46.0,4.0,42.0,25.0,16.0,8.0,10.0,10.0,1.0,1.0,29.0,16.0,23.0,4.0,6.0,225.0,14.0,10.0,24.0,23.0,38.0,45.0,12.0,15.0,8.0,4.0,37.0,2.0,27.0,3.0,15.0,18.0,24.0,8.0,5.0,4.0,28.0,52.0,7.0,20.0,1.0,18.0,60.0,47.0,39.0,48.0,34.0,88.0,103.0,63.0,2.5,27.0,4.0,8.0,29.0,29.0,42.0,23.0,25.0,80.0,16.0,45.0,15.0,3.0,78.0,21.0,39.0,36.0,19.666666666666668,46.0,18.0,176.0,3.0,46.0,45.0,34.0,20.0,24.0,11.0,65.0,22.0,129.0,42.0,39.0,21.0,6.0,19.0,37.0,8.0,11.5,20.5,65.4,39.0,41.0,19.0,21.0,77.5,24.0,35.0,111.0,16.0,17.0,24.0,203.0,19.5,181.0,212.0,29.0,11.333333333333334,85.0,49.0,27.0,12.0,10.0,47.0,5.0,27.0,24.0,17.5,13.0,9.0,24.0,7.0,4.0,7.0,14.0,13.0,27.0,13.666666666666666,18.0,14.0,18.0,15.0,19.0,4.0,14.0,23.0,15.0,10.5,99.0,44.0,25.0,37.0,27.0,11.0,3.0,25.0,25.5,21.0,27.0,16.5,13.0,28.0,7.0,23.0,41.0,182.0,91.0,125.0,58.5,72.0,48.0,26.0,22.0,22.0,5.0,29.0,29.0,88.0,38.0,41.0,32.0,21.5,19.0,47.0,4.0,4.0,16.0,15.0,21.0,34.0,26.0,22.0,20.0,7.0,9.9,27.0,25.0,9.666666666666666,2.0,6.0,9.0,124.0,42.0,31.0,20.0,4.0,112.0,6.0,24.0,42.0,3.0,15.5,21.0,2.0,22.0,22.0,141.0,27.5,43.0,26.0,22.0,26.0,162.0,10.0,37.0,23.0,36.0,9.0,71.5,31.0,10.0,158.0,22.0,91.0,41.5,33.0,38.0,6.0,223.5,11.0,18.0,26.0,35.5,48.0,21.0,12.0,42.0,20.0,17.0,18.0,19.0,82.0,36.0,34.0,15.0,40.0,46.0,62.0,20.0,19.0,137.0,1.0,10.5,175.0,18.0,22.0,14.0,9.0,48.0,14.0,27.0,137.0,3.0,87.0,16.0,22.0,153.0,13.0,104.0,147.0,96.84615384615384,78.0,88.0,77.0,138.0,67.0,47.0,98.0,35.0,16.5,71.0,31.0,36.0,124.0,141.0,43.0,145.0,66.0,63.0,110.0,80.0,104.0,105.0,135.0,91.0,95.0,139.0,113.0,103.0,38.0,67.0,37.0,113.0,107.0,67.0,14.0,115.0,112.0,147.0,108.0,112.0,123.0,64.0,93.0,99.0,33.0,44.0,89.0,81.0,140.0,79.0,67.0,140.0,86.0,144.0,85.0,61.0,112.0,87.0,177.0,91.0,195.0,227.0,196.0,142.0,144.0,21.0,67.0,43.0,123.0,7.0,67.0,13.5,49.0,32.0,27.0,33.0,35.0,18.0,14.0,2.0,17.5,13.0,32.8,13.0,148.5,27.0,1.0,8.0,142.0,8.0,66.0,222.0,42.0,4.0,40.0,22.0,32.0,17.0,12.0,57.0,26.0,18.0,23.0,14.0,9.0,18.0,15.0,14.0,25.0,8.0,8.5,28.0,1.0,7.0,45.0,19.0,43.0,103.0,35.0,15.0,18.0,41.0,28.5,47.0,27.0,11.5,10.0,16.0,9.0,36.0,45.0,42.0,39.0,10.0,12.5,107.0,1.0,25.0,229.0,24.5,21.0,109.0,26.5,26.0,158.0,29.0,15.0,10.0,28.0,17.0,29.0,13.5,46.0,147.0,9.0,38.0,16.0,42.0,3.0,41.0,110.0,1.0,18.0,101.0,45.0,126.0,29.0,49.0,29.0,14.0,16.0,4.0,16.0,26.0,45.0,7.0,15.0,14.0,28.0,143.0,43.0,15.0,109.0,28.0,26.0,44.5,45.0,25.0,2.0,15.0,177.0,16.0,7.0,29.0,83.5,27.5,49.5,36.0,78.0,28.0,21.5,38.0,25.0,45.0,25.0,20.0,109.0,19.0,195.0,216.0,125.0,118.0,35.0,44.0,34.0,102.0,32.0,18.0,84.0,41.0,102.0,18.5,4.0,16.0,21.0,23.0,21.0,19.5,20.0,8.0,4.0,45.0,10.0,35.8,18.0,23.0,6.0,27.0,7.0,23.0,2.0,44.0,23.0,18.333333333333332,1.0,99.0,49.0,25.5,18.0,24.0,13.0,18.0,117.0,9.0,25.0,140.0,111.0,43.0,12.333333333333334,79.0,29.0,4.0,9.0,9.666666666666666,13.0,40.0,29.0,1.0,36.0,23.0,5.0,29.0,41.666666666666664,49.0,111.0,43.0,7.0,45.0,31.0,5.0,6.0,32.0,22.0,36.0,48.0,49.0,7.0,33.0,40.0,15.0,160.0,25.333333333333332,3.0,37.666666666666664,22.0,12.0,62.0,67.5,91.0,29.0,9.0,14.5,6.0,27.0,17.5,12.0,14.0,12.8,23.0,23.0,20.0,9.0,1.0,17.0,28.0,24.0,22.0,47.0,49.0,5.0,23.5,24.0,19.0,22.0,33.0,32.0,69.0,23.0,23.0,15.0,94.0,14.0,30.0,41.5,82.0,48.0,42.0,11.0,28.0,3.0,42.0,28.0,20.0,10.0,40.0,21.0,19.0,25.0,39.333333333333336,27.666666666666668,21.0,28.0,21.0,45.0,199.0,138.0,23.428571428571427,29.0,3.0,13.0,17.0,28.0,12.0,5.0,14.0,18.5,24.666666666666668,19.0,22.0,6.0,27.0,15.0,41.0,6.0,5.0,19.0,16.0,24.0,14.0,15.0,19.0,27.0,24.0,11.0,7.0,17.0,20.0,12.0,10.0,12.0,4.0,6.0,18.0,5.0,14.0,3.0,14.0,6.0,11.0,11.333333333333334,17.0,25.0,13.0,3.0,40.0,24.5,94.0,168.0,11.0,118.0,20.0,39.5,90.0,5.0,16.5,25.0,12.75,17.5,48.0,26.0,106.0,117.0,12.0,15.0,22.0,17.0,41.0,36.4,37.0,47.0,84.0,42.0,8.0,48.0,119.0,11.5,7.0,22.0,28.0,158.0,5.5,9.0,12.0,9.5,16.0,24.0,25.0,23.0,16.0,22.0,4.0,46.0,18.5,36.0,17.0,42.5,17.0,14.0,25.5,28.0,49.0,20.0,22.0,47.0,46.0,14.0,34.5,29.0,12.0,27.0,13.0,39.0,27.0,27.0,11.0,19.0,5.333333333333333,142.0,74.0,24.0,41.0,11.0,1.0,32.0,48.0,29.0,25.0,11.0,34.0,48.0,21.0,24.0,23.0,25.0,32.0,46.0,12.0,17.0,13.0,39.0,33.0,3.0,18.0,17.0,43.0,20.0,13.0,4.0,28.0,17.0,11.0,27.0,2.0,86.5,16.0,40.0,42.0,27.0,29.0,22.0,20.0,26.0,15.0,60.666666666666664,40.0,17.0,134.0,84.0,69.0,88.0,19.0,182.0,96.0,46.0,205.0,18.0,9.0,76.0,12.0,27.0,48.0,4.0,9.0,48.0,66.0,11.5,16.0,70.0,26.0,16.0,17.5,17.0,15.0,29.0,13.0,3.0,181.0,20.0,1.0,44.0,5.0,17.0,20.0,13.0,22.0,22.5,2.0,35.0,23.0,37.0,11.5,39.0,8.0,21.0,32.0,34.0,21.0,2.0,2.0,22.0,3.0,62.0,17.0,28.5,25.0,33.0,17.5,91.0,35.0,17.0,48.0,3.0,13.0,24.0,27.0,130.0,106.0,65.0,28.0,95.0,148.0,22.5,12.0,109.0,18.5,111.0,120.0,43.5,27.0,46.0,26.0,126.0,10.0,36.0,33.0,3.0,35.0,24.0,40.0,45.0,26.0,47.0,18.0,10.0,37.0,21.0,11.0,24.333333333333332,13.0,222.0,209.0,170.0,151.0,6.0,20.0,45.0,49.0,22.5,23.5,33.0,44.0,24.0,12.5,31.0,203.0,187.0,199.0,218.0,189.0,16.0,31.0,202.0,206.0,90.0,42.5,46.666666666666664,45.0,9.5,13.0,3.0,16.0,7.5,15.0,2.0,13.5,17.0,31.0,17.0,88.0,18.0,17.0,44.0,24.0,49.0,12.0,3.0,35.0,39.0,43.0,11.0,35.0,105.0,142.0,80.0,25.0,32.0,31.0,44.0,39.0,36.0,16.0,4.0,36.0,20.0,26.0,15.0,11.0,38.0,3.0,11.0,32.0,7.0,39.0,36.0,12.0,18.0,7.0,19.0,3.0,36.0,47.0,45.0,17.0,3.0,7.0,45.0,25.0,22.0,34.0,4.0,29.0,40.0,43.0,10.0,13.0,2.0,31.0,9.0,19.0,42.0,19.0,8.0,17.0,21.0,18.0,42.0,28.0,27.0,32.0,108.0,13.0,7.0,14.0,27.0,11.0,3.0,17.0,40.0,28.0,17.0,41.0,46.0,45.0,7.0,29.0,49.0,45.0,4.0,14.0,46.0,43.0,2.0,32.0,27.0,37.0,44.0,26.0,6.0,10.0,4.0,44.0,29.0,15.0,13.0,27.0,38.0,46.0,12.0,49.0,39.0,29.5,26.0,31.0,44.0,36.0,10.0,25.5,44.0,18.0,8.0,22.0,2.0,16.419354838709676,14.0,25.0,39.0,14.0,19.0,23.0,12.0,9.0,24.0,23.0,1.0,16.0,21.0,26.0,21.0,4.0,16.0,18.0,9.0,17.0,28.0,16.0,5.0,20.0,7.0,24.0,5.0,27.0,17.0,29.0,19.0,12.0,7.0,20.0,9.0,7.0,16.0,15.0,24.0,10.0,10.0,7.0,22.5,10.0,3.0,24.0,12.0,23.0,37.0,29.0,4.0,23.0,10.0,1.0,7.0,25.0,13.0,7.0,8.0,6.0,5.0,24.0,5.0,11.0,12.0,13.0,3.0,38.0,21.0,35.0,6.0,49.0,10.0,48.0,15.0,6.0,27.0,9.0,5.0,2.0,47.0,18.0,45.0,37.0,23.0,15.0,4.0,5.0,7.666666666666667,9.0,31.0,4.0,29.0,22.545454545454547,37.0,28.0,19.0,11.666666666666666,13.0,32.0,7.5,1.0,17.0,48.0,40.333333333333336,31.0,5.0,24.0,5.5,21.0,24.0,19.5,3.0,9.0,6.0,18.0,11.0,2.0,102.0,14.333333333333334,3.0,45.0,19.0,8.0,10.0,69.5,13.666666666666666,16.5,17.0,42.0,33.0,19.0,29.0,16.0,14.333333333333334,21.0,18.0,45.333333333333336,110.0,47.0,15.0,31.0,13.0,34.0,13.0,32.0,44.0,38.0,17.0,119.0,42.0,24.0,5.0,36.0,36.0,141.0,48.0,33.0,39.0,18.0,122.0,127.0,44.0,76.5,35.5,18.0,5.0,103.25,28.0,16.333333333333332,21.0,13.666666666666666,22.0,19.0,14.0,1.0,120.0,211.0,39.5,22.0,7.0,137.0,31.0,23.0,40.0,9.0,4.0,43.0,27.0,186.0,45.0,177.0,14.0,16.0,20.0,38.0,21.0,8.0,67.0,22.5,27.5,17.0,11.0,74.0,178.0,110.6,67.5,26.5,8.0,78.0,195.0,77.0,21.0,107.0,27.0,16.0,19.0,45.0,39.0,25.0,33.0,136.0,41.0,7.0,191.0,36.0,39.0,30.5,8.5,14.0,29.0,44.0,26.72340425531915,41.0,27.0,4.0,10.0,5.0,7.0,17.0,7.0,59.0,14.0,134.0,20.0,164.0,18.0,25.0,29.4,26.0,23.0,10.5,8.0,18.0,31.0,140.0,3.0,19.0,11.0,45.0,24.0,18.0,36.0,9.0,159.0,119.0,82.0,35.0,194.0,29.0,5.0,25.0,155.0,8.5,9.0,10.0,35.0,101.5,107.0,43.0,18.0,17.0,28.0,28.0,40.0,28.333333333333332,23.0,38.0,18.0,88.0,66.0,11.0,19.0,13.0,29.0,41.0,16.0,49.0,27.0,14.5,67.0,9.0,78.0,9.0,36.0,21.0,10.5,16.333333333333332,9.0,48.0,17.0,114.0,10.5,1.0,224.0,113.0,44.5,43.46153846153846,34.0,5.0,9.0,49.0,7.0,25.0,41.0,12.0,37.0,15.0,203.0,110.0,29.0,4.0,2.0,123.0,43.0,11.0,17.666666666666668,28.0,28.0,11.0,145.0,96.0,145.0,69.0,2.0,32.5,22.0,9.0,5.0,21.0,227.0,12.5,10.0,18.5,29.25,33.5,38.0,2.0,168.0,15.0,18.0,22.0,103.5,44.0,5.0,8.0,1.0,26.0,13.5,68.0,3.0,44.0,10.0,143.0,57.0,79.0,13.5,6.0,39.0,10.0,3.0,42.857142857142854,45.0,12.0,64.0,41.0,29.0,216.0,23.0,7.0,14.666666666666666,4.0,14.0,21.0,20.0,2.0,39.5,18.0,11.0,24.166666666666668,26.0,31.0,23.0,2.0,27.0,20.5,37.0,36.0,20.2,48.0,2.0,41.0,8.0,35.0,9.0,28.0,160.0,129.0,9.0,14.0,27.0,29.0,43.0,43.0,33.0,22.0,10.0,12.333333333333334,177.0,72.0,23.0,46.0,10.0,17.0,48.0,135.0,114.0,38.0,18.0,9.0,16.416666666666668,10.0,26.0,4.0,23.0,20.0,11.0,7.0,10.5,19.0,14.0,37.25,39.5,49.0,44.0,42.0,33.0,42.0,122.0,35.0,37.0,49.0,49.0,45.0,111.0,49.0,40.0,39.0,36.0,42.0,135.0,3.0,5.0,32.0,45.0,40.0,64.0,43.0,74.0,36.0,21.0,28.0,16.666666666666668,2.0,24.0,22.0,11.0,26.0,25.0,16.0,29.0,5.0,3.0,18.0,6.0,28.0,2.0,29.0,41.0,94.0,61.0,53.5,19.0,10.0,16.0,98.0],\"yaxis\":\"y\"}],                        {\"legend\":{\"tracegroupgap\":0},\"template\":{\"data\":{\"bar\":[{\"error_x\":{\"color\":\"#2a3f5f\"},\"error_y\":{\"color\":\"#2a3f5f\"},\"marker\":{\"line\":{\"color\":\"#E5ECF6\",\"width\":0.5},\"pattern\":{\"fillmode\":\"overlay\",\"size\":10,\"solidity\":0.2}},\"type\":\"bar\"}],\"barpolar\":[{\"marker\":{\"line\":{\"color\":\"#E5ECF6\",\"width\":0.5},\"pattern\":{\"fillmode\":\"overlay\",\"size\":10,\"solidity\":0.2}},\"type\":\"barpolar\"}],\"carpet\":[{\"aaxis\":{\"endlinecolor\":\"#2a3f5f\",\"gridcolor\":\"white\",\"linecolor\":\"white\",\"minorgridcolor\":\"white\",\"startlinecolor\":\"#2a3f5f\"},\"baxis\":{\"endlinecolor\":\"#2a3f5f\",\"gridcolor\":\"white\",\"linecolor\":\"white\",\"minorgridcolor\":\"white\",\"startlinecolor\":\"#2a3f5f\"},\"type\":\"carpet\"}],\"choropleth\":[{\"colorbar\":{\"outlinewidth\":0,\"ticks\":\"\"},\"type\":\"choropleth\"}],\"contour\":[{\"colorbar\":{\"outlinewidth\":0,\"ticks\":\"\"},\"colorscale\":[[0.0,\"#0d0887\"],[0.1111111111111111,\"#46039f\"],[0.2222222222222222,\"#7201a8\"],[0.3333333333333333,\"#9c179e\"],[0.4444444444444444,\"#bd3786\"],[0.5555555555555556,\"#d8576b\"],[0.6666666666666666,\"#ed7953\"],[0.7777777777777778,\"#fb9f3a\"],[0.8888888888888888,\"#fdca26\"],[1.0,\"#f0f921\"]],\"type\":\"contour\"}],\"contourcarpet\":[{\"colorbar\":{\"outlinewidth\":0,\"ticks\":\"\"},\"type\":\"contourcarpet\"}],\"heatmap\":[{\"colorbar\":{\"outlinewidth\":0,\"ticks\":\"\"},\"colorscale\":[[0.0,\"#0d0887\"],[0.1111111111111111,\"#46039f\"],[0.2222222222222222,\"#7201a8\"],[0.3333333333333333,\"#9c179e\"],[0.4444444444444444,\"#bd3786\"],[0.5555555555555556,\"#d8576b\"],[0.6666666666666666,\"#ed7953\"],[0.7777777777777778,\"#fb9f3a\"],[0.8888888888888888,\"#fdca26\"],[1.0,\"#f0f921\"]],\"type\":\"heatmap\"}],\"heatmapgl\":[{\"colorbar\":{\"outlinewidth\":0,\"ticks\":\"\"},\"colorscale\":[[0.0,\"#0d0887\"],[0.1111111111111111,\"#46039f\"],[0.2222222222222222,\"#7201a8\"],[0.3333333333333333,\"#9c179e\"],[0.4444444444444444,\"#bd3786\"],[0.5555555555555556,\"#d8576b\"],[0.6666666666666666,\"#ed7953\"],[0.7777777777777778,\"#fb9f3a\"],[0.8888888888888888,\"#fdca26\"],[1.0,\"#f0f921\"]],\"type\":\"heatmapgl\"}],\"histogram\":[{\"marker\":{\"pattern\":{\"fillmode\":\"overlay\",\"size\":10,\"solidity\":0.2}},\"type\":\"histogram\"}],\"histogram2d\":[{\"colorbar\":{\"outlinewidth\":0,\"ticks\":\"\"},\"colorscale\":[[0.0,\"#0d0887\"],[0.1111111111111111,\"#46039f\"],[0.2222222222222222,\"#7201a8\"],[0.3333333333333333,\"#9c179e\"],[0.4444444444444444,\"#bd3786\"],[0.5555555555555556,\"#d8576b\"],[0.6666666666666666,\"#ed7953\"],[0.7777777777777778,\"#fb9f3a\"],[0.8888888888888888,\"#fdca26\"],[1.0,\"#f0f921\"]],\"type\":\"histogram2d\"}],\"histogram2dcontour\":[{\"colorbar\":{\"outlinewidth\":0,\"ticks\":\"\"},\"colorscale\":[[0.0,\"#0d0887\"],[0.1111111111111111,\"#46039f\"],[0.2222222222222222,\"#7201a8\"],[0.3333333333333333,\"#9c179e\"],[0.4444444444444444,\"#bd3786\"],[0.5555555555555556,\"#d8576b\"],[0.6666666666666666,\"#ed7953\"],[0.7777777777777778,\"#fb9f3a\"],[0.8888888888888888,\"#fdca26\"],[1.0,\"#f0f921\"]],\"type\":\"histogram2dcontour\"}],\"mesh3d\":[{\"colorbar\":{\"outlinewidth\":0,\"ticks\":\"\"},\"type\":\"mesh3d\"}],\"parcoords\":[{\"line\":{\"colorbar\":{\"outlinewidth\":0,\"ticks\":\"\"}},\"type\":\"parcoords\"}],\"pie\":[{\"automargin\":true,\"type\":\"pie\"}],\"scatter\":[{\"marker\":{\"colorbar\":{\"outlinewidth\":0,\"ticks\":\"\"}},\"type\":\"scatter\"}],\"scatter3d\":[{\"line\":{\"colorbar\":{\"outlinewidth\":0,\"ticks\":\"\"}},\"marker\":{\"colorbar\":{\"outlinewidth\":0,\"ticks\":\"\"}},\"type\":\"scatter3d\"}],\"scattercarpet\":[{\"marker\":{\"colorbar\":{\"outlinewidth\":0,\"ticks\":\"\"}},\"type\":\"scattercarpet\"}],\"scattergeo\":[{\"marker\":{\"colorbar\":{\"outlinewidth\":0,\"ticks\":\"\"}},\"type\":\"scattergeo\"}],\"scattergl\":[{\"marker\":{\"colorbar\":{\"outlinewidth\":0,\"ticks\":\"\"}},\"type\":\"scattergl\"}],\"scattermapbox\":[{\"marker\":{\"colorbar\":{\"outlinewidth\":0,\"ticks\":\"\"}},\"type\":\"scattermapbox\"}],\"scatterpolar\":[{\"marker\":{\"colorbar\":{\"outlinewidth\":0,\"ticks\":\"\"}},\"type\":\"scatterpolar\"}],\"scatterpolargl\":[{\"marker\":{\"colorbar\":{\"outlinewidth\":0,\"ticks\":\"\"}},\"type\":\"scatterpolargl\"}],\"scatterternary\":[{\"marker\":{\"colorbar\":{\"outlinewidth\":0,\"ticks\":\"\"}},\"type\":\"scatterternary\"}],\"surface\":[{\"colorbar\":{\"outlinewidth\":0,\"ticks\":\"\"},\"colorscale\":[[0.0,\"#0d0887\"],[0.1111111111111111,\"#46039f\"],[0.2222222222222222,\"#7201a8\"],[0.3333333333333333,\"#9c179e\"],[0.4444444444444444,\"#bd3786\"],[0.5555555555555556,\"#d8576b\"],[0.6666666666666666,\"#ed7953\"],[0.7777777777777778,\"#fb9f3a\"],[0.8888888888888888,\"#fdca26\"],[1.0,\"#f0f921\"]],\"type\":\"surface\"}],\"table\":[{\"cells\":{\"fill\":{\"color\":\"#EBF0F8\"},\"line\":{\"color\":\"white\"}},\"header\":{\"fill\":{\"color\":\"#C8D4E3\"},\"line\":{\"color\":\"white\"}},\"type\":\"table\"}]},\"layout\":{\"annotationdefaults\":{\"arrowcolor\":\"#2a3f5f\",\"arrowhead\":0,\"arrowwidth\":1},\"autotypenumbers\":\"strict\",\"coloraxis\":{\"colorbar\":{\"outlinewidth\":0,\"ticks\":\"\"}},\"colorscale\":{\"diverging\":[[0,\"#8e0152\"],[0.1,\"#c51b7d\"],[0.2,\"#de77ae\"],[0.3,\"#f1b6da\"],[0.4,\"#fde0ef\"],[0.5,\"#f7f7f7\"],[0.6,\"#e6f5d0\"],[0.7,\"#b8e186\"],[0.8,\"#7fbc41\"],[0.9,\"#4d9221\"],[1,\"#276419\"]],\"sequential\":[[0.0,\"#0d0887\"],[0.1111111111111111,\"#46039f\"],[0.2222222222222222,\"#7201a8\"],[0.3333333333333333,\"#9c179e\"],[0.4444444444444444,\"#bd3786\"],[0.5555555555555556,\"#d8576b\"],[0.6666666666666666,\"#ed7953\"],[0.7777777777777778,\"#fb9f3a\"],[0.8888888888888888,\"#fdca26\"],[1.0,\"#f0f921\"]],\"sequentialminus\":[[0.0,\"#0d0887\"],[0.1111111111111111,\"#46039f\"],[0.2222222222222222,\"#7201a8\"],[0.3333333333333333,\"#9c179e\"],[0.4444444444444444,\"#bd3786\"],[0.5555555555555556,\"#d8576b\"],[0.6666666666666666,\"#ed7953\"],[0.7777777777777778,\"#fb9f3a\"],[0.8888888888888888,\"#fdca26\"],[1.0,\"#f0f921\"]]},\"colorway\":[\"#636efa\",\"#EF553B\",\"#00cc96\",\"#ab63fa\",\"#FFA15A\",\"#19d3f3\",\"#FF6692\",\"#B6E880\",\"#FF97FF\",\"#FECB52\"],\"font\":{\"color\":\"#2a3f5f\"},\"geo\":{\"bgcolor\":\"white\",\"lakecolor\":\"white\",\"landcolor\":\"#E5ECF6\",\"showlakes\":true,\"showland\":true,\"subunitcolor\":\"white\"},\"hoverlabel\":{\"align\":\"left\"},\"hovermode\":\"closest\",\"mapbox\":{\"style\":\"light\"},\"paper_bgcolor\":\"white\",\"plot_bgcolor\":\"#E5ECF6\",\"polar\":{\"angularaxis\":{\"gridcolor\":\"white\",\"linecolor\":\"white\",\"ticks\":\"\"},\"bgcolor\":\"#E5ECF6\",\"radialaxis\":{\"gridcolor\":\"white\",\"linecolor\":\"white\",\"ticks\":\"\"}},\"scene\":{\"xaxis\":{\"backgroundcolor\":\"#E5ECF6\",\"gridcolor\":\"white\",\"gridwidth\":2,\"linecolor\":\"white\",\"showbackground\":true,\"ticks\":\"\",\"zerolinecolor\":\"white\"},\"yaxis\":{\"backgroundcolor\":\"#E5ECF6\",\"gridcolor\":\"white\",\"gridwidth\":2,\"linecolor\":\"white\",\"showbackground\":true,\"ticks\":\"\",\"zerolinecolor\":\"white\"},\"zaxis\":{\"backgroundcolor\":\"#E5ECF6\",\"gridcolor\":\"white\",\"gridwidth\":2,\"linecolor\":\"white\",\"showbackground\":true,\"ticks\":\"\",\"zerolinecolor\":\"white\"}},\"shapedefaults\":{\"line\":{\"color\":\"#2a3f5f\"}},\"ternary\":{\"aaxis\":{\"gridcolor\":\"white\",\"linecolor\":\"white\",\"ticks\":\"\"},\"baxis\":{\"gridcolor\":\"white\",\"linecolor\":\"white\",\"ticks\":\"\"},\"bgcolor\":\"#E5ECF6\",\"caxis\":{\"gridcolor\":\"white\",\"linecolor\":\"white\",\"ticks\":\"\"}},\"title\":{\"x\":0.05},\"xaxis\":{\"automargin\":true,\"gridcolor\":\"white\",\"linecolor\":\"white\",\"ticks\":\"\",\"title\":{\"standoff\":15},\"zerolinecolor\":\"white\",\"zerolinewidth\":2},\"yaxis\":{\"automargin\":true,\"gridcolor\":\"white\",\"linecolor\":\"white\",\"ticks\":\"\",\"title\":{\"standoff\":15},\"zerolinecolor\":\"white\",\"zerolinewidth\":2}}},\"title\":{\"text\":\"Check what characterizes chained establishment\"},\"xaxis\":{\"anchor\":\"y\",\"domain\":[0.0,1.0],\"title\":{\"text\":\"object_name\"}},\"yaxis\":{\"anchor\":\"x\",\"domain\":[0.0,1.0],\"title\":{\"text\":\"seats amount\"}}},                        {\"responsive\": true}                    ).then(function(){\n",
       "                            \n",
       "var gd = document.getElementById('c7f9c101-2bf1-44a0-9857-472929c45c58');\n",
       "var x = new MutationObserver(function (mutations, observer) {{\n",
       "        var display = window.getComputedStyle(gd).display;\n",
       "        if (!display || display === 'none') {{\n",
       "            console.log([gd, 'removed!']);\n",
       "            Plotly.purge(gd);\n",
       "            observer.disconnect();\n",
       "        }}\n",
       "}});\n",
       "\n",
       "// Listen for the removal of the full notebook cells\n",
       "var notebookContainer = gd.closest('#notebook-container');\n",
       "if (notebookContainer) {{\n",
       "    x.observe(notebookContainer, {childList: true});\n",
       "}}\n",
       "\n",
       "// Listen for the clearing of the current output cell\n",
       "var outputEl = gd.closest('.output');\n",
       "if (outputEl) {{\n",
       "    x.observe(outputEl, {childList: true});\n",
       "}}\n",
       "\n",
       "                        })                };                });            </script>        </div>"
      ]
     },
     "metadata": {},
     "output_type": "display_data"
    }
   ],
   "source": [
    "chain_establishment = rest_data[rest_data['chain']==True].groupby('object_name')\n",
    "group_est = chain_establishment.agg({'object_name': 'count', 'number': 'mean'})\n",
    "fig = px.scatter(group_est, x='object_name', y=\"number\",title='Check what characterizes chained establishment',\n",
    "                 labels={\"number\":\"seats amount\",\"id\": \"resturant id\",\"object_type\":\"establishment type\"})\n",
    "fig.show()"
   ]
  },
  {
   "cell_type": "markdown",
   "id": "f9956c7e",
   "metadata": {},
   "source": [
    "Most of the chained establishment have a small or medium amount seats(50 seats or less)"
   ]
  },
  {
   "cell_type": "markdown",
   "id": "91c91cd8",
   "metadata": {},
   "source": [
    "**Lets determine the average number of seats for each type of restaurant, and based on that determine which type of restaurant has the greatest number of seats**"
   ]
  },
  {
   "cell_type": "code",
   "execution_count": 39,
   "id": "3f52fffb",
   "metadata": {
    "ExecuteTime": {
     "end_time": "2021-12-09T16:47:13.699372Z",
     "start_time": "2021-12-09T16:47:13.462577Z"
    }
   },
   "outputs": [
    {
     "data": {
      "application/vnd.plotly.v1+json": {
       "config": {
        "plotlyServerURL": "https://plot.ly"
       },
       "data": [
        {
         "alignmentgroup": "True",
         "hovertemplate": "restaurant type=%{x}<br>Average number(median) of seats=%{text}<extra></extra>",
         "legendgroup": "Bakery",
         "marker": {
          "color": "#636efa",
          "pattern": {
           "shape": ""
          }
         },
         "name": "Bakery",
         "offsetgroup": "Bakery",
         "orientation": "v",
         "showlegend": true,
         "text": [
          "18.0"
         ],
         "textposition": "auto",
         "type": "bar",
         "x": [
          "Bakery"
         ],
         "xaxis": "x",
         "y": [
          18
         ],
         "yaxis": "y"
        },
        {
         "alignmentgroup": "True",
         "hovertemplate": "restaurant type=%{x}<br>Average number(median) of seats=%{text}<extra></extra>",
         "legendgroup": "Bar",
         "marker": {
          "color": "#EF553B",
          "pattern": {
           "shape": ""
          }
         },
         "name": "Bar",
         "offsetgroup": "Bar",
         "orientation": "v",
         "showlegend": true,
         "text": [
          "28.5"
         ],
         "textposition": "auto",
         "type": "bar",
         "x": [
          "Bar"
         ],
         "xaxis": "x",
         "y": [
          28.5
         ],
         "yaxis": "y"
        },
        {
         "alignmentgroup": "True",
         "hovertemplate": "restaurant type=%{x}<br>Average number(median) of seats=%{text}<extra></extra>",
         "legendgroup": "Cafe",
         "marker": {
          "color": "#00cc96",
          "pattern": {
           "shape": ""
          }
         },
         "name": "Cafe",
         "offsetgroup": "Cafe",
         "orientation": "v",
         "showlegend": true,
         "text": [
          "21.0"
         ],
         "textposition": "auto",
         "type": "bar",
         "x": [
          "Cafe"
         ],
         "xaxis": "x",
         "y": [
          21
         ],
         "yaxis": "y"
        },
        {
         "alignmentgroup": "True",
         "hovertemplate": "restaurant type=%{x}<br>Average number(median) of seats=%{text}<extra></extra>",
         "legendgroup": "Fast Food",
         "marker": {
          "color": "#ab63fa",
          "pattern": {
           "shape": ""
          }
         },
         "name": "Fast Food",
         "offsetgroup": "Fast Food",
         "orientation": "v",
         "showlegend": true,
         "text": [
          "21.0"
         ],
         "textposition": "auto",
         "type": "bar",
         "x": [
          "Fast Food"
         ],
         "xaxis": "x",
         "y": [
          21
         ],
         "yaxis": "y"
        },
        {
         "alignmentgroup": "True",
         "hovertemplate": "restaurant type=%{x}<br>Average number(median) of seats=%{text}<extra></extra>",
         "legendgroup": "Pizza",
         "marker": {
          "color": "#FFA15A",
          "pattern": {
           "shape": ""
          }
         },
         "name": "Pizza",
         "offsetgroup": "Pizza",
         "orientation": "v",
         "showlegend": true,
         "text": [
          "19.0"
         ],
         "textposition": "auto",
         "type": "bar",
         "x": [
          "Pizza"
         ],
         "xaxis": "x",
         "y": [
          19
         ],
         "yaxis": "y"
        },
        {
         "alignmentgroup": "True",
         "hovertemplate": "restaurant type=%{x}<br>Average number(median) of seats=%{text}<extra></extra>",
         "legendgroup": "Restaurant",
         "marker": {
          "color": "#19d3f3",
          "pattern": {
           "shape": ""
          }
         },
         "name": "Restaurant",
         "offsetgroup": "Restaurant",
         "orientation": "v",
         "showlegend": true,
         "text": [
          "29.0"
         ],
         "textposition": "auto",
         "type": "bar",
         "x": [
          "Restaurant"
         ],
         "xaxis": "x",
         "y": [
          29
         ],
         "yaxis": "y"
        }
       ],
       "layout": {
        "barmode": "relative",
        "legend": {
         "font": {
          "size": 14
         },
         "itemwidth": 50,
         "title": {
          "text": "restaurant type"
         },
         "tracegroupgap": 0
        },
        "template": {
         "data": {
          "bar": [
           {
            "error_x": {
             "color": "#2a3f5f"
            },
            "error_y": {
             "color": "#2a3f5f"
            },
            "marker": {
             "line": {
              "color": "#E5ECF6",
              "width": 0.5
             },
             "pattern": {
              "fillmode": "overlay",
              "size": 10,
              "solidity": 0.2
             }
            },
            "type": "bar"
           }
          ],
          "barpolar": [
           {
            "marker": {
             "line": {
              "color": "#E5ECF6",
              "width": 0.5
             },
             "pattern": {
              "fillmode": "overlay",
              "size": 10,
              "solidity": 0.2
             }
            },
            "type": "barpolar"
           }
          ],
          "carpet": [
           {
            "aaxis": {
             "endlinecolor": "#2a3f5f",
             "gridcolor": "white",
             "linecolor": "white",
             "minorgridcolor": "white",
             "startlinecolor": "#2a3f5f"
            },
            "baxis": {
             "endlinecolor": "#2a3f5f",
             "gridcolor": "white",
             "linecolor": "white",
             "minorgridcolor": "white",
             "startlinecolor": "#2a3f5f"
            },
            "type": "carpet"
           }
          ],
          "choropleth": [
           {
            "colorbar": {
             "outlinewidth": 0,
             "ticks": ""
            },
            "type": "choropleth"
           }
          ],
          "contour": [
           {
            "colorbar": {
             "outlinewidth": 0,
             "ticks": ""
            },
            "colorscale": [
             [
              0,
              "#0d0887"
             ],
             [
              0.1111111111111111,
              "#46039f"
             ],
             [
              0.2222222222222222,
              "#7201a8"
             ],
             [
              0.3333333333333333,
              "#9c179e"
             ],
             [
              0.4444444444444444,
              "#bd3786"
             ],
             [
              0.5555555555555556,
              "#d8576b"
             ],
             [
              0.6666666666666666,
              "#ed7953"
             ],
             [
              0.7777777777777778,
              "#fb9f3a"
             ],
             [
              0.8888888888888888,
              "#fdca26"
             ],
             [
              1,
              "#f0f921"
             ]
            ],
            "type": "contour"
           }
          ],
          "contourcarpet": [
           {
            "colorbar": {
             "outlinewidth": 0,
             "ticks": ""
            },
            "type": "contourcarpet"
           }
          ],
          "heatmap": [
           {
            "colorbar": {
             "outlinewidth": 0,
             "ticks": ""
            },
            "colorscale": [
             [
              0,
              "#0d0887"
             ],
             [
              0.1111111111111111,
              "#46039f"
             ],
             [
              0.2222222222222222,
              "#7201a8"
             ],
             [
              0.3333333333333333,
              "#9c179e"
             ],
             [
              0.4444444444444444,
              "#bd3786"
             ],
             [
              0.5555555555555556,
              "#d8576b"
             ],
             [
              0.6666666666666666,
              "#ed7953"
             ],
             [
              0.7777777777777778,
              "#fb9f3a"
             ],
             [
              0.8888888888888888,
              "#fdca26"
             ],
             [
              1,
              "#f0f921"
             ]
            ],
            "type": "heatmap"
           }
          ],
          "heatmapgl": [
           {
            "colorbar": {
             "outlinewidth": 0,
             "ticks": ""
            },
            "colorscale": [
             [
              0,
              "#0d0887"
             ],
             [
              0.1111111111111111,
              "#46039f"
             ],
             [
              0.2222222222222222,
              "#7201a8"
             ],
             [
              0.3333333333333333,
              "#9c179e"
             ],
             [
              0.4444444444444444,
              "#bd3786"
             ],
             [
              0.5555555555555556,
              "#d8576b"
             ],
             [
              0.6666666666666666,
              "#ed7953"
             ],
             [
              0.7777777777777778,
              "#fb9f3a"
             ],
             [
              0.8888888888888888,
              "#fdca26"
             ],
             [
              1,
              "#f0f921"
             ]
            ],
            "type": "heatmapgl"
           }
          ],
          "histogram": [
           {
            "marker": {
             "pattern": {
              "fillmode": "overlay",
              "size": 10,
              "solidity": 0.2
             }
            },
            "type": "histogram"
           }
          ],
          "histogram2d": [
           {
            "colorbar": {
             "outlinewidth": 0,
             "ticks": ""
            },
            "colorscale": [
             [
              0,
              "#0d0887"
             ],
             [
              0.1111111111111111,
              "#46039f"
             ],
             [
              0.2222222222222222,
              "#7201a8"
             ],
             [
              0.3333333333333333,
              "#9c179e"
             ],
             [
              0.4444444444444444,
              "#bd3786"
             ],
             [
              0.5555555555555556,
              "#d8576b"
             ],
             [
              0.6666666666666666,
              "#ed7953"
             ],
             [
              0.7777777777777778,
              "#fb9f3a"
             ],
             [
              0.8888888888888888,
              "#fdca26"
             ],
             [
              1,
              "#f0f921"
             ]
            ],
            "type": "histogram2d"
           }
          ],
          "histogram2dcontour": [
           {
            "colorbar": {
             "outlinewidth": 0,
             "ticks": ""
            },
            "colorscale": [
             [
              0,
              "#0d0887"
             ],
             [
              0.1111111111111111,
              "#46039f"
             ],
             [
              0.2222222222222222,
              "#7201a8"
             ],
             [
              0.3333333333333333,
              "#9c179e"
             ],
             [
              0.4444444444444444,
              "#bd3786"
             ],
             [
              0.5555555555555556,
              "#d8576b"
             ],
             [
              0.6666666666666666,
              "#ed7953"
             ],
             [
              0.7777777777777778,
              "#fb9f3a"
             ],
             [
              0.8888888888888888,
              "#fdca26"
             ],
             [
              1,
              "#f0f921"
             ]
            ],
            "type": "histogram2dcontour"
           }
          ],
          "mesh3d": [
           {
            "colorbar": {
             "outlinewidth": 0,
             "ticks": ""
            },
            "type": "mesh3d"
           }
          ],
          "parcoords": [
           {
            "line": {
             "colorbar": {
              "outlinewidth": 0,
              "ticks": ""
             }
            },
            "type": "parcoords"
           }
          ],
          "pie": [
           {
            "automargin": true,
            "type": "pie"
           }
          ],
          "scatter": [
           {
            "marker": {
             "colorbar": {
              "outlinewidth": 0,
              "ticks": ""
             }
            },
            "type": "scatter"
           }
          ],
          "scatter3d": [
           {
            "line": {
             "colorbar": {
              "outlinewidth": 0,
              "ticks": ""
             }
            },
            "marker": {
             "colorbar": {
              "outlinewidth": 0,
              "ticks": ""
             }
            },
            "type": "scatter3d"
           }
          ],
          "scattercarpet": [
           {
            "marker": {
             "colorbar": {
              "outlinewidth": 0,
              "ticks": ""
             }
            },
            "type": "scattercarpet"
           }
          ],
          "scattergeo": [
           {
            "marker": {
             "colorbar": {
              "outlinewidth": 0,
              "ticks": ""
             }
            },
            "type": "scattergeo"
           }
          ],
          "scattergl": [
           {
            "marker": {
             "colorbar": {
              "outlinewidth": 0,
              "ticks": ""
             }
            },
            "type": "scattergl"
           }
          ],
          "scattermapbox": [
           {
            "marker": {
             "colorbar": {
              "outlinewidth": 0,
              "ticks": ""
             }
            },
            "type": "scattermapbox"
           }
          ],
          "scatterpolar": [
           {
            "marker": {
             "colorbar": {
              "outlinewidth": 0,
              "ticks": ""
             }
            },
            "type": "scatterpolar"
           }
          ],
          "scatterpolargl": [
           {
            "marker": {
             "colorbar": {
              "outlinewidth": 0,
              "ticks": ""
             }
            },
            "type": "scatterpolargl"
           }
          ],
          "scatterternary": [
           {
            "marker": {
             "colorbar": {
              "outlinewidth": 0,
              "ticks": ""
             }
            },
            "type": "scatterternary"
           }
          ],
          "surface": [
           {
            "colorbar": {
             "outlinewidth": 0,
             "ticks": ""
            },
            "colorscale": [
             [
              0,
              "#0d0887"
             ],
             [
              0.1111111111111111,
              "#46039f"
             ],
             [
              0.2222222222222222,
              "#7201a8"
             ],
             [
              0.3333333333333333,
              "#9c179e"
             ],
             [
              0.4444444444444444,
              "#bd3786"
             ],
             [
              0.5555555555555556,
              "#d8576b"
             ],
             [
              0.6666666666666666,
              "#ed7953"
             ],
             [
              0.7777777777777778,
              "#fb9f3a"
             ],
             [
              0.8888888888888888,
              "#fdca26"
             ],
             [
              1,
              "#f0f921"
             ]
            ],
            "type": "surface"
           }
          ],
          "table": [
           {
            "cells": {
             "fill": {
              "color": "#EBF0F8"
             },
             "line": {
              "color": "white"
             }
            },
            "header": {
             "fill": {
              "color": "#C8D4E3"
             },
             "line": {
              "color": "white"
             }
            },
            "type": "table"
           }
          ]
         },
         "layout": {
          "annotationdefaults": {
           "arrowcolor": "#2a3f5f",
           "arrowhead": 0,
           "arrowwidth": 1
          },
          "autotypenumbers": "strict",
          "coloraxis": {
           "colorbar": {
            "outlinewidth": 0,
            "ticks": ""
           }
          },
          "colorscale": {
           "diverging": [
            [
             0,
             "#8e0152"
            ],
            [
             0.1,
             "#c51b7d"
            ],
            [
             0.2,
             "#de77ae"
            ],
            [
             0.3,
             "#f1b6da"
            ],
            [
             0.4,
             "#fde0ef"
            ],
            [
             0.5,
             "#f7f7f7"
            ],
            [
             0.6,
             "#e6f5d0"
            ],
            [
             0.7,
             "#b8e186"
            ],
            [
             0.8,
             "#7fbc41"
            ],
            [
             0.9,
             "#4d9221"
            ],
            [
             1,
             "#276419"
            ]
           ],
           "sequential": [
            [
             0,
             "#0d0887"
            ],
            [
             0.1111111111111111,
             "#46039f"
            ],
            [
             0.2222222222222222,
             "#7201a8"
            ],
            [
             0.3333333333333333,
             "#9c179e"
            ],
            [
             0.4444444444444444,
             "#bd3786"
            ],
            [
             0.5555555555555556,
             "#d8576b"
            ],
            [
             0.6666666666666666,
             "#ed7953"
            ],
            [
             0.7777777777777778,
             "#fb9f3a"
            ],
            [
             0.8888888888888888,
             "#fdca26"
            ],
            [
             1,
             "#f0f921"
            ]
           ],
           "sequentialminus": [
            [
             0,
             "#0d0887"
            ],
            [
             0.1111111111111111,
             "#46039f"
            ],
            [
             0.2222222222222222,
             "#7201a8"
            ],
            [
             0.3333333333333333,
             "#9c179e"
            ],
            [
             0.4444444444444444,
             "#bd3786"
            ],
            [
             0.5555555555555556,
             "#d8576b"
            ],
            [
             0.6666666666666666,
             "#ed7953"
            ],
            [
             0.7777777777777778,
             "#fb9f3a"
            ],
            [
             0.8888888888888888,
             "#fdca26"
            ],
            [
             1,
             "#f0f921"
            ]
           ]
          },
          "colorway": [
           "#636efa",
           "#EF553B",
           "#00cc96",
           "#ab63fa",
           "#FFA15A",
           "#19d3f3",
           "#FF6692",
           "#B6E880",
           "#FF97FF",
           "#FECB52"
          ],
          "font": {
           "color": "#2a3f5f"
          },
          "geo": {
           "bgcolor": "white",
           "lakecolor": "white",
           "landcolor": "#E5ECF6",
           "showlakes": true,
           "showland": true,
           "subunitcolor": "white"
          },
          "hoverlabel": {
           "align": "left"
          },
          "hovermode": "closest",
          "mapbox": {
           "style": "light"
          },
          "paper_bgcolor": "white",
          "plot_bgcolor": "#E5ECF6",
          "polar": {
           "angularaxis": {
            "gridcolor": "white",
            "linecolor": "white",
            "ticks": ""
           },
           "bgcolor": "#E5ECF6",
           "radialaxis": {
            "gridcolor": "white",
            "linecolor": "white",
            "ticks": ""
           }
          },
          "scene": {
           "xaxis": {
            "backgroundcolor": "#E5ECF6",
            "gridcolor": "white",
            "gridwidth": 2,
            "linecolor": "white",
            "showbackground": true,
            "ticks": "",
            "zerolinecolor": "white"
           },
           "yaxis": {
            "backgroundcolor": "#E5ECF6",
            "gridcolor": "white",
            "gridwidth": 2,
            "linecolor": "white",
            "showbackground": true,
            "ticks": "",
            "zerolinecolor": "white"
           },
           "zaxis": {
            "backgroundcolor": "#E5ECF6",
            "gridcolor": "white",
            "gridwidth": 2,
            "linecolor": "white",
            "showbackground": true,
            "ticks": "",
            "zerolinecolor": "white"
           }
          },
          "shapedefaults": {
           "line": {
            "color": "#2a3f5f"
           }
          },
          "ternary": {
           "aaxis": {
            "gridcolor": "white",
            "linecolor": "white",
            "ticks": ""
           },
           "baxis": {
            "gridcolor": "white",
            "linecolor": "white",
            "ticks": ""
           },
           "bgcolor": "#E5ECF6",
           "caxis": {
            "gridcolor": "white",
            "linecolor": "white",
            "ticks": ""
           }
          },
          "title": {
           "x": 0.05
          },
          "xaxis": {
           "automargin": true,
           "gridcolor": "white",
           "linecolor": "white",
           "ticks": "",
           "title": {
            "standoff": 15
           },
           "zerolinecolor": "white",
           "zerolinewidth": 2
          },
          "yaxis": {
           "automargin": true,
           "gridcolor": "white",
           "linecolor": "white",
           "ticks": "",
           "title": {
            "standoff": 15
           },
           "zerolinecolor": "white",
           "zerolinewidth": 2
          }
         }
        },
        "title": {
         "text": "Average number(median) of seats for restaurant type"
        },
        "xaxis": {
         "anchor": "y",
         "categoryarray": [
          "Bakery",
          "Bar",
          "Cafe",
          "Fast Food",
          "Pizza",
          "Restaurant"
         ],
         "categoryorder": "array",
         "domain": [
          0,
          1
         ],
         "title": {
          "text": "restaurant type"
         }
        },
        "yaxis": {
         "anchor": "x",
         "domain": [
          0,
          1
         ],
         "title": {
          "text": "Average number(median) of seats"
         }
        }
       }
      },
      "text/html": [
       "<div>                            <div id=\"b9211f14-331a-4156-b10e-d5ab5044ddd5\" class=\"plotly-graph-div\" style=\"height:525px; width:100%;\"></div>            <script type=\"text/javascript\">                require([\"plotly\"], function(Plotly) {                    window.PLOTLYENV=window.PLOTLYENV || {};                                    if (document.getElementById(\"b9211f14-331a-4156-b10e-d5ab5044ddd5\")) {                    Plotly.newPlot(                        \"b9211f14-331a-4156-b10e-d5ab5044ddd5\",                        [{\"alignmentgroup\":\"True\",\"hovertemplate\":\"restaurant type=%{x}<br>Average number(median) of seats=%{text}<extra></extra>\",\"legendgroup\":\"Bakery\",\"marker\":{\"color\":\"#636efa\",\"pattern\":{\"shape\":\"\"}},\"name\":\"Bakery\",\"offsetgroup\":\"Bakery\",\"orientation\":\"v\",\"showlegend\":true,\"text\":[\"18.0\"],\"textposition\":\"auto\",\"type\":\"bar\",\"x\":[\"Bakery\"],\"xaxis\":\"x\",\"y\":[18.0],\"yaxis\":\"y\"},{\"alignmentgroup\":\"True\",\"hovertemplate\":\"restaurant type=%{x}<br>Average number(median) of seats=%{text}<extra></extra>\",\"legendgroup\":\"Bar\",\"marker\":{\"color\":\"#EF553B\",\"pattern\":{\"shape\":\"\"}},\"name\":\"Bar\",\"offsetgroup\":\"Bar\",\"orientation\":\"v\",\"showlegend\":true,\"text\":[\"28.5\"],\"textposition\":\"auto\",\"type\":\"bar\",\"x\":[\"Bar\"],\"xaxis\":\"x\",\"y\":[28.5],\"yaxis\":\"y\"},{\"alignmentgroup\":\"True\",\"hovertemplate\":\"restaurant type=%{x}<br>Average number(median) of seats=%{text}<extra></extra>\",\"legendgroup\":\"Cafe\",\"marker\":{\"color\":\"#00cc96\",\"pattern\":{\"shape\":\"\"}},\"name\":\"Cafe\",\"offsetgroup\":\"Cafe\",\"orientation\":\"v\",\"showlegend\":true,\"text\":[\"21.0\"],\"textposition\":\"auto\",\"type\":\"bar\",\"x\":[\"Cafe\"],\"xaxis\":\"x\",\"y\":[21.0],\"yaxis\":\"y\"},{\"alignmentgroup\":\"True\",\"hovertemplate\":\"restaurant type=%{x}<br>Average number(median) of seats=%{text}<extra></extra>\",\"legendgroup\":\"Fast Food\",\"marker\":{\"color\":\"#ab63fa\",\"pattern\":{\"shape\":\"\"}},\"name\":\"Fast Food\",\"offsetgroup\":\"Fast Food\",\"orientation\":\"v\",\"showlegend\":true,\"text\":[\"21.0\"],\"textposition\":\"auto\",\"type\":\"bar\",\"x\":[\"Fast Food\"],\"xaxis\":\"x\",\"y\":[21.0],\"yaxis\":\"y\"},{\"alignmentgroup\":\"True\",\"hovertemplate\":\"restaurant type=%{x}<br>Average number(median) of seats=%{text}<extra></extra>\",\"legendgroup\":\"Pizza\",\"marker\":{\"color\":\"#FFA15A\",\"pattern\":{\"shape\":\"\"}},\"name\":\"Pizza\",\"offsetgroup\":\"Pizza\",\"orientation\":\"v\",\"showlegend\":true,\"text\":[\"19.0\"],\"textposition\":\"auto\",\"type\":\"bar\",\"x\":[\"Pizza\"],\"xaxis\":\"x\",\"y\":[19.0],\"yaxis\":\"y\"},{\"alignmentgroup\":\"True\",\"hovertemplate\":\"restaurant type=%{x}<br>Average number(median) of seats=%{text}<extra></extra>\",\"legendgroup\":\"Restaurant\",\"marker\":{\"color\":\"#19d3f3\",\"pattern\":{\"shape\":\"\"}},\"name\":\"Restaurant\",\"offsetgroup\":\"Restaurant\",\"orientation\":\"v\",\"showlegend\":true,\"text\":[\"29.0\"],\"textposition\":\"auto\",\"type\":\"bar\",\"x\":[\"Restaurant\"],\"xaxis\":\"x\",\"y\":[29.0],\"yaxis\":\"y\"}],                        {\"barmode\":\"relative\",\"legend\":{\"font\":{\"size\":14},\"itemwidth\":50,\"title\":{\"text\":\"restaurant type\"},\"tracegroupgap\":0},\"template\":{\"data\":{\"bar\":[{\"error_x\":{\"color\":\"#2a3f5f\"},\"error_y\":{\"color\":\"#2a3f5f\"},\"marker\":{\"line\":{\"color\":\"#E5ECF6\",\"width\":0.5},\"pattern\":{\"fillmode\":\"overlay\",\"size\":10,\"solidity\":0.2}},\"type\":\"bar\"}],\"barpolar\":[{\"marker\":{\"line\":{\"color\":\"#E5ECF6\",\"width\":0.5},\"pattern\":{\"fillmode\":\"overlay\",\"size\":10,\"solidity\":0.2}},\"type\":\"barpolar\"}],\"carpet\":[{\"aaxis\":{\"endlinecolor\":\"#2a3f5f\",\"gridcolor\":\"white\",\"linecolor\":\"white\",\"minorgridcolor\":\"white\",\"startlinecolor\":\"#2a3f5f\"},\"baxis\":{\"endlinecolor\":\"#2a3f5f\",\"gridcolor\":\"white\",\"linecolor\":\"white\",\"minorgridcolor\":\"white\",\"startlinecolor\":\"#2a3f5f\"},\"type\":\"carpet\"}],\"choropleth\":[{\"colorbar\":{\"outlinewidth\":0,\"ticks\":\"\"},\"type\":\"choropleth\"}],\"contour\":[{\"colorbar\":{\"outlinewidth\":0,\"ticks\":\"\"},\"colorscale\":[[0.0,\"#0d0887\"],[0.1111111111111111,\"#46039f\"],[0.2222222222222222,\"#7201a8\"],[0.3333333333333333,\"#9c179e\"],[0.4444444444444444,\"#bd3786\"],[0.5555555555555556,\"#d8576b\"],[0.6666666666666666,\"#ed7953\"],[0.7777777777777778,\"#fb9f3a\"],[0.8888888888888888,\"#fdca26\"],[1.0,\"#f0f921\"]],\"type\":\"contour\"}],\"contourcarpet\":[{\"colorbar\":{\"outlinewidth\":0,\"ticks\":\"\"},\"type\":\"contourcarpet\"}],\"heatmap\":[{\"colorbar\":{\"outlinewidth\":0,\"ticks\":\"\"},\"colorscale\":[[0.0,\"#0d0887\"],[0.1111111111111111,\"#46039f\"],[0.2222222222222222,\"#7201a8\"],[0.3333333333333333,\"#9c179e\"],[0.4444444444444444,\"#bd3786\"],[0.5555555555555556,\"#d8576b\"],[0.6666666666666666,\"#ed7953\"],[0.7777777777777778,\"#fb9f3a\"],[0.8888888888888888,\"#fdca26\"],[1.0,\"#f0f921\"]],\"type\":\"heatmap\"}],\"heatmapgl\":[{\"colorbar\":{\"outlinewidth\":0,\"ticks\":\"\"},\"colorscale\":[[0.0,\"#0d0887\"],[0.1111111111111111,\"#46039f\"],[0.2222222222222222,\"#7201a8\"],[0.3333333333333333,\"#9c179e\"],[0.4444444444444444,\"#bd3786\"],[0.5555555555555556,\"#d8576b\"],[0.6666666666666666,\"#ed7953\"],[0.7777777777777778,\"#fb9f3a\"],[0.8888888888888888,\"#fdca26\"],[1.0,\"#f0f921\"]],\"type\":\"heatmapgl\"}],\"histogram\":[{\"marker\":{\"pattern\":{\"fillmode\":\"overlay\",\"size\":10,\"solidity\":0.2}},\"type\":\"histogram\"}],\"histogram2d\":[{\"colorbar\":{\"outlinewidth\":0,\"ticks\":\"\"},\"colorscale\":[[0.0,\"#0d0887\"],[0.1111111111111111,\"#46039f\"],[0.2222222222222222,\"#7201a8\"],[0.3333333333333333,\"#9c179e\"],[0.4444444444444444,\"#bd3786\"],[0.5555555555555556,\"#d8576b\"],[0.6666666666666666,\"#ed7953\"],[0.7777777777777778,\"#fb9f3a\"],[0.8888888888888888,\"#fdca26\"],[1.0,\"#f0f921\"]],\"type\":\"histogram2d\"}],\"histogram2dcontour\":[{\"colorbar\":{\"outlinewidth\":0,\"ticks\":\"\"},\"colorscale\":[[0.0,\"#0d0887\"],[0.1111111111111111,\"#46039f\"],[0.2222222222222222,\"#7201a8\"],[0.3333333333333333,\"#9c179e\"],[0.4444444444444444,\"#bd3786\"],[0.5555555555555556,\"#d8576b\"],[0.6666666666666666,\"#ed7953\"],[0.7777777777777778,\"#fb9f3a\"],[0.8888888888888888,\"#fdca26\"],[1.0,\"#f0f921\"]],\"type\":\"histogram2dcontour\"}],\"mesh3d\":[{\"colorbar\":{\"outlinewidth\":0,\"ticks\":\"\"},\"type\":\"mesh3d\"}],\"parcoords\":[{\"line\":{\"colorbar\":{\"outlinewidth\":0,\"ticks\":\"\"}},\"type\":\"parcoords\"}],\"pie\":[{\"automargin\":true,\"type\":\"pie\"}],\"scatter\":[{\"marker\":{\"colorbar\":{\"outlinewidth\":0,\"ticks\":\"\"}},\"type\":\"scatter\"}],\"scatter3d\":[{\"line\":{\"colorbar\":{\"outlinewidth\":0,\"ticks\":\"\"}},\"marker\":{\"colorbar\":{\"outlinewidth\":0,\"ticks\":\"\"}},\"type\":\"scatter3d\"}],\"scattercarpet\":[{\"marker\":{\"colorbar\":{\"outlinewidth\":0,\"ticks\":\"\"}},\"type\":\"scattercarpet\"}],\"scattergeo\":[{\"marker\":{\"colorbar\":{\"outlinewidth\":0,\"ticks\":\"\"}},\"type\":\"scattergeo\"}],\"scattergl\":[{\"marker\":{\"colorbar\":{\"outlinewidth\":0,\"ticks\":\"\"}},\"type\":\"scattergl\"}],\"scattermapbox\":[{\"marker\":{\"colorbar\":{\"outlinewidth\":0,\"ticks\":\"\"}},\"type\":\"scattermapbox\"}],\"scatterpolar\":[{\"marker\":{\"colorbar\":{\"outlinewidth\":0,\"ticks\":\"\"}},\"type\":\"scatterpolar\"}],\"scatterpolargl\":[{\"marker\":{\"colorbar\":{\"outlinewidth\":0,\"ticks\":\"\"}},\"type\":\"scatterpolargl\"}],\"scatterternary\":[{\"marker\":{\"colorbar\":{\"outlinewidth\":0,\"ticks\":\"\"}},\"type\":\"scatterternary\"}],\"surface\":[{\"colorbar\":{\"outlinewidth\":0,\"ticks\":\"\"},\"colorscale\":[[0.0,\"#0d0887\"],[0.1111111111111111,\"#46039f\"],[0.2222222222222222,\"#7201a8\"],[0.3333333333333333,\"#9c179e\"],[0.4444444444444444,\"#bd3786\"],[0.5555555555555556,\"#d8576b\"],[0.6666666666666666,\"#ed7953\"],[0.7777777777777778,\"#fb9f3a\"],[0.8888888888888888,\"#fdca26\"],[1.0,\"#f0f921\"]],\"type\":\"surface\"}],\"table\":[{\"cells\":{\"fill\":{\"color\":\"#EBF0F8\"},\"line\":{\"color\":\"white\"}},\"header\":{\"fill\":{\"color\":\"#C8D4E3\"},\"line\":{\"color\":\"white\"}},\"type\":\"table\"}]},\"layout\":{\"annotationdefaults\":{\"arrowcolor\":\"#2a3f5f\",\"arrowhead\":0,\"arrowwidth\":1},\"autotypenumbers\":\"strict\",\"coloraxis\":{\"colorbar\":{\"outlinewidth\":0,\"ticks\":\"\"}},\"colorscale\":{\"diverging\":[[0,\"#8e0152\"],[0.1,\"#c51b7d\"],[0.2,\"#de77ae\"],[0.3,\"#f1b6da\"],[0.4,\"#fde0ef\"],[0.5,\"#f7f7f7\"],[0.6,\"#e6f5d0\"],[0.7,\"#b8e186\"],[0.8,\"#7fbc41\"],[0.9,\"#4d9221\"],[1,\"#276419\"]],\"sequential\":[[0.0,\"#0d0887\"],[0.1111111111111111,\"#46039f\"],[0.2222222222222222,\"#7201a8\"],[0.3333333333333333,\"#9c179e\"],[0.4444444444444444,\"#bd3786\"],[0.5555555555555556,\"#d8576b\"],[0.6666666666666666,\"#ed7953\"],[0.7777777777777778,\"#fb9f3a\"],[0.8888888888888888,\"#fdca26\"],[1.0,\"#f0f921\"]],\"sequentialminus\":[[0.0,\"#0d0887\"],[0.1111111111111111,\"#46039f\"],[0.2222222222222222,\"#7201a8\"],[0.3333333333333333,\"#9c179e\"],[0.4444444444444444,\"#bd3786\"],[0.5555555555555556,\"#d8576b\"],[0.6666666666666666,\"#ed7953\"],[0.7777777777777778,\"#fb9f3a\"],[0.8888888888888888,\"#fdca26\"],[1.0,\"#f0f921\"]]},\"colorway\":[\"#636efa\",\"#EF553B\",\"#00cc96\",\"#ab63fa\",\"#FFA15A\",\"#19d3f3\",\"#FF6692\",\"#B6E880\",\"#FF97FF\",\"#FECB52\"],\"font\":{\"color\":\"#2a3f5f\"},\"geo\":{\"bgcolor\":\"white\",\"lakecolor\":\"white\",\"landcolor\":\"#E5ECF6\",\"showlakes\":true,\"showland\":true,\"subunitcolor\":\"white\"},\"hoverlabel\":{\"align\":\"left\"},\"hovermode\":\"closest\",\"mapbox\":{\"style\":\"light\"},\"paper_bgcolor\":\"white\",\"plot_bgcolor\":\"#E5ECF6\",\"polar\":{\"angularaxis\":{\"gridcolor\":\"white\",\"linecolor\":\"white\",\"ticks\":\"\"},\"bgcolor\":\"#E5ECF6\",\"radialaxis\":{\"gridcolor\":\"white\",\"linecolor\":\"white\",\"ticks\":\"\"}},\"scene\":{\"xaxis\":{\"backgroundcolor\":\"#E5ECF6\",\"gridcolor\":\"white\",\"gridwidth\":2,\"linecolor\":\"white\",\"showbackground\":true,\"ticks\":\"\",\"zerolinecolor\":\"white\"},\"yaxis\":{\"backgroundcolor\":\"#E5ECF6\",\"gridcolor\":\"white\",\"gridwidth\":2,\"linecolor\":\"white\",\"showbackground\":true,\"ticks\":\"\",\"zerolinecolor\":\"white\"},\"zaxis\":{\"backgroundcolor\":\"#E5ECF6\",\"gridcolor\":\"white\",\"gridwidth\":2,\"linecolor\":\"white\",\"showbackground\":true,\"ticks\":\"\",\"zerolinecolor\":\"white\"}},\"shapedefaults\":{\"line\":{\"color\":\"#2a3f5f\"}},\"ternary\":{\"aaxis\":{\"gridcolor\":\"white\",\"linecolor\":\"white\",\"ticks\":\"\"},\"baxis\":{\"gridcolor\":\"white\",\"linecolor\":\"white\",\"ticks\":\"\"},\"bgcolor\":\"#E5ECF6\",\"caxis\":{\"gridcolor\":\"white\",\"linecolor\":\"white\",\"ticks\":\"\"}},\"title\":{\"x\":0.05},\"xaxis\":{\"automargin\":true,\"gridcolor\":\"white\",\"linecolor\":\"white\",\"ticks\":\"\",\"title\":{\"standoff\":15},\"zerolinecolor\":\"white\",\"zerolinewidth\":2},\"yaxis\":{\"automargin\":true,\"gridcolor\":\"white\",\"linecolor\":\"white\",\"ticks\":\"\",\"title\":{\"standoff\":15},\"zerolinecolor\":\"white\",\"zerolinewidth\":2}}},\"title\":{\"text\":\"Average number(median) of seats for restaurant type\"},\"xaxis\":{\"anchor\":\"y\",\"categoryarray\":[\"Bakery\",\"Bar\",\"Cafe\",\"Fast Food\",\"Pizza\",\"Restaurant\"],\"categoryorder\":\"array\",\"domain\":[0.0,1.0],\"title\":{\"text\":\"restaurant type\"}},\"yaxis\":{\"anchor\":\"x\",\"domain\":[0.0,1.0],\"title\":{\"text\":\"Average number(median) of seats\"}}},                        {\"responsive\": true}                    ).then(function(){\n",
       "                            \n",
       "var gd = document.getElementById('b9211f14-331a-4156-b10e-d5ab5044ddd5');\n",
       "var x = new MutationObserver(function (mutations, observer) {{\n",
       "        var display = window.getComputedStyle(gd).display;\n",
       "        if (!display || display === 'none') {{\n",
       "            console.log([gd, 'removed!']);\n",
       "            Plotly.purge(gd);\n",
       "            observer.disconnect();\n",
       "        }}\n",
       "}});\n",
       "\n",
       "// Listen for the removal of the full notebook cells\n",
       "var notebookContainer = gd.closest('#notebook-container');\n",
       "if (notebookContainer) {{\n",
       "    x.observe(notebookContainer, {childList: true});\n",
       "}}\n",
       "\n",
       "// Listen for the clearing of the current output cell\n",
       "var outputEl = gd.closest('.output');\n",
       "if (outputEl) {{\n",
       "    x.observe(outputEl, {childList: true});\n",
       "}}\n",
       "\n",
       "                        })                };                });            </script>        </div>"
      ]
     },
     "metadata": {},
     "output_type": "display_data"
    }
   ],
   "source": [
    "avg_seats_per_type = rest_data.pivot_table(index=\"object_type\",values=\"number\",aggfunc=\"median\").reset_index()\n",
    "figure = px.bar(avg_seats_per_type,x=\"object_type\",y=\"number\",\n",
    "                title=\"Average number(median) of seats for restaurant type\",\n",
    "                labels={'object_type':\"restaurant type\",'number':\"Average number(median) of seats\"},\n",
    "                color=\"object_type\",\n",
    "                text='number')\n",
    "figure.update_layout(legend_itemwidth=50,legend_font_size=14)\n",
    "figure.show()"
   ]
  },
  {
   "cell_type": "markdown",
   "id": "e6db9aac",
   "metadata": {},
   "source": [
    "We noticed that resturants and bars in average have most number of seats - we noticed before that they mostly not chained.<br>\n",
    "In the other hand we see the bakeries and Cafes that mostly are part of a chain have in average small/medium amount of seats.  "
   ]
  },
  {
   "cell_type": "markdown",
   "id": "c9afad06",
   "metadata": {},
   "source": [
    "**graph of the top ten streets by number of restaurants**"
   ]
  },
  {
   "cell_type": "code",
   "execution_count": 42,
   "id": "d755e738",
   "metadata": {
    "ExecuteTime": {
     "end_time": "2021-12-09T16:47:47.884902Z",
     "start_time": "2021-12-09T16:47:47.790201Z"
    }
   },
   "outputs": [
    {
     "data": {
      "application/vnd.plotly.v1+json": {
       "config": {
        "plotlyServerURL": "https://plot.ly"
       },
       "data": [
        {
         "alignmentgroup": "True",
         "hovertemplate": "street name=%{y}<br>number of restaurants=%{text}<extra></extra>",
         "legendgroup": "SUNSET ",
         "marker": {
          "color": "#636efa",
          "pattern": {
           "shape": ""
          }
         },
         "name": "SUNSET ",
         "offsetgroup": "SUNSET ",
         "orientation": "h",
         "showlegend": true,
         "text": [
          "404"
         ],
         "textposition": "auto",
         "type": "bar",
         "x": [
          404
         ],
         "xaxis": "x",
         "y": [
          "SUNSET "
         ],
         "yaxis": "y"
        },
        {
         "alignmentgroup": "True",
         "hovertemplate": "street name=%{y}<br>number of restaurants=%{text}<extra></extra>",
         "legendgroup": "WILSHIRE ",
         "marker": {
          "color": "#EF553B",
          "pattern": {
           "shape": ""
          }
         },
         "name": "WILSHIRE ",
         "offsetgroup": "WILSHIRE ",
         "orientation": "h",
         "showlegend": true,
         "text": [
          "398"
         ],
         "textposition": "auto",
         "type": "bar",
         "x": [
          398
         ],
         "xaxis": "x",
         "y": [
          "WILSHIRE "
         ],
         "yaxis": "y"
        },
        {
         "alignmentgroup": "True",
         "hovertemplate": "street name=%{y}<br>number of restaurants=%{text}<extra></extra>",
         "legendgroup": "PICO ",
         "marker": {
          "color": "#00cc96",
          "pattern": {
           "shape": ""
          }
         },
         "name": "PICO ",
         "offsetgroup": "PICO ",
         "orientation": "h",
         "showlegend": true,
         "text": [
          "370"
         ],
         "textposition": "auto",
         "type": "bar",
         "x": [
          370
         ],
         "xaxis": "x",
         "y": [
          "PICO "
         ],
         "yaxis": "y"
        },
        {
         "alignmentgroup": "True",
         "hovertemplate": "street name=%{y}<br>number of restaurants=%{text}<extra></extra>",
         "legendgroup": "WESTERN ",
         "marker": {
          "color": "#ab63fa",
          "pattern": {
           "shape": ""
          }
         },
         "name": "WESTERN ",
         "offsetgroup": "WESTERN ",
         "orientation": "h",
         "showlegend": true,
         "text": [
          "369"
         ],
         "textposition": "auto",
         "type": "bar",
         "x": [
          369
         ],
         "xaxis": "x",
         "y": [
          "WESTERN "
         ],
         "yaxis": "y"
        },
        {
         "alignmentgroup": "True",
         "hovertemplate": "street name=%{y}<br>number of restaurants=%{text}<extra></extra>",
         "legendgroup": "FIGUEROA ",
         "marker": {
          "color": "#FFA15A",
          "pattern": {
           "shape": ""
          }
         },
         "name": "FIGUEROA ",
         "offsetgroup": "FIGUEROA ",
         "orientation": "h",
         "showlegend": true,
         "text": [
          "334"
         ],
         "textposition": "auto",
         "type": "bar",
         "x": [
          334
         ],
         "xaxis": "x",
         "y": [
          "FIGUEROA "
         ],
         "yaxis": "y"
        },
        {
         "alignmentgroup": "True",
         "hovertemplate": "street name=%{y}<br>number of restaurants=%{text}<extra></extra>",
         "legendgroup": "OLYMPIC ",
         "marker": {
          "color": "#19d3f3",
          "pattern": {
           "shape": ""
          }
         },
         "name": "OLYMPIC ",
         "offsetgroup": "OLYMPIC ",
         "orientation": "h",
         "showlegend": true,
         "text": [
          "309"
         ],
         "textposition": "auto",
         "type": "bar",
         "x": [
          309
         ],
         "xaxis": "x",
         "y": [
          "OLYMPIC "
         ],
         "yaxis": "y"
        },
        {
         "alignmentgroup": "True",
         "hovertemplate": "street name=%{y}<br>number of restaurants=%{text}<extra></extra>",
         "legendgroup": "VERMONT ",
         "marker": {
          "color": "#FF6692",
          "pattern": {
           "shape": ""
          }
         },
         "name": "VERMONT ",
         "offsetgroup": "VERMONT ",
         "orientation": "h",
         "showlegend": true,
         "text": [
          "287"
         ],
         "textposition": "auto",
         "type": "bar",
         "x": [
          287
         ],
         "xaxis": "x",
         "y": [
          "VERMONT "
         ],
         "yaxis": "y"
        },
        {
         "alignmentgroup": "True",
         "hovertemplate": "street name=%{y}<br>number of restaurants=%{text}<extra></extra>",
         "legendgroup": "SANTA MONICA ",
         "marker": {
          "color": "#B6E880",
          "pattern": {
           "shape": ""
          }
         },
         "name": "SANTA MONICA ",
         "offsetgroup": "SANTA MONICA ",
         "orientation": "h",
         "showlegend": true,
         "text": [
          "264"
         ],
         "textposition": "auto",
         "type": "bar",
         "x": [
          264
         ],
         "xaxis": "x",
         "y": [
          "SANTA MONICA "
         ],
         "yaxis": "y"
        },
        {
         "alignmentgroup": "True",
         "hovertemplate": "street name=%{y}<br>number of restaurants=%{text}<extra></extra>",
         "legendgroup": "3RD ",
         "marker": {
          "color": "#FF97FF",
          "pattern": {
           "shape": ""
          }
         },
         "name": "3RD ",
         "offsetgroup": "3RD ",
         "orientation": "h",
         "showlegend": true,
         "text": [
          "262"
         ],
         "textposition": "auto",
         "type": "bar",
         "x": [
          262
         ],
         "xaxis": "x",
         "y": [
          "3RD "
         ],
         "yaxis": "y"
        },
        {
         "alignmentgroup": "True",
         "hovertemplate": "street name=%{y}<br>number of restaurants=%{text}<extra></extra>",
         "legendgroup": "HOLLYWOOD ",
         "marker": {
          "color": "#FECB52",
          "pattern": {
           "shape": ""
          }
         },
         "name": "HOLLYWOOD ",
         "offsetgroup": "HOLLYWOOD ",
         "orientation": "h",
         "showlegend": true,
         "text": [
          "253"
         ],
         "textposition": "auto",
         "type": "bar",
         "x": [
          253
         ],
         "xaxis": "x",
         "y": [
          "HOLLYWOOD "
         ],
         "yaxis": "y"
        }
       ],
       "layout": {
        "barmode": "relative",
        "legend": {
         "font": {
          "size": 14
         },
         "itemwidth": 50,
         "title": {
          "text": "street name"
         },
         "tracegroupgap": 0
        },
        "template": {
         "data": {
          "bar": [
           {
            "error_x": {
             "color": "#2a3f5f"
            },
            "error_y": {
             "color": "#2a3f5f"
            },
            "marker": {
             "line": {
              "color": "#E5ECF6",
              "width": 0.5
             },
             "pattern": {
              "fillmode": "overlay",
              "size": 10,
              "solidity": 0.2
             }
            },
            "type": "bar"
           }
          ],
          "barpolar": [
           {
            "marker": {
             "line": {
              "color": "#E5ECF6",
              "width": 0.5
             },
             "pattern": {
              "fillmode": "overlay",
              "size": 10,
              "solidity": 0.2
             }
            },
            "type": "barpolar"
           }
          ],
          "carpet": [
           {
            "aaxis": {
             "endlinecolor": "#2a3f5f",
             "gridcolor": "white",
             "linecolor": "white",
             "minorgridcolor": "white",
             "startlinecolor": "#2a3f5f"
            },
            "baxis": {
             "endlinecolor": "#2a3f5f",
             "gridcolor": "white",
             "linecolor": "white",
             "minorgridcolor": "white",
             "startlinecolor": "#2a3f5f"
            },
            "type": "carpet"
           }
          ],
          "choropleth": [
           {
            "colorbar": {
             "outlinewidth": 0,
             "ticks": ""
            },
            "type": "choropleth"
           }
          ],
          "contour": [
           {
            "colorbar": {
             "outlinewidth": 0,
             "ticks": ""
            },
            "colorscale": [
             [
              0,
              "#0d0887"
             ],
             [
              0.1111111111111111,
              "#46039f"
             ],
             [
              0.2222222222222222,
              "#7201a8"
             ],
             [
              0.3333333333333333,
              "#9c179e"
             ],
             [
              0.4444444444444444,
              "#bd3786"
             ],
             [
              0.5555555555555556,
              "#d8576b"
             ],
             [
              0.6666666666666666,
              "#ed7953"
             ],
             [
              0.7777777777777778,
              "#fb9f3a"
             ],
             [
              0.8888888888888888,
              "#fdca26"
             ],
             [
              1,
              "#f0f921"
             ]
            ],
            "type": "contour"
           }
          ],
          "contourcarpet": [
           {
            "colorbar": {
             "outlinewidth": 0,
             "ticks": ""
            },
            "type": "contourcarpet"
           }
          ],
          "heatmap": [
           {
            "colorbar": {
             "outlinewidth": 0,
             "ticks": ""
            },
            "colorscale": [
             [
              0,
              "#0d0887"
             ],
             [
              0.1111111111111111,
              "#46039f"
             ],
             [
              0.2222222222222222,
              "#7201a8"
             ],
             [
              0.3333333333333333,
              "#9c179e"
             ],
             [
              0.4444444444444444,
              "#bd3786"
             ],
             [
              0.5555555555555556,
              "#d8576b"
             ],
             [
              0.6666666666666666,
              "#ed7953"
             ],
             [
              0.7777777777777778,
              "#fb9f3a"
             ],
             [
              0.8888888888888888,
              "#fdca26"
             ],
             [
              1,
              "#f0f921"
             ]
            ],
            "type": "heatmap"
           }
          ],
          "heatmapgl": [
           {
            "colorbar": {
             "outlinewidth": 0,
             "ticks": ""
            },
            "colorscale": [
             [
              0,
              "#0d0887"
             ],
             [
              0.1111111111111111,
              "#46039f"
             ],
             [
              0.2222222222222222,
              "#7201a8"
             ],
             [
              0.3333333333333333,
              "#9c179e"
             ],
             [
              0.4444444444444444,
              "#bd3786"
             ],
             [
              0.5555555555555556,
              "#d8576b"
             ],
             [
              0.6666666666666666,
              "#ed7953"
             ],
             [
              0.7777777777777778,
              "#fb9f3a"
             ],
             [
              0.8888888888888888,
              "#fdca26"
             ],
             [
              1,
              "#f0f921"
             ]
            ],
            "type": "heatmapgl"
           }
          ],
          "histogram": [
           {
            "marker": {
             "pattern": {
              "fillmode": "overlay",
              "size": 10,
              "solidity": 0.2
             }
            },
            "type": "histogram"
           }
          ],
          "histogram2d": [
           {
            "colorbar": {
             "outlinewidth": 0,
             "ticks": ""
            },
            "colorscale": [
             [
              0,
              "#0d0887"
             ],
             [
              0.1111111111111111,
              "#46039f"
             ],
             [
              0.2222222222222222,
              "#7201a8"
             ],
             [
              0.3333333333333333,
              "#9c179e"
             ],
             [
              0.4444444444444444,
              "#bd3786"
             ],
             [
              0.5555555555555556,
              "#d8576b"
             ],
             [
              0.6666666666666666,
              "#ed7953"
             ],
             [
              0.7777777777777778,
              "#fb9f3a"
             ],
             [
              0.8888888888888888,
              "#fdca26"
             ],
             [
              1,
              "#f0f921"
             ]
            ],
            "type": "histogram2d"
           }
          ],
          "histogram2dcontour": [
           {
            "colorbar": {
             "outlinewidth": 0,
             "ticks": ""
            },
            "colorscale": [
             [
              0,
              "#0d0887"
             ],
             [
              0.1111111111111111,
              "#46039f"
             ],
             [
              0.2222222222222222,
              "#7201a8"
             ],
             [
              0.3333333333333333,
              "#9c179e"
             ],
             [
              0.4444444444444444,
              "#bd3786"
             ],
             [
              0.5555555555555556,
              "#d8576b"
             ],
             [
              0.6666666666666666,
              "#ed7953"
             ],
             [
              0.7777777777777778,
              "#fb9f3a"
             ],
             [
              0.8888888888888888,
              "#fdca26"
             ],
             [
              1,
              "#f0f921"
             ]
            ],
            "type": "histogram2dcontour"
           }
          ],
          "mesh3d": [
           {
            "colorbar": {
             "outlinewidth": 0,
             "ticks": ""
            },
            "type": "mesh3d"
           }
          ],
          "parcoords": [
           {
            "line": {
             "colorbar": {
              "outlinewidth": 0,
              "ticks": ""
             }
            },
            "type": "parcoords"
           }
          ],
          "pie": [
           {
            "automargin": true,
            "type": "pie"
           }
          ],
          "scatter": [
           {
            "marker": {
             "colorbar": {
              "outlinewidth": 0,
              "ticks": ""
             }
            },
            "type": "scatter"
           }
          ],
          "scatter3d": [
           {
            "line": {
             "colorbar": {
              "outlinewidth": 0,
              "ticks": ""
             }
            },
            "marker": {
             "colorbar": {
              "outlinewidth": 0,
              "ticks": ""
             }
            },
            "type": "scatter3d"
           }
          ],
          "scattercarpet": [
           {
            "marker": {
             "colorbar": {
              "outlinewidth": 0,
              "ticks": ""
             }
            },
            "type": "scattercarpet"
           }
          ],
          "scattergeo": [
           {
            "marker": {
             "colorbar": {
              "outlinewidth": 0,
              "ticks": ""
             }
            },
            "type": "scattergeo"
           }
          ],
          "scattergl": [
           {
            "marker": {
             "colorbar": {
              "outlinewidth": 0,
              "ticks": ""
             }
            },
            "type": "scattergl"
           }
          ],
          "scattermapbox": [
           {
            "marker": {
             "colorbar": {
              "outlinewidth": 0,
              "ticks": ""
             }
            },
            "type": "scattermapbox"
           }
          ],
          "scatterpolar": [
           {
            "marker": {
             "colorbar": {
              "outlinewidth": 0,
              "ticks": ""
             }
            },
            "type": "scatterpolar"
           }
          ],
          "scatterpolargl": [
           {
            "marker": {
             "colorbar": {
              "outlinewidth": 0,
              "ticks": ""
             }
            },
            "type": "scatterpolargl"
           }
          ],
          "scatterternary": [
           {
            "marker": {
             "colorbar": {
              "outlinewidth": 0,
              "ticks": ""
             }
            },
            "type": "scatterternary"
           }
          ],
          "surface": [
           {
            "colorbar": {
             "outlinewidth": 0,
             "ticks": ""
            },
            "colorscale": [
             [
              0,
              "#0d0887"
             ],
             [
              0.1111111111111111,
              "#46039f"
             ],
             [
              0.2222222222222222,
              "#7201a8"
             ],
             [
              0.3333333333333333,
              "#9c179e"
             ],
             [
              0.4444444444444444,
              "#bd3786"
             ],
             [
              0.5555555555555556,
              "#d8576b"
             ],
             [
              0.6666666666666666,
              "#ed7953"
             ],
             [
              0.7777777777777778,
              "#fb9f3a"
             ],
             [
              0.8888888888888888,
              "#fdca26"
             ],
             [
              1,
              "#f0f921"
             ]
            ],
            "type": "surface"
           }
          ],
          "table": [
           {
            "cells": {
             "fill": {
              "color": "#EBF0F8"
             },
             "line": {
              "color": "white"
             }
            },
            "header": {
             "fill": {
              "color": "#C8D4E3"
             },
             "line": {
              "color": "white"
             }
            },
            "type": "table"
           }
          ]
         },
         "layout": {
          "annotationdefaults": {
           "arrowcolor": "#2a3f5f",
           "arrowhead": 0,
           "arrowwidth": 1
          },
          "autotypenumbers": "strict",
          "coloraxis": {
           "colorbar": {
            "outlinewidth": 0,
            "ticks": ""
           }
          },
          "colorscale": {
           "diverging": [
            [
             0,
             "#8e0152"
            ],
            [
             0.1,
             "#c51b7d"
            ],
            [
             0.2,
             "#de77ae"
            ],
            [
             0.3,
             "#f1b6da"
            ],
            [
             0.4,
             "#fde0ef"
            ],
            [
             0.5,
             "#f7f7f7"
            ],
            [
             0.6,
             "#e6f5d0"
            ],
            [
             0.7,
             "#b8e186"
            ],
            [
             0.8,
             "#7fbc41"
            ],
            [
             0.9,
             "#4d9221"
            ],
            [
             1,
             "#276419"
            ]
           ],
           "sequential": [
            [
             0,
             "#0d0887"
            ],
            [
             0.1111111111111111,
             "#46039f"
            ],
            [
             0.2222222222222222,
             "#7201a8"
            ],
            [
             0.3333333333333333,
             "#9c179e"
            ],
            [
             0.4444444444444444,
             "#bd3786"
            ],
            [
             0.5555555555555556,
             "#d8576b"
            ],
            [
             0.6666666666666666,
             "#ed7953"
            ],
            [
             0.7777777777777778,
             "#fb9f3a"
            ],
            [
             0.8888888888888888,
             "#fdca26"
            ],
            [
             1,
             "#f0f921"
            ]
           ],
           "sequentialminus": [
            [
             0,
             "#0d0887"
            ],
            [
             0.1111111111111111,
             "#46039f"
            ],
            [
             0.2222222222222222,
             "#7201a8"
            ],
            [
             0.3333333333333333,
             "#9c179e"
            ],
            [
             0.4444444444444444,
             "#bd3786"
            ],
            [
             0.5555555555555556,
             "#d8576b"
            ],
            [
             0.6666666666666666,
             "#ed7953"
            ],
            [
             0.7777777777777778,
             "#fb9f3a"
            ],
            [
             0.8888888888888888,
             "#fdca26"
            ],
            [
             1,
             "#f0f921"
            ]
           ]
          },
          "colorway": [
           "#636efa",
           "#EF553B",
           "#00cc96",
           "#ab63fa",
           "#FFA15A",
           "#19d3f3",
           "#FF6692",
           "#B6E880",
           "#FF97FF",
           "#FECB52"
          ],
          "font": {
           "color": "#2a3f5f"
          },
          "geo": {
           "bgcolor": "white",
           "lakecolor": "white",
           "landcolor": "#E5ECF6",
           "showlakes": true,
           "showland": true,
           "subunitcolor": "white"
          },
          "hoverlabel": {
           "align": "left"
          },
          "hovermode": "closest",
          "mapbox": {
           "style": "light"
          },
          "paper_bgcolor": "white",
          "plot_bgcolor": "#E5ECF6",
          "polar": {
           "angularaxis": {
            "gridcolor": "white",
            "linecolor": "white",
            "ticks": ""
           },
           "bgcolor": "#E5ECF6",
           "radialaxis": {
            "gridcolor": "white",
            "linecolor": "white",
            "ticks": ""
           }
          },
          "scene": {
           "xaxis": {
            "backgroundcolor": "#E5ECF6",
            "gridcolor": "white",
            "gridwidth": 2,
            "linecolor": "white",
            "showbackground": true,
            "ticks": "",
            "zerolinecolor": "white"
           },
           "yaxis": {
            "backgroundcolor": "#E5ECF6",
            "gridcolor": "white",
            "gridwidth": 2,
            "linecolor": "white",
            "showbackground": true,
            "ticks": "",
            "zerolinecolor": "white"
           },
           "zaxis": {
            "backgroundcolor": "#E5ECF6",
            "gridcolor": "white",
            "gridwidth": 2,
            "linecolor": "white",
            "showbackground": true,
            "ticks": "",
            "zerolinecolor": "white"
           }
          },
          "shapedefaults": {
           "line": {
            "color": "#2a3f5f"
           }
          },
          "ternary": {
           "aaxis": {
            "gridcolor": "white",
            "linecolor": "white",
            "ticks": ""
           },
           "baxis": {
            "gridcolor": "white",
            "linecolor": "white",
            "ticks": ""
           },
           "bgcolor": "#E5ECF6",
           "caxis": {
            "gridcolor": "white",
            "linecolor": "white",
            "ticks": ""
           }
          },
          "title": {
           "x": 0.05
          },
          "xaxis": {
           "automargin": true,
           "gridcolor": "white",
           "linecolor": "white",
           "ticks": "",
           "title": {
            "standoff": 15
           },
           "zerolinecolor": "white",
           "zerolinewidth": 2
          },
          "yaxis": {
           "automargin": true,
           "gridcolor": "white",
           "linecolor": "white",
           "ticks": "",
           "title": {
            "standoff": 15
           },
           "zerolinecolor": "white",
           "zerolinewidth": 2
          }
         }
        },
        "title": {
         "text": "top ten streets by number of restaurants"
        },
        "xaxis": {
         "anchor": "y",
         "domain": [
          0,
          1
         ],
         "title": {
          "text": "number of restaurants"
         }
        },
        "yaxis": {
         "anchor": "x",
         "categoryarray": [
          "HOLLYWOOD ",
          "3RD ",
          "SANTA MONICA ",
          "VERMONT ",
          "OLYMPIC ",
          "FIGUEROA ",
          "WESTERN ",
          "PICO ",
          "WILSHIRE ",
          "SUNSET "
         ],
         "categoryorder": "array",
         "domain": [
          0,
          1
         ],
         "title": {
          "text": "street name"
         }
        }
       }
      },
      "text/html": [
       "<div>                            <div id=\"1430dd63-7acf-40dd-b05a-e9c26215f595\" class=\"plotly-graph-div\" style=\"height:525px; width:100%;\"></div>            <script type=\"text/javascript\">                require([\"plotly\"], function(Plotly) {                    window.PLOTLYENV=window.PLOTLYENV || {};                                    if (document.getElementById(\"1430dd63-7acf-40dd-b05a-e9c26215f595\")) {                    Plotly.newPlot(                        \"1430dd63-7acf-40dd-b05a-e9c26215f595\",                        [{\"alignmentgroup\":\"True\",\"hovertemplate\":\"street name=%{y}<br>number of restaurants=%{text}<extra></extra>\",\"legendgroup\":\"SUNSET \",\"marker\":{\"color\":\"#636efa\",\"pattern\":{\"shape\":\"\"}},\"name\":\"SUNSET \",\"offsetgroup\":\"SUNSET \",\"orientation\":\"h\",\"showlegend\":true,\"text\":[\"404\"],\"textposition\":\"auto\",\"type\":\"bar\",\"x\":[404],\"xaxis\":\"x\",\"y\":[\"SUNSET \"],\"yaxis\":\"y\"},{\"alignmentgroup\":\"True\",\"hovertemplate\":\"street name=%{y}<br>number of restaurants=%{text}<extra></extra>\",\"legendgroup\":\"WILSHIRE \",\"marker\":{\"color\":\"#EF553B\",\"pattern\":{\"shape\":\"\"}},\"name\":\"WILSHIRE \",\"offsetgroup\":\"WILSHIRE \",\"orientation\":\"h\",\"showlegend\":true,\"text\":[\"398\"],\"textposition\":\"auto\",\"type\":\"bar\",\"x\":[398],\"xaxis\":\"x\",\"y\":[\"WILSHIRE \"],\"yaxis\":\"y\"},{\"alignmentgroup\":\"True\",\"hovertemplate\":\"street name=%{y}<br>number of restaurants=%{text}<extra></extra>\",\"legendgroup\":\"PICO \",\"marker\":{\"color\":\"#00cc96\",\"pattern\":{\"shape\":\"\"}},\"name\":\"PICO \",\"offsetgroup\":\"PICO \",\"orientation\":\"h\",\"showlegend\":true,\"text\":[\"370\"],\"textposition\":\"auto\",\"type\":\"bar\",\"x\":[370],\"xaxis\":\"x\",\"y\":[\"PICO \"],\"yaxis\":\"y\"},{\"alignmentgroup\":\"True\",\"hovertemplate\":\"street name=%{y}<br>number of restaurants=%{text}<extra></extra>\",\"legendgroup\":\"WESTERN \",\"marker\":{\"color\":\"#ab63fa\",\"pattern\":{\"shape\":\"\"}},\"name\":\"WESTERN \",\"offsetgroup\":\"WESTERN \",\"orientation\":\"h\",\"showlegend\":true,\"text\":[\"369\"],\"textposition\":\"auto\",\"type\":\"bar\",\"x\":[369],\"xaxis\":\"x\",\"y\":[\"WESTERN \"],\"yaxis\":\"y\"},{\"alignmentgroup\":\"True\",\"hovertemplate\":\"street name=%{y}<br>number of restaurants=%{text}<extra></extra>\",\"legendgroup\":\"FIGUEROA \",\"marker\":{\"color\":\"#FFA15A\",\"pattern\":{\"shape\":\"\"}},\"name\":\"FIGUEROA \",\"offsetgroup\":\"FIGUEROA \",\"orientation\":\"h\",\"showlegend\":true,\"text\":[\"334\"],\"textposition\":\"auto\",\"type\":\"bar\",\"x\":[334],\"xaxis\":\"x\",\"y\":[\"FIGUEROA \"],\"yaxis\":\"y\"},{\"alignmentgroup\":\"True\",\"hovertemplate\":\"street name=%{y}<br>number of restaurants=%{text}<extra></extra>\",\"legendgroup\":\"OLYMPIC \",\"marker\":{\"color\":\"#19d3f3\",\"pattern\":{\"shape\":\"\"}},\"name\":\"OLYMPIC \",\"offsetgroup\":\"OLYMPIC \",\"orientation\":\"h\",\"showlegend\":true,\"text\":[\"309\"],\"textposition\":\"auto\",\"type\":\"bar\",\"x\":[309],\"xaxis\":\"x\",\"y\":[\"OLYMPIC \"],\"yaxis\":\"y\"},{\"alignmentgroup\":\"True\",\"hovertemplate\":\"street name=%{y}<br>number of restaurants=%{text}<extra></extra>\",\"legendgroup\":\"VERMONT \",\"marker\":{\"color\":\"#FF6692\",\"pattern\":{\"shape\":\"\"}},\"name\":\"VERMONT \",\"offsetgroup\":\"VERMONT \",\"orientation\":\"h\",\"showlegend\":true,\"text\":[\"287\"],\"textposition\":\"auto\",\"type\":\"bar\",\"x\":[287],\"xaxis\":\"x\",\"y\":[\"VERMONT \"],\"yaxis\":\"y\"},{\"alignmentgroup\":\"True\",\"hovertemplate\":\"street name=%{y}<br>number of restaurants=%{text}<extra></extra>\",\"legendgroup\":\"SANTA MONICA \",\"marker\":{\"color\":\"#B6E880\",\"pattern\":{\"shape\":\"\"}},\"name\":\"SANTA MONICA \",\"offsetgroup\":\"SANTA MONICA \",\"orientation\":\"h\",\"showlegend\":true,\"text\":[\"264\"],\"textposition\":\"auto\",\"type\":\"bar\",\"x\":[264],\"xaxis\":\"x\",\"y\":[\"SANTA MONICA \"],\"yaxis\":\"y\"},{\"alignmentgroup\":\"True\",\"hovertemplate\":\"street name=%{y}<br>number of restaurants=%{text}<extra></extra>\",\"legendgroup\":\"3RD \",\"marker\":{\"color\":\"#FF97FF\",\"pattern\":{\"shape\":\"\"}},\"name\":\"3RD \",\"offsetgroup\":\"3RD \",\"orientation\":\"h\",\"showlegend\":true,\"text\":[\"262\"],\"textposition\":\"auto\",\"type\":\"bar\",\"x\":[262],\"xaxis\":\"x\",\"y\":[\"3RD \"],\"yaxis\":\"y\"},{\"alignmentgroup\":\"True\",\"hovertemplate\":\"street name=%{y}<br>number of restaurants=%{text}<extra></extra>\",\"legendgroup\":\"HOLLYWOOD \",\"marker\":{\"color\":\"#FECB52\",\"pattern\":{\"shape\":\"\"}},\"name\":\"HOLLYWOOD \",\"offsetgroup\":\"HOLLYWOOD \",\"orientation\":\"h\",\"showlegend\":true,\"text\":[\"253\"],\"textposition\":\"auto\",\"type\":\"bar\",\"x\":[253],\"xaxis\":\"x\",\"y\":[\"HOLLYWOOD \"],\"yaxis\":\"y\"}],                        {\"barmode\":\"relative\",\"legend\":{\"font\":{\"size\":14},\"itemwidth\":50,\"title\":{\"text\":\"street name\"},\"tracegroupgap\":0},\"template\":{\"data\":{\"bar\":[{\"error_x\":{\"color\":\"#2a3f5f\"},\"error_y\":{\"color\":\"#2a3f5f\"},\"marker\":{\"line\":{\"color\":\"#E5ECF6\",\"width\":0.5},\"pattern\":{\"fillmode\":\"overlay\",\"size\":10,\"solidity\":0.2}},\"type\":\"bar\"}],\"barpolar\":[{\"marker\":{\"line\":{\"color\":\"#E5ECF6\",\"width\":0.5},\"pattern\":{\"fillmode\":\"overlay\",\"size\":10,\"solidity\":0.2}},\"type\":\"barpolar\"}],\"carpet\":[{\"aaxis\":{\"endlinecolor\":\"#2a3f5f\",\"gridcolor\":\"white\",\"linecolor\":\"white\",\"minorgridcolor\":\"white\",\"startlinecolor\":\"#2a3f5f\"},\"baxis\":{\"endlinecolor\":\"#2a3f5f\",\"gridcolor\":\"white\",\"linecolor\":\"white\",\"minorgridcolor\":\"white\",\"startlinecolor\":\"#2a3f5f\"},\"type\":\"carpet\"}],\"choropleth\":[{\"colorbar\":{\"outlinewidth\":0,\"ticks\":\"\"},\"type\":\"choropleth\"}],\"contour\":[{\"colorbar\":{\"outlinewidth\":0,\"ticks\":\"\"},\"colorscale\":[[0.0,\"#0d0887\"],[0.1111111111111111,\"#46039f\"],[0.2222222222222222,\"#7201a8\"],[0.3333333333333333,\"#9c179e\"],[0.4444444444444444,\"#bd3786\"],[0.5555555555555556,\"#d8576b\"],[0.6666666666666666,\"#ed7953\"],[0.7777777777777778,\"#fb9f3a\"],[0.8888888888888888,\"#fdca26\"],[1.0,\"#f0f921\"]],\"type\":\"contour\"}],\"contourcarpet\":[{\"colorbar\":{\"outlinewidth\":0,\"ticks\":\"\"},\"type\":\"contourcarpet\"}],\"heatmap\":[{\"colorbar\":{\"outlinewidth\":0,\"ticks\":\"\"},\"colorscale\":[[0.0,\"#0d0887\"],[0.1111111111111111,\"#46039f\"],[0.2222222222222222,\"#7201a8\"],[0.3333333333333333,\"#9c179e\"],[0.4444444444444444,\"#bd3786\"],[0.5555555555555556,\"#d8576b\"],[0.6666666666666666,\"#ed7953\"],[0.7777777777777778,\"#fb9f3a\"],[0.8888888888888888,\"#fdca26\"],[1.0,\"#f0f921\"]],\"type\":\"heatmap\"}],\"heatmapgl\":[{\"colorbar\":{\"outlinewidth\":0,\"ticks\":\"\"},\"colorscale\":[[0.0,\"#0d0887\"],[0.1111111111111111,\"#46039f\"],[0.2222222222222222,\"#7201a8\"],[0.3333333333333333,\"#9c179e\"],[0.4444444444444444,\"#bd3786\"],[0.5555555555555556,\"#d8576b\"],[0.6666666666666666,\"#ed7953\"],[0.7777777777777778,\"#fb9f3a\"],[0.8888888888888888,\"#fdca26\"],[1.0,\"#f0f921\"]],\"type\":\"heatmapgl\"}],\"histogram\":[{\"marker\":{\"pattern\":{\"fillmode\":\"overlay\",\"size\":10,\"solidity\":0.2}},\"type\":\"histogram\"}],\"histogram2d\":[{\"colorbar\":{\"outlinewidth\":0,\"ticks\":\"\"},\"colorscale\":[[0.0,\"#0d0887\"],[0.1111111111111111,\"#46039f\"],[0.2222222222222222,\"#7201a8\"],[0.3333333333333333,\"#9c179e\"],[0.4444444444444444,\"#bd3786\"],[0.5555555555555556,\"#d8576b\"],[0.6666666666666666,\"#ed7953\"],[0.7777777777777778,\"#fb9f3a\"],[0.8888888888888888,\"#fdca26\"],[1.0,\"#f0f921\"]],\"type\":\"histogram2d\"}],\"histogram2dcontour\":[{\"colorbar\":{\"outlinewidth\":0,\"ticks\":\"\"},\"colorscale\":[[0.0,\"#0d0887\"],[0.1111111111111111,\"#46039f\"],[0.2222222222222222,\"#7201a8\"],[0.3333333333333333,\"#9c179e\"],[0.4444444444444444,\"#bd3786\"],[0.5555555555555556,\"#d8576b\"],[0.6666666666666666,\"#ed7953\"],[0.7777777777777778,\"#fb9f3a\"],[0.8888888888888888,\"#fdca26\"],[1.0,\"#f0f921\"]],\"type\":\"histogram2dcontour\"}],\"mesh3d\":[{\"colorbar\":{\"outlinewidth\":0,\"ticks\":\"\"},\"type\":\"mesh3d\"}],\"parcoords\":[{\"line\":{\"colorbar\":{\"outlinewidth\":0,\"ticks\":\"\"}},\"type\":\"parcoords\"}],\"pie\":[{\"automargin\":true,\"type\":\"pie\"}],\"scatter\":[{\"marker\":{\"colorbar\":{\"outlinewidth\":0,\"ticks\":\"\"}},\"type\":\"scatter\"}],\"scatter3d\":[{\"line\":{\"colorbar\":{\"outlinewidth\":0,\"ticks\":\"\"}},\"marker\":{\"colorbar\":{\"outlinewidth\":0,\"ticks\":\"\"}},\"type\":\"scatter3d\"}],\"scattercarpet\":[{\"marker\":{\"colorbar\":{\"outlinewidth\":0,\"ticks\":\"\"}},\"type\":\"scattercarpet\"}],\"scattergeo\":[{\"marker\":{\"colorbar\":{\"outlinewidth\":0,\"ticks\":\"\"}},\"type\":\"scattergeo\"}],\"scattergl\":[{\"marker\":{\"colorbar\":{\"outlinewidth\":0,\"ticks\":\"\"}},\"type\":\"scattergl\"}],\"scattermapbox\":[{\"marker\":{\"colorbar\":{\"outlinewidth\":0,\"ticks\":\"\"}},\"type\":\"scattermapbox\"}],\"scatterpolar\":[{\"marker\":{\"colorbar\":{\"outlinewidth\":0,\"ticks\":\"\"}},\"type\":\"scatterpolar\"}],\"scatterpolargl\":[{\"marker\":{\"colorbar\":{\"outlinewidth\":0,\"ticks\":\"\"}},\"type\":\"scatterpolargl\"}],\"scatterternary\":[{\"marker\":{\"colorbar\":{\"outlinewidth\":0,\"ticks\":\"\"}},\"type\":\"scatterternary\"}],\"surface\":[{\"colorbar\":{\"outlinewidth\":0,\"ticks\":\"\"},\"colorscale\":[[0.0,\"#0d0887\"],[0.1111111111111111,\"#46039f\"],[0.2222222222222222,\"#7201a8\"],[0.3333333333333333,\"#9c179e\"],[0.4444444444444444,\"#bd3786\"],[0.5555555555555556,\"#d8576b\"],[0.6666666666666666,\"#ed7953\"],[0.7777777777777778,\"#fb9f3a\"],[0.8888888888888888,\"#fdca26\"],[1.0,\"#f0f921\"]],\"type\":\"surface\"}],\"table\":[{\"cells\":{\"fill\":{\"color\":\"#EBF0F8\"},\"line\":{\"color\":\"white\"}},\"header\":{\"fill\":{\"color\":\"#C8D4E3\"},\"line\":{\"color\":\"white\"}},\"type\":\"table\"}]},\"layout\":{\"annotationdefaults\":{\"arrowcolor\":\"#2a3f5f\",\"arrowhead\":0,\"arrowwidth\":1},\"autotypenumbers\":\"strict\",\"coloraxis\":{\"colorbar\":{\"outlinewidth\":0,\"ticks\":\"\"}},\"colorscale\":{\"diverging\":[[0,\"#8e0152\"],[0.1,\"#c51b7d\"],[0.2,\"#de77ae\"],[0.3,\"#f1b6da\"],[0.4,\"#fde0ef\"],[0.5,\"#f7f7f7\"],[0.6,\"#e6f5d0\"],[0.7,\"#b8e186\"],[0.8,\"#7fbc41\"],[0.9,\"#4d9221\"],[1,\"#276419\"]],\"sequential\":[[0.0,\"#0d0887\"],[0.1111111111111111,\"#46039f\"],[0.2222222222222222,\"#7201a8\"],[0.3333333333333333,\"#9c179e\"],[0.4444444444444444,\"#bd3786\"],[0.5555555555555556,\"#d8576b\"],[0.6666666666666666,\"#ed7953\"],[0.7777777777777778,\"#fb9f3a\"],[0.8888888888888888,\"#fdca26\"],[1.0,\"#f0f921\"]],\"sequentialminus\":[[0.0,\"#0d0887\"],[0.1111111111111111,\"#46039f\"],[0.2222222222222222,\"#7201a8\"],[0.3333333333333333,\"#9c179e\"],[0.4444444444444444,\"#bd3786\"],[0.5555555555555556,\"#d8576b\"],[0.6666666666666666,\"#ed7953\"],[0.7777777777777778,\"#fb9f3a\"],[0.8888888888888888,\"#fdca26\"],[1.0,\"#f0f921\"]]},\"colorway\":[\"#636efa\",\"#EF553B\",\"#00cc96\",\"#ab63fa\",\"#FFA15A\",\"#19d3f3\",\"#FF6692\",\"#B6E880\",\"#FF97FF\",\"#FECB52\"],\"font\":{\"color\":\"#2a3f5f\"},\"geo\":{\"bgcolor\":\"white\",\"lakecolor\":\"white\",\"landcolor\":\"#E5ECF6\",\"showlakes\":true,\"showland\":true,\"subunitcolor\":\"white\"},\"hoverlabel\":{\"align\":\"left\"},\"hovermode\":\"closest\",\"mapbox\":{\"style\":\"light\"},\"paper_bgcolor\":\"white\",\"plot_bgcolor\":\"#E5ECF6\",\"polar\":{\"angularaxis\":{\"gridcolor\":\"white\",\"linecolor\":\"white\",\"ticks\":\"\"},\"bgcolor\":\"#E5ECF6\",\"radialaxis\":{\"gridcolor\":\"white\",\"linecolor\":\"white\",\"ticks\":\"\"}},\"scene\":{\"xaxis\":{\"backgroundcolor\":\"#E5ECF6\",\"gridcolor\":\"white\",\"gridwidth\":2,\"linecolor\":\"white\",\"showbackground\":true,\"ticks\":\"\",\"zerolinecolor\":\"white\"},\"yaxis\":{\"backgroundcolor\":\"#E5ECF6\",\"gridcolor\":\"white\",\"gridwidth\":2,\"linecolor\":\"white\",\"showbackground\":true,\"ticks\":\"\",\"zerolinecolor\":\"white\"},\"zaxis\":{\"backgroundcolor\":\"#E5ECF6\",\"gridcolor\":\"white\",\"gridwidth\":2,\"linecolor\":\"white\",\"showbackground\":true,\"ticks\":\"\",\"zerolinecolor\":\"white\"}},\"shapedefaults\":{\"line\":{\"color\":\"#2a3f5f\"}},\"ternary\":{\"aaxis\":{\"gridcolor\":\"white\",\"linecolor\":\"white\",\"ticks\":\"\"},\"baxis\":{\"gridcolor\":\"white\",\"linecolor\":\"white\",\"ticks\":\"\"},\"bgcolor\":\"#E5ECF6\",\"caxis\":{\"gridcolor\":\"white\",\"linecolor\":\"white\",\"ticks\":\"\"}},\"title\":{\"x\":0.05},\"xaxis\":{\"automargin\":true,\"gridcolor\":\"white\",\"linecolor\":\"white\",\"ticks\":\"\",\"title\":{\"standoff\":15},\"zerolinecolor\":\"white\",\"zerolinewidth\":2},\"yaxis\":{\"automargin\":true,\"gridcolor\":\"white\",\"linecolor\":\"white\",\"ticks\":\"\",\"title\":{\"standoff\":15},\"zerolinecolor\":\"white\",\"zerolinewidth\":2}}},\"title\":{\"text\":\"top ten streets by number of restaurants\"},\"xaxis\":{\"anchor\":\"y\",\"domain\":[0.0,1.0],\"title\":{\"text\":\"number of restaurants\"}},\"yaxis\":{\"anchor\":\"x\",\"categoryarray\":[\"HOLLYWOOD \",\"3RD \",\"SANTA MONICA \",\"VERMONT \",\"OLYMPIC \",\"FIGUEROA \",\"WESTERN \",\"PICO \",\"WILSHIRE \",\"SUNSET \"],\"categoryorder\":\"array\",\"domain\":[0.0,1.0],\"title\":{\"text\":\"street name\"}}},                        {\"responsive\": true}                    ).then(function(){\n",
       "                            \n",
       "var gd = document.getElementById('1430dd63-7acf-40dd-b05a-e9c26215f595');\n",
       "var x = new MutationObserver(function (mutations, observer) {{\n",
       "        var display = window.getComputedStyle(gd).display;\n",
       "        if (!display || display === 'none') {{\n",
       "            console.log([gd, 'removed!']);\n",
       "            Plotly.purge(gd);\n",
       "            observer.disconnect();\n",
       "        }}\n",
       "}});\n",
       "\n",
       "// Listen for the removal of the full notebook cells\n",
       "var notebookContainer = gd.closest('#notebook-container');\n",
       "if (notebookContainer) {{\n",
       "    x.observe(notebookContainer, {childList: true});\n",
       "}}\n",
       "\n",
       "// Listen for the clearing of the current output cell\n",
       "var outputEl = gd.closest('.output');\n",
       "if (outputEl) {{\n",
       "    x.observe(outputEl, {childList: true});\n",
       "}}\n",
       "\n",
       "                        })                };                });            </script>        </div>"
      ]
     },
     "metadata": {},
     "output_type": "display_data"
    }
   ],
   "source": [
    "street_rest_count= rest_data[~(rest_data['street']==\"no street\")].value_counts('street').reset_index()\n",
    "street_rest_count.columns = [\"street\",\"count\"]\n",
    "figure = px.bar(street_rest_count.head(10),x=\"count\",y=\"street\",\n",
    "                title=\"top ten streets by number of restaurants\",\n",
    "                labels={'street':\"street name\",'count':\"number of restaurants\"},\n",
    "                color=\"street\",\n",
    "                orientation='h',\n",
    "                text='count')\n",
    "figure.update_layout(legend_itemwidth=50,legend_font_size=14)\n",
    "figure.show()"
   ]
  },
  {
   "cell_type": "markdown",
   "id": "36ebb9c1",
   "metadata": {},
   "source": [
    "We see that Sunset blvd is the street with the largest amount of establishments."
   ]
  },
  {
   "cell_type": "markdown",
   "id": "4ce07e24",
   "metadata": {},
   "source": [
    "**Find the number of streets that only have one restaurant**"
   ]
  },
  {
   "cell_type": "code",
   "execution_count": 43,
   "id": "c55b613f",
   "metadata": {
    "ExecuteTime": {
     "end_time": "2021-12-09T16:48:05.259172Z",
     "start_time": "2021-12-09T16:48:05.237265Z"
    }
   },
   "outputs": [
    {
     "name": "stdout",
     "output_type": "stream",
     "text": [
      "The numbers of streets that has only one restaurant is: 210\n"
     ]
    }
   ],
   "source": [
    "one_rest = street_rest_count[street_rest_count['count']==1]\n",
    "print(\"The numbers of streets that has only one restaurant is:\",len(one_rest))"
   ]
  },
  {
   "cell_type": "markdown",
   "id": "d91e1f71",
   "metadata": {},
   "source": [
    "**For streets with a lot of restaurants, we check at the distribution of the number\n",
    "of seats.**"
   ]
  },
  {
   "cell_type": "markdown",
   "id": "3f854373",
   "metadata": {},
   "source": [
    "lets take the 3 main streets and analyze the number of seats with boxplots"
   ]
  },
  {
   "cell_type": "code",
   "execution_count": 44,
   "id": "20570f84",
   "metadata": {
    "ExecuteTime": {
     "end_time": "2021-12-09T16:48:08.238784Z",
     "start_time": "2021-12-09T16:48:08.121713Z"
    }
   },
   "outputs": [
    {
     "data": {
      "application/vnd.plotly.v1+json": {
       "config": {
        "plotlyServerURL": "https://plot.ly"
       },
       "data": [
        {
         "alignmentgroup": "True",
         "hovertemplate": "street=%{x}<br>number=%{y}<extra></extra>",
         "legendgroup": "",
         "marker": {
          "color": "#636efa"
         },
         "name": "",
         "notched": false,
         "offsetgroup": "",
         "orientation": "v",
         "showlegend": false,
         "type": "box",
         "x": [
          "SUNSET ",
          "SUNSET ",
          "SUNSET ",
          "WILSHIRE ",
          "WILSHIRE ",
          "SUNSET ",
          "SUNSET ",
          "SUNSET ",
          "SUNSET ",
          "SUNSET ",
          "SUNSET ",
          "PICO ",
          "SUNSET ",
          "SUNSET ",
          "SUNSET ",
          "WILSHIRE ",
          "SUNSET ",
          "SUNSET ",
          "SUNSET ",
          "SUNSET ",
          "SUNSET ",
          "SUNSET ",
          "SUNSET ",
          "SUNSET ",
          "SUNSET ",
          "SUNSET ",
          "SUNSET ",
          "WILSHIRE ",
          "SUNSET ",
          "WILSHIRE ",
          "WILSHIRE ",
          "SUNSET ",
          "SUNSET ",
          "SUNSET ",
          "SUNSET ",
          "SUNSET ",
          "PICO ",
          "WILSHIRE ",
          "WILSHIRE ",
          "SUNSET ",
          "SUNSET ",
          "WILSHIRE ",
          "WILSHIRE ",
          "WILSHIRE ",
          "WILSHIRE ",
          "WILSHIRE ",
          "SUNSET ",
          "WILSHIRE ",
          "SUNSET ",
          "SUNSET ",
          "SUNSET ",
          "WILSHIRE ",
          "WILSHIRE ",
          "PICO ",
          "PICO ",
          "SUNSET ",
          "WILSHIRE ",
          "PICO ",
          "SUNSET ",
          "WILSHIRE ",
          "WILSHIRE ",
          "WILSHIRE ",
          "SUNSET ",
          "WILSHIRE ",
          "SUNSET ",
          "WILSHIRE ",
          "WILSHIRE ",
          "SUNSET ",
          "WILSHIRE ",
          "WILSHIRE ",
          "SUNSET ",
          "WILSHIRE ",
          "SUNSET ",
          "WILSHIRE ",
          "PICO ",
          "SUNSET ",
          "WILSHIRE ",
          "WILSHIRE ",
          "WILSHIRE ",
          "SUNSET ",
          "PICO ",
          "WILSHIRE ",
          "PICO ",
          "PICO ",
          "PICO ",
          "WILSHIRE ",
          "SUNSET ",
          "WILSHIRE ",
          "SUNSET ",
          "WILSHIRE ",
          "PICO ",
          "SUNSET ",
          "SUNSET ",
          "SUNSET ",
          "PICO ",
          "SUNSET ",
          "PICO ",
          "WILSHIRE ",
          "WILSHIRE ",
          "WILSHIRE ",
          "WILSHIRE ",
          "PICO ",
          "WILSHIRE ",
          "PICO ",
          "WILSHIRE ",
          "WILSHIRE ",
          "WILSHIRE ",
          "WILSHIRE ",
          "SUNSET ",
          "PICO ",
          "SUNSET ",
          "SUNSET ",
          "SUNSET ",
          "PICO ",
          "PICO ",
          "PICO ",
          "PICO ",
          "WILSHIRE ",
          "PICO ",
          "PICO ",
          "WILSHIRE ",
          "SUNSET ",
          "WILSHIRE ",
          "PICO ",
          "WILSHIRE ",
          "PICO ",
          "PICO ",
          "WILSHIRE ",
          "PICO ",
          "WILSHIRE ",
          "PICO ",
          "PICO ",
          "WILSHIRE ",
          "WILSHIRE ",
          "WILSHIRE ",
          "WILSHIRE ",
          "PICO ",
          "WILSHIRE ",
          "WILSHIRE ",
          "SUNSET ",
          "SUNSET ",
          "SUNSET ",
          "SUNSET ",
          "SUNSET ",
          "PICO ",
          "PICO ",
          "WILSHIRE ",
          "PICO ",
          "PICO ",
          "WILSHIRE ",
          "PICO ",
          "PICO ",
          "WILSHIRE ",
          "SUNSET ",
          "PICO ",
          "PICO ",
          "SUNSET ",
          "WILSHIRE ",
          "PICO ",
          "SUNSET ",
          "WILSHIRE ",
          "WILSHIRE ",
          "WILSHIRE ",
          "PICO ",
          "WILSHIRE ",
          "PICO ",
          "PICO ",
          "SUNSET ",
          "WILSHIRE ",
          "WILSHIRE ",
          "WILSHIRE ",
          "PICO ",
          "WILSHIRE ",
          "PICO ",
          "PICO ",
          "WILSHIRE ",
          "PICO ",
          "WILSHIRE ",
          "SUNSET ",
          "PICO ",
          "PICO ",
          "PICO ",
          "WILSHIRE ",
          "PICO ",
          "SUNSET ",
          "WILSHIRE ",
          "WILSHIRE ",
          "SUNSET ",
          "SUNSET ",
          "SUNSET ",
          "PICO ",
          "WILSHIRE ",
          "PICO ",
          "WILSHIRE ",
          "WILSHIRE ",
          "SUNSET ",
          "PICO ",
          "SUNSET ",
          "WILSHIRE ",
          "PICO ",
          "SUNSET ",
          "SUNSET ",
          "SUNSET ",
          "SUNSET ",
          "SUNSET ",
          "WILSHIRE ",
          "SUNSET ",
          "SUNSET ",
          "SUNSET ",
          "WILSHIRE ",
          "PICO ",
          "WILSHIRE ",
          "PICO ",
          "PICO ",
          "WILSHIRE ",
          "WILSHIRE ",
          "PICO ",
          "PICO ",
          "PICO ",
          "WILSHIRE ",
          "WILSHIRE ",
          "WILSHIRE ",
          "WILSHIRE ",
          "PICO ",
          "PICO ",
          "WILSHIRE ",
          "PICO ",
          "WILSHIRE ",
          "WILSHIRE ",
          "PICO ",
          "PICO ",
          "PICO ",
          "PICO ",
          "SUNSET ",
          "SUNSET ",
          "PICO ",
          "SUNSET ",
          "WILSHIRE ",
          "SUNSET ",
          "WILSHIRE ",
          "WILSHIRE ",
          "WILSHIRE ",
          "SUNSET ",
          "PICO ",
          "PICO ",
          "PICO ",
          "PICO ",
          "WILSHIRE ",
          "PICO ",
          "PICO ",
          "WILSHIRE ",
          "WILSHIRE ",
          "PICO ",
          "PICO ",
          "PICO ",
          "PICO ",
          "PICO ",
          "PICO ",
          "PICO ",
          "PICO ",
          "WILSHIRE ",
          "WILSHIRE ",
          "WILSHIRE ",
          "WILSHIRE ",
          "WILSHIRE ",
          "SUNSET ",
          "PICO ",
          "WILSHIRE ",
          "WILSHIRE ",
          "WILSHIRE ",
          "WILSHIRE ",
          "PICO ",
          "PICO ",
          "PICO ",
          "PICO ",
          "WILSHIRE ",
          "WILSHIRE ",
          "PICO ",
          "WILSHIRE ",
          "WILSHIRE ",
          "SUNSET ",
          "PICO ",
          "WILSHIRE ",
          "PICO ",
          "WILSHIRE ",
          "PICO ",
          "PICO ",
          "PICO ",
          "PICO ",
          "WILSHIRE ",
          "WILSHIRE ",
          "SUNSET ",
          "WILSHIRE ",
          "WILSHIRE ",
          "WILSHIRE ",
          "PICO ",
          "WILSHIRE ",
          "WILSHIRE ",
          "SUNSET ",
          "SUNSET ",
          "PICO ",
          "SUNSET ",
          "PICO ",
          "SUNSET ",
          "WILSHIRE ",
          "SUNSET ",
          "PICO ",
          "SUNSET ",
          "PICO ",
          "PICO ",
          "PICO ",
          "PICO ",
          "PICO ",
          "PICO ",
          "PICO ",
          "PICO ",
          "WILSHIRE ",
          "WILSHIRE ",
          "SUNSET ",
          "WILSHIRE ",
          "SUNSET ",
          "WILSHIRE ",
          "SUNSET ",
          "SUNSET ",
          "PICO ",
          "SUNSET ",
          "WILSHIRE ",
          "SUNSET ",
          "SUNSET ",
          "WILSHIRE ",
          "WILSHIRE ",
          "SUNSET ",
          "SUNSET ",
          "WILSHIRE ",
          "SUNSET ",
          "WILSHIRE ",
          "SUNSET ",
          "SUNSET ",
          "SUNSET ",
          "WILSHIRE ",
          "SUNSET ",
          "SUNSET ",
          "SUNSET ",
          "SUNSET ",
          "SUNSET ",
          "WILSHIRE ",
          "SUNSET ",
          "SUNSET ",
          "SUNSET ",
          "PICO ",
          "SUNSET ",
          "PICO ",
          "SUNSET ",
          "WILSHIRE ",
          "SUNSET ",
          "SUNSET ",
          "WILSHIRE ",
          "PICO ",
          "WILSHIRE ",
          "SUNSET ",
          "PICO ",
          "WILSHIRE ",
          "SUNSET ",
          "SUNSET ",
          "WILSHIRE ",
          "SUNSET ",
          "WILSHIRE ",
          "SUNSET ",
          "SUNSET ",
          "SUNSET ",
          "WILSHIRE ",
          "SUNSET ",
          "WILSHIRE ",
          "PICO ",
          "SUNSET ",
          "SUNSET ",
          "SUNSET ",
          "WILSHIRE ",
          "WILSHIRE ",
          "PICO ",
          "WILSHIRE ",
          "WILSHIRE ",
          "WILSHIRE ",
          "WILSHIRE ",
          "WILSHIRE ",
          "WILSHIRE ",
          "SUNSET ",
          "WILSHIRE ",
          "SUNSET ",
          "WILSHIRE ",
          "WILSHIRE ",
          "WILSHIRE ",
          "SUNSET ",
          "SUNSET ",
          "SUNSET ",
          "SUNSET ",
          "WILSHIRE ",
          "WILSHIRE ",
          "PICO ",
          "SUNSET ",
          "PICO ",
          "SUNSET ",
          "SUNSET ",
          "SUNSET ",
          "WILSHIRE ",
          "SUNSET ",
          "WILSHIRE ",
          "WILSHIRE ",
          "SUNSET ",
          "WILSHIRE ",
          "WILSHIRE ",
          "SUNSET ",
          "SUNSET ",
          "WILSHIRE ",
          "PICO ",
          "SUNSET ",
          "WILSHIRE ",
          "SUNSET ",
          "SUNSET ",
          "PICO ",
          "PICO ",
          "SUNSET ",
          "WILSHIRE ",
          "SUNSET ",
          "SUNSET ",
          "SUNSET ",
          "SUNSET ",
          "SUNSET ",
          "PICO ",
          "WILSHIRE ",
          "WILSHIRE ",
          "PICO ",
          "PICO ",
          "SUNSET ",
          "WILSHIRE ",
          "PICO ",
          "PICO ",
          "SUNSET ",
          "PICO ",
          "WILSHIRE ",
          "WILSHIRE ",
          "WILSHIRE ",
          "WILSHIRE ",
          "WILSHIRE ",
          "PICO ",
          "PICO ",
          "PICO ",
          "SUNSET ",
          "SUNSET ",
          "SUNSET ",
          "SUNSET ",
          "WILSHIRE ",
          "PICO ",
          "PICO ",
          "SUNSET ",
          "PICO ",
          "PICO ",
          "PICO ",
          "SUNSET ",
          "WILSHIRE ",
          "SUNSET ",
          "SUNSET ",
          "PICO ",
          "SUNSET ",
          "SUNSET ",
          "PICO ",
          "SUNSET ",
          "SUNSET ",
          "SUNSET ",
          "PICO ",
          "SUNSET ",
          "WILSHIRE ",
          "SUNSET ",
          "SUNSET ",
          "SUNSET ",
          "SUNSET ",
          "SUNSET ",
          "SUNSET ",
          "PICO ",
          "SUNSET ",
          "SUNSET ",
          "PICO ",
          "PICO ",
          "SUNSET ",
          "SUNSET ",
          "SUNSET ",
          "SUNSET ",
          "SUNSET ",
          "SUNSET ",
          "WILSHIRE ",
          "WILSHIRE ",
          "WILSHIRE ",
          "WILSHIRE ",
          "WILSHIRE ",
          "SUNSET ",
          "WILSHIRE ",
          "SUNSET ",
          "SUNSET ",
          "SUNSET ",
          "SUNSET ",
          "SUNSET ",
          "PICO ",
          "PICO ",
          "SUNSET ",
          "PICO ",
          "PICO ",
          "PICO ",
          "WILSHIRE ",
          "SUNSET ",
          "WILSHIRE ",
          "SUNSET ",
          "SUNSET ",
          "SUNSET ",
          "WILSHIRE ",
          "PICO ",
          "SUNSET ",
          "SUNSET ",
          "PICO ",
          "PICO ",
          "WILSHIRE ",
          "PICO ",
          "SUNSET ",
          "PICO ",
          "WILSHIRE ",
          "WILSHIRE ",
          "PICO ",
          "PICO ",
          "SUNSET ",
          "PICO ",
          "WILSHIRE ",
          "PICO ",
          "SUNSET ",
          "PICO ",
          "SUNSET ",
          "SUNSET ",
          "PICO ",
          "SUNSET ",
          "SUNSET ",
          "SUNSET ",
          "SUNSET ",
          "SUNSET ",
          "SUNSET ",
          "PICO ",
          "SUNSET ",
          "PICO ",
          "SUNSET ",
          "SUNSET ",
          "SUNSET ",
          "PICO ",
          "WILSHIRE ",
          "SUNSET ",
          "SUNSET ",
          "PICO ",
          "PICO ",
          "WILSHIRE ",
          "WILSHIRE ",
          "SUNSET ",
          "PICO ",
          "WILSHIRE ",
          "WILSHIRE ",
          "WILSHIRE ",
          "PICO ",
          "WILSHIRE ",
          "PICO ",
          "SUNSET ",
          "PICO ",
          "SUNSET ",
          "WILSHIRE ",
          "SUNSET ",
          "SUNSET ",
          "SUNSET ",
          "SUNSET ",
          "SUNSET ",
          "WILSHIRE ",
          "SUNSET ",
          "PICO ",
          "PICO ",
          "SUNSET ",
          "WILSHIRE ",
          "WILSHIRE ",
          "PICO ",
          "SUNSET ",
          "PICO ",
          "PICO ",
          "PICO ",
          "SUNSET ",
          "SUNSET ",
          "PICO ",
          "PICO ",
          "SUNSET ",
          "SUNSET ",
          "SUNSET ",
          "PICO ",
          "SUNSET ",
          "WILSHIRE ",
          "SUNSET ",
          "WILSHIRE ",
          "WILSHIRE ",
          "WILSHIRE ",
          "SUNSET ",
          "WILSHIRE ",
          "WILSHIRE ",
          "WILSHIRE ",
          "SUNSET ",
          "WILSHIRE ",
          "WILSHIRE ",
          "SUNSET ",
          "WILSHIRE ",
          "WILSHIRE ",
          "WILSHIRE ",
          "WILSHIRE ",
          "WILSHIRE ",
          "PICO ",
          "PICO ",
          "PICO ",
          "WILSHIRE ",
          "WILSHIRE ",
          "WILSHIRE ",
          "WILSHIRE ",
          "PICO ",
          "WILSHIRE ",
          "WILSHIRE ",
          "SUNSET ",
          "SUNSET ",
          "WILSHIRE ",
          "WILSHIRE ",
          "SUNSET ",
          "WILSHIRE ",
          "SUNSET ",
          "WILSHIRE ",
          "SUNSET ",
          "SUNSET ",
          "WILSHIRE ",
          "PICO ",
          "PICO ",
          "SUNSET ",
          "SUNSET ",
          "PICO ",
          "SUNSET ",
          "SUNSET ",
          "PICO ",
          "SUNSET ",
          "WILSHIRE ",
          "SUNSET ",
          "SUNSET ",
          "SUNSET ",
          "SUNSET ",
          "SUNSET ",
          "SUNSET ",
          "SUNSET ",
          "SUNSET ",
          "SUNSET ",
          "WILSHIRE ",
          "SUNSET ",
          "WILSHIRE ",
          "SUNSET ",
          "PICO ",
          "PICO ",
          "WILSHIRE ",
          "WILSHIRE ",
          "WILSHIRE ",
          "WILSHIRE ",
          "PICO ",
          "SUNSET ",
          "PICO ",
          "PICO ",
          "PICO ",
          "WILSHIRE ",
          "SUNSET ",
          "SUNSET ",
          "WILSHIRE ",
          "PICO ",
          "PICO ",
          "WILSHIRE ",
          "SUNSET ",
          "SUNSET ",
          "PICO ",
          "SUNSET ",
          "PICO ",
          "SUNSET ",
          "WILSHIRE ",
          "WILSHIRE ",
          "WILSHIRE ",
          "WILSHIRE ",
          "SUNSET ",
          "WILSHIRE ",
          "SUNSET ",
          "WILSHIRE ",
          "PICO ",
          "WILSHIRE ",
          "WILSHIRE ",
          "PICO ",
          "PICO ",
          "PICO ",
          "WILSHIRE ",
          "SUNSET ",
          "PICO ",
          "PICO ",
          "PICO ",
          "WILSHIRE ",
          "WILSHIRE ",
          "PICO ",
          "WILSHIRE ",
          "WILSHIRE ",
          "PICO ",
          "SUNSET ",
          "PICO ",
          "WILSHIRE ",
          "WILSHIRE ",
          "WILSHIRE ",
          "PICO ",
          "WILSHIRE ",
          "PICO ",
          "WILSHIRE ",
          "PICO ",
          "PICO ",
          "SUNSET ",
          "PICO ",
          "PICO ",
          "PICO ",
          "PICO ",
          "PICO ",
          "SUNSET ",
          "WILSHIRE ",
          "PICO ",
          "SUNSET ",
          "PICO ",
          "WILSHIRE ",
          "WILSHIRE ",
          "WILSHIRE ",
          "WILSHIRE ",
          "WILSHIRE ",
          "PICO ",
          "SUNSET ",
          "PICO ",
          "PICO ",
          "PICO ",
          "PICO ",
          "SUNSET ",
          "PICO ",
          "WILSHIRE ",
          "SUNSET ",
          "SUNSET ",
          "PICO ",
          "WILSHIRE ",
          "PICO ",
          "SUNSET ",
          "WILSHIRE ",
          "SUNSET ",
          "SUNSET ",
          "SUNSET ",
          "PICO ",
          "WILSHIRE ",
          "PICO ",
          "WILSHIRE ",
          "SUNSET ",
          "WILSHIRE ",
          "WILSHIRE ",
          "SUNSET ",
          "PICO ",
          "PICO ",
          "PICO ",
          "SUNSET ",
          "WILSHIRE ",
          "WILSHIRE ",
          "PICO ",
          "PICO ",
          "WILSHIRE ",
          "SUNSET ",
          "WILSHIRE ",
          "WILSHIRE ",
          "WILSHIRE ",
          "PICO ",
          "WILSHIRE ",
          "SUNSET ",
          "PICO ",
          "WILSHIRE ",
          "WILSHIRE ",
          "SUNSET ",
          "PICO ",
          "PICO ",
          "PICO ",
          "SUNSET ",
          "WILSHIRE ",
          "WILSHIRE ",
          "SUNSET ",
          "SUNSET ",
          "PICO ",
          "WILSHIRE ",
          "WILSHIRE ",
          "WILSHIRE ",
          "PICO ",
          "SUNSET ",
          "PICO ",
          "PICO ",
          "SUNSET ",
          "PICO ",
          "PICO ",
          "PICO ",
          "SUNSET ",
          "SUNSET ",
          "WILSHIRE ",
          "SUNSET ",
          "PICO ",
          "PICO ",
          "PICO ",
          "WILSHIRE ",
          "SUNSET ",
          "PICO ",
          "PICO ",
          "PICO ",
          "PICO ",
          "SUNSET ",
          "PICO ",
          "PICO ",
          "SUNSET ",
          "PICO ",
          "PICO ",
          "WILSHIRE ",
          "PICO ",
          "PICO ",
          "PICO ",
          "PICO ",
          "PICO ",
          "WILSHIRE ",
          "SUNSET ",
          "WILSHIRE ",
          "WILSHIRE ",
          "PICO ",
          "SUNSET ",
          "PICO ",
          "SUNSET ",
          "SUNSET ",
          "SUNSET ",
          "WILSHIRE ",
          "WILSHIRE ",
          "SUNSET ",
          "WILSHIRE ",
          "SUNSET ",
          "SUNSET ",
          "WILSHIRE ",
          "WILSHIRE ",
          "WILSHIRE ",
          "WILSHIRE ",
          "PICO ",
          "SUNSET ",
          "WILSHIRE ",
          "WILSHIRE ",
          "WILSHIRE ",
          "WILSHIRE ",
          "WILSHIRE ",
          "WILSHIRE ",
          "PICO ",
          "WILSHIRE ",
          "PICO ",
          "SUNSET ",
          "SUNSET ",
          "SUNSET ",
          "PICO ",
          "SUNSET ",
          "PICO ",
          "WILSHIRE ",
          "WILSHIRE ",
          "PICO ",
          "PICO ",
          "PICO ",
          "PICO ",
          "SUNSET ",
          "SUNSET ",
          "SUNSET ",
          "PICO ",
          "WILSHIRE ",
          "PICO ",
          "PICO ",
          "WILSHIRE ",
          "PICO ",
          "SUNSET ",
          "WILSHIRE ",
          "PICO ",
          "SUNSET ",
          "WILSHIRE ",
          "WILSHIRE ",
          "PICO ",
          "WILSHIRE ",
          "SUNSET ",
          "WILSHIRE ",
          "SUNSET ",
          "SUNSET ",
          "PICO ",
          "PICO ",
          "PICO ",
          "WILSHIRE ",
          "PICO ",
          "SUNSET ",
          "SUNSET ",
          "PICO ",
          "PICO ",
          "PICO ",
          "WILSHIRE ",
          "SUNSET ",
          "PICO ",
          "PICO ",
          "SUNSET ",
          "WILSHIRE ",
          "PICO ",
          "PICO ",
          "PICO ",
          "SUNSET ",
          "WILSHIRE ",
          "SUNSET ",
          "SUNSET ",
          "PICO ",
          "PICO ",
          "WILSHIRE ",
          "SUNSET ",
          "PICO ",
          "SUNSET ",
          "SUNSET ",
          "PICO ",
          "SUNSET ",
          "PICO ",
          "WILSHIRE ",
          "SUNSET ",
          "WILSHIRE ",
          "WILSHIRE ",
          "SUNSET ",
          "SUNSET ",
          "SUNSET ",
          "PICO ",
          "PICO ",
          "WILSHIRE ",
          "WILSHIRE ",
          "PICO ",
          "WILSHIRE ",
          "PICO ",
          "PICO ",
          "WILSHIRE ",
          "WILSHIRE ",
          "WILSHIRE ",
          "WILSHIRE ",
          "WILSHIRE ",
          "WILSHIRE ",
          "SUNSET ",
          "SUNSET ",
          "PICO ",
          "PICO ",
          "WILSHIRE ",
          "WILSHIRE ",
          "PICO ",
          "PICO ",
          "SUNSET ",
          "PICO ",
          "SUNSET ",
          "SUNSET ",
          "PICO ",
          "WILSHIRE ",
          "PICO ",
          "PICO ",
          "PICO ",
          "PICO ",
          "PICO ",
          "SUNSET ",
          "PICO ",
          "SUNSET ",
          "SUNSET ",
          "SUNSET ",
          "PICO ",
          "WILSHIRE ",
          "SUNSET ",
          "SUNSET ",
          "PICO ",
          "PICO ",
          "PICO ",
          "WILSHIRE ",
          "SUNSET ",
          "WILSHIRE ",
          "PICO ",
          "PICO ",
          "WILSHIRE ",
          "WILSHIRE ",
          "PICO ",
          "PICO ",
          "WILSHIRE ",
          "WILSHIRE ",
          "PICO ",
          "SUNSET ",
          "PICO ",
          "PICO ",
          "PICO ",
          "WILSHIRE ",
          "PICO ",
          "PICO ",
          "WILSHIRE ",
          "WILSHIRE ",
          "SUNSET ",
          "PICO ",
          "SUNSET ",
          "PICO ",
          "PICO ",
          "PICO ",
          "PICO ",
          "WILSHIRE ",
          "PICO ",
          "PICO ",
          "WILSHIRE ",
          "SUNSET ",
          "WILSHIRE ",
          "WILSHIRE ",
          "WILSHIRE ",
          "WILSHIRE ",
          "PICO ",
          "WILSHIRE ",
          "WILSHIRE ",
          "PICO ",
          "PICO ",
          "WILSHIRE ",
          "WILSHIRE ",
          "SUNSET ",
          "PICO ",
          "WILSHIRE ",
          "WILSHIRE ",
          "WILSHIRE ",
          "WILSHIRE ",
          "SUNSET ",
          "WILSHIRE ",
          "SUNSET ",
          "WILSHIRE ",
          "WILSHIRE ",
          "PICO ",
          "WILSHIRE ",
          "WILSHIRE ",
          "SUNSET ",
          "WILSHIRE ",
          "PICO ",
          "PICO ",
          "PICO ",
          "WILSHIRE ",
          "WILSHIRE ",
          "SUNSET ",
          "PICO ",
          "WILSHIRE ",
          "PICO ",
          "SUNSET ",
          "SUNSET ",
          "SUNSET ",
          "PICO ",
          "PICO ",
          "PICO ",
          "SUNSET ",
          "PICO ",
          "SUNSET ",
          "PICO ",
          "WILSHIRE ",
          "SUNSET ",
          "PICO ",
          "SUNSET ",
          "PICO ",
          "SUNSET ",
          "WILSHIRE ",
          "PICO ",
          "WILSHIRE ",
          "WILSHIRE ",
          "SUNSET ",
          "SUNSET ",
          "SUNSET ",
          "SUNSET ",
          "SUNSET ",
          "SUNSET ",
          "WILSHIRE ",
          "SUNSET ",
          "WILSHIRE ",
          "PICO ",
          "WILSHIRE ",
          "SUNSET ",
          "SUNSET ",
          "SUNSET ",
          "SUNSET ",
          "SUNSET ",
          "WILSHIRE ",
          "SUNSET ",
          "PICO ",
          "SUNSET ",
          "PICO ",
          "SUNSET ",
          "SUNSET ",
          "WILSHIRE ",
          "PICO ",
          "PICO ",
          "PICO ",
          "WILSHIRE ",
          "WILSHIRE ",
          "PICO ",
          "SUNSET ",
          "WILSHIRE ",
          "SUNSET ",
          "SUNSET ",
          "SUNSET ",
          "SUNSET ",
          "SUNSET ",
          "SUNSET ",
          "PICO ",
          "PICO ",
          "WILSHIRE ",
          "WILSHIRE ",
          "PICO ",
          "WILSHIRE ",
          "WILSHIRE ",
          "SUNSET ",
          "PICO ",
          "WILSHIRE ",
          "WILSHIRE ",
          "WILSHIRE ",
          "WILSHIRE ",
          "WILSHIRE ",
          "PICO ",
          "SUNSET ",
          "SUNSET ",
          "WILSHIRE ",
          "SUNSET ",
          "PICO ",
          "SUNSET ",
          "SUNSET ",
          "SUNSET ",
          "SUNSET ",
          "PICO ",
          "WILSHIRE ",
          "PICO ",
          "PICO ",
          "WILSHIRE ",
          "SUNSET ",
          "WILSHIRE ",
          "PICO ",
          "WILSHIRE ",
          "SUNSET ",
          "SUNSET ",
          "WILSHIRE ",
          "WILSHIRE ",
          "SUNSET ",
          "WILSHIRE ",
          "PICO ",
          "WILSHIRE ",
          "WILSHIRE ",
          "SUNSET ",
          "WILSHIRE ",
          "SUNSET ",
          "PICO ",
          "SUNSET ",
          "WILSHIRE ",
          "WILSHIRE ",
          "SUNSET ",
          "WILSHIRE ",
          "WILSHIRE ",
          "WILSHIRE ",
          "PICO ",
          "PICO ",
          "WILSHIRE ",
          "SUNSET ",
          "WILSHIRE ",
          "SUNSET ",
          "SUNSET ",
          "WILSHIRE ",
          "PICO ",
          "PICO ",
          "PICO ",
          "PICO ",
          "SUNSET ",
          "PICO ",
          "WILSHIRE ",
          "SUNSET ",
          "SUNSET ",
          "WILSHIRE ",
          "PICO "
         ],
         "x0": " ",
         "xaxis": "x",
         "y": [
          22,
          38,
          26,
          147,
          39,
          118,
          35,
          15,
          1,
          49,
          158,
          18,
          35,
          16,
          40,
          7,
          107,
          134,
          107,
          8,
          62,
          45,
          22,
          4,
          8,
          6,
          12,
          35,
          21,
          17,
          7,
          11,
          34,
          10,
          49,
          23,
          37,
          21,
          19,
          14,
          97,
          49,
          40,
          44,
          85,
          3,
          69,
          41,
          217,
          185,
          47,
          28,
          149,
          27,
          17,
          46,
          32,
          27,
          85,
          33,
          164,
          131,
          47,
          20,
          23,
          115,
          14,
          190,
          92,
          25,
          28,
          12,
          129,
          37,
          24,
          95,
          46,
          8,
          18,
          108,
          25,
          20,
          24,
          26,
          49,
          74,
          29,
          4,
          26,
          35,
          205,
          15,
          3,
          9,
          115,
          99,
          47,
          28,
          23,
          1,
          74,
          13,
          26,
          171,
          43,
          5,
          31,
          71,
          203,
          40,
          46,
          87,
          90,
          21,
          36,
          26,
          8,
          194,
          48,
          29,
          184,
          86,
          19,
          24,
          7,
          8,
          19,
          125,
          3,
          16,
          14,
          43,
          21,
          142,
          6,
          3,
          37,
          37,
          25,
          6,
          26,
          28,
          14,
          33,
          38,
          18,
          34,
          49,
          39,
          15,
          1,
          10,
          140,
          18,
          33,
          7,
          46,
          3,
          42,
          109,
          41,
          74,
          26,
          18,
          19,
          41,
          115,
          7,
          17,
          99,
          64,
          49,
          49,
          44,
          204,
          11,
          15,
          15,
          10,
          107,
          32,
          36,
          182,
          68,
          189,
          47,
          9,
          34,
          16,
          38,
          18,
          181,
          82,
          100,
          94,
          172,
          46,
          80,
          181,
          84,
          2,
          17,
          34,
          141,
          81,
          93,
          80,
          20,
          48,
          188,
          9,
          22,
          5,
          45,
          1,
          75,
          11,
          40,
          1,
          145,
          21,
          25,
          220,
          21,
          3,
          71,
          15,
          87,
          40,
          85,
          21,
          22,
          34,
          110,
          42,
          77,
          77,
          107,
          83,
          93,
          21,
          11,
          8,
          8,
          43,
          21,
          41,
          145,
          21,
          3,
          124,
          106,
          19,
          76,
          1,
          137,
          43,
          45,
          68,
          46,
          102,
          48,
          194,
          3,
          34,
          11,
          117,
          107,
          42,
          42,
          41,
          221,
          7,
          134,
          87,
          45,
          49,
          22,
          41,
          135,
          168,
          31,
          24,
          37,
          113,
          32,
          21,
          13,
          1,
          96,
          225,
          82,
          17,
          43,
          41,
          166,
          37,
          117,
          107,
          49,
          22,
          18,
          2,
          92,
          23,
          41,
          34,
          211,
          16,
          125,
          12,
          2,
          127,
          8,
          3,
          4,
          34,
          16,
          26,
          31,
          35,
          20,
          125,
          5,
          29,
          13,
          87,
          28,
          28,
          107,
          5,
          24,
          80,
          19,
          33,
          44,
          40,
          49,
          16,
          35,
          20,
          44,
          3,
          43,
          80,
          41,
          27,
          13,
          1,
          16,
          115,
          21,
          102,
          35,
          88,
          7,
          48,
          31,
          32,
          149,
          43,
          7,
          8,
          22,
          77,
          10,
          31,
          42,
          61,
          46,
          28,
          20,
          116,
          12,
          20,
          34,
          123,
          122,
          3,
          73,
          28,
          12,
          12,
          10,
          2,
          48,
          16,
          145,
          47,
          122,
          35,
          44,
          24,
          12,
          10,
          7,
          37,
          49,
          5,
          209,
          37,
          47,
          41,
          8,
          62,
          2,
          33,
          12,
          5,
          108,
          41,
          46,
          49,
          136,
          17,
          45,
          16,
          132,
          48,
          15,
          4,
          11,
          20,
          40,
          19,
          21,
          7,
          6,
          29,
          35,
          95,
          13,
          39,
          14,
          11,
          4,
          29,
          40,
          103,
          228,
          194,
          64,
          43,
          29,
          80,
          9,
          32,
          133,
          9,
          2,
          24,
          139,
          74,
          33,
          107,
          71,
          46,
          18,
          40,
          47,
          16,
          48,
          11,
          37,
          48,
          18,
          46,
          21,
          101,
          115,
          40,
          45,
          165,
          103,
          98,
          19,
          36,
          32,
          39,
          44,
          106,
          130,
          75,
          16,
          130,
          22,
          42,
          138,
          39,
          6,
          48,
          37,
          6,
          43,
          31,
          26,
          5,
          46,
          46,
          42,
          40,
          73,
          92,
          36,
          4,
          8,
          10,
          34,
          1,
          43,
          161,
          116,
          40,
          13,
          42,
          19,
          27,
          39,
          14,
          40,
          2,
          124,
          2,
          31,
          14,
          48,
          39,
          66,
          42,
          36,
          8,
          22,
          1,
          3,
          29,
          120,
          47,
          19,
          209,
          35,
          11,
          85,
          132,
          42,
          72,
          218,
          27,
          48,
          49,
          8,
          36,
          13,
          135,
          133,
          28,
          138,
          28,
          12,
          23,
          31,
          11,
          33,
          26,
          34,
          11,
          28,
          107,
          31,
          73,
          37,
          179,
          135,
          3,
          11,
          105,
          13,
          13,
          100,
          34,
          26,
          6,
          43,
          7,
          205,
          38,
          17,
          36,
          19,
          14,
          35,
          5,
          14,
          167,
          33,
          20,
          45,
          10,
          87,
          167,
          128,
          45,
          34,
          49,
          3,
          126,
          116,
          15,
          88,
          21,
          12,
          48,
          158,
          11,
          20,
          6,
          96,
          37,
          121,
          40,
          13,
          45,
          64,
          20,
          10,
          67,
          28,
          47,
          17,
          40,
          44,
          195,
          29,
          29,
          46,
          143,
          2,
          7,
          18,
          74,
          25,
          10,
          49,
          122,
          22,
          7,
          192,
          39,
          26,
          28,
          8,
          17,
          129,
          39,
          63,
          123,
          17,
          27,
          14,
          132,
          27,
          5,
          43,
          35,
          31,
          18,
          27,
          9,
          10,
          35,
          17,
          23,
          44,
          10,
          34,
          229,
          71,
          139,
          31,
          67,
          40,
          95,
          42,
          39,
          47,
          1,
          36,
          44,
          48,
          11,
          227,
          6,
          20,
          9,
          25,
          148,
          46,
          17,
          28,
          42,
          33,
          163,
          21,
          21,
          47,
          134,
          3,
          132,
          47,
          12,
          49,
          45,
          38,
          23,
          8,
          44,
          7,
          10,
          6,
          31,
          17,
          82,
          44,
          1,
          28,
          23,
          40,
          44,
          228,
          33,
          141,
          23,
          2,
          27,
          35,
          11,
          29,
          24,
          7,
          1,
          7,
          25,
          17,
          45,
          83,
          24,
          42,
          15,
          123,
          14,
          2,
          42,
          34,
          43,
          27,
          9,
          38,
          13,
          11,
          41,
          2,
          39,
          45,
          98,
          27,
          29,
          29,
          28,
          162,
          17,
          42,
          38,
          189,
          17,
          21,
          38,
          25,
          24,
          78,
          156,
          11,
          23,
          19,
          29,
          7,
          15,
          1,
          28,
          143,
          35,
          13,
          43,
          17,
          1,
          23,
          39,
          29,
          42,
          8,
          19,
          10,
          5,
          49,
          1,
          27,
          220,
          29,
          19,
          75,
          42,
          89,
          21,
          143,
          24,
          86,
          45,
          13,
          49,
          44,
          62,
          24,
          22,
          99,
          27,
          15,
          38,
          42,
          46,
          178,
          13,
          211,
          82,
          38,
          26,
          81,
          224,
          36,
          33,
          48,
          42,
          47,
          23,
          48,
          1,
          32,
          140,
          83,
          43,
          29,
          33,
          10,
          5,
          19,
          19,
          200,
          31,
          26,
          36,
          20,
          139,
          49,
          13,
          18,
          14,
          87,
          2,
          17,
          14,
          147,
          34,
          2,
          34,
          78,
          46,
          19,
          15,
          3,
          32,
          31,
          46,
          46,
          47,
          15,
          110,
          27,
          39,
          38,
          8,
          13,
          5,
          22,
          26,
          12,
          133,
          12,
          77,
          10,
          46,
          26,
          10,
          32,
          96,
          22,
          43,
          110,
          136,
          37,
          103,
          25,
          3,
          43,
          27,
          10,
          49,
          108,
          28,
          24,
          23,
          27,
          20,
          68,
          14,
          160,
          18,
          2,
          18,
          86,
          133,
          11,
          21,
          36,
          47,
          16,
          125,
          6,
          29,
          42,
          106,
          18,
          35,
          36,
          12,
          2,
          43,
          46,
          19,
          29,
          156,
          33,
          11,
          75,
          27,
          21,
          23,
          13,
          28,
          36,
          9,
          44,
          31,
          2,
          34,
          33,
          43,
          98,
          37,
          39,
          67,
          43,
          4,
          9,
          16,
          20,
          38,
          86,
          3,
          229,
          47,
          22,
          32,
          29,
          13,
          11,
          40,
          42,
          16,
          45,
          7,
          5,
          168,
          5,
          1,
          36,
          39,
          4,
          97,
          36,
          48,
          23,
          9,
          43,
          47,
          49,
          15,
          12,
          41,
          25,
          45,
          16,
          41,
          28,
          44,
          23,
          70,
          14,
          17,
          27,
          9,
          11,
          39,
          29,
          21,
          94,
          191,
          11,
          16,
          28,
          95,
          69,
          19,
          8,
          26,
          28,
          38,
          23,
          25,
          13,
          74,
          17,
          17,
          1,
          49,
          46,
          16,
          23,
          118,
          5,
          6,
          5,
          28,
          9,
          25,
          8,
          28,
          5,
          26,
          42,
          1,
          7,
          42,
          11,
          27,
          36,
          46,
          10,
          10,
          1,
          67,
          102,
          8,
          40,
          48,
          106,
          76,
          228,
          37,
          70,
          27,
          5,
          37,
          17,
          28,
          15,
          47,
          35,
          44,
          38,
          49,
          15,
          12,
          129,
          71,
          102,
          14,
          7,
          14,
          23,
          34,
          12,
          39,
          228,
          23,
          12,
          25,
          16,
          5,
          7,
          41,
          104,
          144,
          37,
          12,
          16,
          11,
          123,
          38,
          27,
          8,
          4,
          12,
          20,
          5,
          79,
          11,
          29,
          3,
          4,
          142,
          24,
          7,
          19,
          2,
          28,
          27,
          46,
          25,
          23,
          29,
          20,
          1,
          19,
          67,
          77,
          9,
          18,
          8,
          3,
          25,
          33,
          39,
          21,
          65,
          7,
          75,
          8,
          26,
          44,
          31,
          8,
          29,
          20,
          44,
          40,
          6,
          23,
          19,
          1,
          135,
          11,
          42,
          44,
          10,
          29
         ],
         "y0": " ",
         "yaxis": "y"
        }
       ],
       "layout": {
        "boxmode": "group",
        "legend": {
         "tracegroupgap": 0
        },
        "template": {
         "data": {
          "bar": [
           {
            "error_x": {
             "color": "#2a3f5f"
            },
            "error_y": {
             "color": "#2a3f5f"
            },
            "marker": {
             "line": {
              "color": "#E5ECF6",
              "width": 0.5
             },
             "pattern": {
              "fillmode": "overlay",
              "size": 10,
              "solidity": 0.2
             }
            },
            "type": "bar"
           }
          ],
          "barpolar": [
           {
            "marker": {
             "line": {
              "color": "#E5ECF6",
              "width": 0.5
             },
             "pattern": {
              "fillmode": "overlay",
              "size": 10,
              "solidity": 0.2
             }
            },
            "type": "barpolar"
           }
          ],
          "carpet": [
           {
            "aaxis": {
             "endlinecolor": "#2a3f5f",
             "gridcolor": "white",
             "linecolor": "white",
             "minorgridcolor": "white",
             "startlinecolor": "#2a3f5f"
            },
            "baxis": {
             "endlinecolor": "#2a3f5f",
             "gridcolor": "white",
             "linecolor": "white",
             "minorgridcolor": "white",
             "startlinecolor": "#2a3f5f"
            },
            "type": "carpet"
           }
          ],
          "choropleth": [
           {
            "colorbar": {
             "outlinewidth": 0,
             "ticks": ""
            },
            "type": "choropleth"
           }
          ],
          "contour": [
           {
            "colorbar": {
             "outlinewidth": 0,
             "ticks": ""
            },
            "colorscale": [
             [
              0,
              "#0d0887"
             ],
             [
              0.1111111111111111,
              "#46039f"
             ],
             [
              0.2222222222222222,
              "#7201a8"
             ],
             [
              0.3333333333333333,
              "#9c179e"
             ],
             [
              0.4444444444444444,
              "#bd3786"
             ],
             [
              0.5555555555555556,
              "#d8576b"
             ],
             [
              0.6666666666666666,
              "#ed7953"
             ],
             [
              0.7777777777777778,
              "#fb9f3a"
             ],
             [
              0.8888888888888888,
              "#fdca26"
             ],
             [
              1,
              "#f0f921"
             ]
            ],
            "type": "contour"
           }
          ],
          "contourcarpet": [
           {
            "colorbar": {
             "outlinewidth": 0,
             "ticks": ""
            },
            "type": "contourcarpet"
           }
          ],
          "heatmap": [
           {
            "colorbar": {
             "outlinewidth": 0,
             "ticks": ""
            },
            "colorscale": [
             [
              0,
              "#0d0887"
             ],
             [
              0.1111111111111111,
              "#46039f"
             ],
             [
              0.2222222222222222,
              "#7201a8"
             ],
             [
              0.3333333333333333,
              "#9c179e"
             ],
             [
              0.4444444444444444,
              "#bd3786"
             ],
             [
              0.5555555555555556,
              "#d8576b"
             ],
             [
              0.6666666666666666,
              "#ed7953"
             ],
             [
              0.7777777777777778,
              "#fb9f3a"
             ],
             [
              0.8888888888888888,
              "#fdca26"
             ],
             [
              1,
              "#f0f921"
             ]
            ],
            "type": "heatmap"
           }
          ],
          "heatmapgl": [
           {
            "colorbar": {
             "outlinewidth": 0,
             "ticks": ""
            },
            "colorscale": [
             [
              0,
              "#0d0887"
             ],
             [
              0.1111111111111111,
              "#46039f"
             ],
             [
              0.2222222222222222,
              "#7201a8"
             ],
             [
              0.3333333333333333,
              "#9c179e"
             ],
             [
              0.4444444444444444,
              "#bd3786"
             ],
             [
              0.5555555555555556,
              "#d8576b"
             ],
             [
              0.6666666666666666,
              "#ed7953"
             ],
             [
              0.7777777777777778,
              "#fb9f3a"
             ],
             [
              0.8888888888888888,
              "#fdca26"
             ],
             [
              1,
              "#f0f921"
             ]
            ],
            "type": "heatmapgl"
           }
          ],
          "histogram": [
           {
            "marker": {
             "pattern": {
              "fillmode": "overlay",
              "size": 10,
              "solidity": 0.2
             }
            },
            "type": "histogram"
           }
          ],
          "histogram2d": [
           {
            "colorbar": {
             "outlinewidth": 0,
             "ticks": ""
            },
            "colorscale": [
             [
              0,
              "#0d0887"
             ],
             [
              0.1111111111111111,
              "#46039f"
             ],
             [
              0.2222222222222222,
              "#7201a8"
             ],
             [
              0.3333333333333333,
              "#9c179e"
             ],
             [
              0.4444444444444444,
              "#bd3786"
             ],
             [
              0.5555555555555556,
              "#d8576b"
             ],
             [
              0.6666666666666666,
              "#ed7953"
             ],
             [
              0.7777777777777778,
              "#fb9f3a"
             ],
             [
              0.8888888888888888,
              "#fdca26"
             ],
             [
              1,
              "#f0f921"
             ]
            ],
            "type": "histogram2d"
           }
          ],
          "histogram2dcontour": [
           {
            "colorbar": {
             "outlinewidth": 0,
             "ticks": ""
            },
            "colorscale": [
             [
              0,
              "#0d0887"
             ],
             [
              0.1111111111111111,
              "#46039f"
             ],
             [
              0.2222222222222222,
              "#7201a8"
             ],
             [
              0.3333333333333333,
              "#9c179e"
             ],
             [
              0.4444444444444444,
              "#bd3786"
             ],
             [
              0.5555555555555556,
              "#d8576b"
             ],
             [
              0.6666666666666666,
              "#ed7953"
             ],
             [
              0.7777777777777778,
              "#fb9f3a"
             ],
             [
              0.8888888888888888,
              "#fdca26"
             ],
             [
              1,
              "#f0f921"
             ]
            ],
            "type": "histogram2dcontour"
           }
          ],
          "mesh3d": [
           {
            "colorbar": {
             "outlinewidth": 0,
             "ticks": ""
            },
            "type": "mesh3d"
           }
          ],
          "parcoords": [
           {
            "line": {
             "colorbar": {
              "outlinewidth": 0,
              "ticks": ""
             }
            },
            "type": "parcoords"
           }
          ],
          "pie": [
           {
            "automargin": true,
            "type": "pie"
           }
          ],
          "scatter": [
           {
            "marker": {
             "colorbar": {
              "outlinewidth": 0,
              "ticks": ""
             }
            },
            "type": "scatter"
           }
          ],
          "scatter3d": [
           {
            "line": {
             "colorbar": {
              "outlinewidth": 0,
              "ticks": ""
             }
            },
            "marker": {
             "colorbar": {
              "outlinewidth": 0,
              "ticks": ""
             }
            },
            "type": "scatter3d"
           }
          ],
          "scattercarpet": [
           {
            "marker": {
             "colorbar": {
              "outlinewidth": 0,
              "ticks": ""
             }
            },
            "type": "scattercarpet"
           }
          ],
          "scattergeo": [
           {
            "marker": {
             "colorbar": {
              "outlinewidth": 0,
              "ticks": ""
             }
            },
            "type": "scattergeo"
           }
          ],
          "scattergl": [
           {
            "marker": {
             "colorbar": {
              "outlinewidth": 0,
              "ticks": ""
             }
            },
            "type": "scattergl"
           }
          ],
          "scattermapbox": [
           {
            "marker": {
             "colorbar": {
              "outlinewidth": 0,
              "ticks": ""
             }
            },
            "type": "scattermapbox"
           }
          ],
          "scatterpolar": [
           {
            "marker": {
             "colorbar": {
              "outlinewidth": 0,
              "ticks": ""
             }
            },
            "type": "scatterpolar"
           }
          ],
          "scatterpolargl": [
           {
            "marker": {
             "colorbar": {
              "outlinewidth": 0,
              "ticks": ""
             }
            },
            "type": "scatterpolargl"
           }
          ],
          "scatterternary": [
           {
            "marker": {
             "colorbar": {
              "outlinewidth": 0,
              "ticks": ""
             }
            },
            "type": "scatterternary"
           }
          ],
          "surface": [
           {
            "colorbar": {
             "outlinewidth": 0,
             "ticks": ""
            },
            "colorscale": [
             [
              0,
              "#0d0887"
             ],
             [
              0.1111111111111111,
              "#46039f"
             ],
             [
              0.2222222222222222,
              "#7201a8"
             ],
             [
              0.3333333333333333,
              "#9c179e"
             ],
             [
              0.4444444444444444,
              "#bd3786"
             ],
             [
              0.5555555555555556,
              "#d8576b"
             ],
             [
              0.6666666666666666,
              "#ed7953"
             ],
             [
              0.7777777777777778,
              "#fb9f3a"
             ],
             [
              0.8888888888888888,
              "#fdca26"
             ],
             [
              1,
              "#f0f921"
             ]
            ],
            "type": "surface"
           }
          ],
          "table": [
           {
            "cells": {
             "fill": {
              "color": "#EBF0F8"
             },
             "line": {
              "color": "white"
             }
            },
            "header": {
             "fill": {
              "color": "#C8D4E3"
             },
             "line": {
              "color": "white"
             }
            },
            "type": "table"
           }
          ]
         },
         "layout": {
          "annotationdefaults": {
           "arrowcolor": "#2a3f5f",
           "arrowhead": 0,
           "arrowwidth": 1
          },
          "autotypenumbers": "strict",
          "coloraxis": {
           "colorbar": {
            "outlinewidth": 0,
            "ticks": ""
           }
          },
          "colorscale": {
           "diverging": [
            [
             0,
             "#8e0152"
            ],
            [
             0.1,
             "#c51b7d"
            ],
            [
             0.2,
             "#de77ae"
            ],
            [
             0.3,
             "#f1b6da"
            ],
            [
             0.4,
             "#fde0ef"
            ],
            [
             0.5,
             "#f7f7f7"
            ],
            [
             0.6,
             "#e6f5d0"
            ],
            [
             0.7,
             "#b8e186"
            ],
            [
             0.8,
             "#7fbc41"
            ],
            [
             0.9,
             "#4d9221"
            ],
            [
             1,
             "#276419"
            ]
           ],
           "sequential": [
            [
             0,
             "#0d0887"
            ],
            [
             0.1111111111111111,
             "#46039f"
            ],
            [
             0.2222222222222222,
             "#7201a8"
            ],
            [
             0.3333333333333333,
             "#9c179e"
            ],
            [
             0.4444444444444444,
             "#bd3786"
            ],
            [
             0.5555555555555556,
             "#d8576b"
            ],
            [
             0.6666666666666666,
             "#ed7953"
            ],
            [
             0.7777777777777778,
             "#fb9f3a"
            ],
            [
             0.8888888888888888,
             "#fdca26"
            ],
            [
             1,
             "#f0f921"
            ]
           ],
           "sequentialminus": [
            [
             0,
             "#0d0887"
            ],
            [
             0.1111111111111111,
             "#46039f"
            ],
            [
             0.2222222222222222,
             "#7201a8"
            ],
            [
             0.3333333333333333,
             "#9c179e"
            ],
            [
             0.4444444444444444,
             "#bd3786"
            ],
            [
             0.5555555555555556,
             "#d8576b"
            ],
            [
             0.6666666666666666,
             "#ed7953"
            ],
            [
             0.7777777777777778,
             "#fb9f3a"
            ],
            [
             0.8888888888888888,
             "#fdca26"
            ],
            [
             1,
             "#f0f921"
            ]
           ]
          },
          "colorway": [
           "#636efa",
           "#EF553B",
           "#00cc96",
           "#ab63fa",
           "#FFA15A",
           "#19d3f3",
           "#FF6692",
           "#B6E880",
           "#FF97FF",
           "#FECB52"
          ],
          "font": {
           "color": "#2a3f5f"
          },
          "geo": {
           "bgcolor": "white",
           "lakecolor": "white",
           "landcolor": "#E5ECF6",
           "showlakes": true,
           "showland": true,
           "subunitcolor": "white"
          },
          "hoverlabel": {
           "align": "left"
          },
          "hovermode": "closest",
          "mapbox": {
           "style": "light"
          },
          "paper_bgcolor": "white",
          "plot_bgcolor": "#E5ECF6",
          "polar": {
           "angularaxis": {
            "gridcolor": "white",
            "linecolor": "white",
            "ticks": ""
           },
           "bgcolor": "#E5ECF6",
           "radialaxis": {
            "gridcolor": "white",
            "linecolor": "white",
            "ticks": ""
           }
          },
          "scene": {
           "xaxis": {
            "backgroundcolor": "#E5ECF6",
            "gridcolor": "white",
            "gridwidth": 2,
            "linecolor": "white",
            "showbackground": true,
            "ticks": "",
            "zerolinecolor": "white"
           },
           "yaxis": {
            "backgroundcolor": "#E5ECF6",
            "gridcolor": "white",
            "gridwidth": 2,
            "linecolor": "white",
            "showbackground": true,
            "ticks": "",
            "zerolinecolor": "white"
           },
           "zaxis": {
            "backgroundcolor": "#E5ECF6",
            "gridcolor": "white",
            "gridwidth": 2,
            "linecolor": "white",
            "showbackground": true,
            "ticks": "",
            "zerolinecolor": "white"
           }
          },
          "shapedefaults": {
           "line": {
            "color": "#2a3f5f"
           }
          },
          "ternary": {
           "aaxis": {
            "gridcolor": "white",
            "linecolor": "white",
            "ticks": ""
           },
           "baxis": {
            "gridcolor": "white",
            "linecolor": "white",
            "ticks": ""
           },
           "bgcolor": "#E5ECF6",
           "caxis": {
            "gridcolor": "white",
            "linecolor": "white",
            "ticks": ""
           }
          },
          "title": {
           "x": 0.05
          },
          "xaxis": {
           "automargin": true,
           "gridcolor": "white",
           "linecolor": "white",
           "ticks": "",
           "title": {
            "standoff": 15
           },
           "zerolinecolor": "white",
           "zerolinewidth": 2
          },
          "yaxis": {
           "automargin": true,
           "gridcolor": "white",
           "linecolor": "white",
           "ticks": "",
           "title": {
            "standoff": 15
           },
           "zerolinecolor": "white",
           "zerolinewidth": 2
          }
         }
        },
        "title": {
         "text": " distribution of the number of seats of the three top streets"
        },
        "xaxis": {
         "anchor": "y",
         "domain": [
          0,
          1
         ],
         "title": {
          "text": "street"
         }
        },
        "yaxis": {
         "anchor": "x",
         "domain": [
          0,
          1
         ],
         "title": {
          "text": "number"
         }
        }
       }
      },
      "text/html": [
       "<div>                            <div id=\"146e12a8-99df-4ab3-957f-90eab37e6a51\" class=\"plotly-graph-div\" style=\"height:525px; width:100%;\"></div>            <script type=\"text/javascript\">                require([\"plotly\"], function(Plotly) {                    window.PLOTLYENV=window.PLOTLYENV || {};                                    if (document.getElementById(\"146e12a8-99df-4ab3-957f-90eab37e6a51\")) {                    Plotly.newPlot(                        \"146e12a8-99df-4ab3-957f-90eab37e6a51\",                        [{\"alignmentgroup\":\"True\",\"hovertemplate\":\"street=%{x}<br>number=%{y}<extra></extra>\",\"legendgroup\":\"\",\"marker\":{\"color\":\"#636efa\"},\"name\":\"\",\"notched\":false,\"offsetgroup\":\"\",\"orientation\":\"v\",\"showlegend\":false,\"type\":\"box\",\"x\":[\"SUNSET \",\"SUNSET \",\"SUNSET \",\"WILSHIRE \",\"WILSHIRE \",\"SUNSET \",\"SUNSET \",\"SUNSET \",\"SUNSET \",\"SUNSET \",\"SUNSET \",\"PICO \",\"SUNSET \",\"SUNSET \",\"SUNSET \",\"WILSHIRE \",\"SUNSET \",\"SUNSET \",\"SUNSET \",\"SUNSET \",\"SUNSET \",\"SUNSET \",\"SUNSET \",\"SUNSET \",\"SUNSET \",\"SUNSET \",\"SUNSET \",\"WILSHIRE \",\"SUNSET \",\"WILSHIRE \",\"WILSHIRE \",\"SUNSET \",\"SUNSET \",\"SUNSET \",\"SUNSET \",\"SUNSET \",\"PICO \",\"WILSHIRE \",\"WILSHIRE \",\"SUNSET \",\"SUNSET \",\"WILSHIRE \",\"WILSHIRE \",\"WILSHIRE \",\"WILSHIRE \",\"WILSHIRE \",\"SUNSET \",\"WILSHIRE \",\"SUNSET \",\"SUNSET \",\"SUNSET \",\"WILSHIRE \",\"WILSHIRE \",\"PICO \",\"PICO \",\"SUNSET \",\"WILSHIRE \",\"PICO \",\"SUNSET \",\"WILSHIRE \",\"WILSHIRE \",\"WILSHIRE \",\"SUNSET \",\"WILSHIRE \",\"SUNSET \",\"WILSHIRE \",\"WILSHIRE \",\"SUNSET \",\"WILSHIRE \",\"WILSHIRE \",\"SUNSET \",\"WILSHIRE \",\"SUNSET \",\"WILSHIRE \",\"PICO \",\"SUNSET \",\"WILSHIRE \",\"WILSHIRE \",\"WILSHIRE \",\"SUNSET \",\"PICO \",\"WILSHIRE \",\"PICO \",\"PICO \",\"PICO \",\"WILSHIRE \",\"SUNSET \",\"WILSHIRE \",\"SUNSET \",\"WILSHIRE \",\"PICO \",\"SUNSET \",\"SUNSET \",\"SUNSET \",\"PICO \",\"SUNSET \",\"PICO \",\"WILSHIRE \",\"WILSHIRE \",\"WILSHIRE \",\"WILSHIRE \",\"PICO \",\"WILSHIRE \",\"PICO \",\"WILSHIRE \",\"WILSHIRE \",\"WILSHIRE \",\"WILSHIRE \",\"SUNSET \",\"PICO \",\"SUNSET \",\"SUNSET \",\"SUNSET \",\"PICO \",\"PICO \",\"PICO \",\"PICO \",\"WILSHIRE \",\"PICO \",\"PICO \",\"WILSHIRE \",\"SUNSET \",\"WILSHIRE \",\"PICO \",\"WILSHIRE \",\"PICO \",\"PICO \",\"WILSHIRE \",\"PICO \",\"WILSHIRE \",\"PICO \",\"PICO \",\"WILSHIRE \",\"WILSHIRE \",\"WILSHIRE \",\"WILSHIRE \",\"PICO \",\"WILSHIRE \",\"WILSHIRE \",\"SUNSET \",\"SUNSET \",\"SUNSET \",\"SUNSET \",\"SUNSET \",\"PICO \",\"PICO \",\"WILSHIRE \",\"PICO \",\"PICO \",\"WILSHIRE \",\"PICO \",\"PICO \",\"WILSHIRE \",\"SUNSET \",\"PICO \",\"PICO \",\"SUNSET \",\"WILSHIRE \",\"PICO \",\"SUNSET \",\"WILSHIRE \",\"WILSHIRE \",\"WILSHIRE \",\"PICO \",\"WILSHIRE \",\"PICO \",\"PICO \",\"SUNSET \",\"WILSHIRE \",\"WILSHIRE \",\"WILSHIRE \",\"PICO \",\"WILSHIRE \",\"PICO \",\"PICO \",\"WILSHIRE \",\"PICO \",\"WILSHIRE \",\"SUNSET \",\"PICO \",\"PICO \",\"PICO \",\"WILSHIRE \",\"PICO \",\"SUNSET \",\"WILSHIRE \",\"WILSHIRE \",\"SUNSET \",\"SUNSET \",\"SUNSET \",\"PICO \",\"WILSHIRE \",\"PICO \",\"WILSHIRE \",\"WILSHIRE \",\"SUNSET \",\"PICO \",\"SUNSET \",\"WILSHIRE \",\"PICO \",\"SUNSET \",\"SUNSET \",\"SUNSET \",\"SUNSET \",\"SUNSET \",\"WILSHIRE \",\"SUNSET \",\"SUNSET \",\"SUNSET \",\"WILSHIRE \",\"PICO \",\"WILSHIRE \",\"PICO \",\"PICO \",\"WILSHIRE \",\"WILSHIRE \",\"PICO \",\"PICO \",\"PICO \",\"WILSHIRE \",\"WILSHIRE \",\"WILSHIRE \",\"WILSHIRE \",\"PICO \",\"PICO \",\"WILSHIRE \",\"PICO \",\"WILSHIRE \",\"WILSHIRE \",\"PICO \",\"PICO \",\"PICO \",\"PICO \",\"SUNSET \",\"SUNSET \",\"PICO \",\"SUNSET \",\"WILSHIRE \",\"SUNSET \",\"WILSHIRE \",\"WILSHIRE \",\"WILSHIRE \",\"SUNSET \",\"PICO \",\"PICO \",\"PICO \",\"PICO \",\"WILSHIRE \",\"PICO \",\"PICO \",\"WILSHIRE \",\"WILSHIRE \",\"PICO \",\"PICO \",\"PICO \",\"PICO \",\"PICO \",\"PICO \",\"PICO \",\"PICO \",\"WILSHIRE \",\"WILSHIRE \",\"WILSHIRE \",\"WILSHIRE \",\"WILSHIRE \",\"SUNSET \",\"PICO \",\"WILSHIRE \",\"WILSHIRE \",\"WILSHIRE \",\"WILSHIRE \",\"PICO \",\"PICO \",\"PICO \",\"PICO \",\"WILSHIRE \",\"WILSHIRE \",\"PICO \",\"WILSHIRE \",\"WILSHIRE \",\"SUNSET \",\"PICO \",\"WILSHIRE \",\"PICO \",\"WILSHIRE \",\"PICO \",\"PICO \",\"PICO \",\"PICO \",\"WILSHIRE \",\"WILSHIRE \",\"SUNSET \",\"WILSHIRE \",\"WILSHIRE \",\"WILSHIRE \",\"PICO \",\"WILSHIRE \",\"WILSHIRE \",\"SUNSET \",\"SUNSET \",\"PICO \",\"SUNSET \",\"PICO \",\"SUNSET \",\"WILSHIRE \",\"SUNSET \",\"PICO \",\"SUNSET \",\"PICO \",\"PICO \",\"PICO \",\"PICO \",\"PICO \",\"PICO \",\"PICO \",\"PICO \",\"WILSHIRE \",\"WILSHIRE \",\"SUNSET \",\"WILSHIRE \",\"SUNSET \",\"WILSHIRE \",\"SUNSET \",\"SUNSET \",\"PICO \",\"SUNSET \",\"WILSHIRE \",\"SUNSET \",\"SUNSET \",\"WILSHIRE \",\"WILSHIRE \",\"SUNSET \",\"SUNSET \",\"WILSHIRE \",\"SUNSET \",\"WILSHIRE \",\"SUNSET \",\"SUNSET \",\"SUNSET \",\"WILSHIRE \",\"SUNSET \",\"SUNSET \",\"SUNSET \",\"SUNSET \",\"SUNSET \",\"WILSHIRE \",\"SUNSET \",\"SUNSET \",\"SUNSET \",\"PICO \",\"SUNSET \",\"PICO \",\"SUNSET \",\"WILSHIRE \",\"SUNSET \",\"SUNSET \",\"WILSHIRE \",\"PICO \",\"WILSHIRE \",\"SUNSET \",\"PICO \",\"WILSHIRE \",\"SUNSET \",\"SUNSET \",\"WILSHIRE \",\"SUNSET \",\"WILSHIRE \",\"SUNSET \",\"SUNSET \",\"SUNSET \",\"WILSHIRE \",\"SUNSET \",\"WILSHIRE \",\"PICO \",\"SUNSET \",\"SUNSET \",\"SUNSET \",\"WILSHIRE \",\"WILSHIRE \",\"PICO \",\"WILSHIRE \",\"WILSHIRE \",\"WILSHIRE \",\"WILSHIRE \",\"WILSHIRE \",\"WILSHIRE \",\"SUNSET \",\"WILSHIRE \",\"SUNSET \",\"WILSHIRE \",\"WILSHIRE \",\"WILSHIRE \",\"SUNSET \",\"SUNSET \",\"SUNSET \",\"SUNSET \",\"WILSHIRE \",\"WILSHIRE \",\"PICO \",\"SUNSET \",\"PICO \",\"SUNSET \",\"SUNSET \",\"SUNSET \",\"WILSHIRE \",\"SUNSET \",\"WILSHIRE \",\"WILSHIRE \",\"SUNSET \",\"WILSHIRE \",\"WILSHIRE \",\"SUNSET \",\"SUNSET \",\"WILSHIRE \",\"PICO \",\"SUNSET \",\"WILSHIRE \",\"SUNSET \",\"SUNSET \",\"PICO \",\"PICO \",\"SUNSET \",\"WILSHIRE \",\"SUNSET \",\"SUNSET \",\"SUNSET \",\"SUNSET \",\"SUNSET \",\"PICO \",\"WILSHIRE \",\"WILSHIRE \",\"PICO \",\"PICO \",\"SUNSET \",\"WILSHIRE \",\"PICO \",\"PICO \",\"SUNSET \",\"PICO \",\"WILSHIRE \",\"WILSHIRE \",\"WILSHIRE \",\"WILSHIRE \",\"WILSHIRE \",\"PICO \",\"PICO \",\"PICO \",\"SUNSET \",\"SUNSET \",\"SUNSET \",\"SUNSET \",\"WILSHIRE \",\"PICO \",\"PICO \",\"SUNSET \",\"PICO \",\"PICO \",\"PICO \",\"SUNSET \",\"WILSHIRE \",\"SUNSET \",\"SUNSET \",\"PICO \",\"SUNSET \",\"SUNSET \",\"PICO \",\"SUNSET \",\"SUNSET \",\"SUNSET \",\"PICO \",\"SUNSET \",\"WILSHIRE \",\"SUNSET \",\"SUNSET \",\"SUNSET \",\"SUNSET \",\"SUNSET \",\"SUNSET \",\"PICO \",\"SUNSET \",\"SUNSET \",\"PICO \",\"PICO \",\"SUNSET \",\"SUNSET \",\"SUNSET \",\"SUNSET \",\"SUNSET \",\"SUNSET \",\"WILSHIRE \",\"WILSHIRE \",\"WILSHIRE \",\"WILSHIRE \",\"WILSHIRE \",\"SUNSET \",\"WILSHIRE \",\"SUNSET \",\"SUNSET \",\"SUNSET \",\"SUNSET \",\"SUNSET \",\"PICO \",\"PICO \",\"SUNSET \",\"PICO \",\"PICO \",\"PICO \",\"WILSHIRE \",\"SUNSET \",\"WILSHIRE \",\"SUNSET \",\"SUNSET \",\"SUNSET \",\"WILSHIRE \",\"PICO \",\"SUNSET \",\"SUNSET \",\"PICO \",\"PICO \",\"WILSHIRE \",\"PICO \",\"SUNSET \",\"PICO \",\"WILSHIRE \",\"WILSHIRE \",\"PICO \",\"PICO \",\"SUNSET \",\"PICO \",\"WILSHIRE \",\"PICO \",\"SUNSET \",\"PICO \",\"SUNSET \",\"SUNSET \",\"PICO \",\"SUNSET \",\"SUNSET \",\"SUNSET \",\"SUNSET \",\"SUNSET \",\"SUNSET \",\"PICO \",\"SUNSET \",\"PICO \",\"SUNSET \",\"SUNSET \",\"SUNSET \",\"PICO \",\"WILSHIRE \",\"SUNSET \",\"SUNSET \",\"PICO \",\"PICO \",\"WILSHIRE \",\"WILSHIRE \",\"SUNSET \",\"PICO \",\"WILSHIRE \",\"WILSHIRE \",\"WILSHIRE \",\"PICO \",\"WILSHIRE \",\"PICO \",\"SUNSET \",\"PICO \",\"SUNSET \",\"WILSHIRE \",\"SUNSET \",\"SUNSET \",\"SUNSET \",\"SUNSET \",\"SUNSET \",\"WILSHIRE \",\"SUNSET \",\"PICO \",\"PICO \",\"SUNSET \",\"WILSHIRE \",\"WILSHIRE \",\"PICO \",\"SUNSET \",\"PICO \",\"PICO \",\"PICO \",\"SUNSET \",\"SUNSET \",\"PICO \",\"PICO \",\"SUNSET \",\"SUNSET \",\"SUNSET \",\"PICO \",\"SUNSET \",\"WILSHIRE \",\"SUNSET \",\"WILSHIRE \",\"WILSHIRE \",\"WILSHIRE \",\"SUNSET \",\"WILSHIRE \",\"WILSHIRE \",\"WILSHIRE \",\"SUNSET \",\"WILSHIRE \",\"WILSHIRE \",\"SUNSET \",\"WILSHIRE \",\"WILSHIRE \",\"WILSHIRE \",\"WILSHIRE \",\"WILSHIRE \",\"PICO \",\"PICO \",\"PICO \",\"WILSHIRE \",\"WILSHIRE \",\"WILSHIRE \",\"WILSHIRE \",\"PICO \",\"WILSHIRE \",\"WILSHIRE \",\"SUNSET \",\"SUNSET \",\"WILSHIRE \",\"WILSHIRE \",\"SUNSET \",\"WILSHIRE \",\"SUNSET \",\"WILSHIRE \",\"SUNSET \",\"SUNSET \",\"WILSHIRE \",\"PICO \",\"PICO \",\"SUNSET \",\"SUNSET \",\"PICO \",\"SUNSET \",\"SUNSET \",\"PICO \",\"SUNSET \",\"WILSHIRE \",\"SUNSET \",\"SUNSET \",\"SUNSET \",\"SUNSET \",\"SUNSET \",\"SUNSET \",\"SUNSET \",\"SUNSET \",\"SUNSET \",\"WILSHIRE \",\"SUNSET \",\"WILSHIRE \",\"SUNSET \",\"PICO \",\"PICO \",\"WILSHIRE \",\"WILSHIRE \",\"WILSHIRE \",\"WILSHIRE \",\"PICO \",\"SUNSET \",\"PICO \",\"PICO \",\"PICO \",\"WILSHIRE \",\"SUNSET \",\"SUNSET \",\"WILSHIRE \",\"PICO \",\"PICO \",\"WILSHIRE \",\"SUNSET \",\"SUNSET \",\"PICO \",\"SUNSET \",\"PICO \",\"SUNSET \",\"WILSHIRE \",\"WILSHIRE \",\"WILSHIRE \",\"WILSHIRE \",\"SUNSET \",\"WILSHIRE \",\"SUNSET \",\"WILSHIRE \",\"PICO \",\"WILSHIRE \",\"WILSHIRE \",\"PICO \",\"PICO \",\"PICO \",\"WILSHIRE \",\"SUNSET \",\"PICO \",\"PICO \",\"PICO \",\"WILSHIRE \",\"WILSHIRE \",\"PICO \",\"WILSHIRE \",\"WILSHIRE \",\"PICO \",\"SUNSET \",\"PICO \",\"WILSHIRE \",\"WILSHIRE \",\"WILSHIRE \",\"PICO \",\"WILSHIRE \",\"PICO \",\"WILSHIRE \",\"PICO \",\"PICO \",\"SUNSET \",\"PICO \",\"PICO \",\"PICO \",\"PICO \",\"PICO \",\"SUNSET \",\"WILSHIRE \",\"PICO \",\"SUNSET \",\"PICO \",\"WILSHIRE \",\"WILSHIRE \",\"WILSHIRE \",\"WILSHIRE \",\"WILSHIRE \",\"PICO \",\"SUNSET \",\"PICO \",\"PICO \",\"PICO \",\"PICO \",\"SUNSET \",\"PICO \",\"WILSHIRE \",\"SUNSET \",\"SUNSET \",\"PICO \",\"WILSHIRE \",\"PICO \",\"SUNSET \",\"WILSHIRE \",\"SUNSET \",\"SUNSET \",\"SUNSET \",\"PICO \",\"WILSHIRE \",\"PICO \",\"WILSHIRE \",\"SUNSET \",\"WILSHIRE \",\"WILSHIRE \",\"SUNSET \",\"PICO \",\"PICO \",\"PICO \",\"SUNSET \",\"WILSHIRE \",\"WILSHIRE \",\"PICO \",\"PICO \",\"WILSHIRE \",\"SUNSET \",\"WILSHIRE \",\"WILSHIRE \",\"WILSHIRE \",\"PICO \",\"WILSHIRE \",\"SUNSET \",\"PICO \",\"WILSHIRE \",\"WILSHIRE \",\"SUNSET \",\"PICO \",\"PICO \",\"PICO \",\"SUNSET \",\"WILSHIRE \",\"WILSHIRE \",\"SUNSET \",\"SUNSET \",\"PICO \",\"WILSHIRE \",\"WILSHIRE \",\"WILSHIRE \",\"PICO \",\"SUNSET \",\"PICO \",\"PICO \",\"SUNSET \",\"PICO \",\"PICO \",\"PICO \",\"SUNSET \",\"SUNSET \",\"WILSHIRE \",\"SUNSET \",\"PICO \",\"PICO \",\"PICO \",\"WILSHIRE \",\"SUNSET \",\"PICO \",\"PICO \",\"PICO \",\"PICO \",\"SUNSET \",\"PICO \",\"PICO \",\"SUNSET \",\"PICO \",\"PICO \",\"WILSHIRE \",\"PICO \",\"PICO \",\"PICO \",\"PICO \",\"PICO \",\"WILSHIRE \",\"SUNSET \",\"WILSHIRE \",\"WILSHIRE \",\"PICO \",\"SUNSET \",\"PICO \",\"SUNSET \",\"SUNSET \",\"SUNSET \",\"WILSHIRE \",\"WILSHIRE \",\"SUNSET \",\"WILSHIRE \",\"SUNSET \",\"SUNSET \",\"WILSHIRE \",\"WILSHIRE \",\"WILSHIRE \",\"WILSHIRE \",\"PICO \",\"SUNSET \",\"WILSHIRE \",\"WILSHIRE \",\"WILSHIRE \",\"WILSHIRE \",\"WILSHIRE \",\"WILSHIRE \",\"PICO \",\"WILSHIRE \",\"PICO \",\"SUNSET \",\"SUNSET \",\"SUNSET \",\"PICO \",\"SUNSET \",\"PICO \",\"WILSHIRE \",\"WILSHIRE \",\"PICO \",\"PICO \",\"PICO \",\"PICO \",\"SUNSET \",\"SUNSET \",\"SUNSET \",\"PICO \",\"WILSHIRE \",\"PICO \",\"PICO \",\"WILSHIRE \",\"PICO \",\"SUNSET \",\"WILSHIRE \",\"PICO \",\"SUNSET \",\"WILSHIRE \",\"WILSHIRE \",\"PICO \",\"WILSHIRE \",\"SUNSET \",\"WILSHIRE \",\"SUNSET \",\"SUNSET \",\"PICO \",\"PICO \",\"PICO \",\"WILSHIRE \",\"PICO \",\"SUNSET \",\"SUNSET \",\"PICO \",\"PICO \",\"PICO \",\"WILSHIRE \",\"SUNSET \",\"PICO \",\"PICO \",\"SUNSET \",\"WILSHIRE \",\"PICO \",\"PICO \",\"PICO \",\"SUNSET \",\"WILSHIRE \",\"SUNSET \",\"SUNSET \",\"PICO \",\"PICO \",\"WILSHIRE \",\"SUNSET \",\"PICO \",\"SUNSET \",\"SUNSET \",\"PICO \",\"SUNSET \",\"PICO \",\"WILSHIRE \",\"SUNSET \",\"WILSHIRE \",\"WILSHIRE \",\"SUNSET \",\"SUNSET \",\"SUNSET \",\"PICO \",\"PICO \",\"WILSHIRE \",\"WILSHIRE \",\"PICO \",\"WILSHIRE \",\"PICO \",\"PICO \",\"WILSHIRE \",\"WILSHIRE \",\"WILSHIRE \",\"WILSHIRE \",\"WILSHIRE \",\"WILSHIRE \",\"SUNSET \",\"SUNSET \",\"PICO \",\"PICO \",\"WILSHIRE \",\"WILSHIRE \",\"PICO \",\"PICO \",\"SUNSET \",\"PICO \",\"SUNSET \",\"SUNSET \",\"PICO \",\"WILSHIRE \",\"PICO \",\"PICO \",\"PICO \",\"PICO \",\"PICO \",\"SUNSET \",\"PICO \",\"SUNSET \",\"SUNSET \",\"SUNSET \",\"PICO \",\"WILSHIRE \",\"SUNSET \",\"SUNSET \",\"PICO \",\"PICO \",\"PICO \",\"WILSHIRE \",\"SUNSET \",\"WILSHIRE \",\"PICO \",\"PICO \",\"WILSHIRE \",\"WILSHIRE \",\"PICO \",\"PICO \",\"WILSHIRE \",\"WILSHIRE \",\"PICO \",\"SUNSET \",\"PICO \",\"PICO \",\"PICO \",\"WILSHIRE \",\"PICO \",\"PICO \",\"WILSHIRE \",\"WILSHIRE \",\"SUNSET \",\"PICO \",\"SUNSET \",\"PICO \",\"PICO \",\"PICO \",\"PICO \",\"WILSHIRE \",\"PICO \",\"PICO \",\"WILSHIRE \",\"SUNSET \",\"WILSHIRE \",\"WILSHIRE \",\"WILSHIRE \",\"WILSHIRE \",\"PICO \",\"WILSHIRE \",\"WILSHIRE \",\"PICO \",\"PICO \",\"WILSHIRE \",\"WILSHIRE \",\"SUNSET \",\"PICO \",\"WILSHIRE \",\"WILSHIRE \",\"WILSHIRE \",\"WILSHIRE \",\"SUNSET \",\"WILSHIRE \",\"SUNSET \",\"WILSHIRE \",\"WILSHIRE \",\"PICO \",\"WILSHIRE \",\"WILSHIRE \",\"SUNSET \",\"WILSHIRE \",\"PICO \",\"PICO \",\"PICO \",\"WILSHIRE \",\"WILSHIRE \",\"SUNSET \",\"PICO \",\"WILSHIRE \",\"PICO \",\"SUNSET \",\"SUNSET \",\"SUNSET \",\"PICO \",\"PICO \",\"PICO \",\"SUNSET \",\"PICO \",\"SUNSET \",\"PICO \",\"WILSHIRE \",\"SUNSET \",\"PICO \",\"SUNSET \",\"PICO \",\"SUNSET \",\"WILSHIRE \",\"PICO \",\"WILSHIRE \",\"WILSHIRE \",\"SUNSET \",\"SUNSET \",\"SUNSET \",\"SUNSET \",\"SUNSET \",\"SUNSET \",\"WILSHIRE \",\"SUNSET \",\"WILSHIRE \",\"PICO \",\"WILSHIRE \",\"SUNSET \",\"SUNSET \",\"SUNSET \",\"SUNSET \",\"SUNSET \",\"WILSHIRE \",\"SUNSET \",\"PICO \",\"SUNSET \",\"PICO \",\"SUNSET \",\"SUNSET \",\"WILSHIRE \",\"PICO \",\"PICO \",\"PICO \",\"WILSHIRE \",\"WILSHIRE \",\"PICO \",\"SUNSET \",\"WILSHIRE \",\"SUNSET \",\"SUNSET \",\"SUNSET \",\"SUNSET \",\"SUNSET \",\"SUNSET \",\"PICO \",\"PICO \",\"WILSHIRE \",\"WILSHIRE \",\"PICO \",\"WILSHIRE \",\"WILSHIRE \",\"SUNSET \",\"PICO \",\"WILSHIRE \",\"WILSHIRE \",\"WILSHIRE \",\"WILSHIRE \",\"WILSHIRE \",\"PICO \",\"SUNSET \",\"SUNSET \",\"WILSHIRE \",\"SUNSET \",\"PICO \",\"SUNSET \",\"SUNSET \",\"SUNSET \",\"SUNSET \",\"PICO \",\"WILSHIRE \",\"PICO \",\"PICO \",\"WILSHIRE \",\"SUNSET \",\"WILSHIRE \",\"PICO \",\"WILSHIRE \",\"SUNSET \",\"SUNSET \",\"WILSHIRE \",\"WILSHIRE \",\"SUNSET \",\"WILSHIRE \",\"PICO \",\"WILSHIRE \",\"WILSHIRE \",\"SUNSET \",\"WILSHIRE \",\"SUNSET \",\"PICO \",\"SUNSET \",\"WILSHIRE \",\"WILSHIRE \",\"SUNSET \",\"WILSHIRE \",\"WILSHIRE \",\"WILSHIRE \",\"PICO \",\"PICO \",\"WILSHIRE \",\"SUNSET \",\"WILSHIRE \",\"SUNSET \",\"SUNSET \",\"WILSHIRE \",\"PICO \",\"PICO \",\"PICO \",\"PICO \",\"SUNSET \",\"PICO \",\"WILSHIRE \",\"SUNSET \",\"SUNSET \",\"WILSHIRE \",\"PICO \"],\"x0\":\" \",\"xaxis\":\"x\",\"y\":[22,38,26,147,39,118,35,15,1,49,158,18,35,16,40,7,107,134,107,8,62,45,22,4,8,6,12,35,21,17,7,11,34,10,49,23,37,21,19,14,97,49,40,44,85,3,69,41,217,185,47,28,149,27,17,46,32,27,85,33,164,131,47,20,23,115,14,190,92,25,28,12,129,37,24,95,46,8,18,108,25,20,24,26,49,74,29,4,26,35,205,15,3,9,115,99,47,28,23,1,74,13,26,171,43,5,31,71,203,40,46,87,90,21,36,26,8,194,48,29,184,86,19,24,7,8,19,125,3,16,14,43,21,142,6,3,37,37,25,6,26,28,14,33,38,18,34,49,39,15,1,10,140,18,33,7,46,3,42,109,41,74,26,18,19,41,115,7,17,99,64,49,49,44,204,11,15,15,10,107,32,36,182,68,189,47,9,34,16,38,18,181,82,100,94,172,46,80,181,84,2,17,34,141,81,93,80,20,48,188,9,22,5,45,1,75,11,40,1,145,21,25,220,21,3,71,15,87,40,85,21,22,34,110,42,77,77,107,83,93,21,11,8,8,43,21,41,145,21,3,124,106,19,76,1,137,43,45,68,46,102,48,194,3,34,11,117,107,42,42,41,221,7,134,87,45,49,22,41,135,168,31,24,37,113,32,21,13,1,96,225,82,17,43,41,166,37,117,107,49,22,18,2,92,23,41,34,211,16,125,12,2,127,8,3,4,34,16,26,31,35,20,125,5,29,13,87,28,28,107,5,24,80,19,33,44,40,49,16,35,20,44,3,43,80,41,27,13,1,16,115,21,102,35,88,7,48,31,32,149,43,7,8,22,77,10,31,42,61,46,28,20,116,12,20,34,123,122,3,73,28,12,12,10,2,48,16,145,47,122,35,44,24,12,10,7,37,49,5,209,37,47,41,8,62,2,33,12,5,108,41,46,49,136,17,45,16,132,48,15,4,11,20,40,19,21,7,6,29,35,95,13,39,14,11,4,29,40,103,228,194,64,43,29,80,9,32,133,9,2,24,139,74,33,107,71,46,18,40,47,16,48,11,37,48,18,46,21,101,115,40,45,165,103,98,19,36,32,39,44,106,130,75,16,130,22,42,138,39,6,48,37,6,43,31,26,5,46,46,42,40,73,92,36,4,8,10,34,1,43,161,116,40,13,42,19,27,39,14,40,2,124,2,31,14,48,39,66,42,36,8,22,1,3,29,120,47,19,209,35,11,85,132,42,72,218,27,48,49,8,36,13,135,133,28,138,28,12,23,31,11,33,26,34,11,28,107,31,73,37,179,135,3,11,105,13,13,100,34,26,6,43,7,205,38,17,36,19,14,35,5,14,167,33,20,45,10,87,167,128,45,34,49,3,126,116,15,88,21,12,48,158,11,20,6,96,37,121,40,13,45,64,20,10,67,28,47,17,40,44,195,29,29,46,143,2,7,18,74,25,10,49,122,22,7,192,39,26,28,8,17,129,39,63,123,17,27,14,132,27,5,43,35,31,18,27,9,10,35,17,23,44,10,34,229,71,139,31,67,40,95,42,39,47,1,36,44,48,11,227,6,20,9,25,148,46,17,28,42,33,163,21,21,47,134,3,132,47,12,49,45,38,23,8,44,7,10,6,31,17,82,44,1,28,23,40,44,228,33,141,23,2,27,35,11,29,24,7,1,7,25,17,45,83,24,42,15,123,14,2,42,34,43,27,9,38,13,11,41,2,39,45,98,27,29,29,28,162,17,42,38,189,17,21,38,25,24,78,156,11,23,19,29,7,15,1,28,143,35,13,43,17,1,23,39,29,42,8,19,10,5,49,1,27,220,29,19,75,42,89,21,143,24,86,45,13,49,44,62,24,22,99,27,15,38,42,46,178,13,211,82,38,26,81,224,36,33,48,42,47,23,48,1,32,140,83,43,29,33,10,5,19,19,200,31,26,36,20,139,49,13,18,14,87,2,17,14,147,34,2,34,78,46,19,15,3,32,31,46,46,47,15,110,27,39,38,8,13,5,22,26,12,133,12,77,10,46,26,10,32,96,22,43,110,136,37,103,25,3,43,27,10,49,108,28,24,23,27,20,68,14,160,18,2,18,86,133,11,21,36,47,16,125,6,29,42,106,18,35,36,12,2,43,46,19,29,156,33,11,75,27,21,23,13,28,36,9,44,31,2,34,33,43,98,37,39,67,43,4,9,16,20,38,86,3,229,47,22,32,29,13,11,40,42,16,45,7,5,168,5,1,36,39,4,97,36,48,23,9,43,47,49,15,12,41,25,45,16,41,28,44,23,70,14,17,27,9,11,39,29,21,94,191,11,16,28,95,69,19,8,26,28,38,23,25,13,74,17,17,1,49,46,16,23,118,5,6,5,28,9,25,8,28,5,26,42,1,7,42,11,27,36,46,10,10,1,67,102,8,40,48,106,76,228,37,70,27,5,37,17,28,15,47,35,44,38,49,15,12,129,71,102,14,7,14,23,34,12,39,228,23,12,25,16,5,7,41,104,144,37,12,16,11,123,38,27,8,4,12,20,5,79,11,29,3,4,142,24,7,19,2,28,27,46,25,23,29,20,1,19,67,77,9,18,8,3,25,33,39,21,65,7,75,8,26,44,31,8,29,20,44,40,6,23,19,1,135,11,42,44,10,29],\"y0\":\" \",\"yaxis\":\"y\"}],                        {\"boxmode\":\"group\",\"legend\":{\"tracegroupgap\":0},\"template\":{\"data\":{\"bar\":[{\"error_x\":{\"color\":\"#2a3f5f\"},\"error_y\":{\"color\":\"#2a3f5f\"},\"marker\":{\"line\":{\"color\":\"#E5ECF6\",\"width\":0.5},\"pattern\":{\"fillmode\":\"overlay\",\"size\":10,\"solidity\":0.2}},\"type\":\"bar\"}],\"barpolar\":[{\"marker\":{\"line\":{\"color\":\"#E5ECF6\",\"width\":0.5},\"pattern\":{\"fillmode\":\"overlay\",\"size\":10,\"solidity\":0.2}},\"type\":\"barpolar\"}],\"carpet\":[{\"aaxis\":{\"endlinecolor\":\"#2a3f5f\",\"gridcolor\":\"white\",\"linecolor\":\"white\",\"minorgridcolor\":\"white\",\"startlinecolor\":\"#2a3f5f\"},\"baxis\":{\"endlinecolor\":\"#2a3f5f\",\"gridcolor\":\"white\",\"linecolor\":\"white\",\"minorgridcolor\":\"white\",\"startlinecolor\":\"#2a3f5f\"},\"type\":\"carpet\"}],\"choropleth\":[{\"colorbar\":{\"outlinewidth\":0,\"ticks\":\"\"},\"type\":\"choropleth\"}],\"contour\":[{\"colorbar\":{\"outlinewidth\":0,\"ticks\":\"\"},\"colorscale\":[[0.0,\"#0d0887\"],[0.1111111111111111,\"#46039f\"],[0.2222222222222222,\"#7201a8\"],[0.3333333333333333,\"#9c179e\"],[0.4444444444444444,\"#bd3786\"],[0.5555555555555556,\"#d8576b\"],[0.6666666666666666,\"#ed7953\"],[0.7777777777777778,\"#fb9f3a\"],[0.8888888888888888,\"#fdca26\"],[1.0,\"#f0f921\"]],\"type\":\"contour\"}],\"contourcarpet\":[{\"colorbar\":{\"outlinewidth\":0,\"ticks\":\"\"},\"type\":\"contourcarpet\"}],\"heatmap\":[{\"colorbar\":{\"outlinewidth\":0,\"ticks\":\"\"},\"colorscale\":[[0.0,\"#0d0887\"],[0.1111111111111111,\"#46039f\"],[0.2222222222222222,\"#7201a8\"],[0.3333333333333333,\"#9c179e\"],[0.4444444444444444,\"#bd3786\"],[0.5555555555555556,\"#d8576b\"],[0.6666666666666666,\"#ed7953\"],[0.7777777777777778,\"#fb9f3a\"],[0.8888888888888888,\"#fdca26\"],[1.0,\"#f0f921\"]],\"type\":\"heatmap\"}],\"heatmapgl\":[{\"colorbar\":{\"outlinewidth\":0,\"ticks\":\"\"},\"colorscale\":[[0.0,\"#0d0887\"],[0.1111111111111111,\"#46039f\"],[0.2222222222222222,\"#7201a8\"],[0.3333333333333333,\"#9c179e\"],[0.4444444444444444,\"#bd3786\"],[0.5555555555555556,\"#d8576b\"],[0.6666666666666666,\"#ed7953\"],[0.7777777777777778,\"#fb9f3a\"],[0.8888888888888888,\"#fdca26\"],[1.0,\"#f0f921\"]],\"type\":\"heatmapgl\"}],\"histogram\":[{\"marker\":{\"pattern\":{\"fillmode\":\"overlay\",\"size\":10,\"solidity\":0.2}},\"type\":\"histogram\"}],\"histogram2d\":[{\"colorbar\":{\"outlinewidth\":0,\"ticks\":\"\"},\"colorscale\":[[0.0,\"#0d0887\"],[0.1111111111111111,\"#46039f\"],[0.2222222222222222,\"#7201a8\"],[0.3333333333333333,\"#9c179e\"],[0.4444444444444444,\"#bd3786\"],[0.5555555555555556,\"#d8576b\"],[0.6666666666666666,\"#ed7953\"],[0.7777777777777778,\"#fb9f3a\"],[0.8888888888888888,\"#fdca26\"],[1.0,\"#f0f921\"]],\"type\":\"histogram2d\"}],\"histogram2dcontour\":[{\"colorbar\":{\"outlinewidth\":0,\"ticks\":\"\"},\"colorscale\":[[0.0,\"#0d0887\"],[0.1111111111111111,\"#46039f\"],[0.2222222222222222,\"#7201a8\"],[0.3333333333333333,\"#9c179e\"],[0.4444444444444444,\"#bd3786\"],[0.5555555555555556,\"#d8576b\"],[0.6666666666666666,\"#ed7953\"],[0.7777777777777778,\"#fb9f3a\"],[0.8888888888888888,\"#fdca26\"],[1.0,\"#f0f921\"]],\"type\":\"histogram2dcontour\"}],\"mesh3d\":[{\"colorbar\":{\"outlinewidth\":0,\"ticks\":\"\"},\"type\":\"mesh3d\"}],\"parcoords\":[{\"line\":{\"colorbar\":{\"outlinewidth\":0,\"ticks\":\"\"}},\"type\":\"parcoords\"}],\"pie\":[{\"automargin\":true,\"type\":\"pie\"}],\"scatter\":[{\"marker\":{\"colorbar\":{\"outlinewidth\":0,\"ticks\":\"\"}},\"type\":\"scatter\"}],\"scatter3d\":[{\"line\":{\"colorbar\":{\"outlinewidth\":0,\"ticks\":\"\"}},\"marker\":{\"colorbar\":{\"outlinewidth\":0,\"ticks\":\"\"}},\"type\":\"scatter3d\"}],\"scattercarpet\":[{\"marker\":{\"colorbar\":{\"outlinewidth\":0,\"ticks\":\"\"}},\"type\":\"scattercarpet\"}],\"scattergeo\":[{\"marker\":{\"colorbar\":{\"outlinewidth\":0,\"ticks\":\"\"}},\"type\":\"scattergeo\"}],\"scattergl\":[{\"marker\":{\"colorbar\":{\"outlinewidth\":0,\"ticks\":\"\"}},\"type\":\"scattergl\"}],\"scattermapbox\":[{\"marker\":{\"colorbar\":{\"outlinewidth\":0,\"ticks\":\"\"}},\"type\":\"scattermapbox\"}],\"scatterpolar\":[{\"marker\":{\"colorbar\":{\"outlinewidth\":0,\"ticks\":\"\"}},\"type\":\"scatterpolar\"}],\"scatterpolargl\":[{\"marker\":{\"colorbar\":{\"outlinewidth\":0,\"ticks\":\"\"}},\"type\":\"scatterpolargl\"}],\"scatterternary\":[{\"marker\":{\"colorbar\":{\"outlinewidth\":0,\"ticks\":\"\"}},\"type\":\"scatterternary\"}],\"surface\":[{\"colorbar\":{\"outlinewidth\":0,\"ticks\":\"\"},\"colorscale\":[[0.0,\"#0d0887\"],[0.1111111111111111,\"#46039f\"],[0.2222222222222222,\"#7201a8\"],[0.3333333333333333,\"#9c179e\"],[0.4444444444444444,\"#bd3786\"],[0.5555555555555556,\"#d8576b\"],[0.6666666666666666,\"#ed7953\"],[0.7777777777777778,\"#fb9f3a\"],[0.8888888888888888,\"#fdca26\"],[1.0,\"#f0f921\"]],\"type\":\"surface\"}],\"table\":[{\"cells\":{\"fill\":{\"color\":\"#EBF0F8\"},\"line\":{\"color\":\"white\"}},\"header\":{\"fill\":{\"color\":\"#C8D4E3\"},\"line\":{\"color\":\"white\"}},\"type\":\"table\"}]},\"layout\":{\"annotationdefaults\":{\"arrowcolor\":\"#2a3f5f\",\"arrowhead\":0,\"arrowwidth\":1},\"autotypenumbers\":\"strict\",\"coloraxis\":{\"colorbar\":{\"outlinewidth\":0,\"ticks\":\"\"}},\"colorscale\":{\"diverging\":[[0,\"#8e0152\"],[0.1,\"#c51b7d\"],[0.2,\"#de77ae\"],[0.3,\"#f1b6da\"],[0.4,\"#fde0ef\"],[0.5,\"#f7f7f7\"],[0.6,\"#e6f5d0\"],[0.7,\"#b8e186\"],[0.8,\"#7fbc41\"],[0.9,\"#4d9221\"],[1,\"#276419\"]],\"sequential\":[[0.0,\"#0d0887\"],[0.1111111111111111,\"#46039f\"],[0.2222222222222222,\"#7201a8\"],[0.3333333333333333,\"#9c179e\"],[0.4444444444444444,\"#bd3786\"],[0.5555555555555556,\"#d8576b\"],[0.6666666666666666,\"#ed7953\"],[0.7777777777777778,\"#fb9f3a\"],[0.8888888888888888,\"#fdca26\"],[1.0,\"#f0f921\"]],\"sequentialminus\":[[0.0,\"#0d0887\"],[0.1111111111111111,\"#46039f\"],[0.2222222222222222,\"#7201a8\"],[0.3333333333333333,\"#9c179e\"],[0.4444444444444444,\"#bd3786\"],[0.5555555555555556,\"#d8576b\"],[0.6666666666666666,\"#ed7953\"],[0.7777777777777778,\"#fb9f3a\"],[0.8888888888888888,\"#fdca26\"],[1.0,\"#f0f921\"]]},\"colorway\":[\"#636efa\",\"#EF553B\",\"#00cc96\",\"#ab63fa\",\"#FFA15A\",\"#19d3f3\",\"#FF6692\",\"#B6E880\",\"#FF97FF\",\"#FECB52\"],\"font\":{\"color\":\"#2a3f5f\"},\"geo\":{\"bgcolor\":\"white\",\"lakecolor\":\"white\",\"landcolor\":\"#E5ECF6\",\"showlakes\":true,\"showland\":true,\"subunitcolor\":\"white\"},\"hoverlabel\":{\"align\":\"left\"},\"hovermode\":\"closest\",\"mapbox\":{\"style\":\"light\"},\"paper_bgcolor\":\"white\",\"plot_bgcolor\":\"#E5ECF6\",\"polar\":{\"angularaxis\":{\"gridcolor\":\"white\",\"linecolor\":\"white\",\"ticks\":\"\"},\"bgcolor\":\"#E5ECF6\",\"radialaxis\":{\"gridcolor\":\"white\",\"linecolor\":\"white\",\"ticks\":\"\"}},\"scene\":{\"xaxis\":{\"backgroundcolor\":\"#E5ECF6\",\"gridcolor\":\"white\",\"gridwidth\":2,\"linecolor\":\"white\",\"showbackground\":true,\"ticks\":\"\",\"zerolinecolor\":\"white\"},\"yaxis\":{\"backgroundcolor\":\"#E5ECF6\",\"gridcolor\":\"white\",\"gridwidth\":2,\"linecolor\":\"white\",\"showbackground\":true,\"ticks\":\"\",\"zerolinecolor\":\"white\"},\"zaxis\":{\"backgroundcolor\":\"#E5ECF6\",\"gridcolor\":\"white\",\"gridwidth\":2,\"linecolor\":\"white\",\"showbackground\":true,\"ticks\":\"\",\"zerolinecolor\":\"white\"}},\"shapedefaults\":{\"line\":{\"color\":\"#2a3f5f\"}},\"ternary\":{\"aaxis\":{\"gridcolor\":\"white\",\"linecolor\":\"white\",\"ticks\":\"\"},\"baxis\":{\"gridcolor\":\"white\",\"linecolor\":\"white\",\"ticks\":\"\"},\"bgcolor\":\"#E5ECF6\",\"caxis\":{\"gridcolor\":\"white\",\"linecolor\":\"white\",\"ticks\":\"\"}},\"title\":{\"x\":0.05},\"xaxis\":{\"automargin\":true,\"gridcolor\":\"white\",\"linecolor\":\"white\",\"ticks\":\"\",\"title\":{\"standoff\":15},\"zerolinecolor\":\"white\",\"zerolinewidth\":2},\"yaxis\":{\"automargin\":true,\"gridcolor\":\"white\",\"linecolor\":\"white\",\"ticks\":\"\",\"title\":{\"standoff\":15},\"zerolinecolor\":\"white\",\"zerolinewidth\":2}}},\"title\":{\"text\":\" distribution of the number of seats of the three top streets\"},\"xaxis\":{\"anchor\":\"y\",\"domain\":[0.0,1.0],\"title\":{\"text\":\"street\"}},\"yaxis\":{\"anchor\":\"x\",\"domain\":[0.0,1.0],\"title\":{\"text\":\"number\"}}},                        {\"responsive\": true}                    ).then(function(){\n",
       "                            \n",
       "var gd = document.getElementById('146e12a8-99df-4ab3-957f-90eab37e6a51');\n",
       "var x = new MutationObserver(function (mutations, observer) {{\n",
       "        var display = window.getComputedStyle(gd).display;\n",
       "        if (!display || display === 'none') {{\n",
       "            console.log([gd, 'removed!']);\n",
       "            Plotly.purge(gd);\n",
       "            observer.disconnect();\n",
       "        }}\n",
       "}});\n",
       "\n",
       "// Listen for the removal of the full notebook cells\n",
       "var notebookContainer = gd.closest('#notebook-container');\n",
       "if (notebookContainer) {{\n",
       "    x.observe(notebookContainer, {childList: true});\n",
       "}}\n",
       "\n",
       "// Listen for the clearing of the current output cell\n",
       "var outputEl = gd.closest('.output');\n",
       "if (outputEl) {{\n",
       "    x.observe(outputEl, {childList: true});\n",
       "}}\n",
       "\n",
       "                        })                };                });            </script>        </div>"
      ]
     },
     "metadata": {},
     "output_type": "display_data"
    }
   ],
   "source": [
    "top_3 = rest_data[(rest_data['street'].isin(street_rest_count.head(3)[\"street\"]))]\n",
    "fig = px.box(top_3, y='number',x=\"street\",title=\" distribution of the number of seats of the three top streets\")\n",
    "fig.show()"
   ]
  },
  {
   "cell_type": "markdown",
   "id": "bc585763",
   "metadata": {},
   "source": [
    "We see that three top streets in average have around 32-34 seats - not big but not small amount of seats."
   ]
  },
  {
   "cell_type": "markdown",
   "id": "788aef33",
   "metadata": {},
   "source": [
    "### Analysis conclusions"
   ]
  },
  {
   "cell_type": "markdown",
   "id": "95d5348d",
   "metadata": {},
   "source": [
    "That's the general conclusion from our analysis:\n",
    "* Most of the establishment are resturant\n",
    "* In general most of the establishments are part of a chain - because most of the resturants and pizza's are not part of the a chain. but other type like cafe and bars are mostly part of a chain(the big amount of restaurants influence the analysis).\n",
    "* chained astablishments in average have less seats than not chained one, butv the number of seats is also influnced by the establishment type - when restaurnts and bars have in average around 30 seats and the other types around 20 seats.\n",
    "* The 3 most popular street(which have the largest number of establishments) are sunset blvd,wileshire and pico"
   ]
  },
  {
   "cell_type": "markdown",
   "id": "7ab93721",
   "metadata": {},
   "source": [
    "## More analysis for the marketing Presentation"
   ]
  },
  {
   "cell_type": "code",
   "execution_count": 46,
   "id": "b13f8a88",
   "metadata": {
    "ExecuteTime": {
     "end_time": "2021-12-09T16:48:36.861057Z",
     "start_time": "2021-12-09T16:48:36.764084Z"
    }
   },
   "outputs": [
    {
     "data": {
      "application/vnd.plotly.v1+json": {
       "config": {
        "plotlyServerURL": "https://plot.ly"
       },
       "data": [
        {
         "alignmentgroup": "True",
         "hovertemplate": "street name=%{y}<br>number of restaurants=%{text}<extra></extra>",
         "legendgroup": "FLORENCE ",
         "marker": {
          "color": "#636efa",
          "pattern": {
           "shape": ""
          }
         },
         "name": "FLORENCE ",
         "offsetgroup": "FLORENCE ",
         "orientation": "h",
         "showlegend": true,
         "text": [
          "87"
         ],
         "textposition": "auto",
         "type": "bar",
         "x": [
          87
         ],
         "xaxis": "x",
         "y": [
          "FLORENCE "
         ],
         "yaxis": "y"
        },
        {
         "alignmentgroup": "True",
         "hovertemplate": "street name=%{y}<br>number of restaurants=%{text}<extra></extra>",
         "legendgroup": "SAN PEDRO ",
         "marker": {
          "color": "#EF553B",
          "pattern": {
           "shape": ""
          }
         },
         "name": "SAN PEDRO ",
         "offsetgroup": "SAN PEDRO ",
         "orientation": "h",
         "showlegend": true,
         "text": [
          "77"
         ],
         "textposition": "auto",
         "type": "bar",
         "x": [
          77
         ],
         "xaxis": "x",
         "y": [
          "SAN PEDRO "
         ],
         "yaxis": "y"
        },
        {
         "alignmentgroup": "True",
         "hovertemplate": "street name=%{y}<br>number of restaurants=%{text}<extra></extra>",
         "legendgroup": "MANCHESTER ",
         "marker": {
          "color": "#00cc96",
          "pattern": {
           "shape": ""
          }
         },
         "name": "MANCHESTER ",
         "offsetgroup": "MANCHESTER ",
         "orientation": "h",
         "showlegend": true,
         "text": [
          "76"
         ],
         "textposition": "auto",
         "type": "bar",
         "x": [
          76
         ],
         "xaxis": "x",
         "y": [
          "MANCHESTER "
         ],
         "yaxis": "y"
        },
        {
         "alignmentgroup": "True",
         "hovertemplate": "street name=%{y}<br>number of restaurants=%{text}<extra></extra>",
         "legendgroup": "AVALON ",
         "marker": {
          "color": "#ab63fa",
          "pattern": {
           "shape": ""
          }
         },
         "name": "AVALON ",
         "offsetgroup": "AVALON ",
         "orientation": "h",
         "showlegend": true,
         "text": [
          "58"
         ],
         "textposition": "auto",
         "type": "bar",
         "x": [
          58
         ],
         "xaxis": "x",
         "y": [
          "AVALON "
         ],
         "yaxis": "y"
        },
        {
         "alignmentgroup": "True",
         "hovertemplate": "street name=%{y}<br>number of restaurants=%{text}<extra></extra>",
         "legendgroup": "SOTO ",
         "marker": {
          "color": "#FFA15A",
          "pattern": {
           "shape": ""
          }
         },
         "name": "SOTO ",
         "offsetgroup": "SOTO ",
         "orientation": "h",
         "showlegend": true,
         "text": [
          "36"
         ],
         "textposition": "auto",
         "type": "bar",
         "x": [
          36
         ],
         "xaxis": "x",
         "y": [
          "SOTO "
         ],
         "yaxis": "y"
        },
        {
         "alignmentgroup": "True",
         "hovertemplate": "street name=%{y}<br>number of restaurants=%{text}<extra></extra>",
         "legendgroup": "VERNON ",
         "marker": {
          "color": "#19d3f3",
          "pattern": {
           "shape": ""
          }
         },
         "name": "VERNON ",
         "offsetgroup": "VERNON ",
         "orientation": "h",
         "showlegend": true,
         "text": [
          "34"
         ],
         "textposition": "auto",
         "type": "bar",
         "x": [
          34
         ],
         "xaxis": "x",
         "y": [
          "VERNON "
         ],
         "yaxis": "y"
        },
        {
         "alignmentgroup": "True",
         "hovertemplate": "street name=%{y}<br>number of restaurants=%{text}<extra></extra>",
         "legendgroup": "HUNTINGTON ",
         "marker": {
          "color": "#FF6692",
          "pattern": {
           "shape": ""
          }
         },
         "name": "HUNTINGTON ",
         "offsetgroup": "HUNTINGTON ",
         "orientation": "h",
         "showlegend": true,
         "text": [
          "32"
         ],
         "textposition": "auto",
         "type": "bar",
         "x": [
          32
         ],
         "xaxis": "x",
         "y": [
          "HUNTINGTON "
         ],
         "yaxis": "y"
        },
        {
         "alignmentgroup": "True",
         "hovertemplate": "street name=%{y}<br>number of restaurants=%{text}<extra></extra>",
         "legendgroup": "SAN FERNANDO ",
         "marker": {
          "color": "#B6E880",
          "pattern": {
           "shape": ""
          }
         },
         "name": "SAN FERNANDO ",
         "offsetgroup": "SAN FERNANDO ",
         "orientation": "h",
         "showlegend": true,
         "text": [
          "30"
         ],
         "textposition": "auto",
         "type": "bar",
         "x": [
          30
         ],
         "xaxis": "x",
         "y": [
          "SAN FERNANDO "
         ],
         "yaxis": "y"
        },
        {
         "alignmentgroup": "True",
         "hovertemplate": "street name=%{y}<br>number of restaurants=%{text}<extra></extra>",
         "legendgroup": "ATLANTIC ",
         "marker": {
          "color": "#FF97FF",
          "pattern": {
           "shape": ""
          }
         },
         "name": "ATLANTIC ",
         "offsetgroup": "ATLANTIC ",
         "orientation": "h",
         "showlegend": true,
         "text": [
          "30"
         ],
         "textposition": "auto",
         "type": "bar",
         "x": [
          30
         ],
         "xaxis": "x",
         "y": [
          "ATLANTIC "
         ],
         "yaxis": "y"
        },
        {
         "alignmentgroup": "True",
         "hovertemplate": "street name=%{y}<br>number of restaurants=%{text}<extra></extra>",
         "legendgroup": "TEMPLE ",
         "marker": {
          "color": "#FECB52",
          "pattern": {
           "shape": ""
          }
         },
         "name": "TEMPLE ",
         "offsetgroup": "TEMPLE ",
         "orientation": "h",
         "showlegend": true,
         "text": [
          "27"
         ],
         "textposition": "auto",
         "type": "bar",
         "x": [
          27
         ],
         "xaxis": "x",
         "y": [
          "TEMPLE "
         ],
         "yaxis": "y"
        }
       ],
       "layout": {
        "barmode": "relative",
        "legend": {
         "font": {
          "size": 14
         },
         "itemwidth": 50,
         "title": {
          "text": "street name"
         },
         "tracegroupgap": 0
        },
        "template": {
         "data": {
          "bar": [
           {
            "error_x": {
             "color": "#2a3f5f"
            },
            "error_y": {
             "color": "#2a3f5f"
            },
            "marker": {
             "line": {
              "color": "#E5ECF6",
              "width": 0.5
             },
             "pattern": {
              "fillmode": "overlay",
              "size": 10,
              "solidity": 0.2
             }
            },
            "type": "bar"
           }
          ],
          "barpolar": [
           {
            "marker": {
             "line": {
              "color": "#E5ECF6",
              "width": 0.5
             },
             "pattern": {
              "fillmode": "overlay",
              "size": 10,
              "solidity": 0.2
             }
            },
            "type": "barpolar"
           }
          ],
          "carpet": [
           {
            "aaxis": {
             "endlinecolor": "#2a3f5f",
             "gridcolor": "white",
             "linecolor": "white",
             "minorgridcolor": "white",
             "startlinecolor": "#2a3f5f"
            },
            "baxis": {
             "endlinecolor": "#2a3f5f",
             "gridcolor": "white",
             "linecolor": "white",
             "minorgridcolor": "white",
             "startlinecolor": "#2a3f5f"
            },
            "type": "carpet"
           }
          ],
          "choropleth": [
           {
            "colorbar": {
             "outlinewidth": 0,
             "ticks": ""
            },
            "type": "choropleth"
           }
          ],
          "contour": [
           {
            "colorbar": {
             "outlinewidth": 0,
             "ticks": ""
            },
            "colorscale": [
             [
              0,
              "#0d0887"
             ],
             [
              0.1111111111111111,
              "#46039f"
             ],
             [
              0.2222222222222222,
              "#7201a8"
             ],
             [
              0.3333333333333333,
              "#9c179e"
             ],
             [
              0.4444444444444444,
              "#bd3786"
             ],
             [
              0.5555555555555556,
              "#d8576b"
             ],
             [
              0.6666666666666666,
              "#ed7953"
             ],
             [
              0.7777777777777778,
              "#fb9f3a"
             ],
             [
              0.8888888888888888,
              "#fdca26"
             ],
             [
              1,
              "#f0f921"
             ]
            ],
            "type": "contour"
           }
          ],
          "contourcarpet": [
           {
            "colorbar": {
             "outlinewidth": 0,
             "ticks": ""
            },
            "type": "contourcarpet"
           }
          ],
          "heatmap": [
           {
            "colorbar": {
             "outlinewidth": 0,
             "ticks": ""
            },
            "colorscale": [
             [
              0,
              "#0d0887"
             ],
             [
              0.1111111111111111,
              "#46039f"
             ],
             [
              0.2222222222222222,
              "#7201a8"
             ],
             [
              0.3333333333333333,
              "#9c179e"
             ],
             [
              0.4444444444444444,
              "#bd3786"
             ],
             [
              0.5555555555555556,
              "#d8576b"
             ],
             [
              0.6666666666666666,
              "#ed7953"
             ],
             [
              0.7777777777777778,
              "#fb9f3a"
             ],
             [
              0.8888888888888888,
              "#fdca26"
             ],
             [
              1,
              "#f0f921"
             ]
            ],
            "type": "heatmap"
           }
          ],
          "heatmapgl": [
           {
            "colorbar": {
             "outlinewidth": 0,
             "ticks": ""
            },
            "colorscale": [
             [
              0,
              "#0d0887"
             ],
             [
              0.1111111111111111,
              "#46039f"
             ],
             [
              0.2222222222222222,
              "#7201a8"
             ],
             [
              0.3333333333333333,
              "#9c179e"
             ],
             [
              0.4444444444444444,
              "#bd3786"
             ],
             [
              0.5555555555555556,
              "#d8576b"
             ],
             [
              0.6666666666666666,
              "#ed7953"
             ],
             [
              0.7777777777777778,
              "#fb9f3a"
             ],
             [
              0.8888888888888888,
              "#fdca26"
             ],
             [
              1,
              "#f0f921"
             ]
            ],
            "type": "heatmapgl"
           }
          ],
          "histogram": [
           {
            "marker": {
             "pattern": {
              "fillmode": "overlay",
              "size": 10,
              "solidity": 0.2
             }
            },
            "type": "histogram"
           }
          ],
          "histogram2d": [
           {
            "colorbar": {
             "outlinewidth": 0,
             "ticks": ""
            },
            "colorscale": [
             [
              0,
              "#0d0887"
             ],
             [
              0.1111111111111111,
              "#46039f"
             ],
             [
              0.2222222222222222,
              "#7201a8"
             ],
             [
              0.3333333333333333,
              "#9c179e"
             ],
             [
              0.4444444444444444,
              "#bd3786"
             ],
             [
              0.5555555555555556,
              "#d8576b"
             ],
             [
              0.6666666666666666,
              "#ed7953"
             ],
             [
              0.7777777777777778,
              "#fb9f3a"
             ],
             [
              0.8888888888888888,
              "#fdca26"
             ],
             [
              1,
              "#f0f921"
             ]
            ],
            "type": "histogram2d"
           }
          ],
          "histogram2dcontour": [
           {
            "colorbar": {
             "outlinewidth": 0,
             "ticks": ""
            },
            "colorscale": [
             [
              0,
              "#0d0887"
             ],
             [
              0.1111111111111111,
              "#46039f"
             ],
             [
              0.2222222222222222,
              "#7201a8"
             ],
             [
              0.3333333333333333,
              "#9c179e"
             ],
             [
              0.4444444444444444,
              "#bd3786"
             ],
             [
              0.5555555555555556,
              "#d8576b"
             ],
             [
              0.6666666666666666,
              "#ed7953"
             ],
             [
              0.7777777777777778,
              "#fb9f3a"
             ],
             [
              0.8888888888888888,
              "#fdca26"
             ],
             [
              1,
              "#f0f921"
             ]
            ],
            "type": "histogram2dcontour"
           }
          ],
          "mesh3d": [
           {
            "colorbar": {
             "outlinewidth": 0,
             "ticks": ""
            },
            "type": "mesh3d"
           }
          ],
          "parcoords": [
           {
            "line": {
             "colorbar": {
              "outlinewidth": 0,
              "ticks": ""
             }
            },
            "type": "parcoords"
           }
          ],
          "pie": [
           {
            "automargin": true,
            "type": "pie"
           }
          ],
          "scatter": [
           {
            "marker": {
             "colorbar": {
              "outlinewidth": 0,
              "ticks": ""
             }
            },
            "type": "scatter"
           }
          ],
          "scatter3d": [
           {
            "line": {
             "colorbar": {
              "outlinewidth": 0,
              "ticks": ""
             }
            },
            "marker": {
             "colorbar": {
              "outlinewidth": 0,
              "ticks": ""
             }
            },
            "type": "scatter3d"
           }
          ],
          "scattercarpet": [
           {
            "marker": {
             "colorbar": {
              "outlinewidth": 0,
              "ticks": ""
             }
            },
            "type": "scattercarpet"
           }
          ],
          "scattergeo": [
           {
            "marker": {
             "colorbar": {
              "outlinewidth": 0,
              "ticks": ""
             }
            },
            "type": "scattergeo"
           }
          ],
          "scattergl": [
           {
            "marker": {
             "colorbar": {
              "outlinewidth": 0,
              "ticks": ""
             }
            },
            "type": "scattergl"
           }
          ],
          "scattermapbox": [
           {
            "marker": {
             "colorbar": {
              "outlinewidth": 0,
              "ticks": ""
             }
            },
            "type": "scattermapbox"
           }
          ],
          "scatterpolar": [
           {
            "marker": {
             "colorbar": {
              "outlinewidth": 0,
              "ticks": ""
             }
            },
            "type": "scatterpolar"
           }
          ],
          "scatterpolargl": [
           {
            "marker": {
             "colorbar": {
              "outlinewidth": 0,
              "ticks": ""
             }
            },
            "type": "scatterpolargl"
           }
          ],
          "scatterternary": [
           {
            "marker": {
             "colorbar": {
              "outlinewidth": 0,
              "ticks": ""
             }
            },
            "type": "scatterternary"
           }
          ],
          "surface": [
           {
            "colorbar": {
             "outlinewidth": 0,
             "ticks": ""
            },
            "colorscale": [
             [
              0,
              "#0d0887"
             ],
             [
              0.1111111111111111,
              "#46039f"
             ],
             [
              0.2222222222222222,
              "#7201a8"
             ],
             [
              0.3333333333333333,
              "#9c179e"
             ],
             [
              0.4444444444444444,
              "#bd3786"
             ],
             [
              0.5555555555555556,
              "#d8576b"
             ],
             [
              0.6666666666666666,
              "#ed7953"
             ],
             [
              0.7777777777777778,
              "#fb9f3a"
             ],
             [
              0.8888888888888888,
              "#fdca26"
             ],
             [
              1,
              "#f0f921"
             ]
            ],
            "type": "surface"
           }
          ],
          "table": [
           {
            "cells": {
             "fill": {
              "color": "#EBF0F8"
             },
             "line": {
              "color": "white"
             }
            },
            "header": {
             "fill": {
              "color": "#C8D4E3"
             },
             "line": {
              "color": "white"
             }
            },
            "type": "table"
           }
          ]
         },
         "layout": {
          "annotationdefaults": {
           "arrowcolor": "#2a3f5f",
           "arrowhead": 0,
           "arrowwidth": 1
          },
          "autotypenumbers": "strict",
          "coloraxis": {
           "colorbar": {
            "outlinewidth": 0,
            "ticks": ""
           }
          },
          "colorscale": {
           "diverging": [
            [
             0,
             "#8e0152"
            ],
            [
             0.1,
             "#c51b7d"
            ],
            [
             0.2,
             "#de77ae"
            ],
            [
             0.3,
             "#f1b6da"
            ],
            [
             0.4,
             "#fde0ef"
            ],
            [
             0.5,
             "#f7f7f7"
            ],
            [
             0.6,
             "#e6f5d0"
            ],
            [
             0.7,
             "#b8e186"
            ],
            [
             0.8,
             "#7fbc41"
            ],
            [
             0.9,
             "#4d9221"
            ],
            [
             1,
             "#276419"
            ]
           ],
           "sequential": [
            [
             0,
             "#0d0887"
            ],
            [
             0.1111111111111111,
             "#46039f"
            ],
            [
             0.2222222222222222,
             "#7201a8"
            ],
            [
             0.3333333333333333,
             "#9c179e"
            ],
            [
             0.4444444444444444,
             "#bd3786"
            ],
            [
             0.5555555555555556,
             "#d8576b"
            ],
            [
             0.6666666666666666,
             "#ed7953"
            ],
            [
             0.7777777777777778,
             "#fb9f3a"
            ],
            [
             0.8888888888888888,
             "#fdca26"
            ],
            [
             1,
             "#f0f921"
            ]
           ],
           "sequentialminus": [
            [
             0,
             "#0d0887"
            ],
            [
             0.1111111111111111,
             "#46039f"
            ],
            [
             0.2222222222222222,
             "#7201a8"
            ],
            [
             0.3333333333333333,
             "#9c179e"
            ],
            [
             0.4444444444444444,
             "#bd3786"
            ],
            [
             0.5555555555555556,
             "#d8576b"
            ],
            [
             0.6666666666666666,
             "#ed7953"
            ],
            [
             0.7777777777777778,
             "#fb9f3a"
            ],
            [
             0.8888888888888888,
             "#fdca26"
            ],
            [
             1,
             "#f0f921"
            ]
           ]
          },
          "colorway": [
           "#636efa",
           "#EF553B",
           "#00cc96",
           "#ab63fa",
           "#FFA15A",
           "#19d3f3",
           "#FF6692",
           "#B6E880",
           "#FF97FF",
           "#FECB52"
          ],
          "font": {
           "color": "#2a3f5f"
          },
          "geo": {
           "bgcolor": "white",
           "lakecolor": "white",
           "landcolor": "#E5ECF6",
           "showlakes": true,
           "showland": true,
           "subunitcolor": "white"
          },
          "hoverlabel": {
           "align": "left"
          },
          "hovermode": "closest",
          "mapbox": {
           "style": "light"
          },
          "paper_bgcolor": "white",
          "plot_bgcolor": "#E5ECF6",
          "polar": {
           "angularaxis": {
            "gridcolor": "white",
            "linecolor": "white",
            "ticks": ""
           },
           "bgcolor": "#E5ECF6",
           "radialaxis": {
            "gridcolor": "white",
            "linecolor": "white",
            "ticks": ""
           }
          },
          "scene": {
           "xaxis": {
            "backgroundcolor": "#E5ECF6",
            "gridcolor": "white",
            "gridwidth": 2,
            "linecolor": "white",
            "showbackground": true,
            "ticks": "",
            "zerolinecolor": "white"
           },
           "yaxis": {
            "backgroundcolor": "#E5ECF6",
            "gridcolor": "white",
            "gridwidth": 2,
            "linecolor": "white",
            "showbackground": true,
            "ticks": "",
            "zerolinecolor": "white"
           },
           "zaxis": {
            "backgroundcolor": "#E5ECF6",
            "gridcolor": "white",
            "gridwidth": 2,
            "linecolor": "white",
            "showbackground": true,
            "ticks": "",
            "zerolinecolor": "white"
           }
          },
          "shapedefaults": {
           "line": {
            "color": "#2a3f5f"
           }
          },
          "ternary": {
           "aaxis": {
            "gridcolor": "white",
            "linecolor": "white",
            "ticks": ""
           },
           "baxis": {
            "gridcolor": "white",
            "linecolor": "white",
            "ticks": ""
           },
           "bgcolor": "#E5ECF6",
           "caxis": {
            "gridcolor": "white",
            "linecolor": "white",
            "ticks": ""
           }
          },
          "title": {
           "x": 0.05
          },
          "xaxis": {
           "automargin": true,
           "gridcolor": "white",
           "linecolor": "white",
           "ticks": "",
           "title": {
            "standoff": 15
           },
           "zerolinecolor": "white",
           "zerolinewidth": 2
          },
          "yaxis": {
           "automargin": true,
           "gridcolor": "white",
           "linecolor": "white",
           "ticks": "",
           "title": {
            "standoff": 15
           },
           "zerolinecolor": "white",
           "zerolinewidth": 2
          }
         }
        },
        "title": {
         "text": "top ten streets by number of restaurants without cafes"
        },
        "xaxis": {
         "anchor": "y",
         "domain": [
          0,
          1
         ],
         "title": {
          "text": "number of restaurants"
         }
        },
        "yaxis": {
         "anchor": "x",
         "categoryarray": [
          "TEMPLE ",
          "ATLANTIC ",
          "SAN FERNANDO ",
          "HUNTINGTON ",
          "VERNON ",
          "SOTO ",
          "AVALON ",
          "MANCHESTER ",
          "SAN PEDRO ",
          "FLORENCE "
         ],
         "categoryorder": "array",
         "domain": [
          0,
          1
         ],
         "title": {
          "text": "street name"
         }
        }
       }
      },
      "text/html": [
       "<div>                            <div id=\"df2d2c73-d6c7-4fbe-a300-9f94fdb699fa\" class=\"plotly-graph-div\" style=\"height:525px; width:100%;\"></div>            <script type=\"text/javascript\">                require([\"plotly\"], function(Plotly) {                    window.PLOTLYENV=window.PLOTLYENV || {};                                    if (document.getElementById(\"df2d2c73-d6c7-4fbe-a300-9f94fdb699fa\")) {                    Plotly.newPlot(                        \"df2d2c73-d6c7-4fbe-a300-9f94fdb699fa\",                        [{\"alignmentgroup\":\"True\",\"hovertemplate\":\"street name=%{y}<br>number of restaurants=%{text}<extra></extra>\",\"legendgroup\":\"FLORENCE \",\"marker\":{\"color\":\"#636efa\",\"pattern\":{\"shape\":\"\"}},\"name\":\"FLORENCE \",\"offsetgroup\":\"FLORENCE \",\"orientation\":\"h\",\"showlegend\":true,\"text\":[\"87\"],\"textposition\":\"auto\",\"type\":\"bar\",\"x\":[87],\"xaxis\":\"x\",\"y\":[\"FLORENCE \"],\"yaxis\":\"y\"},{\"alignmentgroup\":\"True\",\"hovertemplate\":\"street name=%{y}<br>number of restaurants=%{text}<extra></extra>\",\"legendgroup\":\"SAN PEDRO \",\"marker\":{\"color\":\"#EF553B\",\"pattern\":{\"shape\":\"\"}},\"name\":\"SAN PEDRO \",\"offsetgroup\":\"SAN PEDRO \",\"orientation\":\"h\",\"showlegend\":true,\"text\":[\"77\"],\"textposition\":\"auto\",\"type\":\"bar\",\"x\":[77],\"xaxis\":\"x\",\"y\":[\"SAN PEDRO \"],\"yaxis\":\"y\"},{\"alignmentgroup\":\"True\",\"hovertemplate\":\"street name=%{y}<br>number of restaurants=%{text}<extra></extra>\",\"legendgroup\":\"MANCHESTER \",\"marker\":{\"color\":\"#00cc96\",\"pattern\":{\"shape\":\"\"}},\"name\":\"MANCHESTER \",\"offsetgroup\":\"MANCHESTER \",\"orientation\":\"h\",\"showlegend\":true,\"text\":[\"76\"],\"textposition\":\"auto\",\"type\":\"bar\",\"x\":[76],\"xaxis\":\"x\",\"y\":[\"MANCHESTER \"],\"yaxis\":\"y\"},{\"alignmentgroup\":\"True\",\"hovertemplate\":\"street name=%{y}<br>number of restaurants=%{text}<extra></extra>\",\"legendgroup\":\"AVALON \",\"marker\":{\"color\":\"#ab63fa\",\"pattern\":{\"shape\":\"\"}},\"name\":\"AVALON \",\"offsetgroup\":\"AVALON \",\"orientation\":\"h\",\"showlegend\":true,\"text\":[\"58\"],\"textposition\":\"auto\",\"type\":\"bar\",\"x\":[58],\"xaxis\":\"x\",\"y\":[\"AVALON \"],\"yaxis\":\"y\"},{\"alignmentgroup\":\"True\",\"hovertemplate\":\"street name=%{y}<br>number of restaurants=%{text}<extra></extra>\",\"legendgroup\":\"SOTO \",\"marker\":{\"color\":\"#FFA15A\",\"pattern\":{\"shape\":\"\"}},\"name\":\"SOTO \",\"offsetgroup\":\"SOTO \",\"orientation\":\"h\",\"showlegend\":true,\"text\":[\"36\"],\"textposition\":\"auto\",\"type\":\"bar\",\"x\":[36],\"xaxis\":\"x\",\"y\":[\"SOTO \"],\"yaxis\":\"y\"},{\"alignmentgroup\":\"True\",\"hovertemplate\":\"street name=%{y}<br>number of restaurants=%{text}<extra></extra>\",\"legendgroup\":\"VERNON \",\"marker\":{\"color\":\"#19d3f3\",\"pattern\":{\"shape\":\"\"}},\"name\":\"VERNON \",\"offsetgroup\":\"VERNON \",\"orientation\":\"h\",\"showlegend\":true,\"text\":[\"34\"],\"textposition\":\"auto\",\"type\":\"bar\",\"x\":[34],\"xaxis\":\"x\",\"y\":[\"VERNON \"],\"yaxis\":\"y\"},{\"alignmentgroup\":\"True\",\"hovertemplate\":\"street name=%{y}<br>number of restaurants=%{text}<extra></extra>\",\"legendgroup\":\"HUNTINGTON \",\"marker\":{\"color\":\"#FF6692\",\"pattern\":{\"shape\":\"\"}},\"name\":\"HUNTINGTON \",\"offsetgroup\":\"HUNTINGTON \",\"orientation\":\"h\",\"showlegend\":true,\"text\":[\"32\"],\"textposition\":\"auto\",\"type\":\"bar\",\"x\":[32],\"xaxis\":\"x\",\"y\":[\"HUNTINGTON \"],\"yaxis\":\"y\"},{\"alignmentgroup\":\"True\",\"hovertemplate\":\"street name=%{y}<br>number of restaurants=%{text}<extra></extra>\",\"legendgroup\":\"SAN FERNANDO \",\"marker\":{\"color\":\"#B6E880\",\"pattern\":{\"shape\":\"\"}},\"name\":\"SAN FERNANDO \",\"offsetgroup\":\"SAN FERNANDO \",\"orientation\":\"h\",\"showlegend\":true,\"text\":[\"30\"],\"textposition\":\"auto\",\"type\":\"bar\",\"x\":[30],\"xaxis\":\"x\",\"y\":[\"SAN FERNANDO \"],\"yaxis\":\"y\"},{\"alignmentgroup\":\"True\",\"hovertemplate\":\"street name=%{y}<br>number of restaurants=%{text}<extra></extra>\",\"legendgroup\":\"ATLANTIC \",\"marker\":{\"color\":\"#FF97FF\",\"pattern\":{\"shape\":\"\"}},\"name\":\"ATLANTIC \",\"offsetgroup\":\"ATLANTIC \",\"orientation\":\"h\",\"showlegend\":true,\"text\":[\"30\"],\"textposition\":\"auto\",\"type\":\"bar\",\"x\":[30],\"xaxis\":\"x\",\"y\":[\"ATLANTIC \"],\"yaxis\":\"y\"},{\"alignmentgroup\":\"True\",\"hovertemplate\":\"street name=%{y}<br>number of restaurants=%{text}<extra></extra>\",\"legendgroup\":\"TEMPLE \",\"marker\":{\"color\":\"#FECB52\",\"pattern\":{\"shape\":\"\"}},\"name\":\"TEMPLE \",\"offsetgroup\":\"TEMPLE \",\"orientation\":\"h\",\"showlegend\":true,\"text\":[\"27\"],\"textposition\":\"auto\",\"type\":\"bar\",\"x\":[27],\"xaxis\":\"x\",\"y\":[\"TEMPLE \"],\"yaxis\":\"y\"}],                        {\"barmode\":\"relative\",\"legend\":{\"font\":{\"size\":14},\"itemwidth\":50,\"title\":{\"text\":\"street name\"},\"tracegroupgap\":0},\"template\":{\"data\":{\"bar\":[{\"error_x\":{\"color\":\"#2a3f5f\"},\"error_y\":{\"color\":\"#2a3f5f\"},\"marker\":{\"line\":{\"color\":\"#E5ECF6\",\"width\":0.5},\"pattern\":{\"fillmode\":\"overlay\",\"size\":10,\"solidity\":0.2}},\"type\":\"bar\"}],\"barpolar\":[{\"marker\":{\"line\":{\"color\":\"#E5ECF6\",\"width\":0.5},\"pattern\":{\"fillmode\":\"overlay\",\"size\":10,\"solidity\":0.2}},\"type\":\"barpolar\"}],\"carpet\":[{\"aaxis\":{\"endlinecolor\":\"#2a3f5f\",\"gridcolor\":\"white\",\"linecolor\":\"white\",\"minorgridcolor\":\"white\",\"startlinecolor\":\"#2a3f5f\"},\"baxis\":{\"endlinecolor\":\"#2a3f5f\",\"gridcolor\":\"white\",\"linecolor\":\"white\",\"minorgridcolor\":\"white\",\"startlinecolor\":\"#2a3f5f\"},\"type\":\"carpet\"}],\"choropleth\":[{\"colorbar\":{\"outlinewidth\":0,\"ticks\":\"\"},\"type\":\"choropleth\"}],\"contour\":[{\"colorbar\":{\"outlinewidth\":0,\"ticks\":\"\"},\"colorscale\":[[0.0,\"#0d0887\"],[0.1111111111111111,\"#46039f\"],[0.2222222222222222,\"#7201a8\"],[0.3333333333333333,\"#9c179e\"],[0.4444444444444444,\"#bd3786\"],[0.5555555555555556,\"#d8576b\"],[0.6666666666666666,\"#ed7953\"],[0.7777777777777778,\"#fb9f3a\"],[0.8888888888888888,\"#fdca26\"],[1.0,\"#f0f921\"]],\"type\":\"contour\"}],\"contourcarpet\":[{\"colorbar\":{\"outlinewidth\":0,\"ticks\":\"\"},\"type\":\"contourcarpet\"}],\"heatmap\":[{\"colorbar\":{\"outlinewidth\":0,\"ticks\":\"\"},\"colorscale\":[[0.0,\"#0d0887\"],[0.1111111111111111,\"#46039f\"],[0.2222222222222222,\"#7201a8\"],[0.3333333333333333,\"#9c179e\"],[0.4444444444444444,\"#bd3786\"],[0.5555555555555556,\"#d8576b\"],[0.6666666666666666,\"#ed7953\"],[0.7777777777777778,\"#fb9f3a\"],[0.8888888888888888,\"#fdca26\"],[1.0,\"#f0f921\"]],\"type\":\"heatmap\"}],\"heatmapgl\":[{\"colorbar\":{\"outlinewidth\":0,\"ticks\":\"\"},\"colorscale\":[[0.0,\"#0d0887\"],[0.1111111111111111,\"#46039f\"],[0.2222222222222222,\"#7201a8\"],[0.3333333333333333,\"#9c179e\"],[0.4444444444444444,\"#bd3786\"],[0.5555555555555556,\"#d8576b\"],[0.6666666666666666,\"#ed7953\"],[0.7777777777777778,\"#fb9f3a\"],[0.8888888888888888,\"#fdca26\"],[1.0,\"#f0f921\"]],\"type\":\"heatmapgl\"}],\"histogram\":[{\"marker\":{\"pattern\":{\"fillmode\":\"overlay\",\"size\":10,\"solidity\":0.2}},\"type\":\"histogram\"}],\"histogram2d\":[{\"colorbar\":{\"outlinewidth\":0,\"ticks\":\"\"},\"colorscale\":[[0.0,\"#0d0887\"],[0.1111111111111111,\"#46039f\"],[0.2222222222222222,\"#7201a8\"],[0.3333333333333333,\"#9c179e\"],[0.4444444444444444,\"#bd3786\"],[0.5555555555555556,\"#d8576b\"],[0.6666666666666666,\"#ed7953\"],[0.7777777777777778,\"#fb9f3a\"],[0.8888888888888888,\"#fdca26\"],[1.0,\"#f0f921\"]],\"type\":\"histogram2d\"}],\"histogram2dcontour\":[{\"colorbar\":{\"outlinewidth\":0,\"ticks\":\"\"},\"colorscale\":[[0.0,\"#0d0887\"],[0.1111111111111111,\"#46039f\"],[0.2222222222222222,\"#7201a8\"],[0.3333333333333333,\"#9c179e\"],[0.4444444444444444,\"#bd3786\"],[0.5555555555555556,\"#d8576b\"],[0.6666666666666666,\"#ed7953\"],[0.7777777777777778,\"#fb9f3a\"],[0.8888888888888888,\"#fdca26\"],[1.0,\"#f0f921\"]],\"type\":\"histogram2dcontour\"}],\"mesh3d\":[{\"colorbar\":{\"outlinewidth\":0,\"ticks\":\"\"},\"type\":\"mesh3d\"}],\"parcoords\":[{\"line\":{\"colorbar\":{\"outlinewidth\":0,\"ticks\":\"\"}},\"type\":\"parcoords\"}],\"pie\":[{\"automargin\":true,\"type\":\"pie\"}],\"scatter\":[{\"marker\":{\"colorbar\":{\"outlinewidth\":0,\"ticks\":\"\"}},\"type\":\"scatter\"}],\"scatter3d\":[{\"line\":{\"colorbar\":{\"outlinewidth\":0,\"ticks\":\"\"}},\"marker\":{\"colorbar\":{\"outlinewidth\":0,\"ticks\":\"\"}},\"type\":\"scatter3d\"}],\"scattercarpet\":[{\"marker\":{\"colorbar\":{\"outlinewidth\":0,\"ticks\":\"\"}},\"type\":\"scattercarpet\"}],\"scattergeo\":[{\"marker\":{\"colorbar\":{\"outlinewidth\":0,\"ticks\":\"\"}},\"type\":\"scattergeo\"}],\"scattergl\":[{\"marker\":{\"colorbar\":{\"outlinewidth\":0,\"ticks\":\"\"}},\"type\":\"scattergl\"}],\"scattermapbox\":[{\"marker\":{\"colorbar\":{\"outlinewidth\":0,\"ticks\":\"\"}},\"type\":\"scattermapbox\"}],\"scatterpolar\":[{\"marker\":{\"colorbar\":{\"outlinewidth\":0,\"ticks\":\"\"}},\"type\":\"scatterpolar\"}],\"scatterpolargl\":[{\"marker\":{\"colorbar\":{\"outlinewidth\":0,\"ticks\":\"\"}},\"type\":\"scatterpolargl\"}],\"scatterternary\":[{\"marker\":{\"colorbar\":{\"outlinewidth\":0,\"ticks\":\"\"}},\"type\":\"scatterternary\"}],\"surface\":[{\"colorbar\":{\"outlinewidth\":0,\"ticks\":\"\"},\"colorscale\":[[0.0,\"#0d0887\"],[0.1111111111111111,\"#46039f\"],[0.2222222222222222,\"#7201a8\"],[0.3333333333333333,\"#9c179e\"],[0.4444444444444444,\"#bd3786\"],[0.5555555555555556,\"#d8576b\"],[0.6666666666666666,\"#ed7953\"],[0.7777777777777778,\"#fb9f3a\"],[0.8888888888888888,\"#fdca26\"],[1.0,\"#f0f921\"]],\"type\":\"surface\"}],\"table\":[{\"cells\":{\"fill\":{\"color\":\"#EBF0F8\"},\"line\":{\"color\":\"white\"}},\"header\":{\"fill\":{\"color\":\"#C8D4E3\"},\"line\":{\"color\":\"white\"}},\"type\":\"table\"}]},\"layout\":{\"annotationdefaults\":{\"arrowcolor\":\"#2a3f5f\",\"arrowhead\":0,\"arrowwidth\":1},\"autotypenumbers\":\"strict\",\"coloraxis\":{\"colorbar\":{\"outlinewidth\":0,\"ticks\":\"\"}},\"colorscale\":{\"diverging\":[[0,\"#8e0152\"],[0.1,\"#c51b7d\"],[0.2,\"#de77ae\"],[0.3,\"#f1b6da\"],[0.4,\"#fde0ef\"],[0.5,\"#f7f7f7\"],[0.6,\"#e6f5d0\"],[0.7,\"#b8e186\"],[0.8,\"#7fbc41\"],[0.9,\"#4d9221\"],[1,\"#276419\"]],\"sequential\":[[0.0,\"#0d0887\"],[0.1111111111111111,\"#46039f\"],[0.2222222222222222,\"#7201a8\"],[0.3333333333333333,\"#9c179e\"],[0.4444444444444444,\"#bd3786\"],[0.5555555555555556,\"#d8576b\"],[0.6666666666666666,\"#ed7953\"],[0.7777777777777778,\"#fb9f3a\"],[0.8888888888888888,\"#fdca26\"],[1.0,\"#f0f921\"]],\"sequentialminus\":[[0.0,\"#0d0887\"],[0.1111111111111111,\"#46039f\"],[0.2222222222222222,\"#7201a8\"],[0.3333333333333333,\"#9c179e\"],[0.4444444444444444,\"#bd3786\"],[0.5555555555555556,\"#d8576b\"],[0.6666666666666666,\"#ed7953\"],[0.7777777777777778,\"#fb9f3a\"],[0.8888888888888888,\"#fdca26\"],[1.0,\"#f0f921\"]]},\"colorway\":[\"#636efa\",\"#EF553B\",\"#00cc96\",\"#ab63fa\",\"#FFA15A\",\"#19d3f3\",\"#FF6692\",\"#B6E880\",\"#FF97FF\",\"#FECB52\"],\"font\":{\"color\":\"#2a3f5f\"},\"geo\":{\"bgcolor\":\"white\",\"lakecolor\":\"white\",\"landcolor\":\"#E5ECF6\",\"showlakes\":true,\"showland\":true,\"subunitcolor\":\"white\"},\"hoverlabel\":{\"align\":\"left\"},\"hovermode\":\"closest\",\"mapbox\":{\"style\":\"light\"},\"paper_bgcolor\":\"white\",\"plot_bgcolor\":\"#E5ECF6\",\"polar\":{\"angularaxis\":{\"gridcolor\":\"white\",\"linecolor\":\"white\",\"ticks\":\"\"},\"bgcolor\":\"#E5ECF6\",\"radialaxis\":{\"gridcolor\":\"white\",\"linecolor\":\"white\",\"ticks\":\"\"}},\"scene\":{\"xaxis\":{\"backgroundcolor\":\"#E5ECF6\",\"gridcolor\":\"white\",\"gridwidth\":2,\"linecolor\":\"white\",\"showbackground\":true,\"ticks\":\"\",\"zerolinecolor\":\"white\"},\"yaxis\":{\"backgroundcolor\":\"#E5ECF6\",\"gridcolor\":\"white\",\"gridwidth\":2,\"linecolor\":\"white\",\"showbackground\":true,\"ticks\":\"\",\"zerolinecolor\":\"white\"},\"zaxis\":{\"backgroundcolor\":\"#E5ECF6\",\"gridcolor\":\"white\",\"gridwidth\":2,\"linecolor\":\"white\",\"showbackground\":true,\"ticks\":\"\",\"zerolinecolor\":\"white\"}},\"shapedefaults\":{\"line\":{\"color\":\"#2a3f5f\"}},\"ternary\":{\"aaxis\":{\"gridcolor\":\"white\",\"linecolor\":\"white\",\"ticks\":\"\"},\"baxis\":{\"gridcolor\":\"white\",\"linecolor\":\"white\",\"ticks\":\"\"},\"bgcolor\":\"#E5ECF6\",\"caxis\":{\"gridcolor\":\"white\",\"linecolor\":\"white\",\"ticks\":\"\"}},\"title\":{\"x\":0.05},\"xaxis\":{\"automargin\":true,\"gridcolor\":\"white\",\"linecolor\":\"white\",\"ticks\":\"\",\"title\":{\"standoff\":15},\"zerolinecolor\":\"white\",\"zerolinewidth\":2},\"yaxis\":{\"automargin\":true,\"gridcolor\":\"white\",\"linecolor\":\"white\",\"ticks\":\"\",\"title\":{\"standoff\":15},\"zerolinecolor\":\"white\",\"zerolinewidth\":2}}},\"title\":{\"text\":\"top ten streets by number of restaurants without cafes\"},\"xaxis\":{\"anchor\":\"y\",\"domain\":[0.0,1.0],\"title\":{\"text\":\"number of restaurants\"}},\"yaxis\":{\"anchor\":\"x\",\"categoryarray\":[\"TEMPLE \",\"ATLANTIC \",\"SAN FERNANDO \",\"HUNTINGTON \",\"VERNON \",\"SOTO \",\"AVALON \",\"MANCHESTER \",\"SAN PEDRO \",\"FLORENCE \"],\"categoryorder\":\"array\",\"domain\":[0.0,1.0],\"title\":{\"text\":\"street name\"}}},                        {\"responsive\": true}                    ).then(function(){\n",
       "                            \n",
       "var gd = document.getElementById('df2d2c73-d6c7-4fbe-a300-9f94fdb699fa');\n",
       "var x = new MutationObserver(function (mutations, observer) {{\n",
       "        var display = window.getComputedStyle(gd).display;\n",
       "        if (!display || display === 'none') {{\n",
       "            console.log([gd, 'removed!']);\n",
       "            Plotly.purge(gd);\n",
       "            observer.disconnect();\n",
       "        }}\n",
       "}});\n",
       "\n",
       "// Listen for the removal of the full notebook cells\n",
       "var notebookContainer = gd.closest('#notebook-container');\n",
       "if (notebookContainer) {{\n",
       "    x.observe(notebookContainer, {childList: true});\n",
       "}}\n",
       "\n",
       "// Listen for the clearing of the current output cell\n",
       "var outputEl = gd.closest('.output');\n",
       "if (outputEl) {{\n",
       "    x.observe(outputEl, {childList: true});\n",
       "}}\n",
       "\n",
       "                        })                };                });            </script>        </div>"
      ]
     },
     "metadata": {},
     "output_type": "display_data"
    }
   ],
   "source": [
    "# the street that don't have cafes and still have a lot other restaurants\n",
    "streets_with_cafe = list(rest_data[rest_data[\"object_type\"]==\"Cafe\"]['street'].unique())\n",
    "\n",
    "filtered_data = rest_data[~(rest_data[\"street\"].isin(streets_with_cafe))]\n",
    "street_fil_rest_count = filtered_data[~(filtered_data['street']==\"no street\")].value_counts('street').reset_index()\n",
    "street_fil_rest_count.columns = [\"street\",\"count\"]\n",
    "\n",
    "figure = px.bar(street_fil_rest_count.head(10),x=\"count\",y=\"street\",\n",
    "                title=\"top ten streets by number of restaurants without cafes\",\n",
    "                labels={'street':\"street name\",'count':\"number of restaurants\"},\n",
    "                color=\"street\",\n",
    "                orientation='h',\n",
    "                text='count')\n",
    "figure.update_layout(legend_itemwidth=50,legend_font_size=14)\n",
    "figure.show()"
   ]
  },
  {
   "cell_type": "code",
   "execution_count": 48,
   "id": "e6736170",
   "metadata": {
    "ExecuteTime": {
     "end_time": "2021-12-09T16:48:49.967974Z",
     "start_time": "2021-12-09T16:48:49.909430Z"
    }
   },
   "outputs": [
    {
     "data": {
      "application/vnd.plotly.v1+json": {
       "config": {
        "plotlyServerURL": "https://plot.ly"
       },
       "data": [
        {
         "domain": {
          "x": [
           0,
           1
          ],
          "y": [
           0,
           1
          ]
         },
         "hovertemplate": "option=%{label}<br>count=%{value}<extra></extra>",
         "labels": [
          "non chain",
          "chain"
         ],
         "legendgroup": "",
         "name": "",
         "showlegend": true,
         "type": "pie",
         "values": [
          169,
          266
         ]
        }
       ],
       "layout": {
        "legend": {
         "font": {
          "size": 16
         },
         "itemwidth": 50,
         "tracegroupgap": 0
        },
        "template": {
         "data": {
          "bar": [
           {
            "error_x": {
             "color": "#2a3f5f"
            },
            "error_y": {
             "color": "#2a3f5f"
            },
            "marker": {
             "line": {
              "color": "#E5ECF6",
              "width": 0.5
             },
             "pattern": {
              "fillmode": "overlay",
              "size": 10,
              "solidity": 0.2
             }
            },
            "type": "bar"
           }
          ],
          "barpolar": [
           {
            "marker": {
             "line": {
              "color": "#E5ECF6",
              "width": 0.5
             },
             "pattern": {
              "fillmode": "overlay",
              "size": 10,
              "solidity": 0.2
             }
            },
            "type": "barpolar"
           }
          ],
          "carpet": [
           {
            "aaxis": {
             "endlinecolor": "#2a3f5f",
             "gridcolor": "white",
             "linecolor": "white",
             "minorgridcolor": "white",
             "startlinecolor": "#2a3f5f"
            },
            "baxis": {
             "endlinecolor": "#2a3f5f",
             "gridcolor": "white",
             "linecolor": "white",
             "minorgridcolor": "white",
             "startlinecolor": "#2a3f5f"
            },
            "type": "carpet"
           }
          ],
          "choropleth": [
           {
            "colorbar": {
             "outlinewidth": 0,
             "ticks": ""
            },
            "type": "choropleth"
           }
          ],
          "contour": [
           {
            "colorbar": {
             "outlinewidth": 0,
             "ticks": ""
            },
            "colorscale": [
             [
              0,
              "#0d0887"
             ],
             [
              0.1111111111111111,
              "#46039f"
             ],
             [
              0.2222222222222222,
              "#7201a8"
             ],
             [
              0.3333333333333333,
              "#9c179e"
             ],
             [
              0.4444444444444444,
              "#bd3786"
             ],
             [
              0.5555555555555556,
              "#d8576b"
             ],
             [
              0.6666666666666666,
              "#ed7953"
             ],
             [
              0.7777777777777778,
              "#fb9f3a"
             ],
             [
              0.8888888888888888,
              "#fdca26"
             ],
             [
              1,
              "#f0f921"
             ]
            ],
            "type": "contour"
           }
          ],
          "contourcarpet": [
           {
            "colorbar": {
             "outlinewidth": 0,
             "ticks": ""
            },
            "type": "contourcarpet"
           }
          ],
          "heatmap": [
           {
            "colorbar": {
             "outlinewidth": 0,
             "ticks": ""
            },
            "colorscale": [
             [
              0,
              "#0d0887"
             ],
             [
              0.1111111111111111,
              "#46039f"
             ],
             [
              0.2222222222222222,
              "#7201a8"
             ],
             [
              0.3333333333333333,
              "#9c179e"
             ],
             [
              0.4444444444444444,
              "#bd3786"
             ],
             [
              0.5555555555555556,
              "#d8576b"
             ],
             [
              0.6666666666666666,
              "#ed7953"
             ],
             [
              0.7777777777777778,
              "#fb9f3a"
             ],
             [
              0.8888888888888888,
              "#fdca26"
             ],
             [
              1,
              "#f0f921"
             ]
            ],
            "type": "heatmap"
           }
          ],
          "heatmapgl": [
           {
            "colorbar": {
             "outlinewidth": 0,
             "ticks": ""
            },
            "colorscale": [
             [
              0,
              "#0d0887"
             ],
             [
              0.1111111111111111,
              "#46039f"
             ],
             [
              0.2222222222222222,
              "#7201a8"
             ],
             [
              0.3333333333333333,
              "#9c179e"
             ],
             [
              0.4444444444444444,
              "#bd3786"
             ],
             [
              0.5555555555555556,
              "#d8576b"
             ],
             [
              0.6666666666666666,
              "#ed7953"
             ],
             [
              0.7777777777777778,
              "#fb9f3a"
             ],
             [
              0.8888888888888888,
              "#fdca26"
             ],
             [
              1,
              "#f0f921"
             ]
            ],
            "type": "heatmapgl"
           }
          ],
          "histogram": [
           {
            "marker": {
             "pattern": {
              "fillmode": "overlay",
              "size": 10,
              "solidity": 0.2
             }
            },
            "type": "histogram"
           }
          ],
          "histogram2d": [
           {
            "colorbar": {
             "outlinewidth": 0,
             "ticks": ""
            },
            "colorscale": [
             [
              0,
              "#0d0887"
             ],
             [
              0.1111111111111111,
              "#46039f"
             ],
             [
              0.2222222222222222,
              "#7201a8"
             ],
             [
              0.3333333333333333,
              "#9c179e"
             ],
             [
              0.4444444444444444,
              "#bd3786"
             ],
             [
              0.5555555555555556,
              "#d8576b"
             ],
             [
              0.6666666666666666,
              "#ed7953"
             ],
             [
              0.7777777777777778,
              "#fb9f3a"
             ],
             [
              0.8888888888888888,
              "#fdca26"
             ],
             [
              1,
              "#f0f921"
             ]
            ],
            "type": "histogram2d"
           }
          ],
          "histogram2dcontour": [
           {
            "colorbar": {
             "outlinewidth": 0,
             "ticks": ""
            },
            "colorscale": [
             [
              0,
              "#0d0887"
             ],
             [
              0.1111111111111111,
              "#46039f"
             ],
             [
              0.2222222222222222,
              "#7201a8"
             ],
             [
              0.3333333333333333,
              "#9c179e"
             ],
             [
              0.4444444444444444,
              "#bd3786"
             ],
             [
              0.5555555555555556,
              "#d8576b"
             ],
             [
              0.6666666666666666,
              "#ed7953"
             ],
             [
              0.7777777777777778,
              "#fb9f3a"
             ],
             [
              0.8888888888888888,
              "#fdca26"
             ],
             [
              1,
              "#f0f921"
             ]
            ],
            "type": "histogram2dcontour"
           }
          ],
          "mesh3d": [
           {
            "colorbar": {
             "outlinewidth": 0,
             "ticks": ""
            },
            "type": "mesh3d"
           }
          ],
          "parcoords": [
           {
            "line": {
             "colorbar": {
              "outlinewidth": 0,
              "ticks": ""
             }
            },
            "type": "parcoords"
           }
          ],
          "pie": [
           {
            "automargin": true,
            "type": "pie"
           }
          ],
          "scatter": [
           {
            "marker": {
             "colorbar": {
              "outlinewidth": 0,
              "ticks": ""
             }
            },
            "type": "scatter"
           }
          ],
          "scatter3d": [
           {
            "line": {
             "colorbar": {
              "outlinewidth": 0,
              "ticks": ""
             }
            },
            "marker": {
             "colorbar": {
              "outlinewidth": 0,
              "ticks": ""
             }
            },
            "type": "scatter3d"
           }
          ],
          "scattercarpet": [
           {
            "marker": {
             "colorbar": {
              "outlinewidth": 0,
              "ticks": ""
             }
            },
            "type": "scattercarpet"
           }
          ],
          "scattergeo": [
           {
            "marker": {
             "colorbar": {
              "outlinewidth": 0,
              "ticks": ""
             }
            },
            "type": "scattergeo"
           }
          ],
          "scattergl": [
           {
            "marker": {
             "colorbar": {
              "outlinewidth": 0,
              "ticks": ""
             }
            },
            "type": "scattergl"
           }
          ],
          "scattermapbox": [
           {
            "marker": {
             "colorbar": {
              "outlinewidth": 0,
              "ticks": ""
             }
            },
            "type": "scattermapbox"
           }
          ],
          "scatterpolar": [
           {
            "marker": {
             "colorbar": {
              "outlinewidth": 0,
              "ticks": ""
             }
            },
            "type": "scatterpolar"
           }
          ],
          "scatterpolargl": [
           {
            "marker": {
             "colorbar": {
              "outlinewidth": 0,
              "ticks": ""
             }
            },
            "type": "scatterpolargl"
           }
          ],
          "scatterternary": [
           {
            "marker": {
             "colorbar": {
              "outlinewidth": 0,
              "ticks": ""
             }
            },
            "type": "scatterternary"
           }
          ],
          "surface": [
           {
            "colorbar": {
             "outlinewidth": 0,
             "ticks": ""
            },
            "colorscale": [
             [
              0,
              "#0d0887"
             ],
             [
              0.1111111111111111,
              "#46039f"
             ],
             [
              0.2222222222222222,
              "#7201a8"
             ],
             [
              0.3333333333333333,
              "#9c179e"
             ],
             [
              0.4444444444444444,
              "#bd3786"
             ],
             [
              0.5555555555555556,
              "#d8576b"
             ],
             [
              0.6666666666666666,
              "#ed7953"
             ],
             [
              0.7777777777777778,
              "#fb9f3a"
             ],
             [
              0.8888888888888888,
              "#fdca26"
             ],
             [
              1,
              "#f0f921"
             ]
            ],
            "type": "surface"
           }
          ],
          "table": [
           {
            "cells": {
             "fill": {
              "color": "#EBF0F8"
             },
             "line": {
              "color": "white"
             }
            },
            "header": {
             "fill": {
              "color": "#C8D4E3"
             },
             "line": {
              "color": "white"
             }
            },
            "type": "table"
           }
          ]
         },
         "layout": {
          "annotationdefaults": {
           "arrowcolor": "#2a3f5f",
           "arrowhead": 0,
           "arrowwidth": 1
          },
          "autotypenumbers": "strict",
          "coloraxis": {
           "colorbar": {
            "outlinewidth": 0,
            "ticks": ""
           }
          },
          "colorscale": {
           "diverging": [
            [
             0,
             "#8e0152"
            ],
            [
             0.1,
             "#c51b7d"
            ],
            [
             0.2,
             "#de77ae"
            ],
            [
             0.3,
             "#f1b6da"
            ],
            [
             0.4,
             "#fde0ef"
            ],
            [
             0.5,
             "#f7f7f7"
            ],
            [
             0.6,
             "#e6f5d0"
            ],
            [
             0.7,
             "#b8e186"
            ],
            [
             0.8,
             "#7fbc41"
            ],
            [
             0.9,
             "#4d9221"
            ],
            [
             1,
             "#276419"
            ]
           ],
           "sequential": [
            [
             0,
             "#0d0887"
            ],
            [
             0.1111111111111111,
             "#46039f"
            ],
            [
             0.2222222222222222,
             "#7201a8"
            ],
            [
             0.3333333333333333,
             "#9c179e"
            ],
            [
             0.4444444444444444,
             "#bd3786"
            ],
            [
             0.5555555555555556,
             "#d8576b"
            ],
            [
             0.6666666666666666,
             "#ed7953"
            ],
            [
             0.7777777777777778,
             "#fb9f3a"
            ],
            [
             0.8888888888888888,
             "#fdca26"
            ],
            [
             1,
             "#f0f921"
            ]
           ],
           "sequentialminus": [
            [
             0,
             "#0d0887"
            ],
            [
             0.1111111111111111,
             "#46039f"
            ],
            [
             0.2222222222222222,
             "#7201a8"
            ],
            [
             0.3333333333333333,
             "#9c179e"
            ],
            [
             0.4444444444444444,
             "#bd3786"
            ],
            [
             0.5555555555555556,
             "#d8576b"
            ],
            [
             0.6666666666666666,
             "#ed7953"
            ],
            [
             0.7777777777777778,
             "#fb9f3a"
            ],
            [
             0.8888888888888888,
             "#fdca26"
            ],
            [
             1,
             "#f0f921"
            ]
           ]
          },
          "colorway": [
           "#636efa",
           "#EF553B",
           "#00cc96",
           "#ab63fa",
           "#FFA15A",
           "#19d3f3",
           "#FF6692",
           "#B6E880",
           "#FF97FF",
           "#FECB52"
          ],
          "font": {
           "color": "#2a3f5f"
          },
          "geo": {
           "bgcolor": "white",
           "lakecolor": "white",
           "landcolor": "#E5ECF6",
           "showlakes": true,
           "showland": true,
           "subunitcolor": "white"
          },
          "hoverlabel": {
           "align": "left"
          },
          "hovermode": "closest",
          "mapbox": {
           "style": "light"
          },
          "paper_bgcolor": "white",
          "plot_bgcolor": "#E5ECF6",
          "polar": {
           "angularaxis": {
            "gridcolor": "white",
            "linecolor": "white",
            "ticks": ""
           },
           "bgcolor": "#E5ECF6",
           "radialaxis": {
            "gridcolor": "white",
            "linecolor": "white",
            "ticks": ""
           }
          },
          "scene": {
           "xaxis": {
            "backgroundcolor": "#E5ECF6",
            "gridcolor": "white",
            "gridwidth": 2,
            "linecolor": "white",
            "showbackground": true,
            "ticks": "",
            "zerolinecolor": "white"
           },
           "yaxis": {
            "backgroundcolor": "#E5ECF6",
            "gridcolor": "white",
            "gridwidth": 2,
            "linecolor": "white",
            "showbackground": true,
            "ticks": "",
            "zerolinecolor": "white"
           },
           "zaxis": {
            "backgroundcolor": "#E5ECF6",
            "gridcolor": "white",
            "gridwidth": 2,
            "linecolor": "white",
            "showbackground": true,
            "ticks": "",
            "zerolinecolor": "white"
           }
          },
          "shapedefaults": {
           "line": {
            "color": "#2a3f5f"
           }
          },
          "ternary": {
           "aaxis": {
            "gridcolor": "white",
            "linecolor": "white",
            "ticks": ""
           },
           "baxis": {
            "gridcolor": "white",
            "linecolor": "white",
            "ticks": ""
           },
           "bgcolor": "#E5ECF6",
           "caxis": {
            "gridcolor": "white",
            "linecolor": "white",
            "ticks": ""
           }
          },
          "title": {
           "x": 0.05
          },
          "xaxis": {
           "automargin": true,
           "gridcolor": "white",
           "linecolor": "white",
           "ticks": "",
           "title": {
            "standoff": 15
           },
           "zerolinecolor": "white",
           "zerolinewidth": 2
          },
          "yaxis": {
           "automargin": true,
           "gridcolor": "white",
           "linecolor": "white",
           "ticks": "",
           "title": {
            "standoff": 15
           },
           "zerolinecolor": "white",
           "zerolinewidth": 2
          }
         }
        },
        "title": {
         "text": " proportions of chain and nonchain cafes"
        }
       }
      },
      "text/html": [
       "<div>                            <div id=\"2a98d588-16cb-4b1d-b740-1aecdabb458d\" class=\"plotly-graph-div\" style=\"height:525px; width:100%;\"></div>            <script type=\"text/javascript\">                require([\"plotly\"], function(Plotly) {                    window.PLOTLYENV=window.PLOTLYENV || {};                                    if (document.getElementById(\"2a98d588-16cb-4b1d-b740-1aecdabb458d\")) {                    Plotly.newPlot(                        \"2a98d588-16cb-4b1d-b740-1aecdabb458d\",                        [{\"domain\":{\"x\":[0.0,1.0],\"y\":[0.0,1.0]},\"hovertemplate\":\"option=%{label}<br>count=%{value}<extra></extra>\",\"labels\":[\"non chain\",\"chain\"],\"legendgroup\":\"\",\"name\":\"\",\"showlegend\":true,\"type\":\"pie\",\"values\":[169,266]}],                        {\"legend\":{\"font\":{\"size\":16},\"itemwidth\":50,\"tracegroupgap\":0},\"template\":{\"data\":{\"bar\":[{\"error_x\":{\"color\":\"#2a3f5f\"},\"error_y\":{\"color\":\"#2a3f5f\"},\"marker\":{\"line\":{\"color\":\"#E5ECF6\",\"width\":0.5},\"pattern\":{\"fillmode\":\"overlay\",\"size\":10,\"solidity\":0.2}},\"type\":\"bar\"}],\"barpolar\":[{\"marker\":{\"line\":{\"color\":\"#E5ECF6\",\"width\":0.5},\"pattern\":{\"fillmode\":\"overlay\",\"size\":10,\"solidity\":0.2}},\"type\":\"barpolar\"}],\"carpet\":[{\"aaxis\":{\"endlinecolor\":\"#2a3f5f\",\"gridcolor\":\"white\",\"linecolor\":\"white\",\"minorgridcolor\":\"white\",\"startlinecolor\":\"#2a3f5f\"},\"baxis\":{\"endlinecolor\":\"#2a3f5f\",\"gridcolor\":\"white\",\"linecolor\":\"white\",\"minorgridcolor\":\"white\",\"startlinecolor\":\"#2a3f5f\"},\"type\":\"carpet\"}],\"choropleth\":[{\"colorbar\":{\"outlinewidth\":0,\"ticks\":\"\"},\"type\":\"choropleth\"}],\"contour\":[{\"colorbar\":{\"outlinewidth\":0,\"ticks\":\"\"},\"colorscale\":[[0.0,\"#0d0887\"],[0.1111111111111111,\"#46039f\"],[0.2222222222222222,\"#7201a8\"],[0.3333333333333333,\"#9c179e\"],[0.4444444444444444,\"#bd3786\"],[0.5555555555555556,\"#d8576b\"],[0.6666666666666666,\"#ed7953\"],[0.7777777777777778,\"#fb9f3a\"],[0.8888888888888888,\"#fdca26\"],[1.0,\"#f0f921\"]],\"type\":\"contour\"}],\"contourcarpet\":[{\"colorbar\":{\"outlinewidth\":0,\"ticks\":\"\"},\"type\":\"contourcarpet\"}],\"heatmap\":[{\"colorbar\":{\"outlinewidth\":0,\"ticks\":\"\"},\"colorscale\":[[0.0,\"#0d0887\"],[0.1111111111111111,\"#46039f\"],[0.2222222222222222,\"#7201a8\"],[0.3333333333333333,\"#9c179e\"],[0.4444444444444444,\"#bd3786\"],[0.5555555555555556,\"#d8576b\"],[0.6666666666666666,\"#ed7953\"],[0.7777777777777778,\"#fb9f3a\"],[0.8888888888888888,\"#fdca26\"],[1.0,\"#f0f921\"]],\"type\":\"heatmap\"}],\"heatmapgl\":[{\"colorbar\":{\"outlinewidth\":0,\"ticks\":\"\"},\"colorscale\":[[0.0,\"#0d0887\"],[0.1111111111111111,\"#46039f\"],[0.2222222222222222,\"#7201a8\"],[0.3333333333333333,\"#9c179e\"],[0.4444444444444444,\"#bd3786\"],[0.5555555555555556,\"#d8576b\"],[0.6666666666666666,\"#ed7953\"],[0.7777777777777778,\"#fb9f3a\"],[0.8888888888888888,\"#fdca26\"],[1.0,\"#f0f921\"]],\"type\":\"heatmapgl\"}],\"histogram\":[{\"marker\":{\"pattern\":{\"fillmode\":\"overlay\",\"size\":10,\"solidity\":0.2}},\"type\":\"histogram\"}],\"histogram2d\":[{\"colorbar\":{\"outlinewidth\":0,\"ticks\":\"\"},\"colorscale\":[[0.0,\"#0d0887\"],[0.1111111111111111,\"#46039f\"],[0.2222222222222222,\"#7201a8\"],[0.3333333333333333,\"#9c179e\"],[0.4444444444444444,\"#bd3786\"],[0.5555555555555556,\"#d8576b\"],[0.6666666666666666,\"#ed7953\"],[0.7777777777777778,\"#fb9f3a\"],[0.8888888888888888,\"#fdca26\"],[1.0,\"#f0f921\"]],\"type\":\"histogram2d\"}],\"histogram2dcontour\":[{\"colorbar\":{\"outlinewidth\":0,\"ticks\":\"\"},\"colorscale\":[[0.0,\"#0d0887\"],[0.1111111111111111,\"#46039f\"],[0.2222222222222222,\"#7201a8\"],[0.3333333333333333,\"#9c179e\"],[0.4444444444444444,\"#bd3786\"],[0.5555555555555556,\"#d8576b\"],[0.6666666666666666,\"#ed7953\"],[0.7777777777777778,\"#fb9f3a\"],[0.8888888888888888,\"#fdca26\"],[1.0,\"#f0f921\"]],\"type\":\"histogram2dcontour\"}],\"mesh3d\":[{\"colorbar\":{\"outlinewidth\":0,\"ticks\":\"\"},\"type\":\"mesh3d\"}],\"parcoords\":[{\"line\":{\"colorbar\":{\"outlinewidth\":0,\"ticks\":\"\"}},\"type\":\"parcoords\"}],\"pie\":[{\"automargin\":true,\"type\":\"pie\"}],\"scatter\":[{\"marker\":{\"colorbar\":{\"outlinewidth\":0,\"ticks\":\"\"}},\"type\":\"scatter\"}],\"scatter3d\":[{\"line\":{\"colorbar\":{\"outlinewidth\":0,\"ticks\":\"\"}},\"marker\":{\"colorbar\":{\"outlinewidth\":0,\"ticks\":\"\"}},\"type\":\"scatter3d\"}],\"scattercarpet\":[{\"marker\":{\"colorbar\":{\"outlinewidth\":0,\"ticks\":\"\"}},\"type\":\"scattercarpet\"}],\"scattergeo\":[{\"marker\":{\"colorbar\":{\"outlinewidth\":0,\"ticks\":\"\"}},\"type\":\"scattergeo\"}],\"scattergl\":[{\"marker\":{\"colorbar\":{\"outlinewidth\":0,\"ticks\":\"\"}},\"type\":\"scattergl\"}],\"scattermapbox\":[{\"marker\":{\"colorbar\":{\"outlinewidth\":0,\"ticks\":\"\"}},\"type\":\"scattermapbox\"}],\"scatterpolar\":[{\"marker\":{\"colorbar\":{\"outlinewidth\":0,\"ticks\":\"\"}},\"type\":\"scatterpolar\"}],\"scatterpolargl\":[{\"marker\":{\"colorbar\":{\"outlinewidth\":0,\"ticks\":\"\"}},\"type\":\"scatterpolargl\"}],\"scatterternary\":[{\"marker\":{\"colorbar\":{\"outlinewidth\":0,\"ticks\":\"\"}},\"type\":\"scatterternary\"}],\"surface\":[{\"colorbar\":{\"outlinewidth\":0,\"ticks\":\"\"},\"colorscale\":[[0.0,\"#0d0887\"],[0.1111111111111111,\"#46039f\"],[0.2222222222222222,\"#7201a8\"],[0.3333333333333333,\"#9c179e\"],[0.4444444444444444,\"#bd3786\"],[0.5555555555555556,\"#d8576b\"],[0.6666666666666666,\"#ed7953\"],[0.7777777777777778,\"#fb9f3a\"],[0.8888888888888888,\"#fdca26\"],[1.0,\"#f0f921\"]],\"type\":\"surface\"}],\"table\":[{\"cells\":{\"fill\":{\"color\":\"#EBF0F8\"},\"line\":{\"color\":\"white\"}},\"header\":{\"fill\":{\"color\":\"#C8D4E3\"},\"line\":{\"color\":\"white\"}},\"type\":\"table\"}]},\"layout\":{\"annotationdefaults\":{\"arrowcolor\":\"#2a3f5f\",\"arrowhead\":0,\"arrowwidth\":1},\"autotypenumbers\":\"strict\",\"coloraxis\":{\"colorbar\":{\"outlinewidth\":0,\"ticks\":\"\"}},\"colorscale\":{\"diverging\":[[0,\"#8e0152\"],[0.1,\"#c51b7d\"],[0.2,\"#de77ae\"],[0.3,\"#f1b6da\"],[0.4,\"#fde0ef\"],[0.5,\"#f7f7f7\"],[0.6,\"#e6f5d0\"],[0.7,\"#b8e186\"],[0.8,\"#7fbc41\"],[0.9,\"#4d9221\"],[1,\"#276419\"]],\"sequential\":[[0.0,\"#0d0887\"],[0.1111111111111111,\"#46039f\"],[0.2222222222222222,\"#7201a8\"],[0.3333333333333333,\"#9c179e\"],[0.4444444444444444,\"#bd3786\"],[0.5555555555555556,\"#d8576b\"],[0.6666666666666666,\"#ed7953\"],[0.7777777777777778,\"#fb9f3a\"],[0.8888888888888888,\"#fdca26\"],[1.0,\"#f0f921\"]],\"sequentialminus\":[[0.0,\"#0d0887\"],[0.1111111111111111,\"#46039f\"],[0.2222222222222222,\"#7201a8\"],[0.3333333333333333,\"#9c179e\"],[0.4444444444444444,\"#bd3786\"],[0.5555555555555556,\"#d8576b\"],[0.6666666666666666,\"#ed7953\"],[0.7777777777777778,\"#fb9f3a\"],[0.8888888888888888,\"#fdca26\"],[1.0,\"#f0f921\"]]},\"colorway\":[\"#636efa\",\"#EF553B\",\"#00cc96\",\"#ab63fa\",\"#FFA15A\",\"#19d3f3\",\"#FF6692\",\"#B6E880\",\"#FF97FF\",\"#FECB52\"],\"font\":{\"color\":\"#2a3f5f\"},\"geo\":{\"bgcolor\":\"white\",\"lakecolor\":\"white\",\"landcolor\":\"#E5ECF6\",\"showlakes\":true,\"showland\":true,\"subunitcolor\":\"white\"},\"hoverlabel\":{\"align\":\"left\"},\"hovermode\":\"closest\",\"mapbox\":{\"style\":\"light\"},\"paper_bgcolor\":\"white\",\"plot_bgcolor\":\"#E5ECF6\",\"polar\":{\"angularaxis\":{\"gridcolor\":\"white\",\"linecolor\":\"white\",\"ticks\":\"\"},\"bgcolor\":\"#E5ECF6\",\"radialaxis\":{\"gridcolor\":\"white\",\"linecolor\":\"white\",\"ticks\":\"\"}},\"scene\":{\"xaxis\":{\"backgroundcolor\":\"#E5ECF6\",\"gridcolor\":\"white\",\"gridwidth\":2,\"linecolor\":\"white\",\"showbackground\":true,\"ticks\":\"\",\"zerolinecolor\":\"white\"},\"yaxis\":{\"backgroundcolor\":\"#E5ECF6\",\"gridcolor\":\"white\",\"gridwidth\":2,\"linecolor\":\"white\",\"showbackground\":true,\"ticks\":\"\",\"zerolinecolor\":\"white\"},\"zaxis\":{\"backgroundcolor\":\"#E5ECF6\",\"gridcolor\":\"white\",\"gridwidth\":2,\"linecolor\":\"white\",\"showbackground\":true,\"ticks\":\"\",\"zerolinecolor\":\"white\"}},\"shapedefaults\":{\"line\":{\"color\":\"#2a3f5f\"}},\"ternary\":{\"aaxis\":{\"gridcolor\":\"white\",\"linecolor\":\"white\",\"ticks\":\"\"},\"baxis\":{\"gridcolor\":\"white\",\"linecolor\":\"white\",\"ticks\":\"\"},\"bgcolor\":\"#E5ECF6\",\"caxis\":{\"gridcolor\":\"white\",\"linecolor\":\"white\",\"ticks\":\"\"}},\"title\":{\"x\":0.05},\"xaxis\":{\"automargin\":true,\"gridcolor\":\"white\",\"linecolor\":\"white\",\"ticks\":\"\",\"title\":{\"standoff\":15},\"zerolinecolor\":\"white\",\"zerolinewidth\":2},\"yaxis\":{\"automargin\":true,\"gridcolor\":\"white\",\"linecolor\":\"white\",\"ticks\":\"\",\"title\":{\"standoff\":15},\"zerolinecolor\":\"white\",\"zerolinewidth\":2}}},\"title\":{\"text\":\" proportions of chain and nonchain cafes\"}},                        {\"responsive\": true}                    ).then(function(){\n",
       "                            \n",
       "var gd = document.getElementById('2a98d588-16cb-4b1d-b740-1aecdabb458d');\n",
       "var x = new MutationObserver(function (mutations, observer) {{\n",
       "        var display = window.getComputedStyle(gd).display;\n",
       "        if (!display || display === 'none') {{\n",
       "            console.log([gd, 'removed!']);\n",
       "            Plotly.purge(gd);\n",
       "            observer.disconnect();\n",
       "        }}\n",
       "}});\n",
       "\n",
       "// Listen for the removal of the full notebook cells\n",
       "var notebookContainer = gd.closest('#notebook-container');\n",
       "if (notebookContainer) {{\n",
       "    x.observe(notebookContainer, {childList: true});\n",
       "}}\n",
       "\n",
       "// Listen for the clearing of the current output cell\n",
       "var outputEl = gd.closest('.output');\n",
       "if (outputEl) {{\n",
       "    x.observe(outputEl, {childList: true});\n",
       "}}\n",
       "\n",
       "                        })                };                });            </script>        </div>"
      ]
     },
     "metadata": {},
     "output_type": "display_data"
    }
   ],
   "source": [
    "# check prectage of the chained and not chained resturant. and after check it for cafe`s\n",
    "cafes = rest_data[rest_data[\"object_type\"]==\"Cafe\"]\n",
    "cafe_chain_option_count =[len(cafes[cafes[\"chain\"]==False]),len(cafes[cafes[\"chain\"]==True])]\n",
    "chain_option__cafe_df = pd.DataFrame({\"option\":chain_options,\"count\":cafe_chain_option_count})\n",
    "figure = px.pie(chain_option__cafe_df,values=\"count\",names=\"option\",title=\" proportions of chain and nonchain cafes\")\n",
    "figure.update_layout(legend_itemwidth=50,legend_font_size=16)\n",
    "figure.show()"
   ]
  },
  {
   "cell_type": "markdown",
   "id": "7f9b2b83",
   "metadata": {},
   "source": [
    "## Marketing Presentation: [link](https://drive.google.com/file/d/1ybwx5U5b-u_oUv1WjFy8r-cB-uJVILHP/view?usp=sharing)"
   ]
  },
  {
   "cell_type": "markdown",
   "id": "c77ab45d",
   "metadata": {},
   "source": [
    "### Conclusions "
   ]
  },
  {
   "cell_type": "markdown",
   "id": "9cee8710",
   "metadata": {},
   "source": [
    "To conclude those are our main conclusions:\n",
    "* According to our source – 4.51% of the establishments are cafés. We can notice that in not chained \n",
    "* 61.9% percent of the restaurants are not part of a chain. But in cafés the situation is different – 61.1% percent are part of a chain. Because of that is better to invest on a chain – is probably more trending and popular. \n",
    "* In Florence street there’s over 80 different restaurants, non of them are cafés. Great place to start our chain. there’s also  3 other streets that have over 60 restaurants but not cafés. After that we can extend our chain to more popular streets like Sunset Blvd.\n",
    "* The average number of seats in a general restaurant is 40, and In cafés the average number of seats is 25. So we want any restaurant of the chain to have around 20 seats to maximum of 40 seats."
   ]
  }
 ],
 "metadata": {
  "ExecuteTimeLog": [
   {
    "duration": 5,
    "start_time": "2021-08-27T11:50:29.510Z"
   },
   {
    "duration": 2537,
    "start_time": "2021-08-27T11:50:29.519Z"
   },
   {
    "duration": 1474,
    "start_time": "2021-08-27T11:50:30.585Z"
   },
   {
    "duration": 1473,
    "start_time": "2021-08-27T11:50:30.587Z"
   },
   {
    "duration": 1458,
    "start_time": "2021-08-27T11:50:30.603Z"
   },
   {
    "duration": 1458,
    "start_time": "2021-08-27T11:50:30.605Z"
   },
   {
    "duration": 1458,
    "start_time": "2021-08-27T11:50:30.607Z"
   },
   {
    "duration": 1457,
    "start_time": "2021-08-27T11:50:30.609Z"
   },
   {
    "duration": 1453,
    "start_time": "2021-08-27T11:50:30.614Z"
   },
   {
    "duration": 1452,
    "start_time": "2021-08-27T11:50:30.617Z"
   },
   {
    "duration": 1452,
    "start_time": "2021-08-27T11:50:30.618Z"
   },
   {
    "duration": 1448,
    "start_time": "2021-08-27T11:50:30.623Z"
   },
   {
    "duration": 1446,
    "start_time": "2021-08-27T11:50:30.626Z"
   },
   {
    "duration": 1442,
    "start_time": "2021-08-27T11:50:30.631Z"
   },
   {
    "duration": 1442,
    "start_time": "2021-08-27T11:50:30.632Z"
   },
   {
    "duration": 1440,
    "start_time": "2021-08-27T11:50:30.635Z"
   },
   {
    "duration": 1440,
    "start_time": "2021-08-27T11:50:30.636Z"
   },
   {
    "duration": 1439,
    "start_time": "2021-08-27T11:50:30.638Z"
   },
   {
    "duration": 39485,
    "start_time": "2021-08-27T11:51:21.160Z"
   },
   {
    "duration": 10655,
    "start_time": "2021-08-27T11:52:03.636Z"
   },
   {
    "duration": 1070,
    "start_time": "2021-08-27T11:52:14.294Z"
   },
   {
    "duration": 7,
    "start_time": "2021-08-27T11:52:15.367Z"
   },
   {
    "duration": 1814,
    "start_time": "2021-08-27T11:52:15.377Z"
   },
   {
    "duration": 10,
    "start_time": "2021-08-27T11:52:17.194Z"
   },
   {
    "duration": 2340,
    "start_time": "2021-08-27T11:52:17.208Z"
   },
   {
    "duration": 589,
    "start_time": "2021-08-27T11:52:19.551Z"
   },
   {
    "duration": 149,
    "start_time": "2021-08-27T11:52:20.142Z"
   },
   {
    "duration": 195,
    "start_time": "2021-08-27T11:52:20.296Z"
   },
   {
    "duration": 82,
    "start_time": "2021-08-27T11:52:20.495Z"
   },
   {
    "duration": 99,
    "start_time": "2021-08-27T11:52:20.580Z"
   },
   {
    "duration": 85,
    "start_time": "2021-08-27T11:52:20.681Z"
   },
   {
    "duration": 214,
    "start_time": "2021-08-27T11:52:20.768Z"
   },
   {
    "duration": 143,
    "start_time": "2021-08-27T11:52:20.984Z"
   },
   {
    "duration": 6,
    "start_time": "2021-08-27T11:52:21.129Z"
   },
   {
    "duration": 114,
    "start_time": "2021-08-27T11:52:21.137Z"
   },
   {
    "duration": 144,
    "start_time": "2021-08-27T11:52:21.255Z"
   },
   {
    "duration": 78,
    "start_time": "2021-08-27T11:52:21.402Z"
   },
   {
    "duration": 97,
    "start_time": "2021-08-27T14:27:40.099Z"
   },
   {
    "duration": 100,
    "start_time": "2021-08-27T14:27:54.218Z"
   },
   {
    "duration": 39929,
    "start_time": "2021-08-27T16:41:43.463Z"
   },
   {
    "duration": 1623,
    "start_time": "2021-08-27T16:42:23.395Z"
   },
   {
    "duration": 8,
    "start_time": "2021-08-27T16:42:25.021Z"
   },
   {
    "duration": 1648,
    "start_time": "2021-08-27T16:42:25.033Z"
   },
   {
    "duration": 10,
    "start_time": "2021-08-27T16:42:26.683Z"
   },
   {
    "duration": 3850,
    "start_time": "2021-08-27T16:42:26.696Z"
   },
   {
    "duration": 634,
    "start_time": "2021-08-27T16:42:30.549Z"
   },
   {
    "duration": 114,
    "start_time": "2021-08-27T16:42:31.187Z"
   },
   {
    "duration": 123,
    "start_time": "2021-08-27T16:42:31.360Z"
   },
   {
    "duration": 87,
    "start_time": "2021-08-27T16:42:31.485Z"
   },
   {
    "duration": 81,
    "start_time": "2021-08-27T16:42:31.575Z"
   },
   {
    "duration": 381,
    "start_time": "2021-08-27T16:42:31.659Z"
   },
   {
    "duration": 1223,
    "start_time": "2021-08-27T16:42:32.043Z"
   },
   {
    "duration": 153,
    "start_time": "2021-08-27T16:42:33.271Z"
   },
   {
    "duration": 5,
    "start_time": "2021-08-27T16:42:33.426Z"
   },
   {
    "duration": 127,
    "start_time": "2021-08-27T16:42:33.434Z"
   },
   {
    "duration": 148,
    "start_time": "2021-08-27T16:42:33.563Z"
   },
   {
    "duration": 92,
    "start_time": "2021-08-27T16:42:33.713Z"
   },
   {
    "duration": 11112,
    "start_time": "2021-08-27T16:49:01.506Z"
   },
   {
    "duration": 9672,
    "start_time": "2021-08-27T16:49:40.757Z"
   },
   {
    "duration": 10792,
    "start_time": "2021-08-27T16:50:13.522Z"
   },
   {
    "duration": 102,
    "start_time": "2021-08-27T16:50:24.318Z"
   },
   {
    "duration": 28,
    "start_time": "2021-08-27T17:04:42.654Z"
   },
   {
    "duration": 8,
    "start_time": "2021-08-27T17:34:39.875Z"
   },
   {
    "duration": 28,
    "start_time": "2021-08-27T17:34:45.376Z"
   },
   {
    "duration": 27,
    "start_time": "2021-08-27T18:10:04.913Z"
   },
   {
    "duration": 51,
    "start_time": "2021-08-27T18:10:29.646Z"
   },
   {
    "duration": 26,
    "start_time": "2021-08-27T18:11:46.488Z"
   },
   {
    "duration": 40,
    "start_time": "2021-08-27T18:12:46.799Z"
   },
   {
    "duration": 13,
    "start_time": "2021-08-27T18:13:32.506Z"
   },
   {
    "duration": 457,
    "start_time": "2021-08-27T18:13:43.134Z"
   },
   {
    "duration": 51,
    "start_time": "2021-08-27T18:13:50.906Z"
   },
   {
    "duration": 35,
    "start_time": "2021-08-27T18:14:31.993Z"
   },
   {
    "duration": 28,
    "start_time": "2021-08-27T18:14:39.644Z"
   },
   {
    "duration": 25,
    "start_time": "2021-08-27T23:12:12.387Z"
   },
   {
    "duration": 19,
    "start_time": "2021-08-27T23:12:32.735Z"
   },
   {
    "duration": 38,
    "start_time": "2021-08-27T23:12:39.420Z"
   },
   {
    "duration": 100,
    "start_time": "2021-08-27T23:24:29.404Z"
   },
   {
    "duration": 24291,
    "start_time": "2021-08-28T00:07:30.806Z"
   },
   {
    "duration": 747,
    "start_time": "2021-08-28T00:07:55.099Z"
   },
   {
    "duration": 4,
    "start_time": "2021-08-28T00:07:55.848Z"
   },
   {
    "duration": 610,
    "start_time": "2021-08-28T00:07:55.854Z"
   },
   {
    "duration": 6,
    "start_time": "2021-08-28T00:07:56.466Z"
   },
   {
    "duration": 1325,
    "start_time": "2021-08-28T00:07:56.474Z"
   },
   {
    "duration": 389,
    "start_time": "2021-08-28T00:07:57.801Z"
   },
   {
    "duration": 70,
    "start_time": "2021-08-28T00:07:58.192Z"
   },
   {
    "duration": 95,
    "start_time": "2021-08-28T00:07:58.264Z"
   },
   {
    "duration": 19,
    "start_time": "2021-08-28T00:07:58.361Z"
   },
   {
    "duration": 91,
    "start_time": "2021-08-28T00:07:58.382Z"
   },
   {
    "duration": 89,
    "start_time": "2021-08-28T00:07:58.475Z"
   },
   {
    "duration": 165,
    "start_time": "2021-08-28T00:07:58.566Z"
   },
   {
    "duration": 76,
    "start_time": "2021-08-28T00:07:58.740Z"
   },
   {
    "duration": 4,
    "start_time": "2021-08-28T00:07:58.818Z"
   },
   {
    "duration": 58,
    "start_time": "2021-08-28T00:07:58.841Z"
   },
   {
    "duration": 104,
    "start_time": "2021-08-28T00:07:58.901Z"
   },
   {
    "duration": 60,
    "start_time": "2021-08-28T00:07:59.007Z"
   },
   {
    "duration": 31746,
    "start_time": "2021-08-28T17:38:12.945Z"
   },
   {
    "duration": 1049,
    "start_time": "2021-08-28T17:38:44.694Z"
   },
   {
    "duration": 6,
    "start_time": "2021-08-28T17:38:45.746Z"
   },
   {
    "duration": 753,
    "start_time": "2021-08-28T17:38:45.754Z"
   },
   {
    "duration": 8,
    "start_time": "2021-08-28T17:38:46.510Z"
   },
   {
    "duration": 2230,
    "start_time": "2021-08-28T17:38:46.521Z"
   },
   {
    "duration": 560,
    "start_time": "2021-08-28T17:38:48.754Z"
   },
   {
    "duration": 104,
    "start_time": "2021-08-28T17:38:49.318Z"
   },
   {
    "duration": 886,
    "start_time": "2021-08-28T17:38:49.425Z"
   },
   {
    "duration": 509,
    "start_time": "2021-08-28T17:38:50.314Z"
   },
   {
    "duration": 1130,
    "start_time": "2021-08-28T17:38:50.825Z"
   },
   {
    "duration": 1380,
    "start_time": "2021-08-28T17:38:51.957Z"
   },
   {
    "duration": 267,
    "start_time": "2021-08-28T17:38:53.339Z"
   },
   {
    "duration": 131,
    "start_time": "2021-08-28T17:38:53.608Z"
   },
   {
    "duration": 5,
    "start_time": "2021-08-28T17:38:53.741Z"
   },
   {
    "duration": 109,
    "start_time": "2021-08-28T17:38:53.748Z"
   },
   {
    "duration": 144,
    "start_time": "2021-08-28T17:38:53.860Z"
   },
   {
    "duration": 80,
    "start_time": "2021-08-28T17:38:54.006Z"
   },
   {
    "duration": 74,
    "start_time": "2021-08-28T17:41:50.401Z"
   },
   {
    "duration": 70,
    "start_time": "2021-08-28T17:45:19.457Z"
   },
   {
    "duration": 347,
    "start_time": "2021-08-29T13:16:06.652Z"
   },
   {
    "duration": 31025,
    "start_time": "2021-08-29T13:16:16.576Z"
   },
   {
    "duration": 978,
    "start_time": "2021-08-29T13:16:47.603Z"
   },
   {
    "duration": 6,
    "start_time": "2021-08-29T13:16:48.584Z"
   },
   {
    "duration": 896,
    "start_time": "2021-08-29T13:16:48.593Z"
   },
   {
    "duration": 8,
    "start_time": "2021-08-29T13:16:49.492Z"
   },
   {
    "duration": 1966,
    "start_time": "2021-08-29T13:16:49.503Z"
   },
   {
    "duration": 554,
    "start_time": "2021-08-29T13:16:51.472Z"
   },
   {
    "duration": 57,
    "start_time": "2021-08-29T13:16:52.029Z"
   },
   {
    "duration": 124,
    "start_time": "2021-08-29T13:16:52.141Z"
   },
   {
    "duration": 25,
    "start_time": "2021-08-29T13:16:52.267Z"
   },
   {
    "duration": 1138,
    "start_time": "2021-08-29T13:16:52.295Z"
   },
   {
    "duration": 286,
    "start_time": "2021-08-29T13:16:53.436Z"
   },
   {
    "duration": 538,
    "start_time": "2021-08-29T13:16:53.725Z"
   },
   {
    "duration": 665,
    "start_time": "2021-08-29T13:16:54.266Z"
   },
   {
    "duration": 803,
    "start_time": "2021-08-29T13:16:54.933Z"
   },
   {
    "duration": 1139,
    "start_time": "2021-08-29T13:16:55.739Z"
   },
   {
    "duration": 375,
    "start_time": "2021-08-29T13:16:56.881Z"
   },
   {
    "duration": 419,
    "start_time": "2021-08-29T13:16:57.259Z"
   },
   {
    "duration": 1634,
    "start_time": "2021-08-29T13:22:43.266Z"
   },
   {
    "duration": 22,
    "start_time": "2021-08-29T13:23:27.356Z"
   },
   {
    "duration": 17,
    "start_time": "2021-08-29T13:23:59.851Z"
   },
   {
    "duration": 23,
    "start_time": "2021-08-29T13:24:21.691Z"
   },
   {
    "duration": 137,
    "start_time": "2021-08-29T13:32:31.088Z"
   },
   {
    "duration": 326,
    "start_time": "2021-08-29T13:32:37.552Z"
   },
   {
    "duration": 127,
    "start_time": "2021-08-29T13:32:57.250Z"
   },
   {
    "duration": 136,
    "start_time": "2021-08-29T13:33:33.444Z"
   },
   {
    "duration": 347,
    "start_time": "2021-08-29T13:33:39.313Z"
   },
   {
    "duration": 80,
    "start_time": "2021-08-29T13:43:17.691Z"
   },
   {
    "duration": 105,
    "start_time": "2021-08-29T13:57:35.409Z"
   },
   {
    "duration": 106,
    "start_time": "2021-08-29T13:58:26.811Z"
   },
   {
    "duration": 78,
    "start_time": "2021-08-29T13:58:40.985Z"
   },
   {
    "duration": 82,
    "start_time": "2021-08-29T13:59:10.653Z"
   },
   {
    "duration": 109,
    "start_time": "2021-08-29T13:59:44.576Z"
   },
   {
    "duration": 363,
    "start_time": "2021-08-29T13:59:53.461Z"
   },
   {
    "duration": 84,
    "start_time": "2021-08-29T14:00:37.558Z"
   },
   {
    "duration": 82,
    "start_time": "2021-08-29T14:00:59.772Z"
   },
   {
    "duration": 85,
    "start_time": "2021-08-29T14:01:44.443Z"
   },
   {
    "duration": 86,
    "start_time": "2021-08-29T14:24:38.449Z"
   },
   {
    "duration": 89,
    "start_time": "2021-08-29T14:24:57.114Z"
   },
   {
    "duration": 90,
    "start_time": "2021-08-29T14:26:05.333Z"
   },
   {
    "duration": 87,
    "start_time": "2021-08-29T14:26:39.107Z"
   },
   {
    "duration": 103,
    "start_time": "2021-08-29T14:29:29.638Z"
   },
   {
    "duration": 320,
    "start_time": "2021-08-29T14:30:23.124Z"
   },
   {
    "duration": 103,
    "start_time": "2021-08-29T14:30:46.054Z"
   },
   {
    "duration": 109,
    "start_time": "2021-08-29T14:31:15.131Z"
   },
   {
    "duration": 105,
    "start_time": "2021-08-29T14:31:21.885Z"
   },
   {
    "duration": 104,
    "start_time": "2021-08-29T14:36:32.892Z"
   },
   {
    "duration": 138,
    "start_time": "2021-08-29T14:45:10.584Z"
   },
   {
    "duration": 96,
    "start_time": "2021-08-29T14:48:41.436Z"
   },
   {
    "duration": 99,
    "start_time": "2021-08-29T14:51:20.496Z"
   },
   {
    "duration": 108,
    "start_time": "2021-08-29T14:52:10.772Z"
   },
   {
    "duration": 105,
    "start_time": "2021-08-29T14:52:40.672Z"
   },
   {
    "duration": 26177,
    "start_time": "2021-08-29T18:01:08.006Z"
   },
   {
    "duration": 868,
    "start_time": "2021-08-29T18:01:34.186Z"
   },
   {
    "duration": 4,
    "start_time": "2021-08-29T18:01:35.056Z"
   },
   {
    "duration": 662,
    "start_time": "2021-08-29T18:01:35.062Z"
   },
   {
    "duration": 6,
    "start_time": "2021-08-29T18:01:35.726Z"
   },
   {
    "duration": 1432,
    "start_time": "2021-08-29T18:01:35.733Z"
   },
   {
    "duration": 427,
    "start_time": "2021-08-29T18:01:37.167Z"
   },
   {
    "duration": 47,
    "start_time": "2021-08-29T18:01:37.597Z"
   },
   {
    "duration": 172,
    "start_time": "2021-08-29T18:01:37.646Z"
   },
   {
    "duration": 25,
    "start_time": "2021-08-29T18:01:37.820Z"
   },
   {
    "duration": 86,
    "start_time": "2021-08-29T18:01:37.847Z"
   },
   {
    "duration": 40,
    "start_time": "2021-08-29T18:01:37.935Z"
   },
   {
    "duration": 187,
    "start_time": "2021-08-29T18:01:37.977Z"
   },
   {
    "duration": 86,
    "start_time": "2021-08-29T18:01:38.165Z"
   },
   {
    "duration": 96,
    "start_time": "2021-08-29T18:01:38.253Z"
   },
   {
    "duration": 4,
    "start_time": "2021-08-29T18:01:38.351Z"
   },
   {
    "duration": 93,
    "start_time": "2021-08-29T18:01:38.357Z"
   },
   {
    "duration": 107,
    "start_time": "2021-08-29T18:01:38.452Z"
   },
   {
    "duration": 56,
    "start_time": "2021-08-29T18:01:38.560Z"
   },
   {
    "duration": 82,
    "start_time": "2021-08-29T18:45:09.141Z"
   },
   {
    "duration": 349,
    "start_time": "2021-08-29T19:47:18.261Z"
   },
   {
    "duration": 40322,
    "start_time": "2021-08-29T19:47:32.770Z"
   },
   {
    "duration": 1294,
    "start_time": "2021-08-29T19:48:13.095Z"
   },
   {
    "duration": 6,
    "start_time": "2021-08-29T19:48:14.392Z"
   },
   {
    "duration": 747,
    "start_time": "2021-08-29T19:48:14.401Z"
   },
   {
    "duration": 17,
    "start_time": "2021-08-29T19:48:15.151Z"
   },
   {
    "duration": 2283,
    "start_time": "2021-08-29T19:48:15.171Z"
   },
   {
    "duration": 538,
    "start_time": "2021-08-29T19:48:17.461Z"
   },
   {
    "duration": 99,
    "start_time": "2021-08-29T19:48:18.003Z"
   },
   {
    "duration": 278,
    "start_time": "2021-08-29T19:48:18.105Z"
   },
   {
    "duration": 39,
    "start_time": "2021-08-29T19:48:18.385Z"
   },
   {
    "duration": 1922,
    "start_time": "2021-08-29T19:48:18.427Z"
   },
   {
    "duration": 496,
    "start_time": "2021-08-29T19:48:20.352Z"
   },
   {
    "duration": 1835,
    "start_time": "2021-08-29T19:48:20.850Z"
   },
   {
    "duration": -5538,
    "start_time": "2021-08-29T19:48:28.227Z"
   },
   {
    "duration": -5544,
    "start_time": "2021-08-29T19:48:28.235Z"
   },
   {
    "duration": -5564,
    "start_time": "2021-08-29T19:48:28.257Z"
   },
   {
    "duration": -5568,
    "start_time": "2021-08-29T19:48:28.263Z"
   },
   {
    "duration": -5570,
    "start_time": "2021-08-29T19:48:28.267Z"
   },
   {
    "duration": -5578,
    "start_time": "2021-08-29T19:48:28.276Z"
   },
   {
    "duration": 252,
    "start_time": "2021-08-29T19:48:53.294Z"
   },
   {
    "duration": 7106,
    "start_time": "2021-08-29T21:41:13.464Z"
   },
   {
    "duration": 1327,
    "start_time": "2021-08-29T21:41:20.572Z"
   },
   {
    "duration": 5,
    "start_time": "2021-08-29T21:41:21.901Z"
   },
   {
    "duration": 592,
    "start_time": "2021-08-29T21:41:21.908Z"
   },
   {
    "duration": 8,
    "start_time": "2021-08-29T21:41:22.502Z"
   },
   {
    "duration": 1531,
    "start_time": "2021-08-29T21:41:22.512Z"
   },
   {
    "duration": 392,
    "start_time": "2021-08-29T21:41:24.045Z"
   },
   {
    "duration": 80,
    "start_time": "2021-08-29T21:41:24.439Z"
   },
   {
    "duration": 189,
    "start_time": "2021-08-29T21:41:24.521Z"
   },
   {
    "duration": 25,
    "start_time": "2021-08-29T21:41:24.712Z"
   },
   {
    "duration": 72,
    "start_time": "2021-08-29T21:41:24.740Z"
   },
   {
    "duration": 38,
    "start_time": "2021-08-29T21:41:24.814Z"
   },
   {
    "duration": 165,
    "start_time": "2021-08-29T21:41:24.854Z"
   },
   {
    "duration": 104,
    "start_time": "2021-08-29T21:41:25.021Z"
   },
   {
    "duration": 93,
    "start_time": "2021-08-29T21:41:25.127Z"
   },
   {
    "duration": 5,
    "start_time": "2021-08-29T21:41:25.223Z"
   },
   {
    "duration": 72,
    "start_time": "2021-08-29T21:41:25.229Z"
   },
   {
    "duration": 109,
    "start_time": "2021-08-29T21:41:25.303Z"
   },
   {
    "duration": 49,
    "start_time": "2021-08-29T21:41:25.414Z"
   }
  ],
  "kernelspec": {
   "display_name": "Python 3 (ipykernel)",
   "language": "python",
   "name": "python3"
  },
  "language_info": {
   "codemirror_mode": {
    "name": "ipython",
    "version": 3
   },
   "file_extension": ".py",
   "mimetype": "text/x-python",
   "name": "python",
   "nbconvert_exporter": "python",
   "pygments_lexer": "ipython3",
   "version": "3.9.6"
  },
  "toc": {
   "base_numbering": 1,
   "nav_menu": {},
   "number_sections": true,
   "sideBar": true,
   "skip_h1_title": true,
   "title_cell": "Table of Contents",
   "title_sidebar": "Contents",
   "toc_cell": false,
   "toc_position": {},
   "toc_section_display": true,
   "toc_window_display": false
  },
  "varInspector": {
   "cols": {
    "lenName": 16,
    "lenType": 16,
    "lenVar": 40
   },
   "kernels_config": {
    "python": {
     "delete_cmd_postfix": "",
     "delete_cmd_prefix": "del ",
     "library": "var_list.py",
     "varRefreshCmd": "print(var_dic_list())"
    },
    "r": {
     "delete_cmd_postfix": ") ",
     "delete_cmd_prefix": "rm(",
     "library": "var_list.r",
     "varRefreshCmd": "cat(var_dic_list()) "
    }
   },
   "types_to_exclude": [
    "module",
    "function",
    "builtin_function_or_method",
    "instance",
    "_Feature"
   ],
   "window_display": false
  }
 },
 "nbformat": 4,
 "nbformat_minor": 5
}
