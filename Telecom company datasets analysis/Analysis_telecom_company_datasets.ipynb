{
 "cells": [
  {
   "cell_type": "markdown",
   "metadata": {},
   "source": [
    "# Project - Analysis of telecom compant datasets  "
   ]
  },
  {
   "cell_type": "markdown",
   "metadata": {},
   "source": [
    "## Project Description  "
   ]
  },
  {
   "cell_type": "markdown",
   "metadata": {},
   "source": [
    "We work as an analysts for the telecom operator Megaline. The company\n",
    "offers its clients two prepaid plans, Surf and Ultimate. \n",
    "The commercial department wants to know which of the plans brings in more revenue in order\n",
    "to adjust the advertising budget.\n",
    "\n",
    "We are going to carry out a preliminary analysis of the plans based on a\n",
    "relatively small client selection. You'll have the data on 500 Megaline clients:\n",
    "who the clients are, where they're from, which plan they use, and the number\n",
    "of calls they made and text messages they sent in 2018. Our job is to analyze\n",
    "clients' behavior and determine which prepaid plan brings in more revenue.\n",
    "\n",
    "**datasets:**\n",
    "1. megaline_calls.csv [Download dataset](https://code.s3.yandex.net/datasets/megaline_calls.csv)  \n",
    "2. megaline_internet.csv [Download dataset](https://code.s3.yandex.net/datasets/megaline_internet.csv)\n",
    "3. megaline_messages.csv [Download dataset](https://code.s3.yandex.net/datasets/megaline_messages.csv)\n",
    "4. /datasets/megaline_plans.csv [Download dataset](https://code.s3.yandex.net/datasets/megaline_plans.csv)\n",
    "5. /datasets/megaline_users.csv [Download dataset](https://code.s3.yandex.net/datasets/megaline_users.csv)"
   ]
  },
  {
   "cell_type": "markdown",
   "metadata": {},
   "source": [
    "## Part 1 - Open the data file and study the general information"
   ]
  },
  {
   "cell_type": "markdown",
   "metadata": {},
   "source": [
    "**Import Packages:**"
   ]
  },
  {
   "cell_type": "code",
   "execution_count": 3,
   "metadata": {},
   "outputs": [],
   "source": [
    "import pandas as pd\n",
    "import matplotlib.pyplot as plt\n",
    "import re\n",
    "import numpy as np\n",
    "from scipy import stats as st\n",
    "import math"
   ]
  },
  {
   "cell_type": "code",
   "execution_count": 4,
   "metadata": {},
   "outputs": [
    {
     "name": "stdout",
     "output_type": "stream",
     "text": [
      "_________megaline_calls table examination:_________\n",
      "\n",
      "1. Info:\n",
      "<class 'pandas.core.frame.DataFrame'>\n",
      "RangeIndex: 137735 entries, 0 to 137734\n",
      "Data columns (total 4 columns):\n",
      " #   Column     Non-Null Count   Dtype  \n",
      "---  ------     --------------   -----  \n",
      " 0   id         137735 non-null  object \n",
      " 1   user_id    137735 non-null  int64  \n",
      " 2   call_date  137735 non-null  object \n",
      " 3   duration   137735 non-null  float64\n",
      "dtypes: float64(1), int64(1), object(2)\n",
      "memory usage: 4.2+ MB\n",
      "\n",
      "2. Display table:\n"
     ]
    },
    {
     "data": {
      "text/html": [
       "<div>\n",
       "<style scoped>\n",
       "    .dataframe tbody tr th:only-of-type {\n",
       "        vertical-align: middle;\n",
       "    }\n",
       "\n",
       "    .dataframe tbody tr th {\n",
       "        vertical-align: top;\n",
       "    }\n",
       "\n",
       "    .dataframe thead th {\n",
       "        text-align: right;\n",
       "    }\n",
       "</style>\n",
       "<table border=\"1\" class=\"dataframe\">\n",
       "  <thead>\n",
       "    <tr style=\"text-align: right;\">\n",
       "      <th></th>\n",
       "      <th>id</th>\n",
       "      <th>user_id</th>\n",
       "      <th>call_date</th>\n",
       "      <th>duration</th>\n",
       "    </tr>\n",
       "  </thead>\n",
       "  <tbody>\n",
       "    <tr>\n",
       "      <th>0</th>\n",
       "      <td>1000_93</td>\n",
       "      <td>1000</td>\n",
       "      <td>2018-12-27</td>\n",
       "      <td>8.52</td>\n",
       "    </tr>\n",
       "    <tr>\n",
       "      <th>1</th>\n",
       "      <td>1000_145</td>\n",
       "      <td>1000</td>\n",
       "      <td>2018-12-27</td>\n",
       "      <td>13.66</td>\n",
       "    </tr>\n",
       "    <tr>\n",
       "      <th>2</th>\n",
       "      <td>1000_247</td>\n",
       "      <td>1000</td>\n",
       "      <td>2018-12-27</td>\n",
       "      <td>14.48</td>\n",
       "    </tr>\n",
       "    <tr>\n",
       "      <th>3</th>\n",
       "      <td>1000_309</td>\n",
       "      <td>1000</td>\n",
       "      <td>2018-12-28</td>\n",
       "      <td>5.76</td>\n",
       "    </tr>\n",
       "    <tr>\n",
       "      <th>4</th>\n",
       "      <td>1000_380</td>\n",
       "      <td>1000</td>\n",
       "      <td>2018-12-30</td>\n",
       "      <td>4.22</td>\n",
       "    </tr>\n",
       "  </tbody>\n",
       "</table>\n",
       "</div>"
      ],
      "text/plain": [
       "         id  user_id   call_date  duration\n",
       "0   1000_93     1000  2018-12-27      8.52\n",
       "1  1000_145     1000  2018-12-27     13.66\n",
       "2  1000_247     1000  2018-12-27     14.48\n",
       "3  1000_309     1000  2018-12-28      5.76\n",
       "4  1000_380     1000  2018-12-30      4.22"
      ]
     },
     "metadata": {},
     "output_type": "display_data"
    },
    {
     "name": "stdout",
     "output_type": "stream",
     "text": [
      "\n",
      "3. Check missing values:\n",
      "\n",
      "           missing_values  % of total\n",
      "id                      0         0.0\n",
      "user_id                 0         0.0\n",
      "call_date               0         0.0\n",
      "duration                0         0.0 \n",
      "\n",
      "\n",
      "4. Check duplicates:\n",
      "No duplicated detected \n",
      "\n",
      "_________megaline_internet table examination:_________\n",
      "\n",
      "1. Info:\n",
      "<class 'pandas.core.frame.DataFrame'>\n",
      "RangeIndex: 104825 entries, 0 to 104824\n",
      "Data columns (total 4 columns):\n",
      " #   Column        Non-Null Count   Dtype  \n",
      "---  ------        --------------   -----  \n",
      " 0   id            104825 non-null  object \n",
      " 1   user_id       104825 non-null  int64  \n",
      " 2   session_date  104825 non-null  object \n",
      " 3   mb_used       104825 non-null  float64\n",
      "dtypes: float64(1), int64(1), object(2)\n",
      "memory usage: 3.2+ MB\n",
      "\n",
      "2. Display table:\n"
     ]
    },
    {
     "data": {
      "text/html": [
       "<div>\n",
       "<style scoped>\n",
       "    .dataframe tbody tr th:only-of-type {\n",
       "        vertical-align: middle;\n",
       "    }\n",
       "\n",
       "    .dataframe tbody tr th {\n",
       "        vertical-align: top;\n",
       "    }\n",
       "\n",
       "    .dataframe thead th {\n",
       "        text-align: right;\n",
       "    }\n",
       "</style>\n",
       "<table border=\"1\" class=\"dataframe\">\n",
       "  <thead>\n",
       "    <tr style=\"text-align: right;\">\n",
       "      <th></th>\n",
       "      <th>id</th>\n",
       "      <th>user_id</th>\n",
       "      <th>session_date</th>\n",
       "      <th>mb_used</th>\n",
       "    </tr>\n",
       "  </thead>\n",
       "  <tbody>\n",
       "    <tr>\n",
       "      <th>0</th>\n",
       "      <td>1000_13</td>\n",
       "      <td>1000</td>\n",
       "      <td>2018-12-29</td>\n",
       "      <td>89.86</td>\n",
       "    </tr>\n",
       "    <tr>\n",
       "      <th>1</th>\n",
       "      <td>1000_204</td>\n",
       "      <td>1000</td>\n",
       "      <td>2018-12-31</td>\n",
       "      <td>0.00</td>\n",
       "    </tr>\n",
       "    <tr>\n",
       "      <th>2</th>\n",
       "      <td>1000_379</td>\n",
       "      <td>1000</td>\n",
       "      <td>2018-12-28</td>\n",
       "      <td>660.40</td>\n",
       "    </tr>\n",
       "    <tr>\n",
       "      <th>3</th>\n",
       "      <td>1000_413</td>\n",
       "      <td>1000</td>\n",
       "      <td>2018-12-26</td>\n",
       "      <td>270.99</td>\n",
       "    </tr>\n",
       "    <tr>\n",
       "      <th>4</th>\n",
       "      <td>1000_442</td>\n",
       "      <td>1000</td>\n",
       "      <td>2018-12-27</td>\n",
       "      <td>880.22</td>\n",
       "    </tr>\n",
       "  </tbody>\n",
       "</table>\n",
       "</div>"
      ],
      "text/plain": [
       "         id  user_id session_date  mb_used\n",
       "0   1000_13     1000   2018-12-29    89.86\n",
       "1  1000_204     1000   2018-12-31     0.00\n",
       "2  1000_379     1000   2018-12-28   660.40\n",
       "3  1000_413     1000   2018-12-26   270.99\n",
       "4  1000_442     1000   2018-12-27   880.22"
      ]
     },
     "metadata": {},
     "output_type": "display_data"
    },
    {
     "name": "stdout",
     "output_type": "stream",
     "text": [
      "\n",
      "3. Check missing values:\n",
      "\n",
      "              missing_values  % of total\n",
      "id                         0         0.0\n",
      "user_id                    0         0.0\n",
      "session_date               0         0.0\n",
      "mb_used                    0         0.0 \n",
      "\n",
      "\n",
      "4. Check duplicates:\n",
      "No duplicated detected \n",
      "\n",
      "_________megaline_messages table examination:_________\n",
      "\n",
      "1. Info:\n",
      "<class 'pandas.core.frame.DataFrame'>\n",
      "RangeIndex: 76051 entries, 0 to 76050\n",
      "Data columns (total 3 columns):\n",
      " #   Column        Non-Null Count  Dtype \n",
      "---  ------        --------------  ----- \n",
      " 0   id            76051 non-null  object\n",
      " 1   user_id       76051 non-null  int64 \n",
      " 2   message_date  76051 non-null  object\n",
      "dtypes: int64(1), object(2)\n",
      "memory usage: 1.7+ MB\n",
      "\n",
      "2. Display table:\n"
     ]
    },
    {
     "data": {
      "text/html": [
       "<div>\n",
       "<style scoped>\n",
       "    .dataframe tbody tr th:only-of-type {\n",
       "        vertical-align: middle;\n",
       "    }\n",
       "\n",
       "    .dataframe tbody tr th {\n",
       "        vertical-align: top;\n",
       "    }\n",
       "\n",
       "    .dataframe thead th {\n",
       "        text-align: right;\n",
       "    }\n",
       "</style>\n",
       "<table border=\"1\" class=\"dataframe\">\n",
       "  <thead>\n",
       "    <tr style=\"text-align: right;\">\n",
       "      <th></th>\n",
       "      <th>id</th>\n",
       "      <th>user_id</th>\n",
       "      <th>message_date</th>\n",
       "    </tr>\n",
       "  </thead>\n",
       "  <tbody>\n",
       "    <tr>\n",
       "      <th>0</th>\n",
       "      <td>1000_125</td>\n",
       "      <td>1000</td>\n",
       "      <td>2018-12-27</td>\n",
       "    </tr>\n",
       "    <tr>\n",
       "      <th>1</th>\n",
       "      <td>1000_160</td>\n",
       "      <td>1000</td>\n",
       "      <td>2018-12-31</td>\n",
       "    </tr>\n",
       "    <tr>\n",
       "      <th>2</th>\n",
       "      <td>1000_223</td>\n",
       "      <td>1000</td>\n",
       "      <td>2018-12-31</td>\n",
       "    </tr>\n",
       "    <tr>\n",
       "      <th>3</th>\n",
       "      <td>1000_251</td>\n",
       "      <td>1000</td>\n",
       "      <td>2018-12-27</td>\n",
       "    </tr>\n",
       "    <tr>\n",
       "      <th>4</th>\n",
       "      <td>1000_255</td>\n",
       "      <td>1000</td>\n",
       "      <td>2018-12-26</td>\n",
       "    </tr>\n",
       "  </tbody>\n",
       "</table>\n",
       "</div>"
      ],
      "text/plain": [
       "         id  user_id message_date\n",
       "0  1000_125     1000   2018-12-27\n",
       "1  1000_160     1000   2018-12-31\n",
       "2  1000_223     1000   2018-12-31\n",
       "3  1000_251     1000   2018-12-27\n",
       "4  1000_255     1000   2018-12-26"
      ]
     },
     "metadata": {},
     "output_type": "display_data"
    },
    {
     "name": "stdout",
     "output_type": "stream",
     "text": [
      "\n",
      "3. Check missing values:\n",
      "\n",
      "              missing_values  % of total\n",
      "id                         0         0.0\n",
      "user_id                    0         0.0\n",
      "message_date               0         0.0 \n",
      "\n",
      "\n",
      "4. Check duplicates:\n",
      "No duplicated detected \n",
      "\n",
      "_________megaline_plans table examination:_________\n",
      "\n",
      "1. Info:\n",
      "<class 'pandas.core.frame.DataFrame'>\n",
      "RangeIndex: 2 entries, 0 to 1\n",
      "Data columns (total 8 columns):\n",
      " #   Column                 Non-Null Count  Dtype  \n",
      "---  ------                 --------------  -----  \n",
      " 0   messages_included      2 non-null      int64  \n",
      " 1   mb_per_month_included  2 non-null      int64  \n",
      " 2   minutes_included       2 non-null      int64  \n",
      " 3   usd_monthly_pay        2 non-null      int64  \n",
      " 4   usd_per_gb             2 non-null      int64  \n",
      " 5   usd_per_message        2 non-null      float64\n",
      " 6   usd_per_minute         2 non-null      float64\n",
      " 7   plan_name              2 non-null      object \n",
      "dtypes: float64(2), int64(5), object(1)\n",
      "memory usage: 256.0+ bytes\n",
      "\n",
      "2. Display table:\n"
     ]
    },
    {
     "data": {
      "text/html": [
       "<div>\n",
       "<style scoped>\n",
       "    .dataframe tbody tr th:only-of-type {\n",
       "        vertical-align: middle;\n",
       "    }\n",
       "\n",
       "    .dataframe tbody tr th {\n",
       "        vertical-align: top;\n",
       "    }\n",
       "\n",
       "    .dataframe thead th {\n",
       "        text-align: right;\n",
       "    }\n",
       "</style>\n",
       "<table border=\"1\" class=\"dataframe\">\n",
       "  <thead>\n",
       "    <tr style=\"text-align: right;\">\n",
       "      <th></th>\n",
       "      <th>messages_included</th>\n",
       "      <th>mb_per_month_included</th>\n",
       "      <th>minutes_included</th>\n",
       "      <th>usd_monthly_pay</th>\n",
       "      <th>usd_per_gb</th>\n",
       "      <th>usd_per_message</th>\n",
       "      <th>usd_per_minute</th>\n",
       "      <th>plan_name</th>\n",
       "    </tr>\n",
       "  </thead>\n",
       "  <tbody>\n",
       "    <tr>\n",
       "      <th>0</th>\n",
       "      <td>50</td>\n",
       "      <td>15360</td>\n",
       "      <td>500</td>\n",
       "      <td>20</td>\n",
       "      <td>10</td>\n",
       "      <td>0.03</td>\n",
       "      <td>0.03</td>\n",
       "      <td>surf</td>\n",
       "    </tr>\n",
       "    <tr>\n",
       "      <th>1</th>\n",
       "      <td>1000</td>\n",
       "      <td>30720</td>\n",
       "      <td>3000</td>\n",
       "      <td>70</td>\n",
       "      <td>7</td>\n",
       "      <td>0.01</td>\n",
       "      <td>0.01</td>\n",
       "      <td>ultimate</td>\n",
       "    </tr>\n",
       "  </tbody>\n",
       "</table>\n",
       "</div>"
      ],
      "text/plain": [
       "   messages_included  mb_per_month_included  minutes_included  \\\n",
       "0                 50                  15360               500   \n",
       "1               1000                  30720              3000   \n",
       "\n",
       "   usd_monthly_pay  usd_per_gb  usd_per_message  usd_per_minute plan_name  \n",
       "0               20          10             0.03            0.03      surf  \n",
       "1               70           7             0.01            0.01  ultimate  "
      ]
     },
     "metadata": {},
     "output_type": "display_data"
    },
    {
     "name": "stdout",
     "output_type": "stream",
     "text": [
      "\n",
      "3. Check missing values:\n",
      "\n",
      "                       missing_values  % of total\n",
      "messages_included                   0         0.0\n",
      "mb_per_month_included               0         0.0\n",
      "minutes_included                    0         0.0\n",
      "usd_monthly_pay                     0         0.0\n",
      "usd_per_gb                          0         0.0\n",
      "usd_per_message                     0         0.0\n",
      "usd_per_minute                      0         0.0\n",
      "plan_name                           0         0.0 \n",
      "\n",
      "\n",
      "4. Check duplicates:\n",
      "No duplicated detected \n",
      "\n",
      "_________megaline_users table examination:_________\n",
      "\n",
      "1. Info:\n",
      "<class 'pandas.core.frame.DataFrame'>\n",
      "RangeIndex: 500 entries, 0 to 499\n",
      "Data columns (total 8 columns):\n",
      " #   Column      Non-Null Count  Dtype \n",
      "---  ------      --------------  ----- \n",
      " 0   user_id     500 non-null    int64 \n",
      " 1   first_name  500 non-null    object\n",
      " 2   last_name   500 non-null    object\n",
      " 3   age         500 non-null    int64 \n",
      " 4   city        500 non-null    object\n",
      " 5   reg_date    500 non-null    object\n",
      " 6   plan        500 non-null    object\n",
      " 7   churn_date  34 non-null     object\n",
      "dtypes: int64(2), object(6)\n",
      "memory usage: 31.4+ KB\n",
      "\n",
      "2. Display table:\n"
     ]
    },
    {
     "data": {
      "text/html": [
       "<div>\n",
       "<style scoped>\n",
       "    .dataframe tbody tr th:only-of-type {\n",
       "        vertical-align: middle;\n",
       "    }\n",
       "\n",
       "    .dataframe tbody tr th {\n",
       "        vertical-align: top;\n",
       "    }\n",
       "\n",
       "    .dataframe thead th {\n",
       "        text-align: right;\n",
       "    }\n",
       "</style>\n",
       "<table border=\"1\" class=\"dataframe\">\n",
       "  <thead>\n",
       "    <tr style=\"text-align: right;\">\n",
       "      <th></th>\n",
       "      <th>user_id</th>\n",
       "      <th>first_name</th>\n",
       "      <th>last_name</th>\n",
       "      <th>age</th>\n",
       "      <th>city</th>\n",
       "      <th>reg_date</th>\n",
       "      <th>plan</th>\n",
       "      <th>churn_date</th>\n",
       "    </tr>\n",
       "  </thead>\n",
       "  <tbody>\n",
       "    <tr>\n",
       "      <th>0</th>\n",
       "      <td>1000</td>\n",
       "      <td>Anamaria</td>\n",
       "      <td>Bauer</td>\n",
       "      <td>45</td>\n",
       "      <td>Atlanta-Sandy Springs-Roswell, GA MSA</td>\n",
       "      <td>2018-12-24</td>\n",
       "      <td>ultimate</td>\n",
       "      <td>NaN</td>\n",
       "    </tr>\n",
       "    <tr>\n",
       "      <th>1</th>\n",
       "      <td>1001</td>\n",
       "      <td>Mickey</td>\n",
       "      <td>Wilkerson</td>\n",
       "      <td>28</td>\n",
       "      <td>Seattle-Tacoma-Bellevue, WA MSA</td>\n",
       "      <td>2018-08-13</td>\n",
       "      <td>surf</td>\n",
       "      <td>NaN</td>\n",
       "    </tr>\n",
       "    <tr>\n",
       "      <th>2</th>\n",
       "      <td>1002</td>\n",
       "      <td>Carlee</td>\n",
       "      <td>Hoffman</td>\n",
       "      <td>36</td>\n",
       "      <td>Las Vegas-Henderson-Paradise, NV MSA</td>\n",
       "      <td>2018-10-21</td>\n",
       "      <td>surf</td>\n",
       "      <td>NaN</td>\n",
       "    </tr>\n",
       "    <tr>\n",
       "      <th>3</th>\n",
       "      <td>1003</td>\n",
       "      <td>Reynaldo</td>\n",
       "      <td>Jenkins</td>\n",
       "      <td>52</td>\n",
       "      <td>Tulsa, OK MSA</td>\n",
       "      <td>2018-01-28</td>\n",
       "      <td>surf</td>\n",
       "      <td>NaN</td>\n",
       "    </tr>\n",
       "    <tr>\n",
       "      <th>4</th>\n",
       "      <td>1004</td>\n",
       "      <td>Leonila</td>\n",
       "      <td>Thompson</td>\n",
       "      <td>40</td>\n",
       "      <td>Seattle-Tacoma-Bellevue, WA MSA</td>\n",
       "      <td>2018-05-23</td>\n",
       "      <td>surf</td>\n",
       "      <td>NaN</td>\n",
       "    </tr>\n",
       "  </tbody>\n",
       "</table>\n",
       "</div>"
      ],
      "text/plain": [
       "   user_id first_name  last_name  age                                   city  \\\n",
       "0     1000   Anamaria      Bauer   45  Atlanta-Sandy Springs-Roswell, GA MSA   \n",
       "1     1001     Mickey  Wilkerson   28        Seattle-Tacoma-Bellevue, WA MSA   \n",
       "2     1002     Carlee    Hoffman   36   Las Vegas-Henderson-Paradise, NV MSA   \n",
       "3     1003   Reynaldo    Jenkins   52                          Tulsa, OK MSA   \n",
       "4     1004    Leonila   Thompson   40        Seattle-Tacoma-Bellevue, WA MSA   \n",
       "\n",
       "     reg_date      plan churn_date  \n",
       "0  2018-12-24  ultimate        NaN  \n",
       "1  2018-08-13      surf        NaN  \n",
       "2  2018-10-21      surf        NaN  \n",
       "3  2018-01-28      surf        NaN  \n",
       "4  2018-05-23      surf        NaN  "
      ]
     },
     "metadata": {},
     "output_type": "display_data"
    },
    {
     "name": "stdout",
     "output_type": "stream",
     "text": [
      "\n",
      "3. Check missing values:\n",
      "\n",
      "            missing_values  % of total\n",
      "user_id                  0        0.00\n",
      "first_name               0        0.00\n",
      "last_name                0        0.00\n",
      "age                      0        0.00\n",
      "city                     0        0.00\n",
      "reg_date                 0        0.00\n",
      "plan                     0        0.00\n",
      "churn_date             466        0.93 \n",
      "\n",
      "\n",
      "4. Check duplicates:\n",
      "No duplicated detected \n",
      "\n"
     ]
    }
   ],
   "source": [
    "# functions area:\n",
    "def check_dataset(df):\n",
    "    # print dataset info:\n",
    "    print('1. Info:')\n",
    "    df.info()\n",
    "    \n",
    "    # display the table\n",
    "    print('\\n'+'2. Display table:')\n",
    "    display(df.head())\n",
    "    \n",
    "    # Check the missing data propotion:\n",
    "    print('\\n'+'3. Check missing values:\\n') \n",
    "    report = df.isna().sum().to_frame()\n",
    "    report = report.rename(columns = {0: 'missing_values'})\n",
    "    report['% of total'] = (report['missing_values'] / df.shape[0]).round(2)\n",
    "    report.sort_values(by = 'missing_values', ascending = False)\n",
    "    print(report,'\\n')\n",
    "    \n",
    "    # Check duplicates\n",
    "    print('\\n'+'4. Check duplicates:')\n",
    "    if df.duplicated().sum()!=0:\n",
    "        print(\"The table have duplicated \\n\")\n",
    "    else:\n",
    "        print('No duplicated detected \\n')\n",
    "    \n",
    "    \n",
    "# Open the datasets and exam each one of them:\n",
    "try:\n",
    "    megaline_calls = pd.read_csv('megaline_calls.csv')\n",
    "except:\n",
    "    megaline_calls = pd.read_csv('https://code.s3.yandex.net/datasets/megaline_calls.csv')\n",
    "\n",
    "try:    \n",
    "    megaline_internet = pd.read_csv('megaline_internet.csv')\n",
    "except:\n",
    "    megaline_internet = pd.read_csv('https://code.s3.yandex.net/datasets/megaline_internet.csv')\n",
    "\n",
    "try:\n",
    "    megaline_messages = pd.read_csv('messages.csv')\n",
    "except:\n",
    "    megaline_messages = pd.read_csv('https://code.s3.yandex.net/datasets/megaline_messages.csv')\n",
    "\n",
    "try:\n",
    "    megaline_plans = pd.read_csv('megaline_plans.csv')  \n",
    "except:\n",
    "    megaline_plans = pd.read_csv('https://code.s3.yandex.net/datasets/megaline_plans.csv')\n",
    "\n",
    "try:\n",
    "    megaline_users = pd.read_csv('megaline_users.csv')\n",
    "except:\n",
    "    megaline_users = pd.read_csv('https://code.s3.yandex.net/datasets/megaline_users.csv')\n",
    "\n",
    "# tables examination:\n",
    "print(\"_________megaline_calls table examination:_________\\n\")\n",
    "check_dataset(megaline_calls)\n",
    "\n",
    "print(\"_________megaline_internet table examination:_________\\n\")\n",
    "check_dataset(megaline_internet)\n",
    "\n",
    "print(\"_________megaline_messages table examination:_________\\n\")\n",
    "check_dataset(megaline_messages)\n",
    "\n",
    "print(\"_________megaline_plans table examination:_________\\n\")\n",
    "check_dataset(megaline_plans)\n",
    "\n",
    "print(\"_________megaline_users table examination:_________\\n\")\n",
    "check_dataset(megaline_users)\n"
   ]
  },
  {
   "cell_type": "markdown",
   "metadata": {},
   "source": [
    "### Conclusions - Part 1:"
   ]
  },
  {
   "cell_type": "markdown",
   "metadata": {},
   "source": [
    "We read 5 different datasets:\n",
    "1. megaline_calls -a dataframe that contain user calls and their attributes(hour, the user that made the call...) \n",
    "2. megaline_internet - a dataframe that contain information about clients that the company provied them internet connection.\n",
    "3. megaline_messages - a data frame that contain users messages ant their attributes.\n",
    "4. megaline_plans - a dataframe contain the different plans that the company provied to the users and their attributes. \n",
    "5. megaline_users - a dataframe that contain all the users information.\n",
    "\n",
    "From our first look most of the data looks fine but from our check theres missing values on the churn_date column in the megaline_users dataframe. In this column 93% of data is missing. this column specify the date the user stopped using the service, so we can assume the NaN value mean that the user is still using the servive.  "
   ]
  },
  {
   "cell_type": "markdown",
   "metadata": {},
   "source": [
    "## Part 2 - Data Processing "
   ]
  },
  {
   "cell_type": "markdown",
   "metadata": {},
   "source": [
    "**Functions:**"
   ]
  },
  {
   "cell_type": "code",
   "execution_count": 5,
   "metadata": {},
   "outputs": [],
   "source": [
    "# Functions area: \n",
    "def convert_id_to_numeric(id):\n",
    "    str_id = str(id)\n",
    "    '''remove all non digit characters from id and return it as a integer'''\n",
    "    numeric_id = int(re.sub(\"[^0-9]\", \"\", str_id))\n",
    "    return numeric_id\n",
    "\n",
    "\n",
    "def calculate_calls_number(user_id):\n",
    "    total_calls_num = len(megaline_calls[megaline_calls['user_id']==user_id])\n",
    "    return total_calls_num\n",
    "\n",
    "\n",
    "def calculate_calls_total_duration(user_id):\n",
    "    total_calls_duration = megaline_calls[megaline_calls['user_id']==user_id]['duration'].sum()\n",
    "    return math.ceil(total_calls_duration)\n",
    "\n",
    "def calculate_message_number(user_id):\n",
    "    total_message_number = len(megaline_messages[megaline_messages['user_id']==user_id])\n",
    "    return total_message_number\n",
    "\n",
    "\n",
    "\n",
    "def calculate_mb_used_per_month(user_id):\n",
    "    total_mb_used  = megaline_internet[megaline_internet['user_id']==user_id]['mb_used'].sum()\n",
    "    #return the result in MB\n",
    "    return math.ceil(total_mb_used /1000) \n",
    "\n",
    "\n",
    "\n",
    "def calculate_revenue(data):\n",
    "    # data = 0: user_id, 1: first_name, 2:last_name, 3:age, 4:city, 5:reg_date, 6:plan, 7:churn_date, \n",
    "    #        8:monthly_calls_number, 9:monthly_calls_duration, 10:monthly_messages_number, 11:monthly_volume\n",
    "    \n",
    "    # Calculate the monthly revenue from each user (subtract the free package limit from the total number of calls,\n",
    "    #text messages, and data; multiply the result by the calling plan value. the monthly charge depends on the calling plan)\n",
    "    \n",
    "    # Take the package calls,nm and messages limit: \n",
    "    payment = megaline_plans.loc[megaline_plans['plan_name']==data[6]]['usd_monthly_pay'].unique()[0]\n",
    "    package_calls_duration = megaline_plans.loc[megaline_plans['plan_name']==data[6]]['minutes_included'].unique()[0]\n",
    "    package_messages_number = megaline_plans.loc[megaline_plans['plan_name']==data[6]]['messages_included'].unique()[0]    \n",
    "    package_internet_limit = megaline_plans.loc[megaline_plans['plan_name']==data[6]]['mb_per_month_included'].unique()[0]\n",
    "    \n",
    "    # Check the difference between the package limit and what user used\n",
    "    extra_minutes = data[8] - package_calls_duration \n",
    "    extra_messages = data[10] - package_messages_number \n",
    "    extra_mb = data[11] - package_internet_limit \n",
    "    \n",
    "    if extra_minutes > 0:\n",
    "        usd_per_minute = megaline_plans.loc[megaline_plans['plan_name']==data[6]]['usd_per_minute'].unique()[0]\n",
    "        payment += extra_minutes * usd_per_minute\n",
    "    \n",
    "    if extra_messages > 0:\n",
    "        usd_per_message = megaline_plans.loc[megaline_plans['plan_name']==data[6]]['usd_per_message'].unique()[0]\n",
    "        payment += extra_messages * usd_per_message\n",
    "        \n",
    "    if extra_mb > 0:\n",
    "        extra_gb =extra_mb / 1000\n",
    "        usd_per_gb = megaline_plans.loc[megaline_plans['plan_name']==data[6]]['usd_per_gb'].unique()[0]\n",
    "        payment += extra_gb * usd_per_gb\n",
    "    \n",
    "    # round up if there's number after the floating point \n",
    "    return payment\n",
    "    "
   ]
  },
  {
   "cell_type": "markdown",
   "metadata": {},
   "source": [
    "**1. Downcast the data and convert the dates to datetime**"
   ]
  },
  {
   "cell_type": "code",
   "execution_count": 6,
   "metadata": {},
   "outputs": [
    {
     "name": "stdout",
     "output_type": "stream",
     "text": [
      "Check changes on the table:\n",
      "\n",
      "<class 'pandas.core.frame.DataFrame'>\n",
      "RangeIndex: 137735 entries, 0 to 137734\n",
      "Data columns (total 4 columns):\n",
      " #   Column     Non-Null Count   Dtype         \n",
      "---  ------     --------------   -----         \n",
      " 0   id         137735 non-null  int64         \n",
      " 1   user_id    137735 non-null  int16         \n",
      " 2   call_date  137735 non-null  datetime64[ns]\n",
      " 3   duration   137735 non-null  float32       \n",
      "dtypes: datetime64[ns](1), float32(1), int16(1), int64(1)\n",
      "memory usage: 2.9 MB\n"
     ]
    },
    {
     "data": {
      "text/html": [
       "<div>\n",
       "<style scoped>\n",
       "    .dataframe tbody tr th:only-of-type {\n",
       "        vertical-align: middle;\n",
       "    }\n",
       "\n",
       "    .dataframe tbody tr th {\n",
       "        vertical-align: top;\n",
       "    }\n",
       "\n",
       "    .dataframe thead th {\n",
       "        text-align: right;\n",
       "    }\n",
       "</style>\n",
       "<table border=\"1\" class=\"dataframe\">\n",
       "  <thead>\n",
       "    <tr style=\"text-align: right;\">\n",
       "      <th></th>\n",
       "      <th>id</th>\n",
       "      <th>user_id</th>\n",
       "      <th>call_date</th>\n",
       "      <th>duration</th>\n",
       "    </tr>\n",
       "  </thead>\n",
       "  <tbody>\n",
       "    <tr>\n",
       "      <th>0</th>\n",
       "      <td>100093</td>\n",
       "      <td>1000</td>\n",
       "      <td>2018-12-27</td>\n",
       "      <td>8.52</td>\n",
       "    </tr>\n",
       "    <tr>\n",
       "      <th>1</th>\n",
       "      <td>1000145</td>\n",
       "      <td>1000</td>\n",
       "      <td>2018-12-27</td>\n",
       "      <td>13.66</td>\n",
       "    </tr>\n",
       "    <tr>\n",
       "      <th>2</th>\n",
       "      <td>1000247</td>\n",
       "      <td>1000</td>\n",
       "      <td>2018-12-27</td>\n",
       "      <td>14.48</td>\n",
       "    </tr>\n",
       "    <tr>\n",
       "      <th>3</th>\n",
       "      <td>1000309</td>\n",
       "      <td>1000</td>\n",
       "      <td>2018-12-28</td>\n",
       "      <td>5.76</td>\n",
       "    </tr>\n",
       "    <tr>\n",
       "      <th>4</th>\n",
       "      <td>1000380</td>\n",
       "      <td>1000</td>\n",
       "      <td>2018-12-30</td>\n",
       "      <td>4.22</td>\n",
       "    </tr>\n",
       "  </tbody>\n",
       "</table>\n",
       "</div>"
      ],
      "text/plain": [
       "        id  user_id  call_date  duration\n",
       "0   100093     1000 2018-12-27      8.52\n",
       "1  1000145     1000 2018-12-27     13.66\n",
       "2  1000247     1000 2018-12-27     14.48\n",
       "3  1000309     1000 2018-12-28      5.76\n",
       "4  1000380     1000 2018-12-30      4.22"
      ]
     },
     "metadata": {},
     "output_type": "display_data"
    },
    {
     "name": "stdout",
     "output_type": "stream",
     "text": [
      "Check changes on the table:\n",
      "\n",
      "<class 'pandas.core.frame.DataFrame'>\n",
      "RangeIndex: 104825 entries, 0 to 104824\n",
      "Data columns (total 4 columns):\n",
      " #   Column        Non-Null Count   Dtype         \n",
      "---  ------        --------------   -----         \n",
      " 0   id            104825 non-null  int64         \n",
      " 1   user_id       104825 non-null  int16         \n",
      " 2   session_date  104825 non-null  datetime64[ns]\n",
      " 3   mb_used       104825 non-null  float32       \n",
      "dtypes: datetime64[ns](1), float32(1), int16(1), int64(1)\n",
      "memory usage: 2.2 MB\n"
     ]
    },
    {
     "data": {
      "text/html": [
       "<div>\n",
       "<style scoped>\n",
       "    .dataframe tbody tr th:only-of-type {\n",
       "        vertical-align: middle;\n",
       "    }\n",
       "\n",
       "    .dataframe tbody tr th {\n",
       "        vertical-align: top;\n",
       "    }\n",
       "\n",
       "    .dataframe thead th {\n",
       "        text-align: right;\n",
       "    }\n",
       "</style>\n",
       "<table border=\"1\" class=\"dataframe\">\n",
       "  <thead>\n",
       "    <tr style=\"text-align: right;\">\n",
       "      <th></th>\n",
       "      <th>id</th>\n",
       "      <th>user_id</th>\n",
       "      <th>session_date</th>\n",
       "      <th>mb_used</th>\n",
       "    </tr>\n",
       "  </thead>\n",
       "  <tbody>\n",
       "    <tr>\n",
       "      <th>0</th>\n",
       "      <td>100013</td>\n",
       "      <td>1000</td>\n",
       "      <td>2018-12-29</td>\n",
       "      <td>89.860001</td>\n",
       "    </tr>\n",
       "    <tr>\n",
       "      <th>1</th>\n",
       "      <td>1000204</td>\n",
       "      <td>1000</td>\n",
       "      <td>2018-12-31</td>\n",
       "      <td>0.000000</td>\n",
       "    </tr>\n",
       "    <tr>\n",
       "      <th>2</th>\n",
       "      <td>1000379</td>\n",
       "      <td>1000</td>\n",
       "      <td>2018-12-28</td>\n",
       "      <td>660.400024</td>\n",
       "    </tr>\n",
       "    <tr>\n",
       "      <th>3</th>\n",
       "      <td>1000413</td>\n",
       "      <td>1000</td>\n",
       "      <td>2018-12-26</td>\n",
       "      <td>270.989990</td>\n",
       "    </tr>\n",
       "    <tr>\n",
       "      <th>4</th>\n",
       "      <td>1000442</td>\n",
       "      <td>1000</td>\n",
       "      <td>2018-12-27</td>\n",
       "      <td>880.219971</td>\n",
       "    </tr>\n",
       "  </tbody>\n",
       "</table>\n",
       "</div>"
      ],
      "text/plain": [
       "        id  user_id session_date     mb_used\n",
       "0   100013     1000   2018-12-29   89.860001\n",
       "1  1000204     1000   2018-12-31    0.000000\n",
       "2  1000379     1000   2018-12-28  660.400024\n",
       "3  1000413     1000   2018-12-26  270.989990\n",
       "4  1000442     1000   2018-12-27  880.219971"
      ]
     },
     "metadata": {},
     "output_type": "display_data"
    },
    {
     "name": "stdout",
     "output_type": "stream",
     "text": [
      "Check changes on the table:\n",
      "\n",
      "<class 'pandas.core.frame.DataFrame'>\n",
      "RangeIndex: 76051 entries, 0 to 76050\n",
      "Data columns (total 3 columns):\n",
      " #   Column        Non-Null Count  Dtype         \n",
      "---  ------        --------------  -----         \n",
      " 0   id            76051 non-null  int64         \n",
      " 1   user_id       76051 non-null  int16         \n",
      " 2   message_date  76051 non-null  datetime64[ns]\n",
      "dtypes: datetime64[ns](1), int16(1), int64(1)\n",
      "memory usage: 1.3 MB\n"
     ]
    },
    {
     "data": {
      "text/html": [
       "<div>\n",
       "<style scoped>\n",
       "    .dataframe tbody tr th:only-of-type {\n",
       "        vertical-align: middle;\n",
       "    }\n",
       "\n",
       "    .dataframe tbody tr th {\n",
       "        vertical-align: top;\n",
       "    }\n",
       "\n",
       "    .dataframe thead th {\n",
       "        text-align: right;\n",
       "    }\n",
       "</style>\n",
       "<table border=\"1\" class=\"dataframe\">\n",
       "  <thead>\n",
       "    <tr style=\"text-align: right;\">\n",
       "      <th></th>\n",
       "      <th>id</th>\n",
       "      <th>user_id</th>\n",
       "      <th>message_date</th>\n",
       "    </tr>\n",
       "  </thead>\n",
       "  <tbody>\n",
       "    <tr>\n",
       "      <th>0</th>\n",
       "      <td>1000125</td>\n",
       "      <td>1000</td>\n",
       "      <td>2018-12-27</td>\n",
       "    </tr>\n",
       "    <tr>\n",
       "      <th>1</th>\n",
       "      <td>1000160</td>\n",
       "      <td>1000</td>\n",
       "      <td>2018-12-31</td>\n",
       "    </tr>\n",
       "    <tr>\n",
       "      <th>2</th>\n",
       "      <td>1000223</td>\n",
       "      <td>1000</td>\n",
       "      <td>2018-12-31</td>\n",
       "    </tr>\n",
       "    <tr>\n",
       "      <th>3</th>\n",
       "      <td>1000251</td>\n",
       "      <td>1000</td>\n",
       "      <td>2018-12-27</td>\n",
       "    </tr>\n",
       "    <tr>\n",
       "      <th>4</th>\n",
       "      <td>1000255</td>\n",
       "      <td>1000</td>\n",
       "      <td>2018-12-26</td>\n",
       "    </tr>\n",
       "  </tbody>\n",
       "</table>\n",
       "</div>"
      ],
      "text/plain": [
       "        id  user_id message_date\n",
       "0  1000125     1000   2018-12-27\n",
       "1  1000160     1000   2018-12-31\n",
       "2  1000223     1000   2018-12-31\n",
       "3  1000251     1000   2018-12-27\n",
       "4  1000255     1000   2018-12-26"
      ]
     },
     "metadata": {},
     "output_type": "display_data"
    },
    {
     "name": "stdout",
     "output_type": "stream",
     "text": [
      "Check changes on the table:\n",
      "\n",
      "<class 'pandas.core.frame.DataFrame'>\n",
      "RangeIndex: 2 entries, 0 to 1\n",
      "Data columns (total 8 columns):\n",
      " #   Column                 Non-Null Count  Dtype  \n",
      "---  ------                 --------------  -----  \n",
      " 0   messages_included      2 non-null      int16  \n",
      " 1   mb_per_month_included  2 non-null      int16  \n",
      " 2   minutes_included       2 non-null      int16  \n",
      " 3   usd_monthly_pay        2 non-null      int8   \n",
      " 4   usd_per_gb             2 non-null      int8   \n",
      " 5   usd_per_message        2 non-null      float32\n",
      " 6   usd_per_minute         2 non-null      float32\n",
      " 7   plan_name              2 non-null      object \n",
      "dtypes: float32(2), int16(3), int8(2), object(1)\n",
      "memory usage: 176.0+ bytes\n"
     ]
    },
    {
     "data": {
      "text/html": [
       "<div>\n",
       "<style scoped>\n",
       "    .dataframe tbody tr th:only-of-type {\n",
       "        vertical-align: middle;\n",
       "    }\n",
       "\n",
       "    .dataframe tbody tr th {\n",
       "        vertical-align: top;\n",
       "    }\n",
       "\n",
       "    .dataframe thead th {\n",
       "        text-align: right;\n",
       "    }\n",
       "</style>\n",
       "<table border=\"1\" class=\"dataframe\">\n",
       "  <thead>\n",
       "    <tr style=\"text-align: right;\">\n",
       "      <th></th>\n",
       "      <th>messages_included</th>\n",
       "      <th>mb_per_month_included</th>\n",
       "      <th>minutes_included</th>\n",
       "      <th>usd_monthly_pay</th>\n",
       "      <th>usd_per_gb</th>\n",
       "      <th>usd_per_message</th>\n",
       "      <th>usd_per_minute</th>\n",
       "      <th>plan_name</th>\n",
       "    </tr>\n",
       "  </thead>\n",
       "  <tbody>\n",
       "    <tr>\n",
       "      <th>0</th>\n",
       "      <td>50</td>\n",
       "      <td>15360</td>\n",
       "      <td>500</td>\n",
       "      <td>20</td>\n",
       "      <td>10</td>\n",
       "      <td>0.03</td>\n",
       "      <td>0.03</td>\n",
       "      <td>surf</td>\n",
       "    </tr>\n",
       "    <tr>\n",
       "      <th>1</th>\n",
       "      <td>1000</td>\n",
       "      <td>30720</td>\n",
       "      <td>3000</td>\n",
       "      <td>70</td>\n",
       "      <td>7</td>\n",
       "      <td>0.01</td>\n",
       "      <td>0.01</td>\n",
       "      <td>ultimate</td>\n",
       "    </tr>\n",
       "  </tbody>\n",
       "</table>\n",
       "</div>"
      ],
      "text/plain": [
       "   messages_included  mb_per_month_included  minutes_included  \\\n",
       "0                 50                  15360               500   \n",
       "1               1000                  30720              3000   \n",
       "\n",
       "   usd_monthly_pay  usd_per_gb  usd_per_message  usd_per_minute plan_name  \n",
       "0               20          10             0.03            0.03      surf  \n",
       "1               70           7             0.01            0.01  ultimate  "
      ]
     },
     "metadata": {},
     "output_type": "display_data"
    },
    {
     "name": "stdout",
     "output_type": "stream",
     "text": [
      "Check changes on the table:\n",
      "\n",
      "<class 'pandas.core.frame.DataFrame'>\n",
      "RangeIndex: 500 entries, 0 to 499\n",
      "Data columns (total 8 columns):\n",
      " #   Column      Non-Null Count  Dtype         \n",
      "---  ------      --------------  -----         \n",
      " 0   user_id     500 non-null    int16         \n",
      " 1   first_name  500 non-null    object        \n",
      " 2   last_name   500 non-null    object        \n",
      " 3   age         500 non-null    int8          \n",
      " 4   city        500 non-null    object        \n",
      " 5   reg_date    500 non-null    datetime64[ns]\n",
      " 6   plan        500 non-null    object        \n",
      " 7   churn_date  34 non-null     datetime64[ns]\n",
      "dtypes: datetime64[ns](2), int16(1), int8(1), object(4)\n",
      "memory usage: 25.0+ KB\n"
     ]
    },
    {
     "data": {
      "text/html": [
       "<div>\n",
       "<style scoped>\n",
       "    .dataframe tbody tr th:only-of-type {\n",
       "        vertical-align: middle;\n",
       "    }\n",
       "\n",
       "    .dataframe tbody tr th {\n",
       "        vertical-align: top;\n",
       "    }\n",
       "\n",
       "    .dataframe thead th {\n",
       "        text-align: right;\n",
       "    }\n",
       "</style>\n",
       "<table border=\"1\" class=\"dataframe\">\n",
       "  <thead>\n",
       "    <tr style=\"text-align: right;\">\n",
       "      <th></th>\n",
       "      <th>user_id</th>\n",
       "      <th>first_name</th>\n",
       "      <th>last_name</th>\n",
       "      <th>age</th>\n",
       "      <th>city</th>\n",
       "      <th>reg_date</th>\n",
       "      <th>plan</th>\n",
       "      <th>churn_date</th>\n",
       "    </tr>\n",
       "  </thead>\n",
       "  <tbody>\n",
       "    <tr>\n",
       "      <th>0</th>\n",
       "      <td>1000</td>\n",
       "      <td>Anamaria</td>\n",
       "      <td>Bauer</td>\n",
       "      <td>45</td>\n",
       "      <td>Atlanta-Sandy Springs-Roswell, GA MSA</td>\n",
       "      <td>2018-12-24</td>\n",
       "      <td>ultimate</td>\n",
       "      <td>NaT</td>\n",
       "    </tr>\n",
       "    <tr>\n",
       "      <th>1</th>\n",
       "      <td>1001</td>\n",
       "      <td>Mickey</td>\n",
       "      <td>Wilkerson</td>\n",
       "      <td>28</td>\n",
       "      <td>Seattle-Tacoma-Bellevue, WA MSA</td>\n",
       "      <td>2018-08-13</td>\n",
       "      <td>surf</td>\n",
       "      <td>NaT</td>\n",
       "    </tr>\n",
       "    <tr>\n",
       "      <th>2</th>\n",
       "      <td>1002</td>\n",
       "      <td>Carlee</td>\n",
       "      <td>Hoffman</td>\n",
       "      <td>36</td>\n",
       "      <td>Las Vegas-Henderson-Paradise, NV MSA</td>\n",
       "      <td>2018-10-21</td>\n",
       "      <td>surf</td>\n",
       "      <td>NaT</td>\n",
       "    </tr>\n",
       "    <tr>\n",
       "      <th>3</th>\n",
       "      <td>1003</td>\n",
       "      <td>Reynaldo</td>\n",
       "      <td>Jenkins</td>\n",
       "      <td>52</td>\n",
       "      <td>Tulsa, OK MSA</td>\n",
       "      <td>2018-01-28</td>\n",
       "      <td>surf</td>\n",
       "      <td>NaT</td>\n",
       "    </tr>\n",
       "    <tr>\n",
       "      <th>4</th>\n",
       "      <td>1004</td>\n",
       "      <td>Leonila</td>\n",
       "      <td>Thompson</td>\n",
       "      <td>40</td>\n",
       "      <td>Seattle-Tacoma-Bellevue, WA MSA</td>\n",
       "      <td>2018-05-23</td>\n",
       "      <td>surf</td>\n",
       "      <td>NaT</td>\n",
       "    </tr>\n",
       "  </tbody>\n",
       "</table>\n",
       "</div>"
      ],
      "text/plain": [
       "   user_id first_name  last_name  age                                   city  \\\n",
       "0     1000   Anamaria      Bauer   45  Atlanta-Sandy Springs-Roswell, GA MSA   \n",
       "1     1001     Mickey  Wilkerson   28        Seattle-Tacoma-Bellevue, WA MSA   \n",
       "2     1002     Carlee    Hoffman   36   Las Vegas-Henderson-Paradise, NV MSA   \n",
       "3     1003   Reynaldo    Jenkins   52                          Tulsa, OK MSA   \n",
       "4     1004    Leonila   Thompson   40        Seattle-Tacoma-Bellevue, WA MSA   \n",
       "\n",
       "    reg_date      plan churn_date  \n",
       "0 2018-12-24  ultimate        NaT  \n",
       "1 2018-08-13      surf        NaT  \n",
       "2 2018-10-21      surf        NaT  \n",
       "3 2018-01-28      surf        NaT  \n",
       "4 2018-05-23      surf        NaT  "
      ]
     },
     "metadata": {},
     "output_type": "display_data"
    }
   ],
   "source": [
    "#___________________megaline_calls table:___________________\n",
    "\n",
    "# a.Fix the id column values to a valid integers:\n",
    "megaline_calls['id'] = megaline_calls['id'].apply(convert_id_to_numeric)\n",
    "\n",
    "# b. convert the call_date column to datetime: \n",
    "megaline_calls['call_date'] = pd.to_datetime(megaline_calls['call_date'],format='%Y-%m-%d')\n",
    "\n",
    "# c. Downcast user_id and duration columns:\n",
    "megaline_calls['user_id'] = pd.to_numeric((megaline_calls['user_id']), downcast ='integer')\n",
    "megaline_calls['duration'] = pd.to_numeric((megaline_calls['duration']), downcast ='float')\n",
    "\n",
    "# d. Check changes:\n",
    "print('Check changes on the table:\\n')\n",
    "megaline_calls.info()\n",
    "display(megaline_calls.head())\n",
    "\n",
    "#___________________megaline_internet table:___________________\n",
    "\n",
    "# a.Fix the id column values to a valid integers:\n",
    "megaline_internet['id'] = megaline_internet['id'].apply(convert_id_to_numeric)\n",
    "\n",
    "# b. convert the session_date column to datetime: \n",
    "megaline_internet['session_date'] = pd.to_datetime(megaline_internet['session_date'],format='%Y-%m-%d')\n",
    "\n",
    "# c. Downcast user_id and duration columns:\n",
    "megaline_internet['user_id'] = pd.to_numeric((megaline_internet['user_id']), downcast ='integer')\n",
    "megaline_internet['mb_used'] = pd.to_numeric((megaline_internet['mb_used']), downcast ='float')\n",
    "\n",
    "# d. Check changes:\n",
    "print('Check changes on the table:\\n')\n",
    "megaline_internet.info()\n",
    "display(megaline_internet.head())\n",
    "\n",
    "#___________________megaline_messages table:___________________\n",
    "\n",
    "# a.Fix the id column values to a valid integers:\n",
    "megaline_messages['id'] = megaline_messages['id'].apply(convert_id_to_numeric)\n",
    "\n",
    "# b. convert the message_date column to datetime: \n",
    "megaline_messages['message_date'] = pd.to_datetime(megaline_messages['message_date'],format='%Y-%m-%d')\n",
    "\n",
    "# c. Downcast 'user_id' and duration columns:\n",
    "megaline_messages['user_id'] = pd.to_numeric((megaline_messages['user_id']), downcast ='integer')\n",
    "\n",
    "# d. Check changes:\n",
    "print('Check changes on the table:\\n')\n",
    "megaline_messages.info()\n",
    "display(megaline_messages.head())\n",
    "\n",
    "#___________________megaline_plans table:___________________\n",
    "\n",
    "# a. Downcast user_id and duration columns:\n",
    "megaline_plans['messages_included'] = pd.to_numeric((megaline_plans['messages_included']), downcast ='integer')\n",
    "megaline_plans['mb_per_month_included'] = pd.to_numeric((megaline_plans['mb_per_month_included']), downcast ='integer')\n",
    "megaline_plans['minutes_included'] = pd.to_numeric((megaline_plans['minutes_included']), downcast ='integer')\n",
    "megaline_plans['usd_monthly_pay'] = pd.to_numeric((megaline_plans['usd_monthly_pay']), downcast ='integer')\n",
    "megaline_plans['usd_per_gb'] = pd.to_numeric((megaline_plans['usd_per_gb']), downcast ='integer')\n",
    "megaline_plans['usd_per_message'] = pd.to_numeric((megaline_plans['usd_per_message']), downcast ='float')\n",
    "megaline_plans['usd_per_minute'] = pd.to_numeric((megaline_plans['usd_per_minute']), downcast ='float')\n",
    "\n",
    "# b. check changes:\n",
    "print('Check changes on the table:\\n')\n",
    "megaline_plans.info()\n",
    "display(megaline_plans.head())\n",
    "\n",
    "#___________________megaline_users table:___________________\n",
    "# a. cast churn_date and reg_date to datetime type:\n",
    "megaline_users['reg_date'] = pd.to_datetime(megaline_users['reg_date'],format='%Y-%m-%d')\n",
    "megaline_users['churn_date'] = pd.to_datetime(megaline_users['churn_date'],format='%Y-%m-%d',errors='ignore')\n",
    "\n",
    "# b. Downcast numeric columns:\n",
    "megaline_users['user_id'] = pd.to_numeric((megaline_users['user_id']), downcast ='integer')\n",
    "megaline_users['age'] = pd.to_numeric((megaline_users['age']), downcast ='integer')\n",
    "\n",
    "# c. check changes:\n",
    "print('Check changes on the table:\\n')\n",
    "megaline_users.info()\n",
    "display(megaline_users.head())\n"
   ]
  },
  {
   "cell_type": "markdown",
   "metadata": {},
   "source": [
    "**2. Add new columns to the megaline_user dataframe**"
   ]
  },
  {
   "cell_type": "code",
   "execution_count": 7,
   "metadata": {},
   "outputs": [
    {
     "name": "stdout",
     "output_type": "stream",
     "text": [
      "\n",
      "megaline_users dataset after added the new columns:\n",
      "\n",
      "<class 'pandas.core.frame.DataFrame'>\n",
      "RangeIndex: 500 entries, 0 to 499\n",
      "Data columns (total 13 columns):\n",
      " #   Column                   Non-Null Count  Dtype         \n",
      "---  ------                   --------------  -----         \n",
      " 0   user_id                  500 non-null    int16         \n",
      " 1   first_name               500 non-null    object        \n",
      " 2   last_name                500 non-null    object        \n",
      " 3   age                      500 non-null    int8          \n",
      " 4   city                     500 non-null    object        \n",
      " 5   reg_date                 500 non-null    datetime64[ns]\n",
      " 6   plan                     500 non-null    object        \n",
      " 7   churn_date               34 non-null     datetime64[ns]\n",
      " 8   monthly_calls_number     500 non-null    int64         \n",
      " 9   monthly_calls_duration   500 non-null    int64         \n",
      " 10  monthly_messages_number  500 non-null    int64         \n",
      " 11  monthly_volume           500 non-null    int64         \n",
      " 12  monthly_revenue          500 non-null    float64       \n",
      "dtypes: datetime64[ns](2), float64(1), int16(1), int64(4), int8(1), object(4)\n",
      "memory usage: 44.6+ KB\n"
     ]
    },
    {
     "data": {
      "text/html": [
       "<div>\n",
       "<style scoped>\n",
       "    .dataframe tbody tr th:only-of-type {\n",
       "        vertical-align: middle;\n",
       "    }\n",
       "\n",
       "    .dataframe tbody tr th {\n",
       "        vertical-align: top;\n",
       "    }\n",
       "\n",
       "    .dataframe thead th {\n",
       "        text-align: right;\n",
       "    }\n",
       "</style>\n",
       "<table border=\"1\" class=\"dataframe\">\n",
       "  <thead>\n",
       "    <tr style=\"text-align: right;\">\n",
       "      <th></th>\n",
       "      <th>user_id</th>\n",
       "      <th>first_name</th>\n",
       "      <th>last_name</th>\n",
       "      <th>age</th>\n",
       "      <th>city</th>\n",
       "      <th>reg_date</th>\n",
       "      <th>plan</th>\n",
       "      <th>churn_date</th>\n",
       "      <th>monthly_calls_number</th>\n",
       "      <th>monthly_calls_duration</th>\n",
       "      <th>monthly_messages_number</th>\n",
       "      <th>monthly_volume</th>\n",
       "      <th>monthly_revenue</th>\n",
       "    </tr>\n",
       "  </thead>\n",
       "  <tbody>\n",
       "    <tr>\n",
       "      <th>0</th>\n",
       "      <td>1000</td>\n",
       "      <td>Anamaria</td>\n",
       "      <td>Bauer</td>\n",
       "      <td>45</td>\n",
       "      <td>Atlanta-Sandy Springs-Roswell, GA MSA</td>\n",
       "      <td>2018-12-24</td>\n",
       "      <td>ultimate</td>\n",
       "      <td>NaT</td>\n",
       "      <td>16</td>\n",
       "      <td>117</td>\n",
       "      <td>11</td>\n",
       "      <td>2</td>\n",
       "      <td>70.00</td>\n",
       "    </tr>\n",
       "    <tr>\n",
       "      <th>1</th>\n",
       "      <td>1001</td>\n",
       "      <td>Mickey</td>\n",
       "      <td>Wilkerson</td>\n",
       "      <td>28</td>\n",
       "      <td>Seattle-Tacoma-Bellevue, WA MSA</td>\n",
       "      <td>2018-08-13</td>\n",
       "      <td>surf</td>\n",
       "      <td>NaT</td>\n",
       "      <td>261</td>\n",
       "      <td>1641</td>\n",
       "      <td>207</td>\n",
       "      <td>81</td>\n",
       "      <td>24.71</td>\n",
       "    </tr>\n",
       "    <tr>\n",
       "      <th>2</th>\n",
       "      <td>1002</td>\n",
       "      <td>Carlee</td>\n",
       "      <td>Hoffman</td>\n",
       "      <td>36</td>\n",
       "      <td>Las Vegas-Henderson-Paradise, NV MSA</td>\n",
       "      <td>2018-10-21</td>\n",
       "      <td>surf</td>\n",
       "      <td>NaT</td>\n",
       "      <td>113</td>\n",
       "      <td>778</td>\n",
       "      <td>88</td>\n",
       "      <td>41</td>\n",
       "      <td>21.14</td>\n",
       "    </tr>\n",
       "    <tr>\n",
       "      <th>3</th>\n",
       "      <td>1003</td>\n",
       "      <td>Reynaldo</td>\n",
       "      <td>Jenkins</td>\n",
       "      <td>52</td>\n",
       "      <td>Tulsa, OK MSA</td>\n",
       "      <td>2018-01-28</td>\n",
       "      <td>surf</td>\n",
       "      <td>NaT</td>\n",
       "      <td>149</td>\n",
       "      <td>1041</td>\n",
       "      <td>50</td>\n",
       "      <td>28</td>\n",
       "      <td>20.00</td>\n",
       "    </tr>\n",
       "    <tr>\n",
       "      <th>4</th>\n",
       "      <td>1004</td>\n",
       "      <td>Leonila</td>\n",
       "      <td>Thompson</td>\n",
       "      <td>40</td>\n",
       "      <td>Seattle-Tacoma-Bellevue, WA MSA</td>\n",
       "      <td>2018-05-23</td>\n",
       "      <td>surf</td>\n",
       "      <td>NaT</td>\n",
       "      <td>370</td>\n",
       "      <td>2619</td>\n",
       "      <td>177</td>\n",
       "      <td>157</td>\n",
       "      <td>23.81</td>\n",
       "    </tr>\n",
       "  </tbody>\n",
       "</table>\n",
       "</div>"
      ],
      "text/plain": [
       "   user_id first_name  last_name  age                                   city  \\\n",
       "0     1000   Anamaria      Bauer   45  Atlanta-Sandy Springs-Roswell, GA MSA   \n",
       "1     1001     Mickey  Wilkerson   28        Seattle-Tacoma-Bellevue, WA MSA   \n",
       "2     1002     Carlee    Hoffman   36   Las Vegas-Henderson-Paradise, NV MSA   \n",
       "3     1003   Reynaldo    Jenkins   52                          Tulsa, OK MSA   \n",
       "4     1004    Leonila   Thompson   40        Seattle-Tacoma-Bellevue, WA MSA   \n",
       "\n",
       "    reg_date      plan churn_date  monthly_calls_number  \\\n",
       "0 2018-12-24  ultimate        NaT                    16   \n",
       "1 2018-08-13      surf        NaT                   261   \n",
       "2 2018-10-21      surf        NaT                   113   \n",
       "3 2018-01-28      surf        NaT                   149   \n",
       "4 2018-05-23      surf        NaT                   370   \n",
       "\n",
       "   monthly_calls_duration  monthly_messages_number  monthly_volume  \\\n",
       "0                     117                       11               2   \n",
       "1                    1641                      207              81   \n",
       "2                     778                       88              41   \n",
       "3                    1041                       50              28   \n",
       "4                    2619                      177             157   \n",
       "\n",
       "   monthly_revenue  \n",
       "0            70.00  \n",
       "1            24.71  \n",
       "2            21.14  \n",
       "3            20.00  \n",
       "4            23.81  "
      ]
     },
     "metadata": {},
     "output_type": "display_data"
    }
   ],
   "source": [
    "# a. monthly_calls_number - The number of calls made per month\n",
    "megaline_users['monthly_calls_number'] = megaline_users['user_id'].apply(calculate_calls_number)\n",
    "\n",
    "# b. monthly_calls_duration = The calls minutes used per month\n",
    "megaline_users['monthly_calls_duration'] = megaline_users['user_id'].apply(calculate_calls_total_duration)\n",
    "\n",
    "# c. monthly_messages_number = The number of text messages sent per month\n",
    "megaline_users['monthly_messages_number'] = megaline_users['user_id'].apply(calculate_message_number)\n",
    "\n",
    "# d. monthly_volume = The volume of data per month(In GB)\n",
    "megaline_users['monthly_volume'] = megaline_users['user_id'].apply(calculate_mb_used_per_month)\n",
    "\n",
    "# e. monthly_revenue = The monthly revenue from each user (subtract the free package limit from the total\n",
    "#    number of calls, text messages,and data; multiply the result by the calling plan value; \n",
    "#    add the monthly charge depending on the calling plan)\n",
    "megaline_users['monthly_revenue'] = megaline_users.apply(calculate_revenue,axis=1)\n",
    "\n",
    "# Show the table withe new columns\n",
    "print('\\n'+'megaline_users dataset after added the new columns:\\n')\n",
    "megaline_users.info()\n",
    "display(megaline_users.head())\n"
   ]
  },
  {
   "cell_type": "markdown",
   "metadata": {},
   "source": [
    "### Conclusions - Part 2: "
   ]
  },
  {
   "cell_type": "markdown",
   "metadata": {},
   "source": [
    "In this chapter we did those steps:\n",
    "1. Downcast the data and convert the dates to datetime in each table. in the downcast we saved more than 9 KB\n",
    "2. Add new columns in the megaline_users:\n",
    "    * monthly_calls_number - The number of calls made per month\n",
    "    * monthly_calls_duration - The calls minutes used per month\n",
    "    * monthly_messages_number - The number of text messages sent per month\n",
    "    * monthly_volume - The volume of data per month(In GB)\n",
    "    * monthly_revenue - The monthly revenue from each user (subtract the free package limit from the totalnumber of calls, text messages,and data; multiply the result by the calling plan value; the monthly charge is depending on the calling plan)"
   ]
  },
  {
   "cell_type": "markdown",
   "metadata": {},
   "source": [
    "## Part 3 - Analyze the data  "
   ]
  },
  {
   "cell_type": "code",
   "execution_count": 8,
   "metadata": {},
   "outputs": [
    {
     "name": "stdout",
     "output_type": "stream",
     "text": [
      "______Calls mean,variance, and standard deviation______\n",
      "\n",
      "Users with surf plan:\n",
      "Mean: 1878.6253687315634 \n",
      "Varience: 2653074.6255083694 \n",
      "standard deviation: 1628.826149565499\n",
      "\n",
      "Users with ultimate plan:\n",
      "Mean: 1817.0 \n",
      "Varience: 2592678.825 \n",
      "standard deviation: 1610.1797492826695\n"
     ]
    },
    {
     "data": {
      "text/plain": [
       "[]"
      ]
     },
     "execution_count": 8,
     "metadata": {},
     "output_type": "execute_result"
    },
    {
     "data": {
      "image/png": "[encoded data removed]",
      "text/plain": [
       "<Figure size 864x432 with 1 Axes>"
      ]
     },
     "metadata": {
      "needs_background": "light"
     },
     "output_type": "display_data"
    }
   ],
   "source": [
    "#_______________________Analyze the data_______________________\n",
    "\n",
    "# a. Create two datasets(one for the in surf plan and the second for ultimate plan) for the next steps\n",
    "surf_plan_users = megaline_users.loc[megaline_users['plan']=='surf']\n",
    "ultimate_plan_users = megaline_users.loc[megaline_users['plan']=='ultimate']\n",
    "\n",
    "# reset index for both datasets:\n",
    "surf_plan_users.reset_index()\n",
    "ultimate_plan_users.reset_index()\n",
    "\n",
    "# b. Check mean, variance, and standard deviation for the minutes, texts, and volume of data the users of each plan\n",
    "\n",
    "#_________calls:_________\n",
    "# mean:\n",
    "surf_calls_mean = surf_plan_users['monthly_calls_duration'].mean()\n",
    "ultimate_calls_mean = ultimate_plan_users['monthly_calls_duration'].mean()\n",
    "\n",
    "# variance:\n",
    "surf_calls_varience = surf_plan_users['monthly_calls_duration'].var()\n",
    "ultimate_calls_varience = ultimate_plan_users['monthly_calls_duration'].var()\n",
    "\n",
    "# standard deviation:\n",
    "surf_calls_sigma = np.sqrt(surf_calls_varience)\n",
    "ultimate_calls_sigma = np.sqrt(ultimate_calls_varience)\n",
    "\n",
    "\n",
    "print('______Calls mean,variance, and standard deviation______')\n",
    "print('\\n'+'Users with surf plan:')\n",
    "print('Mean:',surf_calls_mean,'\\n'+'Varience:',surf_calls_varience,'\\n'+'standard deviation:',surf_calls_sigma)\n",
    "print('\\n'+'Users with ultimate plan:')\n",
    "print('Mean:',ultimate_calls_mean,'\\n'+'Varience:',ultimate_calls_varience,'\\n'+'standard deviation:',ultimate_calls_sigma)\n",
    "\n",
    "#display histogram: \n",
    "ax1 = surf_plan_users['monthly_calls_duration'].hist(figsize=(12,6),bins=8,grid=True,color='blue',label='surf plan')\n",
    "ax2 = ultimate_plan_users['monthly_calls_duration'].hist(figsize=(12,6),bins=8,grid=True,color='orange',label='ultimate plan')\n",
    "\n",
    "ax1.set_title('users calls histogram')\n",
    "ax1.set_xlabel('volume(GB)')\n",
    "ax1.set_ylabel('Amount of users')\n",
    "ax1.legend(loc='upper right')\n",
    "ax2.legend(loc='upper right')\n",
    "ax1.plot()\n",
    "ax2.plot()\n"
   ]
  },
  {
   "cell_type": "code",
   "execution_count": 9,
   "metadata": {},
   "outputs": [
    {
     "name": "stdout",
     "output_type": "stream",
     "text": [
      "______Messages mean,variance, and standard deviation______\n",
      "\n",
      "Users with surf plan:\n",
      "Mean: 144.58407079646017 \n",
      "Varience: 33340.54542598313 \n",
      "standard deviation: 182.5939358959742\n",
      "\n",
      "Users with ultimate plan:\n",
      "Mean: 167.93167701863354 \n",
      "Varience: 39411.43905279503 \n",
      "standard deviation: 198.52314487936926\n"
     ]
    },
    {
     "data": {
      "text/plain": [
       "<matplotlib.legend.Legend at 0x195b14438e0>"
      ]
     },
     "execution_count": 9,
     "metadata": {},
     "output_type": "execute_result"
    },
    {
     "data": {
      "image/png": "[encoded data removed]",
      "text/plain": [
       "<Figure size 864x432 with 1 Axes>"
      ]
     },
     "metadata": {
      "needs_background": "light"
     },
     "output_type": "display_data"
    }
   ],
   "source": [
    "#_________messages:_________\n",
    "# mean:\n",
    "surf_messages_mean = surf_plan_users['monthly_messages_number'].mean()\n",
    "ultimate_messages_mean = ultimate_plan_users['monthly_messages_number'].mean()\n",
    "\n",
    "# variance:\n",
    "surf_messages_varience = surf_plan_users['monthly_messages_number'].var()\n",
    "ultimate_messages_varience = ultimate_plan_users['monthly_messages_number'].var()\n",
    "\n",
    "# standard deviation:\n",
    "surf_messages_sigma = np.sqrt(surf_messages_varience)\n",
    "ultimate_messages_sigma = np.sqrt(ultimate_messages_varience)\n",
    "\n",
    "print('______Messages mean,variance, and standard deviation______')\n",
    "print('\\n'+'Users with surf plan:')\n",
    "print('Mean:',surf_messages_mean,'\\n'+'Varience:',surf_messages_varience,'\\n'+'standard deviation:',surf_messages_sigma)\n",
    "print('\\n'+'Users with ultimate plan:')\n",
    "print('Mean:',ultimate_messages_mean,'\\n'+'Varience:',ultimate_messages_varience,'\\n'+'standard deviation:',ultimate_messages_sigma)\n",
    "\n",
    "#display histogram: \n",
    "ax3 = surf_plan_users['monthly_messages_number'].hist(figsize=(12,6),bins=5,grid=True,color='green',label='surf plan')\n",
    "ax4 = ultimate_plan_users['monthly_messages_number'].hist(figsize=(12,6),bins=5,grid=True,color='yellow',label='ultimate plan')\n",
    "ax3.set_xlabel('Message users')\n",
    "ax3.set_ylabel('Amount of users')\n",
    "ax3.set_title('users messages histogram')\n",
    "ax3.legend(loc='upper right')\n",
    "ax4.legend(loc='upper right')\n"
   ]
  },
  {
   "cell_type": "code",
   "execution_count": 10,
   "metadata": {},
   "outputs": [
    {
     "name": "stdout",
     "output_type": "stream",
     "text": [
      "______Data volume mean,variance, and standard deviation______\n",
      "\n",
      "Users with surf plan:\n",
      "Mean: 77.33628318584071 \n",
      "Varience: 3619.3599518248934 \n",
      "standard deviation: 60.16111661052256\n",
      "\n",
      "Users with ultimate plan:\n",
      "Mean: 77.47826086956522 \n",
      "Varience: 4466.563586956521 \n",
      "standard deviation: 66.8323543424629\n"
     ]
    },
    {
     "data": {
      "text/plain": [
       "<matplotlib.legend.Legend at 0x195b14bcfd0>"
      ]
     },
     "execution_count": 10,
     "metadata": {},
     "output_type": "execute_result"
    },
    {
     "data": {
      "image/png": "[encoded data removed]",
      "text/plain": [
       "<Figure size 864x432 with 1 Axes>"
      ]
     },
     "metadata": {
      "needs_background": "light"
     },
     "output_type": "display_data"
    }
   ],
   "source": [
    "#_________Data volume:_________\n",
    "# mean:\n",
    "surf_volume_mean = surf_plan_users['monthly_volume'].mean()\n",
    "ultimate_volume_mean = ultimate_plan_users['monthly_volume'].mean()\n",
    "\n",
    "# variance:\n",
    "surf_volume_varience = surf_plan_users['monthly_volume'].var()\n",
    "ultimate_volume_varience = ultimate_plan_users['monthly_volume'].var()\n",
    "\n",
    "# standard deviation:\n",
    "surf_volume_sigma = np.sqrt(surf_volume_varience)\n",
    "ultimate_volume_sigma = np.sqrt(ultimate_volume_varience)\n",
    "\n",
    "print('______Data volume mean,variance, and standard deviation______')\n",
    "print('\\n'+'Users with surf plan:')\n",
    "print('Mean:',surf_volume_mean,'\\n'+'Varience:',surf_volume_varience,'\\n'+'standard deviation:',surf_volume_sigma)\n",
    "print('\\n'+'Users with ultimate plan:')\n",
    "print('Mean:',ultimate_volume_mean,'\\n'+'Varience:',ultimate_volume_varience,'\\n'+'standard deviation:',ultimate_volume_sigma)\n",
    "\n",
    "#display histogram: \n",
    "ax3 = surf_plan_users['monthly_volume'].hist(figsize=(12,6),bins=6,grid=True,color='purple',label='surf plan')\n",
    "ax4 = ultimate_plan_users['monthly_volume'].hist(figsize=(12,6),bins=6,grid=True,color='red',label='ultimate plan')\n",
    "\n",
    "ax3.set_title('users data volume histogram')\n",
    "ax3.legend(loc='upper right')\n",
    "ax3.set_xlabel('volume(GB)')\n",
    "ax3.set_ylabel('Amount of users')\n",
    "ax4.legend(loc='upper right')\n"
   ]
  },
  {
   "cell_type": "markdown",
   "metadata": {},
   "source": [
    "### Conclusions - Part 3"
   ]
  },
  {
   "cell_type": "markdown",
   "metadata": {},
   "source": [
    "In this chapter we have checked the data of the minutes, texts, and volume of data the users of each plan require per month.\n",
    "\n",
    "* Calls mean,variance, standard deviation and histogram.\n",
    "\n",
    "   **Users with surf plan:**\n",
    "    * Mean: 1878.1452502585441 \n",
    "    * Varience: 2653038.3498293366 \n",
    "    * Standard deviation: 1628.8150139992376\n",
    "\n",
    "   **Users with ultimate plan:**\n",
    "    * Mean: 1816.5156388608566 \n",
    "    * Varience: 2592558.9878698504 \n",
    "    * Standard deviation: 1610.1425365072032\n",
    "    \n",
    "    Histogram:\n",
    "    As we see from the histogram users from ultimate plan use more minutes than the users of surf plan.\n",
    "    type of distribution(the most close one) - Exponential  \n",
    "\n",
    "\n",
    "* Messages mean,variance, standard deviation and histogram.\n",
    "    \n",
    "   **Users with surf plan:**\n",
    "    * Mean: 144.58407079646017 \n",
    "    * Varience: 33340.54542598313 \n",
    "    * Standard deviation: 182.5939358959742\n",
    "\n",
    "   **Users with ultimate plan:**\n",
    "    * Mean: 167.93167701863354 \n",
    "    * Varience: 39411.43905279503 \n",
    "    * Standard deviation: 198.52314487936926\n",
    "    \n",
    "    Histogram:\n",
    "    As we see from the histogram users from ultimate plan and from surf plan have similler proprtion in total messages per month.\n",
    "    type of distribution(the most close one) - Exponential\n",
    "    \n",
    "    \n",
    "* Data volume mean,variance, standard deviation and histogram.\n",
    "    \n",
    "   **Users with surf plan:**\n",
    "    * Mean: 76.83238935791286 \n",
    "    * Varience: 3619.939857208292 \n",
    "    * Standard deviation: 60.16593602037861\n",
    "\n",
    "   **Users with ultimate plan:**\n",
    "    * Mean: 76.98499272411654 \n",
    "    * Varience: 4470.028210899034 \n",
    "    * Standard deviation: 66.85826957751026\n",
    "    \n",
    "Histogram:\n",
    "    As we see from the histogram users from ultimate plan use more GB than the users of surf plan.\n",
    "    type of distribution(the most close one) - Exponential  \n"
   ]
  },
  {
   "cell_type": "markdown",
   "metadata": {},
   "source": [
    "## Part 4 - Test the hypotheses "
   ]
  },
  {
   "cell_type": "code",
   "execution_count": 11,
   "metadata": {},
   "outputs": [
    {
     "name": "stdout",
     "output_type": "stream",
     "text": [
      "____________TEST1:____________\n",
      "\n",
      "Null hypothesis: The average revenue from users of Ultimate and Surf calling plans are equal.\n",
      "Alternative hypothesis: The average revenue from users of Ultimate and Surf calling plans differs.\n",
      "surf users revenue mean: 24.314955655765612\n",
      "ultimate users revenue mean: 70.01788819835794\n",
      "p-value of the alternative hypothesis: 1.0696725223470859e-280\n",
      "We reject the null hypothesis\n",
      "\n",
      "____________TEST2:____________\n",
      "\n",
      "Null hypothesis: The average revenue from users in NY-NJ area is different from that of the users from other regions.\n",
      "Alternative hypothesis: The average revenue from users in NY-NJ area is equal from that of the users from other regions.\n",
      "Users revenue mean in NY-NJ 35.190624939859845\n",
      "Users revenue revenue mean in other cities: 39.76285707631281\n",
      "p-value of the alternative hypothesis: 0.07571890672323427\n",
      "We can't reject the null hypothesis\n",
      "\n"
     ]
    }
   ],
   "source": [
    "# In this part we test 2 hypotses:\n",
    "# 1. The average revenue from users of Ultimate and Surf calling plans differs.\n",
    "# 2. The average revenue from users in NY-NJ area is different from that of the users from other regions.\n",
    "\n",
    "# your code: set a critical statistical significance level for both tests:\n",
    "alpha = 0.05\n",
    "\n",
    "#______________________First test:______________________\n",
    "\n",
    "print('____________TEST1:____________\\n')\n",
    "print('Null hypothesis: The average revenue from users of Ultimate and Surf calling plans are equal.')\n",
    "print('Alternative hypothesis: The average revenue from users of Ultimate and Surf calling plans differs.')\n",
    "\n",
    "surf_revenue_mean = surf_plan_users['monthly_revenue'].mean()\n",
    "ultimate_revenue_mean = ultimate_plan_users['monthly_revenue'].mean()\n",
    "print('surf users revenue mean:',surf_revenue_mean)\n",
    "print('ultimate users revenue mean:',ultimate_revenue_mean)\n",
    "\n",
    "results1 = st.ttest_ind(surf_plan_users['monthly_revenue'], ultimate_plan_users['monthly_revenue'],equal_var=False)\n",
    "print('p-value of the alternative hypothesis:', results1.pvalue)\n",
    "\n",
    "if (results1.pvalue<alpha):\n",
    "    print(\"We reject the null hypothesis\\n\")\n",
    "else:\n",
    "    print(\"We can't reject the null hypothesis\\n\")\n",
    "\n",
    "#______________________Second test:______________________\n",
    "\n",
    "print('____________TEST2:____________\\n')\n",
    "print('Null hypothesis: The average revenue from users in NY-NJ area is different from that of the users from other regions.')\n",
    "print('Alternative hypothesis: The average revenue from users in NY-NJ area is equal from that of the users from other regions.')\n",
    "    \n",
    "ny_nj_revenues = megaline_users[megaline_users['city'].str.contains('NY-NJ')]['monthly_revenue']\n",
    "other_revenues = megaline_users[~megaline_users['city'].str.contains('NY-NJ')]['monthly_revenue']\n",
    "\n",
    "ny_nj_revenues_mean = ny_nj_revenues.mean()\n",
    "other_revenues_mean = other_revenues.mean()\n",
    "print('Users revenue mean in NY-NJ',ny_nj_revenues_mean)\n",
    "print('Users revenue revenue mean in other cities:',other_revenues_mean)\n",
    "\n",
    "results2 = st.ttest_ind(ny_nj_revenues, other_revenues, equal_var=False)\n",
    "print('p-value of the alternative hypothesis:', results2.pvalue)\n",
    "\n",
    "if (results2.pvalue<alpha):\n",
    "    print(\"We reject the null hypothesis\\n\")\n",
    "else:\n",
    "    print(\"We can't reject the null hypothesis\\n\")"
   ]
  },
  {
   "cell_type": "markdown",
   "metadata": {},
   "source": [
    "### Conclusion - Part 4"
   ]
  },
  {
   "cell_type": "markdown",
   "metadata": {},
   "source": [
    "We have checked the two hypotheses in the following tests(with alpha of 0.05):\n",
    "* First Test:\n",
    "  We have checked two hypotheses:\n",
    "  1. *Null hypothesis* - The average revenue from users of Ultimate and Surf calling plans are equal.\n",
    "  2. *Alternative hypothesis* - The average revenue from users of Ultimate and Surf calling plans differs.\n",
    "  \n",
    "  We have calculated the p-value of the alternate hypothesis and he was smaller than 0.05(alpha) so **we reject the null    hypothesis and accept the alternative hypothesis**.\n",
    "  \n",
    "  result - The hypothesis on the equality of two users groups(the first have surf plan and the second have the ultimate plan) is rejected. \n",
    "  \n",
    "  \n",
    "* Second Test:\n",
    "  We have checked two hypotheses:\n",
    "  1. *Null hypothesis* - The average revenue from users in NY-NJ area is equal from that of the users from other regions.\n",
    "  2. *Alternative hypothesis* - The average revenue from users in NY-NJ area is different from that of the users from other regions.\n",
    "  \n",
    "  We have calculated the p-value of the alternate hypothesis and he was bigger than 0.05(alpha) so **we accept the null    hypothesis and reject the alternative hypothesis**. \n",
    "  \n",
    "  result - we reject the hypothesis that the average revenue from users in NY-NJ area is different from that of the users from other regions. "
   ]
  },
  {
   "cell_type": "markdown",
   "metadata": {},
   "source": [
    "## Overall Conclusion:"
   ]
  },
  {
   "cell_type": "markdown",
   "metadata": {},
   "source": [
    "In the project we did those steps:\n",
    "1. Read the 5 datasets and check their general information.\n",
    "2. **Prepare the data** - fix columns types and create new columns for bette analysis of our data.\n",
    "3. **Analyze the data** - check the mean, varience, standard deviation and histogram of the messages, calls and the Data volume. we see from the histogram the that data propertion between the users surf plan and the users ultimate plan are pretty similer.\n",
    "4. **Test the hypotheses** - we have checked 2 hypotheses, with alpha of 0.05:\n",
    "    * The average revenue from users of Ultimate and Surf calling plans differs - we rejected this hypotesis because the oposite(alternative) hypotesis had a really small p-value so we accepted the hypothesis of the equality of two users groups(the first have surf plan and the second have the ultimate plan).\n",
    "    * The average revenue from users in NY-NJ area is different from that of the users from other regions - We accepted this hypotesis because the oposite(alternative) hypotesis had bigger p-value than the alpha we set.\n",
    "    "
   ]
  }
 ],
 "metadata": {
  "ExecuteTimeLog": [
   {
    "duration": 443,
    "start_time": "2021-06-30T06:48:59.511Z"
   },
   {
    "duration": 4,
    "start_time": "2021-06-30T06:49:19.832Z"
   },
   {
    "duration": 109,
    "start_time": "2021-06-30T06:49:21.639Z"
   },
   {
    "duration": 861,
    "start_time": "2021-06-30T06:49:54.178Z"
   },
   {
    "duration": 409,
    "start_time": "2021-06-30T06:53:26.329Z"
   },
   {
    "duration": 409,
    "start_time": "2021-06-30T06:53:37.218Z"
   },
   {
    "duration": 433,
    "start_time": "2021-06-30T06:55:59.336Z"
   },
   {
    "duration": 481,
    "start_time": "2021-06-30T07:02:13.314Z"
   },
   {
    "duration": 532,
    "start_time": "2021-06-30T07:02:48.244Z"
   },
   {
    "duration": 536,
    "start_time": "2021-06-30T07:06:35.100Z"
   },
   {
    "duration": 542,
    "start_time": "2021-06-30T07:07:27.099Z"
   },
   {
    "duration": 554,
    "start_time": "2021-06-30T07:10:07.964Z"
   },
   {
    "duration": 553,
    "start_time": "2021-06-30T07:11:14.651Z"
   },
   {
    "duration": 552,
    "start_time": "2021-06-30T07:12:50.964Z"
   },
   {
    "duration": 848,
    "start_time": "2021-06-30T13:33:47.459Z"
   },
   {
    "duration": 567,
    "start_time": "2021-06-30T13:33:49.489Z"
   },
   {
    "duration": 4,
    "start_time": "2021-06-30T13:33:53.198Z"
   },
   {
    "duration": 6,
    "start_time": "2021-06-30T13:34:21.408Z"
   },
   {
    "duration": 806,
    "start_time": "2021-07-01T18:11:52.533Z"
   },
   {
    "duration": 558,
    "start_time": "2021-07-01T18:11:57.048Z"
   },
   {
    "duration": 819,
    "start_time": "2021-07-01T22:38:59.976Z"
   },
   {
    "duration": 554,
    "start_time": "2021-07-01T22:39:02.126Z"
   },
   {
    "duration": 350,
    "start_time": "2021-07-01T22:39:06.275Z"
   },
   {
    "duration": 324,
    "start_time": "2021-07-01T22:39:24.608Z"
   },
   {
    "duration": 1522,
    "start_time": "2021-07-01T22:40:11.423Z"
   },
   {
    "duration": 1177,
    "start_time": "2021-07-01T22:41:16.034Z"
   },
   {
    "duration": 1180,
    "start_time": "2021-07-01T22:41:49.512Z"
   },
   {
    "duration": 353,
    "start_time": "2021-07-01T22:42:28.624Z"
   },
   {
    "duration": 363,
    "start_time": "2021-07-01T22:47:40.346Z"
   },
   {
    "duration": 348,
    "start_time": "2021-07-01T22:48:01.277Z"
   },
   {
    "duration": 343,
    "start_time": "2021-07-01T22:51:51.025Z"
   },
   {
    "duration": 915,
    "start_time": "2021-07-02T05:56:26.515Z"
   },
   {
    "duration": 550,
    "start_time": "2021-07-02T05:56:28.346Z"
   },
   {
    "duration": 445,
    "start_time": "2021-07-02T05:56:33.748Z"
   },
   {
    "duration": 690,
    "start_time": "2021-07-02T06:09:29.942Z"
   },
   {
    "duration": 795,
    "start_time": "2021-07-02T06:10:23.093Z"
   },
   {
    "duration": 1059,
    "start_time": "2021-07-02T06:43:33.330Z"
   },
   {
    "duration": 880,
    "start_time": "2021-07-02T06:46:05.404Z"
   },
   {
    "duration": 3611,
    "start_time": "2021-07-02T09:01:40.562Z"
   },
   {
    "duration": 917,
    "start_time": "2021-07-02T09:04:29.209Z"
   },
   {
    "duration": 1001,
    "start_time": "2021-07-02T10:31:40.861Z"
   },
   {
    "duration": 857,
    "start_time": "2021-07-02T13:02:24.607Z"
   },
   {
    "duration": 578,
    "start_time": "2021-07-02T13:02:25.532Z"
   },
   {
    "duration": 1222,
    "start_time": "2021-07-02T16:22:26.217Z"
   },
   {
    "duration": 655,
    "start_time": "2021-07-02T16:22:28.414Z"
   },
   {
    "duration": 1371,
    "start_time": "2021-07-02T16:22:33.200Z"
   },
   {
    "duration": 7162,
    "start_time": "2021-07-02T16:23:24.159Z"
   },
   {
    "duration": 1740,
    "start_time": "2021-07-02T16:25:09.538Z"
   },
   {
    "duration": 4,
    "start_time": "2021-07-02T17:08:37.176Z"
   },
   {
    "duration": 578,
    "start_time": "2021-07-02T17:08:39.425Z"
   },
   {
    "duration": 2365,
    "start_time": "2021-07-02T17:08:42.569Z"
   },
   {
    "duration": 2847,
    "start_time": "2021-07-02T18:00:08.237Z"
   },
   {
    "duration": 1023,
    "start_time": "2021-07-03T07:42:22.554Z"
   },
   {
    "duration": 533,
    "start_time": "2021-07-03T07:42:23.789Z"
   },
   {
    "duration": 103,
    "start_time": "2021-07-03T07:42:28.749Z"
   },
   {
    "duration": 9179,
    "start_time": "2021-07-03T07:43:06.486Z"
   },
   {
    "duration": 3098,
    "start_time": "2021-07-03T07:43:38.875Z"
   },
   {
    "duration": 2913,
    "start_time": "2021-07-03T07:44:00.474Z"
   },
   {
    "duration": 2768,
    "start_time": "2021-07-03T07:45:26.816Z"
   },
   {
    "duration": 625,
    "start_time": "2021-07-03T08:01:32.630Z"
   },
   {
    "duration": 96,
    "start_time": "2021-07-03T08:01:52.884Z"
   },
   {
    "duration": 97,
    "start_time": "2021-07-03T08:02:11.333Z"
   },
   {
    "duration": 107,
    "start_time": "2021-07-03T08:02:37.030Z"
   },
   {
    "duration": 98,
    "start_time": "2021-07-03T08:03:17.771Z"
   },
   {
    "duration": 109,
    "start_time": "2021-07-03T08:04:01.652Z"
   },
   {
    "duration": 110,
    "start_time": "2021-07-03T08:04:27.000Z"
   },
   {
    "duration": 3804,
    "start_time": "2021-07-03T08:04:45.505Z"
   },
   {
    "duration": 3320,
    "start_time": "2021-07-03T08:05:14.440Z"
   },
   {
    "duration": 10438,
    "start_time": "2021-07-03T08:40:59.766Z"
   },
   {
    "duration": 10849,
    "start_time": "2021-07-03T08:44:57.995Z"
   },
   {
    "duration": 9789,
    "start_time": "2021-07-03T08:57:11.148Z"
   },
   {
    "duration": 4047,
    "start_time": "2021-07-03T08:58:02.856Z"
   },
   {
    "duration": 7265,
    "start_time": "2021-07-03T08:59:45.361Z"
   },
   {
    "duration": 7574,
    "start_time": "2021-07-03T09:02:42.073Z"
   },
   {
    "duration": 7396,
    "start_time": "2021-07-03T09:04:10.505Z"
   },
   {
    "duration": 4,
    "start_time": "2021-07-03T09:49:10.351Z"
   },
   {
    "duration": 552,
    "start_time": "2021-07-03T09:49:11.304Z"
   },
   {
    "duration": 15,
    "start_time": "2021-07-03T09:49:14.751Z"
   },
   {
    "duration": 7283,
    "start_time": "2021-07-03T09:49:17.736Z"
   },
   {
    "duration": 6507,
    "start_time": "2021-07-03T09:49:35.978Z"
   },
   {
    "duration": 41,
    "start_time": "2021-07-03T09:50:02.616Z"
   },
   {
    "duration": 43,
    "start_time": "2021-07-03T09:53:10.173Z"
   },
   {
    "duration": 15,
    "start_time": "2021-07-03T10:04:51.340Z"
   },
   {
    "duration": 3,
    "start_time": "2021-07-03T10:27:50.726Z"
   },
   {
    "duration": 589,
    "start_time": "2021-07-03T10:27:51.775Z"
   },
   {
    "duration": 17,
    "start_time": "2021-07-03T10:27:58.472Z"
   },
   {
    "duration": 7807,
    "start_time": "2021-07-03T10:28:00.831Z"
   },
   {
    "duration": 343,
    "start_time": "2021-07-03T10:28:08.640Z"
   },
   {
    "duration": 463,
    "start_time": "2021-07-03T10:30:13.818Z"
   },
   {
    "duration": 379,
    "start_time": "2021-07-03T10:31:19.886Z"
   },
   {
    "duration": 388,
    "start_time": "2021-07-03T10:32:06.523Z"
   },
   {
    "duration": 490,
    "start_time": "2021-07-03T10:32:44.006Z"
   },
   {
    "duration": 480,
    "start_time": "2021-07-03T10:33:04.989Z"
   },
   {
    "duration": 457,
    "start_time": "2021-07-03T10:33:38.948Z"
   },
   {
    "duration": 435,
    "start_time": "2021-07-03T10:34:32.488Z"
   },
   {
    "duration": 442,
    "start_time": "2021-07-03T10:35:09.072Z"
   },
   {
    "duration": 478,
    "start_time": "2021-07-03T10:35:40.241Z"
   },
   {
    "duration": 400,
    "start_time": "2021-07-03T10:35:57.935Z"
   },
   {
    "duration": 655,
    "start_time": "2021-07-03T10:37:01.057Z"
   },
   {
    "duration": 379,
    "start_time": "2021-07-03T10:38:29.043Z"
   },
   {
    "duration": 332,
    "start_time": "2021-07-03T10:38:43.407Z"
   },
   {
    "duration": 745,
    "start_time": "2021-07-03T10:39:13.150Z"
   },
   {
    "duration": 419,
    "start_time": "2021-07-03T10:39:48.040Z"
   },
   {
    "duration": 404,
    "start_time": "2021-07-03T10:41:31.311Z"
   },
   {
    "duration": 403,
    "start_time": "2021-07-03T10:44:57.802Z"
   },
   {
    "duration": 404,
    "start_time": "2021-07-03T10:45:13.603Z"
   },
   {
    "duration": 22,
    "start_time": "2021-07-03T10:45:43.823Z"
   },
   {
    "duration": 21,
    "start_time": "2021-07-03T10:47:47.720Z"
   },
   {
    "duration": 23,
    "start_time": "2021-07-03T10:48:23.284Z"
   },
   {
    "duration": 443,
    "start_time": "2021-07-03T10:48:57.159Z"
   },
   {
    "duration": 616,
    "start_time": "2021-07-03T10:50:50.290Z"
   },
   {
    "duration": 790,
    "start_time": "2021-07-03T10:53:30.245Z"
   },
   {
    "duration": 696,
    "start_time": "2021-07-03T10:57:04.841Z"
   },
   {
    "duration": 778,
    "start_time": "2021-07-03T10:58:18.101Z"
   },
   {
    "duration": 927,
    "start_time": "2021-07-03T11:00:17.464Z"
   },
   {
    "duration": 1026,
    "start_time": "2021-07-03T11:02:56.453Z"
   },
   {
    "duration": 421,
    "start_time": "2021-07-03T11:06:54.465Z"
   },
   {
    "duration": 428,
    "start_time": "2021-07-03T11:13:06.150Z"
   },
   {
    "duration": 104,
    "start_time": "2021-07-03T11:16:47.271Z"
   },
   {
    "duration": 446,
    "start_time": "2021-07-03T11:19:12.164Z"
   },
   {
    "duration": 449,
    "start_time": "2021-07-03T11:22:43.214Z"
   },
   {
    "duration": 387,
    "start_time": "2021-07-03T11:23:12.297Z"
   },
   {
    "duration": 618,
    "start_time": "2021-07-03T11:23:45.427Z"
   },
   {
    "duration": 408,
    "start_time": "2021-07-03T11:24:31.424Z"
   },
   {
    "duration": 452,
    "start_time": "2021-07-03T11:25:48.439Z"
   },
   {
    "duration": 464,
    "start_time": "2021-07-03T11:26:13.388Z"
   },
   {
    "duration": 440,
    "start_time": "2021-07-03T11:27:03.279Z"
   },
   {
    "duration": 426,
    "start_time": "2021-07-03T11:27:46.127Z"
   },
   {
    "duration": 465,
    "start_time": "2021-07-03T11:28:33.452Z"
   },
   {
    "duration": 470,
    "start_time": "2021-07-03T11:29:38.126Z"
   },
   {
    "duration": 520,
    "start_time": "2021-07-03T11:36:38.997Z"
   },
   {
    "duration": 523,
    "start_time": "2021-07-03T11:37:25.580Z"
   },
   {
    "duration": 514,
    "start_time": "2021-07-03T11:38:28.949Z"
   },
   {
    "duration": 474,
    "start_time": "2021-07-03T11:39:11.522Z"
   },
   {
    "duration": 445,
    "start_time": "2021-07-03T11:39:21.282Z"
   },
   {
    "duration": 600,
    "start_time": "2021-07-03T11:39:43.743Z"
   },
   {
    "duration": 503,
    "start_time": "2021-07-03T11:40:30.107Z"
   },
   {
    "duration": 460,
    "start_time": "2021-07-03T11:41:06.741Z"
   },
   {
    "duration": 503,
    "start_time": "2021-07-03T11:41:23.165Z"
   },
   {
    "duration": 527,
    "start_time": "2021-07-03T11:41:39.580Z"
   },
   {
    "duration": 449,
    "start_time": "2021-07-03T11:42:01.696Z"
   },
   {
    "duration": 447,
    "start_time": "2021-07-03T11:42:16.163Z"
   },
   {
    "duration": 463,
    "start_time": "2021-07-03T11:42:37.292Z"
   },
   {
    "duration": 712,
    "start_time": "2021-07-03T11:42:58.415Z"
   },
   {
    "duration": 432,
    "start_time": "2021-07-03T12:46:20.765Z"
   },
   {
    "duration": 415,
    "start_time": "2021-07-03T12:48:30.581Z"
   },
   {
    "duration": 846,
    "start_time": "2021-07-03T12:49:54.596Z"
   },
   {
    "duration": 459,
    "start_time": "2021-07-03T12:50:15.254Z"
   },
   {
    "duration": 457,
    "start_time": "2021-07-03T12:50:33.817Z"
   },
   {
    "duration": 464,
    "start_time": "2021-07-03T12:50:48.204Z"
   },
   {
    "duration": 617,
    "start_time": "2021-07-03T12:51:14.075Z"
   },
   {
    "duration": 647,
    "start_time": "2021-07-03T12:51:32.889Z"
   },
   {
    "duration": 489,
    "start_time": "2021-07-03T13:04:36.939Z"
   },
   {
    "duration": 1370,
    "start_time": "2021-07-03T14:52:50.489Z"
   },
   {
    "duration": 648,
    "start_time": "2021-07-03T14:52:52.117Z"
   },
   {
    "duration": 13,
    "start_time": "2021-07-03T14:52:58.287Z"
   },
   {
    "duration": 8608,
    "start_time": "2021-07-03T14:53:02.865Z"
   },
   {
    "duration": 425,
    "start_time": "2021-07-03T14:53:11.476Z"
   },
   {
    "duration": 449,
    "start_time": "2021-07-03T14:54:12.442Z"
   },
   {
    "duration": 431,
    "start_time": "2021-07-03T14:54:25.377Z"
   },
   {
    "duration": 465,
    "start_time": "2021-07-03T14:54:34.367Z"
   },
   {
    "duration": 6781,
    "start_time": "2021-07-03T15:19:03.845Z"
   },
   {
    "duration": 6,
    "start_time": "2021-07-03T15:19:59.702Z"
   },
   {
    "duration": 293,
    "start_time": "2021-07-03T15:21:23.577Z"
   },
   {
    "duration": 99,
    "start_time": "2021-07-03T15:35:59.428Z"
   },
   {
    "duration": 12,
    "start_time": "2021-07-03T15:36:10.963Z"
   },
   {
    "duration": 104,
    "start_time": "2021-07-03T15:41:24.510Z"
   },
   {
    "duration": 9,
    "start_time": "2021-07-03T15:41:36.972Z"
   },
   {
    "duration": 10,
    "start_time": "2021-07-03T15:43:23.852Z"
   },
   {
    "duration": 279,
    "start_time": "2021-07-03T15:53:57.192Z"
   },
   {
    "duration": 16,
    "start_time": "2021-07-03T15:54:49.531Z"
   },
   {
    "duration": 18,
    "start_time": "2021-07-03T15:59:48.693Z"
   },
   {
    "duration": 17,
    "start_time": "2021-07-03T16:00:16.826Z"
   },
   {
    "duration": 6317,
    "start_time": "2021-07-03T16:02:15.056Z"
   },
   {
    "duration": 19,
    "start_time": "2021-07-03T16:04:03.233Z"
   },
   {
    "duration": 32,
    "start_time": "2021-07-03T16:22:52.354Z"
   },
   {
    "duration": 38,
    "start_time": "2021-07-03T16:25:39.547Z"
   },
   {
    "duration": 27,
    "start_time": "2021-07-03T16:42:29.933Z"
   },
   {
    "duration": 23,
    "start_time": "2021-07-03T16:43:04.270Z"
   },
   {
    "duration": 23,
    "start_time": "2021-07-03T16:46:29.595Z"
   },
   {
    "duration": 5,
    "start_time": "2021-07-03T17:43:46.704Z"
   },
   {
    "duration": 630,
    "start_time": "2021-07-03T17:43:47.455Z"
   },
   {
    "duration": 15,
    "start_time": "2021-07-03T17:43:52.565Z"
   },
   {
    "duration": 7723,
    "start_time": "2021-07-03T17:43:57.167Z"
   },
   {
    "duration": 710,
    "start_time": "2021-07-03T17:44:04.893Z"
   },
   {
    "duration": 449,
    "start_time": "2021-07-03T17:46:17.523Z"
   },
   {
    "duration": 417,
    "start_time": "2021-07-03T17:46:58.329Z"
   },
   {
    "duration": 469,
    "start_time": "2021-07-03T17:48:49.918Z"
   },
   {
    "duration": 4,
    "start_time": "2021-07-03T17:52:29.578Z"
   },
   {
    "duration": 574,
    "start_time": "2021-07-03T17:52:31.381Z"
   },
   {
    "duration": 17,
    "start_time": "2021-07-03T17:52:34.546Z"
   },
   {
    "duration": 6032,
    "start_time": "2021-07-03T17:53:08.730Z"
   },
   {
    "duration": 3,
    "start_time": "2021-07-03T17:54:34.992Z"
   },
   {
    "duration": 619,
    "start_time": "2021-07-03T17:54:36.045Z"
   },
   {
    "duration": 13,
    "start_time": "2021-07-03T17:54:43.494Z"
   },
   {
    "duration": 7141,
    "start_time": "2021-07-03T17:54:46.714Z"
   },
   {
    "duration": 447,
    "start_time": "2021-07-03T17:55:04.789Z"
   },
   {
    "duration": 420,
    "start_time": "2021-07-03T17:55:16.587Z"
   },
   {
    "duration": 471,
    "start_time": "2021-07-03T17:55:22.565Z"
   },
   {
    "duration": 25,
    "start_time": "2021-07-03T17:55:56.942Z"
   },
   {
    "duration": 24,
    "start_time": "2021-07-03T18:13:30.287Z"
   },
   {
    "duration": 1030,
    "start_time": "2021-07-04T11:30:11.479Z"
   },
   {
    "duration": 360,
    "start_time": "2021-07-04T11:30:12.511Z"
   },
   {
    "duration": 25,
    "start_time": "2021-07-04T11:30:12.873Z"
   },
   {
    "duration": 3616,
    "start_time": "2021-07-04T11:30:12.900Z"
   },
   {
    "duration": 249,
    "start_time": "2021-07-04T11:30:16.518Z"
   },
   {
    "duration": 243,
    "start_time": "2021-07-04T11:30:16.769Z"
   },
   {
    "duration": 251,
    "start_time": "2021-07-04T11:30:17.013Z"
   },
   {
    "duration": 13,
    "start_time": "2021-07-04T11:30:17.266Z"
   },
   {
    "duration": 1294,
    "start_time": "2021-07-04T15:47:44.362Z"
   },
   {
    "duration": 414,
    "start_time": "2021-07-04T15:47:46.926Z"
   },
   {
    "duration": 308,
    "start_time": "2021-07-04T15:59:10.159Z"
   },
   {
    "duration": 1053,
    "start_time": "2021-07-04T16:01:07.324Z"
   },
   {
    "duration": 697,
    "start_time": "2021-07-04T16:19:38.413Z"
   },
   {
    "duration": 680,
    "start_time": "2021-07-04T16:23:26.859Z"
   },
   {
    "duration": 663,
    "start_time": "2021-07-04T16:24:15.755Z"
   },
   {
    "duration": 4,
    "start_time": "2021-07-04T17:19:56.109Z"
   },
   {
    "duration": 830,
    "start_time": "2021-07-04T17:20:01.570Z"
   },
   {
    "duration": 19,
    "start_time": "2021-07-04T17:20:15.254Z"
   },
   {
    "duration": 7092,
    "start_time": "2021-07-04T17:20:22.074Z"
   },
   {
    "duration": 4,
    "start_time": "2021-07-04T17:21:55.319Z"
   },
   {
    "duration": 785,
    "start_time": "2021-07-04T17:21:56.767Z"
   },
   {
    "duration": 16,
    "start_time": "2021-07-04T17:22:02.087Z"
   },
   {
    "duration": 6752,
    "start_time": "2021-07-04T17:22:06.571Z"
   },
   {
    "duration": 6867,
    "start_time": "2021-07-04T17:36:01.376Z"
   },
   {
    "duration": 7532,
    "start_time": "2021-07-04T17:36:46.418Z"
   },
   {
    "duration": 4,
    "start_time": "2021-07-04T17:37:03.480Z"
   },
   {
    "duration": 744,
    "start_time": "2021-07-04T17:37:04.222Z"
   },
   {
    "duration": 769,
    "start_time": "2021-07-04T17:37:09.703Z"
   },
   {
    "duration": 19,
    "start_time": "2021-07-04T17:37:20.663Z"
   },
   {
    "duration": 7115,
    "start_time": "2021-07-04T17:37:24.373Z"
   },
   {
    "duration": 527,
    "start_time": "2021-07-04T17:41:46.150Z"
   },
   {
    "duration": 582,
    "start_time": "2021-07-04T17:41:52.627Z"
   },
   {
    "duration": 534,
    "start_time": "2021-07-04T17:41:59.221Z"
   },
   {
    "duration": 447,
    "start_time": "2021-07-04T17:48:40.044Z"
   },
   {
    "duration": 453,
    "start_time": "2021-07-04T17:49:00.937Z"
   },
   {
    "duration": 575,
    "start_time": "2021-07-04T17:49:11.915Z"
   },
   {
    "duration": 492,
    "start_time": "2021-07-04T17:49:33.836Z"
   },
   {
    "duration": 27,
    "start_time": "2021-07-04T17:51:44.524Z"
   },
   {
    "duration": 2210,
    "start_time": "2021-07-09T20:50:04.201Z"
   },
   {
    "duration": 1412,
    "start_time": "2021-07-09T20:50:08.963Z"
   },
   {
    "duration": 1328,
    "start_time": "2021-07-11T17:11:48.226Z"
   },
   {
    "duration": 721,
    "start_time": "2021-07-11T17:11:52.920Z"
   },
   {
    "duration": 4,
    "start_time": "2021-07-11T17:31:03.295Z"
   },
   {
    "duration": 732,
    "start_time": "2021-07-11T17:31:04.266Z"
   },
   {
    "duration": 666,
    "start_time": "2021-07-11T17:31:38.143Z"
   }
  ],
  "kernelspec": {
   "display_name": "Python 3",
   "language": "python",
   "name": "python3"
  },
  "language_info": {
   "codemirror_mode": {
    "name": "ipython",
    "version": 3
   },
   "file_extension": ".py",
   "mimetype": "text/x-python",
   "name": "python",
   "nbconvert_exporter": "python",
   "pygments_lexer": "ipython3",
   "version": "3.8.5"
  },
  "toc": {
   "base_numbering": 1,
   "nav_menu": {},
   "number_sections": true,
   "sideBar": true,
   "skip_h1_title": true,
   "title_cell": "Table of Contents",
   "title_sidebar": "Contents",
   "toc_cell": false,
   "toc_position": {},
   "toc_section_display": true,
   "toc_window_display": false
  }
 },
 "nbformat": 4,
 "nbformat_minor": 2
}
